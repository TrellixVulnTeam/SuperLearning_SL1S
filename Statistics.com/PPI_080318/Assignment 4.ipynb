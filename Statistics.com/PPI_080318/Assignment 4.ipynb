{
 "cells": [
  {
   "cell_type": "markdown",
   "metadata": {},
   "source": [
    "# Assignment 4\n",
    "\n",
    "### (12 Marks)\n",
    "\n",
    "If you have not already done so, download the following csv file:\n",
    "\n",
    "* [tips.csv](https://www.dropbox.com/s/br6p2brp54cjpla/tips.csv?dl=1)\n",
    "\n",
    "Using the tips.csv file, pandas and matplotlib (pyplot), complete the following exercises:\n",
    "\n",
    "(assume total_bill is the cost of the meal without the tip and assume the values are in US dollars)\n",
    "\n",
    "* Show the file info\n",
    "* Display the first 5 rows of the file\n",
    "* Display the last 5 rows of the file\n",
    "* Display the minimum and maximum tips\n",
    "* Display the minimum and maximum meal cost\n",
    "* Display the average tip\n",
    "* Display the average meal cost\n",
    "* Create a new column that displays the total cost (total_cost) of each meal (total_bill + tip) and find the average total_cost of the meals\n",
    "* On average, who tips more in this data set, males or females?\n",
    "\n",
    "With matplotlib, display the following graphs\n",
    "\n",
    "* Display a scatterplot of total_bill (x-axis) vs. tip (y-axis), label the axes and add a title\n",
    "* Display a box plot of the tips\n",
    "* Display a histogram of female tip amounts, label the x-axis\n",
    "* Display a histogram of male tip amounts, label the x-axis\n",
    " "
   ]
  },
  {
   "cell_type": "code",
   "execution_count": null,
   "metadata": {},
   "outputs": [],
   "source": []
  },
  {
   "cell_type": "markdown",
   "metadata": {},
   "source": [
    "Go to the matplotlib website and copy the code from an example plot... any example plot that looks interesting or pleasing to you.  There is no other requirement for this exercise.  \n",
    "\n",
    "Paste the code in the cell below and display the graph.  Yes, this is easy and somewhat trivial... but I want to be dazzled by something neat  :-)"
   ]
  },
  {
   "cell_type": "code",
   "execution_count": null,
   "metadata": {},
   "outputs": [],
   "source": []
  }
 ],
 "metadata": {
  "kernelspec": {
   "display_name": "Python 3",
   "language": "python",
   "name": "python3"
  },
  "language_info": {
   "codemirror_mode": {
    "name": "ipython",
    "version": 3
   },
   "file_extension": ".py",
   "mimetype": "text/x-python",
   "name": "python",
   "nbconvert_exporter": "python",
   "pygments_lexer": "ipython3",
   "version": "3.6.4"
  }
 },
 "nbformat": 4,
 "nbformat_minor": 2
}
