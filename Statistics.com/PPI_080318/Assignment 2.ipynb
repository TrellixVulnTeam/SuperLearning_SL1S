{
 "cells": [
  {
   "cell_type": "markdown",
   "metadata": {},
   "source": [
    "# Assignment 2"
   ]
  },
  {
   "cell_type": "markdown",
   "metadata": {},
   "source": [
    "## Exercise 1 (6 Marks)\n",
    "\n",
    "* Create a list with 10 string or name items and print the list\n",
    "* Remove the last 3 items from the list\n",
    "* Append 3 new items to the list\n",
    "* Insert 1 new item between items 4 and 5\n",
    "* Change item 2 to something different\n",
    "* Take a slice from the list and print it\n",
    "\n",
    "Remember to print each result.  You can do all items in one Python cell if you want.  Use remark (#) statements to label each part of your solution.  If you need to separate the output for neatness, you can insert an empty print() statement or use whitespace.\n",
    "\n",
    "Use the code cell below for your solution."
   ]
  },
  {
   "cell_type": "code",
   "execution_count": null,
   "metadata": {},
   "outputs": [],
   "source": []
  },
  {
   "cell_type": "markdown",
   "metadata": {},
   "source": [
    "## Exercise 2 (3 Marks)\n",
    "\n",
    "Write a program that calculates and prints the first 50 powers of 2 minus 1.  Instead of using n\\*\\*2, you will need the following function (which we used earlier in the course):\n",
    "\n",
    "2\\*\\*n - 1\n",
    "\n",
    "Hint:  Use the squares program in Notebook 2 as a model.\n",
    "\n",
    "\n",
    "Use the code cell below for your solution."
   ]
  },
  {
   "cell_type": "code",
   "execution_count": null,
   "metadata": {},
   "outputs": [],
   "source": []
  },
  {
   "cell_type": "markdown",
   "metadata": {},
   "source": [
    "## Exercise 3 (6 Marks)\n",
    "\n",
    "Write a program that finds the sum of the first 1000 even integers.  Not the evens from 1 to 1000, but the first **1000** even integers.  Also calculate the average of the 1000 even integers. Print the length of the list, the sum of the list, the average of the list and the last 5 even numbers in the list. "
   ]
  },
  {
   "cell_type": "code",
   "execution_count": null,
   "metadata": {},
   "outputs": [],
   "source": []
  }
 ],
 "metadata": {
  "kernelspec": {
   "display_name": "Python 3",
   "language": "python",
   "name": "python3"
  },
  "language_info": {
   "codemirror_mode": {
    "name": "ipython",
    "version": 3
   },
   "file_extension": ".py",
   "mimetype": "text/x-python",
   "name": "python",
   "nbconvert_exporter": "python",
   "pygments_lexer": "ipython3",
   "version": "3.6.5"
  }
 },
 "nbformat": 4,
 "nbformat_minor": 2
}
