{
 "cells": [
  {
   "cell_type": "markdown",
   "metadata": {},
   "source": [
    "# Variables, Strings, Numbers and Calculations\n",
    "\n",
    "In this notebook you will learn how to store data into variables for later use by a Python script.  We will also look at using the data stored in the variables for manipulations and calculations.\n",
    "\n",
    "### Variables\n",
    "\n",
    "A variable is a symbol or word that holds or stores a value of some type, either numeric or string (i.e. characters, words, sentences, lists).  You can think of a variable as a box where you can place or store something you want to keep.  Variable names can be almost anything, but there are some rules and recommendations:\n",
    " * Variables can contain letters, numbers and underscores (no other characters), but can't start with a number.\n",
    "  * n, score, \\_ab, Art3mis and this_IS_a_variable are all legal variable names\n",
    "  * 4thname and ab#cd are not\n",
    " * You can't use any Python key word (i.e. print) as a variable\n",
    " * You can't use spaces in a variable.  My_name is a legal variable. 'My name' is not\n",
    " * Variable names should be descriptive of the data they contain, without being too complex\n",
    " * Avoid using capital I and O in variable names.  Those characters can look like 1 and 0.\n",
    " * It's OK to use single letter variables for simple 'throw-away' scripts.  However, Python scripts that you will use long-term or that others might read and use should have variable names that are descriptive (again, without being too long).  You would be surprised how easy it is to forget why and how you wrote your own code.  Descriptive variables help."
   ]
  },
  {
   "cell_type": "markdown",
   "metadata": {},
   "source": [
    "### Run each Code cell in sequential order and complete each Try It Yourself exercise  \n",
    "  "
   ]
  },
  {
   "cell_type": "code",
   "execution_count": 1,
   "metadata": {},
   "outputs": [
    {
     "name": "stdout",
     "output_type": "stream",
     "text": [
      "hello world!\n"
     ]
    }
   ],
   "source": [
    "# hello world re-visited\n",
    "message = \"hello world!\"\n",
    "print(message)"
   ]
  },
  {
   "cell_type": "markdown",
   "metadata": {},
   "source": [
    "The \\# character begins a remark statement. Remark statements are excellent reminders of what you did and how a program functions at that point.  Like descriptive variable names, they help jog your memory and if others need to read and understand your code (because you've taken a better job elsewhere?).  You can't have too many remark statements.  Python will ignore any statement after the \\# on that line of code.  \n",
    "\n",
    "\"hello world!\" is a string of characters (hence, a string) and this string is stored in the variable 'message' for later use in the print statement. You should interpret the = sign from right to left.  The right side of the = is stored in the variable on the left side, so \"hello world!\" is stored in message.\n",
    "\n",
    "The print(message) statement displays the content of the message variable.  In Python 3.6, you must place parentheses around any variable, statement or string that you want to display on the screen."
   ]
  },
  {
   "cell_type": "code",
   "execution_count": 2,
   "metadata": {},
   "outputs": [
    {
     "name": "stdout",
     "output_type": "stream",
     "text": [
      "hello world!\n"
     ]
    }
   ],
   "source": [
    "# hello world again... what's the difference?\n",
    "message = 'hello world!'\n",
    "print(message)"
   ]
  },
  {
   "cell_type": "markdown",
   "metadata": {},
   "source": [
    "You can use either double quotes, i.e. \"some string\" or single quotes i.e. 'some string' to encapsulate a string stored in a variable.  Python really doesn't distinguish between the two."
   ]
  },
  {
   "cell_type": "code",
   "execution_count": 3,
   "metadata": {},
   "outputs": [
    {
     "ename": "SyntaxError",
     "evalue": "invalid syntax (<ipython-input-3-a1217ab84a18>, line 2)",
     "output_type": "error",
     "traceback": [
      "\u001b[0;36m  File \u001b[0;32m\"<ipython-input-3-a1217ab84a18>\"\u001b[0;36m, line \u001b[0;32m2\u001b[0m\n\u001b[0;31m    message = hello world\u001b[0m\n\u001b[0m                        ^\u001b[0m\n\u001b[0;31mSyntaxError\u001b[0m\u001b[0;31m:\u001b[0m invalid syntax\n"
     ]
    }
   ],
   "source": [
    "# and again... this time without quotes\n",
    "message = hello world\n",
    "print(message)"
   ]
  },
  {
   "cell_type": "markdown",
   "metadata": {},
   "source": [
    "Ah!  A syntax error!  I wish I had a dollar for every one of these I've seen in my own code.  Apparently you can't save a string of characters without using either single or double quotes.  Go ahead and fix my mistake in the cell below:"
   ]
  },
  {
   "cell_type": "code",
   "execution_count": 4,
   "metadata": {},
   "outputs": [
    {
     "name": "stdout",
     "output_type": "stream",
     "text": [
      "hello world\n"
     ]
    }
   ],
   "source": [
    "# and again... this time without quotes\n",
    "message = \"hello world\"\n",
    "print(message)"
   ]
  },
  {
   "cell_type": "markdown",
   "metadata": {},
   "source": [
    "Look at this code"
   ]
  },
  {
   "cell_type": "code",
   "execution_count": 5,
   "metadata": {},
   "outputs": [
    {
     "name": "stdout",
     "output_type": "stream",
     "text": [
      "hello world\n"
     ]
    }
   ],
   "source": [
    "# the last hello world...\n",
    "mesage = 'hello world!'\n",
    "print(message)"
   ]
  },
  {
   "cell_type": "markdown",
   "metadata": {},
   "source": [
    "Did you expect an error?  Look carefully at the variable assignment statement.  The variable mesage is not the same as the variable message used in the print statement, yet there is no error!  Why do you think that is?  If you have been running each cell in sequential order from the top down, the variable message was defined as 'hello world!' in a previous cell.  We did not erase or change the value stored in 'message' and that value is still there.  This is NOT a syntax error, but it's still an error.  These error types are more subtle and more difficult to solve. "
   ]
  },
  {
   "cell_type": "code",
   "execution_count": 6,
   "metadata": {},
   "outputs": [
    {
     "ename": "NameError",
     "evalue": "name 'misspeling' is not defined",
     "output_type": "error",
     "traceback": [
      "\u001b[0;31m--------------------------------------\u001b[0m",
      "\u001b[0;31mNameError\u001b[0mTraceback (most recent call last)",
      "\u001b[0;32m<ipython-input-6-5512924402fd>\u001b[0m in \u001b[0;36m<module>\u001b[0;34m()\u001b[0m\n\u001b[1;32m      1\u001b[0m \u001b[0;31m# OK... I fibbed... another hello world\u001b[0m\u001b[0;34m\u001b[0m\u001b[0;34m\u001b[0m\u001b[0m\n\u001b[1;32m      2\u001b[0m \u001b[0mmisspelling\u001b[0m \u001b[0;34m=\u001b[0m \u001b[0;34m'helo world!'\u001b[0m\u001b[0;34m\u001b[0m\u001b[0m\n\u001b[0;32m----> 3\u001b[0;31m \u001b[0mprint\u001b[0m\u001b[0;34m(\u001b[0m\u001b[0mmisspeling\u001b[0m\u001b[0;34m)\u001b[0m\u001b[0;34m\u001b[0m\u001b[0m\n\u001b[0m",
      "\u001b[0;31mNameError\u001b[0m: name 'misspeling' is not defined"
     ]
    }
   ],
   "source": [
    "# OK... I fibbed... another hello world\n",
    "misspelling = 'helo world!'\n",
    "print(misspeling)"
   ]
  },
  {
   "cell_type": "markdown",
   "metadata": {},
   "source": [
    "I gave this error away.  Obviously I misspelled the variable name in the print statement.  How can this error be fixed?  Of course... either change the spelling in the variable assignment statement to 'misspeling' or change the variable spelling in the print statment to 'misspelling'\n",
    "\n",
    "It's up to you whether you want to change helo to hello.\n",
    "\n",
    "This example shows one of the reasons why variable names should be descriptive, but brief.  The more complex the variable name, the more likely you are to misspell the variable later in your program!"
   ]
  },
  {
   "cell_type": "markdown",
   "metadata": {},
   "source": [
    "### Try It Yourself\n",
    "* Assign or store a message in a variable and print the message.\n",
    "* After the print statement, store a new message in the same variable and print again.  Does the code do what you expect?"
   ]
  },
  {
   "cell_type": "code",
   "execution_count": 7,
   "metadata": {},
   "outputs": [
    {
     "name": "stdout",
     "output_type": "stream",
     "text": [
      "This is Jonathan Jenkins, checking in!!!\n",
      "\n",
      "I think this is deja vue.\n"
     ]
    }
   ],
   "source": [
    "my_message = \"This is Jonathan Jenkins, checking in!!!\"\n",
    "print(my_message)\n",
    "print()\n",
    "my_message = \"I think this is deja vue.\"\n",
    "print(my_message)"
   ]
  },
  {
   "cell_type": "markdown",
   "metadata": {},
   "source": [
    "### Adding Strings Together\n",
    "\n",
    "We can't really do arithmetic with strings (not without effort, anyway), but we can put them together using an operation called concatenation.  Concatenation is a fancy word for linking strings together like railroad cars."
   ]
  },
  {
   "cell_type": "code",
   "execution_count": 8,
   "metadata": {},
   "outputs": [
    {
     "name": "stdout",
     "output_type": "stream",
     "text": [
      "richard feynman\n"
     ]
    }
   ],
   "source": [
    "# simple concatenation\n",
    "first_name = 'richard'\n",
    "last_name = 'feynman'\n",
    "full_name = first_name + \" \" + last_name\n",
    "print(full_name)"
   ]
  },
  {
   "cell_type": "markdown",
   "metadata": {},
   "source": [
    "The two string variables first_name and last_name were concatenated together, along with a space (\" \") to form the full name of my scientific hero.  What happens if we don't include the '+ \" \" +'?  Let's try some Python magic..."
   ]
  },
  {
   "cell_type": "code",
   "execution_count": 9,
   "metadata": {},
   "outputs": [
    {
     "name": "stdout",
     "output_type": "stream",
     "text": [
      "Richard Feynman\n"
     ]
    }
   ],
   "source": [
    "# simple concatenation... with an added action\n",
    "first_name = 'richard'\n",
    "last_name = 'feynman'\n",
    "full_name = first_name + \" \" + last_name\n",
    "print(full_name.title())"
   ]
  },
  {
   "cell_type": "markdown",
   "metadata": {},
   "source": [
    "You will often see Python code such as\n",
    "\n",
    "    variable_name.some_action()\n",
    "\n",
    "In this case, the 'full_name.title( )' command capitalizes both of the stored strings. The empty parentheses following the command is necessary and may sometimes contain a value or variable depending on the action command.\n",
    "\n",
    "You can concatenate as much as you wish.  Study the code below very carefully and see if you can understand why it prints what it does."
   ]
  },
  {
   "cell_type": "code",
   "execution_count": 10,
   "metadata": {},
   "outputs": [
    {
     "name": "stdout",
     "output_type": "stream",
     "text": [
      "Richard Feynman won the Nobel prize for Physics in 1965\n"
     ]
    }
   ],
   "source": [
    "# simple concatenation... not as simple\n",
    "first_name = 'richard'\n",
    "last_name = 'feynman'\n",
    "nobel = 'won the Nobel prize for Physics in 1965'\n",
    "full_name = first_name.title() + \" \" + last_name.title() + \" \" + nobel\n",
    "print(full_name)"
   ]
  },
  {
   "cell_type": "markdown",
   "metadata": {},
   "source": [
    "### Try It Yourself\n",
    "\n",
    "Write a short Python script to print your full name and where you live.  Use different variables for your first and last names (lower case) and your address.  Print the entire message using concatenation and the action .title( ) to capitalize your name."
   ]
  },
  {
   "cell_type": "code",
   "execution_count": 11,
   "metadata": {},
   "outputs": [
    {
     "name": "stdout",
     "output_type": "stream",
     "text": [
      "\n",
      " Jonathan Jenkins resides at 2404 Manal Way, Douglasville, Georgia 30135. \n",
      "\n"
     ]
    }
   ],
   "source": [
    "firstName = \"jonathan\"\n",
    "lastName = \"jenkins\"\n",
    "residesAt = \"2404 manal way, douglasville, georgia 30135\"\n",
    "fullName = firstName.title() + \" \" + lastName.title() + \" resides at \" + residesAt.title() + \".\"\n",
    "print(\"\\n\", fullName, \"\\n\")"
   ]
  },
  {
   "cell_type": "markdown",
   "metadata": {},
   "source": [
    "### Whitespace\n",
    "\n",
    "Whitespace refers to spaces, tabs and newlines.  Spaces are easy to insert in a string, but tabs and newlines require a bit more work.  The special characters \\t and \\n insert tabs and newlines respectively.  First the tabs:"
   ]
  },
  {
   "cell_type": "code",
   "execution_count": 12,
   "metadata": {},
   "outputs": [
    {
     "name": "stdout",
     "output_type": "stream",
     "text": [
      "avoid chaos!\n"
     ]
    }
   ],
   "source": [
    "message = \"avoid chaos!\"\n",
    "print(message)"
   ]
  },
  {
   "cell_type": "code",
   "execution_count": 13,
   "metadata": {},
   "outputs": [
    {
     "name": "stdout",
     "output_type": "stream",
     "text": [
      "\tavoid chaos!\n"
     ]
    }
   ],
   "source": [
    "message = \"\\tavoid chaos!\"\n",
    "print(message)"
   ]
  },
  {
   "cell_type": "code",
   "execution_count": 14,
   "metadata": {},
   "outputs": [
    {
     "name": "stdout",
     "output_type": "stream",
     "text": [
      "avoid \tchaos!\n"
     ]
    }
   ],
   "source": [
    "message = \"avoid \\tchaos!\"\n",
    "print(message)"
   ]
  },
  {
   "cell_type": "markdown",
   "metadata": {},
   "source": [
    "and the newlines whitespace"
   ]
  },
  {
   "cell_type": "code",
   "execution_count": 15,
   "metadata": {},
   "outputs": [
    {
     "name": "stdout",
     "output_type": "stream",
     "text": [
      "\n",
      "avoid chaos!\n"
     ]
    }
   ],
   "source": [
    "message = \"\\navoid chaos!\"\n",
    "print(message)"
   ]
  },
  {
   "cell_type": "code",
   "execution_count": 16,
   "metadata": {},
   "outputs": [
    {
     "name": "stdout",
     "output_type": "stream",
     "text": [
      "avoid \n",
      "chaos!\n"
     ]
    }
   ],
   "source": [
    "message = \"avoid \\nchaos!\"\n",
    "print(message)"
   ]
  },
  {
   "cell_type": "code",
   "execution_count": 17,
   "metadata": {},
   "outputs": [
    {
     "name": "stdout",
     "output_type": "stream",
     "text": [
      "\n",
      "\n",
      "avoid \n",
      "\n",
      "\n",
      "chaos!\n"
     ]
    }
   ],
   "source": [
    "message = \"\\n\\navoid \\n\\n\\nchaos!\"\n",
    "print(message)"
   ]
  },
  {
   "cell_type": "markdown",
   "metadata": {},
   "source": [
    "### Removing or Stripping Whitespace\n",
    "\n",
    "There are times when you need to remove whitespace (usually spaces) from a string.  The most common instance is when a customer or user enters a name or value in an input field and adds a space before and/or after the entry.  If we aren't careful, the whitespace may cause problems in your program."
   ]
  },
  {
   "cell_type": "code",
   "execution_count": 18,
   "metadata": {},
   "outputs": [
    {
     "name": "stdout",
     "output_type": "stream",
     "text": [
      " bohr \n",
      "bohr \n",
      " bohr\n",
      "bohr\n"
     ]
    }
   ],
   "source": [
    "# put some whitespace in a name\n",
    "name = ' bohr '\n",
    "print(name)\n",
    "print(name.lstrip())\n",
    "print(name.rstrip())\n",
    "print(name.strip())"
   ]
  },
  {
   "cell_type": "markdown",
   "metadata": {},
   "source": [
    "It's a bit difficult to see what is happening, so let's add some visible characters to the string using concatenation."
   ]
  },
  {
   "cell_type": "code",
   "execution_count": 19,
   "metadata": {},
   "outputs": [
    {
     "name": "stdout",
     "output_type": "stream",
     "text": [
      "@ bohr @\n",
      "@bohr @\n",
      "@ bohr@\n",
      "@bohr@\n"
     ]
    }
   ],
   "source": [
    "# put some whitespace in a name\n",
    "name = ' bohr '\n",
    "print('@' + name + '@')\n",
    "print('@' + name.lstrip() + '@')\n",
    "print('@' + name.rstrip() + '@')\n",
    "print('@' + name.strip()  + '@')"
   ]
  },
  {
   "cell_type": "markdown",
   "metadata": {},
   "source": [
    "### Try It Yourself\n",
    "* Store your first (or last) name in a variable, but with at least two kinds of whitespace on either side of your name.\n",
    "* Print your name as it's stored\n",
    "* Print your name with the white space stripped from the left side, then the right side, then both sides"
   ]
  },
  {
   "cell_type": "code",
   "execution_count": 20,
   "metadata": {},
   "outputs": [
    {
     "name": "stdout",
     "output_type": "stream",
     "text": [
      "& Jenkins &\n",
      "&Jenkins &\n",
      "& Jenkins&\n",
      "&Jenkins&\n"
     ]
    }
   ],
   "source": [
    "lastName = \" jenkins \"\n",
    "print(\"&\" + lastName.title() + \"&\")\n",
    "print(\"&\" + lastName.title().lstrip() + \"&\")\n",
    "print(\"&\" + lastName.title().rstrip() + \"&\")\n",
    "print(\"&\" + lastName.title().strip() + \"&\")"
   ]
  },
  {
   "cell_type": "markdown",
   "metadata": {},
   "source": [
    "## Numbers and Arithmetic\n",
    "\n",
    "Numbers and arithmetic calculations tend to be fairly straightforward in Python and Python can do some very sophisticated and complex mathematics with add-in packages, but there are some details that are important to know.  "
   ]
  },
  {
   "cell_type": "markdown",
   "metadata": {},
   "source": [
    "### Integers\n",
    "\n",
    "Integer arithmetic in Python is simple.  The plus and minus signs work as expected.  The asterisk is used for multiplication, the forward slash is used for division and the double asterisk is used for exponents.  You don't need to use spaces between the numbers and arithmetic signs. You can even take a square root or higher roots by using fractional exponents.  Higher mathematics requires using add-on packages."
   ]
  },
  {
   "cell_type": "code",
   "execution_count": 21,
   "metadata": {},
   "outputs": [
    {
     "name": "stdout",
     "output_type": "stream",
     "text": [
      "11\n"
     ]
    }
   ],
   "source": [
    "print(5+6)"
   ]
  },
  {
   "cell_type": "code",
   "execution_count": 22,
   "metadata": {},
   "outputs": [
    {
     "name": "stdout",
     "output_type": "stream",
     "text": [
      "-1\n"
     ]
    }
   ],
   "source": [
    "print(5-6)"
   ]
  },
  {
   "cell_type": "code",
   "execution_count": 23,
   "metadata": {},
   "outputs": [
    {
     "name": "stdout",
     "output_type": "stream",
     "text": [
      "0.8333333333333334\n"
     ]
    }
   ],
   "source": [
    "# look at the final digit... we'll discuss this in the floating point section\n",
    "print(5/6)"
   ]
  },
  {
   "cell_type": "code",
   "execution_count": 24,
   "metadata": {},
   "outputs": [
    {
     "name": "stdout",
     "output_type": "stream",
     "text": [
      "30\n"
     ]
    }
   ],
   "source": [
    "print(5*6)"
   ]
  },
  {
   "cell_type": "code",
   "execution_count": 25,
   "metadata": {},
   "outputs": [
    {
     "name": "stdout",
     "output_type": "stream",
     "text": [
      "15625\n"
     ]
    }
   ],
   "source": [
    "# raise 5 to the 6th power\n",
    "print(5**6)"
   ]
  },
  {
   "cell_type": "code",
   "execution_count": 26,
   "metadata": {},
   "outputs": [
    {
     "name": "stdout",
     "output_type": "stream",
     "text": [
      "1.4142135623730951\n"
     ]
    }
   ],
   "source": [
    "# find the square root of 2\n",
    "print(2**(1/2))"
   ]
  },
  {
   "cell_type": "markdown",
   "metadata": {},
   "source": [
    "Note that in taking the square root, we needed to enclose 1/2 in parentheses.  We can also do the following:"
   ]
  },
  {
   "cell_type": "code",
   "execution_count": 27,
   "metadata": {},
   "outputs": [
    {
     "name": "stdout",
     "output_type": "stream",
     "text": [
      "1.4142135623730951\n"
     ]
    }
   ],
   "source": [
    "# find the square root of 2 another way\n",
    "print(2**0.5)"
   ]
  },
  {
   "cell_type": "code",
   "execution_count": 28,
   "metadata": {},
   "outputs": [
    {
     "name": "stdout",
     "output_type": "stream",
     "text": [
      "89884656743115795386465259539451236680898848947115328636715040578866337902750481566354238661203768010560056939935696678829394884407208311246423715319737062188883946712432742638151109800623047059726541476042502884419075341171231440736956555270413618581675255342293149119973622969239858152417678164812112068607\n"
     ]
    }
   ],
   "source": [
    "# you can calculate very large integer values with Python\n",
    "n = 1023\n",
    "print(2**n-1)"
   ]
  },
  {
   "cell_type": "code",
   "execution_count": 29,
   "metadata": {},
   "outputs": [
    {
     "name": "stdout",
     "output_type": "stream",
     "text": [
      "7\n",
      "8\n"
     ]
    }
   ],
   "source": [
    "# you can use parentheses to group or change the order of arithmetic\n",
    "x = 2*3+1\n",
    "y = 2*(3+1)\n",
    "print(x)\n",
    "print(y)"
   ]
  },
  {
   "cell_type": "markdown",
   "metadata": {},
   "source": [
    "### Try It Yourself\n",
    "\n",
    "Experiment with larger values in the print(2**n-1) expression above.  Try n = 1997 for a start. "
   ]
  },
  {
   "cell_type": "code",
   "execution_count": 30,
   "metadata": {},
   "outputs": [
    {
     "name": "stdout",
     "output_type": "stream",
     "text": [
      "14351633690928181552910415014721024800278971276108690005970534210322078267404628923208243578956328373980574557987343284668088987010788191642824141952083164817391248643164035000086097393530005608928615873757935780597701932955798545493414628255058294246363124569770299851118078700702913956192020527746291585168021113623057313200297435600989257362616847062553625339588328228815251016529535161470158485414650824874424552265877722482300505269981647906442611179237761490069369722948709004895010244652078822844422553197965751941043598302429006813614409472985328146929441100102855346352245681720273106393628671\n"
     ]
    }
   ],
   "source": [
    "n = 1997\n",
    "print(2**n-1)"
   ]
  },
  {
   "cell_type": "markdown",
   "metadata": {},
   "source": [
    "### Floating Point Numbers\n",
    "\n",
    "Any number with a decimal point is considered a floating point number.  Generally, you can consider floating point numbers to be same as decimals.  There are various levels of precision available, but we won't worry about that in this course.  \n",
    "\n",
    "Sometimes you may see a floating point result that is a bit odd or unexpected, generally in the final digit or digits.  This is due to the method by which Python (and most computer languages) performs calculations.  \n",
    "\n",
    "Computer languages (and computers) use binary arithmetic to perform both integer and decimal calculations.  Integer arithmetic usually poses few problems but it is difficult to represent all floating point values using binary arithmetic.  There are methods for correcting these inherent errors, but those are beyond this introductory course.  For the most part, these binary floating point errors are generally very small and can safely be ignored in everyday calculations."
   ]
  },
  {
   "cell_type": "code",
   "execution_count": 31,
   "metadata": {},
   "outputs": [
    {
     "name": "stdout",
     "output_type": "stream",
     "text": [
      "0.5\n"
     ]
    }
   ],
   "source": [
    "print(0.1+0.4)"
   ]
  },
  {
   "cell_type": "code",
   "execution_count": 32,
   "metadata": {},
   "outputs": [
    {
     "name": "stdout",
     "output_type": "stream",
     "text": [
      "-0.09999999999999998\n"
     ]
    }
   ],
   "source": [
    "# and here is the binary error at play!  It looks bad, but the value is VERY close to -0.1\n",
    "print(0.5-0.6)"
   ]
  },
  {
   "cell_type": "code",
   "execution_count": 33,
   "metadata": {},
   "outputs": [
    {
     "name": "stdout",
     "output_type": "stream",
     "text": [
      "0.5\n"
     ]
    }
   ],
   "source": [
    "# this is OK\n",
    "print(0.1*5)"
   ]
  },
  {
   "cell_type": "code",
   "execution_count": 34,
   "metadata": {},
   "outputs": [
    {
     "name": "stdout",
     "output_type": "stream",
     "text": [
      "0.7000000000000001\n"
     ]
    }
   ],
   "source": [
    "# this shows the error\n",
    "print(0.1*7)"
   ]
  },
  {
   "cell_type": "code",
   "execution_count": 35,
   "metadata": {},
   "outputs": [
    {
     "data": {
      "text/plain": [
       "0.4"
      ]
     },
     "execution_count": 35,
     "metadata": {},
     "output_type": "execute_result"
    }
   ],
   "source": [
    "# you can also calculate without a print() statement\n",
    "0.1+0.3"
   ]
  },
  {
   "cell_type": "code",
   "execution_count": 36,
   "metadata": {},
   "outputs": [
    {
     "data": {
      "text/plain": [
       "-0.09999999999999998"
      ]
     },
     "execution_count": 36,
     "metadata": {},
     "output_type": "execute_result"
    }
   ],
   "source": [
    "0.5-0.6"
   ]
  },
  {
   "cell_type": "markdown",
   "metadata": {},
   "source": [
    "I'm going to provide some foreshadowing here... we'll work with packages in a bit more detail in Week 4. Python does not have a square root function (although we'll write one a bit later on), but we can import a package, numpy, which has numerous math operations.  Let's see how to do that:"
   ]
  },
  {
   "cell_type": "code",
   "execution_count": 37,
   "metadata": {},
   "outputs": [
    {
     "name": "stdout",
     "output_type": "stream",
     "text": [
      "1.4142135623730951\n",
      "0.7603139617444397\n",
      "0.2394237037094491\n"
     ]
    }
   ],
   "source": [
    "# import the numpy math package provided with Anaconda Python\n",
    "import numpy as np\n",
    "\n",
    "# the entire numpy package can be accessed through np\n",
    "print(np.sqrt(2))\n",
    "print(np.cos(0.707))\n",
    "print(np.tan(0.235))"
   ]
  },
  {
   "cell_type": "markdown",
   "metadata": {},
   "source": [
    "### Try It Yourself\n",
    "\n",
    "Experiment with several floating point calculations to see if you can find any pattern in the floating point error issue.  You saw that 0.1+0.4 = 0.5, but 0.5-0.6 resulted in a small floating point error.  Try several calculations to see if you can find a clue that might enable you to predict when a small floating point error will occur."
   ]
  },
  {
   "cell_type": "code",
   "execution_count": 38,
   "metadata": {},
   "outputs": [
    {
     "data": {
      "text/plain": [
       "-0.09999999999999998"
      ]
     },
     "execution_count": 38,
     "metadata": {},
     "output_type": "execute_result"
    }
   ],
   "source": [
    "0.6-0.7"
   ]
  },
  {
   "cell_type": "code",
   "execution_count": 39,
   "metadata": {},
   "outputs": [
    {
     "data": {
      "text/plain": [
       "-0.20000000000000007"
      ]
     },
     "execution_count": 39,
     "metadata": {},
     "output_type": "execute_result"
    }
   ],
   "source": [
    "0.6-0.8"
   ]
  },
  {
   "cell_type": "code",
   "execution_count": 40,
   "metadata": {},
   "outputs": [
    {
     "data": {
      "text/plain": [
       "0.0"
      ]
     },
     "execution_count": 40,
     "metadata": {},
     "output_type": "execute_result"
    }
   ],
   "source": [
    "(2**(1/2)) - 1.4142135623730951"
   ]
  },
  {
   "cell_type": "code",
   "execution_count": 41,
   "metadata": {},
   "outputs": [
    {
     "data": {
      "text/plain": [
       "0.0"
      ]
     },
     "execution_count": 41,
     "metadata": {},
     "output_type": "execute_result"
    }
   ],
   "source": [
    "(0.5-0.4) + (0.5-0.6)"
   ]
  },
  {
   "cell_type": "markdown",
   "metadata": {},
   "source": [
    "# Jonathan completed working through the Week 2 Notebook 1 \"Variables Strings Numerics\" on August 13, 2018."
   ]
  },
  {
   "cell_type": "code",
   "execution_count": null,
   "metadata": {},
   "outputs": [],
   "source": []
  }
 ],
 "metadata": {
  "kernelspec": {
   "display_name": "Python 3",
   "language": "python",
   "name": "python3"
  },
  "language_info": {
   "codemirror_mode": {
    "name": "ipython",
    "version": 3
   },
   "file_extension": ".py",
   "mimetype": "text/x-python",
   "name": "python",
   "nbconvert_exporter": "python",
   "pygments_lexer": "ipython3",
   "version": "3.6.6"
  }
 },
 "nbformat": 4,
 "nbformat_minor": 2
}
