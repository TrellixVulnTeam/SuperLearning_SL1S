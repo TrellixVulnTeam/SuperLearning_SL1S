{
 "cells": [
  {
   "cell_type": "markdown",
   "metadata": {},
   "source": [
    "# Functions\n",
    "\n",
    "Functions are blocks of code designed to make life easier for both the programmer and the user.  If we have an often used code routine, rather than copying and pasting the same code in several places, we would write the code once and call it when we need it.  Python has a large set of built-in functions (such as list.sort() and sum(list_of_numbers)) and you can add thousands of extra functions by using add-on packages, but it is also important to be able to write your own functions... and we'll do that shortly.\n",
    "\n",
    "## General Form for a Function\n",
    "\n",
    "We must use the def keyword to begin a function.  We also give the function a name (hopefully descriptive) and the number of arguments or values we intend to pass to the function.  Many simple functions take only one argument, but we can pass multiple values (and even lists) if needed. We then provide a procedure to work with or on the supplied arguments.  Once the function has been defined by the Python interpreter, we can call it from anywhere in the program as many times as we wish... even later on in the Jupyter notebook!"
   ]
  },
  {
   "cell_type": "code",
   "execution_count": null,
   "metadata": {},
   "outputs": [],
   "source": [
    "# define the function using a name\n",
    "def function_name(arg1, arg2):\n",
    "    # do something with\n",
    "    # arg1 and arg2\n",
    "    # arg1 and arg2 are supplied\n",
    "    # when you call the function\n",
    "\n",
    "# elsewhere in the program use the function name\n",
    "# to call the function\n",
    "function_name(val1, val2)"
   ]
  },
  {
   "cell_type": "markdown",
   "metadata": {},
   "source": [
    "### An example function"
   ]
  },
  {
   "cell_type": "code",
   "execution_count": null,
   "metadata": {},
   "outputs": [],
   "source": [
    "# write a function that squares a number and then subtracts the original number\n",
    "# then repeats the process on the first result\n",
    "def square_minus(n):\n",
    "    x = (n**2-n)\n",
    "    y = (x**2-x)\n",
    "    print(y)\n",
    "\n",
    "# call the function as many times as you like\n",
    "square_minus(10)\n",
    "square_minus(12)\n",
    "square_minus(37)\n",
    "square_minus(62)"
   ]
  },
  {
   "cell_type": "code",
   "execution_count": null,
   "metadata": {},
   "outputs": [],
   "source": [
    "# call the function again\n",
    "square_minus(11)"
   ]
  },
  {
   "cell_type": "markdown",
   "metadata": {},
   "source": [
    "One common error is to call the function before it's defined.  You must define all functions early in the program before you call the function."
   ]
  },
  {
   "cell_type": "markdown",
   "metadata": {},
   "source": [
    "We can use a function for any type of data.  Here are some sorting operations on a list WITHOUT a function."
   ]
  },
  {
   "cell_type": "code",
   "execution_count": null,
   "metadata": {},
   "outputs": [],
   "source": [
    "astronauts = ['armstrong', 'aldrin', 'collins','lovell','glenn','shepard']\n",
    "\n",
    "# Put astronauts in alphabetical order.\n",
    "astronauts.sort()\n",
    "\n",
    "# Display the list in its current order.\n",
    "print(\"The astronauts are currently in alphabetical order.\")\n",
    "for astronaut in astronauts:\n",
    "    print(astronaut.title())\n",
    "\n",
    "# Put astronauts in reverse alphabetical order.\n",
    "astronauts.sort(reverse=True)\n",
    "\n",
    "# Display the list in its current order. Note the \\n newline whitespace character\n",
    "print(\"\\nThe astronauts are now in reverse alphabetical order.\")\n",
    "for astronaut in astronauts:\n",
    "    print(astronaut.title())"
   ]
  },
  {
   "cell_type": "markdown",
   "metadata": {},
   "source": [
    "Now let's do the same thing using functions."
   ]
  },
  {
   "cell_type": "code",
   "execution_count": null,
   "metadata": {},
   "outputs": [],
   "source": [
    "def show_astronauts(astronauts, message):\n",
    "    # Print out a message, and then the list of astronauts\n",
    "    print(message)\n",
    "    for astronaut in astronauts:\n",
    "        print(astronaut.title())\n",
    "\n",
    "astronauts = ['armstrong', 'aldrin', 'collins','lovell','glenn','shepard']\n",
    "\n",
    "# Put astronauts in alphabetical order.\n",
    "astronauts.sort()\n",
    "show_astronauts(astronauts, \"The astronauts are currently in alphabetical order.\")\n",
    "\n",
    "# Put astronauts in reverse alphabetical order.\n",
    "astronauts.sort(reverse=True)\n",
    "show_astronauts(astronauts, \"\\nThe astronauts are now in reverse alphabetical order.\")"
   ]
  },
  {
   "cell_type": "markdown",
   "metadata": {},
   "source": [
    "The function code is much cleaner and more efficient.  When using functions, if we have a change to make in the function code it only needs to be modified in one place.  If we don't use functions and repeat our code multiple times in the program, then we would have to modify each copy of the code.  This isn't too bad if the program is short, but imagine a program with 5000 lines of code!  Use functions as much as possible!"
   ]
  },
  {
   "cell_type": "markdown",
   "metadata": {},
   "source": [
    "### Returning values and introducing if statements\n",
    "\n",
    "We don't have to use a print() statement to display a value from a function.  If we are wanting to display a list of values as in the astronaut example, a print() statement is appropriate.  However, if we are only wanting to return a single value, such as the result of a calculation or a single string, then 'return' is more appropriate."
   ]
  },
  {
   "cell_type": "code",
   "execution_count": null,
   "metadata": {},
   "outputs": [],
   "source": [
    "def number(n):\n",
    "    # Takes in a numerical value, and returns\n",
    "    #  the name corresponding to that number.\n",
    "    if n == 1:\n",
    "        return 'one'\n",
    "    elif n == 2:\n",
    "        return 'two'\n",
    "    elif n == 3:\n",
    "        return 'three'\n",
    "    elif n == 4:\n",
    "        return 'four'\n",
    "    else:\n",
    "        return \"I don't know that number!\"\n",
    "    \n",
    "# Let's try out our function.\n",
    "for num in range(0,6):\n",
    "    number_name = number(num)\n",
    "    print(num, number_name)"
   ]
  },
  {
   "cell_type": "markdown",
   "metadata": {},
   "source": [
    "### Explanation of the if-elif-else logic\n",
    "I think it is best to explain the structure and logic of the program above and translate it into English.\n",
    "\n",
    "* Define a function named 'number' and this function expects to receive a single value when it's called.\n",
    "* IF the supplied value (stored in n) equals 1, then return the word 'one'\n",
    "* Otherwise (elif or else if) if n equals 2, then return 'two'\n",
    "* Otherwise if n equals 3, then return 'three'\n",
    "* Otherwise if n equals 4, then return 'four'\n",
    "* If there are no True statements (else), return \"I don't know...\"\n",
    "\n",
    "Then use a for loop to supply the values from 0 through 5 and call the number() function using the loop index 'num' storing the returned expression in the number_name variable.  Finally, print the number and the name... or the number and the 'else' \"I don't know...\" expression.\n",
    "\n",
    "Can you rewrite the program with one less line of code?"
   ]
  },
  {
   "cell_type": "markdown",
   "metadata": {},
   "source": [
    "A common error in functions is placing a print statement after the return statement.  Once a function has issued a return, the function is over and anything indented at the function level AFTER the return will not be printed.  Indentation is important in Python and a very common source of program errors.  Here is an example:"
   ]
  },
  {
   "cell_type": "code",
   "execution_count": null,
   "metadata": {},
   "outputs": [],
   "source": [
    "def number(n):\n",
    "    # Takes in a numerical value, and returns\n",
    "    #  the name corresponding to that number.\n",
    "    if n == 1:\n",
    "        return 'one'\n",
    "    elif n == 2:\n",
    "        return 'two'\n",
    "    elif n == 3:\n",
    "        return 'three'\n",
    "    elif n == 4:\n",
    "        return 'four'\n",
    "    else:\n",
    "        return \"I don't know that number!\"\n",
    "    \n",
    "    # this print will never display\n",
    "    print(\"Hello World!!\")\n",
    "    \n",
    "# Let's try out our function.\n",
    "for num in range(0,6):\n",
    "    number_name = number(num)\n",
    "    print(num, number_name)"
   ]
  },
  {
   "cell_type": "markdown",
   "metadata": {},
   "source": [
    "We will dive into if/elif/else statements later in the lesson."
   ]
  },
  {
   "cell_type": "markdown",
   "metadata": {},
   "source": [
    "### Try It Yourself\n",
    "\n",
    "Write a function that finds the product of two numbers. Supply program several statements to verify the function works as expected."
   ]
  },
  {
   "cell_type": "markdown",
   "metadata": {},
   "source": [
    "# *if* Statements\n",
    "\n",
    "*if* statements are conditional statements and execute code depending on whether a condition is true or false.  There are also *elif* (else if) and *else* key words for more complex conditionals.  *if* statements provide a method for allowing the computer to make decisions... a very powerful feature!"
   ]
  },
  {
   "cell_type": "code",
   "execution_count": null,
   "metadata": {},
   "outputs": [],
   "source": [
    "# A list of foods I enjoy\n",
    "foods = ['pizza', 'spaghetti', 'hot wings', 'sub sandwiches']\n",
    "fav_food = 'spaghetti'\n",
    "\n",
    "# Print the foods, but flag my favorite\n",
    "for food in foods:\n",
    "    if food == fav_food:\n",
    "        # This food is my favorite... capitalize it\n",
    "        print(food.title() + \" is my favorite food!\")\n",
    "    else:\n",
    "        # I like these foods\n",
    "        print(\"I like \" + food)\n"
   ]
  },
  {
   "cell_type": "markdown",
   "metadata": {},
   "source": [
    "## Logical Tests\n",
    "Every if statement is either True or False.  Both True and False are Python keywords and based on these two conditions, we can have Python make decisions.  Again, this is very powerful!"
   ]
  },
  {
   "cell_type": "markdown",
   "metadata": {},
   "source": [
    "### Equality\n",
    "\n",
    "The '==' sign tests for equality.  Do NOT use '=' for equality testing.  The single '=' is the variable assignment symbol.  Here are some examples.  Run each cell in order, but try to predict whether the result will be True or False before running or executing the cell."
   ]
  },
  {
   "cell_type": "code",
   "execution_count": null,
   "metadata": {},
   "outputs": [],
   "source": [
    "10 == 10"
   ]
  },
  {
   "cell_type": "code",
   "execution_count": null,
   "metadata": {},
   "outputs": [],
   "source": [
    "21 == 20"
   ]
  },
  {
   "cell_type": "code",
   "execution_count": null,
   "metadata": {},
   "outputs": [],
   "source": [
    "7.00 == 7"
   ]
  },
  {
   "cell_type": "code",
   "execution_count": null,
   "metadata": {},
   "outputs": [],
   "source": [
    "'john' == 'John'"
   ]
  },
  {
   "cell_type": "code",
   "execution_count": null,
   "metadata": {},
   "outputs": [],
   "source": [
    "# case is important...\n",
    "'John' == 'John'"
   ]
  },
  {
   "cell_type": "code",
   "execution_count": null,
   "metadata": {},
   "outputs": [],
   "source": [
    "'John'.lower() == 'john'"
   ]
  },
  {
   "cell_type": "code",
   "execution_count": null,
   "metadata": {},
   "outputs": [],
   "source": [
    "'JOHN' == 'john'.upper()"
   ]
  },
  {
   "cell_type": "code",
   "execution_count": null,
   "metadata": {},
   "outputs": [],
   "source": [
    "'John' == 'john'.title()"
   ]
  },
  {
   "cell_type": "code",
   "execution_count": null,
   "metadata": {},
   "outputs": [],
   "source": [
    "'12' == 12"
   ]
  },
  {
   "cell_type": "code",
   "execution_count": null,
   "metadata": {},
   "outputs": [],
   "source": [
    "'12' == str(12)"
   ]
  },
  {
   "cell_type": "markdown",
   "metadata": {},
   "source": [
    "### Inequalities\n",
    "\n",
    "The inequalities are:\n",
    "* Unequal:                   !=\n",
    "* Greater than:              >\n",
    "* Less than:                 <\n",
    "* Greater than or equal to:  >=\n",
    "* Less than or equal to:     <=\n"
   ]
  },
  {
   "cell_type": "code",
   "execution_count": null,
   "metadata": {},
   "outputs": [],
   "source": [
    "9 != 3"
   ]
  },
  {
   "cell_type": "code",
   "execution_count": null,
   "metadata": {},
   "outputs": [],
   "source": [
    "8 != 8"
   ]
  },
  {
   "cell_type": "code",
   "execution_count": null,
   "metadata": {},
   "outputs": [],
   "source": [
    "7 < 89"
   ]
  },
  {
   "cell_type": "code",
   "execution_count": null,
   "metadata": {},
   "outputs": [],
   "source": [
    "89 < 7"
   ]
  },
  {
   "cell_type": "code",
   "execution_count": null,
   "metadata": {},
   "outputs": [],
   "source": [
    "9 > 5"
   ]
  },
  {
   "cell_type": "code",
   "execution_count": null,
   "metadata": {},
   "outputs": [],
   "source": [
    "8 > 10"
   ]
  },
  {
   "cell_type": "code",
   "execution_count": null,
   "metadata": {},
   "outputs": [],
   "source": [
    "4 <= 4"
   ]
  },
  {
   "cell_type": "code",
   "execution_count": null,
   "metadata": {},
   "outputs": [],
   "source": [
    "4 <= 5"
   ]
  },
  {
   "cell_type": "code",
   "execution_count": null,
   "metadata": {},
   "outputs": [],
   "source": [
    "5 <= 4"
   ]
  },
  {
   "cell_type": "code",
   "execution_count": null,
   "metadata": {},
   "outputs": [],
   "source": [
    "5 >= 3"
   ]
  },
  {
   "cell_type": "code",
   "execution_count": null,
   "metadata": {},
   "outputs": [],
   "source": [
    "5 >= 5"
   ]
  },
  {
   "cell_type": "code",
   "execution_count": null,
   "metadata": {},
   "outputs": [],
   "source": [
    "5 >= 9"
   ]
  },
  {
   "cell_type": "markdown",
   "metadata": {},
   "source": [
    "We can also combine conditional statements using 'and' and 'or' as well as creating more complex conditionals"
   ]
  },
  {
   "cell_type": "code",
   "execution_count": null,
   "metadata": {},
   "outputs": [],
   "source": [
    "# read from left to right\n",
    "6 > 4 > 2"
   ]
  },
  {
   "cell_type": "code",
   "execution_count": null,
   "metadata": {},
   "outputs": [],
   "source": [
    "n = 7\n",
    "4 > n or n > 3"
   ]
  },
  {
   "cell_type": "code",
   "execution_count": null,
   "metadata": {},
   "outputs": [],
   "source": [
    "n = 5\n",
    "n > 3 and n > 9"
   ]
  },
  {
   "cell_type": "markdown",
   "metadata": {},
   "source": [
    "### Functions again... writing a useful function\n",
    "The factorial is a mathematical operation used in probability and many other areas of mathematics in which an integer value is multiplied as follows:\n",
    "\n",
    "n\\*(n-1)\\*(n-2)\\*...\\*1\n",
    "\n",
    "The ! is used as the factorial sign and an example would be 5! = 5\\*4\\*3\\*2\\*1 = 120\n",
    "\n",
    "As n increases, the size of the factorials increases very quickly.  Our task will be to create a function which can calculate factorials."
   ]
  },
  {
   "cell_type": "code",
   "execution_count": null,
   "metadata": {},
   "outputs": [],
   "source": [
    "# define the factorial function\n",
    "def fact(n):\n",
    "    start = 1\n",
    "    for x in range(n,0,-1):\n",
    "        start *= x\n",
    "    return start\n",
    "\n",
    "# calculate the factorial by calling the function\n",
    "fact(10)"
   ]
  },
  {
   "cell_type": "markdown",
   "metadata": {},
   "source": [
    "Now try to find the factorial of a much larger value"
   ]
  },
  {
   "cell_type": "code",
   "execution_count": null,
   "metadata": {},
   "outputs": [],
   "source": [
    "fact(100)"
   ]
  },
  {
   "cell_type": "markdown",
   "metadata": {},
   "source": [
    "Now you try one... how large can you go?  You should be able to do at least 10000! and probably larger.  If the calculation seems to hang or it takes too long, you may need to click on the Stop button or use one of the Kernel > Interrupt or Kernel > Restart commands."
   ]
  },
  {
   "cell_type": "code",
   "execution_count": null,
   "metadata": {},
   "outputs": [],
   "source": []
  },
  {
   "cell_type": "markdown",
   "metadata": {},
   "source": [
    "Just an aside... I calculated 100000! and the value had 456574 digits.  However, it only took about 20 seconds to calculate, so my assumption is that I could go higher.  Try it if you dare!"
   ]
  },
  {
   "cell_type": "code",
   "execution_count": null,
   "metadata": {},
   "outputs": [],
   "source": [
    "# here is the calculation for 100000!\n",
    "# I store the value in f so I can find it's length\n",
    "f = str(fact(100000))"
   ]
  },
  {
   "cell_type": "code",
   "execution_count": null,
   "metadata": {},
   "outputs": [],
   "source": [
    "# print the value... it's big\n",
    "print(f)"
   ]
  },
  {
   "cell_type": "code",
   "execution_count": null,
   "metadata": {},
   "outputs": [],
   "source": [
    "# now print the length or number of digits by converting the value to a string using str(f) in the len function\n",
    "print(len(str(f)))"
   ]
  },
  {
   "cell_type": "markdown",
   "metadata": {},
   "source": [
    "## Super-d Numbers\n",
    "Super-d numbers are numbers such that $$d \\times n^d$$ contains d consecutive d numbers.  That's a bit murky, so here is an example.  A Super-3 number is a number such that when we perform the following calculation:  $$3\\times n^3$$ yields 3 consecutive 3s in the number.  As you can imagine, Super-3 numbers would be difficult to find manually.  However, Python with the string package can do this easily.\n",
    "\n",
    "There is a conditional in this script:\n",
    "\n",
    "```python\n",
    "if 'substring' in 'string:\n",
    "    print(n, sd)\n",
    "```\n",
    "\n",
    "Basically we translate this as 'if the substring we are looking for (i.e. 333) is IN the number (which we've converted to a string using the str() function), then the if statment is True.  Very handy!\n",
    "\n",
    "Look closely at the # statements for an explanation of the program.  You can verify the output to see if, for example, there are 3 consecutive 3s in the Super-3 number."
   ]
  },
  {
   "cell_type": "code",
   "execution_count": null,
   "metadata": {},
   "outputs": [],
   "source": [
    "# define the Super-d function.  The function will take two variables, d and the upper bound\n",
    "# so if we want to search the first 1000 numbers for Super-3 numbers we would enter: superd(3, 1000)\n",
    "def superd(d, ub):\n",
    "    # this variable will serve as a flag to determine whether or not we find\n",
    "    # any Super-d numbers.  We'll start with False\n",
    "    \n",
    "    sflag = False\n",
    "    \n",
    "    # try the numbers from 1 to the upper bound (ub)\n",
    "    for n in range(1, ub):\n",
    "        \n",
    "        # perform the calculation to create a potential Super-d number\n",
    "        # this statement should work for any Super-d\n",
    "        \n",
    "        sd = d*n**d\n",
    "        \n",
    "        # we need to create the substring.  If d = 3, we need 333, if d = 4, we need 4444, d = 5 -> 55555\n",
    "        # to do this, we'll use a nested loop... a loop inside a loop\n",
    "        # first, create an empty variable substring... something creative like substr.  The '' is an empty\n",
    "        # string... no space, just two consecutive single or double quotes\n",
    "        \n",
    "        substr = ''\n",
    "        \n",
    "        # use a for loop (just because... you could use while) to range from 1 to the value of d  \n",
    "        # remember that if d = 3, range(1,d) would only give use 1 and 2.  The d+1 takes us to\n",
    "        # the full range of 1, 2 and 3.\n",
    "        \n",
    "        for i in range(1, d+1):\n",
    "            \n",
    "            # concatenate the ds to the substr variable.  If d = 3, we'll end up with substr = '333'\n",
    "            substr = substr + str(d)\n",
    "        \n",
    "        # this is almost magical... for Super-3 numbers, it checks to see if substr (or '333') is\n",
    "        # in the potential Super-3 number.  If so, print the number and the Super-3 number.\n",
    "        # if we don't find any Super-3 numbers (or Super-d numbers) less than the upper bound\n",
    "        # nothing is printed.\n",
    "        \n",
    "        if substr in str(sd):\n",
    "            print(n, sd)\n",
    "            \n",
    "            # OK, we found at least one Super-d number.\n",
    "            sflag = True\n",
    "            \n",
    "    # print that there were no Super-d numbers\n",
    "    # this is still in the function, so the if block needs to be \n",
    "    # indented.  If sflag is still False, it's value was unchanged\n",
    "    # from its initial assignment and there were no Super-d numbers\n",
    "    \n",
    "    if sflag == False:\n",
    "        print(\"There were no Super-\" + str(d) + \" numbers less than \" + str(ub))\n",
    "\n",
    "# test for Super-3 numbers and an upper bound of 1000\n",
    "superd(3, 1000)\n",
    "\n",
    "print(' ')\n",
    "\n",
    "# test for Super-5 numbers and an upper bound of 1000\n",
    "superd(5, 1000)\n",
    "\n",
    "# End of program"
   ]
  },
  {
   "cell_type": "code",
   "execution_count": null,
   "metadata": {},
   "outputs": [],
   "source": [
    "# try Super-5 numbers again, with an upper bound of 10000"
   ]
  },
  {
   "cell_type": "markdown",
   "metadata": {},
   "source": [
    "### Try It Yourself\n",
    "\n",
    "Write 10 *if* statements using a combination of string and number statements.  Have 5 statements print True and 5 statements print False.  You may need to use individual print(x==y) type statements in order for all 10 to display properly."
   ]
  },
  {
   "cell_type": "code",
   "execution_count": null,
   "metadata": {},
   "outputs": [],
   "source": []
  }
 ],
 "metadata": {
  "kernelspec": {
   "display_name": "Python 3",
   "language": "python",
   "name": "python3"
  },
  "language_info": {
   "codemirror_mode": {
    "name": "ipython",
    "version": 3
   },
   "file_extension": ".py",
   "mimetype": "text/x-python",
   "name": "python",
   "nbconvert_exporter": "python",
   "pygments_lexer": "ipython3",
   "version": "3.6.6"
  }
 },
 "nbformat": 4,
 "nbformat_minor": 2
}
