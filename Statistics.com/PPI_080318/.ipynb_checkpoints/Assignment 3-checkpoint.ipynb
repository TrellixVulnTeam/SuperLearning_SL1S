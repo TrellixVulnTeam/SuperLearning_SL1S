{
 "cells": [
  {
   "cell_type": "markdown",
   "metadata": {},
   "source": [
    "# Assignment 3\n",
    "\n",
    "You may use any methods available to work the following 2 programming problems.  They are bit more challenging, than the previous assignments, but not much.  There are many ways to solve both problems, so I am not looking for a single 'correct' solution.\n",
    "\n",
    "## Problem 1 (8 Points)\n",
    "\n",
    "One of the unsolved problems in mathematics is the Collatz or Hailstone problem.  Basically, here are the rules:\n",
    "\n",
    "* Supply an integer to the function\n",
    "* If the integer is even, divide by 2\n",
    "* If the integer is odd, multiply by 3 and add 1\n",
    "* Take the new value and go again... if even, divide by 2, if odd, multiply by 3 and add 1\n",
    "* The process stops when the value reaches 1\n",
    "\n",
    "For example, if you write the program correctly, using:\n",
    "\n",
    "collatz(6)\n",
    "\n",
    "Will result in the function determining that 6 is even and then dividing 6/2 producing 3.  3 is odd, so the function will perform 3*(3)+1 = 10.  10 is even, which results in 10/2 = 5.  5 is odd -> 3*(5)+1 = 16.  16 is even, 16/2 = 8.  8 is even, 8/2 = 4.  4 is even, 4/2 = 2.  2 is even, 2/2 = 1 and we are finished.\n",
    "\n",
    "So, the collatz(6) function call results in the following Collatz sequence:\n",
    "\n",
    "6 - 3 - 10 - 5 - 16 - 8 - 4 - 2 - 1\n",
    "\n",
    "The unsolved portion is whether or not ALL integers eventually reach 1 or stop.  Nobody knows.  Some integers reach 1 quickly and others take several iterations or loops.  For example, collatz(97) takes 118 steps.\n",
    "\n",
    "Your taks is to create a function, collatz(), that will take an integer you supply and then print the resulting Collatz numbers until the number 1 is reached."
   ]
  },
  {
   "cell_type": "code",
   "execution_count": null,
   "metadata": {},
   "outputs": [],
   "source": []
  },
  {
   "cell_type": "markdown",
   "metadata": {},
   "source": [
    "## Problem 2 (4 Points)\n",
    "\n",
    "We wrote a function to find out if a number is prime.  Write a program that will print the prime numbers from 5 to 10000.  2 is the only even prime number and 3 is almost as trivial, so we will start with 5 to make your task easier.  \n",
    "\n",
    "You can use the isprime program written in the last notebook, but you will need to add something to the program to solve the problem.  Also, try BOTH (n/2) for stopping the divisor and then try (n\\*\\*0.5).  Which one is faster?  If you can't tell, try printing the prime to 100000 using both divisor stopping methods."
   ]
  },
  {
   "cell_type": "code",
   "execution_count": null,
   "metadata": {},
   "outputs": [],
   "source": []
  }
 ],
 "metadata": {
  "kernelspec": {
   "display_name": "Python 3",
   "language": "python",
   "name": "python3"
  },
  "language_info": {
   "codemirror_mode": {
    "name": "ipython",
    "version": 3
   },
   "file_extension": ".py",
   "mimetype": "text/x-python",
   "name": "python",
   "nbconvert_exporter": "python",
   "pygments_lexer": "ipython3",
   "version": "3.6.6"
  }
 },
 "nbformat": 4,
 "nbformat_minor": 2
}
