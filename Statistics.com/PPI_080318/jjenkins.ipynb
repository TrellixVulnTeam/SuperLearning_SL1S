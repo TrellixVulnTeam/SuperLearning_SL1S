{
 "cells": [
  {
   "cell_type": "markdown",
   "metadata": {},
   "source": [
    "To create new cells, use the plus (+) button in the toolbar."
   ]
  },
  {
   "cell_type": "markdown",
   "metadata": {},
   "source": [
    "To cut, copy, delete or or otherwise edit cells; I select the cell I want to modify and go to the Edit button in the navigation bar to see my options."
   ]
  },
  {
   "cell_type": "markdown",
   "metadata": {},
   "source": [
    "If there is a need to restart the kernel; I select the Kernel dropdown and click Restart. Conversely, to shut down a kernel, I would click Shutdown, which will have a dialogue process asking if that's what I really want to do."
   ]
  },
  {
   "cell_type": "markdown",
   "metadata": {},
   "source": [
    "The toolbar has several shortcut buttons that can be selected for popular actions. From left to right I can: \n",
    "    1. save, \n",
    "    2. add a new cell, \n",
    "    3. cut selected cells, \n",
    "    4. copy selected cells, \n",
    "    5. paste cells below, \n",
    "    6. move selected cells up, \n",
    "    7. move selected cells down, \n",
    "    8. run, \n",
    "    9. interrupt the kernel, \n",
    "    10. restart the kernel, \n",
    "    11. access a dropdown that allows me to change the cell type, \n",
    "    and \n",
    "    12. access a shortcut to open the command palette. "
   ]
  },
  {
   "cell_type": "code",
   "execution_count": 1,
   "metadata": {},
   "outputs": [
    {
     "name": "stdout",
     "output_type": "stream",
     "text": [
      "1339385758982834151185531311325002263201756014631917009304687985462938813906170153116497973519619822659493341146941433531483931607115392554498072196837321850491820971853028873177634325632796392734744272769130809372947742658424845944895692993259632864321399559710817770957553728956578048354650708508671\n"
     ]
    }
   ],
   "source": [
    "n = 997\n",
    "print(2**n-1)"
   ]
  },
  {
   "cell_type": "markdown",
   "metadata": {},
   "source": [
    "\\*\\* is the basic (i.e. without having to add any additional package(s)) operator to perform exponential (power) calculations on operators."
   ]
  }
 ],
 "metadata": {
  "kernelspec": {
   "display_name": "Python 3",
   "language": "python",
   "name": "python3"
  },
  "language_info": {
   "codemirror_mode": {
    "name": "ipython",
    "version": 3
   },
   "file_extension": ".py",
   "mimetype": "text/x-python",
   "name": "python",
   "nbconvert_exporter": "python",
   "pygments_lexer": "ipython3",
   "version": "3.6.6"
  }
 },
 "nbformat": 4,
 "nbformat_minor": 2
}
