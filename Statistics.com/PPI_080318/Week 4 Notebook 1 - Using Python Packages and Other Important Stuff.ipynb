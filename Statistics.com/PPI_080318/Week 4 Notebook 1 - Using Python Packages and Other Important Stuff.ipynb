{
 "cells": [
  {
   "cell_type": "markdown",
   "metadata": {},
   "source": [
    "# Output to a text file and Input from a text file\n",
    "\n",
    "Python is very good at reading and writing from external files and data sources.  It has to be, otherwise who would want to manually enter a gigabyte of data into a Python program for analysis?  This is an introductory course and this topic is a bit more advanced and will be covered in later courses, but it's worth our time to take a glimpse at a simple text output/input example."
   ]
  },
  {
   "cell_type": "code",
   "execution_count": 1,
   "metadata": {},
   "outputs": [],
   "source": [
    "# let's open a file from our working folder... or if the file does not exist\n",
    "# this statement creates the file.  The name of the file is 'test_text.txt' and the 'w'\n",
    "# signifies that we are goint to (w)rite to the file\n",
    "# we store the open file name in a variable\n",
    "newfile = open(\"test_text.txt\",\"w\")\n",
    "\n",
    "# the file is open... let's write to it\n",
    "\n",
    "newfile.write(\"Hello World... again!\\n\")\n",
    "newfile.write(\"The name of the open file\\n\")\n",
    "newfile.write(\"is stored in the newfile variable.\\n\")\n",
    "newfile.write(\"This is the last line (so far).\\n\")\n",
    "\n",
    "# don't forgot to close the file... weird things happen if you don't\n",
    "newfile.close()"
   ]
  },
  {
   "cell_type": "markdown",
   "metadata": {},
   "source": [
    "Look in the pyjup or your working directory/folder.  You should see a test_text.txt file.  Open the file to see if the lines were written to the file.  Now let's get that data back!"
   ]
  },
  {
   "cell_type": "code",
   "execution_count": 2,
   "metadata": {},
   "outputs": [
    {
     "data": {
      "text/plain": [
       "'Hello World... again!\\nThe name of the open file\\nis stored in the newfile variable.\\nThis is the last line (so far).\\n'"
      ]
     },
     "execution_count": 2,
     "metadata": {},
     "output_type": "execute_result"
    }
   ],
   "source": [
    "# open the test_text.txt for (r)eading\n",
    "oldfile = open(\"test_text.txt\",\"r\")\n",
    "\n",
    "# the file is open.  Get the data\n",
    "# the oldfile.read() method prints the raw file data\n",
    "oldfile.read()"
   ]
  },
  {
   "cell_type": "code",
   "execution_count": 3,
   "metadata": {},
   "outputs": [
    {
     "name": "stdout",
     "output_type": "stream",
     "text": [
      "Hello World... again!\n",
      "\n",
      "The name of the open file\n",
      "\n",
      "is stored in the newfile variable.\n",
      "\n",
      "This is the last line (so far).\n",
      "\n",
      "\n"
     ]
    }
   ],
   "source": [
    "# open the file again for reading using a different method\n",
    "oldfile = open(\"test_text.txt\",\"r\")\n",
    "\n",
    "# one line at a time using .readline\n",
    "while True:\n",
    "    line = oldfile.readline()\n",
    "    print(line)\n",
    "    \n",
    "    if line == '':\n",
    "        break"
   ]
  },
  {
   "cell_type": "markdown",
   "metadata": {},
   "source": [
    "Without the \n",
    "```python\n",
    "if line == '':\n",
    "    break\n",
    "```\n",
    "the loop would never stop!  The break statement does exactly what it mean... it breaks the loop.  the '' is an empty string, meaning an empty line with no data.  If the line is empty, the end of the file has been reached, so break out of the loop.  Here is one more example of reading a text file."
   ]
  },
  {
   "cell_type": "code",
   "execution_count": 4,
   "metadata": {},
   "outputs": [
    {
     "data": {
      "text/plain": [
       "['Hello World... again!\\n',\n",
       " 'The name of the open file\\n',\n",
       " 'is stored in the newfile variable.\\n',\n",
       " 'This is the last line (so far).\\n']"
      ]
     },
     "execution_count": 4,
     "metadata": {},
     "output_type": "execute_result"
    }
   ],
   "source": [
    "# open the test_text.txt for (r)eading\n",
    "oldfile = open(\"test_text.txt\",\"r\")\n",
    "\n",
    "# the file is open.  Get the data\n",
    "# the oldfile.readlines() method prints the entire file as a LIST\n",
    "oldfile.readlines()"
   ]
  },
  {
   "cell_type": "code",
   "execution_count": 5,
   "metadata": {},
   "outputs": [
    {
     "name": "stdout",
     "output_type": "stream",
     "text": [
      "is stored in the newfile variable.\n",
      "\n"
     ]
    }
   ],
   "source": [
    "# open the test_text.txt for (r)eading\n",
    "oldfile = open(\"test_text.txt\",\"r\")\n",
    "\n",
    "# let's save the text file in a variable and treat it like a list\n",
    "file_list = oldfile.readlines()\n",
    "\n",
    "# print the 3rd line in the text file/list\n",
    "print(file_list[2])"
   ]
  },
  {
   "cell_type": "markdown",
   "metadata": {},
   "source": [
    "# Using Python Packages\n",
    "\n",
    "Python already has a powerful set of keywords and functions, but you can extend Python's vocabularly by importing external packages.  We have already glimpsed this earlier in the course when we used an 'import' statement to attach the numpy package to Python.  We will work with packages in more detail here.\n",
    "\n",
    "There are well in excess of 100000 external packages available to extend Python's functionality! The number grows daily and while it's beyond the scope of this course, you can write your own package if you want.  You already have some skill in writing packages... a Python package is generally a set of special function(s) you've written and placed in an external file.  When you want to use your special functions, you import the file and the functions are waiting for you.  It's a very nice system!\n",
    "\n",
    "You can import Python packages in more than one way.  For example, you can import the numpy package by using:\n",
    "\n",
    "```python\n",
    "from numpy import *\n",
    "```\n",
    "\n",
    "and ALL of the functions in numpy (and there are many) will be available to use.  Here is an example:"
   ]
  },
  {
   "cell_type": "code",
   "execution_count": 6,
   "metadata": {},
   "outputs": [
    {
     "name": "stdout",
     "output_type": "stream",
     "text": [
      "2.6457513110645907\n",
      "0.7539022543433046\n"
     ]
    },
    {
     "data": {
      "text/plain": [
       "0.7539022543433046"
      ]
     },
     "execution_count": 6,
     "metadata": {},
     "output_type": "execute_result"
    }
   ],
   "source": [
    "# import the numpy math package\n",
    "from numpy import *\n",
    "\n",
    "n = 7\n",
    "print(sqrt(n))\n",
    "print(cos(n))\n",
    "\n",
    "# I added the following to show that you\n",
    "# don't need to use a print() statement\n",
    "# but only the last calculation will display\n",
    "sqrt(n)\n",
    "cos(n)"
   ]
  },
  {
   "cell_type": "markdown",
   "metadata": {},
   "source": [
    "As indicated in the remark statements, I used print() statments so both functions would display a result.  You can also use a simple sqrt(n), but only the last calculation will display.\n",
    "\n",
    "If your program is simple and you aren't going to import additional packages that have similar functions, there is nothing wrong with this.  However, if you import more than one package and the same function exists in at least two of the imported packages, we may have a problem.  Usually, the last package has precedence and you may get unexpected results.  For example (and it isn't a good example):"
   ]
  },
  {
   "cell_type": "code",
   "execution_count": 7,
   "metadata": {},
   "outputs": [
    {
     "name": "stdout",
     "output_type": "stream",
     "text": [
      "2.6457513110645907\n",
      "0.7539022543433046\n"
     ]
    }
   ],
   "source": [
    "# import numpy\n",
    "from numpy import *\n",
    "\n",
    "# import the python math package\n",
    "from math import *\n",
    "\n",
    "n = 7\n",
    "print(sqrt(n))\n",
    "print(cos(n))"
   ]
  },
  {
   "cell_type": "markdown",
   "metadata": {},
   "source": [
    "OK... I wrote that this was a bad example, but given the 100000+ python packages, there is always a chance that you might import a package that will overwrite or replace the function you need to use with one that is not as accurate or even incorrect.  There are no 'package police' who verify the validity and naming of functions in a particular package.  You might find that you need to use the sin() function from numpy, but a later package import also has a sin() function... and the author of that package intended his/her function to return the hyperbolic sin rather than the traditional trig function.  It's a stretch, but stranger things have happened!\n",
    "\n",
    "How do you fix that possibility?  It's easy... import the entire package into a unique Python variable.  Then when you need to use a function from a particular package, you use the variable name followed by the function.  Here's how:"
   ]
  },
  {
   "cell_type": "code",
   "execution_count": 8,
   "metadata": {},
   "outputs": [
    {
     "name": "stdout",
     "output_type": "stream",
     "text": [
      "2.6457513110645907\n",
      "0.7539022543433046\n",
      "2.6457513110645907\n",
      "0.7539022543433046\n"
     ]
    }
   ],
   "source": [
    "# import both numpy and math\n",
    "import numpy as np\n",
    "import math as m\n",
    "\n",
    "n = 7\n",
    "print(np.sqrt(n))\n",
    "print(np.cos(n))\n",
    "\n",
    "print(m.sqrt(n))\n",
    "print(m.cos(n))"
   ]
  },
  {
   "cell_type": "markdown",
   "metadata": {},
   "source": [
    "The answers for sqrt and cos in both packages were identical.  numpy is a far more extensive Python package than math and you can visit [www.numpy.org](https://www.numpy.org) for an amazing amount of information about the numpy package... I recommend that you do so, particularly if you plan on studying Python for data analytics."
   ]
  },
  {
   "cell_type": "markdown",
   "metadata": {},
   "source": [
    "## Number Guessing Game\n",
    "Let's use the Python random package to create a number guessing game.  The rules are simple:\n",
    "\n",
    "* Python will randomly select an integer from 1 to 100\n",
    "* You will enter a guess\n",
    "* Python will tell you whether your guess is high or low... or correct\n",
    "* If you did not guess the number, Python will let you guess again\n",
    "* When you have guessed the correct number, Python will congratulate you and tell you how many guesses you made\n",
    "\n",
    "Let's try a warm-up exercise first. Again, I used print() statements so that both results will display.  If you only need one value, you can use rn.random() or rn.randint(1,100)."
   ]
  },
  {
   "cell_type": "code",
   "execution_count": 9,
   "metadata": {},
   "outputs": [
    {
     "name": "stdout",
     "output_type": "stream",
     "text": [
      "0.8661177148143185\n",
      "95\n"
     ]
    }
   ],
   "source": [
    "# import the random package\n",
    "import random as rn\n",
    "\n",
    "# print a random number from 0 to 1\n",
    "print(rn.random())\n",
    "\n",
    "# print a random integer from 1 to 100 inclusive\n",
    "print(rn.randint(1,100))"
   ]
  },
  {
   "cell_type": "code",
   "execution_count": 12,
   "metadata": {},
   "outputs": [
    {
     "name": "stdout",
     "output_type": "stream",
     "text": [
      "Type in your guess: 50\n",
      "Too low, guess again!\n",
      "Type in your guess: 75\n",
      "Too low, guess again!\n",
      "Type in your guess: 87\n",
      "Too high, guess again!\n",
      "Type in your guess: 81\n",
      "Too low, guess again!\n",
      "Type in your guess: 84\n",
      "You got it! It took you 5 guesses.\n"
     ]
    }
   ],
   "source": [
    "# number guess game\n",
    "import random as rn\n",
    "\n",
    "# have Python pick a random number from 1 to 100\n",
    "rnum = rn.randint(1,100)\n",
    "\n",
    "# set the count guesses variable to 0\n",
    "# this must be done outside the function\n",
    "# see the explanation below in the local and global\n",
    "# variables section\n",
    "\n",
    "count = 0\n",
    "\n",
    "# define a check guess function.  This should be the first function\n",
    "# otherwise, we'll call check in the guess function before check is defined\n",
    "def check(g):\n",
    "    if g < rnum:\n",
    "        print(\"Too low, guess again!\")\n",
    "        guess()\n",
    "    elif g > rnum:\n",
    "        print(\"Too high, guess again!\")\n",
    "        guess()\n",
    "    else:\n",
    "        print(\"You got it! It took you \" + str(count) + \" guesses.\")\n",
    "\n",
    "# define a guess function... this should be the second function\n",
    "# it does not need an argument\n",
    "def guess():\n",
    "    \n",
    "    # we have to declare count to be a global variable\n",
    "    # so that it retains its value and can be incremented\n",
    "    \n",
    "    global count\n",
    "    \n",
    "    g = int(input(\"Type in your guess: \"))\n",
    "    \n",
    "    # count your guesses\n",
    "    count += 1\n",
    "    \n",
    "    # call the check guess function\n",
    "    check(g)\n",
    "\n",
    "# start guessing\n",
    "guess()\n"
   ]
  },
  {
   "cell_type": "markdown",
   "metadata": {},
   "source": [
    "### A word or two about local and global variables...\n",
    "You noticed the global count statement in the program?  Why did I have to do that?  Well, I wanted to count the number of guesses and if I start using the count variable in the function guess() without defining it first, I'll get an error message.  If I define the variable IN the guess() function, it will be reset each time I call the guess() function and I'll never get an accurate count.\n",
    "\n",
    "Why is this?  Python looks at variables inside a function as local variables.  They are defined ONLY in the specific function and nowhere else.  We can send variables into the function (using arguments) and we can export variables out of the function using return, but the variables inside the function are invisible to the code outside the function.  \n",
    "\n",
    "There are ways to fix this, but an easy method is to declare a variable as global.  When we declare a variable as global, it can be seen and used anywhere in the program.  If we want to use a global variable in a function, we simply declare it as global in the main program and in the function as we have done with count in the number guess example.\n",
    "\n",
    "Global variables can cause problems if you use similar (or the same) variable name as both a global and local variable and many programmers frown upon using global variables.  I don't think globals are evil, but you do need to be careful and remember when you are using a global variable.\n",
    "\n",
    "Here is an example of the confusion that may arise:"
   ]
  },
  {
   "cell_type": "code",
   "execution_count": 13,
   "metadata": {},
   "outputs": [
    {
     "name": "stdout",
     "output_type": "stream",
     "text": [
      "I love to fly!\n"
     ]
    }
   ],
   "source": [
    "# s is defined outside the function and is a global variable\n",
    "# and we aren't trying to change the value of s in the function\n",
    "def f(): \n",
    "    print(s) \n",
    "    \n",
    "s = \"I love to fly!\"\n",
    "f()"
   ]
  },
  {
   "cell_type": "code",
   "execution_count": 14,
   "metadata": {},
   "outputs": [
    {
     "name": "stdout",
     "output_type": "stream",
     "text": [
      "I love to fly as much as I can!\n",
      "I love to fly!\n"
     ]
    }
   ],
   "source": [
    "# no problem here... we define and print s from within the function\n",
    "# and we define and print s outside the function.  Even though the\n",
    "# two variables are both named 's', one is local to the function\n",
    "# and the other is global.  Python considers them to be different.\n",
    "\n",
    "def f(): \n",
    "    s = \"I love to fly as much as I can!\"\n",
    "    print(s) \n",
    "\n",
    "s = \"I love to fly!\" \n",
    "f()\n",
    "print(s)"
   ]
  },
  {
   "cell_type": "code",
   "execution_count": 15,
   "metadata": {},
   "outputs": [
    {
     "ename": "UnboundLocalError",
     "evalue": "local variable 's' referenced before assignment",
     "output_type": "error",
     "traceback": [
      "\u001b[0;31m---------------------------------------------------------------------------\u001b[0m",
      "\u001b[0;31mUnboundLocalError\u001b[0m                         Traceback (most recent call last)",
      "\u001b[0;32m<ipython-input-15-6410362fae78>\u001b[0m in \u001b[0;36m<module>\u001b[0;34m()\u001b[0m\n\u001b[1;32m     12\u001b[0m \u001b[0;34m\u001b[0m\u001b[0m\n\u001b[1;32m     13\u001b[0m \u001b[0ms\u001b[0m \u001b[0;34m=\u001b[0m \u001b[0;34m\"I to fly!\"\u001b[0m\u001b[0;34m\u001b[0m\u001b[0m\n\u001b[0;32m---> 14\u001b[0;31m \u001b[0mf\u001b[0m\u001b[0;34m(\u001b[0m\u001b[0;34m)\u001b[0m\u001b[0;34m\u001b[0m\u001b[0m\n\u001b[0m\u001b[1;32m     15\u001b[0m \u001b[0mprint\u001b[0m\u001b[0;34m(\u001b[0m\u001b[0ms\u001b[0m\u001b[0;34m)\u001b[0m\u001b[0;34m\u001b[0m\u001b[0m\n",
      "\u001b[0;32m<ipython-input-15-6410362fae78>\u001b[0m in \u001b[0;36mf\u001b[0;34m()\u001b[0m\n\u001b[1;32m      7\u001b[0m \u001b[0;34m\u001b[0m\u001b[0m\n\u001b[1;32m      8\u001b[0m \u001b[0;32mdef\u001b[0m \u001b[0mf\u001b[0m\u001b[0;34m(\u001b[0m\u001b[0;34m)\u001b[0m\u001b[0;34m:\u001b[0m\u001b[0;34m\u001b[0m\u001b[0m\n\u001b[0;32m----> 9\u001b[0;31m     \u001b[0mprint\u001b[0m\u001b[0;34m(\u001b[0m\u001b[0ms\u001b[0m\u001b[0;34m)\u001b[0m\u001b[0;34m\u001b[0m\u001b[0m\n\u001b[0m\u001b[1;32m     10\u001b[0m     \u001b[0ms\u001b[0m \u001b[0;34m=\u001b[0m \u001b[0;34m\"I love to fly as much as I can!\"\u001b[0m\u001b[0;34m\u001b[0m\u001b[0m\n\u001b[1;32m     11\u001b[0m     \u001b[0mprint\u001b[0m\u001b[0;34m(\u001b[0m\u001b[0ms\u001b[0m\u001b[0;34m)\u001b[0m\u001b[0;34m\u001b[0m\u001b[0m\n",
      "\u001b[0;31mUnboundLocalError\u001b[0m: local variable 's' referenced before assignment"
     ]
    }
   ],
   "source": [
    "# now we have a problem...\n",
    "# we define s outside the function and then print\n",
    "# s inside the function using the first print(s)\n",
    "# then we define a local variable s to be a different\n",
    "# value/string, but this confuses Python.  We have two\n",
    "# s variables and which or what do we mean.  Error!\n",
    "\n",
    "def f(): \n",
    "    print(s)\n",
    "    s = \"I love to fly as much as I can!\"\n",
    "    print(s) \n",
    "\n",
    "s = \"I to fly!\" \n",
    "f()\n",
    "print(s)"
   ]
  },
  {
   "cell_type": "code",
   "execution_count": 16,
   "metadata": {},
   "outputs": [
    {
     "name": "stdout",
     "output_type": "stream",
     "text": [
      "I love to fly!\n",
      "I love to fly as much as I can!\n",
      "I love to fly as much as I can!\n"
     ]
    }
   ],
   "source": [
    "# this is OK.  We declare s in the function to be global\n",
    "# Python will keep the local and global variables separate\n",
    "# and all is right with the Python world.\n",
    "\n",
    "def f(): \n",
    "    # tell python the global variable s exists\n",
    "    global s\n",
    "    \n",
    "    # this should print the\n",
    "    print(s)\n",
    "    \n",
    "    # this is a local variable\n",
    "    s = \"I love to fly as much as I can!\"\n",
    "    print(s) \n",
    "\n",
    "# s is a global variable declared outside the function\n",
    "s = \"I love to fly!\" \n",
    "\n",
    "# call the function\n",
    "f()\n",
    "\n",
    "# print the global variable\n",
    "print(s)"
   ]
  },
  {
   "cell_type": "markdown",
   "metadata": {},
   "source": [
    "Not so easy to understand, but look at the code and the output.  Both global and local s variables retain their respective values.  If you intend to use a global variable (a variable declared outside a function) in a function, then use the 'global' declaration.  This is why you should be very careful about using global variables... use them, yes, but be careful!\n",
    "\n",
    "Now back to packages..."
   ]
  },
  {
   "cell_type": "markdown",
   "metadata": {},
   "source": [
    "# A Brief Introduction to pandas\n",
    "pandas, according to its home website [pandas.pydata.org](https://pandas.pydata.org/) aims to be\"the most powerful and flexible open source data analysis / manipulation tool available in any language\" (from the documentation page).  That is a lofty goal and they may well achieve it.\n",
    "\n",
    "We are going to start with a brief pandas example so you can see some of the potential in the pandas package.  We will also use matplotlib to plot a quick graph.\n",
    "\n",
    "First, you need to download two data files:\n",
    "\n",
    "* [hubble_data.csv](https://www.dropbox.com/s/hm7qkmf7ukyc6j2/hubble_data.csv?dl=1) \n",
    "* [hubble_data_no_headers.csv](https://www.dropbox.com/s/ntlit9u50gx8lp3/hubble_data_no_headers.csv?dl=1)\n",
    "\n",
    "These files are in the public domain website and contain some data from the Hubble Space telescope.  The files are in comma separated value format (.csv), which is a very common format for data files.  You should save both files in your pyjup (or working directory).  View them in Excel or your spreadsheet program to see how the files are structured.  pandas will store the data in something called a data frame.  Essentially a data frame is a rectangular structure much like a spreadsheet.  Data frames allow for easier manipulation, analysis and visualization of data.\n",
    "\n",
    "Let's fire up pandas and matplotlib for some simple data manipulations.\n"
   ]
  },
  {
   "cell_type": "code",
   "execution_count": 17,
   "metadata": {},
   "outputs": [],
   "source": [
    "# import pandas for data analysis and matplotlib for plotting\n",
    "import pandas as pd\n",
    "import matplotlib.pyplot as plt"
   ]
  },
  {
   "cell_type": "code",
   "execution_count": 18,
   "metadata": {},
   "outputs": [
    {
     "data": {
      "text/html": [
       "<div>\n",
       "<style scoped>\n",
       "    .dataframe tbody tr th:only-of-type {\n",
       "        vertical-align: middle;\n",
       "    }\n",
       "\n",
       "    .dataframe tbody tr th {\n",
       "        vertical-align: top;\n",
       "    }\n",
       "\n",
       "    .dataframe thead th {\n",
       "        text-align: right;\n",
       "    }\n",
       "</style>\n",
       "<table border=\"1\" class=\"dataframe\">\n",
       "  <thead>\n",
       "    <tr style=\"text-align: right;\">\n",
       "      <th></th>\n",
       "      <th>distance</th>\n",
       "      <th>recession_velocity</th>\n",
       "    </tr>\n",
       "  </thead>\n",
       "  <tbody>\n",
       "    <tr>\n",
       "      <th>0</th>\n",
       "      <td>0.032</td>\n",
       "      <td>170</td>\n",
       "    </tr>\n",
       "    <tr>\n",
       "      <th>1</th>\n",
       "      <td>0.034</td>\n",
       "      <td>290</td>\n",
       "    </tr>\n",
       "    <tr>\n",
       "      <th>2</th>\n",
       "      <td>0.214</td>\n",
       "      <td>-130</td>\n",
       "    </tr>\n",
       "    <tr>\n",
       "      <th>3</th>\n",
       "      <td>0.263</td>\n",
       "      <td>-70</td>\n",
       "    </tr>\n",
       "    <tr>\n",
       "      <th>4</th>\n",
       "      <td>0.275</td>\n",
       "      <td>-185</td>\n",
       "    </tr>\n",
       "  </tbody>\n",
       "</table>\n",
       "</div>"
      ],
      "text/plain": [
       "   distance  recession_velocity\n",
       "0     0.032                 170\n",
       "1     0.034                 290\n",
       "2     0.214                -130\n",
       "3     0.263                 -70\n",
       "4     0.275                -185"
      ]
     },
     "execution_count": 18,
     "metadata": {},
     "output_type": "execute_result"
    }
   ],
   "source": [
    "# input the hubble_data.csv and save it into the variable data\n",
    "data = pd.read_csv(\"hubble_data.csv\")\n",
    "\n",
    "# show the top 5 rows of data\n",
    "data.head()"
   ]
  },
  {
   "cell_type": "code",
   "execution_count": 19,
   "metadata": {},
   "outputs": [
    {
     "data": {
      "text/html": [
       "<div>\n",
       "<style scoped>\n",
       "    .dataframe tbody tr th:only-of-type {\n",
       "        vertical-align: middle;\n",
       "    }\n",
       "\n",
       "    .dataframe tbody tr th {\n",
       "        vertical-align: top;\n",
       "    }\n",
       "\n",
       "    .dataframe thead th {\n",
       "        text-align: right;\n",
       "    }\n",
       "</style>\n",
       "<table border=\"1\" class=\"dataframe\">\n",
       "  <thead>\n",
       "    <tr style=\"text-align: right;\">\n",
       "      <th></th>\n",
       "      <th>dist</th>\n",
       "      <th>rec_vel</th>\n",
       "    </tr>\n",
       "  </thead>\n",
       "  <tbody>\n",
       "    <tr>\n",
       "      <th>0</th>\n",
       "      <td>0.032</td>\n",
       "      <td>170</td>\n",
       "    </tr>\n",
       "    <tr>\n",
       "      <th>1</th>\n",
       "      <td>0.034</td>\n",
       "      <td>290</td>\n",
       "    </tr>\n",
       "    <tr>\n",
       "      <th>2</th>\n",
       "      <td>0.214</td>\n",
       "      <td>-130</td>\n",
       "    </tr>\n",
       "    <tr>\n",
       "      <th>3</th>\n",
       "      <td>0.263</td>\n",
       "      <td>-70</td>\n",
       "    </tr>\n",
       "    <tr>\n",
       "      <th>4</th>\n",
       "      <td>0.275</td>\n",
       "      <td>-185</td>\n",
       "    </tr>\n",
       "  </tbody>\n",
       "</table>\n",
       "</div>"
      ],
      "text/plain": [
       "    dist  rec_vel\n",
       "0  0.032      170\n",
       "1  0.034      290\n",
       "2  0.214     -130\n",
       "3  0.263      -70\n",
       "4  0.275     -185"
      ]
     },
     "execution_count": 19,
     "metadata": {},
     "output_type": "execute_result"
    }
   ],
   "source": [
    "# you can create your own headers or column labels\n",
    "headers = [\"dist\",\"rec_vel\"]\n",
    "\n",
    "# read the hubble_data_no_headers.csv file and set the column names to be the headers list\n",
    "data_no_headers = pd.read_csv(\"hubble_data_no_headers.csv\", names = headers)\n",
    "\n",
    "# display the first 5 rows of data with the new headers\n",
    "data_no_headers.head()"
   ]
  },
  {
   "cell_type": "code",
   "execution_count": 20,
   "metadata": {},
   "outputs": [
    {
     "data": {
      "text/plain": [
       "0     0.032\n",
       "1     0.034\n",
       "2     0.214\n",
       "3     0.263\n",
       "4     0.275\n",
       "5     0.275\n",
       "6     0.450\n",
       "7     0.500\n",
       "8     0.500\n",
       "9     0.630\n",
       "10    0.800\n",
       "11    0.900\n",
       "12    0.900\n",
       "13    0.900\n",
       "14    0.900\n",
       "15    1.000\n",
       "16    1.100\n",
       "17    1.100\n",
       "18    1.400\n",
       "19    1.700\n",
       "20    2.000\n",
       "21    2.000\n",
       "22    2.000\n",
       "23    2.000\n",
       "Name: dist, dtype: float64"
      ]
     },
     "execution_count": 20,
     "metadata": {},
     "output_type": "execute_result"
    }
   ],
   "source": [
    "# display only the dist column\n",
    "# the entire data set is displayed along with the data type\n",
    "data_no_headers[\"dist\"]"
   ]
  },
  {
   "cell_type": "code",
   "execution_count": 21,
   "metadata": {},
   "outputs": [],
   "source": [
    "# Getting ready to plot and we want distance to be the index\n",
    "# or the independent axis variable\n",
    "# inplace = True suppresses printing the entire list\n",
    "\n",
    "data.set_index(\"distance\", inplace = True)"
   ]
  },
  {
   "cell_type": "code",
   "execution_count": 22,
   "metadata": {},
   "outputs": [
    {
     "data": {
      "text/html": [
       "<div>\n",
       "<style scoped>\n",
       "    .dataframe tbody tr th:only-of-type {\n",
       "        vertical-align: middle;\n",
       "    }\n",
       "\n",
       "    .dataframe tbody tr th {\n",
       "        vertical-align: top;\n",
       "    }\n",
       "\n",
       "    .dataframe thead th {\n",
       "        text-align: right;\n",
       "    }\n",
       "</style>\n",
       "<table border=\"1\" class=\"dataframe\">\n",
       "  <thead>\n",
       "    <tr style=\"text-align: right;\">\n",
       "      <th></th>\n",
       "      <th>recession_velocity</th>\n",
       "    </tr>\n",
       "    <tr>\n",
       "      <th>distance</th>\n",
       "      <th></th>\n",
       "    </tr>\n",
       "  </thead>\n",
       "  <tbody>\n",
       "    <tr>\n",
       "      <th>0.032</th>\n",
       "      <td>170</td>\n",
       "    </tr>\n",
       "    <tr>\n",
       "      <th>0.034</th>\n",
       "      <td>290</td>\n",
       "    </tr>\n",
       "    <tr>\n",
       "      <th>0.214</th>\n",
       "      <td>-130</td>\n",
       "    </tr>\n",
       "    <tr>\n",
       "      <th>0.263</th>\n",
       "      <td>-70</td>\n",
       "    </tr>\n",
       "    <tr>\n",
       "      <th>0.275</th>\n",
       "      <td>-185</td>\n",
       "    </tr>\n",
       "  </tbody>\n",
       "</table>\n",
       "</div>"
      ],
      "text/plain": [
       "          recession_velocity\n",
       "distance                    \n",
       "0.032                    170\n",
       "0.034                    290\n",
       "0.214                   -130\n",
       "0.263                    -70\n",
       "0.275                   -185"
      ]
     },
     "execution_count": 22,
     "metadata": {},
     "output_type": "execute_result"
    }
   ],
   "source": [
    "# print the first five rows of data\n",
    "# illustrating that distance is now\n",
    "# the leftmost column\n",
    "\n",
    "data.head()"
   ]
  },
  {
   "cell_type": "code",
   "execution_count": 23,
   "metadata": {},
   "outputs": [
    {
     "data": {
      "image/png": "[encoded data removed]",
      "text/plain": [
       "<Figure size 432x288 with 1 Axes>"
      ]
     },
     "metadata": {},
     "output_type": "display_data"
    }
   ],
   "source": [
    "# plot the graph with distance as the independent variable\n",
    "data.plot()\n",
    "\n",
    "# technically, you don't NEED this line, but the plot looks better\n",
    "# try it with and without by placing a # in front of the statement\n",
    "plt.show()"
   ]
  },
  {
   "cell_type": "markdown",
   "metadata": {},
   "source": [
    "How neat was that?  We'll explore pandas and matplotlib a bit more in the next notebook.\n",
    "\n",
    "### Try It Yourself\n",
    "Make certain to visit:\n",
    "\n",
    "* [pandas website](https://pandas.pydata.org/)\n",
    "* [matplotlib website](https://matplotlib.org/)\n",
    "* [numpy website](https://www.numpy.org/)\n",
    "\n",
    "The matplotlib website is particularly interesting, in my opinion, of course."
   ]
  },
  {
   "cell_type": "code",
   "execution_count": null,
   "metadata": {},
   "outputs": [],
   "source": []
  }
 ],
 "metadata": {
  "kernelspec": {
   "display_name": "Python 3",
   "language": "python",
   "name": "python3"
  },
  "language_info": {
   "codemirror_mode": {
    "name": "ipython",
    "version": 3
   },
   "file_extension": ".py",
   "mimetype": "text/x-python",
   "name": "python",
   "nbconvert_exporter": "python",
   "pygments_lexer": "ipython3",
   "version": "3.6.6"
  }
 },
 "nbformat": 4,
 "nbformat_minor": 2
}
