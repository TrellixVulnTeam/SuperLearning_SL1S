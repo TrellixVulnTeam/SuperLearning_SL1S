{
 "cells": [
  {
   "cell_type": "markdown",
   "metadata": {},
   "source": [
    "# Assignment 2 Model Solutions"
   ]
  },
  {
   "cell_type": "markdown",
   "metadata": {},
   "source": [
    "## Exercise 1 (6 Marks)\n",
    "\n",
    "* Create a list with 10 string or name items and print the list\n",
    "* Remove the last 3 items from the list\n",
    "* Append 3 new items to the list\n",
    "* Insert 1 new item between items 4 and 5\n",
    "* Change item 2 to something different\n",
    "* Take a slice from the list and print it\n",
    "\n",
    "Remember to print each result.  You can do all items in one Python cell if you want.  Use remark (#) statements to label each part of your solution.  If you need to separate the output for neatness, you can insert an empty print() statement or use whitespace.\n",
    "\n",
    "Use the code cell below for your solution."
   ]
  },
  {
   "cell_type": "code",
   "execution_count": 16,
   "metadata": {},
   "outputs": [
    {
     "name": "stdout",
     "output_type": "stream",
     "text": [
      "clouds\n",
      "rain\n",
      "snow\n",
      "ice\n",
      "sleet\n",
      "storms\n",
      "thunder\n",
      "lightning\n",
      "wind\n",
      "hail\n",
      "\n",
      "['clouds', 'rain', 'snow', 'ice', 'sleet', 'storms', 'thunder']\n",
      "['clouds', 'rain', 'snow', 'ice', 'sleet', 'storms', 'thunder', 'hurricane', 'tornado', 'fog']\n",
      "\n",
      "['clouds', 'rain', 'snow', 'ice', 'cirrus', 'sleet', 'storms', 'thunder', 'hurricane', 'tornado', 'fog']\n",
      "\n",
      "['clouds', 'something different', 'snow', 'ice', 'cirrus', 'sleet', 'storms', 'thunder', 'hurricane', 'tornado', 'fog']\n",
      "\n",
      "['cirrus', 'sleet', 'storms', 'thunder', 'hurricane']\n"
     ]
    }
   ],
   "source": [
    "# create a list with 10 items and print\n",
    "items = ['clouds','rain','snow','ice','sleet','storms','thunder','lightning','wind','hail']\n",
    "for item in items:\n",
    "    print(item)\n",
    "\n",
    "# print an empty line\n",
    "print()\n",
    "\n",
    "# remove the last 3 items and print\n",
    "del items[-3:]\n",
    "print(items)\n",
    "\n",
    "# append 3 new items to the list\n",
    "items.append('hurricane')\n",
    "items.append('tornado')\n",
    "items.append('fog')\n",
    "print(items)\n",
    "\n",
    "print()\n",
    "\n",
    "# insert 1 new item between items 4 and 5\n",
    "items.insert(4,'cirrus')\n",
    "print(items)\n",
    "\n",
    "print()\n",
    "\n",
    "# change item 2 to something different\n",
    "items[1] = 'something different'    # couldn't resist...\n",
    "print(items)\n",
    "\n",
    "print()\n",
    "\n",
    "# slice items 5 to 8 inclusive... any slice is OK\n",
    "item_slice = items[4:9]\n",
    "print(item_slice)"
   ]
  },
  {
   "cell_type": "markdown",
   "metadata": {},
   "source": [
    "## Exercise 2 (3 Marks)\n",
    "\n",
    "Write a program that calculates and prints the first 50 powers of 2 minus 1.  Instead of using n\\*\\*2, you will need the following function (which we used earlier in the course):\n",
    "\n",
    "2\\*\\*n - 1\n",
    "\n",
    "Hint:  Use the squares program in Notebook 2 as a model.\n",
    "\n",
    "\n",
    "Use the code cell below for your solution."
   ]
  },
  {
   "cell_type": "code",
   "execution_count": 17,
   "metadata": {},
   "outputs": [
    {
     "name": "stdout",
     "output_type": "stream",
     "text": [
      "1\n",
      "3\n",
      "7\n",
      "15\n",
      "31\n",
      "63\n",
      "127\n",
      "255\n",
      "511\n",
      "1023\n",
      "2047\n",
      "4095\n",
      "8191\n",
      "16383\n",
      "32767\n",
      "65535\n",
      "131071\n",
      "262143\n",
      "524287\n",
      "1048575\n",
      "2097151\n",
      "4194303\n",
      "8388607\n",
      "16777215\n",
      "33554431\n",
      "67108863\n",
      "134217727\n",
      "268435455\n",
      "536870911\n",
      "1073741823\n",
      "2147483647\n",
      "4294967295\n",
      "8589934591\n",
      "17179869183\n",
      "34359738367\n",
      "68719476735\n",
      "137438953471\n",
      "274877906943\n",
      "549755813887\n",
      "1099511627775\n",
      "2199023255551\n",
      "4398046511103\n",
      "8796093022207\n",
      "17592186044415\n",
      "35184372088831\n",
      "70368744177663\n",
      "140737488355327\n",
      "281474976710655\n",
      "562949953421311\n",
      "1125899906842623\n"
     ]
    }
   ],
   "source": [
    "# print 50 powers of 2 - 1\n",
    "for n in range(1,51):\n",
    "    print(2**n - 1)\n"
   ]
  },
  {
   "cell_type": "markdown",
   "metadata": {},
   "source": [
    "## Exercise 3 (3 Marks)\n",
    "\n",
    "Write a program that finds the sum of the first 1000 even integers.  Not the evens from 1 to 1000, but the first **1000** even integers.  Also calculate the average of the 1000 even integers.  Print the length of the list, the sum of the list, the average of the list and the last 5 even numbers in the list."
   ]
  },
  {
   "cell_type": "code",
   "execution_count": 26,
   "metadata": {},
   "outputs": [
    {
     "name": "stdout",
     "output_type": "stream",
     "text": [
      "1000\n",
      "1001000\n",
      "1001.0\n",
      "1001.0\n",
      "[1992, 1994, 1996, 1998, 2000]\n"
     ]
    }
   ],
   "source": [
    "# create an empty list to store the evens\n",
    "evens = []\n",
    "\n",
    "for n in range(2,2001,2):\n",
    "    evens.append(n)\n",
    "\n",
    "# print the length of the variable to make certain we have 1000 evens\n",
    "print(len(evens))\n",
    "\n",
    "# print the sum of the list\n",
    "print(sum(evens))\n",
    "\n",
    "# print the average of the list\n",
    "print(sum(evens)/len(evens))\n",
    "\n",
    "# OR\n",
    "s = sum(evens)\n",
    "l = len(evens)\n",
    "ave = s/l\n",
    "print(ave)\n",
    "\n",
    "# print the last 5 even numbers in the list... to prove we actually have even numbers in the list!\n",
    "slice = evens[-5:]\n",
    "print(slice)\n",
    "    \n"
   ]
  },
  {
   "cell_type": "code",
   "execution_count": null,
   "metadata": {},
   "outputs": [],
   "source": []
  }
 ],
 "metadata": {
  "kernelspec": {
   "display_name": "Python 3",
   "language": "python",
   "name": "python3"
  },
  "language_info": {
   "codemirror_mode": {
    "name": "ipython",
    "version": 3
   },
   "file_extension": ".py",
   "mimetype": "text/x-python",
   "name": "python",
   "nbconvert_exporter": "python",
   "pygments_lexer": "ipython3",
   "version": "3.6.4"
  }
 },
 "nbformat": 4,
 "nbformat_minor": 2
}
