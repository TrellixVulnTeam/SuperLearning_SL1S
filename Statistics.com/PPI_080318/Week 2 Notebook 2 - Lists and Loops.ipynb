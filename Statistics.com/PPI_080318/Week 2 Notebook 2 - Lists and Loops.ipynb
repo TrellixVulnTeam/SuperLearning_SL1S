{
 "cells": [
  {
   "cell_type": "markdown",
   "metadata": {},
   "source": [
    "# Lists and Loops\n",
    "\n",
    "One of the more powerful (and valuable) features in Python and most other programming languages is the ability to store more than one value or string in a single variable.  We call such variables arrays in most languages (and I still call them arrays in Python), but the Python preference is to call these variables lists, tuples and dictionaries.\n",
    "\n",
    "We also need to have a method for storing, manipulating and printing all of the data we've stored in a list.  We can use a concept called slicing for some of this task, but loops are a powerful method for working with lists.  Loops are a very useful programming tool and will you/me/us to perform repetitive tasks multiple (thousands, millions) times.\n",
    "\n",
    "At the end of this notebook (and if all goes well) you will have the basic tools needed to write some interesting and useful programs!"
   ]
  },
  {
   "cell_type": "markdown",
   "metadata": {},
   "source": [
    "## Lists\n"
   ]
  },
  {
   "cell_type": "markdown",
   "metadata": {},
   "source": [
    "A list is a set of data stored in a single variable.  The items in the list probably should be related in some way, but there are no real restrictions to what can be stored in a list.  Some programming languages require you to specify what type of data your list (or array) can hold, i.e. integers, floating point values or strings, but Python allows darn near anything.  Here is an example:"
   ]
  },
  {
   "cell_type": "code",
   "execution_count": 3,
   "metadata": {},
   "outputs": [
    {
     "name": "stdout",
     "output_type": "stream",
     "text": [
      "rupert\n",
      "kira sue\n",
      "mathilda\n",
      "7\n"
     ]
    }
   ],
   "source": [
    "my_pets = ['rupert','kira sue','mathilda', 7]\n",
    "for petnames in my_pets:\n",
    "    print(petnames)"
   ]
  },
  {
   "cell_type": "markdown",
   "metadata": {},
   "source": [
    "OK, what just happened?  Does the output make sense?  Except for the number 7, those are the names of my pets... 2 cats and a dachsund.  I stored all the names (and the number 7) in the my_pets variable for safe keeping (and my pets are none the wiser).  Most languages require much more effort to store a list of values, but Python makes the job easy!\n",
    "\n",
    "How do I get the names (and the number 7) back?  Again, easy!  I use a loop.  The 'for' command starts the looping process.  Basically the\n",
    "\n",
    "    for petnames in my_pets:\n",
    "\n",
    "statement says \"for each of the values in the my_pets variable, put the value into the variable petnames one at a time so I can print them out\"\n",
    "\n",
    "You will notice that the Jupyter notebook indented the print() statement 4 spaces.  This is IMPORTANT and a common source of errors in loops and in conditionals (which we'll discuss later).  The indented code tells Python that the indented line(s) belong to the loop.  Let's see what happens if we don't indent:"
   ]
  },
  {
   "cell_type": "code",
   "execution_count": 8,
   "metadata": {},
   "outputs": [
    {
     "name": "stdout",
     "output_type": "stream",
     "text": [
      "Rupert\n",
      "Kira Sue\n",
      "Mathilda\n"
     ]
    },
    {
     "ename": "AttributeError",
     "evalue": "'int' object has no attribute 'title'",
     "output_type": "error",
     "traceback": [
      "\u001b[1;31m--------------------\u001b[0m",
      "\u001b[1;31mAttributeError\u001b[0mTraceback (most recent call last)",
      "\u001b[1;32m<ipython-input-8-93168a424cdf>\u001b[0m in \u001b[0;36m<module>\u001b[1;34m()\u001b[0m\n\u001b[0;32m      1\u001b[0m \u001b[0mmy_pets\u001b[0m \u001b[1;33m=\u001b[0m \u001b[1;33m[\u001b[0m\u001b[1;34m'rupert'\u001b[0m\u001b[1;33m,\u001b[0m\u001b[1;34m'kira sue'\u001b[0m\u001b[1;33m,\u001b[0m\u001b[1;34m'mathilda'\u001b[0m\u001b[1;33m,\u001b[0m \u001b[1;36m7\u001b[0m\u001b[1;33m]\u001b[0m\u001b[1;33m\u001b[0m\u001b[0m\n\u001b[0;32m      2\u001b[0m \u001b[1;32mfor\u001b[0m \u001b[0mpetnames\u001b[0m \u001b[1;32min\u001b[0m \u001b[0mmy_pets\u001b[0m\u001b[1;33m:\u001b[0m\u001b[1;33m\u001b[0m\u001b[0m\n\u001b[1;32m----> 3\u001b[1;33m     \u001b[0mprint\u001b[0m\u001b[1;33m(\u001b[0m\u001b[0mpetnames\u001b[0m\u001b[1;33m.\u001b[0m\u001b[0mtitle\u001b[0m\u001b[1;33m(\u001b[0m\u001b[1;33m)\u001b[0m\u001b[1;33m)\u001b[0m\u001b[1;33m\u001b[0m\u001b[0m\n\u001b[0m",
      "\u001b[1;31mAttributeError\u001b[0m: 'int' object has no attribute 'title'"
     ]
    }
   ],
   "source": [
    "my_pets = ['rupert','kira sue','mathilda', 7]\n",
    "for petnames in my_pets:\n",
    "    print(petnames.title())"
   ]
  },
  {
   "cell_type": "markdown",
   "metadata": {},
   "source": [
    "Ah ha! Yes, we can capitalize the names, but not the number!  So, even though we can store any kind of data in a Python list, we can't always perform the same task on each of the members of the list.  It makes no sense to capitalize the number 7.  \n",
    "\n",
    "One more time..."
   ]
  },
  {
   "cell_type": "code",
   "execution_count": 9,
   "metadata": {},
   "outputs": [
    {
     "name": "stdout",
     "output_type": "stream",
     "text": [
      "rupert\n",
      "kira sue\n",
      "mathilda\n",
      "7\n"
     ]
    }
   ],
   "source": [
    "my_pets = ['rupert','kira sue','mathilda', '7']\n",
    "for petnames in my_pets:\n",
    "    print(petnames)"
   ]
  },
  {
   "cell_type": "markdown",
   "metadata": {},
   "source": [
    "OK, what just happened?  Look closely at the number 7.  I've enclosed it in single quotes and Python now looks at the 7 as a string rather than a number.  For example:"
   ]
  },
  {
   "cell_type": "code",
   "execution_count": 10,
   "metadata": {},
   "outputs": [
    {
     "name": "stdout",
     "output_type": "stream",
     "text": [
      "14\n",
      "77\n"
     ]
    }
   ],
   "source": [
    "print(7+7)\n",
    "print('7'+'7')"
   ]
  },
  {
   "cell_type": "markdown",
   "metadata": {},
   "source": [
    "The first print() statement added two integers as expected, but the second statement used string concatenation to glue the two 7s together.  A '7' is nothing more than a string character to Python.  Now back to our story.  I'm going to create a list of the first names of each of my grandkids and then access the last name in the list (I should have said earlier that creating a list requires using brackets and separating the list items with commas)."
   ]
  },
  {
   "cell_type": "code",
   "execution_count": 13,
   "metadata": {},
   "outputs": [
    {
     "name": "stdout",
     "output_type": "stream",
     "text": [
      "lexi\n"
     ]
    }
   ],
   "source": [
    "# I want to access the last name in the list\n",
    "my_grandkids = ['xander','elli','lexi']\n",
    "lastname = my_grandkids[-1]\n",
    "print(lastname)"
   ]
  },
  {
   "cell_type": "markdown",
   "metadata": {},
   "source": [
    "access the first name"
   ]
  },
  {
   "cell_type": "code",
   "execution_count": 16,
   "metadata": {},
   "outputs": [
    {
     "name": "stdout",
     "output_type": "stream",
     "text": [
      "xander\n"
     ]
    }
   ],
   "source": [
    "my_grandkids = ['xander','elli','lexi']\n",
    "lastname = my_grandkids[0]\n",
    "print(lastname)"
   ]
  },
  {
   "cell_type": "markdown",
   "metadata": {},
   "source": [
    "access the second name"
   ]
  },
  {
   "cell_type": "code",
   "execution_count": 17,
   "metadata": {},
   "outputs": [
    {
     "name": "stdout",
     "output_type": "stream",
     "text": [
      "elli\n"
     ]
    }
   ],
   "source": [
    "my_grandkids = ['xander','elli','lexi']\n",
    "lastname = my_grandkids[1]\n",
    "print(lastname)"
   ]
  },
  {
   "cell_type": "markdown",
   "metadata": {},
   "source": [
    "and the second name again"
   ]
  },
  {
   "cell_type": "code",
   "execution_count": 18,
   "metadata": {},
   "outputs": [
    {
     "name": "stdout",
     "output_type": "stream",
     "text": [
      "elli\n"
     ]
    }
   ],
   "source": [
    "my_grandkids = ['xander','elli','lexi']\n",
    "lastname = my_grandkids[-2]\n",
    "print(lastname)"
   ]
  },
  {
   "cell_type": "raw",
   "metadata": {},
   "source": [
    "No, you are not going mad. The  \n",
    "\n",
    "lastname = my_grandkids[0]\n",
    "\n",
    "statement accesses the first name in the list.  Computer scientists long ago decided that they would start counting with 0 rather than 1.  I probably knew the reason at some point, but I've slept since then.  When we count items in a list or array, 0 is the first element or item position.  my_grandkids[0] is where xander is stored (poor little guy).  my_grandkids[1] is the second item in the list and holds elli and my_grandkids[2] stores lexi in the third position.\n",
    "\n",
    "But what about the negative numbers (or indexes in computer talk)?  Assume the list is arranged like a number line starting with 0 and going to the right (in the positive direction) until you reach the end of the list.  If you have reached the end of the list and you want to go back to the last item, you move in the negative direction.  So, an index of -1 moves you back to the last item in the list.  -2 moves back 2 places, etc."
   ]
  },
  {
   "cell_type": "markdown",
   "metadata": {},
   "source": [
    "### Try It Yourself\n",
    "\n",
    "Make a list of your pets, children, friends, family members or anything you choose. Enter the list using lower case, but print the list with the names capitalized.  Then, use the techniques above to print some individual items in the list.  Use at least one negative index value just for fun."
   ]
  },
  {
   "cell_type": "code",
   "execution_count": 29,
   "metadata": {},
   "outputs": [
    {
     "name": "stdout",
     "output_type": "stream",
     "text": [
      "Katie\n",
      "Louritha\n",
      "John\n",
      "Larfaya\n",
      "Catina\n",
      "Dorn\n",
      "Jonathan\n",
      "Phillip\n",
      "Brian\n",
      "Dorrian\n",
      "Jada\n",
      "\n"
     ]
    }
   ],
   "source": [
    "my_family = [\"katie\", \"louritha\", \"john\", \"larfaya\", \"catina\", \"dorn\", \"jonathan\", \n",
    "             \"phillip\", \"brian\", \"dorrian\", \"jada\"]\n",
    "for member in my_family:\n",
    "    print(member.title())\n",
    "print()"
   ]
  },
  {
   "cell_type": "code",
   "execution_count": 30,
   "metadata": {},
   "outputs": [
    {
     "name": "stdout",
     "output_type": "stream",
     "text": [
      "Dorn\n",
      "Jonathan\n"
     ]
    }
   ],
   "source": [
    "print(my_family[5].title())\n",
    "print(my_family[-5].title())"
   ]
  },
  {
   "cell_type": "code",
   "execution_count": null,
   "metadata": {},
   "outputs": [],
   "source": []
  },
  {
   "cell_type": "markdown",
   "metadata": {},
   "source": [
    "### Let's review\n",
    "\n",
    "Here is a quick walkthrough of the following loop statement:\n",
    "    \n",
    "    for petnames in my_pets:\n",
    "    \n",
    "* The keyword 'for' tells Python to loop\n",
    "* The variable 'petnames' is a temporary placeholder variable. Python will place each item in the list into this variable one at a time\n",
    "* The first time through the loop, the value of 'petnames' will be 'rupert'\n",
    "* The second time through the loop, the value of 'petnames' will be 'kira sue'\n",
    "* The third time through the loop, the value of 'petnames' will be 'mathilda'\n",
    "* The fourth time through, 'petnames' will be 7\n",
    "* The loop ends after that last item and the program proceeds\n",
    "\n",
    "More on indentation...\n"
   ]
  },
  {
   "cell_type": "code",
   "execution_count": 35,
   "metadata": {},
   "outputs": [
    {
     "name": "stdout",
     "output_type": "stream",
     "text": [
      "I have flown the jabiru\n",
      "and I like to fly the jabiru;\n",
      "I have flown the skyhawk\n",
      "and I like to fly the skyhawk;\n",
      "I have flown the cherokee\n",
      "and I like to fly the cherokee;\n",
      "I have flown the zenith\n",
      "and I like to fly the zenith;\n",
      "I have flown the tecnam\n",
      "and I like to fly the tecnam;\n",
      "\n",
      "but most of the time I fly the jabiru.\n"
     ]
    }
   ],
   "source": [
    "airplanes = ['jabiru','skyhawk','cherokee','zenith','tecnam']\n",
    "for fly in airplanes:\n",
    "    print('I have flown the ' + fly)\n",
    "    print('and I like to fly the ' + fly + \";\")\n",
    "    \n",
    "print('\\nbut most of the time I fly the ' + airplanes[0] + \".\")\n",
    "    "
   ]
  },
  {
   "cell_type": "markdown",
   "metadata": {},
   "source": [
    "You can see that the indented lines are included in the loop.  Once the loop is finished going through the list, the program continues with the next line of unindented code."
   ]
  },
  {
   "cell_type": "markdown",
   "metadata": {},
   "source": [
    "### Modifying elements in a list"
   ]
  },
  {
   "cell_type": "markdown",
   "metadata": {},
   "source": [
    "You can edit or change any item or value in a list if you know where the item is located in the list (its index)"
   ]
  },
  {
   "cell_type": "code",
   "execution_count": 36,
   "metadata": {},
   "outputs": [
    {
     "name": "stdout",
     "output_type": "stream",
     "text": [
      "Cardinals\n",
      "Cubs\n",
      "Yankees\n",
      "Giants\n",
      "Astros\n",
      "\n",
      "Cardinals\n",
      "White Sox\n",
      "Yankees\n",
      "Giants\n",
      "Astros\n"
     ]
    }
   ],
   "source": [
    "teams = ['Cardinals','Cubs','Yankees','Giants','Astros']\n",
    "for team in teams:\n",
    "    print(team)\n",
    "\n",
    "print()   # the empty print statement separates the two sets of teams\n",
    "    \n",
    "teams[1] = 'White Sox'\n",
    "for team in teams:\n",
    "    print(team)"
   ]
  },
  {
   "cell_type": "markdown",
   "metadata": {},
   "source": [
    "One common error in looping is to use the list variable in the print statement instead of the placeholder variable.  Look carefully at the spelling!"
   ]
  },
  {
   "cell_type": "code",
   "execution_count": 37,
   "metadata": {},
   "outputs": [
    {
     "name": "stdout",
     "output_type": "stream",
     "text": [
      "['Cardinals', 'Cubs', 'Yankees', 'Giants', 'Astros']\n",
      "['Cardinals', 'Cubs', 'Yankees', 'Giants', 'Astros']\n",
      "['Cardinals', 'Cubs', 'Yankees', 'Giants', 'Astros']\n",
      "['Cardinals', 'Cubs', 'Yankees', 'Giants', 'Astros']\n",
      "['Cardinals', 'Cubs', 'Yankees', 'Giants', 'Astros']\n"
     ]
    }
   ],
   "source": [
    "teams = ['Cardinals','Cubs','Yankees','Giants','Astros']\n",
    "for team in teams:\n",
    "    print(teams)"
   ]
  },
  {
   "cell_type": "markdown",
   "metadata": {},
   "source": [
    "If you aren't certain where a particular value is located (i.e. its list index), you can perform a search.  This is a useful feature for large lists."
   ]
  },
  {
   "cell_type": "code",
   "execution_count": 38,
   "metadata": {},
   "outputs": [
    {
     "name": "stdout",
     "output_type": "stream",
     "text": [
      "1\n"
     ]
    }
   ],
   "source": [
    "# find the Cubs\n",
    "teams = ['Cardinals','Cubs','Yankees','Giants','Astros']\n",
    "print(teams.index('Cubs'))"
   ]
  },
  {
   "cell_type": "markdown",
   "metadata": {},
   "source": [
    "You can also check for the existencs of an item in a list.  The statement returns True if the item exists in the list and False if it does not."
   ]
  },
  {
   "cell_type": "code",
   "execution_count": 39,
   "metadata": {},
   "outputs": [
    {
     "name": "stdout",
     "output_type": "stream",
     "text": [
      "True\n",
      "False\n"
     ]
    }
   ],
   "source": [
    "teams = ['Cardinals','Cubs','Yankees','Giants','Astros']\n",
    "print('Giants' in teams)\n",
    "print('Red Sox' in teams)"
   ]
  },
  {
   "cell_type": "markdown",
   "metadata": {},
   "source": [
    "Adding new items to a list is easy.  You can append or insert:"
   ]
  },
  {
   "cell_type": "code",
   "execution_count": 40,
   "metadata": {},
   "outputs": [
    {
     "name": "stdout",
     "output_type": "stream",
     "text": [
      "Cardinals\n",
      "Cubs\n",
      "Yankees\n",
      "Giants\n",
      "Astros\n",
      "Dodgers\n"
     ]
    }
   ],
   "source": [
    "# append an item to a list\n",
    "teams = ['Cardinals','Cubs','Yankees','Giants','Astros']\n",
    "teams.append('Dodgers')\n",
    "\n",
    "for team in teams:\n",
    "    print(team)"
   ]
  },
  {
   "cell_type": "code",
   "execution_count": 42,
   "metadata": {},
   "outputs": [
    {
     "name": "stdout",
     "output_type": "stream",
     "text": [
      "Cardinals\n",
      "Cubs\n",
      "Red Sox\n",
      "Yankees\n",
      "Giants\n",
      "Astros\n"
     ]
    }
   ],
   "source": [
    "# inserting an item in a list... insert 'Red Sox' in the 3rd spot in the list\n",
    "teams = ['Cardinals','Cubs','Yankees','Giants','Astros']\n",
    "teams.insert(2, 'Red Sox')\n",
    "\n",
    "for team in teams:\n",
    "    print(team)"
   ]
  },
  {
   "cell_type": "markdown",
   "metadata": {},
   "source": [
    "Sometimes it's best to create an empty list and fill it later as needed"
   ]
  },
  {
   "cell_type": "code",
   "execution_count": 43,
   "metadata": {},
   "outputs": [
    {
     "name": "stdout",
     "output_type": "stream",
     "text": [
      "Wainwright\n",
      "Rizzo\n",
      "Bryant\n",
      "Pujols\n"
     ]
    }
   ],
   "source": [
    "# create an empty list\n",
    "players = []\n",
    "\n",
    "# add some players\n",
    "players.append('Wainwright')\n",
    "players.append('Rizzo')\n",
    "players.append('Bryant')\n",
    "players.append('Pujols')\n",
    "\n",
    "for player in players:\n",
    "    print(player)\n",
    "\n"
   ]
  },
  {
   "cell_type": "markdown",
   "metadata": {},
   "source": [
    "We can also sort... make certain you've run the previous code cell!"
   ]
  },
  {
   "cell_type": "code",
   "execution_count": 44,
   "metadata": {},
   "outputs": [
    {
     "name": "stdout",
     "output_type": "stream",
     "text": [
      "Bryant\n",
      "Pujols\n",
      "Rizzo\n",
      "Wainwright\n"
     ]
    }
   ],
   "source": [
    "players.sort()\n",
    "for player in players:\n",
    "    print(player)"
   ]
  },
  {
   "cell_type": "markdown",
   "metadata": {},
   "source": [
    "There are other Python functions available for sorting, reversing and manipulating lists.  If you are interested, I encourage you to look in the Help > Python Reference for more information.  You can also sort, edit and append numerical lists as well."
   ]
  },
  {
   "cell_type": "markdown",
   "metadata": {},
   "source": [
    "One last list function is the len() function, which returns the number of items in a list.  Again, make certain you've run (ran?) the previous cells."
   ]
  },
  {
   "cell_type": "code",
   "execution_count": 45,
   "metadata": {},
   "outputs": [
    {
     "name": "stdout",
     "output_type": "stream",
     "text": [
      "The number of players in our list is 5\n"
     ]
    }
   ],
   "source": [
    "# append to the players list and find its length\n",
    "players.append('Stanton')\n",
    "\n",
    "players_count = len(players)\n",
    "print('The number of players in our list is ' + str(players_count))"
   ]
  },
  {
   "cell_type": "markdown",
   "metadata": {},
   "source": [
    "The len() function returns an integer, which can't be concatenated as a string.  If we want to concatenate the number with a string, we need to use the str() function.  One other 'trick'... run the previous cell several times and watch the number of players in the list.  Why is this happening?"
   ]
  },
  {
   "cell_type": "markdown",
   "metadata": {},
   "source": [
    "### Try It Yourself\n",
    "Create a list and:\n",
    "\n",
    "* append to the list\n",
    "* edit a list item\n",
    "* insert another item in the middle of the list\n",
    "* sort the list \n",
    "* count the number items in your list and print the value"
   ]
  },
  {
   "cell_type": "markdown",
   "metadata": {},
   "source": [
    "Items can be removed from the list also."
   ]
  },
  {
   "cell_type": "code",
   "execution_count": 46,
   "metadata": {},
   "outputs": [
    {
     "name": "stdout",
     "output_type": "stream",
     "text": [
      "['Bryant', 'Pujols', 'Rizzo', 'Wainwright', 'Stanton']\n",
      "['Bryant', 'Pujols', 'Wainwright', 'Stanton']\n",
      "['Bryant', 'Pujols', 'Wainwright', 'Stanton']\n",
      "['Bryant', 'Pujols', 'Wainwright']\n"
     ]
    }
   ],
   "source": [
    "# the del function uses an item index\n",
    "print(players)\n",
    "del players[2]\n",
    "print(players)\n",
    "\n",
    "# the remove action for item names only... no index values\n",
    "print(players)\n",
    "players.remove('Stanton')\n",
    "print(players)"
   ]
  },
  {
   "cell_type": "markdown",
   "metadata": {},
   "source": [
    "### Slicing\n",
    "\n",
    "It's also possible to work with more than one list item using a procedure called slicing"
   ]
  },
  {
   "cell_type": "code",
   "execution_count": 47,
   "metadata": {},
   "outputs": [
    {
     "name": "stdout",
     "output_type": "stream",
     "text": [
      "['civic', 'crv', 'impala']\n",
      "['crv', 'impala', 'terrain']\n",
      "['impala', 'terrain', 'bobcat', 'exp', 'monarch', 'volkswagon']\n",
      "['civic', 'crv', 'impala', 'terrain']\n"
     ]
    }
   ],
   "source": [
    "# make a list of cars I've owned\n",
    "cars = ['civic', 'crv', 'impala', 'terrain', 'bobcat', 'exp', 'monarch', 'volkswagon']\n",
    "\n",
    "# print the first 3 cars... from 0 up to but not including the 4th item\n",
    "print(cars[0:3])\n",
    "\n",
    "# print the 2nd through 4th items\n",
    "print(cars[1:4])\n",
    "\n",
    "# print the 3rd item to the end of the list\n",
    "print(cars[2:])\n",
    "\n",
    "# print from the first 4 items in the list\n",
    "print(cars[:4])\n"
   ]
  },
  {
   "cell_type": "markdown",
   "metadata": {},
   "source": [
    "Slicing does not affect the original list.  Remember that we start counting list positions (index values) from 0."
   ]
  },
  {
   "cell_type": "markdown",
   "metadata": {},
   "source": [
    "## Numerical Lists\n",
    "\n",
    "Lists of numbers are very similar to lists of strings, but there are additional methods we can use with numeric lists."
   ]
  },
  {
   "cell_type": "code",
   "execution_count": 48,
   "metadata": {},
   "outputs": [
    {
     "name": "stdout",
     "output_type": "stream",
     "text": [
      "1\n",
      "2\n",
      "3\n",
      "4\n",
      "5\n",
      "6\n",
      "7\n",
      "8\n",
      "9\n",
      "10\n"
     ]
    }
   ],
   "source": [
    "# print out the first 10 integers\n",
    "numbers = [1, 2, 3, 4, 5, 6, 7, 8, 9, 10]\n",
    "for n in numbers:\n",
    "    print(n)"
   ]
  },
  {
   "cell_type": "markdown",
   "metadata": {},
   "source": [
    "Creating a list of numbers works, but it isn't efficient.  We can do better with the range() function."
   ]
  },
  {
   "cell_type": "code",
   "execution_count": 49,
   "metadata": {},
   "outputs": [
    {
     "name": "stdout",
     "output_type": "stream",
     "text": [
      "1\n",
      "2\n",
      "3\n",
      "4\n",
      "5\n",
      "6\n",
      "7\n",
      "8\n",
      "9\n",
      "10\n"
     ]
    }
   ],
   "source": [
    "# print the first 10 number using range()\n",
    "for n in range(1,11):\n",
    "    print(n)"
   ]
  },
  {
   "cell_type": "markdown",
   "metadata": {},
   "source": [
    "The range() function returns all values up to, but not including, the second value.  We can also cound by 2."
   ]
  },
  {
   "cell_type": "code",
   "execution_count": 50,
   "metadata": {},
   "outputs": [
    {
     "name": "stdout",
     "output_type": "stream",
     "text": [
      "2\n",
      "4\n",
      "6\n",
      "8\n",
      "10\n",
      "12\n",
      "14\n",
      "16\n",
      "18\n",
      "20\n"
     ]
    }
   ],
   "source": [
    "# counting by 2s\n",
    "for n in range(2, 21, 2):\n",
    "    print(n)"
   ]
  },
  {
   "cell_type": "code",
   "execution_count": 53,
   "metadata": {},
   "outputs": [
    {
     "name": "stdout",
     "output_type": "stream",
     "text": [
      "There are 1000000 values in the list.\n",
      "[999991, 999992, 999993, 999994, 999995, 999996, 999997, 999998, 999999, 1000000]\n"
     ]
    }
   ],
   "source": [
    "# using the list function, let's store 1 million values in a list\n",
    "million = list(range(1,1000001))\n",
    "\n",
    "# unless you have time, don't print the list!!  I'm not certain what happens?\n",
    "# but we can count the items in the list and print the last 10 values\n",
    "count = len(million)\n",
    "print(\"There are \" + str(count) + \" values in the list.\")\n",
    "\n",
    "# print the last 10 values in the list\n",
    "print(million[-10:])"
   ]
  },
  {
   "cell_type": "markdown",
   "metadata": {},
   "source": [
    "The last print statement prints the values from the -10 position from the end of the list to the end of the list... the last 10 values."
   ]
  },
  {
   "cell_type": "markdown",
   "metadata": {},
   "source": [
    "Additional function for numerical lists are min(), max() and sum()"
   ]
  },
  {
   "cell_type": "code",
   "execution_count": 54,
   "metadata": {},
   "outputs": [
    {
     "name": "stdout",
     "output_type": "stream",
     "text": [
      "The lowest score was 11\n",
      "The highest score was 38\n",
      "The class average was 21.285714285714285\n"
     ]
    }
   ],
   "source": [
    "scores = [23, 16, 14, 28, 19, 11, 38]\n",
    "\n",
    "lowest = min(scores)\n",
    "highest = max(scores)\n",
    "\n",
    "# the average can be found by dividing the sum by the number of scores\n",
    "average = sum(scores)/len(scores)\n",
    "\n",
    "print(\"The lowest score was \" + str(lowest))\n",
    "print(\"The highest score was \" + str(highest))\n",
    "print(\"The class average was \" + str(average))"
   ]
  },
  {
   "cell_type": "markdown",
   "metadata": {},
   "source": [
    "### Writing a program using what we've learned so far\n",
    "\n",
    "How would we go about writing a program that would store the first 20 squares in a list?"
   ]
  },
  {
   "cell_type": "code",
   "execution_count": 55,
   "metadata": {},
   "outputs": [
    {
     "name": "stdout",
     "output_type": "stream",
     "text": [
      "1\n",
      "4\n",
      "9\n",
      "16\n",
      "25\n",
      "36\n",
      "49\n",
      "64\n",
      "81\n",
      "100\n",
      "121\n",
      "144\n",
      "169\n",
      "196\n",
      "225\n",
      "256\n",
      "289\n",
      "324\n",
      "361\n",
      "400\n"
     ]
    }
   ],
   "source": [
    "# create an empty list to hold the squares\n",
    "squares = []\n",
    "\n",
    "# get the first 20 numbers, square them and append the squares to the list\n",
    "for n in range(1,21):\n",
    "    sq_number = n**2\n",
    "    squares.append(sq_number)\n",
    "\n",
    "# print the list to verify\n",
    "for n in squares:\n",
    "    print(n)"
   ]
  },
  {
   "cell_type": "markdown",
   "metadata": {},
   "source": [
    "There are other ways to accomplish the same task"
   ]
  },
  {
   "cell_type": "code",
   "execution_count": 56,
   "metadata": {},
   "outputs": [
    {
     "name": "stdout",
     "output_type": "stream",
     "text": [
      "1\n",
      "4\n",
      "9\n",
      "16\n",
      "25\n",
      "36\n",
      "49\n",
      "64\n",
      "81\n",
      "100\n",
      "121\n",
      "144\n",
      "169\n",
      "196\n",
      "225\n",
      "256\n",
      "289\n",
      "324\n",
      "361\n",
      "400\n"
     ]
    }
   ],
   "source": [
    "# more efficent, but less readable!\n",
    "squares = [n**2 for n in range(1,21)]\n",
    "\n",
    "# print the values\n",
    "for n in squares:\n",
    "    print(n)"
   ]
  },
  {
   "cell_type": "markdown",
   "metadata": {},
   "source": [
    "But this program is not as readable and I would not write it this way.  I am a fan of readability over efficiency!"
   ]
  },
  {
   "cell_type": "markdown",
   "metadata": {},
   "source": [
    "### Checking for items in a list\n",
    "\n",
    "Sometimes we need to simply find out if an item is in a list."
   ]
  },
  {
   "cell_type": "code",
   "execution_count": 57,
   "metadata": {},
   "outputs": [
    {
     "data": {
      "text/plain": [
       "True"
      ]
     },
     "execution_count": 57,
     "metadata": {},
     "output_type": "execute_result"
    }
   ],
   "source": [
    "letters = ['a','b','c','d','e','f']\n",
    "'a' in letters"
   ]
  },
  {
   "cell_type": "code",
   "execution_count": 58,
   "metadata": {},
   "outputs": [
    {
     "data": {
      "text/plain": [
       "False"
      ]
     },
     "execution_count": 58,
     "metadata": {},
     "output_type": "execute_result"
    }
   ],
   "source": [
    "letters = ['a','b','c','d','e','f']\n",
    "'z' in letters"
   ]
  },
  {
   "cell_type": "markdown",
   "metadata": {},
   "source": [
    "### Tuples\n",
    "\n",
    "An odd sounding name, but a tuple is a list that you can't edit.  That might sound strange, but if you need a permanent set of values that you can't accidently destroy, you would use a tuple."
   ]
  },
  {
   "cell_type": "code",
   "execution_count": 59,
   "metadata": {},
   "outputs": [
    {
     "name": "stdout",
     "output_type": "stream",
     "text": [
      "ivy\n",
      "rose\n",
      "daisy\n"
     ]
    }
   ],
   "source": [
    "# tuples are created using () instead of []\n",
    "plants = ('ivy', 'rose', 'daisy')\n",
    "for plant in plants:\n",
    "    print(plant)"
   ]
  },
  {
   "cell_type": "code",
   "execution_count": 60,
   "metadata": {},
   "outputs": [
    {
     "ename": "AttributeError",
     "evalue": "'tuple' object has no attribute 'append'",
     "output_type": "error",
     "traceback": [
      "\u001b[1;31m--------------------\u001b[0m",
      "\u001b[1;31mAttributeError\u001b[0mTraceback (most recent call last)",
      "\u001b[1;32m<ipython-input-60-04c3a163f20d>\u001b[0m in \u001b[0;36m<module>\u001b[1;34m()\u001b[0m\n\u001b[0;32m      1\u001b[0m \u001b[1;31m# if we try to append or change the list, we get an error\u001b[0m\u001b[1;33m\u001b[0m\u001b[1;33m\u001b[0m\u001b[0m\n\u001b[0;32m      2\u001b[0m \u001b[0mplants\u001b[0m \u001b[1;33m=\u001b[0m \u001b[1;33m(\u001b[0m\u001b[1;34m'ivy'\u001b[0m\u001b[1;33m,\u001b[0m \u001b[1;34m'rose'\u001b[0m\u001b[1;33m,\u001b[0m \u001b[1;34m'daisy'\u001b[0m\u001b[1;33m)\u001b[0m\u001b[1;33m\u001b[0m\u001b[0m\n\u001b[1;32m----> 3\u001b[1;33m \u001b[0mplants\u001b[0m\u001b[1;33m.\u001b[0m\u001b[0mappend\u001b[0m\u001b[1;33m(\u001b[0m\u001b[1;34m'tulip'\u001b[0m\u001b[1;33m)\u001b[0m\u001b[1;33m\u001b[0m\u001b[0m\n\u001b[0m",
      "\u001b[1;31mAttributeError\u001b[0m: 'tuple' object has no attribute 'append'"
     ]
    }
   ],
   "source": [
    "# if we try to append or change the list, we get an error\n",
    "plants = ('ivy', 'rose', 'daisy')\n",
    "plants.append('tulip')"
   ]
  },
  {
   "cell_type": "markdown",
   "metadata": {},
   "source": [
    "## Dictionaries\n",
    "Python has another type of list called a dictionary.  Dictionaries function in much the same way as a real dictionary.  A key word or value is associated with another word, value or phrase.  Dictionaries are a data structure and we won't go into detail here except to give an example.  Lists are enclosed in [brackets], Tuples in (parentheses) and Dictionaries in {braces}."
   ]
  },
  {
   "cell_type": "code",
   "execution_count": 61,
   "metadata": {},
   "outputs": [
    {
     "name": "stdout",
     "output_type": "stream",
     "text": [
      "apollo 12\n",
      "apollo 16\n"
     ]
    }
   ],
   "source": [
    "# create a dictionary\n",
    "moon_walkers = {'armstrong':'apollo 11','aldrin':'apollo 11',\n",
    "                'bean':'apollo 12','conrad':'apollo 12',\n",
    "                'shepard':'apollo 14','mitchell':'apollo 14',\n",
    "                'scott':'apollo 15','irwin':'apollo 15',\n",
    "                'duke':'apollo 16','young':'apollo 16',\n",
    "                'cernan':'apollo 17','schmidt':'apollo 17'}\n",
    "\n",
    "# ask for the apollo mission using the keyword\n",
    "print(moon_walkers['bean'])\n",
    "print(moon_walkers['duke'])"
   ]
  },
  {
   "cell_type": "code",
   "execution_count": 28,
   "metadata": {},
   "outputs": [
    {
     "name": "stdout",
     "output_type": "stream",
     "text": [
      "Armstrong Apollo 11\n",
      "Aldrin Apollo 11\n",
      "Bean Apollo 12\n",
      "Conrad Apollo 12\n",
      "Shepard Apollo 14\n",
      "Mitchell Apollo 14\n",
      "Scott Apollo 15\n",
      "Irwin Apollo 15\n",
      "Duke Apollo 16\n",
      "Young Apollo 16\n",
      "Cernan Apollo 17\n",
      "Schmidt Apollo 17\n"
     ]
    }
   ],
   "source": [
    "# create a dictionary\n",
    "moon_walkers = {'armstrong':'apollo 11','aldrin':'apollo 11',\n",
    "                'bean':'apollo 12','conrad':'apollo 12',\n",
    "                'shepard':'apollo 14','mitchell':'apollo 14',\n",
    "                'scott':'apollo 15','irwin':'apollo 15',\n",
    "                'duke':'apollo 16','young':'apollo 16',\n",
    "                'cernan':'apollo 17','schmidt':'apollo 17'}\n",
    "                \n",
    "\n",
    "# loop through and print the keywords and associated apollo mission\n",
    "for astronaut, mission in moon_walkers.items():\n",
    "    print(astronaut.title(), mission.title())"
   ]
  },
  {
   "cell_type": "markdown",
   "metadata": {},
   "source": [
    "The for statment has two variables, astronaut and mission. The dictionary has two items per entry... an astronaut and a mission and that is why we need two variables in the for statement... to hold both items in each entry in the dictionary."
   ]
  },
  {
   "cell_type": "markdown",
   "metadata": {},
   "source": [
    "# This is where I left off on August 13, 2018!!!!!!!!!!!!!!"
   ]
  },
  {
   "cell_type": "markdown",
   "metadata": {},
   "source": [
    "### Try It Yourself\n",
    "\n",
    "* Create a list and slice it in two different ways\n",
    "* Write a short program to computer the first 10 cubes (1, 8, 27...)\n",
    "* Create a simple dictionary and print the items"
   ]
  },
  {
   "cell_type": "code",
   "execution_count": 30,
   "metadata": {},
   "outputs": [
    {
     "name": "stdout",
     "output_type": "stream",
     "text": [
      "Creating a list and slicing it in two different ways:\n",
      "Couch\n",
      "Chair\n",
      "Table\n",
      "Desk\n",
      "\n",
      "The first piece of furniture in my list is a couch.\n",
      "\n",
      "The last piece of furniture in my list is a desk.\n",
      "\n",
      "The middle pieces of furniture in my list include: \n",
      "['chair', 'table']\n",
      "\n",
      "Writing a short program to compute the first 10 cubes (1, 8, 27...):\n",
      "The cube of '1' is: \t1\n",
      "The cube of '2' is: \t8\n",
      "The cube of '3' is: \t27\n",
      "The cube of '4' is: \t64\n",
      "The cube of '5' is: \t125\n",
      "The cube of '6' is: \t216\n",
      "The cube of '7' is: \t343\n",
      "The cube of '8' is: \t512\n",
      "The cube of '9' is: \t729\n",
      "The cube of '10' is: \t1000\n",
      "\n",
      "Creating a simple dictionary and printing the items:\n",
      "Katie M. Jenkins is 74 years old.\n",
      "Jonathan A. Jenkins is 51 years old.\n",
      "Dorn D. Jenkins is 50 years old.\n",
      "Phillip A. Jenkins is 30 years old.\n",
      "Jonathan Brian Jenkins is 28 years old.\n",
      "Raider Jenkins is 3.5 years old.\n"
     ]
    }
   ],
   "source": [
    "# Trying It Myself\n",
    "print(\"Creating a list and slicing it in two different ways:\")\n",
    "my_furniture = ['couch','chair','table', 'desk']\n",
    "for furniture in my_furniture:\n",
    "    print(furniture.title())\n",
    "print()\n",
    "first_piece = my_furniture[0]\n",
    "print(\"The first piece of furniture in my list is a \" + first_piece + (\".\\n\"))\n",
    "last_piece = my_furniture[-1]\n",
    "print(\"The last piece of furniture in my list is a \" + last_piece + (\".\\n\"))\n",
    "print(\"The middle pieces of furniture in my list include: \")\n",
    "print(my_furniture[1:3])\n",
    "print()\n",
    "\n",
    "print(\"Writing a short program to compute the first 10 cubes (1, 8, 27...):\")\n",
    "for num in range(1, 11):\n",
    "    print(\"The cube of '\" + str(num) + \"' is: \"\"\\t\" + str(num**3))\n",
    "    #print(\"\\t\" + str(num**3))\n",
    "\n",
    "print()\n",
    "\n",
    "print(\"Creating a simple dictionary and printing the items:\")\n",
    "# create a dictionary\n",
    "household_ages = {'katie m. jenkins':74,'jonathan a. jenkins':51,\n",
    "                'dorn d. jenkins':50,'phillip a. jenkins':30,\n",
    "                'jonathan brian jenkins':28,'raider jenkins':3.5}\n",
    "                \n",
    "\n",
    "# loop through and print the keywords and associated age\n",
    "for member, age in household_ages.items():\n",
    "    print(member.title() + \" is \" +str(age) + \" years old.\")\n"
   ]
  },
  {
   "cell_type": "markdown",
   "metadata": {},
   "source": [
    "# This is where I left off on August 20, 2018!!!!!!!!!!!!!!"
   ]
  },
  {
   "cell_type": "markdown",
   "metadata": {},
   "source": [
    "### Go on to Assignment 2"
   ]
  }
 ],
 "metadata": {
  "kernelspec": {
   "display_name": "Python 3",
   "language": "python",
   "name": "python3"
  },
  "language_info": {
   "codemirror_mode": {
    "name": "ipython",
    "version": 3
   },
   "file_extension": ".py",
   "mimetype": "text/x-python",
   "name": "python",
   "nbconvert_exporter": "python",
   "pygments_lexer": "ipython3",
   "version": "3.6.6"
  }
 },
 "nbformat": 4,
 "nbformat_minor": 2
}
