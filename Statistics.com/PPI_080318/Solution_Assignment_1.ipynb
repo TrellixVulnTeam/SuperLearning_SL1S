{
 "cells": [
  {
   "cell_type": "markdown",
   "metadata": {},
   "source": [
    "## Example Solution for Assignment 1\n",
    "\n",
    "## PART 1 (6 Points):\n",
    "\n",
    "### Software installation - \n",
    "\n",
    "This part of the assignment will be graded for 6 points upon completion of PART 2 (below). If you complete PART 2 in Jupyter Notebook that means you have successfully completed software installation and ready to use it for the course. If you miss to submit PART 2 for some reason then these 6 points for successful software installation would be awarded upon completion of week 2 assignments.\n",
    "\n",
    "## PART 2 (6 Points):\n",
    "\n",
    "#### Q1 (1 Point)\n",
    "\n",
    "#### Q2 (2 Points)\n",
    "\n",
    "#### Q3 (2 Points)"
   ]
  },
  {
   "cell_type": "markdown",
   "metadata": {},
   "source": [
    "1)  In the Insert menu, the Insert Cell Above menu item inserts a new cell above the currently selected cell."
   ]
  },
  {
   "cell_type": "markdown",
   "metadata": {},
   "source": [
    "2)  In the Edit menu, the Delete Cells menu item deletes all selected cells."
   ]
  },
  {
   "cell_type": "markdown",
   "metadata": {},
   "source": [
    "3)  In the View menu, the Toggle Line Numbers item places line numbers in front of each line of Markdown or Code."
   ]
  },
  {
   "cell_type": "markdown",
   "metadata": {},
   "source": [
    "4)  In the Cell >  All Output menu, the Clear item clears all Python Code output."
   ]
  },
  {
   "cell_type": "markdown",
   "metadata": {},
   "source": [
    "#### Q4 (1 Point)"
   ]
  },
  {
   "cell_type": "code",
   "execution_count": 17,
   "metadata": {
    "scrolled": true
   },
   "outputs": [
    {
     "name": "stdout",
     "output_type": "stream",
     "text": [
      "1339385758982834151185531311325002263201756014631917009304687985462938813906170153116497973519619822659493341146941433531483931607115392554498072196837321850491820971853028873177634325632796392734744272769130809372947742658424845944895692993259632864321399559710817770957553728956578048354650708508671\n"
     ]
    }
   ],
   "source": [
    "n = 997\n",
    "print(2**n - 1)"
   ]
  },
  {
   "cell_type": "markdown",
   "metadata": {},
   "source": [
    "The \\*\\* symbol is the exponent symbol.  The expression is $$2^n - 1$$ and since n = 997, this is $$2^{997} - 1$$ which is a HUGE number. "
   ]
  },
  {
   "cell_type": "code",
   "execution_count": null,
   "metadata": {},
   "outputs": [],
   "source": []
  }
 ],
 "metadata": {
  "kernelspec": {
   "display_name": "Python 3",
   "language": "python",
   "name": "python3"
  },
  "language_info": {
   "codemirror_mode": {
    "name": "ipython",
    "version": 3
   },
   "file_extension": ".py",
   "mimetype": "text/x-python",
   "name": "python",
   "nbconvert_exporter": "python",
   "pygments_lexer": "ipython3",
   "version": "3.6.4"
  }
 },
 "nbformat": 4,
 "nbformat_minor": 2
}
