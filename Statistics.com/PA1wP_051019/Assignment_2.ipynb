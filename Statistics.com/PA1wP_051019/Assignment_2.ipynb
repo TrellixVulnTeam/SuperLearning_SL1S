{
 "cells": [
  {
   "cell_type": "markdown",
   "metadata": {},
   "source": [
    "# Predictive Analytics 1 - Machine Learning Tools - Using Python\n",
    "Instructor(s) - Peter Gedeck\n",
    "\n",
    "## Solution: Assignment 2 - Data Visualization and Preparation"
   ]
  },
  {
   "cell_type": "code",
   "execution_count": 1,
   "metadata": {},
   "outputs": [],
   "source": [
    "%matplotlib inline\n",
    "from pathlib import Path\n",
    "import pandas as pd\n",
    "import seaborn as sns\n",
    "import numpy as np​%matplotlib inline\n",
    "from pathlib import Path\n",
    "import pandas as pd\n",
    "import seaborn as sns\n",
    "import numpy as np\n",
    "import matplotlib.pylab as plt\n",
    "\n",
    "DATA = Path('.').resolve().parent / 'data'  # Adapt this to your system"
   ]
  },
  {
   "cell_type": "markdown",
   "metadata": {},
   "source": [
    "## Question 1\n",
    "Load the laptop sales data into jupyter notebook and check if it is loaded successfully. (Optional: Observe how pandas handles the variable/column names, as compared to original names in csv file, when data is read. It will be useful to tweak the variable names for your own convenience; e.g. remove spaces."
   ]
  },
  {
   "cell_type": "code",
   "execution_count": 2,
   "metadata": {},
   "outputs": [],
   "source": [
    "# Load the data\n",
    "laptop_df = pd.read_csv(DATA / 'LaptopSales.csv')"
   ]
  },
  {
   "cell_type": "code",
   "execution_count": 3,
   "metadata": {},
   "outputs": [
    {
     "name": "stdout",
     "output_type": "stream",
     "text": [
      "Shape (297572, 16)\n"
     ]
    },
    {
     "data": {
      "text/html": [
       "<div>\n",
       "<style scoped>\n",
       "    .dataframe tbody tr th:only-of-type {\n",
       "        vertical-align: middle;\n",
       "    }\n",
       "\n",
       "    .dataframe tbody tr th {\n",
       "        vertical-align: top;\n",
       "    }\n",
       "\n",
       "    .dataframe thead th {\n",
       "        text-align: right;\n",
       "    }\n",
       "</style>\n",
       "<table border=\"1\" class=\"dataframe\">\n",
       "  <thead>\n",
       "    <tr style=\"text-align: right;\">\n",
       "      <th></th>\n",
       "      <th>Date</th>\n",
       "      <th>Configuration</th>\n",
       "      <th>Customer Postcode</th>\n",
       "      <th>Store Postcode</th>\n",
       "      <th>Retail Price</th>\n",
       "      <th>Screen Size (Inches)</th>\n",
       "      <th>Battery Life (Hours)</th>\n",
       "      <th>RAM (GB)</th>\n",
       "      <th>Processor Speeds (GHz)</th>\n",
       "      <th>Integrated Wireless?</th>\n",
       "      <th>HD Size (GB)</th>\n",
       "      <th>Bundled Applications?</th>\n",
       "      <th>customer X</th>\n",
       "      <th>customer Y</th>\n",
       "      <th>store X</th>\n",
       "      <th>store Y</th>\n",
       "    </tr>\n",
       "  </thead>\n",
       "  <tbody>\n",
       "    <tr>\n",
       "      <th>0</th>\n",
       "      <td>1/1/2008 0:01</td>\n",
       "      <td>163</td>\n",
       "      <td>EC4V 5BH</td>\n",
       "      <td>SE1 2BN</td>\n",
       "      <td>455.0</td>\n",
       "      <td>15</td>\n",
       "      <td>5</td>\n",
       "      <td>1</td>\n",
       "      <td>2.0</td>\n",
       "      <td>Yes</td>\n",
       "      <td>80</td>\n",
       "      <td>Yes</td>\n",
       "      <td>532041</td>\n",
       "      <td>180995</td>\n",
       "      <td>534057.0</td>\n",
       "      <td>179682.0</td>\n",
       "    </tr>\n",
       "    <tr>\n",
       "      <th>1</th>\n",
       "      <td>1/1/2008 0:02</td>\n",
       "      <td>320</td>\n",
       "      <td>SW4 0JL</td>\n",
       "      <td>SW12 9HD</td>\n",
       "      <td>545.0</td>\n",
       "      <td>15</td>\n",
       "      <td>6</td>\n",
       "      <td>1</td>\n",
       "      <td>2.0</td>\n",
       "      <td>No</td>\n",
       "      <td>300</td>\n",
       "      <td>No</td>\n",
       "      <td>529240</td>\n",
       "      <td>175537</td>\n",
       "      <td>528739.0</td>\n",
       "      <td>173080.0</td>\n",
       "    </tr>\n",
       "    <tr>\n",
       "      <th>2</th>\n",
       "      <td>1/1/2008 0:04</td>\n",
       "      <td>23</td>\n",
       "      <td>EC3V 1LR</td>\n",
       "      <td>E2 0RY</td>\n",
       "      <td>515.0</td>\n",
       "      <td>15</td>\n",
       "      <td>4</td>\n",
       "      <td>1</td>\n",
       "      <td>2.0</td>\n",
       "      <td>Yes</td>\n",
       "      <td>300</td>\n",
       "      <td>Yes</td>\n",
       "      <td>533095</td>\n",
       "      <td>181047</td>\n",
       "      <td>535652.0</td>\n",
       "      <td>182961.0</td>\n",
       "    </tr>\n",
       "    <tr>\n",
       "      <th>3</th>\n",
       "      <td>1/1/2008 0:04</td>\n",
       "      <td>169</td>\n",
       "      <td>SW1P 3AU</td>\n",
       "      <td>SE1 2BN</td>\n",
       "      <td>395.0</td>\n",
       "      <td>15</td>\n",
       "      <td>5</td>\n",
       "      <td>1</td>\n",
       "      <td>2.0</td>\n",
       "      <td>No</td>\n",
       "      <td>40</td>\n",
       "      <td>Yes</td>\n",
       "      <td>529902</td>\n",
       "      <td>179641</td>\n",
       "      <td>534057.0</td>\n",
       "      <td>179682.0</td>\n",
       "    </tr>\n",
       "    <tr>\n",
       "      <th>4</th>\n",
       "      <td>1/1/2008 0:06</td>\n",
       "      <td>365</td>\n",
       "      <td>EC4V 4EG</td>\n",
       "      <td>SW1V 4QQ</td>\n",
       "      <td>585.0</td>\n",
       "      <td>15</td>\n",
       "      <td>6</td>\n",
       "      <td>2</td>\n",
       "      <td>2.0</td>\n",
       "      <td>No</td>\n",
       "      <td>120</td>\n",
       "      <td>Yes</td>\n",
       "      <td>531684</td>\n",
       "      <td>180948</td>\n",
       "      <td>528924.0</td>\n",
       "      <td>178440.0</td>\n",
       "    </tr>\n",
       "    <tr>\n",
       "      <th>5</th>\n",
       "      <td>1/1/2008 0:12</td>\n",
       "      <td>309</td>\n",
       "      <td>W1B 5PX</td>\n",
       "      <td>SW1V 4QQ</td>\n",
       "      <td>555.0</td>\n",
       "      <td>15</td>\n",
       "      <td>6</td>\n",
       "      <td>1</td>\n",
       "      <td>2.0</td>\n",
       "      <td>Yes</td>\n",
       "      <td>120</td>\n",
       "      <td>Yes</td>\n",
       "      <td>529207</td>\n",
       "      <td>180969</td>\n",
       "      <td>528924.0</td>\n",
       "      <td>178440.0</td>\n",
       "    </tr>\n",
       "    <tr>\n",
       "      <th>6</th>\n",
       "      <td>1/1/2008 0:14</td>\n",
       "      <td>75</td>\n",
       "      <td>SE25 4LX</td>\n",
       "      <td>SE8 3JD</td>\n",
       "      <td>465.0</td>\n",
       "      <td>15</td>\n",
       "      <td>4</td>\n",
       "      <td>2</td>\n",
       "      <td>2.0</td>\n",
       "      <td>No</td>\n",
       "      <td>80</td>\n",
       "      <td>Yes</td>\n",
       "      <td>534575</td>\n",
       "      <td>168236</td>\n",
       "      <td>537175.0</td>\n",
       "      <td>177885.0</td>\n",
       "    </tr>\n",
       "    <tr>\n",
       "      <th>7</th>\n",
       "      <td>1/1/2008 0:17</td>\n",
       "      <td>346</td>\n",
       "      <td>N7 6AR</td>\n",
       "      <td>E2 0RY</td>\n",
       "      <td>450.0</td>\n",
       "      <td>15</td>\n",
       "      <td>6</td>\n",
       "      <td>2</td>\n",
       "      <td>1.5</td>\n",
       "      <td>No</td>\n",
       "      <td>40</td>\n",
       "      <td>No</td>\n",
       "      <td>530461</td>\n",
       "      <td>186176</td>\n",
       "      <td>535652.0</td>\n",
       "      <td>182961.0</td>\n",
       "    </tr>\n",
       "    <tr>\n",
       "      <th>8</th>\n",
       "      <td>1/1/2008 0:24</td>\n",
       "      <td>70</td>\n",
       "      <td>W3 7JT</td>\n",
       "      <td>SW18 1NN</td>\n",
       "      <td>455.0</td>\n",
       "      <td>15</td>\n",
       "      <td>4</td>\n",
       "      <td>2</td>\n",
       "      <td>2.0</td>\n",
       "      <td>Yes</td>\n",
       "      <td>120</td>\n",
       "      <td>No</td>\n",
       "      <td>520898</td>\n",
       "      <td>180071</td>\n",
       "      <td>525155.0</td>\n",
       "      <td>175180.0</td>\n",
       "    </tr>\n",
       "    <tr>\n",
       "      <th>9</th>\n",
       "      <td>1/1/2008 0:56</td>\n",
       "      <td>351</td>\n",
       "      <td>SW8 1RB</td>\n",
       "      <td>SW1V 4QQ</td>\n",
       "      <td>620.0</td>\n",
       "      <td>15</td>\n",
       "      <td>6</td>\n",
       "      <td>2</td>\n",
       "      <td>1.5</td>\n",
       "      <td>No</td>\n",
       "      <td>300</td>\n",
       "      <td>Yes</td>\n",
       "      <td>530298</td>\n",
       "      <td>177435</td>\n",
       "      <td>528924.0</td>\n",
       "      <td>178440.0</td>\n",
       "    </tr>\n",
       "  </tbody>\n",
       "</table>\n",
       "</div>"
      ],
      "text/plain": [
       "            Date  Configuration Customer Postcode Store Postcode  \\\n",
       "0  1/1/2008 0:01            163          EC4V 5BH        SE1 2BN   \n",
       "1  1/1/2008 0:02            320           SW4 0JL       SW12 9HD   \n",
       "2  1/1/2008 0:04             23          EC3V 1LR         E2 0RY   \n",
       "3  1/1/2008 0:04            169          SW1P 3AU        SE1 2BN   \n",
       "4  1/1/2008 0:06            365          EC4V 4EG       SW1V 4QQ   \n",
       "5  1/1/2008 0:12            309           W1B 5PX       SW1V 4QQ   \n",
       "6  1/1/2008 0:14             75          SE25 4LX        SE8 3JD   \n",
       "7  1/1/2008 0:17            346            N7 6AR         E2 0RY   \n",
       "8  1/1/2008 0:24             70            W3 7JT       SW18 1NN   \n",
       "9  1/1/2008 0:56            351           SW8 1RB       SW1V 4QQ   \n",
       "\n",
       "   Retail Price  Screen Size (Inches)  Battery Life (Hours)  RAM (GB)  \\\n",
       "0         455.0                    15                     5         1   \n",
       "1         545.0                    15                     6         1   \n",
       "2         515.0                    15                     4         1   \n",
       "3         395.0                    15                     5         1   \n",
       "4         585.0                    15                     6         2   \n",
       "5         555.0                    15                     6         1   \n",
       "6         465.0                    15                     4         2   \n",
       "7         450.0                    15                     6         2   \n",
       "8         455.0                    15                     4         2   \n",
       "9         620.0                    15                     6         2   \n",
       "\n",
       "   Processor Speeds (GHz) Integrated Wireless?  HD Size (GB)  \\\n",
       "0                     2.0                  Yes            80   \n",
       "1                     2.0                   No           300   \n",
       "2                     2.0                  Yes           300   \n",
       "3                     2.0                   No            40   \n",
       "4                     2.0                   No           120   \n",
       "5                     2.0                  Yes           120   \n",
       "6                     2.0                   No            80   \n",
       "7                     1.5                   No            40   \n",
       "8                     2.0                  Yes           120   \n",
       "9                     1.5                   No           300   \n",
       "\n",
       "  Bundled Applications?  customer X  customer Y   store X   store Y  \n",
       "0                   Yes      532041      180995  534057.0  179682.0  \n",
       "1                    No      529240      175537  528739.0  173080.0  \n",
       "2                   Yes      533095      181047  535652.0  182961.0  \n",
       "3                   Yes      529902      179641  534057.0  179682.0  \n",
       "4                   Yes      531684      180948  528924.0  178440.0  \n",
       "5                   Yes      529207      180969  528924.0  178440.0  \n",
       "6                   Yes      534575      168236  537175.0  177885.0  \n",
       "7                    No      530461      186176  535652.0  182961.0  \n",
       "8                    No      520898      180071  525155.0  175180.0  \n",
       "9                   Yes      530298      177435  528924.0  178440.0  "
      ]
     },
     "execution_count": 3,
     "metadata": {},
     "output_type": "execute_result"
    }
   ],
   "source": [
    "# Check if data is loaded correctly\n",
    "print(\"Shape\", laptop_df.shape)  # find the dimension of data frame\n",
    "laptop_df.head(10)  # show the first ten observations"
   ]
  },
  {
   "cell_type": "code",
   "execution_count": 4,
   "metadata": {},
   "outputs": [
    {
     "data": {
      "text/plain": [
       "Index(['Date', 'Configuration', 'Customer Postcode', 'Store Postcode',\n",
       "       'Retail Price', 'Screen Size (Inches)', 'Battery Life (Hours)',\n",
       "       'RAM (GB)', 'Processor Speeds (GHz)', 'Integrated Wireless?',\n",
       "       'HD Size (GB)', 'Bundled Applications?', 'customer X', 'customer Y',\n",
       "       'store X', 'store Y'],\n",
       "      dtype='object')"
      ]
     },
     "execution_count": 4,
     "metadata": {},
     "output_type": "execute_result"
    }
   ],
   "source": [
    "# Print the list of variables to the screen\n",
    "laptop_df.columns"
   ]
  },
  {
   "cell_type": "code",
   "execution_count": 5,
   "metadata": {},
   "outputs": [
    {
     "data": {
      "text/plain": [
       "Index(['Date', 'Configuration', 'Customer_Postcode', 'Store_Postcode',\n",
       "       'Retail_Price', 'Screen_Size_Inches', 'Battery_Life_Hours', 'RAM_GB',\n",
       "       'Processor_Speeds_GHz', 'Integrated_Wireless', 'HD_Size_GB',\n",
       "       'Bundled_Applications', 'customer_X', 'customer_Y', 'store_X',\n",
       "       'store_Y'],\n",
       "      dtype='object')"
      ]
     },
     "execution_count": 5,
     "metadata": {},
     "output_type": "execute_result"
    }
   ],
   "source": [
    "# Change the variable names to be more suitable for analysis\n",
    "laptop_df.columns = (\"Date\", \"Configuration\", \"Customer_Postcode\", \"Store_Postcode\",\n",
    "                     \"Retail_Price\", \"Screen_Size_Inches\", \"Battery_Life_Hours\",\n",
    "                     \"RAM_GB\", \"Processor_Speeds_GHz\", \"Integrated_Wireless\", \n",
    "                     \"HD_Size_GB\", \"Bundled_Applications\", \"customer_X\", \n",
    "                     \"customer_Y\", \"store_X\", \"store_Y\")\n",
    "\n",
    "# Alternatively use the dataframe.rename method\n",
    "laptop_df = laptop_df.rename(columns={\n",
    "    'Customer Postcode': 'Customer_Postcode',\n",
    "    'Store Postcode': 'Store_Postcode',\n",
    "    'Retail Price': 'Retail_Price', \n",
    "    'Screen Size (Inches)': 'Screen_Size_Inches', \n",
    "    'Battery Life (Hours)': 'Battery_Life_Hours',\n",
    "    'RAM (GB)': 'RAM_GB',\n",
    "    'Processor Speeds (GHz)': 'Processor_Speeds_GHz',\n",
    "    'Integrated Wireless?': 'Integrated_Wireless',\n",
    "    'HD Size (GB)': 'HD_Size_GB',\n",
    "    'Bundled Applications?': 'Bundled_Applications',\n",
    "    'customer X': 'customer_X', \n",
    "    'customer Y': 'customer_Y',\n",
    "})\n",
    "laptop_df.columns"
   ]
  },
  {
   "cell_type": "code",
   "execution_count": 6,
   "metadata": {},
   "outputs": [
    {
     "data": {
      "text/plain": [
       "Index(['Date', 'Configuration', 'Customer_Postcode', 'Store_Postcode',\n",
       "       'Retail_Price', 'Screen_Size_Inches', 'Battery_Life_Hours', 'RAM_GB',\n",
       "       'Processor_Speeds_GHz', 'Integrated_Wireless', 'HD_Size_GB',\n",
       "       'Bundled_Applications', 'customer_X', 'customer_Y', 'store_X',\n",
       "       'store_Y'],\n",
       "      dtype='object')"
      ]
     },
     "execution_count": 6,
     "metadata": {},
     "output_type": "execute_result"
    }
   ],
   "source": [
    "# Alternative approach creating the rename map programmaticaly\n",
    "laptop_df = pd.read_csv(DATA / 'LaptopSales.csv')\n",
    "renameMap = {column: column.replace('(', '').replace(')', '').replace('?', '').replace(' ', '_') \n",
    "             for column in laptop_df.columns}\n",
    "laptop_df = laptop_df.rename(columns=renameMap)\n",
    "laptop_df.columns"
   ]
  },
  {
   "cell_type": "markdown",
   "metadata": {},
   "source": [
    "## Question 2\n",
    "What is the data type of each of the variable in data? Check using appropriate pandas fields. Hint: dtype or dtypes will do the job for you. Had you expected exactly the same data types as shown by pandas? Comment. Convert to more appropriate types (e.g. datetime, category)."
   ]
  },
  {
   "cell_type": "code",
   "execution_count": 7,
   "metadata": {},
   "outputs": [
    {
     "name": "stdout",
     "output_type": "stream",
     "text": [
      "Date : object\n",
      "Configuration : int64\n",
      "Customer_Post : object\n"
     ]
    },
    {
     "data": {
      "text/plain": [
       "Date                     object\n",
       "Configuration             int64\n",
       "Customer_Postcode        object\n",
       "Store_Postcode           object\n",
       "Retail_Price            float64\n",
       "Screen_Size_Inches        int64\n",
       "Battery_Life_Hours        int64\n",
       "RAM_GB                    int64\n",
       "Processor_Speeds_GHz    float64\n",
       "Integrated_Wireless      object\n",
       "HD_Size_GB                int64\n",
       "Bundled_Applications     object\n",
       "customer_X                int64\n",
       "customer_Y                int64\n",
       "store_X                 float64\n",
       "store_Y                 float64\n",
       "dtype: object"
      ]
     },
     "execution_count": 7,
     "metadata": {},
     "output_type": "execute_result"
    }
   ],
   "source": [
    "# Individually:\n",
    "print(\"Date :\", laptop_df.Date.dtype)\n",
    "print(\"Configuration :\", laptop_df.Configuration.dtype)\n",
    "print(\"Customer_Post :\", laptop_df.Customer_Postcode.dtype)\n",
    "\n",
    "# Or all at once:\n",
    "laptop_df.dtypes"
   ]
  },
  {
   "cell_type": "markdown",
   "metadata": {},
   "source": [
    "We see five columns of type `object`. For further analysis, it will be useful to convert the `Date` column to `datetime` and the other four to categories (aka factor)."
   ]
  },
  {
   "cell_type": "code",
   "execution_count": 8,
   "metadata": {},
   "outputs": [
    {
     "data": {
      "text/plain": [
       "Date                    datetime64[ns]\n",
       "Configuration                    int64\n",
       "Customer_Postcode             category\n",
       "Store_Postcode                category\n",
       "Retail_Price                   float64\n",
       "Screen_Size_Inches               int64\n",
       "Battery_Life_Hours               int64\n",
       "RAM_GB                           int64\n",
       "Processor_Speeds_GHz           float64\n",
       "Integrated_Wireless           category\n",
       "HD_Size_GB                       int64\n",
       "Bundled_Applications          category\n",
       "customer_X                       int64\n",
       "customer_Y                       int64\n",
       "store_X                        float64\n",
       "store_Y                        float64\n",
       "dtype: object"
      ]
     },
     "execution_count": 8,
     "metadata": {},
     "output_type": "execute_result"
    }
   ],
   "source": [
    "laptop_df['Date'] = pd.to_datetime(laptop_df.Date)\n",
    "laptop_df.Customer_Postcode = laptop_df.Customer_Postcode.astype('category')\n",
    "laptop_df.Store_Postcode = laptop_df.Store_Postcode.astype('category')\n",
    "laptop_df.Integrated_Wireless = laptop_df.Integrated_Wireless.astype('category')\n",
    "laptop_df.Bundled_Applications = laptop_df.Bundled_Applications.astype('category')\n",
    "\n",
    "laptop_df.dtypes"
   ]
  },
  {
   "cell_type": "markdown",
   "metadata": {},
   "source": [
    "## Question 3\n",
    "Are there any missing values in the data? Report the findings."
   ]
  },
  {
   "cell_type": "markdown",
   "metadata": {},
   "source": [
    "The dataframe methods `describe` and `count` both return the number of values found in each column. Whenever the count differs from the length of the dataframe, it means that there are missing values."
   ]
  },
  {
   "cell_type": "code",
   "execution_count": 9,
   "metadata": {},
   "outputs": [
    {
     "data": {
      "text/html": [
       "<div>\n",
       "<style scoped>\n",
       "    .dataframe tbody tr th:only-of-type {\n",
       "        vertical-align: middle;\n",
       "    }\n",
       "\n",
       "    .dataframe tbody tr th {\n",
       "        vertical-align: top;\n",
       "    }\n",
       "\n",
       "    .dataframe thead th {\n",
       "        text-align: right;\n",
       "    }\n",
       "</style>\n",
       "<table border=\"1\" class=\"dataframe\">\n",
       "  <thead>\n",
       "    <tr style=\"text-align: right;\">\n",
       "      <th></th>\n",
       "      <th>Configuration</th>\n",
       "      <th>Retail_Price</th>\n",
       "      <th>Screen_Size_Inches</th>\n",
       "      <th>Battery_Life_Hours</th>\n",
       "      <th>RAM_GB</th>\n",
       "      <th>Processor_Speeds_GHz</th>\n",
       "      <th>HD_Size_GB</th>\n",
       "      <th>customer_X</th>\n",
       "      <th>customer_Y</th>\n",
       "      <th>store_X</th>\n",
       "      <th>store_Y</th>\n",
       "    </tr>\n",
       "  </thead>\n",
       "  <tbody>\n",
       "    <tr>\n",
       "      <th>count</th>\n",
       "      <td>297572.000000</td>\n",
       "      <td>284129.000000</td>\n",
       "      <td>297572.000000</td>\n",
       "      <td>297572.000000</td>\n",
       "      <td>297572.000000</td>\n",
       "      <td>297572.000000</td>\n",
       "      <td>297572.000000</td>\n",
       "      <td>297572.000000</td>\n",
       "      <td>297572.000000</td>\n",
       "      <td>297424.000000</td>\n",
       "      <td>297424.000000</td>\n",
       "    </tr>\n",
       "    <tr>\n",
       "      <th>mean</th>\n",
       "      <td>380.211196</td>\n",
       "      <td>508.125936</td>\n",
       "      <td>15.813329</td>\n",
       "      <td>4.972111</td>\n",
       "      <td>2.099005</td>\n",
       "      <td>1.931175</td>\n",
       "      <td>132.024451</td>\n",
       "      <td>530753.795263</td>\n",
       "      <td>179880.317765</td>\n",
       "      <td>530646.695088</td>\n",
       "      <td>179748.514969</td>\n",
       "    </tr>\n",
       "    <tr>\n",
       "      <th>std</th>\n",
       "      <td>231.444953</td>\n",
       "      <td>104.611789</td>\n",
       "      <td>0.982424</td>\n",
       "      <td>0.810297</td>\n",
       "      <td>1.145213</td>\n",
       "      <td>0.360418</td>\n",
       "      <td>97.766076</td>\n",
       "      <td>4576.260844</td>\n",
       "      <td>4640.319267</td>\n",
       "      <td>4220.343734</td>\n",
       "      <td>3963.601614</td>\n",
       "    </tr>\n",
       "    <tr>\n",
       "      <th>min</th>\n",
       "      <td>1.000000</td>\n",
       "      <td>168.000000</td>\n",
       "      <td>15.000000</td>\n",
       "      <td>4.000000</td>\n",
       "      <td>1.000000</td>\n",
       "      <td>1.500000</td>\n",
       "      <td>40.000000</td>\n",
       "      <td>512253.000000</td>\n",
       "      <td>164886.000000</td>\n",
       "      <td>517917.000000</td>\n",
       "      <td>168302.000000</td>\n",
       "    </tr>\n",
       "    <tr>\n",
       "      <th>25%</th>\n",
       "      <td>193.000000</td>\n",
       "      <td>440.000000</td>\n",
       "      <td>15.000000</td>\n",
       "      <td>4.000000</td>\n",
       "      <td>1.000000</td>\n",
       "      <td>1.500000</td>\n",
       "      <td>40.000000</td>\n",
       "      <td>529107.000000</td>\n",
       "      <td>178716.000000</td>\n",
       "      <td>528924.000000</td>\n",
       "      <td>178440.000000</td>\n",
       "    </tr>\n",
       "    <tr>\n",
       "      <th>50%</th>\n",
       "      <td>348.000000</td>\n",
       "      <td>500.000000</td>\n",
       "      <td>15.000000</td>\n",
       "      <td>5.000000</td>\n",
       "      <td>2.000000</td>\n",
       "      <td>2.000000</td>\n",
       "      <td>80.000000</td>\n",
       "      <td>530954.000000</td>\n",
       "      <td>181081.000000</td>\n",
       "      <td>529902.000000</td>\n",
       "      <td>179641.000000</td>\n",
       "    </tr>\n",
       "    <tr>\n",
       "      <th>75%</th>\n",
       "      <td>577.000000</td>\n",
       "      <td>575.000000</td>\n",
       "      <td>17.000000</td>\n",
       "      <td>6.000000</td>\n",
       "      <td>2.000000</td>\n",
       "      <td>2.400000</td>\n",
       "      <td>120.000000</td>\n",
       "      <td>533079.000000</td>\n",
       "      <td>182055.000000</td>\n",
       "      <td>534057.000000</td>\n",
       "      <td>181567.000000</td>\n",
       "    </tr>\n",
       "    <tr>\n",
       "      <th>max</th>\n",
       "      <td>864.000000</td>\n",
       "      <td>890.000000</td>\n",
       "      <td>17.000000</td>\n",
       "      <td>6.000000</td>\n",
       "      <td>4.000000</td>\n",
       "      <td>2.400000</td>\n",
       "      <td>300.000000</td>\n",
       "      <td>549065.000000</td>\n",
       "      <td>199846.000000</td>\n",
       "      <td>541428.000000</td>\n",
       "      <td>190628.000000</td>\n",
       "    </tr>\n",
       "  </tbody>\n",
       "</table>\n",
       "</div>"
      ],
      "text/plain": [
       "       Configuration   Retail_Price  Screen_Size_Inches  Battery_Life_Hours  \\\n",
       "count  297572.000000  284129.000000       297572.000000       297572.000000   \n",
       "mean      380.211196     508.125936           15.813329            4.972111   \n",
       "std       231.444953     104.611789            0.982424            0.810297   \n",
       "min         1.000000     168.000000           15.000000            4.000000   \n",
       "25%       193.000000     440.000000           15.000000            4.000000   \n",
       "50%       348.000000     500.000000           15.000000            5.000000   \n",
       "75%       577.000000     575.000000           17.000000            6.000000   \n",
       "max       864.000000     890.000000           17.000000            6.000000   \n",
       "\n",
       "              RAM_GB  Processor_Speeds_GHz     HD_Size_GB     customer_X  \\\n",
       "count  297572.000000         297572.000000  297572.000000  297572.000000   \n",
       "mean        2.099005              1.931175     132.024451  530753.795263   \n",
       "std         1.145213              0.360418      97.766076    4576.260844   \n",
       "min         1.000000              1.500000      40.000000  512253.000000   \n",
       "25%         1.000000              1.500000      40.000000  529107.000000   \n",
       "50%         2.000000              2.000000      80.000000  530954.000000   \n",
       "75%         2.000000              2.400000     120.000000  533079.000000   \n",
       "max         4.000000              2.400000     300.000000  549065.000000   \n",
       "\n",
       "          customer_Y        store_X        store_Y  \n",
       "count  297572.000000  297424.000000  297424.000000  \n",
       "mean   179880.317765  530646.695088  179748.514969  \n",
       "std      4640.319267    4220.343734    3963.601614  \n",
       "min    164886.000000  517917.000000  168302.000000  \n",
       "25%    178716.000000  528924.000000  178440.000000  \n",
       "50%    181081.000000  529902.000000  179641.000000  \n",
       "75%    182055.000000  534057.000000  181567.000000  \n",
       "max    199846.000000  541428.000000  190628.000000  "
      ]
     },
     "execution_count": 9,
     "metadata": {},
     "output_type": "execute_result"
    }
   ],
   "source": [
    "# The describe method summarizes only numerical columns\n",
    "laptop_df.describe()"
   ]
  },
  {
   "cell_type": "code",
   "execution_count": 10,
   "metadata": {},
   "outputs": [
    {
     "data": {
      "text/plain": [
       "Date                    297364\n",
       "Configuration           297572\n",
       "Customer_Postcode       297572\n",
       "Store_Postcode          297572\n",
       "Retail_Price            284129\n",
       "Screen_Size_Inches      297572\n",
       "Battery_Life_Hours      297572\n",
       "RAM_GB                  297572\n",
       "Processor_Speeds_GHz    297572\n",
       "Integrated_Wireless     297572\n",
       "HD_Size_GB              297572\n",
       "Bundled_Applications    297572\n",
       "customer_X              297572\n",
       "customer_Y              297572\n",
       "store_X                 297424\n",
       "store_Y                 297424\n",
       "dtype: int64"
      ]
     },
     "execution_count": 10,
     "metadata": {},
     "output_type": "execute_result"
    }
   ],
   "source": [
    "# The info method gives the count of non-null values for each column\n",
    "laptop_df.count()"
   ]
  },
  {
   "cell_type": "code",
   "execution_count": 11,
   "metadata": {},
   "outputs": [
    {
     "data": {
      "text/plain": [
       "Date                      208\n",
       "Configuration               0\n",
       "Customer_Postcode           0\n",
       "Store_Postcode              0\n",
       "Retail_Price            13443\n",
       "Screen_Size_Inches          0\n",
       "Battery_Life_Hours          0\n",
       "RAM_GB                      0\n",
       "Processor_Speeds_GHz        0\n",
       "Integrated_Wireless         0\n",
       "HD_Size_GB                  0\n",
       "Bundled_Applications        0\n",
       "customer_X                  0\n",
       "customer_Y                  0\n",
       "store_X                   148\n",
       "store_Y                   148\n",
       "dtype: int64"
      ]
     },
     "execution_count": 11,
     "metadata": {},
     "output_type": "execute_result"
    }
   ],
   "source": [
    "# Subtracting the count from the length of the dataframe gives the number of missing values\n",
    "len(laptop_df) - laptop_df.count()"
   ]
  },
  {
   "cell_type": "markdown",
   "metadata": {},
   "source": [
    "## Question 4\n",
    "Observe the missing values graphically and comment on it. (Hint: use seaborn's heatmap)"
   ]
  },
  {
   "cell_type": "code",
   "execution_count": 12,
   "metadata": {
    "scrolled": false
   },
   "outputs": [
    {
     "data": {
      "image/png": "[encoded data removed]",
      "text/plain": [
       "<Figure size 936x648 with 1 Axes>"
      ]
     },
     "metadata": {
      "needs_background": "light"
     },
     "output_type": "display_data"
    }
   ],
   "source": [
    "# Given a dataframe df create a copy of the array that is 0 if a field contains a value \n",
    "# and 1 for NaN\n",
    "naInfo = np.zeros(laptop_df.shape)\n",
    "naInfo[laptop_df.isna().values] = 1\n",
    "naInfo = pd.DataFrame(naInfo, columns=laptop_df.columns)\n",
    "\n",
    "fig, ax = plt.subplots()\n",
    "fig.set_size_inches(13, 9)\n",
    "ax = sns.heatmap(naInfo, vmin=0, vmax=1, cmap=[\"white\", \"#444444\"], cbar=False, ax=ax)\n",
    "ax.set_yticks([])\n",
    "\n",
    "# Draw a rectangle around the graph\n",
    "rect = plt.Rectangle((0, 0), naInfo.shape[1], naInfo.shape[0], linewidth=1, \n",
    "                     edgecolor='lightgrey',facecolor='none')\n",
    "rect = ax.add_patch(rect)\n",
    "rect.set_clip_on(False)"
   ]
  },
  {
   "cell_type": "markdown",
   "metadata": {},
   "source": [
    "In contrast to the observation in question 3 the heatmap only shows missing values for the `Retail_price`. The few missing values for `Date` and `store_X` and `store_Y` are not visible in this graph. Due to the large data size it is not very useful for getting any additional insights."
   ]
  },
  {
   "cell_type": "markdown",
   "metadata": {},
   "source": [
    "## Question 5\n",
    "At what average and median price do the laptops sell? Hint: Use distribution of values to answer this question."
   ]
  },
  {
   "cell_type": "code",
   "execution_count": 13,
   "metadata": {},
   "outputs": [
    {
     "data": {
      "image/png": "[encoded data removed]",
      "text/plain": [
       "<Figure size 432x288 with 1 Axes>"
      ]
     },
     "metadata": {
      "needs_background": "light"
     },
     "output_type": "display_data"
    }
   ],
   "source": [
    "ax = laptop_df.boxplot(column='Retail_Price')"
   ]
  },
  {
   "cell_type": "markdown",
   "metadata": {},
   "source": [
    "Boxplot shows that the median price is about \\\\$500 and that the majority of laptops sell for prices between approximately \\\\$200 and \\\\$850. "
   ]
  },
  {
   "cell_type": "code",
   "execution_count": 14,
   "metadata": {},
   "outputs": [
    {
     "data": {
      "image/png": "[encoded data removed]",
      "text/plain": [
       "<Figure size 432x288 with 1 Axes>"
      ]
     },
     "metadata": {
      "needs_background": "light"
     },
     "output_type": "display_data"
    }
   ],
   "source": [
    "ax = laptop_df.hist(column='Retail_Price')"
   ]
  },
  {
   "cell_type": "markdown",
   "metadata": {},
   "source": [
    "The histogram of price shows the symmetric, single-peaked shape of the price distribution."
   ]
  },
  {
   "cell_type": "code",
   "execution_count": 15,
   "metadata": {},
   "outputs": [
    {
     "data": {
      "image/png": "[encoded data removed]",
      "text/plain": [
       "<Figure size 432x288 with 1 Axes>"
      ]
     },
     "metadata": {
      "needs_background": "light"
     },
     "output_type": "display_data"
    }
   ],
   "source": [
    "ax = laptop_df.Retail_Price.plot(kind='density')"
   ]
  },
  {
   "cell_type": "markdown",
   "metadata": {},
   "source": [
    "Density plots are an alternative to histograms that can sometimes reveal more structure in the data."
   ]
  },
  {
   "cell_type": "markdown",
   "metadata": {},
   "source": [
    "## Question 6\n",
    "Compare retail prices across stores. Do prices vary across the stores? Which stores look costly in general?"
   ]
  },
  {
   "cell_type": "code",
   "execution_count": 16,
   "metadata": {},
   "outputs": [
    {
     "data": {
      "image/png": "[encoded data removed]",
      "text/plain": [
       "<Figure size 432x288 with 1 Axes>"
      ]
     },
     "metadata": {
      "needs_background": "light"
     },
     "output_type": "display_data"
    }
   ],
   "source": [
    "# The argument vert creates horizontal boxplots\n",
    "ax = laptop_df.boxplot(column='Retail_Price', by='Store_Postcode', vert=False)\n",
    "# Suppress the titles\n",
    "plt.suptitle('')  \n",
    "plt.title('')\n",
    "\n",
    "plt.show()"
   ]
  },
  {
   "cell_type": "markdown",
   "metadata": {},
   "source": [
    "We can see that overall the median price is similar across stores (around \\\\$500, plus minus \\\\$50). However, it is easy to see that there are two types of stores: \n",
    "Five have a median of about \\\\$460 and a wider prace range. \n",
    "The others have a median price of \\\\$510 and a slightly smaller price range."
   ]
  },
  {
   "cell_type": "markdown",
   "metadata": {},
   "source": [
    "## Question 7\n",
    "Does price of laptop vary according to integrated wireless?"
   ]
  },
  {
   "cell_type": "code",
   "execution_count": 17,
   "metadata": {},
   "outputs": [
    {
     "data": {
      "image/png": "[encoded data removed]",
      "text/plain": [
       "<Figure size 432x288 with 1 Axes>"
      ]
     },
     "metadata": {
      "needs_background": "light"
     },
     "output_type": "display_data"
    }
   ],
   "source": [
    "ax = laptop_df.boxplot(column='Retail_Price', by='Integrated_Wireless')"
   ]
  },
  {
   "cell_type": "markdown",
   "metadata": {},
   "source": [
    "Overall the median price is similar for both, laptops with integrated wireless and without"
   ]
  },
  {
   "cell_type": "markdown",
   "metadata": {},
   "source": [
    "## Question 8\n",
    "Draw the scatter plot of retail prices with\n",
    "- Screen Size\n",
    "- Battery Life\n",
    "- RAM\n",
    "- Processor\n",
    "- HD Size\n",
    "- Configuration\n",
    "Comment on the utility of these scatter plots."
   ]
  },
  {
   "cell_type": "code",
   "execution_count": 18,
   "metadata": {},
   "outputs": [
    {
     "data": {
      "image/png": "[encoded data removed]",
      "text/plain": [
       "<Figure size 504x504 with 6 Axes>"
      ]
     },
     "metadata": {
      "needs_background": "light"
     },
     "output_type": "display_data"
    }
   ],
   "source": [
    "# Show all graphs in one \n",
    "fig, axes = plt.subplots(nrows=3, ncols=2, figsize=(7, 7))\n",
    "columns = ['Screen_Size_Inches', 'Battery_Life_Hours', 'RAM_GB', 'Processor_Speeds_GHz', \n",
    "           'HD_Size_GB', 'Configuration']\n",
    "for i, column in enumerate(columns):\n",
    "    laptop_df.plot(kind='scatter', x='Retail_Price', y=column, s=0.1, ax=axes[i // 2, i % 2])\n",
    "plt.tight_layout()"
   ]
  },
  {
   "cell_type": "markdown",
   "metadata": {},
   "source": [
    "## Question 9\n",
    "In your opinion, which of the configurations make the biggest difference in the laptop price?"
   ]
  },
  {
   "cell_type": "markdown",
   "metadata": {},
   "source": [
    "Use boxplots of different configuration variables one by one to see which \n",
    "configuration option makes bigger differences than others"
   ]
  },
  {
   "cell_type": "code",
   "execution_count": 19,
   "metadata": {},
   "outputs": [
    {
     "data": {
      "image/png": "[encoded data removed]",
      "text/plain": [
       "<Figure size 576x576 with 9 Axes>"
      ]
     },
     "metadata": {
      "needs_background": "light"
     },
     "output_type": "display_data"
    }
   ],
   "source": [
    "fig, axes = plt.subplots(nrows=3, ncols=3, figsize=(8, 8))\n",
    "columns = ['Screen_Size_Inches', 'Battery_Life_Hours', 'RAM_GB', 'Processor_Speeds_GHz', \n",
    "           'HD_Size_GB', 'Integrated_Wireless', 'Bundled_Applications']\n",
    "for i, column in enumerate(columns):\n",
    "    laptop_df.boxplot(column='Retail_Price', by=column, ax=axes[i // 3, i % 3])\n",
    "plt.tight_layout()\n",
    "# Suppress the titles\n",
    "plt.suptitle('')  \n",
    "plt.title('')\n",
    "plt.show()"
   ]
  },
  {
   "cell_type": "markdown",
   "metadata": {},
   "source": [
    "Some configuration options make a bigger price difference than others \n",
    "(e.g., screen size has a clear impact, while bandwidth does not, RAM size \n",
    "makes a difference mostly if you choose the largest size.)"
   ]
  },
  {
   "cell_type": "code",
   "execution_count": null,
   "metadata": {},
   "outputs": [],
   "source": []
  }
 ],
 "metadata": {
  "kernelspec": {
   "display_name": "Python 3",
   "language": "python",
   "name": "python3"
  },
  "language_info": {
   "codemirror_mode": {
    "name": "ipython",
    "version": 3
   },
   "file_extension": ".py",
   "mimetype": "text/x-python",
   "name": "python",
   "nbconvert_exporter": "python",
   "pygments_lexer": "ipython3",
   "version": "3.6.8"
  }
 },
 "nbformat": 4,
 "nbformat_minor": 2
}
