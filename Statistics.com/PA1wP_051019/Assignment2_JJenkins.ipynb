{
 "cells": [
  {
   "cell_type": "markdown",
   "metadata": {},
   "source": [
    "Assignment 2: Data Visualization\n",
    "\n",
    "The problems in this assignment are based on the exercise 3.4 of Chapter 3 in Data Mining for Business Analytics.\n",
    "\n",
    "Data: The file LaptopSales.csv is a comma-separated file with nearly 300,000 rows. The European Network for Business and Industrial Statistics (ENBIS) provided these data as part of a contest organized in the fall of 2009.\n",
    "\n",
    "Scenario: You are a new analyst for Acell, a company selling laptops. You have been provided with data about products and sales. Your task is to help the company to plan product strategy and pricing policies that will maximize Acell's projected revenues for 2009.\n",
    "\n",
    "To start, open a new jupyter notebook and give it a name (for example, HW2 or Assignment#). The next step is to define the data directory and to load the data file. See the jupyter notebook for Chapter 2 for how this is done. Use numpy, pandas and seaborn for this analysis.\n"
   ]
  },
  {
   "cell_type": "code",
   "execution_count": 1,
   "metadata": {},
   "outputs": [],
   "source": [
    "import matplotlib.pylab as plt\n",
    "%matplotlib inline\n",
    "from pathlib import Path\n",
    "import pandas as pd\n",
    "import seaborn as sns\n",
    "import numpy as np\n"
   ]
  },
  {
   "cell_type": "markdown",
   "metadata": {},
   "source": [
    "\n",
    "Question 1 (2 points) Load the laptop sales data into jupyter notebook and check if it is loaded successfully. (Optional: Observe how pandas handles the variable/column names, as compared to original names in csv file, when data is read. It will be useful to tweak the variable names for your own convenience; e.g. remove spaces.\n"
   ]
  },
  {
   "cell_type": "code",
   "execution_count": 2,
   "metadata": {},
   "outputs": [],
   "source": [
    "# Load the data\n",
    "laptop_df = pd.read_csv(\"dmba/LaptopSales.csv\")"
   ]
  },
  {
   "cell_type": "code",
   "execution_count": 3,
   "metadata": {},
   "outputs": [
    {
     "name": "stdout",
     "output_type": "stream",
     "text": [
      "Shape (297572, 16)\n"
     ]
    },
    {
     "data": {
      "text/html": [
       "<div>\n",
       "<style scoped>\n",
       "    .dataframe tbody tr th:only-of-type {\n",
       "        vertical-align: middle;\n",
       "    }\n",
       "\n",
       "    .dataframe tbody tr th {\n",
       "        vertical-align: top;\n",
       "    }\n",
       "\n",
       "    .dataframe thead th {\n",
       "        text-align: right;\n",
       "    }\n",
       "</style>\n",
       "<table border=\"1\" class=\"dataframe\">\n",
       "  <thead>\n",
       "    <tr style=\"text-align: right;\">\n",
       "      <th></th>\n",
       "      <th>Date</th>\n",
       "      <th>Configuration</th>\n",
       "      <th>Customer Postcode</th>\n",
       "      <th>Store Postcode</th>\n",
       "      <th>Retail Price</th>\n",
       "      <th>Screen Size (Inches)</th>\n",
       "      <th>Battery Life (Hours)</th>\n",
       "      <th>RAM (GB)</th>\n",
       "      <th>Processor Speeds (GHz)</th>\n",
       "      <th>Integrated Wireless?</th>\n",
       "      <th>HD Size (GB)</th>\n",
       "      <th>Bundled Applications?</th>\n",
       "      <th>customer X</th>\n",
       "      <th>customer Y</th>\n",
       "      <th>store X</th>\n",
       "      <th>store Y</th>\n",
       "    </tr>\n",
       "  </thead>\n",
       "  <tbody>\n",
       "    <tr>\n",
       "      <th>0</th>\n",
       "      <td>1/1/2008 0:01</td>\n",
       "      <td>163</td>\n",
       "      <td>EC4V 5BH</td>\n",
       "      <td>SE1 2BN</td>\n",
       "      <td>455.0</td>\n",
       "      <td>15</td>\n",
       "      <td>5</td>\n",
       "      <td>1</td>\n",
       "      <td>2.0</td>\n",
       "      <td>Yes</td>\n",
       "      <td>80</td>\n",
       "      <td>Yes</td>\n",
       "      <td>532041</td>\n",
       "      <td>180995</td>\n",
       "      <td>534057.0</td>\n",
       "      <td>179682.0</td>\n",
       "    </tr>\n",
       "    <tr>\n",
       "      <th>1</th>\n",
       "      <td>1/1/2008 0:02</td>\n",
       "      <td>320</td>\n",
       "      <td>SW4 0JL</td>\n",
       "      <td>SW12 9HD</td>\n",
       "      <td>545.0</td>\n",
       "      <td>15</td>\n",
       "      <td>6</td>\n",
       "      <td>1</td>\n",
       "      <td>2.0</td>\n",
       "      <td>No</td>\n",
       "      <td>300</td>\n",
       "      <td>No</td>\n",
       "      <td>529240</td>\n",
       "      <td>175537</td>\n",
       "      <td>528739.0</td>\n",
       "      <td>173080.0</td>\n",
       "    </tr>\n",
       "    <tr>\n",
       "      <th>2</th>\n",
       "      <td>1/1/2008 0:04</td>\n",
       "      <td>23</td>\n",
       "      <td>EC3V 1LR</td>\n",
       "      <td>E2 0RY</td>\n",
       "      <td>515.0</td>\n",
       "      <td>15</td>\n",
       "      <td>4</td>\n",
       "      <td>1</td>\n",
       "      <td>2.0</td>\n",
       "      <td>Yes</td>\n",
       "      <td>300</td>\n",
       "      <td>Yes</td>\n",
       "      <td>533095</td>\n",
       "      <td>181047</td>\n",
       "      <td>535652.0</td>\n",
       "      <td>182961.0</td>\n",
       "    </tr>\n",
       "    <tr>\n",
       "      <th>3</th>\n",
       "      <td>1/1/2008 0:04</td>\n",
       "      <td>169</td>\n",
       "      <td>SW1P 3AU</td>\n",
       "      <td>SE1 2BN</td>\n",
       "      <td>395.0</td>\n",
       "      <td>15</td>\n",
       "      <td>5</td>\n",
       "      <td>1</td>\n",
       "      <td>2.0</td>\n",
       "      <td>No</td>\n",
       "      <td>40</td>\n",
       "      <td>Yes</td>\n",
       "      <td>529902</td>\n",
       "      <td>179641</td>\n",
       "      <td>534057.0</td>\n",
       "      <td>179682.0</td>\n",
       "    </tr>\n",
       "    <tr>\n",
       "      <th>4</th>\n",
       "      <td>1/1/2008 0:06</td>\n",
       "      <td>365</td>\n",
       "      <td>EC4V 4EG</td>\n",
       "      <td>SW1V 4QQ</td>\n",
       "      <td>585.0</td>\n",
       "      <td>15</td>\n",
       "      <td>6</td>\n",
       "      <td>2</td>\n",
       "      <td>2.0</td>\n",
       "      <td>No</td>\n",
       "      <td>120</td>\n",
       "      <td>Yes</td>\n",
       "      <td>531684</td>\n",
       "      <td>180948</td>\n",
       "      <td>528924.0</td>\n",
       "      <td>178440.0</td>\n",
       "    </tr>\n",
       "    <tr>\n",
       "      <th>5</th>\n",
       "      <td>1/1/2008 0:12</td>\n",
       "      <td>309</td>\n",
       "      <td>W1B 5PX</td>\n",
       "      <td>SW1V 4QQ</td>\n",
       "      <td>555.0</td>\n",
       "      <td>15</td>\n",
       "      <td>6</td>\n",
       "      <td>1</td>\n",
       "      <td>2.0</td>\n",
       "      <td>Yes</td>\n",
       "      <td>120</td>\n",
       "      <td>Yes</td>\n",
       "      <td>529207</td>\n",
       "      <td>180969</td>\n",
       "      <td>528924.0</td>\n",
       "      <td>178440.0</td>\n",
       "    </tr>\n",
       "    <tr>\n",
       "      <th>6</th>\n",
       "      <td>1/1/2008 0:14</td>\n",
       "      <td>75</td>\n",
       "      <td>SE25 4LX</td>\n",
       "      <td>SE8 3JD</td>\n",
       "      <td>465.0</td>\n",
       "      <td>15</td>\n",
       "      <td>4</td>\n",
       "      <td>2</td>\n",
       "      <td>2.0</td>\n",
       "      <td>No</td>\n",
       "      <td>80</td>\n",
       "      <td>Yes</td>\n",
       "      <td>534575</td>\n",
       "      <td>168236</td>\n",
       "      <td>537175.0</td>\n",
       "      <td>177885.0</td>\n",
       "    </tr>\n",
       "    <tr>\n",
       "      <th>7</th>\n",
       "      <td>1/1/2008 0:17</td>\n",
       "      <td>346</td>\n",
       "      <td>N7 6AR</td>\n",
       "      <td>E2 0RY</td>\n",
       "      <td>450.0</td>\n",
       "      <td>15</td>\n",
       "      <td>6</td>\n",
       "      <td>2</td>\n",
       "      <td>1.5</td>\n",
       "      <td>No</td>\n",
       "      <td>40</td>\n",
       "      <td>No</td>\n",
       "      <td>530461</td>\n",
       "      <td>186176</td>\n",
       "      <td>535652.0</td>\n",
       "      <td>182961.0</td>\n",
       "    </tr>\n",
       "    <tr>\n",
       "      <th>8</th>\n",
       "      <td>1/1/2008 0:24</td>\n",
       "      <td>70</td>\n",
       "      <td>W3 7JT</td>\n",
       "      <td>SW18 1NN</td>\n",
       "      <td>455.0</td>\n",
       "      <td>15</td>\n",
       "      <td>4</td>\n",
       "      <td>2</td>\n",
       "      <td>2.0</td>\n",
       "      <td>Yes</td>\n",
       "      <td>120</td>\n",
       "      <td>No</td>\n",
       "      <td>520898</td>\n",
       "      <td>180071</td>\n",
       "      <td>525155.0</td>\n",
       "      <td>175180.0</td>\n",
       "    </tr>\n",
       "    <tr>\n",
       "      <th>9</th>\n",
       "      <td>1/1/2008 0:56</td>\n",
       "      <td>351</td>\n",
       "      <td>SW8 1RB</td>\n",
       "      <td>SW1V 4QQ</td>\n",
       "      <td>620.0</td>\n",
       "      <td>15</td>\n",
       "      <td>6</td>\n",
       "      <td>2</td>\n",
       "      <td>1.5</td>\n",
       "      <td>No</td>\n",
       "      <td>300</td>\n",
       "      <td>Yes</td>\n",
       "      <td>530298</td>\n",
       "      <td>177435</td>\n",
       "      <td>528924.0</td>\n",
       "      <td>178440.0</td>\n",
       "    </tr>\n",
       "    <tr>\n",
       "      <th>10</th>\n",
       "      <td>1/1/2008 1:00</td>\n",
       "      <td>209</td>\n",
       "      <td>SE26 5HB</td>\n",
       "      <td>CR7 8LE</td>\n",
       "      <td>465.0</td>\n",
       "      <td>15</td>\n",
       "      <td>5</td>\n",
       "      <td>2</td>\n",
       "      <td>2.0</td>\n",
       "      <td>Yes</td>\n",
       "      <td>40</td>\n",
       "      <td>Yes</td>\n",
       "      <td>535838</td>\n",
       "      <td>171458</td>\n",
       "      <td>532714.0</td>\n",
       "      <td>168302.0</td>\n",
       "    </tr>\n",
       "    <tr>\n",
       "      <th>11</th>\n",
       "      <td>1/1/2008 1:03</td>\n",
       "      <td>359</td>\n",
       "      <td>W1T 1DG</td>\n",
       "      <td>NW5 2QH</td>\n",
       "      <td>665.0</td>\n",
       "      <td>15</td>\n",
       "      <td>6</td>\n",
       "      <td>2</td>\n",
       "      <td>2.0</td>\n",
       "      <td>Yes</td>\n",
       "      <td>300</td>\n",
       "      <td>Yes</td>\n",
       "      <td>529584</td>\n",
       "      <td>181554</td>\n",
       "      <td>529248.0</td>\n",
       "      <td>185213.0</td>\n",
       "    </tr>\n",
       "    <tr>\n",
       "      <th>12</th>\n",
       "      <td>1/1/2008 1:05</td>\n",
       "      <td>300</td>\n",
       "      <td>TW9 3AH</td>\n",
       "      <td>W4 3PH</td>\n",
       "      <td>440.0</td>\n",
       "      <td>15</td>\n",
       "      <td>6</td>\n",
       "      <td>1</td>\n",
       "      <td>1.5</td>\n",
       "      <td>No</td>\n",
       "      <td>80</td>\n",
       "      <td>No</td>\n",
       "      <td>518891</td>\n",
       "      <td>177662</td>\n",
       "      <td>519585.0</td>\n",
       "      <td>177640.0</td>\n",
       "    </tr>\n",
       "    <tr>\n",
       "      <th>13</th>\n",
       "      <td>1/1/2008 1:07</td>\n",
       "      <td>363</td>\n",
       "      <td>N1 9DU</td>\n",
       "      <td>SW1V 4QQ</td>\n",
       "      <td>565.0</td>\n",
       "      <td>15</td>\n",
       "      <td>6</td>\n",
       "      <td>2</td>\n",
       "      <td>2.0</td>\n",
       "      <td>No</td>\n",
       "      <td>80</td>\n",
       "      <td>Yes</td>\n",
       "      <td>530451</td>\n",
       "      <td>183067</td>\n",
       "      <td>528924.0</td>\n",
       "      <td>178440.0</td>\n",
       "    </tr>\n",
       "    <tr>\n",
       "      <th>14</th>\n",
       "      <td>1/1/2008 1:15</td>\n",
       "      <td>22</td>\n",
       "      <td>N1 8LU</td>\n",
       "      <td>E2 0RY</td>\n",
       "      <td>405.0</td>\n",
       "      <td>15</td>\n",
       "      <td>4</td>\n",
       "      <td>1</td>\n",
       "      <td>2.0</td>\n",
       "      <td>Yes</td>\n",
       "      <td>120</td>\n",
       "      <td>No</td>\n",
       "      <td>531957</td>\n",
       "      <td>183906</td>\n",
       "      <td>535652.0</td>\n",
       "      <td>182961.0</td>\n",
       "    </tr>\n",
       "  </tbody>\n",
       "</table>\n",
       "</div>"
      ],
      "text/plain": [
       "             Date  Configuration Customer Postcode Store Postcode  \\\n",
       "0   1/1/2008 0:01            163          EC4V 5BH        SE1 2BN   \n",
       "1   1/1/2008 0:02            320           SW4 0JL       SW12 9HD   \n",
       "2   1/1/2008 0:04             23          EC3V 1LR         E2 0RY   \n",
       "3   1/1/2008 0:04            169          SW1P 3AU        SE1 2BN   \n",
       "4   1/1/2008 0:06            365          EC4V 4EG       SW1V 4QQ   \n",
       "5   1/1/2008 0:12            309           W1B 5PX       SW1V 4QQ   \n",
       "6   1/1/2008 0:14             75          SE25 4LX        SE8 3JD   \n",
       "7   1/1/2008 0:17            346            N7 6AR         E2 0RY   \n",
       "8   1/1/2008 0:24             70            W3 7JT       SW18 1NN   \n",
       "9   1/1/2008 0:56            351           SW8 1RB       SW1V 4QQ   \n",
       "10  1/1/2008 1:00            209          SE26 5HB        CR7 8LE   \n",
       "11  1/1/2008 1:03            359           W1T 1DG        NW5 2QH   \n",
       "12  1/1/2008 1:05            300           TW9 3AH         W4 3PH   \n",
       "13  1/1/2008 1:07            363            N1 9DU       SW1V 4QQ   \n",
       "14  1/1/2008 1:15             22            N1 8LU         E2 0RY   \n",
       "\n",
       "    Retail Price  Screen Size (Inches)  Battery Life (Hours)  RAM (GB)  \\\n",
       "0          455.0                    15                     5         1   \n",
       "1          545.0                    15                     6         1   \n",
       "2          515.0                    15                     4         1   \n",
       "3          395.0                    15                     5         1   \n",
       "4          585.0                    15                     6         2   \n",
       "5          555.0                    15                     6         1   \n",
       "6          465.0                    15                     4         2   \n",
       "7          450.0                    15                     6         2   \n",
       "8          455.0                    15                     4         2   \n",
       "9          620.0                    15                     6         2   \n",
       "10         465.0                    15                     5         2   \n",
       "11         665.0                    15                     6         2   \n",
       "12         440.0                    15                     6         1   \n",
       "13         565.0                    15                     6         2   \n",
       "14         405.0                    15                     4         1   \n",
       "\n",
       "    Processor Speeds (GHz) Integrated Wireless?  HD Size (GB)  \\\n",
       "0                      2.0                  Yes            80   \n",
       "1                      2.0                   No           300   \n",
       "2                      2.0                  Yes           300   \n",
       "3                      2.0                   No            40   \n",
       "4                      2.0                   No           120   \n",
       "5                      2.0                  Yes           120   \n",
       "6                      2.0                   No            80   \n",
       "7                      1.5                   No            40   \n",
       "8                      2.0                  Yes           120   \n",
       "9                      1.5                   No           300   \n",
       "10                     2.0                  Yes            40   \n",
       "11                     2.0                  Yes           300   \n",
       "12                     1.5                   No            80   \n",
       "13                     2.0                   No            80   \n",
       "14                     2.0                  Yes           120   \n",
       "\n",
       "   Bundled Applications?  customer X  customer Y   store X   store Y  \n",
       "0                    Yes      532041      180995  534057.0  179682.0  \n",
       "1                     No      529240      175537  528739.0  173080.0  \n",
       "2                    Yes      533095      181047  535652.0  182961.0  \n",
       "3                    Yes      529902      179641  534057.0  179682.0  \n",
       "4                    Yes      531684      180948  528924.0  178440.0  \n",
       "5                    Yes      529207      180969  528924.0  178440.0  \n",
       "6                    Yes      534575      168236  537175.0  177885.0  \n",
       "7                     No      530461      186176  535652.0  182961.0  \n",
       "8                     No      520898      180071  525155.0  175180.0  \n",
       "9                    Yes      530298      177435  528924.0  178440.0  \n",
       "10                   Yes      535838      171458  532714.0  168302.0  \n",
       "11                   Yes      529584      181554  529248.0  185213.0  \n",
       "12                    No      518891      177662  519585.0  177640.0  \n",
       "13                   Yes      530451      183067  528924.0  178440.0  \n",
       "14                    No      531957      183906  535652.0  182961.0  "
      ]
     },
     "execution_count": 3,
     "metadata": {},
     "output_type": "execute_result"
    }
   ],
   "source": [
    "# Verify data is loaded correctly\n",
    "print(\"Shape\", laptop_df.shape)  # determine data frame dimensions\n",
    "laptop_df.head(15)  # view the first 15 observations"
   ]
  },
  {
   "cell_type": "code",
   "execution_count": 4,
   "metadata": {},
   "outputs": [
    {
     "name": "stdout",
     "output_type": "stream",
     "text": [
      "Date\n",
      "Configuration\n",
      "Customer Postcode\n",
      "Store Postcode\n",
      "Retail Price\n",
      "Screen Size (Inches)\n",
      "Battery Life (Hours)\n",
      "RAM (GB)\n",
      "Processor Speeds (GHz)\n",
      "Integrated Wireless?\n",
      "HD Size (GB)\n",
      "Bundled Applications?\n",
      "customer X\n",
      "customer Y\n",
      "store X\n",
      "store Y\n"
     ]
    }
   ],
   "source": [
    "# Print the list of variables to the screen\n",
    "for variable_name in laptop_df.columns:\n",
    "    print(variable_name)"
   ]
  },
  {
   "cell_type": "code",
   "execution_count": 5,
   "metadata": {},
   "outputs": [],
   "source": [
    "# Rename/tweak the variable names for your own convenience; e.g. remove spaces.\n",
    "laptop_df = laptop_df.rename(columns={\n",
    "    'Customer Postcode': 'Customer_Postcode',\n",
    "    'Store Postcode': 'Store_Postcode',\n",
    "    'Retail Price': 'Retail_Price', \n",
    "    'Screen Size (Inches)': 'Screen_Size_Inches', \n",
    "    'Battery Life (Hours)': 'Battery_Life_Hours',\n",
    "    'RAM (GB)': 'RAM_GB',\n",
    "    'Processor Speeds (GHz)': 'Processor_Speeds_GHz',\n",
    "    'Integrated Wireless?': 'Integrated_Wireless',\n",
    "    'HD Size (GB)': 'HD_Size_GB',\n",
    "    'Bundled Applications?': 'Bundled_Applications',\n",
    "    'customer X': 'customer_X', \n",
    "    'customer Y': 'customer_Y',\n",
    "})"
   ]
  },
  {
   "cell_type": "code",
   "execution_count": 6,
   "metadata": {},
   "outputs": [
    {
     "name": "stdout",
     "output_type": "stream",
     "text": [
      "Date\n",
      "Configuration\n",
      "Customer_Postcode\n",
      "Store_Postcode\n",
      "Retail_Price\n",
      "Screen_Size_Inches\n",
      "Battery_Life_Hours\n",
      "RAM_GB\n",
      "Processor_Speeds_GHz\n",
      "Integrated_Wireless\n",
      "HD_Size_GB\n",
      "Bundled_Applications\n",
      "customer_X\n",
      "customer_Y\n",
      "store X\n",
      "store Y\n"
     ]
    }
   ],
   "source": [
    "# Print the list of renamed variables to the screen\n",
    "for variable_name in laptop_df.columns:\n",
    "    print(variable_name)"
   ]
  },
  {
   "cell_type": "markdown",
   "metadata": {},
   "source": [
    "Question 2 (2 points) What is the data type of each of the variable in data? Check using appropriate pandas fields. Hint: dtype or dtypes will do the job for you. Had you expected exactly the same data types as shown by pandas? Comment. Convert to more appropriate types (e.g. datetime, category).\n"
   ]
  },
  {
   "cell_type": "code",
   "execution_count": 7,
   "metadata": {},
   "outputs": [
    {
     "data": {
      "text/plain": [
       "Date                     object\n",
       "Configuration             int64\n",
       "Customer_Postcode        object\n",
       "Store_Postcode           object\n",
       "Retail_Price            float64\n",
       "Screen_Size_Inches        int64\n",
       "Battery_Life_Hours        int64\n",
       "RAM_GB                    int64\n",
       "Processor_Speeds_GHz    float64\n",
       "Integrated_Wireless      object\n",
       "HD_Size_GB                int64\n",
       "Bundled_Applications     object\n",
       "customer_X                int64\n",
       "customer_Y                int64\n",
       "store X                 float64\n",
       "store Y                 float64\n",
       "dtype: object"
      ]
     },
     "execution_count": 7,
     "metadata": {},
     "output_type": "execute_result"
    }
   ],
   "source": [
    "# Confirm data type of each of the variables in the data.\n",
    "laptop_df.dtypes"
   ]
  },
  {
   "cell_type": "code",
   "execution_count": 8,
   "metadata": {},
   "outputs": [
    {
     "data": {
      "text/plain": [
       "Date                    datetime64[ns]\n",
       "Configuration                    int64\n",
       "Customer_Postcode             category\n",
       "Store_Postcode                category\n",
       "Retail_Price                   float64\n",
       "Screen_Size_Inches               int64\n",
       "Battery_Life_Hours               int64\n",
       "RAM_GB                           int64\n",
       "Processor_Speeds_GHz           float64\n",
       "Integrated_Wireless           category\n",
       "HD_Size_GB                       int64\n",
       "Bundled_Applications          category\n",
       "customer_X                       int64\n",
       "customer_Y                       int64\n",
       "store X                        float64\n",
       "store Y                        float64\n",
       "dtype: object"
      ]
     },
     "execution_count": 8,
     "metadata": {},
     "output_type": "execute_result"
    }
   ],
   "source": [
    "# Converting to more appropriate types (e.g. datetime, category)\n",
    "## Converting object column for Date to datetime\n",
    "laptop_df['Date'] = pd.to_datetime(laptop_df.Date)\n",
    "## Converting object columns for Customer_Postcode, Store_Postcode, Integrated Wireless and Bundled_Applications to category\n",
    "laptop_df.Customer_Postcode = laptop_df.Customer_Postcode.astype('category')\n",
    "laptop_df.Store_Postcode = laptop_df.Store_Postcode.astype('category')\n",
    "laptop_df.Integrated_Wireless = laptop_df.Integrated_Wireless.astype('category')\n",
    "laptop_df.Bundled_Applications = laptop_df.Bundled_Applications.astype('category')\n",
    "\n",
    "laptop_df.dtypes"
   ]
  },
  {
   "cell_type": "markdown",
   "metadata": {},
   "source": [
    "Question 3 (3 points) Are there any missing values in the data? Report the findings.\n"
   ]
  },
  {
   "cell_type": "code",
   "execution_count": 9,
   "metadata": {},
   "outputs": [
    {
     "data": {
      "text/plain": [
       "Date                    297364\n",
       "Configuration           297572\n",
       "Customer_Postcode       297572\n",
       "Store_Postcode          297572\n",
       "Retail_Price            284129\n",
       "Screen_Size_Inches      297572\n",
       "Battery_Life_Hours      297572\n",
       "RAM_GB                  297572\n",
       "Processor_Speeds_GHz    297572\n",
       "Integrated_Wireless     297572\n",
       "HD_Size_GB              297572\n",
       "Bundled_Applications    297572\n",
       "customer_X              297572\n",
       "customer_Y              297572\n",
       "store X                 297424\n",
       "store Y                 297424\n",
       "dtype: int64"
      ]
     },
     "execution_count": 9,
     "metadata": {},
     "output_type": "execute_result"
    }
   ],
   "source": [
    "# Per the Chapter 02 - Overview.ipynb the count method provides info on data of each column\n",
    "laptop_df.count()"
   ]
  },
  {
   "cell_type": "code",
   "execution_count": 10,
   "metadata": {},
   "outputs": [
    {
     "data": {
      "text/plain": [
       "297572"
      ]
     },
     "execution_count": 10,
     "metadata": {},
     "output_type": "execute_result"
    }
   ],
   "source": [
    "len(laptop_df)"
   ]
  },
  {
   "cell_type": "code",
   "execution_count": 11,
   "metadata": {},
   "outputs": [
    {
     "name": "stdout",
     "output_type": "stream",
     "text": [
      "The number of missing values in the dataframe per column is as follows:\n",
      "\n",
      "Date                      208\n",
      "Configuration               0\n",
      "Customer_Postcode           0\n",
      "Store_Postcode              0\n",
      "Retail_Price            13443\n",
      "Screen_Size_Inches          0\n",
      "Battery_Life_Hours          0\n",
      "RAM_GB                      0\n",
      "Processor_Speeds_GHz        0\n",
      "Integrated_Wireless         0\n",
      "HD_Size_GB                  0\n",
      "Bundled_Applications        0\n",
      "customer_X                  0\n",
      "customer_Y                  0\n",
      "store X                   148\n",
      "store Y                   148\n",
      "dtype: int64\n"
     ]
    }
   ],
   "source": [
    "# Number of missing values equals the dataframe length minus the count\n",
    "print(\"The number of missing values in the dataframe per column is as follows:\\n\")\n",
    "print((len(laptop_df) - laptop_df.count()))"
   ]
  },
  {
   "cell_type": "markdown",
   "metadata": {},
   "source": [
    "Question 4 (3 points) Observe the missing values graphically and comment on it. (Hint: use seaborn's heatmap)\n"
   ]
  },
  {
   "cell_type": "code",
   "execution_count": 12,
   "metadata": {},
   "outputs": [
    {
     "data": {
      "image/png": "[encoded data removed]",
      "text/plain": [
       "<Figure size 936x648 with 1 Axes>"
      ]
     },
     "metadata": {
      "needs_background": "light"
     },
     "output_type": "display_data"
    }
   ],
   "source": [
    "# Using coding provided in the Chapter 03 - Data visualization.ipynb\n",
    "naInfo = np.zeros(laptop_df.shape)\n",
    "naInfo[laptop_df.isna().values] = 1\n",
    "naInfo = pd.DataFrame(naInfo, columns=laptop_df.columns)\n",
    "\n",
    "fig, ax = plt.subplots()\n",
    "fig.set_size_inches(13, 9)\n",
    "ax = sns.heatmap(naInfo, vmin=0, vmax=1, cmap=[\"white\", \"red\"], cbar=False, ax=ax)\n",
    "#ax = sns.heatmap(naInfo, vmin=0, vmax=1, cmap=[\"white\", \"#444444\"], cbar=False, ax=ax)\n",
    "ax.set_yticks([])\n",
    "\n",
    "# Draw a rectangle around the graph\n",
    "rect = plt.Rectangle((0, 0), naInfo.shape[1], naInfo.shape[0], linewidth=1, \n",
    "                     edgecolor='blue',facecolor='none')\n",
    "rect = ax.add_patch(rect)\n",
    "rect.set_clip_on(False)"
   ]
  },
  {
   "cell_type": "markdown",
   "metadata": {},
   "source": [
    "The missing values for Retail_Price are prominent enough to be visible in the heatmap, but the other missing values (i.e. for Date, store_X and store_Y are not)."
   ]
  },
  {
   "cell_type": "markdown",
   "metadata": {},
   "source": [
    "Question 5 (3 points) At what average and median price do the laptops sell? Hint: Use distribution of values to answer this question.\n"
   ]
  },
  {
   "cell_type": "code",
   "execution_count": 13,
   "metadata": {},
   "outputs": [
    {
     "data": {
      "image/png": "[encoded data removed]",
      "text/plain": [
       "<Figure size 432x288 with 1 Axes>"
      ]
     },
     "metadata": {
      "needs_background": "light"
     },
     "output_type": "display_data"
    }
   ],
   "source": [
    "ax = laptop_df.hist(column='Retail_Price')"
   ]
  },
  {
   "cell_type": "code",
   "execution_count": 14,
   "metadata": {},
   "outputs": [
    {
     "name": "stdout",
     "output_type": "stream",
     "text": [
      "The median retail price was $500.0.\n",
      "The mean retail price was $508.12593575453405.\n",
      "The minimum retail price was $168.0.\n",
      "The maximum retail price was $890.0.\n"
     ]
    }
   ],
   "source": [
    "print(\"The median retail price was $%s.\" % laptop_df['Retail_Price'].median())\n",
    "print(\"The mean retail price was $%s.\" % laptop_df['Retail_Price'].mean())\n",
    "print(\"The minimum retail price was $%s.\" % laptop_df['Retail_Price'].min())\n",
    "print(\"The maximum retail price was $%s.\" % laptop_df['Retail_Price'].max())"
   ]
  },
  {
   "cell_type": "markdown",
   "metadata": {},
   "source": [
    "A histogram of price shows the approximate symmetric shape of the price distribution between 168 and 890."
   ]
  },
  {
   "cell_type": "code",
   "execution_count": 15,
   "metadata": {},
   "outputs": [
    {
     "data": {
      "image/png": "[encoded data removed]",
      "text/plain": [
       "<Figure size 432x288 with 1 Axes>"
      ]
     },
     "metadata": {
      "needs_background": "light"
     },
     "output_type": "display_data"
    }
   ],
   "source": [
    "# Using the argument vert to create a horizontal boxplot\n",
    "ax = laptop_df.boxplot(column='Retail_Price', vert=False)"
   ]
  },
  {
   "cell_type": "markdown",
   "metadata": {},
   "source": [
    "The horizontal boxplot corroborates that the median price is about $500 and that the laptops sell for prices between the 168 and 890 dollars."
   ]
  },
  {
   "cell_type": "markdown",
   "metadata": {},
   "source": [
    "Question 6 (4 points) Compare retail prices across stores. Do prices vary across the stores? Which stores look costly in general?\n"
   ]
  },
  {
   "cell_type": "code",
   "execution_count": 16,
   "metadata": {},
   "outputs": [
    {
     "data": {
      "image/png": "[encoded data removed]",
      "text/plain": [
       "<Figure size 432x288 with 1 Axes>"
      ]
     },
     "metadata": {
      "needs_background": "light"
     },
     "output_type": "display_data"
    }
   ],
   "source": [
    "# Using the argument vert creates vertical boxplots\n",
    "ax = laptop_df.boxplot(column='Retail_Price', by='Store_Postcode', vert=True)\n",
    "# Suppress the titles\n",
    "#plt.suptitle('')  \n",
    "#plt.title('')\n",
    "\n",
    "plt.tight_layout()  # Increase the separation between the plots\n",
    "plt.show()"
   ]
  },
  {
   "cell_type": "markdown",
   "metadata": {},
   "source": [
    "The vertical boxplots show that all of the stores have a median retail price in the vicinity of $500."
   ]
  },
  {
   "cell_type": "markdown",
   "metadata": {},
   "source": [
    "Question 7 (3 points) Does price of laptop vary according to integrated wireless?\n"
   ]
  },
  {
   "cell_type": "code",
   "execution_count": 17,
   "metadata": {},
   "outputs": [
    {
     "data": {
      "image/png": "[encoded data removed]",
      "text/plain": [
       "<Figure size 432x288 with 1 Axes>"
      ]
     },
     "metadata": {
      "needs_background": "light"
     },
     "output_type": "display_data"
    }
   ],
   "source": [
    "ax = laptop_df.boxplot(column='Retail_Price', by='Integrated_Wireless')"
   ]
  },
  {
   "cell_type": "markdown",
   "metadata": {},
   "source": [
    "No, the boxplot comparison does not show that the price of laptop varies according to integrated wireless."
   ]
  },
  {
   "cell_type": "markdown",
   "metadata": {},
   "source": [
    "Question 8 (6 points) Draw the scatter plot of retail prices versus\n",
    "\n",
    "    Screen Size\n",
    "    Battery Life\n",
    "    RAM\n",
    "    Processor\n",
    "    HD Size\n",
    "    Configuration\n",
    "\n",
    "Comment on the utility of these scatter plots.\n"
   ]
  },
  {
   "cell_type": "code",
   "execution_count": 18,
   "metadata": {},
   "outputs": [
    {
     "data": {
      "image/png": "[encoded data removed]",
      "text/plain": [
       "<Figure size 504x504 with 6 Axes>"
      ]
     },
     "metadata": {
      "needs_background": "light"
     },
     "output_type": "display_data"
    }
   ],
   "source": [
    "# Showing all graphs in one \n",
    "fig, axes = plt.subplots(nrows=3, ncols=2, figsize=(7, 7))\n",
    "columns = ['Screen_Size_Inches', 'Battery_Life_Hours', 'RAM_GB', 'Processor_Speeds_GHz', \n",
    "           'HD_Size_GB', 'Configuration']\n",
    "for i, column in enumerate(columns):\n",
    "    laptop_df.plot(kind='scatter', x='Retail_Price', y=column, s=0.1, ax=axes[i // 2, i % 2], color=\"magenta\")\n",
    "plt.tight_layout()"
   ]
  },
  {
   "cell_type": "markdown",
   "metadata": {},
   "source": [
    "Question 9 (5 points) In your opinion, which of the configurations make the biggest difference in the laptop price?"
   ]
  },
  {
   "cell_type": "code",
   "execution_count": 19,
   "metadata": {},
   "outputs": [
    {
     "data": {
      "image/png": "[encoded data removed]",
      "text/plain": [
       "<Figure size 576x576 with 9 Axes>"
      ]
     },
     "metadata": {
      "needs_background": "light"
     },
     "output_type": "display_data"
    }
   ],
   "source": [
    "fig, axes = plt.subplots(nrows=3, ncols=3, figsize=(8, 8))\n",
    "columns = ['Screen_Size_Inches', 'Battery_Life_Hours', 'RAM_GB', 'Processor_Speeds_GHz', \n",
    "           'HD_Size_GB', 'Integrated_Wireless', 'Bundled_Applications']\n",
    "for i, column in enumerate(columns):\n",
    "    laptop_df.boxplot(column='Retail_Price', by=column, ax=axes[i // 3, i % 3])\n",
    "plt.tight_layout()\n",
    "# Suppress the titles\n",
    "plt.suptitle('')  \n",
    "#plt.title('')\n",
    "\n",
    "plt.tight_layout()  # Increase the separation between the plots\n",
    "plt.show()"
   ]
  },
  {
   "cell_type": "markdown",
   "metadata": {},
   "source": [
    "Screen size, maximum battery life, and maximum GB ram make the biggest difference in retail price."
   ]
  }
 ],
 "metadata": {
  "kernelspec": {
   "display_name": "Python 3",
   "language": "python",
   "name": "python3"
  },
  "language_info": {
   "codemirror_mode": {
    "name": "ipython",
    "version": 3
   },
   "file_extension": ".py",
   "mimetype": "text/x-python",
   "name": "python",
   "nbconvert_exporter": "python",
   "pygments_lexer": "ipython3",
   "version": "3.6.8"
  }
 },
 "nbformat": 4,
 "nbformat_minor": 2
}
