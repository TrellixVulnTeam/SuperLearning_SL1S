{
 "cells": [
  {
   "cell_type": "markdown",
   "metadata": {},
   "source": [
    "# Predictive Analytics 1 - Machine Learning Tools - Using Python\n",
    "Instructor(s) - Peter Gedeck\n",
    "\n",
    "## Solution: Assignment 5 - Naive Bayes Classifier"
   ]
  },
  {
   "cell_type": "code",
   "execution_count": 1,
   "metadata": {},
   "outputs": [],
   "source": [
    "# %matplotlib inline\n",
    "import math\n",
    "from pathlib import Path\n",
    "import numpy as np\n",
    "import pandas as pd\n",
    "from sklearn.naive_bayes import MultinomialNB\n",
    "from sklearn.model_selection import train_test_split\n",
    "\n",
    "DATA = Path('.').resolve().parent / 'data'"
   ]
  },
  {
   "cell_type": "markdown",
   "metadata": {},
   "source": [
    "## Data preparation\n",
    "Remove all unnecessary columns from the dataset and convert _Online_ and _CreditCard_ to categories. Split the data into training (60%), and validation (40%) sets (use <code>random_state=1</code>)."
   ]
  },
  {
   "cell_type": "code",
   "execution_count": 2,
   "metadata": {},
   "outputs": [
    {
     "data": {
      "text/html": [
       "<div>\n",
       "<style scoped>\n",
       "    .dataframe tbody tr th:only-of-type {\n",
       "        vertical-align: middle;\n",
       "    }\n",
       "\n",
       "    .dataframe tbody tr th {\n",
       "        vertical-align: top;\n",
       "    }\n",
       "\n",
       "    .dataframe thead th {\n",
       "        text-align: right;\n",
       "    }\n",
       "</style>\n",
       "<table border=\"1\" class=\"dataframe\">\n",
       "  <thead>\n",
       "    <tr style=\"text-align: right;\">\n",
       "      <th></th>\n",
       "      <th>Online</th>\n",
       "      <th>CreditCard</th>\n",
       "      <th>Personal Loan</th>\n",
       "    </tr>\n",
       "  </thead>\n",
       "  <tbody>\n",
       "    <tr>\n",
       "      <th>0</th>\n",
       "      <td>0</td>\n",
       "      <td>0</td>\n",
       "      <td>0</td>\n",
       "    </tr>\n",
       "    <tr>\n",
       "      <th>1</th>\n",
       "      <td>0</td>\n",
       "      <td>0</td>\n",
       "      <td>0</td>\n",
       "    </tr>\n",
       "    <tr>\n",
       "      <th>2</th>\n",
       "      <td>0</td>\n",
       "      <td>0</td>\n",
       "      <td>0</td>\n",
       "    </tr>\n",
       "    <tr>\n",
       "      <th>3</th>\n",
       "      <td>0</td>\n",
       "      <td>0</td>\n",
       "      <td>0</td>\n",
       "    </tr>\n",
       "    <tr>\n",
       "      <th>4</th>\n",
       "      <td>0</td>\n",
       "      <td>1</td>\n",
       "      <td>0</td>\n",
       "    </tr>\n",
       "  </tbody>\n",
       "</table>\n",
       "</div>"
      ],
      "text/plain": [
       "  Online CreditCard  Personal Loan\n",
       "0      0          0              0\n",
       "1      0          0              0\n",
       "2      0          0              0\n",
       "3      0          0              0\n",
       "4      0          1              0"
      ]
     },
     "execution_count": 2,
     "metadata": {},
     "output_type": "execute_result"
    }
   ],
   "source": [
    "# Load the data\n",
    "bank_df = pd.read_csv(DATA / 'UniversalBank.csv')\n",
    "\n",
    "# Consider only the required variables and reorder the columns at the same time\n",
    "bank_df = bank_df[['Online', 'CreditCard', 'Personal Loan']]\n",
    "bank_df.Online = bank_df.Online.astype('category')\n",
    "bank_df.CreditCard = bank_df.CreditCard.astype('category')\n",
    "bank_df.head()"
   ]
  },
  {
   "cell_type": "markdown",
   "metadata": {},
   "source": [
    "Split dataset into training and validation set"
   ]
  },
  {
   "cell_type": "code",
   "execution_count": 3,
   "metadata": {},
   "outputs": [
    {
     "name": "stdout",
     "output_type": "stream",
     "text": [
      "Training set: (3000, 3) Validation set: (2000, 3)\n"
     ]
    }
   ],
   "source": [
    "train_df, valid_df = train_test_split(bank_df, test_size=0.4, random_state=1)\n",
    "print('Training set:', train_df.shape, 'Validation set:', valid_df.shape)"
   ]
  },
  {
   "cell_type": "markdown",
   "metadata": {},
   "source": [
    "## Question 1\n",
    "Create a pivot table for the training data with Online as a column variable, CreditCard as a row variable, and Personal Loan as a secondary row variable. The values inside the cells should convey the count (number of records)."
   ]
  },
  {
   "cell_type": "code",
   "execution_count": 4,
   "metadata": {
    "scrolled": false
   },
   "outputs": [
    {
     "data": {
      "text/html": [
       "<div>\n",
       "<style scoped>\n",
       "    .dataframe tbody tr th:only-of-type {\n",
       "        vertical-align: middle;\n",
       "    }\n",
       "\n",
       "    .dataframe tbody tr th {\n",
       "        vertical-align: top;\n",
       "    }\n",
       "\n",
       "    .dataframe thead th {\n",
       "        text-align: right;\n",
       "    }\n",
       "</style>\n",
       "<table border=\"1\" class=\"dataframe\">\n",
       "  <thead>\n",
       "    <tr style=\"text-align: right;\">\n",
       "      <th></th>\n",
       "      <th>Online</th>\n",
       "      <th>0</th>\n",
       "      <th>1</th>\n",
       "    </tr>\n",
       "    <tr>\n",
       "      <th>CreditCard</th>\n",
       "      <th>Personal Loan</th>\n",
       "      <th></th>\n",
       "      <th></th>\n",
       "    </tr>\n",
       "  </thead>\n",
       "  <tbody>\n",
       "    <tr>\n",
       "      <th rowspan=\"2\" valign=\"top\">0</th>\n",
       "      <th>0</th>\n",
       "      <td>792</td>\n",
       "      <td>1117</td>\n",
       "    </tr>\n",
       "    <tr>\n",
       "      <th>1</th>\n",
       "      <td>73</td>\n",
       "      <td>126</td>\n",
       "    </tr>\n",
       "    <tr>\n",
       "      <th rowspan=\"2\" valign=\"top\">1</th>\n",
       "      <th>0</th>\n",
       "      <td>327</td>\n",
       "      <td>477</td>\n",
       "    </tr>\n",
       "    <tr>\n",
       "      <th>1</th>\n",
       "      <td>39</td>\n",
       "      <td>49</td>\n",
       "    </tr>\n",
       "  </tbody>\n",
       "</table>\n",
       "</div>"
      ],
      "text/plain": [
       "Online                      0     1\n",
       "CreditCard Personal Loan           \n",
       "0          0              792  1117\n",
       "           1               73   126\n",
       "1          0              327   477\n",
       "           1               39    49"
      ]
     },
     "execution_count": 4,
     "metadata": {},
     "output_type": "execute_result"
    }
   ],
   "source": [
    "train_df.pivot_table(index=['CreditCard', 'Personal Loan'], \n",
    "                     columns=['Online'], aggfunc=len)"
   ]
  },
  {
   "cell_type": "markdown",
   "metadata": {},
   "source": [
    "## Question 2\n",
    "Consider the task of classifying a customer who owns a bank credit card and is actively using online banking services. Looking at the pivot table that you created, what is the probability that this customer will accept the loan offer?"
   ]
  },
  {
   "cell_type": "markdown",
   "metadata": {},
   "source": [
    "Use the pivot table created in Question 1 for the answer\n",
    "\n",
    "There are 477 + 49 = 526 records where online = 1 and cc = 1. \n",
    "46 of them accept the loan, so the conditional probability is 49/526 = 0.0932"
   ]
  },
  {
   "cell_type": "code",
   "execution_count": 5,
   "metadata": {},
   "outputs": [
    {
     "name": "stdout",
     "output_type": "stream",
     "text": [
      "Count based probability P(Loan = 1|CC = 1, Online = 1) =  0.09315589353612168\n"
     ]
    }
   ],
   "source": [
    "p11 = 49 / (477 + 49)\n",
    "print('Count based probability P(Loan = 1|CC = 1, Online = 1) = ', p11)"
   ]
  },
  {
   "cell_type": "markdown",
   "metadata": {},
   "source": [
    "## Question 3\n",
    "Create two separate pivot tables for the training data. One will have Personal Loan (rows) as a function of Online (columns) and the other will have Personal Loan (rows) as a function of CreditCard. Compute the probabilities below (report three decimals. Note: P(A|B) means \"the probability of A given B\".\n",
    "\n",
    "Compute the probabilities below (report three decimals). Note: P(A|B) means \"the probability of A given B\".\n",
    "\n",
    "1. P(CreditCard = 1|Loan = 1) = the proportion of credit card holders among the loan acceptors\n",
    "2. P(Online = 1|Loan = 1)\n",
    "3. P(Loan = 1) = the proportion of loan acceptors\n",
    "4. P(CC = 1|Loan = 0)\n",
    "5. P(Online = 1|Loan = 0)\n",
    "6. P(Loan = 0)\n",
    "\n",
    "<small><em>CreditCard</em> abbreviated as CC, <em>Personal Loan</em> abbreviated as Loan)</small>"
   ]
  },
  {
   "cell_type": "markdown",
   "metadata": {},
   "source": [
    "Pivot table for Loan (rows) as a function of Online (columns). Here we can use the `pivot_table` method of the pandas data frame."
   ]
  },
  {
   "cell_type": "code",
   "execution_count": 6,
   "metadata": {},
   "outputs": [
    {
     "name": "stdout",
     "output_type": "stream",
     "text": [
      "0    0.904333\n",
      "1    0.095667\n",
      "Name: Personal Loan, dtype: float64\n",
      "\n",
      "CreditCard            0         1\n",
      "Personal Loan                    \n",
      "0              0.703649  0.296351\n",
      "1              0.693380  0.306620\n",
      "\n",
      "Online                0         1\n",
      "Personal Loan                    \n",
      "0              0.412459  0.587541\n",
      "1              0.390244  0.609756\n",
      "\n"
     ]
    }
   ],
   "source": [
    "predictors = ['CreditCard', 'Online']\n",
    "\n",
    "print(train_df['Personal Loan'].value_counts() / len(train_df))\n",
    "print()\n",
    "\n",
    "for predictor in predictors:\n",
    "    # construct the frequency table\n",
    "    df = train_df[['Personal Loan', predictor]]\n",
    "    freqTable = df.pivot_table(index='Personal Loan', columns=predictor, aggfunc=len)\n",
    "\n",
    "    # divide each row by the sum of the row to get conditional probabilities\n",
    "    propTable = freqTable.apply(lambda x: x / sum(x), axis=1)\n",
    "    print(propTable)\n",
    "    print()"
   ]
  },
  {
   "cell_type": "markdown",
   "metadata": {},
   "source": [
    "1. P(CreditCard = 1|Loan = 1) = 0.306620\n",
    "2. P(Online = 1|Loan = 1) = 0.609756\n",
    "3. P(Loan = 1) = 0.095667\n",
    "4. P(CC = 1|Loan = 0) = 0.296351\n",
    "5. P(Online = 1|Loan = 0) = 0.587541\n",
    "6. P(Loan = 0) = 0.904333"
   ]
  },
  {
   "cell_type": "markdown",
   "metadata": {},
   "source": [
    "## Question 4 (2 points)\n",
    "Compute the naive Bayes probability P(Loan=1|CC=1,Online=1). Note: Use the quantities that you computed in the previous question. Refer to the naive Bayes formula (8.3) in the book."
   ]
  },
  {
   "cell_type": "markdown",
   "metadata": {},
   "source": [
    "```\n",
    "P(Loan=1|CC=1,Online=1) = \n",
    "   P(Loan=1) * P(CC=1|Loan=1) * P(Online=1|Loan=1) / \n",
    "   [P(Loan=1) * [P(CC=1|Loan=1) * P(Online=1|Loan=1)] + \n",
    "    P(Loan=0) * [P(CC=1|Loan=0) * P(Online=1|Loan=0)]]\n",
    "```"
   ]
  },
  {
   "cell_type": "code",
   "execution_count": 7,
   "metadata": {},
   "outputs": [
    {
     "name": "stdout",
     "output_type": "stream",
     "text": [
      "Naive Bayes probability P(Loan = 1|CC = 1, Online = 1) =  0.1020046248320646\n"
     ]
    }
   ],
   "source": [
    "# P(Loan = 1) * P(CC = 1 / Loan = 1) * P(Online = 1 / Loan = 1)\n",
    "p1 = 0.095667 * 0.306620 * 0.609756\n",
    "# P(Loan = 0) * P(CC = 1 / Loan = 0) * P(Online = 1 / Loan = 0)\n",
    "p2 = 0.904333 * 0.296351 * 0.587541\n",
    "\n",
    "print('Naive Bayes probability P(Loan = 1|CC = 1, Online = 1) = ', p1 / (p1 + p2))"
   ]
  },
  {
   "cell_type": "markdown",
   "metadata": {},
   "source": [
    "## Question 5\n",
    "Of the two values that you computed earlier (computed in Q2 and Q4), which is a more accurate estimate of P(Loan=1|CC=1,Online=1)?"
   ]
  },
  {
   "cell_type": "markdown",
   "metadata": {},
   "source": [
    "The value obtained from the crossed pivot table is the more accurate estimate, since it does not make the simplifying assumption that the probabilities (of taking a loan if you are a credit card holder and if you are an online customer) are independent. It is feasible in this case because there are few variables and few categories to consider, and thus there are ample data for all possible combinations."
   ]
  },
  {
   "cell_type": "markdown",
   "metadata": {},
   "source": [
    "## Question 6\n",
    "In Python, run naive Bayes on the training data. Use data points that match the condition <em>CreditCard=1,Online=1</em> to find the predicted probability for P(Loan=1|CC=1,Online=1)."
   ]
  },
  {
   "cell_type": "markdown",
   "metadata": {},
   "source": [
    "Change the types of variables to categories and use hot-one-encoding for the independent variables."
   ]
  },
  {
   "cell_type": "code",
   "execution_count": 8,
   "metadata": {},
   "outputs": [
    {
     "data": {
      "text/html": [
       "<div>\n",
       "<style scoped>\n",
       "    .dataframe tbody tr th:only-of-type {\n",
       "        vertical-align: middle;\n",
       "    }\n",
       "\n",
       "    .dataframe tbody tr th {\n",
       "        vertical-align: top;\n",
       "    }\n",
       "\n",
       "    .dataframe thead th {\n",
       "        text-align: right;\n",
       "    }\n",
       "</style>\n",
       "<table border=\"1\" class=\"dataframe\">\n",
       "  <thead>\n",
       "    <tr style=\"text-align: right;\">\n",
       "      <th></th>\n",
       "      <th>Personal Loan</th>\n",
       "      <th>Online_0</th>\n",
       "      <th>Online_1</th>\n",
       "      <th>CreditCard_0</th>\n",
       "      <th>CreditCard_1</th>\n",
       "    </tr>\n",
       "  </thead>\n",
       "  <tbody>\n",
       "    <tr>\n",
       "      <th>4522</th>\n",
       "      <td>0</td>\n",
       "      <td>1</td>\n",
       "      <td>0</td>\n",
       "      <td>1</td>\n",
       "      <td>0</td>\n",
       "    </tr>\n",
       "    <tr>\n",
       "      <th>2851</th>\n",
       "      <td>0</td>\n",
       "      <td>0</td>\n",
       "      <td>1</td>\n",
       "      <td>1</td>\n",
       "      <td>0</td>\n",
       "    </tr>\n",
       "    <tr>\n",
       "      <th>2313</th>\n",
       "      <td>0</td>\n",
       "      <td>0</td>\n",
       "      <td>1</td>\n",
       "      <td>0</td>\n",
       "      <td>1</td>\n",
       "    </tr>\n",
       "    <tr>\n",
       "      <th>982</th>\n",
       "      <td>0</td>\n",
       "      <td>1</td>\n",
       "      <td>0</td>\n",
       "      <td>0</td>\n",
       "      <td>1</td>\n",
       "    </tr>\n",
       "    <tr>\n",
       "      <th>1164</th>\n",
       "      <td>1</td>\n",
       "      <td>0</td>\n",
       "      <td>1</td>\n",
       "      <td>1</td>\n",
       "      <td>0</td>\n",
       "    </tr>\n",
       "  </tbody>\n",
       "</table>\n",
       "</div>"
      ],
      "text/plain": [
       "     Personal Loan  Online_0  Online_1  CreditCard_0  CreditCard_1\n",
       "4522             0         1         0             1             0\n",
       "2851             0         0         1             1             0\n",
       "2313             0         0         1             0             1\n",
       "982              0         1         0             0             1\n",
       "1164             1         0         1             1             0"
      ]
     },
     "execution_count": 8,
     "metadata": {},
     "output_type": "execute_result"
    }
   ],
   "source": [
    "train_df = pd.get_dummies(train_df, prefix_sep='_')\n",
    "train_df['Personal Loan'] = train_df['Personal Loan'].astype('category')\n",
    "train_df.head()"
   ]
  },
  {
   "cell_type": "code",
   "execution_count": 9,
   "metadata": {},
   "outputs": [
    {
     "data": {
      "text/plain": [
       "MultinomialNB(alpha=0.01, class_prior=None, fit_prior=True)"
      ]
     },
     "execution_count": 9,
     "metadata": {},
     "output_type": "execute_result"
    }
   ],
   "source": [
    "predictors = ['Online_0', 'Online_1', 'CreditCard_0', 'CreditCard_1']\n",
    "nb = MultinomialNB(alpha=0.01)\n",
    "nb.fit(train_df[predictors], train_df['Personal Loan'])"
   ]
  },
  {
   "cell_type": "markdown",
   "metadata": {},
   "source": [
    "Predict probabilities and check for the probability of \"1\" in the row where Online = 1 and CreditCard = 1"
   ]
  },
  {
   "cell_type": "code",
   "execution_count": 10,
   "metadata": {},
   "outputs": [
    {
     "data": {
      "text/html": [
       "<div>\n",
       "<style scoped>\n",
       "    .dataframe tbody tr th:only-of-type {\n",
       "        vertical-align: middle;\n",
       "    }\n",
       "\n",
       "    .dataframe tbody tr th {\n",
       "        vertical-align: top;\n",
       "    }\n",
       "\n",
       "    .dataframe thead th {\n",
       "        text-align: right;\n",
       "    }\n",
       "</style>\n",
       "<table border=\"1\" class=\"dataframe\">\n",
       "  <thead>\n",
       "    <tr style=\"text-align: right;\">\n",
       "      <th></th>\n",
       "      <th>Personal Loan</th>\n",
       "      <th>Online_0</th>\n",
       "      <th>Online_1</th>\n",
       "      <th>CreditCard_0</th>\n",
       "      <th>CreditCard_1</th>\n",
       "      <th>0</th>\n",
       "      <th>1</th>\n",
       "    </tr>\n",
       "  </thead>\n",
       "  <tbody>\n",
       "    <tr>\n",
       "      <th>2313</th>\n",
       "      <td>0</td>\n",
       "      <td>0</td>\n",
       "      <td>1</td>\n",
       "      <td>0</td>\n",
       "      <td>1</td>\n",
       "      <td>0.897993</td>\n",
       "      <td>0.102007</td>\n",
       "    </tr>\n",
       "    <tr>\n",
       "      <th>1918</th>\n",
       "      <td>1</td>\n",
       "      <td>0</td>\n",
       "      <td>1</td>\n",
       "      <td>0</td>\n",
       "      <td>1</td>\n",
       "      <td>0.897993</td>\n",
       "      <td>0.102007</td>\n",
       "    </tr>\n",
       "    <tr>\n",
       "      <th>4506</th>\n",
       "      <td>0</td>\n",
       "      <td>0</td>\n",
       "      <td>1</td>\n",
       "      <td>0</td>\n",
       "      <td>1</td>\n",
       "      <td>0.897993</td>\n",
       "      <td>0.102007</td>\n",
       "    </tr>\n",
       "    <tr>\n",
       "      <th>586</th>\n",
       "      <td>0</td>\n",
       "      <td>0</td>\n",
       "      <td>1</td>\n",
       "      <td>0</td>\n",
       "      <td>1</td>\n",
       "      <td>0.897993</td>\n",
       "      <td>0.102007</td>\n",
       "    </tr>\n",
       "    <tr>\n",
       "      <th>3591</th>\n",
       "      <td>0</td>\n",
       "      <td>0</td>\n",
       "      <td>1</td>\n",
       "      <td>0</td>\n",
       "      <td>1</td>\n",
       "      <td>0.897993</td>\n",
       "      <td>0.102007</td>\n",
       "    </tr>\n",
       "  </tbody>\n",
       "</table>\n",
       "</div>"
      ],
      "text/plain": [
       "     Personal Loan  Online_0  Online_1  CreditCard_0  CreditCard_1         0  \\\n",
       "2313             0         0         1             0             1  0.897993   \n",
       "1918             1         0         1             0             1  0.897993   \n",
       "4506             0         0         1             0             1  0.897993   \n",
       "586              0         0         1             0             1  0.897993   \n",
       "3591             0         0         1             0             1  0.897993   \n",
       "\n",
       "             1  \n",
       "2313  0.102007  \n",
       "1918  0.102007  \n",
       "4506  0.102007  \n",
       "586   0.102007  \n",
       "3591  0.102007  "
      ]
     },
     "execution_count": 10,
     "metadata": {},
     "output_type": "execute_result"
    }
   ],
   "source": [
    "predProb = nb.predict_proba(train_df.drop(columns=['Personal Loan']))\n",
    "predicted = pd.concat([train_df, pd.DataFrame(predProb, index=train_df.index)], axis=1)\n",
    "\n",
    "matches = (predicted.Online_1 == 1) & (predicted.CreditCard_1 == 1)\n",
    "predicted[matches].head()"
   ]
  },
  {
   "cell_type": "markdown",
   "metadata": {},
   "source": [
    "This gives `P(Loan=1|Online=1,CC=1) = 0.1020`"
   ]
  },
  {
   "cell_type": "code",
   "execution_count": null,
   "metadata": {},
   "outputs": [],
   "source": []
  }
 ],
 "metadata": {
  "kernelspec": {
   "display_name": "Python 3",
   "language": "python",
   "name": "python3"
  },
  "language_info": {
   "codemirror_mode": {
    "name": "ipython",
    "version": 3
   },
   "file_extension": ".py",
   "mimetype": "text/x-python",
   "name": "python",
   "nbconvert_exporter": "python",
   "pygments_lexer": "ipython3",
   "version": "3.6.8"
  }
 },
 "nbformat": 4,
 "nbformat_minor": 2
}
