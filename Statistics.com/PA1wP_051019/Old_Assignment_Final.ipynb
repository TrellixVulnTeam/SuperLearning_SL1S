{
 "cells": [
  {
   "cell_type": "markdown",
   "metadata": {},
   "source": [
    "# Predictive Analytics 1 - Machine Learning Tools - Using Python\n",
    "Instructor(s) - Peter Gedeck\n",
    "\n",
    "## Solution: Final Assignment"
   ]
  },
  {
   "cell_type": "code",
   "execution_count": 1,
   "metadata": {},
   "outputs": [],
   "source": [
    "%matplotlib inline\n",
    "import warnings\n",
    "from pathlib import Path\n",
    "\n",
    "import pandas as pd\n",
    "from sklearn import preprocessing\n",
    "from sklearn.model_selection import train_test_split, GridSearchCV\n",
    "from sklearn.metrics import accuracy_score, classification\n",
    "from sklearn.tree import DecisionTreeClassifier\n",
    "from sklearn.naive_bayes import MultinomialNB\n",
    "from sklearn.ensemble import AdaBoostClassifier\n",
    "from sklearn.ensemble import BaggingClassifier\n",
    "from sklearn.neighbors import NearestNeighbors, KNeighborsClassifier\n",
    "from dmba import classificationSummary\n",
    "\n",
    "DATA = Path('.').resolve().parent / 'data'"
   ]
  },
  {
   "cell_type": "markdown",
   "metadata": {},
   "source": [
    "## Data preparation\n",
    "Load the data and remove unnecessary columns (ID, ZIP Code). Split the data into training (60%) and validation (40%) sets (use random_state=1)."
   ]
  },
  {
   "cell_type": "code",
   "execution_count": 2,
   "metadata": {},
   "outputs": [
    {
     "data": {
      "text/html": [
       "<div>\n",
       "<style scoped>\n",
       "    .dataframe tbody tr th:only-of-type {\n",
       "        vertical-align: middle;\n",
       "    }\n",
       "\n",
       "    .dataframe tbody tr th {\n",
       "        vertical-align: top;\n",
       "    }\n",
       "\n",
       "    .dataframe thead th {\n",
       "        text-align: right;\n",
       "    }\n",
       "</style>\n",
       "<table border=\"1\" class=\"dataframe\">\n",
       "  <thead>\n",
       "    <tr style=\"text-align: right;\">\n",
       "      <th></th>\n",
       "      <th>Age</th>\n",
       "      <th>Experience</th>\n",
       "      <th>Income</th>\n",
       "      <th>Family</th>\n",
       "      <th>CCAvg</th>\n",
       "      <th>Education</th>\n",
       "      <th>Mortgage</th>\n",
       "      <th>Personal Loan</th>\n",
       "      <th>Securities Account</th>\n",
       "      <th>CD Account</th>\n",
       "      <th>Online</th>\n",
       "      <th>CreditCard</th>\n",
       "    </tr>\n",
       "  </thead>\n",
       "  <tbody>\n",
       "    <tr>\n",
       "      <th>0</th>\n",
       "      <td>25</td>\n",
       "      <td>1</td>\n",
       "      <td>49</td>\n",
       "      <td>4</td>\n",
       "      <td>1.6</td>\n",
       "      <td>1</td>\n",
       "      <td>0</td>\n",
       "      <td>0</td>\n",
       "      <td>1</td>\n",
       "      <td>0</td>\n",
       "      <td>0</td>\n",
       "      <td>0</td>\n",
       "    </tr>\n",
       "    <tr>\n",
       "      <th>1</th>\n",
       "      <td>45</td>\n",
       "      <td>19</td>\n",
       "      <td>34</td>\n",
       "      <td>3</td>\n",
       "      <td>1.5</td>\n",
       "      <td>1</td>\n",
       "      <td>0</td>\n",
       "      <td>0</td>\n",
       "      <td>1</td>\n",
       "      <td>0</td>\n",
       "      <td>0</td>\n",
       "      <td>0</td>\n",
       "    </tr>\n",
       "    <tr>\n",
       "      <th>2</th>\n",
       "      <td>39</td>\n",
       "      <td>15</td>\n",
       "      <td>11</td>\n",
       "      <td>1</td>\n",
       "      <td>1.0</td>\n",
       "      <td>1</td>\n",
       "      <td>0</td>\n",
       "      <td>0</td>\n",
       "      <td>0</td>\n",
       "      <td>0</td>\n",
       "      <td>0</td>\n",
       "      <td>0</td>\n",
       "    </tr>\n",
       "    <tr>\n",
       "      <th>3</th>\n",
       "      <td>35</td>\n",
       "      <td>9</td>\n",
       "      <td>100</td>\n",
       "      <td>1</td>\n",
       "      <td>2.7</td>\n",
       "      <td>2</td>\n",
       "      <td>0</td>\n",
       "      <td>0</td>\n",
       "      <td>0</td>\n",
       "      <td>0</td>\n",
       "      <td>0</td>\n",
       "      <td>0</td>\n",
       "    </tr>\n",
       "    <tr>\n",
       "      <th>4</th>\n",
       "      <td>35</td>\n",
       "      <td>8</td>\n",
       "      <td>45</td>\n",
       "      <td>4</td>\n",
       "      <td>1.0</td>\n",
       "      <td>2</td>\n",
       "      <td>0</td>\n",
       "      <td>0</td>\n",
       "      <td>0</td>\n",
       "      <td>0</td>\n",
       "      <td>0</td>\n",
       "      <td>1</td>\n",
       "    </tr>\n",
       "  </tbody>\n",
       "</table>\n",
       "</div>"
      ],
      "text/plain": [
       "   Age  Experience  Income  Family  CCAvg  Education  Mortgage  Personal Loan  \\\n",
       "0   25           1      49       4    1.6          1         0              0   \n",
       "1   45          19      34       3    1.5          1         0              0   \n",
       "2   39          15      11       1    1.0          1         0              0   \n",
       "3   35           9     100       1    2.7          2         0              0   \n",
       "4   35           8      45       4    1.0          2         0              0   \n",
       "\n",
       "   Securities Account  CD Account  Online  CreditCard  \n",
       "0                   1           0       0           0  \n",
       "1                   1           0       0           0  \n",
       "2                   0           0       0           0  \n",
       "3                   0           0       0           0  \n",
       "4                   0           0       0           1  "
      ]
     },
     "execution_count": 2,
     "metadata": {},
     "output_type": "execute_result"
    }
   ],
   "source": [
    "# Load the data\n",
    "bank_df = pd.read_csv(DATA / 'UniversalBank.csv')\n",
    "\n",
    "# Drop ID and zip code columns\n",
    "bank_df = bank_df.drop(columns=['ID', 'ZIP Code'])\n",
    "columns = list(bank_df.columns)\n",
    "columns.remove('Personal Loan')\n",
    "\n",
    "modelResults = [] # Keep track of the various model results\n",
    "\n",
    "bank_df.head()"
   ]
  },
  {
   "cell_type": "markdown",
   "metadata": {},
   "source": [
    "Split dataset into training and validation set"
   ]
  },
  {
   "cell_type": "code",
   "execution_count": 3,
   "metadata": {},
   "outputs": [
    {
     "name": "stdout",
     "output_type": "stream",
     "text": [
      "Training set: (3000, 11) Validation set: (2000, 11)\n"
     ]
    }
   ],
   "source": [
    "X = bank_df.drop(columns=['Personal Loan'])\n",
    "y = bank_df['Personal Loan']\n",
    "\n",
    "train_X, valid_X, train_y, valid_y = train_test_split(X, y, test_size=0.4, random_state=1)\n",
    "print('Training set:', train_X.shape, 'Validation set:', valid_X.shape)"
   ]
  },
  {
   "cell_type": "markdown",
   "metadata": {},
   "source": [
    "## Part A\n",
    "We will develop K-NN with k=3, Naive Bayes (after binning the continuous predictors)  and classification tree, then combine them in an ensemble.\n",
    "\n"
   ]
  },
  {
   "cell_type": "markdown",
   "metadata": {},
   "source": [
    "### Part A.a\n",
    "Fit models to the data for (1) k-nearest neighbors with k = 3, (2) Naive Bayes and (3) classification trees. Use Personal Loan as the outcome variable. Report the validation confusion matrix for each of the three models."
   ]
  },
  {
   "cell_type": "markdown",
   "metadata": {},
   "source": [
    "#### (1) k-nearest neighbor model\n",
    "Normalize your training and validation data"
   ]
  },
  {
   "cell_type": "code",
   "execution_count": 4,
   "metadata": {
    "scrolled": false
   },
   "outputs": [],
   "source": [
    "scaler = preprocessing.StandardScaler()\n",
    "\n",
    "with warnings.catch_warnings():\n",
    "    warnings.simplefilter('ignore')\n",
    "    scaler.fit(train_X)\n",
    "\n",
    "    train_norm_X = pd.DataFrame(scaler.transform(train_X),\n",
    "                            index=train_X.index, columns=train_X.columns)\n",
    "    valid_norm_X = pd.DataFrame(scaler.transform(valid_X),\n",
    "                            index=valid_X.index, columns=valid_X.columns)"
   ]
  },
  {
   "cell_type": "markdown",
   "metadata": {},
   "source": [
    "<small>We suppress the expected DataConversionWarning from scikit-learn using the warnings module</small>\n",
    "\n",
    "Fit a kNN model"
   ]
  },
  {
   "cell_type": "code",
   "execution_count": 5,
   "metadata": {},
   "outputs": [
    {
     "name": "stdout",
     "output_type": "stream",
     "text": [
      "Confusion Matrix (Accuracy 0.9545)\n",
      "\n",
      "       Prediction\n",
      "Actual    0    1\n",
      "     0 1793   14\n",
      "     1   77  116\n"
     ]
    },
    {
     "data": {
      "text/plain": [
       "array([1, 0, 0, 0, 0, 0, 0, 0, 0, 1, 0, 0, 0, 0, 0, 0, 1, 0, 0, 0, 0, 0,\n",
       "       0, 0, 0, 0, 0, 1, 0, 0, 0, 0, 0, 0, 1, 0, 0, 0, 0, 0, 0, 0, 0, 0,\n",
       "       1, 0, 0, 0, 0, 0])"
      ]
     },
     "execution_count": 5,
     "metadata": {},
     "output_type": "execute_result"
    }
   ],
   "source": [
    "knn = KNeighborsClassifier(n_neighbors=3)\n",
    "knn.fit(train_norm_X, train_y)\n",
    "\n",
    "knnProb = knn.predict_proba(valid_norm_X)[:,1]\n",
    "knnPred = knn.predict(valid_norm_X)\n",
    "\n",
    "classificationSummary(valid_y, knnPred)\n",
    "modelResults.append({\n",
    "    'model': 'kNN', \n",
    "    'accuracy': accuracy_score(valid_y, knnPred)\n",
    "})\n",
    "\n",
    "knnPred[:50]"
   ]
  },
  {
   "cell_type": "markdown",
   "metadata": {},
   "source": [
    "#### (2) Naive Bayes model"
   ]
  },
  {
   "cell_type": "code",
   "execution_count": 6,
   "metadata": {},
   "outputs": [
    {
     "name": "stdout",
     "output_type": "stream",
     "text": [
      "Confusion Matrix (Accuracy 0.9275)\n",
      "\n",
      "       Prediction\n",
      "Actual    0    1\n",
      "     0 1741   66\n",
      "     1   79  114\n"
     ]
    },
    {
     "data": {
      "text/plain": [
       "array([0, 0, 0, 0, 0, 0, 0, 0, 1, 1, 0, 0, 0, 0, 0, 0, 1, 0, 0, 0, 0, 0,\n",
       "       0, 0, 0, 0, 0, 1, 0, 0, 0, 0, 0, 0, 1, 0, 0, 0, 0, 0, 0, 0, 0, 0,\n",
       "       0, 0, 0, 0, 0, 0])"
      ]
     },
     "execution_count": 6,
     "metadata": {},
     "output_type": "execute_result"
    }
   ],
   "source": [
    "# Reload the dataset\n",
    "bank_df = pd.read_csv(DATA / 'UniversalBank.csv')\n",
    "# Drop ID and zip code columns\n",
    "bank_df.drop(columns=['ID', 'ZIP Code'], inplace=True)\n",
    "\n",
    "# We convert several of the columns to categorical data\n",
    "for column in ('Family', 'Education'):\n",
    "    bank_df[column] = bank_df[column].astype('category')\n",
    "\n",
    "# The remaining columns (Age, Experience, Income, Mortgage and CCAvg) will be binned\n",
    "bank_df['Age'] = pd.cut(bank_df['Age'], 5, labels=range(1, 6)).astype('category')\n",
    "bank_df['Experience'] = pd.cut(bank_df['Experience'], 10, labels=range(1, 11)).astype('category')\n",
    "bank_df['Income'] = pd.cut(bank_df['Income'], 5, labels=range(1, 6)).astype('category')\n",
    "bank_df['CCAvg'] = pd.cut(bank_df['CCAvg'], 6, labels=range(1, 7)).astype('category')\n",
    "bank_df['Mortgage'] = pd.cut(bank_df['Mortgage'], 10, labels=range(1, 11)).astype('category')\n",
    "\n",
    "X = pd.get_dummies(bank_df.drop(columns=['Personal Loan']))\n",
    "y = bank_df['Personal Loan']\n",
    "nbColumns = list(X.columns)\n",
    "\n",
    "train_X, valid_X, train_y, valid_y = train_test_split(X, y, test_size=0.4, random_state=1)\n",
    "\n",
    "nb = MultinomialNB(alpha=0.01)\n",
    "nb.fit(train_X, train_y)\n",
    "\n",
    "nbProb = nb.predict_proba(valid_X)[:,1]\n",
    "nbPred = nb.predict(valid_X)\n",
    "\n",
    "classificationSummary(valid_y, nbPred)\n",
    "modelResults.append({\n",
    "    'model': 'Naive Bayes', \n",
    "    'accuracy': accuracy_score(valid_y, nbPred)\n",
    "})\n",
    "\n",
    "nbPred[:50]"
   ]
  },
  {
   "cell_type": "markdown",
   "metadata": {},
   "source": [
    "#### (3) Classification tree model"
   ]
  },
  {
   "cell_type": "code",
   "execution_count": 7,
   "metadata": {},
   "outputs": [],
   "source": [
    "# Reload data\n",
    "bank_df = pd.read_csv(DATA / 'UniversalBank.csv')\n",
    "bank_df.drop(columns=['ID', 'ZIP Code'], inplace=True)\n",
    "\n",
    "# Partition the data using the same random seed\n",
    "X = bank_df.drop(columns=['Personal Loan'])\n",
    "y = bank_df['Personal Loan']\n",
    "\n",
    "train_X, valid_X, train_y, valid_y = train_test_split(X, y, test_size=0.4, random_state=1)"
   ]
  },
  {
   "cell_type": "code",
   "execution_count": 8,
   "metadata": {},
   "outputs": [
    {
     "name": "stdout",
     "output_type": "stream",
     "text": [
      "Initial parameters:  {'max_depth': 5, 'min_impurity_decrease': 0, 'min_samples_split': 20}\n"
     ]
    },
    {
     "name": "stdout",
     "output_type": "stream",
     "text": [
      "Improved parameters:  {'max_depth': 5, 'min_impurity_decrease': 0.001, 'min_samples_split': 13}\n"
     ]
    }
   ],
   "source": [
    "# user grid search to find optimized tree\n",
    "param_grid = {\n",
    "    'max_depth': [5, 10, 15, 20, 25], \n",
    "    'min_impurity_decrease': [0, 0.001, 0.005, 0.01], \n",
    "    'min_samples_split': [10, 20, 30, 40, 50], \n",
    "}\n",
    "gridSearch = GridSearchCV(DecisionTreeClassifier(random_state=1), param_grid, cv=5, n_jobs=-1)\n",
    "gridSearch.fit(train_X, train_y)\n",
    "print('Initial parameters: ', gridSearch.best_params_)\n",
    "\n",
    "param_grid = {\n",
    "    'max_depth': [1, 2, 3, 4, 5, 6, 7, 8], \n",
    "    'min_impurity_decrease': [0, 0.001, 0.002, 0.003, 0.004, 0.005, 0.006, 0.007], \n",
    "    'min_samples_split': [8, 9, 10, 11, 12, 13, 14, 15], \n",
    "}\n",
    "gridSearch = GridSearchCV(DecisionTreeClassifier(random_state=1), param_grid, cv=5, n_jobs=-1)\n",
    "gridSearch.fit(train_X, train_y)\n",
    "print('Improved parameters: ', gridSearch.best_params_)\n",
    "\n",
    "classTree = gridSearch.best_estimator_"
   ]
  },
  {
   "cell_type": "code",
   "execution_count": 9,
   "metadata": {},
   "outputs": [
    {
     "name": "stdout",
     "output_type": "stream",
     "text": [
      "Confusion Matrix (Accuracy 0.9825)\n",
      "\n",
      "       Prediction\n",
      "Actual    0    1\n",
      "     0 1793   14\n",
      "     1   21  172\n"
     ]
    }
   ],
   "source": [
    "treeProb = classTree.predict_proba(valid_X)[:,1]\n",
    "treePred = classTree.predict(valid_X)\n",
    "\n",
    "classificationSummary(valid_y, treePred)\n",
    "modelResults.append({\n",
    "    'model': 'Decision Tree', \n",
    "    'accuracy': accuracy_score(valid_y, treePred)\n",
    "})"
   ]
  },
  {
   "cell_type": "markdown",
   "metadata": {},
   "source": [
    "### Part A.b\n",
    "Create a data frame with the actual outcome, predicted outcome, and probability of being a \"1\" for each of the three models. Report the first 10 rows of this data frame."
   ]
  },
  {
   "cell_type": "code",
   "execution_count": 10,
   "metadata": {},
   "outputs": [
    {
     "data": {
      "text/html": [
       "<div>\n",
       "<style scoped>\n",
       "    .dataframe tbody tr th:only-of-type {\n",
       "        vertical-align: middle;\n",
       "    }\n",
       "\n",
       "    .dataframe tbody tr th {\n",
       "        vertical-align: top;\n",
       "    }\n",
       "\n",
       "    .dataframe thead th {\n",
       "        text-align: right;\n",
       "    }\n",
       "</style>\n",
       "<table border=\"1\" class=\"dataframe\">\n",
       "  <thead>\n",
       "    <tr style=\"text-align: right;\">\n",
       "      <th></th>\n",
       "      <th>Personal Loan</th>\n",
       "      <th>knnProb</th>\n",
       "      <th>knnPred</th>\n",
       "      <th>nbProb</th>\n",
       "      <th>nbPred</th>\n",
       "      <th>treeProb</th>\n",
       "      <th>treePred</th>\n",
       "    </tr>\n",
       "  </thead>\n",
       "  <tbody>\n",
       "    <tr>\n",
       "      <th>2764</th>\n",
       "      <td>0</td>\n",
       "      <td>0.666667</td>\n",
       "      <td>1</td>\n",
       "      <td>3.757642e-03</td>\n",
       "      <td>0</td>\n",
       "      <td>0.000907</td>\n",
       "      <td>0</td>\n",
       "    </tr>\n",
       "    <tr>\n",
       "      <th>4767</th>\n",
       "      <td>0</td>\n",
       "      <td>0.000000</td>\n",
       "      <td>0</td>\n",
       "      <td>6.958332e-07</td>\n",
       "      <td>0</td>\n",
       "      <td>0.000907</td>\n",
       "      <td>0</td>\n",
       "    </tr>\n",
       "    <tr>\n",
       "      <th>3814</th>\n",
       "      <td>0</td>\n",
       "      <td>0.000000</td>\n",
       "      <td>0</td>\n",
       "      <td>1.364776e-06</td>\n",
       "      <td>0</td>\n",
       "      <td>0.000907</td>\n",
       "      <td>0</td>\n",
       "    </tr>\n",
       "    <tr>\n",
       "      <th>3499</th>\n",
       "      <td>0</td>\n",
       "      <td>0.000000</td>\n",
       "      <td>0</td>\n",
       "      <td>4.312439e-02</td>\n",
       "      <td>0</td>\n",
       "      <td>0.000000</td>\n",
       "      <td>0</td>\n",
       "    </tr>\n",
       "    <tr>\n",
       "      <th>2735</th>\n",
       "      <td>0</td>\n",
       "      <td>0.000000</td>\n",
       "      <td>0</td>\n",
       "      <td>1.180696e-02</td>\n",
       "      <td>0</td>\n",
       "      <td>0.000907</td>\n",
       "      <td>0</td>\n",
       "    </tr>\n",
       "    <tr>\n",
       "      <th>3922</th>\n",
       "      <td>0</td>\n",
       "      <td>0.000000</td>\n",
       "      <td>0</td>\n",
       "      <td>2.619459e-06</td>\n",
       "      <td>0</td>\n",
       "      <td>0.000907</td>\n",
       "      <td>0</td>\n",
       "    </tr>\n",
       "    <tr>\n",
       "      <th>2701</th>\n",
       "      <td>0</td>\n",
       "      <td>0.000000</td>\n",
       "      <td>0</td>\n",
       "      <td>2.339459e-03</td>\n",
       "      <td>0</td>\n",
       "      <td>0.000907</td>\n",
       "      <td>0</td>\n",
       "    </tr>\n",
       "    <tr>\n",
       "      <th>1179</th>\n",
       "      <td>0</td>\n",
       "      <td>0.000000</td>\n",
       "      <td>0</td>\n",
       "      <td>1.505303e-01</td>\n",
       "      <td>0</td>\n",
       "      <td>0.000907</td>\n",
       "      <td>0</td>\n",
       "    </tr>\n",
       "    <tr>\n",
       "      <th>932</th>\n",
       "      <td>0</td>\n",
       "      <td>0.000000</td>\n",
       "      <td>0</td>\n",
       "      <td>7.756032e-01</td>\n",
       "      <td>1</td>\n",
       "      <td>0.189189</td>\n",
       "      <td>0</td>\n",
       "    </tr>\n",
       "    <tr>\n",
       "      <th>792</th>\n",
       "      <td>0</td>\n",
       "      <td>0.666667</td>\n",
       "      <td>1</td>\n",
       "      <td>6.376769e-01</td>\n",
       "      <td>1</td>\n",
       "      <td>0.750000</td>\n",
       "      <td>1</td>\n",
       "    </tr>\n",
       "  </tbody>\n",
       "</table>\n",
       "</div>"
      ],
      "text/plain": [
       "      Personal Loan   knnProb  knnPred        nbProb  nbPred  treeProb  \\\n",
       "2764              0  0.666667        1  3.757642e-03       0  0.000907   \n",
       "4767              0  0.000000        0  6.958332e-07       0  0.000907   \n",
       "3814              0  0.000000        0  1.364776e-06       0  0.000907   \n",
       "3499              0  0.000000        0  4.312439e-02       0  0.000000   \n",
       "2735              0  0.000000        0  1.180696e-02       0  0.000907   \n",
       "3922              0  0.000000        0  2.619459e-06       0  0.000907   \n",
       "2701              0  0.000000        0  2.339459e-03       0  0.000907   \n",
       "1179              0  0.000000        0  1.505303e-01       0  0.000907   \n",
       "932               0  0.000000        0  7.756032e-01       1  0.189189   \n",
       "792               0  0.666667        1  6.376769e-01       1  0.750000   \n",
       "\n",
       "      treePred  \n",
       "2764         0  \n",
       "4767         0  \n",
       "3814         0  \n",
       "3499         0  \n",
       "2735         0  \n",
       "3922         0  \n",
       "2701         0  \n",
       "1179         0  \n",
       "932          0  \n",
       "792          1  "
      ]
     },
     "execution_count": 10,
     "metadata": {},
     "output_type": "execute_result"
    }
   ],
   "source": [
    "res = pd.DataFrame({'Personal Loan': valid_y,\n",
    "                    'knnProb': knnProb, 'knnPred': knnPred,\n",
    "                    'nbProb': nbProb, 'nbPred': nbPred,\n",
    "                    'treeProb': treeProb, 'treePred': treePred,\n",
    "                   })\n",
    "res.head(10)"
   ]
  },
  {
   "cell_type": "markdown",
   "metadata": {},
   "source": [
    "### Part A.c\n",
    "Add two columns to this data frame for (1) a majority vote of predicted outcomes, and (2) the average of the predicted probabilities. Using the classifications generated by these two methods derive a confusion matrix for each method and report the overall accuracy."
   ]
  },
  {
   "cell_type": "code",
   "execution_count": 11,
   "metadata": {},
   "outputs": [
    {
     "name": "stdout",
     "output_type": "stream",
     "text": [
      "      Personal Loan   knnProb  knnPred        nbProb  nbPred  treeProb  \\\n",
      "2764              0  0.666667        1  3.757642e-03       0  0.000907   \n",
      "4767              0  0.000000        0  6.958332e-07       0  0.000907   \n",
      "3814              0  0.000000        0  1.364776e-06       0  0.000907   \n",
      "3499              0  0.000000        0  4.312439e-02       0  0.000000   \n",
      "2735              0  0.000000        0  1.180696e-02       0  0.000907   \n",
      "\n",
      "      treePred  majority       avg  \n",
      "2764         0         0  0.223777  \n",
      "4767         0         0  0.000303  \n",
      "3814         0         0  0.000303  \n",
      "3499         0         0  0.014375  \n",
      "2735         0         0  0.004238  \n",
      "Confusion Matrix (Accuracy 0.9680)\n",
      "\n",
      "       Prediction\n",
      "Actual    0    1\n",
      "     0 1795   12\n",
      "     1   52  141\n"
     ]
    }
   ],
   "source": [
    "predColumns = ['knnPred', 'nbPred', 'treePred']\n",
    "probColumns = ['knnProb', 'nbProb', 'treeProb']\n",
    "res['majority'] = [1 if p > 0.5 else 0 for p in res[predColumns].mean(axis=1)]\n",
    "res['avg'] = res[probColumns].mean(axis=1)\n",
    "print(res.head())\n",
    "\n",
    "classificationSummary(res['Personal Loan'], res['majority'])\n",
    "modelResults.append({'model': 'Ensemble majority', 'accuracy': accuracy_score(res['Personal Loan'], res['majority'])})"
   ]
  },
  {
   "cell_type": "code",
   "execution_count": 12,
   "metadata": {},
   "outputs": [
    {
     "name": "stdout",
     "output_type": "stream",
     "text": [
      "Confusion Matrix (Accuracy 0.9730)\n",
      "\n",
      "       Prediction\n",
      "Actual    0    1\n",
      "     0 1797   10\n",
      "     1   44  149\n"
     ]
    }
   ],
   "source": [
    "classificationSummary(res['Personal Loan'], [1 if p > 0.5 else 0 for p in res['avg']])\n",
    "modelResults.append({'model': 'Ensemble average', \n",
    "                     'accuracy': accuracy_score(res['Personal Loan'], [1 if p > 0.5 else 0 for p in res['avg']])})"
   ]
  },
  {
   "cell_type": "markdown",
   "metadata": {},
   "source": [
    "### Part A.d\n",
    "Compare the error rates for the three individual methods and the two ensemble methods."
   ]
  },
  {
   "cell_type": "code",
   "execution_count": 13,
   "metadata": {},
   "outputs": [
    {
     "data": {
      "text/html": [
       "<div>\n",
       "<style scoped>\n",
       "    .dataframe tbody tr th:only-of-type {\n",
       "        vertical-align: middle;\n",
       "    }\n",
       "\n",
       "    .dataframe tbody tr th {\n",
       "        vertical-align: top;\n",
       "    }\n",
       "\n",
       "    .dataframe thead th {\n",
       "        text-align: right;\n",
       "    }\n",
       "</style>\n",
       "<table border=\"1\" class=\"dataframe\">\n",
       "  <thead>\n",
       "    <tr style=\"text-align: right;\">\n",
       "      <th></th>\n",
       "      <th>accuracy</th>\n",
       "      <th>model</th>\n",
       "    </tr>\n",
       "  </thead>\n",
       "  <tbody>\n",
       "    <tr>\n",
       "      <th>0</th>\n",
       "      <td>0.9545</td>\n",
       "      <td>kNN</td>\n",
       "    </tr>\n",
       "    <tr>\n",
       "      <th>1</th>\n",
       "      <td>0.9275</td>\n",
       "      <td>Naive Bayes</td>\n",
       "    </tr>\n",
       "    <tr>\n",
       "      <th>2</th>\n",
       "      <td>0.9825</td>\n",
       "      <td>Decision Tree</td>\n",
       "    </tr>\n",
       "    <tr>\n",
       "      <th>3</th>\n",
       "      <td>0.9680</td>\n",
       "      <td>Ensemble majority</td>\n",
       "    </tr>\n",
       "    <tr>\n",
       "      <th>4</th>\n",
       "      <td>0.9730</td>\n",
       "      <td>Ensemble average</td>\n",
       "    </tr>\n",
       "  </tbody>\n",
       "</table>\n",
       "</div>"
      ],
      "text/plain": [
       "   accuracy              model\n",
       "0    0.9545                kNN\n",
       "1    0.9275        Naive Bayes\n",
       "2    0.9825      Decision Tree\n",
       "3    0.9680  Ensemble majority\n",
       "4    0.9730   Ensemble average"
      ]
     },
     "execution_count": 13,
     "metadata": {},
     "output_type": "execute_result"
    }
   ],
   "source": [
    "pd.DataFrame(modelResults)"
   ]
  },
  {
   "cell_type": "markdown",
   "metadata": {},
   "source": [
    "The accuracy values show that the decision tree model outperforms the Naive Bayes and k-nearest neighbour models. The two ensemble models have slightly lower performance compared to the classification tree."
   ]
  },
  {
   "cell_type": "markdown",
   "metadata": {},
   "source": [
    "## Part B\n",
    "Use Bagging and Boosted Trees and compare their performance with all the methodologies we used in PART A."
   ]
  },
  {
   "cell_type": "code",
   "execution_count": 14,
   "metadata": {},
   "outputs": [],
   "source": [
    "# Reload data\n",
    "bank_df = pd.read_csv(DATA / 'UniversalBank.csv')\n",
    "bank_df.drop(columns=['ID', 'ZIP Code'], inplace=True)\n",
    "\n",
    "# Partition the data using the same random seed\n",
    "X = bank_df.drop(columns=['Personal Loan'])\n",
    "y = bank_df['Personal Loan']\n",
    "\n",
    "train_X, valid_X, train_y, valid_y = train_test_split(X, y, test_size=0.4, random_state=1)"
   ]
  },
  {
   "cell_type": "markdown",
   "metadata": {},
   "source": [
    "### Bagging"
   ]
  },
  {
   "cell_type": "code",
   "execution_count": 15,
   "metadata": {},
   "outputs": [
    {
     "name": "stdout",
     "output_type": "stream",
     "text": [
      "Confusion Matrix (Accuracy 0.9260)\n",
      "\n",
      "       Prediction\n",
      "Actual    0    1\n",
      "     0 1807    0\n",
      "     1  148   45\n"
     ]
    }
   ],
   "source": [
    "bagging = BaggingClassifier(classTree, \n",
    "                            max_samples=0.5, max_features=0.5, random_state=1)\n",
    "bagging.fit(train_X, train_y)\n",
    "pred = bagging.predict(valid_X)\n",
    "\n",
    "classificationSummary(valid_y, pred)\n",
    "modelResults.append({\n",
    "    'model': 'Bagging', \n",
    "    'accuracy': accuracy_score(valid_y, pred),\n",
    "})"
   ]
  },
  {
   "cell_type": "markdown",
   "metadata": {},
   "source": [
    "### Boosting"
   ]
  },
  {
   "cell_type": "code",
   "execution_count": 16,
   "metadata": {},
   "outputs": [
    {
     "name": "stdout",
     "output_type": "stream",
     "text": [
      "Confusion Matrix (Accuracy 0.9845)\n",
      "\n",
      "       Prediction\n",
      "Actual    0    1\n",
      "     0 1802    5\n",
      "     1   26  167\n"
     ]
    }
   ],
   "source": [
    "boost = AdaBoostClassifier(n_estimators=100, base_estimator=classTree, random_state=1)\n",
    "boost.fit(train_X, train_y)\n",
    "pred = boost.predict(valid_X)\n",
    "\n",
    "classificationSummary(valid_y, pred)\n",
    "modelResults.append({'model': 'Boosting', 'accuracy': accuracy_score(valid_y, pred)})"
   ]
  },
  {
   "cell_type": "markdown",
   "metadata": {},
   "source": [
    "## Conclusion"
   ]
  },
  {
   "cell_type": "code",
   "execution_count": 17,
   "metadata": {},
   "outputs": [
    {
     "data": {
      "text/html": [
       "<div>\n",
       "<style scoped>\n",
       "    .dataframe tbody tr th:only-of-type {\n",
       "        vertical-align: middle;\n",
       "    }\n",
       "\n",
       "    .dataframe tbody tr th {\n",
       "        vertical-align: top;\n",
       "    }\n",
       "\n",
       "    .dataframe thead th {\n",
       "        text-align: right;\n",
       "    }\n",
       "</style>\n",
       "<table border=\"1\" class=\"dataframe\">\n",
       "  <thead>\n",
       "    <tr style=\"text-align: right;\">\n",
       "      <th></th>\n",
       "      <th>accuracy</th>\n",
       "      <th>model</th>\n",
       "    </tr>\n",
       "  </thead>\n",
       "  <tbody>\n",
       "    <tr>\n",
       "      <th>0</th>\n",
       "      <td>0.9545</td>\n",
       "      <td>kNN</td>\n",
       "    </tr>\n",
       "    <tr>\n",
       "      <th>1</th>\n",
       "      <td>0.9275</td>\n",
       "      <td>Naive Bayes</td>\n",
       "    </tr>\n",
       "    <tr>\n",
       "      <th>2</th>\n",
       "      <td>0.9825</td>\n",
       "      <td>Decision Tree</td>\n",
       "    </tr>\n",
       "    <tr>\n",
       "      <th>3</th>\n",
       "      <td>0.9680</td>\n",
       "      <td>Ensemble majority</td>\n",
       "    </tr>\n",
       "    <tr>\n",
       "      <th>4</th>\n",
       "      <td>0.9730</td>\n",
       "      <td>Ensemble average</td>\n",
       "    </tr>\n",
       "    <tr>\n",
       "      <th>5</th>\n",
       "      <td>0.9260</td>\n",
       "      <td>Bagging</td>\n",
       "    </tr>\n",
       "    <tr>\n",
       "      <th>6</th>\n",
       "      <td>0.9845</td>\n",
       "      <td>Boosting</td>\n",
       "    </tr>\n",
       "  </tbody>\n",
       "</table>\n",
       "</div>"
      ],
      "text/plain": [
       "   accuracy              model\n",
       "0    0.9545                kNN\n",
       "1    0.9275        Naive Bayes\n",
       "2    0.9825      Decision Tree\n",
       "3    0.9680  Ensemble majority\n",
       "4    0.9730   Ensemble average\n",
       "5    0.9260            Bagging\n",
       "6    0.9845           Boosting"
      ]
     },
     "execution_count": 17,
     "metadata": {},
     "output_type": "execute_result"
    }
   ],
   "source": [
    "pd.DataFrame(modelResults)"
   ]
  },
  {
   "cell_type": "markdown",
   "metadata": {},
   "source": [
    "Among the models we fitted, the predictive accuracy of the boosted models is highest (98.6%) and thus it is the winner here."
   ]
  },
  {
   "cell_type": "markdown",
   "metadata": {},
   "source": [
    "## Bonus"
   ]
  },
  {
   "cell_type": "code",
   "execution_count": 18,
   "metadata": {},
   "outputs": [
    {
     "data": {
      "text/html": [
       "<div>\n",
       "<style scoped>\n",
       "    .dataframe tbody tr th:only-of-type {\n",
       "        vertical-align: middle;\n",
       "    }\n",
       "\n",
       "    .dataframe tbody tr th {\n",
       "        vertical-align: top;\n",
       "    }\n",
       "\n",
       "    .dataframe thead th {\n",
       "        text-align: right;\n",
       "    }\n",
       "</style>\n",
       "<table border=\"1\" class=\"dataframe\">\n",
       "  <thead>\n",
       "    <tr style=\"text-align: right;\">\n",
       "      <th></th>\n",
       "      <th>Age</th>\n",
       "      <th>Experience</th>\n",
       "      <th>Income</th>\n",
       "      <th>Family</th>\n",
       "      <th>CCAvg</th>\n",
       "      <th>Education</th>\n",
       "      <th>Mortgage</th>\n",
       "      <th>Securities Account</th>\n",
       "      <th>CD Account</th>\n",
       "      <th>Online</th>\n",
       "      <th>CreditCard</th>\n",
       "    </tr>\n",
       "  </thead>\n",
       "  <tbody>\n",
       "    <tr>\n",
       "      <th>0</th>\n",
       "      <td>40</td>\n",
       "      <td>10</td>\n",
       "      <td>84</td>\n",
       "      <td>2</td>\n",
       "      <td>2.0</td>\n",
       "      <td>2</td>\n",
       "      <td>0</td>\n",
       "      <td>0</td>\n",
       "      <td>0</td>\n",
       "      <td>1</td>\n",
       "      <td>1</td>\n",
       "    </tr>\n",
       "    <tr>\n",
       "      <th>1</th>\n",
       "      <td>25</td>\n",
       "      <td>6</td>\n",
       "      <td>50</td>\n",
       "      <td>1</td>\n",
       "      <td>1.8</td>\n",
       "      <td>1</td>\n",
       "      <td>1</td>\n",
       "      <td>0</td>\n",
       "      <td>0</td>\n",
       "      <td>1</td>\n",
       "      <td>1</td>\n",
       "    </tr>\n",
       "    <tr>\n",
       "      <th>2</th>\n",
       "      <td>59</td>\n",
       "      <td>30</td>\n",
       "      <td>120</td>\n",
       "      <td>3</td>\n",
       "      <td>1.9</td>\n",
       "      <td>3</td>\n",
       "      <td>0</td>\n",
       "      <td>0</td>\n",
       "      <td>1</td>\n",
       "      <td>1</td>\n",
       "      <td>0</td>\n",
       "    </tr>\n",
       "  </tbody>\n",
       "</table>\n",
       "</div>"
      ],
      "text/plain": [
       "   Age  Experience  Income  Family  CCAvg  Education  Mortgage  \\\n",
       "0   40          10      84       2    2.0          2         0   \n",
       "1   25           6      50       1    1.8          1         1   \n",
       "2   59          30     120       3    1.9          3         0   \n",
       "\n",
       "   Securities Account  CD Account  Online  CreditCard  \n",
       "0                   0           0       1           1  \n",
       "1                   0           0       1           1  \n",
       "2                   0           1       1           0  "
      ]
     },
     "execution_count": 18,
     "metadata": {},
     "output_type": "execute_result"
    }
   ],
   "source": [
    "newCustomer = pd.DataFrame([\n",
    "    {'Age': 40, 'Experience': 10, 'Income': 84, 'Family': 2, 'CCAvg': 2, 'Education': 2, \n",
    "     'Mortgage': 0, 'Securities Account': 0, 'CD Account': 0, 'Online': 1, 'CreditCard': 1},\n",
    "    {'Age': 25, 'Experience': 6, 'Income': 50, 'Family': 1, 'CCAvg': 1.8, 'Education': 1, \n",
    "     'Mortgage': 1, 'Securities Account': 0, 'CD Account': 0, 'Online': 1, 'CreditCard': 1},\n",
    "    {'Age': 59, 'Experience': 30, 'Income': 120, 'Family': 3, 'CCAvg': 1.9, 'Education': 3, \n",
    "     'Mortgage': 0, 'Securities Account': 0, 'CD Account': 1, 'Online': 1, 'CreditCard': 0},\n",
    "])\n",
    "newCustomer = newCustomer[columns]\n",
    "newCustomer"
   ]
  },
  {
   "cell_type": "code",
   "execution_count": 19,
   "metadata": {},
   "outputs": [
    {
     "name": "stdout",
     "output_type": "stream",
     "text": [
      "0    (-0.635, 63.5]\n",
      "Name: Mortgage, dtype: category\n",
      "Categories (10, interval[float64]): [(-0.635, 63.5] < (63.5, 127.0] < (127.0, 190.5] < (190.5, 254.0] ... (381.0, 444.5] < (444.5, 508.0] < (508.0, 571.5] < (571.5, 635.0]]\n"
     ]
    }
   ],
   "source": [
    "# Construct the data frame required for the naive Bayes model manually. \n",
    "# For a real-life application, we would keep track of the required transformations (binning and hot-one-encoding)\n",
    "# Use statements like the following to get the bin ranges:\n",
    "print(pd.cut(bank_df['Mortgage'], 10)[:1])\n",
    "newCustomer_nb = pd.DataFrame([\n",
    "#           Age        Experience           Income     Family   CCAvg        Education Mortgage\n",
    "  [0,0,0,1, 0,1,0,0,0, 0,0,1,0,0,0,0,0,0,0, 0,1,0,0,0, 0,1,0,0, 0,1,0,0,0,0, 0,1,0, 1,0,0,0,0,0,0,0,0,0],\n",
    "  [0,0,0,1, 1,0,0,0,0, 0,1,0,0,0,0,0,0,0,0, 1,0,0,0,0, 1,0,0,0, 0,1,0,0,0,0, 1,0,0, 1,0,0,0,0,0,0,0,0,0],\n",
    "  [0,1,1,0, 0,0,0,0,1, 0,0,0,0,0,0,0,1,0,0, 0,0,1,0,0, 0,0,1,0, 0,1,0,0,0,0, 0,0,1, 1,0,0,0,0,0,0,0,0,0],\n",
    "], columns=nbColumns)"
   ]
  },
  {
   "cell_type": "code",
   "execution_count": 20,
   "metadata": {},
   "outputs": [
    {
     "name": "stdout",
     "output_type": "stream",
     "text": [
      "kNN\n",
      " [[1. 0.]\n",
      " [1. 0.]\n",
      " [0. 1.]]\n",
      "Naive Bayes\n",
      " [[9.82157006e-01 1.78429945e-02]\n",
      " [9.99998693e-01 1.30668500e-06]\n",
      " [2.73464312e-01 7.26535688e-01]]\n",
      "Decision Tree\n",
      " [[9.99092559e-01 9.07441016e-04]\n",
      " [9.99092559e-01 9.07441016e-04]\n",
      " [0.00000000e+00 1.00000000e+00]]\n"
     ]
    }
   ],
   "source": [
    "# Transform the data for the various models\n",
    "with warnings.catch_warnings():\n",
    "    warnings.simplefilter('ignore')\n",
    "    newCustomer_norm = pd.DataFrame(scaler.transform(newCustomer), columns=newCustomer.columns)\n",
    "print('kNN\\n', knn.predict_proba(newCustomer_norm))\n",
    "print('Naive Bayes\\n', nb.predict_proba(newCustomer_nb))\n",
    "print('Decision Tree\\n', classTree.predict_proba(newCustomer))"
   ]
  },
  {
   "cell_type": "code",
   "execution_count": 21,
   "metadata": {},
   "outputs": [
    {
     "data": {
      "text/html": [
       "<div>\n",
       "<style scoped>\n",
       "    .dataframe tbody tr th:only-of-type {\n",
       "        vertical-align: middle;\n",
       "    }\n",
       "\n",
       "    .dataframe tbody tr th {\n",
       "        vertical-align: top;\n",
       "    }\n",
       "\n",
       "    .dataframe thead th {\n",
       "        text-align: right;\n",
       "    }\n",
       "</style>\n",
       "<table border=\"1\" class=\"dataframe\">\n",
       "  <thead>\n",
       "    <tr style=\"text-align: right;\">\n",
       "      <th></th>\n",
       "      <th>0</th>\n",
       "      <th>1</th>\n",
       "      <th>2</th>\n",
       "    </tr>\n",
       "  </thead>\n",
       "  <tbody>\n",
       "    <tr>\n",
       "      <th>kNN</th>\n",
       "      <td>0</td>\n",
       "      <td>0</td>\n",
       "      <td>1</td>\n",
       "    </tr>\n",
       "    <tr>\n",
       "      <th>Naive Bayes</th>\n",
       "      <td>0</td>\n",
       "      <td>0</td>\n",
       "      <td>1</td>\n",
       "    </tr>\n",
       "    <tr>\n",
       "      <th>Decision Tree</th>\n",
       "      <td>0</td>\n",
       "      <td>0</td>\n",
       "      <td>1</td>\n",
       "    </tr>\n",
       "    <tr>\n",
       "      <th>bagging</th>\n",
       "      <td>0</td>\n",
       "      <td>0</td>\n",
       "      <td>1</td>\n",
       "    </tr>\n",
       "    <tr>\n",
       "      <th>boosting</th>\n",
       "      <td>0</td>\n",
       "      <td>0</td>\n",
       "      <td>1</td>\n",
       "    </tr>\n",
       "  </tbody>\n",
       "</table>\n",
       "</div>"
      ],
      "text/plain": [
       "               0  1  2\n",
       "kNN            0  0  1\n",
       "Naive Bayes    0  0  1\n",
       "Decision Tree  0  0  1\n",
       "bagging        0  0  1\n",
       "boosting       0  0  1"
      ]
     },
     "execution_count": 21,
     "metadata": {},
     "output_type": "execute_result"
    }
   ],
   "source": [
    "pd.DataFrame({\n",
    "    'kNN': knn.predict(newCustomer_norm),\n",
    "    'Naive Bayes': nb.predict(newCustomer_nb),\n",
    "    'Decision Tree': classTree.predict(newCustomer),\n",
    "    'Ensemble majority': [0, 0, 1],\n",
    "    'Ensemble average': [0, 0, 1],\n",
    "    'bagging': bagging.predict(newCustomer),\n",
    "    'boosting': boost.predict(newCustomer),\n",
    "}, columns=['kNN', 'Naive Bayes', 'Decision Tree', 'bagging', 'boosting']).transpose()"
   ]
  },
  {
   "cell_type": "markdown",
   "metadata": {},
   "source": [
    "All models predict the same outcome. The first two customers would not accept the loan, while the third would."
   ]
  },
  {
   "cell_type": "code",
   "execution_count": null,
   "metadata": {},
   "outputs": [],
   "source": []
  }
 ],
 "metadata": {
  "kernelspec": {
   "display_name": "Python 3",
   "language": "python",
   "name": "python3"
  },
  "language_info": {
   "codemirror_mode": {
    "name": "ipython",
    "version": 3
   },
   "file_extension": ".py",
   "mimetype": "text/x-python",
   "name": "python",
   "nbconvert_exporter": "python",
   "pygments_lexer": "ipython3",
   "version": "3.7.1"
  }
 },
 "nbformat": 4,
 "nbformat_minor": 2
}
