{
 "cells": [
  {
   "cell_type": "code",
   "execution_count": 1,
   "metadata": {},
   "outputs": [],
   "source": [
    "import numpy as np\n",
    "from scipy import linalg"
   ]
  },
  {
   "cell_type": "code",
   "execution_count": 2,
   "metadata": {},
   "outputs": [
    {
     "name": "stdout",
     "output_type": "stream",
     "text": [
      "[[1 2]\n",
      " [3 5]]\n"
     ]
    }
   ],
   "source": [
    "# pg 3 examples\n",
    "A = np.mat([[1,2],\n",
    "           [3,5]])\n",
    "print(A)"
   ]
  },
  {
   "cell_type": "code",
   "execution_count": 3,
   "metadata": {},
   "outputs": [
    {
     "name": "stdout",
     "output_type": "stream",
     "text": [
      "[[-5.  2.]\n",
      " [ 3. -1.]]\n"
     ]
    }
   ],
   "source": [
    "B = linalg.inv(A)\n",
    "print(B)"
   ]
  },
  {
   "cell_type": "code",
   "execution_count": 4,
   "metadata": {},
   "outputs": [
    {
     "name": "stdout",
     "output_type": "stream",
     "text": [
      "[[1.00000000e+00 0.00000000e+00]\n",
      " [1.77635684e-15 1.00000000e+00]] \n",
      "\n",
      "[[1. 0.]\n",
      " [0. 1.]] \n",
      "\n"
     ]
    }
   ],
   "source": [
    "print(A * B, \"\\n\")\n",
    "print(B * A, \"\\n\")"
   ]
  },
  {
   "cell_type": "code",
   "execution_count": 5,
   "metadata": {},
   "outputs": [
    {
     "name": "stdout",
     "output_type": "stream",
     "text": [
      "A is equal to \n",
      " [[1 2 3]\n",
      " [4 5 6]\n",
      " [7 8 9]] \n",
      "\n",
      "R is equal to \n",
      " [[1 0 0]\n",
      " [0 0 1]\n",
      " [0 1 0]] \n",
      "\n",
      "To interchange rows 2 and 3\n",
      "Multiply R times A is equal to \n",
      " [[1 2 3]\n",
      " [7 8 9]\n",
      " [4 5 6]] \n",
      "\n",
      "To interchange columns 2 and 3\n",
      "C is equal to \n",
      " [[1 0 0]\n",
      " [0 0 1]\n",
      " [0 1 0]] \n",
      "\n",
      "Multiply A times C is equal to \n",
      " [[1 3 2]\n",
      " [4 6 5]\n",
      " [7 9 8]] \n",
      "\n"
     ]
    }
   ],
   "source": [
    "# pg 4 examples\n",
    "A = np.mat([[1,2,3],\n",
    "           [4,5,6],\n",
    "           [7,8,9]])\n",
    "print(\"A is equal to \\n\", A, \"\\n\")\n",
    "R = np.mat([[1,0,0],\n",
    "           [0,0,1],\n",
    "           [0,1,0]])\n",
    "print(\"R is equal to \\n\", R, \"\\n\")\n",
    "# To interchange rows 2 and 3\n",
    "print(\"To interchange rows 2 and 3\")\n",
    "print(\"Multiply R times A is equal to \\n\", R*A, \"\\n\")\n",
    "print(\"To interchange columns 2 and 3\")\n",
    "C = np.mat([[1,0,0],\n",
    "           [0,0,1],\n",
    "           [0,1,0]])\n",
    "print(\"C is equal to \\n\", C, \"\\n\")\n",
    "print(\"Multiply A times C is equal to \\n\", A*C, \"\\n\")\n"
   ]
  },
  {
   "cell_type": "code",
   "execution_count": 6,
   "metadata": {},
   "outputs": [],
   "source": [
    "# pg 5\n",
    "# Suppose we wish to divide the second row by 2 or the second column by 2"
   ]
  },
  {
   "cell_type": "code",
   "execution_count": 7,
   "metadata": {},
   "outputs": [],
   "source": [
    "# pg 5 through pg 7"
   ]
  },
  {
   "cell_type": "code",
   "execution_count": null,
   "metadata": {},
   "outputs": [],
   "source": []
  }
 ],
 "metadata": {
  "kernelspec": {
   "display_name": "Python 3",
   "language": "python",
   "name": "python3"
  },
  "language_info": {
   "codemirror_mode": {
    "name": "ipython",
    "version": 3
   },
   "file_extension": ".py",
   "mimetype": "text/x-python",
   "name": "python",
   "nbconvert_exporter": "python",
   "pygments_lexer": "ipython3",
   "version": "3.6.8"
  }
 },
 "nbformat": 4,
 "nbformat_minor": 2
}
