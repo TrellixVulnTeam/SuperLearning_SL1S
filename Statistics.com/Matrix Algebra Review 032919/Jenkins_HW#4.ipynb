{
 "cells": [
  {
   "cell_type": "code",
   "execution_count": 1,
   "metadata": {},
   "outputs": [],
   "source": [
    "import numpy as np\n",
    "from scipy import linalg"
   ]
  },
  {
   "cell_type": "code",
   "execution_count": 2,
   "metadata": {},
   "outputs": [],
   "source": [
    "#A = np.mat([[2, 0, 1], [0, 1, 1], [1, 1, 0]])\n",
    "\n",
    "u1 = np.mat([[0.70711],\n",
    "           [-0.70711]])"
   ]
  },
  {
   "cell_type": "code",
   "execution_count": 3,
   "metadata": {},
   "outputs": [
    {
     "data": {
      "text/plain": [
       "matrix([[ 0.50000455, -0.50000455],\n",
       "        [-0.50000455,  0.50000455]])"
      ]
     },
     "execution_count": 3,
     "metadata": {},
     "output_type": "execute_result"
    }
   ],
   "source": [
    "E1 = u1 * u1.T\n",
    "E1"
   ]
  },
  {
   "cell_type": "code",
   "execution_count": 4,
   "metadata": {},
   "outputs": [],
   "source": [
    "u2 = np.mat([[0.70711],\n",
    "           [0.70711]])"
   ]
  },
  {
   "cell_type": "code",
   "execution_count": 5,
   "metadata": {},
   "outputs": [
    {
     "data": {
      "text/plain": [
       "matrix([[0.50000455, 0.50000455],\n",
       "        [0.50000455, 0.50000455]])"
      ]
     },
     "execution_count": 5,
     "metadata": {},
     "output_type": "execute_result"
    }
   ],
   "source": [
    "E2 = u2 * u2.T\n",
    "E2"
   ]
  },
  {
   "cell_type": "code",
   "execution_count": 6,
   "metadata": {},
   "outputs": [
    {
     "data": {
      "text/plain": [
       "matrix([[3.00002731, 2.00001821],\n",
       "        [2.00001821, 3.00002731]])"
      ]
     },
     "execution_count": 6,
     "metadata": {},
     "output_type": "execute_result"
    }
   ],
   "source": [
    "A = 1 * E1 + 5 * E2\n",
    "A"
   ]
  },
  {
   "cell_type": "code",
   "execution_count": 7,
   "metadata": {},
   "outputs": [
    {
     "data": {
      "text/plain": [
       "matrix([[0.57735],\n",
       "        [0.57735],\n",
       "        [0.57735]])"
      ]
     },
     "execution_count": 7,
     "metadata": {},
     "output_type": "execute_result"
    }
   ],
   "source": [
    "V1 = np.mat([[0.57735],\n",
    "           [0.57735],\n",
    "            [0.57735]])\n",
    "V1"
   ]
  },
  {
   "cell_type": "code",
   "execution_count": 8,
   "metadata": {},
   "outputs": [
    {
     "data": {
      "text/plain": [
       "matrix([[0.33333302, 0.33333302, 0.33333302],\n",
       "        [0.33333302, 0.33333302, 0.33333302],\n",
       "        [0.33333302, 0.33333302, 0.33333302]])"
      ]
     },
     "execution_count": 8,
     "metadata": {},
     "output_type": "execute_result"
    }
   ],
   "source": [
    "E1 = V1 * V1.T\n",
    "E1"
   ]
  },
  {
   "cell_type": "code",
   "execution_count": 9,
   "metadata": {},
   "outputs": [
    {
     "data": {
      "text/plain": [
       "matrix([[ 0.66057],\n",
       "        [ 0.08532],\n",
       "        [-0.7459 ]])"
      ]
     },
     "execution_count": 9,
     "metadata": {},
     "output_type": "execute_result"
    }
   ],
   "source": [
    "V2 = np.mat([[0.66057],\n",
    "           [0.08532],\n",
    "            [-0.74590]])\n",
    "V2"
   ]
  },
  {
   "cell_type": "code",
   "execution_count": 10,
   "metadata": {},
   "outputs": [
    {
     "data": {
      "text/plain": [
       "matrix([[ 0.43635272,  0.05635983, -0.49271916],\n",
       "        [ 0.05635983,  0.0072795 , -0.06364019],\n",
       "        [-0.49271916, -0.06364019,  0.55636681]])"
      ]
     },
     "execution_count": 10,
     "metadata": {},
     "output_type": "execute_result"
    }
   ],
   "source": [
    "E2 = V2 * V2.T\n",
    "E2"
   ]
  },
  {
   "cell_type": "code",
   "execution_count": 11,
   "metadata": {},
   "outputs": [
    {
     "data": {
      "text/plain": [
       "matrix([[ 0.47991],\n",
       "        [-0.81203],\n",
       "        [ 0.33212]])"
      ]
     },
     "execution_count": 11,
     "metadata": {},
     "output_type": "execute_result"
    }
   ],
   "source": [
    "V3 = np.mat([[0.47991],\n",
    "           [-0.81203],\n",
    "            [0.33212]])\n",
    "V3"
   ]
  },
  {
   "cell_type": "code",
   "execution_count": 12,
   "metadata": {},
   "outputs": [
    {
     "data": {
      "text/plain": [
       "matrix([[ 0.23031361, -0.38970132,  0.15938771],\n",
       "        [-0.38970132,  0.65939272, -0.2696914 ],\n",
       "        [ 0.15938771, -0.2696914 ,  0.11030369]])"
      ]
     },
     "execution_count": 12,
     "metadata": {},
     "output_type": "execute_result"
    }
   ],
   "source": [
    "E3 = V3 * V3.T\n",
    "E3"
   ]
  },
  {
   "cell_type": "code",
   "execution_count": 13,
   "metadata": {},
   "outputs": [
    {
     "data": {
      "text/plain": [
       "matrix([[0.46666623, 0.46666623, 0.46666623],\n",
       "        [0.46666623, 0.46666623, 0.46666623],\n",
       "        [0.46666623, 0.46666623, 0.46666623]])"
      ]
     },
     "execution_count": 13,
     "metadata": {},
     "output_type": "execute_result"
    }
   ],
   "source": [
    "a1 = 1.4*E1\n",
    "a1"
   ]
  },
  {
   "cell_type": "code",
   "execution_count": 14,
   "metadata": {},
   "outputs": [
    {
     "data": {
      "text/plain": [
       "matrix([[ 0.34908218,  0.04508787, -0.39417533],\n",
       "        [ 0.04508787,  0.0058236 , -0.05091215],\n",
       "        [-0.39417533, -0.05091215,  0.44509345]])"
      ]
     },
     "execution_count": 14,
     "metadata": {},
     "output_type": "execute_result"
    }
   ],
   "source": [
    "a2 = 0.8*E2\n",
    "a2"
   ]
  },
  {
   "cell_type": "code",
   "execution_count": 15,
   "metadata": {},
   "outputs": [
    {
     "data": {
      "text/plain": [
       "matrix([[ 0.18425089, -0.31176105,  0.12751017],\n",
       "        [-0.31176105,  0.52751418, -0.21575312],\n",
       "        [ 0.12751017, -0.21575312,  0.08824296]])"
      ]
     },
     "execution_count": 15,
     "metadata": {},
     "output_type": "execute_result"
    }
   ],
   "source": [
    "a3 = 0.8*E3\n",
    "a3"
   ]
  },
  {
   "cell_type": "code",
   "execution_count": 16,
   "metadata": {},
   "outputs": [
    {
     "data": {
      "text/plain": [
       "matrix([[0.9999993 , 0.19999304, 0.20000107],\n",
       "        [0.19999304, 1.00000401, 0.20000096],\n",
       "        [0.20000107, 0.20000096, 1.00000264]])"
      ]
     },
     "execution_count": 16,
     "metadata": {},
     "output_type": "execute_result"
    }
   ],
   "source": [
    "A = a1 + a2 + a3\n",
    "A"
   ]
  },
  {
   "cell_type": "code",
   "execution_count": null,
   "metadata": {},
   "outputs": [],
   "source": []
  }
 ],
 "metadata": {
  "kernelspec": {
   "display_name": "Python 3",
   "language": "python",
   "name": "python3"
  },
  "language_info": {
   "codemirror_mode": {
    "name": "ipython",
    "version": 3
   },
   "file_extension": ".py",
   "mimetype": "text/x-python",
   "name": "python",
   "nbconvert_exporter": "python",
   "pygments_lexer": "ipython3",
   "version": "3.6.8"
  }
 },
 "nbformat": 4,
 "nbformat_minor": 2
}
