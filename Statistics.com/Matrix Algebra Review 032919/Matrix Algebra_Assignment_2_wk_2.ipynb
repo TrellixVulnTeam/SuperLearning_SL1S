{
 "cells": [
  {
   "cell_type": "code",
   "execution_count": 1,
   "metadata": {},
   "outputs": [],
   "source": [
    "import numpy as np\n",
    "from scipy import linalg"
   ]
  },
  {
   "cell_type": "code",
   "execution_count": 2,
   "metadata": {},
   "outputs": [],
   "source": [
    "A = np.mat([[2, 0, 1],\n",
    "           [0, 1, 1],\n",
    "           [1, 1, 0]])\n",
    "\n",
    "b = np.mat([[1],\n",
    "           [0],\n",
    "           [1]])"
   ]
  },
  {
   "cell_type": "code",
   "execution_count": 3,
   "metadata": {},
   "outputs": [
    {
     "name": "stdout",
     "output_type": "stream",
     "text": [
      "[[2 0 1]\n",
      " [0 1 1]\n",
      " [1 1 0]] \n",
      "\n",
      "[[1]\n",
      " [0]\n",
      " [1]]\n"
     ]
    }
   ],
   "source": [
    "print(A, \"\\n\")\n",
    "print(b)"
   ]
  },
  {
   "cell_type": "code",
   "execution_count": 4,
   "metadata": {},
   "outputs": [
    {
     "data": {
      "text/plain": [
       "array([[ 0.33333333, -0.33333333,  0.33333333],\n",
       "       [-0.33333333,  0.33333333,  0.66666667],\n",
       "       [ 0.33333333,  0.66666667, -0.66666667]])"
      ]
     },
     "execution_count": 4,
     "metadata": {},
     "output_type": "execute_result"
    }
   ],
   "source": [
    "# Problem 2.1\n",
    "#a. Find inverse(A)\n",
    "A_inverse = linalg.inv(A)\n",
    "A_inverse"
   ]
  },
  {
   "cell_type": "code",
   "execution_count": 5,
   "metadata": {},
   "outputs": [
    {
     "data": {
      "text/plain": [
       "matrix([[1.00000000e+00, 0.00000000e+00, 0.00000000e+00],\n",
       "        [0.00000000e+00, 1.00000000e+00, 0.00000000e+00],\n",
       "        [5.55111512e-17, 5.55111512e-17, 1.00000000e+00]])"
      ]
     },
     "execution_count": 5,
     "metadata": {},
     "output_type": "execute_result"
    }
   ],
   "source": [
    "test = A * A_inverse\n",
    "test"
   ]
  },
  {
   "cell_type": "code",
   "execution_count": 6,
   "metadata": {},
   "outputs": [
    {
     "name": "stdout",
     "output_type": "stream",
     "text": [
      "[[ 0.66666667]\n",
      " [ 0.33333333]\n",
      " [-0.33333333]] \n",
      "\n",
      "[[1.]\n",
      " [0.]\n",
      " [1.]]\n"
     ]
    }
   ],
   "source": [
    "# Problem 2.1\n",
    "#b. Solve Ax = b using inverse(A)\n",
    "x = A_inverse * b\n",
    "print(x, \"\\n\")\n",
    "# proof \n",
    "proof = A * x\n",
    "print(proof)"
   ]
  },
  {
   "cell_type": "code",
   "execution_count": 7,
   "metadata": {},
   "outputs": [
    {
     "data": {
      "text/plain": [
       "3"
      ]
     },
     "execution_count": 7,
     "metadata": {},
     "output_type": "execute_result"
    }
   ],
   "source": [
    "np.linalg.matrix_rank(A)"
   ]
  },
  {
   "cell_type": "code",
   "execution_count": 8,
   "metadata": {},
   "outputs": [
    {
     "name": "stdout",
     "output_type": "stream",
     "text": [
      "[[ 2  2  6]\n",
      " [-1  1 -1]]\n"
     ]
    },
    {
     "data": {
      "text/plain": [
       "2"
      ]
     },
     "execution_count": 8,
     "metadata": {},
     "output_type": "execute_result"
    }
   ],
   "source": [
    "# Problem 2.2\n",
    "A = np.mat([[2,2,6],\n",
    "           [-1,1,-1]])\n",
    "print(A)\n",
    "np.linalg.matrix_rank(A)"
   ]
  },
  {
   "cell_type": "code",
   "execution_count": 9,
   "metadata": {},
   "outputs": [
    {
     "name": "stdout",
     "output_type": "stream",
     "text": [
      "A is a 2X3 matrix equal to \n",
      " [[ 2  2  6]\n",
      " [-1  1 -1]] \n",
      "\n",
      "b is a 2X1 matrix equal to \n",
      " [[1], [0]] \n",
      "\n"
     ]
    }
   ],
   "source": [
    "# Problem 2.3 Generalized Inverse\n",
    "A = np.mat([[2,2,6],\n",
    "           [-1,1,-1]])\n",
    "b = ([[1],\n",
    "     [0]])\n",
    "print(\"A is a 2X3 matrix equal to \\n\", A, \"\\n\")\n",
    "print(\"b is a 2X1 matrix equal to \\n\", b, \"\\n\")"
   ]
  },
  {
   "cell_type": "code",
   "execution_count": 10,
   "metadata": {},
   "outputs": [
    {
     "data": {
      "text/plain": [
       "array([[ 1.70632820e-17, -3.33333333e-01],\n",
       "       [ 1.25000000e-01,  5.83333333e-01],\n",
       "       [ 1.25000000e-01, -8.33333333e-02]])"
      ]
     },
     "execution_count": 10,
     "metadata": {},
     "output_type": "execute_result"
    }
   ],
   "source": [
    "# Problem 2.3\n",
    "#a. Find a generalized inverse(A)\n",
    "A_inverse = linalg.pinv(A)\n",
    "A_inverse"
   ]
  },
  {
   "cell_type": "code",
   "execution_count": 11,
   "metadata": {},
   "outputs": [
    {
     "data": {
      "text/plain": [
       "matrix([[ 0.        , -0.33333333],\n",
       "        [ 0.125     ,  0.58333333],\n",
       "        [ 0.125     , -0.08333333]])"
      ]
     },
     "execution_count": 11,
     "metadata": {},
     "output_type": "execute_result"
    }
   ],
   "source": [
    "A_generalized1 = A.T*linalg.inv(A*A.T)\n",
    "A_generalized1"
   ]
  },
  {
   "cell_type": "code",
   "execution_count": 12,
   "metadata": {},
   "outputs": [
    {
     "name": "stdout",
     "output_type": "stream",
     "text": [
      "[[44 -6]\n",
      " [-6  3]]\n"
     ]
    }
   ],
   "source": [
    "A_AT = A * A.T\n",
    "print(A_AT)"
   ]
  },
  {
   "cell_type": "code",
   "execution_count": 13,
   "metadata": {},
   "outputs": [
    {
     "name": "stdout",
     "output_type": "stream",
     "text": [
      "[[0.03125    0.0625    ]\n",
      " [0.0625     0.45833333]]\n"
     ]
    }
   ],
   "source": [
    "A_AT_inv = linalg.inv(A*A.T)\n",
    "print(A_AT_inv)"
   ]
  },
  {
   "cell_type": "code",
   "execution_count": 14,
   "metadata": {},
   "outputs": [
    {
     "name": "stdout",
     "output_type": "stream",
     "text": [
      "[[ 0.         -0.33333333]\n",
      " [ 0.125       0.58333333]\n",
      " [ 0.125      -0.08333333]]\n"
     ]
    }
   ],
   "source": [
    "A_generalized_inv = A.T * A_AT_inv\n",
    "print(A_generalized_inv)"
   ]
  },
  {
   "cell_type": "code",
   "execution_count": 15,
   "metadata": {},
   "outputs": [
    {
     "name": "stdout",
     "output_type": "stream",
     "text": [
      "[[0.   ]\n",
      " [0.125]\n",
      " [0.125]]\n"
     ]
    }
   ],
   "source": [
    "b = np.mat([[1], \n",
    "            [0]])\n",
    "x = A_generalized_inv * b\n",
    "print(x)"
   ]
  },
  {
   "cell_type": "code",
   "execution_count": 17,
   "metadata": {},
   "outputs": [
    {
     "name": "stdout",
     "output_type": "stream",
     "text": [
      "[[0 1 0]\n",
      " [2 0 1]\n",
      " [1 2 1]]\n"
     ]
    }
   ],
   "source": [
    "#2.4 Determinants\n",
    "A = np.mat([[0, 1, 0],\n",
    "           [2, 0, 1],\n",
    "           [1, 2, 1]])\n",
    "print(A)"
   ]
  },
  {
   "cell_type": "code",
   "execution_count": 18,
   "metadata": {},
   "outputs": [
    {
     "name": "stdout",
     "output_type": "stream",
     "text": [
      "-1.0\n"
     ]
    }
   ],
   "source": [
    "det_A = linalg.det(A)\n",
    "print(det_A)"
   ]
  },
  {
   "cell_type": "code",
   "execution_count": 19,
   "metadata": {},
   "outputs": [
    {
     "name": "stdout",
     "output_type": "stream",
     "text": [
      "[[ 2.  1. -1.]\n",
      " [ 1.  0.  0.]\n",
      " [-4. -1.  2.]]\n"
     ]
    }
   ],
   "source": [
    "A_inv = linalg.inv(A)\n",
    "print(A_inv)"
   ]
  },
  {
   "cell_type": "code",
   "execution_count": 21,
   "metadata": {},
   "outputs": [
    {
     "name": "stdout",
     "output_type": "stream",
     "text": [
      "rank(A) is: \n",
      " 3 \n",
      "\n"
     ]
    }
   ],
   "source": [
    "print(\"rank(A) is: \\n\", np.linalg.matrix_rank(A), \"\\n\")"
   ]
  },
  {
   "cell_type": "code",
   "execution_count": 23,
   "metadata": {},
   "outputs": [
    {
     "name": "stdout",
     "output_type": "stream",
     "text": [
      "-1.0\n"
     ]
    }
   ],
   "source": [
    "det_A_trans = linalg.det(A.T)\n",
    "print(det_A_trans)"
   ]
  },
  {
   "cell_type": "code",
   "execution_count": 24,
   "metadata": {},
   "outputs": [
    {
     "name": "stdout",
     "output_type": "stream",
     "text": [
      "[[0 2 1]\n",
      " [1 0 2]\n",
      " [0 1 1]]\n"
     ]
    }
   ],
   "source": [
    "A_trans = A.T\n",
    "print(A_trans)"
   ]
  },
  {
   "cell_type": "code",
   "execution_count": null,
   "metadata": {},
   "outputs": [],
   "source": []
  }
 ],
 "metadata": {
  "kernelspec": {
   "display_name": "Python 3",
   "language": "python",
   "name": "python3"
  },
  "language_info": {
   "codemirror_mode": {
    "name": "ipython",
    "version": 3
   },
   "file_extension": ".py",
   "mimetype": "text/x-python",
   "name": "python",
   "nbconvert_exporter": "python",
   "pygments_lexer": "ipython3",
   "version": "3.6.8"
  }
 },
 "nbformat": 4,
 "nbformat_minor": 2
}
