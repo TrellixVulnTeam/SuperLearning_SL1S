{
 "cells": [
  {
   "cell_type": "markdown",
   "metadata": {},
   "source": [
    "# Week 1 Homework: Introduction to Python\n",
    "\n",
    "Create a new IPython Notebook, and use it to answer the following assignments. If you'd prefer not to use IPython, use another interpreter and answer the same questions."
   ]
  },
  {
   "cell_type": "markdown",
   "metadata": {},
   "source": [
    "## Question 1\n",
    "\n",
    "Create a Python list with the following values:\n",
    "[1, 2, 4, 10, 12, 117, 1244]\n",
    "\n",
    "a. Compute the sum of the values.\n",
    "\n",
    "b. Compute the mean of the values.\n",
    "\n",
    "c. Compute the product of all the numbers (multiply them all together)."
   ]
  },
  {
   "cell_type": "markdown",
   "metadata": {},
   "source": [
    "### Solution"
   ]
  },
  {
   "cell_type": "code",
   "execution_count": 1,
   "metadata": {
    "collapsed": false
   },
   "outputs": [],
   "source": [
    "# First create the list and assign it to a variable\n",
    "data = [1, 2, 4, 10, 12, 117, 1244]"
   ]
  },
  {
   "cell_type": "markdown",
   "metadata": {},
   "source": [
    "### a) \n",
    "\n",
    "To compute the sum, look over every item in the list, and add their values to a variable."
   ]
  },
  {
   "cell_type": "code",
   "execution_count": 2,
   "metadata": {
    "collapsed": false
   },
   "outputs": [
    {
     "name": "stdout",
     "output_type": "stream",
     "text": [
      "1390\n"
     ]
    }
   ],
   "source": [
    "total = 0 # Create a new variable to store the running total\n",
    "for x in data: # Loop over all the values in the list\n",
    "    total += x # Add each value to the total variable\n",
    "# Once it's finished looping, print the result\n",
    "print(total)"
   ]
  },
  {
   "cell_type": "code",
   "execution_count": 3,
   "metadata": {
    "collapsed": false
   },
   "outputs": [
    {
     "name": "stdout",
     "output_type": "stream",
     "text": [
      "1390\n"
     ]
    }
   ],
   "source": [
    "# Note: You can also do it using the built-in sum function:\n",
    "print(sum(data))"
   ]
  },
  {
   "cell_type": "markdown",
   "metadata": {},
   "source": [
    "### b)\n",
    "\n",
    "To compute the mean, just sum all the list elements as above, and divide by the number of elements.\n",
    "\n",
    "Remember: be sure to cast to float somewhere, to avoid a rounding error caused by dividing two integers."
   ]
  },
  {
   "cell_type": "code",
   "execution_count": 4,
   "metadata": {
    "collapsed": false
   },
   "outputs": [
    {
     "name": "stdout",
     "output_type": "stream",
     "text": [
      "198.57142857142858\n"
     ]
    }
   ],
   "source": [
    "total = 0.0\n",
    "for x in data:\n",
    "    total += x\n",
    "\n",
    "mean = total / len(data)\n",
    "print(mean)"
   ]
  },
  {
   "cell_type": "markdown",
   "metadata": {},
   "source": [
    "### c) \n",
    "\n",
    "Just like sumation above, except replace + with *. Since we're multiplying, remember to start your running total at 1, not 0, since anything times zero is zero."
   ]
  },
  {
   "cell_type": "code",
   "execution_count": 5,
   "metadata": {
    "collapsed": false
   },
   "outputs": [
    {
     "name": "stdout",
     "output_type": "stream",
     "text": [
      "139726080\n"
     ]
    }
   ],
   "source": [
    "product = 1\n",
    "for x in data:\n",
    "    product *= x\n",
    "print(product)"
   ]
  },
  {
   "cell_type": "markdown",
   "metadata": {},
   "source": [
    "## Question 2\n",
    "\n",
    "Write functions to do all the operations above; repeat them on the following lists of numbers:\n",
    "\n",
    "a. [3, 2, 3, 3, 3, 2, 8, 2, 2, 126]\n",
    "\n",
    "b. [7, 267, 4, 2, 5, 319, 5, 6, 713, 3]"
   ]
  },
  {
   "cell_type": "markdown",
   "metadata": {},
   "source": [
    "### Solution\n",
    "\n",
    "The basic idea is to take the code you wrote above, stick a **def...** in front of it, and indent. You don't even need to change the name of the variable -- just remember that the *data* variable inside the function isn't the same as *data* outside of it.\n",
    "\n",
    "Remember: you can call functions from inside other functions, so you can use your summation function from inside the mean function."
   ]
  },
  {
   "cell_type": "code",
   "execution_count": 6,
   "metadata": {
    "collapsed": false
   },
   "outputs": [],
   "source": [
    "def total(data):\n",
    "    '''\n",
    "    Return the sum of all the numbers in data\n",
    "    '''\n",
    "    total = 0\n",
    "    for x in data:\n",
    "        total += x\n",
    "    return total"
   ]
  },
  {
   "cell_type": "code",
   "execution_count": 7,
   "metadata": {
    "collapsed": false
   },
   "outputs": [],
   "source": [
    "def mean(data):\n",
    "    '''\n",
    "    Return the average of the numbers in data\n",
    "    '''\n",
    "    data_sum = 1.0 * total(data) # Call the total(...) function we just defined.\n",
    "    return data_sum/len(data)"
   ]
  },
  {
   "cell_type": "code",
   "execution_count": 8,
   "metadata": {
    "collapsed": false
   },
   "outputs": [],
   "source": [
    "def product(data):\n",
    "    product = 1.0\n",
    "    for x in data:\n",
    "        product *= x\n",
    "    return product"
   ]
  },
  {
   "cell_type": "markdown",
   "metadata": {},
   "source": [
    "Now just define the data based on the question, and call each function in turn."
   ]
  },
  {
   "cell_type": "markdown",
   "metadata": {},
   "source": [
    "### a)"
   ]
  },
  {
   "cell_type": "code",
   "execution_count": 9,
   "metadata": {
    "collapsed": false
   },
   "outputs": [
    {
     "name": "stdout",
     "output_type": "stream",
     "text": [
      "154\n",
      "15.4\n",
      "1306368.0\n"
     ]
    }
   ],
   "source": [
    "data =  [3, 2, 3, 3, 3, 2, 8, 2, 2, 126]\n",
    "\n",
    "print(total(data))\n",
    "print(mean(data))\n",
    "print(product(data))"
   ]
  },
  {
   "cell_type": "markdown",
   "metadata": {},
   "source": [
    "### b)"
   ]
  },
  {
   "cell_type": "code",
   "execution_count": 10,
   "metadata": {
    "collapsed": false
   },
   "outputs": [
    {
     "name": "stdout",
     "output_type": "stream",
     "text": [
      "1331\n",
      "133.1\n",
      "1530354394800.0\n"
     ]
    }
   ],
   "source": [
    "data =  [7, 267, 4, 2, 5, 319, 5, 6, 713, 3]\n",
    "\n",
    "print(total(data))\n",
    "print(mean(data))\n",
    "print(product(data))"
   ]
  },
  {
   "cell_type": "markdown",
   "metadata": {},
   "source": [
    "## Question 3\n",
    "\n",
    "FizzBuzz is a classic programming exercise. Iterate over the numbers from 0 to 99 and for each number:\n",
    "\n",
    "* If the number is divisible by 3, print Fizz\n",
    "\n",
    "* If the number is divisible by 5, print Buzz\n",
    "\n",
    "* If the number is divisible by both 3 and 5, print Fizz Buzz\n",
    "\n",
    "* Otherwise, just print the number.\n",
    "\n",
    "**Hint:** The modulo operator which gives you a division remainder is the percentage sign, %. For example:"
   ]
  },
  {
   "cell_type": "code",
   "execution_count": 11,
   "metadata": {
    "collapsed": false
   },
   "outputs": [
    {
     "data": {
      "text/plain": [
       "0"
      ]
     },
     "execution_count": 11,
     "metadata": {},
     "output_type": "execute_result"
    }
   ],
   "source": [
    "4 % 2"
   ]
  },
  {
   "cell_type": "code",
   "execution_count": 12,
   "metadata": {
    "collapsed": false
   },
   "outputs": [
    {
     "data": {
      "text/plain": [
       "1"
      ]
     },
     "execution_count": 12,
     "metadata": {},
     "output_type": "execute_result"
    }
   ],
   "source": [
    "5 % 2"
   ]
  },
  {
   "cell_type": "markdown",
   "metadata": {},
   "source": [
    "### Solution"
   ]
  },
  {
   "cell_type": "markdown",
   "metadata": {},
   "source": [
    "The basic idea is to loop over each number from 1 to 100, and check each one in turn. Think about the order to place your if-else conditions in. Since both 'fizz' and 'buzz' are included in fizzbuzz, you want to check that first -- only if that's not the case do you move on to the other conditions.\n",
    "\n",
    "You check whether a number is divisible by another number using the modulo % operator. If a number is wholly divisible, there is no remainder, so the modulo value is 0."
   ]
  },
  {
   "cell_type": "code",
   "execution_count": 13,
   "metadata": {
    "collapsed": false
   },
   "outputs": [
    {
     "name": "stdout",
     "output_type": "stream",
     "text": [
      "FizzBuzz\n",
      "1\n",
      "2\n",
      "Fizz\n",
      "4\n",
      "Buzz\n",
      "Fizz\n",
      "7\n",
      "8\n",
      "Fizz\n",
      "Buzz\n",
      "11\n",
      "Fizz\n",
      "13\n",
      "14\n",
      "FizzBuzz\n",
      "16\n",
      "17\n",
      "Fizz\n",
      "19\n",
      "Buzz\n",
      "Fizz\n",
      "22\n",
      "23\n",
      "Fizz\n",
      "Buzz\n",
      "26\n",
      "Fizz\n",
      "28\n",
      "29\n",
      "FizzBuzz\n",
      "31\n",
      "32\n",
      "Fizz\n",
      "34\n",
      "Buzz\n",
      "Fizz\n",
      "37\n",
      "38\n",
      "Fizz\n",
      "Buzz\n",
      "41\n",
      "Fizz\n",
      "43\n",
      "44\n",
      "FizzBuzz\n",
      "46\n",
      "47\n",
      "Fizz\n",
      "49\n",
      "Buzz\n",
      "Fizz\n",
      "52\n",
      "53\n",
      "Fizz\n",
      "Buzz\n",
      "56\n",
      "Fizz\n",
      "58\n",
      "59\n",
      "FizzBuzz\n",
      "61\n",
      "62\n",
      "Fizz\n",
      "64\n",
      "Buzz\n",
      "Fizz\n",
      "67\n",
      "68\n",
      "Fizz\n",
      "Buzz\n",
      "71\n",
      "Fizz\n",
      "73\n",
      "74\n",
      "FizzBuzz\n",
      "76\n",
      "77\n",
      "Fizz\n",
      "79\n",
      "Buzz\n",
      "Fizz\n",
      "82\n",
      "83\n",
      "Fizz\n",
      "Buzz\n",
      "86\n",
      "Fizz\n",
      "88\n",
      "89\n",
      "FizzBuzz\n",
      "91\n",
      "92\n",
      "Fizz\n",
      "94\n",
      "Buzz\n",
      "Fizz\n",
      "97\n",
      "98\n",
      "Fizz\n"
     ]
    }
   ],
   "source": [
    "for x in range(100):\n",
    "    # Get the remainder of dividing x by 3 and 5\n",
    "    fizz = x % 3\n",
    "    buzz = x % 5\n",
    "    if fizz == 0 and buzz == 0: # If divisible by both 3 and 5\n",
    "        print(\"FizzBuzz\")\n",
    "    elif fizz == 0: # If divisible only by 3\n",
    "        print(\"Fizz\")\n",
    "    elif buzz == 0:  # If divisible only by 5\n",
    "        print(\"Buzz\")\n",
    "    else: # If not divisible by either\n",
    "        print(x)"
   ]
  },
  {
   "cell_type": "markdown",
   "metadata": {},
   "source": [
    "And to demonstrate a (slightly) more elegant solution:"
   ]
  },
  {
   "cell_type": "code",
   "execution_count": 14,
   "metadata": {
    "collapsed": false
   },
   "outputs": [
    {
     "name": "stdout",
     "output_type": "stream",
     "text": [
      "FizzBuzz\n",
      "1\n",
      "2\n",
      "Fizz\n",
      "4\n",
      "Buzz\n",
      "Fizz\n",
      "7\n",
      "8\n",
      "Fizz\n",
      "Buzz\n",
      "11\n",
      "Fizz\n",
      "13\n",
      "14\n",
      "FizzBuzz\n",
      "16\n",
      "17\n",
      "Fizz\n",
      "19\n",
      "Buzz\n",
      "Fizz\n",
      "22\n",
      "23\n",
      "Fizz\n",
      "Buzz\n",
      "26\n",
      "Fizz\n",
      "28\n",
      "29\n",
      "FizzBuzz\n",
      "31\n",
      "32\n",
      "Fizz\n",
      "34\n",
      "Buzz\n",
      "Fizz\n",
      "37\n",
      "38\n",
      "Fizz\n",
      "Buzz\n",
      "41\n",
      "Fizz\n",
      "43\n",
      "44\n",
      "FizzBuzz\n",
      "46\n",
      "47\n",
      "Fizz\n",
      "49\n",
      "Buzz\n",
      "Fizz\n",
      "52\n",
      "53\n",
      "Fizz\n",
      "Buzz\n",
      "56\n",
      "Fizz\n",
      "58\n",
      "59\n",
      "FizzBuzz\n",
      "61\n",
      "62\n",
      "Fizz\n",
      "64\n",
      "Buzz\n",
      "Fizz\n",
      "67\n",
      "68\n",
      "Fizz\n",
      "Buzz\n",
      "71\n",
      "Fizz\n",
      "73\n",
      "74\n",
      "FizzBuzz\n",
      "76\n",
      "77\n",
      "Fizz\n",
      "79\n",
      "Buzz\n",
      "Fizz\n",
      "82\n",
      "83\n",
      "Fizz\n",
      "Buzz\n",
      "86\n",
      "Fizz\n",
      "88\n",
      "89\n",
      "FizzBuzz\n",
      "91\n",
      "92\n",
      "Fizz\n",
      "94\n",
      "Buzz\n",
      "Fizz\n",
      "97\n",
      "98\n",
      "Fizz\n"
     ]
    }
   ],
   "source": [
    "for x in range(100):\n",
    "    out = \"\"\n",
    "    if x % 3 == 0:\n",
    "        out += \"Fizz\"\n",
    "    if x % 5 == 0:\n",
    "        out += \"Buzz\"\n",
    "    if out == \"\":\n",
    "        out = x\n",
    "    print(out)"
   ]
  }
 ],
 "metadata": {
  "anaconda-cloud": {},
  "kernelspec": {
   "display_name": "Python [default]",
   "language": "python",
   "name": "python3"
  },
  "language_info": {
   "codemirror_mode": {
    "name": "ipython",
    "version": 3
   },
   "file_extension": ".py",
   "mimetype": "text/x-python",
   "name": "python",
   "nbconvert_exporter": "python",
   "pygments_lexer": "ipython3",
   "version": "3.5.2"
  }
 },
 "nbformat": 4,
 "nbformat_minor": 0
}
