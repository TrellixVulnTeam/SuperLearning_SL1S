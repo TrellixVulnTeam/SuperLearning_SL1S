{
 "cells": [
  {
   "cell_type": "markdown",
   "metadata": {},
   "source": [
    "## The Jupyter Notebook\n",
    "\n",
    "The Jupyter Notebook (formerly the IPython Notebook) is an interactive environment specifically designed with scientific computing in mind. If you've used Mathematica before, it might look familiar. It not only lets you run code but write it and organize it in an intuitive, appealing manner and document it as you go along -- in fact, this document was created entirely as a Jupyter notebook!\n",
    "\n",
    "The Notebook is divided into Cells, which can be run independently. Each cell's output will be displayed below it. Just enter some Python code into a cell, and either choose *Cell -> Run* from the menu at the top of the page, press the 'Play'-looking button, or press Shift+Enter on your keyboard.\n",
    "\n",
    "For example:"
   ]
  },
  {
   "cell_type": "code",
   "execution_count": 1,
   "metadata": {},
   "outputs": [
    {
     "name": "stdout",
     "output_type": "stream",
     "text": [
      "Hello world\n"
     ]
    }
   ],
   "source": [
    "print(\"Hello world\")"
   ]
  },
  {
   "cell_type": "code",
   "execution_count": 2,
   "metadata": {},
   "outputs": [
    {
     "data": {
      "text/plain": [
       "2"
      ]
     },
     "execution_count": 2,
     "metadata": {},
     "output_type": "execute_result"
    }
   ],
   "source": [
    "1 + 1"
   ]
  },
  {
   "cell_type": "code",
   "execution_count": 3,
   "metadata": {},
   "outputs": [
    {
     "name": "stdout",
     "output_type": "stream",
     "text": [
      "2\n",
      "5\n"
     ]
    }
   ],
   "source": [
    "# Cells can also contain multiple lines of code.\n",
    "# Note that anything following a # sign (like this line) is a comment.\n",
    "1 + 1 # You can also comment specific lines of code, like this.\n",
    "# Comments are a good way to document as you \n",
    "a = 2 # Here we assign the number 2 to variable a, for example.\n",
    "print(a) # Print the value of variable a\n",
    "a = a + 3 # Now add 3 to a.\n",
    "print(a) # Print out a's new value."
   ]
  },
  {
   "cell_type": "markdown",
   "metadata": {},
   "source": [
    "Working with cells lets you edit and test blocks of codes as you go, instead of needing to either run your code one line at a time or all at once. As you'll find, one of the keys to data analysis is constant tinkering -- both to figure out what you want to do with your data, and to get your doing what you want it to do. \n",
    "\n",
    "Cells can also contain plain text, or [Markdown](http://daringfireball.net/projects/markdown/)-formatted text. This cell is a Markdown cell, for example. This lets you use the Notebook as your \"lab notebook\", adding explanations or commentary for yourself or for others as you go. To turn a cell from a code cell to a text or Markdown once, choose the appropriate format from the *Cell -> Cell Type* menu at the top of the page. \n",
    "\n",
    "To edit a text cell once you've created it, just double-click on the text."
   ]
  },
  {
   "cell_type": "markdown",
   "metadata": {},
   "source": [
    "## Python Basics\n",
    "\n",
    "Let's quickly review some of the basics of the Python programming language. If you already have had some experience with Python, this will just be a quick refresher. If you're brand-new to Python or to coding in general, this will only cover a subset of what you can do with it."
   ]
  },
  {
   "cell_type": "markdown",
   "metadata": {},
   "source": [
    "### Variables\n",
    "\n",
    "A variable is just a chunk of data you've given a name, so that you can refer to it later. A variable might refer to a single number or some text, or to a massive table with many rows and columns. \n",
    "\n",
    "For the most part, you don't need to declare a variable in advance the way you do in many other languages; you just start using it. For example"
   ]
  },
  {
   "cell_type": "code",
   "execution_count": null,
   "metadata": {},
   "outputs": [],
   "source": [
    "a = 5 # Create a variable called 'a' and assign the number 5 to it."
   ]
  },
  {
   "cell_type": "code",
   "execution_count": null,
   "metadata": {},
   "outputs": [],
   "source": [
    "print(a) # Output the value of a"
   ]
  },
  {
   "cell_type": "markdown",
   "metadata": {},
   "source": [
    "Notice that variables carry over from cell to cell in the Notebook. Even though you're running the cells one at a time, all the data created in the notebook you're using is being held in memory. Variables don't carry over between notebooks, or between sessions."
   ]
  },
  {
   "cell_type": "code",
   "execution_count": null,
   "metadata": {},
   "outputs": [],
   "source": [
    "print(a*2) # Multiply a by 2, and output the result "
   ]
  },
  {
   "cell_type": "code",
   "execution_count": null,
   "metadata": {},
   "outputs": [],
   "source": [
    "b = a + 5 # Create a new variable 'b', and set it to a+5."
   ]
  },
  {
   "cell_type": "code",
   "execution_count": null,
   "metadata": {},
   "outputs": [],
   "source": [
    "a = 7 # Change a's value to 7."
   ]
  },
  {
   "cell_type": "markdown",
   "metadata": {},
   "source": [
    "*Do you think this will affect the value of **b**?*"
   ]
  },
  {
   "cell_type": "code",
   "execution_count": null,
   "metadata": {},
   "outputs": [],
   "source": [
    "print(a, b) # Output the values of variables a and b"
   ]
  },
  {
   "cell_type": "markdown",
   "metadata": {},
   "source": [
    "*Nope. **b**'s value has been set, and doesn't depend on **a** anymore.*\n",
    "\n",
    "Notice the comma in the print command. You can combine multiple things to print on the same line, separated by a comma."
   ]
  },
  {
   "cell_type": "markdown",
   "metadata": {},
   "source": [
    "Variables in Python are **dynamically typed**, meaning that the type of data a variable stores isn't fixed. So you can assign a number to a variable one line, and a string (the computer-sciency word for text) to it the next. For example:"
   ]
  },
  {
   "cell_type": "code",
   "execution_count": null,
   "metadata": {},
   "outputs": [],
   "source": [
    "print(a)\n",
    "a = \"Hello, Python!\" \n",
    "print(a)"
   ]
  },
  {
   "cell_type": "markdown",
   "metadata": {},
   "source": [
    "Note that the old value of **a** is gone now. Even though you *can* use the same variable name to refer to different data doesn't mean that you should. It's generally a good idea to have each variable serve one particular purpose in your code.\n",
    "\n",
    "You can't use a variable before you've assigned something to it. Since the computer doesn't know what kind of data your variable is going to hold, it can't prepare a default value for it. If you get this wrong, the computer will usually tell you. For example:"
   ]
  },
  {
   "cell_type": "code",
   "execution_count": null,
   "metadata": {},
   "outputs": [],
   "source": [
    "print(c) # We haven't assigned anything to c yet."
   ]
  },
  {
   "cell_type": "markdown",
   "metadata": {},
   "source": [
    "This is an error. Errors are annoying, but they're your friends: they let you know that you probably made a mistake, and hopefully will help you fix it. You'll probably see these a lot. Don't worry, you haven't broken anything. \n",
    "\n",
    "The error above, for example, is a **NameError**, and lets you know that you tried to use a variable that wasn't defined."
   ]
  },
  {
   "cell_type": "markdown",
   "metadata": {},
   "source": [
    "Naturally, you can also use variables together. For example:"
   ]
  },
  {
   "cell_type": "code",
   "execution_count": null,
   "metadata": {},
   "outputs": [],
   "source": [
    "a = 7\n",
    "b = 2\n",
    "print(\"a = \", a)\n",
    "print(\"b = \", b)\n",
    "print(\"a + b = \", a+b)\n",
    "print(\"a - b = \", a-b)\n",
    "print(\"a * b = \", a*b)\n",
    "print(\"a / b = \", a/b)"
   ]
  },
  {
   "cell_type": "markdown",
   "metadata": {},
   "source": [
    "Python (like most programming languages) doesn't treat all numbers the same. There are basically two types of numbers, as far as Python is concerned: round numbers (integers, or ``int``s) and numbers with values after the decimal point (floating points, or just ``float``s). You can see the ``type`` of a variable using the ``type`` command. \n",
    "\n",
    "When you divide an integer by an integer, Python automatically converts the result to a float, even if the result is a whole number."
   ]
  },
  {
   "cell_type": "code",
   "execution_count": null,
   "metadata": {},
   "outputs": [],
   "source": [
    "# These are ints\n",
    "a = 10\n",
    "b = 5"
   ]
  },
  {
   "cell_type": "code",
   "execution_count": null,
   "metadata": {},
   "outputs": [],
   "source": [
    "type(a)"
   ]
  },
  {
   "cell_type": "code",
   "execution_count": null,
   "metadata": {},
   "outputs": [],
   "source": [
    "type(a/b)"
   ]
  },
  {
   "cell_type": "markdown",
   "metadata": {},
   "source": [
    "Another type of variable is a **string**, or ``str``, which is one or more text characters. *\"Hello world\"* is a string, for example. So is *\"7\"*. By default, Python doesn't diffentiate between those two exmaples: anything in quotation marks is just some text. For example:"
   ]
  },
  {
   "cell_type": "code",
   "execution_count": null,
   "metadata": {},
   "outputs": [],
   "source": [
    "a = \"7\"\n",
    "a / 2"
   ]
  },
  {
   "cell_type": "markdown",
   "metadata": {},
   "source": [
    "However, you can convert a string to an int or float using, appropriately enough, the ``int`` or ``float`` commands. These will try to convert the string to a number, or throw an error if it doesn't know how. Converting values from type to type is called **casting**."
   ]
  },
  {
   "cell_type": "code",
   "execution_count": null,
   "metadata": {},
   "outputs": [],
   "source": [
    "int(a) / 2"
   ]
  },
  {
   "cell_type": "code",
   "execution_count": null,
   "metadata": {},
   "outputs": [],
   "source": [
    "int(\"Hi\")"
   ]
  },
  {
   "cell_type": "markdown",
   "metadata": {},
   "source": [
    "Python figured out how to convert the character \"7\" to a number, but not the characters *\"Hi\"*.\n",
    "\n",
    "You can also convert values the other way. For example:"
   ]
  },
  {
   "cell_type": "code",
   "execution_count": null,
   "metadata": {},
   "outputs": [],
   "source": [
    "str(7.5000)"
   ]
  },
  {
   "cell_type": "markdown",
   "metadata": {},
   "source": [
    "**A quick note on decimal and thousands seperators:** Python follows the American convention of using a period (.) for the beginning of the fractional portion of the number. That means that:"
   ]
  },
  {
   "cell_type": "code",
   "execution_count": null,
   "metadata": {},
   "outputs": [],
   "source": [
    "float(\"1.25\")"
   ]
  },
  {
   "cell_type": "markdown",
   "metadata": {},
   "source": [
    "works, but "
   ]
  },
  {
   "cell_type": "code",
   "execution_count": null,
   "metadata": {},
   "outputs": [],
   "source": [
    "float(\"1,25\")"
   ]
  },
  {
   "cell_type": "markdown",
   "metadata": {},
   "source": [
    "Does not."
   ]
  },
  {
   "cell_type": "markdown",
   "metadata": {},
   "source": [
    "## From datum to data: Lists and Dictionaries\n",
    "\n",
    "This is a course on data analysis, and most of the time the data you'll want to analyze will be more than just one or two numbers. If we're dealing with 100 (or 100,000) values, we don't want to create separate variables for each of them. There are two standard data types which can store multiple values together: **lists** (similar to other languages' arrays), and **dictionaries** (hash maps or hash tables, in other languages).\n",
    "\n",
    "### Lists\n",
    "\n",
    "Lists simply store a set of values in order, like this:"
   ]
  },
  {
   "cell_type": "code",
   "execution_count": null,
   "metadata": {},
   "outputs": [],
   "source": [
    "some_numbers = [1, 5, 4, 3, 0] # Some meaningless numbers."
   ]
  },
  {
   "cell_type": "markdown",
   "metadata": {},
   "source": [
    "You can access specific values within the list using square brackets. Note that list positions start counting from **0**, so if your list is 5 items long (like the one above), the positions run from 0 to 4. So:"
   ]
  },
  {
   "cell_type": "code",
   "execution_count": null,
   "metadata": {},
   "outputs": [],
   "source": [
    "print(\"First item in the list:\", some_numbers[0])\n",
    "print(\"Third item in the list:\", some_numbers[2])\n",
    "print(\"Last item in the list:\", some_numbers[4])"
   ]
  },
  {
   "cell_type": "markdown",
   "metadata": {},
   "source": [
    "If you try to access a position greater than the length of the list, you'll get an error:"
   ]
  },
  {
   "cell_type": "code",
   "execution_count": null,
   "metadata": {},
   "outputs": [],
   "source": [
    "print(some_numbers[10])"
   ]
  },
  {
   "cell_type": "markdown",
   "metadata": {},
   "source": [
    "You can also create a new list by subsetting another list, using the colon **:** symbol. Think of it as taking values from position : up to position."
   ]
  },
  {
   "cell_type": "code",
   "execution_count": null,
   "metadata": {},
   "outputs": [],
   "source": [
    "first_list = [1, 4, 5, 7, 12, 15]\n",
    "print(first_list)"
   ]
  },
  {
   "cell_type": "code",
   "execution_count": null,
   "metadata": {},
   "outputs": [],
   "source": [
    "second_list = first_list[2:6]\n",
    "print(second_list)"
   ]
  },
  {
   "cell_type": "markdown",
   "metadata": {},
   "source": [
    "If you leave out the number before or after the colon, it indicates 'from the beginning' or 'to the end', respectively. So:"
   ]
  },
  {
   "cell_type": "code",
   "execution_count": null,
   "metadata": {},
   "outputs": [],
   "source": [
    "print(first_list[:4])"
   ]
  },
  {
   "cell_type": "code",
   "execution_count": null,
   "metadata": {},
   "outputs": [],
   "source": [
    "print(first_list[4:])"
   ]
  },
  {
   "cell_type": "markdown",
   "metadata": {},
   "source": [
    "You can also use negative numbers as list positions, which indicate counting from the **end** of the list. -1 is the index for the *last* element in a list, for example:"
   ]
  },
  {
   "cell_type": "code",
   "execution_count": null,
   "metadata": {},
   "outputs": [],
   "source": [
    "print(first_list[-1])"
   ]
  },
  {
   "cell_type": "markdown",
   "metadata": {},
   "source": [
    "Similarly, if you wanted to get the last two elements of a list, you could write:"
   ]
  },
  {
   "cell_type": "code",
   "execution_count": null,
   "metadata": {},
   "outputs": [],
   "source": [
    "print(first_list[-2:])"
   ]
  },
  {
   "cell_type": "markdown",
   "metadata": {},
   "source": [
    "Lists can store data of all different types together. For example, the list below has an integer, a float and a string:"
   ]
  },
  {
   "cell_type": "code",
   "execution_count": null,
   "metadata": {},
   "outputs": [],
   "source": [
    "mixed_list = [1, 1.0, \"One\"]\n",
    "print(mixed_list)"
   ]
  },
  {
   "cell_type": "markdown",
   "metadata": {},
   "source": [
    "Lists can even store other lists. This will be important later, since it's how we can put together multi-dimensional objects like tables and matrices."
   ]
  },
  {
   "cell_type": "code",
   "execution_count": null,
   "metadata": {},
   "outputs": [],
   "source": [
    "first_row = [1, 0]\n",
    "second_row = [0, 1]\n",
    "table = [first_row, second_row]\n",
    "\n",
    "print(\"Position (1,0)\", table[1][0])\n",
    "print(\"Position (0,1)\", table[0][1])"
   ]
  },
  {
   "cell_type": "markdown",
   "metadata": {},
   "source": [
    "Note that the names 'row' and 'table' are arbitrary -- all **table** really is, is a list of lists. When we write table[1] we are getting the second entry in the list, which in this case just happens to be a list as well. So table[1][1]  just means 'The second entry in the second entry in the list **table**'.\n",
    "\n",
    "We can also create these lists directly, and nest them as deep as we want. Below, I create a 3 X 2 X 2 table:"
   ]
  },
  {
   "cell_type": "code",
   "execution_count": null,
   "metadata": {},
   "outputs": [],
   "source": [
    "# Notice that we can put line-breaks when they're enclosed in brackets\n",
    "threedee = [ [ [1,2], [3, 4] ],  \n",
    "           [[5, 6], [7, 8] ],\n",
    "           [ [9, 10], [11, 12] ]\n",
    "           ]\n",
    "\n",
    "print(threedee[1][1][1])"
   ]
  },
  {
   "cell_type": "markdown",
   "metadata": {},
   "source": [
    "We can add items to the end of a list using the **.append(...)** operation, like this:"
   ]
  },
  {
   "cell_type": "code",
   "execution_count": null,
   "metadata": {},
   "outputs": [],
   "source": [
    "my_list = [1, 2, 3]\n",
    "my_list.append(4)\n",
    "print(my_list)"
   ]
  },
  {
   "cell_type": "markdown",
   "metadata": {},
   "source": [
    "Notice the syntax *append* uses: variable dot operation. The operation following the dot is called a **method**. We'll see this pretty often in Python (and elsewhere). It indicates an operation (method) associated with a particular variable of a particular type. In this case, all list variables have an append method associated with them. \n",
    "\n",
    "(Advanced note: technically, lists (like almost everything else in Python) are objects, with append as one of their methods. If you don't know what that means, don't worry about it.)\n",
    "\n",
    "We can count the number of values in a list using **len**, like this:"
   ]
  },
  {
   "cell_type": "code",
   "execution_count": null,
   "metadata": {},
   "outputs": [],
   "source": [
    "print(len(my_list))"
   ]
  },
  {
   "cell_type": "markdown",
   "metadata": {},
   "source": [
    "Pop quiz: What do you think the result of  *len(threedee)* will be?"
   ]
  },
  {
   "cell_type": "code",
   "execution_count": null,
   "metadata": {},
   "outputs": [],
   "source": [
    "print(len(threedee))"
   ]
  },
  {
   "cell_type": "markdown",
   "metadata": {},
   "source": [
    "As far as Python is concerned, **threedee** has only 3 values; each of those values happens to be another list. So:"
   ]
  },
  {
   "cell_type": "code",
   "execution_count": null,
   "metadata": {},
   "outputs": [],
   "source": [
    "print(len(threedee[0]))"
   ]
  },
  {
   "cell_type": "code",
   "execution_count": null,
   "metadata": {},
   "outputs": [],
   "source": [
    "print(len(threedee[0][0]))"
   ]
  },
  {
   "cell_type": "code",
   "execution_count": null,
   "metadata": {},
   "outputs": [],
   "source": [
    "print(len(threedee[0][0][0]))"
   ]
  },
  {
   "cell_type": "markdown",
   "metadata": {},
   "source": [
    "### Dictionaries\n",
    "\n",
    "Dictionaries are a type of data structure that associates unique keys with values. Both keys and values can be any type of data, with the exception that the key cannot be mutable, or subject to change. A number could be a key, for example, but not a variable.\n",
    "\n",
    "Dictionaries are declared with {curly braces}, but are accessed with [square brackets], like this:"
   ]
  },
  {
   "cell_type": "code",
   "execution_count": null,
   "metadata": {},
   "outputs": [],
   "source": [
    "number_names = {\"One\": 1, \"Two\": 2} # The string 'One' is the key, and integer 1 the value.\n",
    "print(number_names[\"One\"])"
   ]
  },
  {
   "cell_type": "markdown",
   "metadata": {},
   "source": [
    "The traditional example used to explain dictionaries is a telephone book, mapping each unique name to a number:"
   ]
  },
  {
   "cell_type": "code",
   "execution_count": null,
   "metadata": {},
   "outputs": [],
   "source": [
    "phone_book = {} # Let the computer know that phone_book is an empty dictionary\n",
    "\n",
    "phone_book[\"Alice\"] = \"555-123-4567\"\n",
    "phone_book[\"Bob\"] = \"555-987-6543\""
   ]
  },
  {
   "cell_type": "markdown",
   "metadata": {},
   "source": [
    "Unlike with lists, we don't need a special command to add data. If we assign a value to a new key, it's automatically added to the dictionary. If we assign a new value to an existing key, it overwrites it. so:"
   ]
  },
  {
   "cell_type": "code",
   "execution_count": null,
   "metadata": {},
   "outputs": [],
   "source": [
    "print(phone_book)\n",
    "phone_book[\"Carol\"] = \"555-314-1519\"\n",
    "print(phone_book)\n",
    "phone_book[\"Carol\"] = \"555-271-8281\"\n",
    "print(phone_book)"
   ]
  },
  {
   "cell_type": "markdown",
   "metadata": {},
   "source": [
    "Notice that the dictionary items (key-value pairs) aren't displayed in any particular order -- in fact, they aren't necessarily even displayed in the order in which we added them. Unlike lists, dictionaries are inherently unordered.\n",
    "\n",
    "(**Note:** from Python 3.6 onward, dictionaries *are* ordered, and preserve the order in which keys were added. However, most Python code doesn't rely on that yet, and it's best not to rely on dictionary ordering if you ever expect to need to work with an earlier version of Python). \n",
    "\n",
    "We can get all the keys and all the values in a dictionary using **.keys()** and **.values()** , like this:"
   ]
  },
  {
   "cell_type": "code",
   "execution_count": null,
   "metadata": {},
   "outputs": [],
   "source": [
    "print(phone_book.keys())\n",
    "print(phone_book.values())"
   ]
  },
  {
   "cell_type": "markdown",
   "metadata": {},
   "source": [
    "Notice that these methods return special types, ``dict_keys`` and ``dict_values``, which need to be converted to lists before they can be worked with as we did with lists"
   ]
  },
  {
   "cell_type": "code",
   "execution_count": null,
   "metadata": {},
   "outputs": [],
   "source": [
    "print(phone_book.keys()[1])"
   ]
  },
  {
   "cell_type": "code",
   "execution_count": null,
   "metadata": {},
   "outputs": [],
   "source": [
    "dict_keys = list(phone_book.keys())\n",
    "print(dict_keys[1])"
   ]
  },
  {
   "cell_type": "markdown",
   "metadata": {},
   "source": [
    "Okay, now we can store values individually, or inside lists and dictionaries. So now what?\n",
    "\n",
    "## Moving through your code: loops and conditions \n",
    "\n",
    "### For loops\n",
    "Of course, we don't usually want to operate on values one at a time; we're analyzing data, so we want to operate on multiple values together. We also want to write as little code as possible, both to make our lives easier and reduce the chance for typos and bugs. The basic way to do this is a **for loop**.\n",
    "\n",
    "The idea of a for loop is to take a block of code, and repeat (iterate) it for each value in a list, in order. The simplest example would look like this:"
   ]
  },
  {
   "cell_type": "code",
   "execution_count": null,
   "metadata": {},
   "outputs": [],
   "source": [
    "some_numbers = [2, 5, 7, 1, 101, 9, 9]\n",
    "\n",
    "for x in some_numbers:\n",
    "    print(x)"
   ]
  },
  {
   "cell_type": "markdown",
   "metadata": {},
   "source": [
    "This is telling Python to assign each value in the list to the variable **x**, in order, and then print the value of **x**. The variable we assign in the loop is just an ordinary variable, and can have any name we want. \n",
    "\n",
    "Suppose we wanted to double each value and print it, we could do something like:"
   ]
  },
  {
   "cell_type": "code",
   "execution_count": null,
   "metadata": {},
   "outputs": [],
   "source": [
    "my_var = \"This will be overwritten\"\n",
    "\n",
    "for my_var in some_numbers:\n",
    "    # These lines will be executed for each value in the some_numbers list\n",
    "    a = my_var * 2\n",
    "    print(a)\n",
    "\n",
    "print(\"Current value of my_var\", my_var) # This line will be executed only once"
   ]
  },
  {
   "cell_type": "markdown",
   "metadata": {},
   "source": [
    "### Sidebar: Indentation\n",
    "\n",
    "Indentation is very important, and is part of what makes Python different from many other languages. Python treats indents / whitespace the way many other languages treat curly braces. Notice how the lines below the **for** command are indented? That tells Python that those lines are part of the for-loop's block. It will repeat those lines, and only then go to the next line at the previous level of indentation.\n",
    "\n",
    "Your indentations need to be consistent. You can use tabs or a certain number of spaces, but you need to use the same throughout your program. The convention is to offset blocks with four spaces. The Jupyter Notebook, and most good programming text editors, will let you choose to automatically insert four spaces when you hit the TAB key. Jupyter Notebook does this by default.\n",
    "\n",
    "You will probably get this wrong at some point. Python will generally tell you, like this:"
   ]
  },
  {
   "cell_type": "code",
   "execution_count": null,
   "metadata": {},
   "outputs": [],
   "source": [
    "for x in some_numbers:\n",
    "print(x)"
   ]
  },
  {
   "cell_type": "markdown",
   "metadata": {},
   "source": [
    "But sometimes the mistake will be something more subtle, like this:"
   ]
  },
  {
   "cell_type": "code",
   "execution_count": null,
   "metadata": {},
   "outputs": [],
   "source": [
    "for x in some_numbers:\n",
    "    a = x * 2\n",
    "print(a)"
   ]
  },
  {
   "cell_type": "markdown",
   "metadata": {},
   "source": [
    "The code is valid, it just probably won't do what you had wanted it to.\n",
    "\n",
    "### End Sidebar"
   ]
  },
  {
   "cell_type": "markdown",
   "metadata": {},
   "source": [
    "Okay, now let's see how to use a for loop to compute the mean (average) of a list of numbers. To do that, we need to sum all the values in the list, then divide by the list's length."
   ]
  },
  {
   "cell_type": "code",
   "execution_count": null,
   "metadata": {},
   "outputs": [],
   "source": [
    "some_numbers = [1, 2, 10, 99, 37, 45, 62, 78, 19]\n",
    "\n",
    "total = 0 # Prepare a new variable to store the sum\n",
    "# Sum up the numbers\n",
    "for x in some_numbers:\n",
    "    total += x # The += sign means 'add value and assign', like total = total + x\n",
    "mean = total / len(some_numbers)\n",
    "print(\"The mean of the list is \", mean)"
   ]
  },
  {
   "cell_type": "markdown",
   "metadata": {},
   "source": [
    "We can do something similar with dictionaries, too. Suppose we have a dictionary associating several stock market shares with their current value, and we wanted to find the average. It would look something like this:"
   ]
  },
  {
   "cell_type": "code",
   "execution_count": null,
   "metadata": {},
   "outputs": [],
   "source": [
    "prices = {\"AAPL\": 454.45, \"MSFT\": 32.70, \"AMZN\": 297.26, \"ORCL\": 32.92}\n",
    "\n",
    "total = 0.0\n",
    "for stock in prices: # When we use a for loop on a dictionary, it iterates over the *keys*\n",
    "    total += prices[stock]\n",
    "mean = total / len(prices)\n",
    "print(\"The average stock price is\", mean)"
   ]
  },
  {
   "cell_type": "markdown",
   "metadata": {},
   "source": [
    "Remember how we can get the dictionary keys and values? If we don't want to look up the dictionary value every time, we can write:"
   ]
  },
  {
   "cell_type": "code",
   "execution_count": null,
   "metadata": {},
   "outputs": [],
   "source": [
    "prices = {\"AAPL\": 454.45, \"MSFT\": 32.70, \"AMZN\": 297.26, \"ORCL\": 32.92}\n",
    "\n",
    "total = 0.0\n",
    "for price in prices.values(): # Get the list of values, and iterate over those\n",
    "    total += price\n",
    "mean = total / len(prices)\n",
    "print(\"The average stock price is\", mean)"
   ]
  },
  {
   "cell_type": "markdown",
   "metadata": {},
   "source": [
    "### Conditions: If-else statements\n",
    "\n",
    "Another important thing we want to do is to have some code execute only if a certain condition is true. We do this using the **if** command, followed by a condition for the system to check. Everything indented under the **if** command will execute only if the condition is true."
   ]
  },
  {
   "cell_type": "code",
   "execution_count": null,
   "metadata": {},
   "outputs": [],
   "source": [
    "if 5 > 0:\n",
    "    print(\"True!\")\n",
    "    "
   ]
  },
  {
   "cell_type": "markdown",
   "metadata": {},
   "source": [
    "We can follow an **if**  with an **else**, giving code to execute if the condition is false."
   ]
  },
  {
   "cell_type": "code",
   "execution_count": null,
   "metadata": {},
   "outputs": [],
   "source": [
    "a = 5\n",
    "b = 4\n",
    "if a < b:\n",
    "    print(\"a smaller than b\") # this code won't get executed here.\n",
    "else:\n",
    "    print(\"b smaller than or equal to a\") # This code will."
   ]
  },
  {
   "cell_type": "markdown",
   "metadata": {},
   "source": [
    "There's one last command that can go along with an **if**: **elif**, for else if. This means 'if the previous condition is false AND this condition is true'. For example:"
   ]
  },
  {
   "cell_type": "code",
   "execution_count": null,
   "metadata": {},
   "outputs": [],
   "source": [
    "a = 5\n",
    "b = 5\n",
    "\n",
    "if a < b:\n",
    "    print(\"a smaller than b\")\n",
    "elif a > b:\n",
    "    print(\"a greater than b\")\n",
    "else:\n",
    "    print(\"a and b are equal!\")"
   ]
  },
  {
   "cell_type": "markdown",
   "metadata": {},
   "source": [
    "If we have a few conditions we want to check together, we can combine them with the keywords *and*, meaning only if all the conditions are true; and **or**, meaning if any of the conditons are true. "
   ]
  },
  {
   "cell_type": "code",
   "execution_count": null,
   "metadata": {},
   "outputs": [],
   "source": [
    "if 5 > 0 and 2 > 5:\n",
    "    print(\"Never gonna happen\")\n",
    "else:\n",
    "    print(\"Here\")"
   ]
  },
  {
   "cell_type": "code",
   "execution_count": null,
   "metadata": {},
   "outputs": [],
   "source": [
    "if 5 > 0 or 2 > 5:\n",
    "    print(\"Now this will print\")\n",
    "else:\n",
    "    print(\"Nope.\")"
   ]
  },
  {
   "cell_type": "markdown",
   "metadata": {},
   "source": [
    "We can also check to see whether a certain item appears in a list or dictionary or not, using the **in** keyword. For example:"
   ]
  },
  {
   "cell_type": "code",
   "execution_count": null,
   "metadata": {},
   "outputs": [],
   "source": [
    "some_numbers = [1, 5, -2, 18, 6.312375]\n",
    "\n",
    "if 2 in some_numbers:\n",
    "    print (\"Yes\")\n",
    "else:\n",
    "    print(\"No.\")\n",
    "    \n",
    "if 5 in some_numbers:\n",
    "    print(\"And yes.\")"
   ]
  },
  {
   "cell_type": "code",
   "execution_count": null,
   "metadata": {},
   "outputs": [],
   "source": [
    "some_values = {\"One\": 1, \"Two\": 2, \"Three\": 3}\n",
    "\n",
    "if \"One\" in some_values:\n",
    "    print (\"Yes.\")\n",
    "\n",
    "if 1 in some_values: \n",
    "    print(\"And yes.\")\n",
    "else:\n",
    "    print(\"But no\")"
   ]
  },
  {
   "cell_type": "markdown",
   "metadata": {},
   "source": [
    "Notice that with dictionaries, the **in** keyword checks only the keys, not the values. "
   ]
  },
  {
   "cell_type": "markdown",
   "metadata": {},
   "source": [
    "#### Putting it all together\n",
    "Suppose we wanted to take the stock prices above, and categorize them into above-average and below-average. Here's one way we could do it:"
   ]
  },
  {
   "cell_type": "code",
   "execution_count": null,
   "metadata": {},
   "outputs": [],
   "source": [
    "prices = {\"AAPL\": 454.45, \"MSFT\": 32.70, \"AMZN\": 297.26, \"ORCL\": 32.92}\n",
    "\n",
    "# Finding the average:\n",
    "total = 0.0\n",
    "for stock in prices: # When we use a for loop on a dictionary, it iterates over the *keys*\n",
    "    total += prices[stock]\n",
    "mean = total / len(prices)\n",
    "\n",
    "# Categorizing them:\n",
    "# Create a new dictionary with the categories as keys, and empty lists as values.\n",
    "stock_types = {\"Above average\": [], \"Below average\": []}\n",
    "for stock in prices:\n",
    "    if prices[stock] > mean:\n",
    "        stock_types[\"Above average\"].append(stock)\n",
    "    else:\n",
    "        stock_types[\"Below average\"].append(stock)\n",
    "\n",
    "print(stock_types)"
   ]
  },
  {
   "cell_type": "markdown",
   "metadata": {},
   "source": [
    "## Functions\n",
    "\n",
    "Functions are blocks of code that you define that do something specific with certain parameters you give them. They often (but not always) take inputs (called arguments) and return some output.\n",
    "\n",
    "Functions are defined using the **def** keyword, with an indented block of code underneath. \n",
    "\n",
    "Here's a basic function that takes no inputs and doesn't return a value, and just prints \"Hello, world\":"
   ]
  },
  {
   "cell_type": "code",
   "execution_count": null,
   "metadata": {},
   "outputs": [],
   "source": [
    "def hello_world():\n",
    "    print(\"Hello, world!\")"
   ]
  },
  {
   "cell_type": "markdown",
   "metadata": {},
   "source": [
    "Once we've defined a function, we can call it like this:"
   ]
  },
  {
   "cell_type": "code",
   "execution_count": null,
   "metadata": {},
   "outputs": [],
   "source": [
    "hello_world()"
   ]
  },
  {
   "cell_type": "markdown",
   "metadata": {},
   "source": [
    "Of course, a function like that isn't very useful. Let's give it some arguments, and make it more useful. Arguments go inside the parentheses after the function name; they are variables which have values assigned to them  when the function is called."
   ]
  },
  {
   "cell_type": "code",
   "execution_count": null,
   "metadata": {},
   "outputs": [],
   "source": [
    "def addition(a, b):\n",
    "    '''\n",
    "    Add numbers a, b and print the results.\n",
    "    \n",
    "    You can add documentation to a function using three single- or double-quotes\n",
    "    at the top of the function, like this. This is good practice to document\n",
    "    what your function does.\n",
    "    '''\n",
    "    print(a + b)"
   ]
  },
  {
   "cell_type": "code",
   "execution_count": null,
   "metadata": {},
   "outputs": [],
   "source": [
    "addition(1, 2)"
   ]
  },
  {
   "cell_type": "code",
   "execution_count": null,
   "metadata": {},
   "outputs": [],
   "source": [
    "addition(5, 6)"
   ]
  },
  {
   "cell_type": "markdown",
   "metadata": {},
   "source": [
    "Note that the variables **a** and **b** above are only defined inside the function. Variables inside and outside the function are different, even if they have the same name."
   ]
  },
  {
   "cell_type": "code",
   "execution_count": null,
   "metadata": {},
   "outputs": [],
   "source": [
    "a = 5\n",
    "b = 10\n",
    "addition(1, 1)\n",
    "print(a, b)"
   ]
  },
  {
   "cell_type": "markdown",
   "metadata": {},
   "source": [
    "Note that our addition function is just printing the result, but not saving it anywhere. To store the result, we need to have the function **return** a value."
   ]
  },
  {
   "cell_type": "code",
   "execution_count": null,
   "metadata": {},
   "outputs": [],
   "source": [
    "c = addition(2, 3)\n",
    "print(c)"
   ]
  },
  {
   "cell_type": "markdown",
   "metadata": {},
   "source": [
    "The function isn't returning anything, so there isn't any value to assign to **c**. We could rewrite the function like this:"
   ]
  },
  {
   "cell_type": "code",
   "execution_count": null,
   "metadata": {},
   "outputs": [],
   "source": [
    "def addition(a, b):\n",
    "    return(a + b)"
   ]
  },
  {
   "cell_type": "code",
   "execution_count": null,
   "metadata": {},
   "outputs": [],
   "source": [
    "c = addition(2, 3)\n",
    "print(c)"
   ]
  },
  {
   "cell_type": "markdown",
   "metadata": {},
   "source": [
    "Obviously, you don't need to write your own function just to handle adding two numbers. You'll want to use them when you have more complicated code that you think you'll need to run again and again in different places in your program. For example, suppose you expect to need to find the average for many lists -- a pretty standard thing. You could write a function to do it, like this:"
   ]
  },
  {
   "cell_type": "code",
   "execution_count": null,
   "metadata": {},
   "outputs": [],
   "source": [
    "def find_mean(num_list):\n",
    "    '''\n",
    "    Find the average of num_list\n",
    "    '''\n",
    "    total = 0\n",
    "    for x in num_list:\n",
    "        total += x\n",
    "    return total / len(num_list)"
   ]
  },
  {
   "cell_type": "markdown",
   "metadata": {},
   "source": [
    "(Note: the ``range`` command lets you loop over a list of whole numbers between the specified start and end)"
   ]
  },
  {
   "cell_type": "code",
   "execution_count": null,
   "metadata": {},
   "outputs": [],
   "source": [
    "print(find_mean(range(10))) # Find the average of numbers from 0 to 9"
   ]
  },
  {
   "cell_type": "code",
   "execution_count": null,
   "metadata": {},
   "outputs": [],
   "source": [
    "some_numbers = [100, 202, 303, 404, 505, 606, 707, 909]\n",
    "print(find_mean(some_numbers))"
   ]
  },
  {
   "cell_type": "markdown",
   "metadata": {},
   "source": [
    "Now let's rewrite our stock categorizer using the find_mean functions we've defined:"
   ]
  },
  {
   "cell_type": "code",
   "execution_count": null,
   "metadata": {},
   "outputs": [],
   "source": [
    "prices = {\"AAPL\": 454.45, \"MSFT\": 32.70, \"AMZN\": 297.26, \"ORCL\": 32.92}\n",
    "\n",
    "# Categorizing the stocks:\n",
    "# Create a new dictionary with the categories as keys, and empty lists as values.\n",
    "stock_types = {\"Above average\": [], \"Below average\": []}\n",
    "for stock in prices:\n",
    "    if prices[stock] > find_mean(prices.values()):\n",
    "        stock_types[\"Above average\"].append(stock)\n",
    "    else:\n",
    "        stock_types[\"Below average\"].append(stock)\n",
    "\n",
    "print(stock_types)"
   ]
  },
  {
   "cell_type": "markdown",
   "metadata": {},
   "source": [
    "Notice that right now, the find_mean function is being called and executed for every iteration of the for loop. Really, we only need to compute it once, and store the results in a variable. This isn't a big deal here with only 4 iterations, but when you get into the thousands or millions of iterations, it starts to add up:"
   ]
  },
  {
   "cell_type": "code",
   "execution_count": null,
   "metadata": {},
   "outputs": [],
   "source": [
    "prices = {\"AAPL\": 454.45, \"MSFT\": 32.70, \"AMZN\": 297.26, \"ORCL\": 32.92}\n",
    "\n",
    "mean_price = find_mean(prices.values()) # Calculate the mean in advance\n",
    "# Categorizing the stocks:\n",
    "# Create a new dictionary with the categories as keys, and empty lists as values.\n",
    "stock_types = {\"Above average\": [], \"Below average\": []}\n",
    "for stock in prices:\n",
    "    if prices[stock] > mean_price:\n",
    "        stock_types[\"Above average\"].append(stock)\n",
    "    else:\n",
    "        stock_types[\"Below average\"].append(stock)\n",
    "\n",
    "print(stock_types)"
   ]
  }
 ],
 "metadata": {
  "anaconda-cloud": {},
  "kernelspec": {
   "display_name": "Python 3",
   "language": "python",
   "name": "python3"
  },
  "language_info": {
   "codemirror_mode": {
    "name": "ipython",
    "version": 3
   },
   "file_extension": ".py",
   "mimetype": "text/x-python",
   "name": "python",
   "nbconvert_exporter": "python",
   "pygments_lexer": "ipython3",
   "version": "3.6.6"
  }
 },
 "nbformat": 4,
 "nbformat_minor": 1
}
