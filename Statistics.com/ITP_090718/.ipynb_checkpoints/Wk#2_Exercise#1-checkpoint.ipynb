{
 "cells": [
  {
   "cell_type": "markdown",
   "metadata": {},
   "source": [
    "# Question 1 PART 1\n",
    "## a. What is the average US Gross of movies in the dataset?"
   ]
  },
  {
   "cell_type": "code",
   "execution_count": 1,
   "metadata": {},
   "outputs": [
    {
     "data": {
      "text/plain": [
       "0        66439100.0\n",
       "1       309420425.0\n",
       "2               NaN\n",
       "3               NaN\n",
       "4       200821936.0\n",
       "5       336530303.0\n",
       "6       301959197.0\n",
       "7       241063875.0\n",
       "8               NaN\n",
       "9       760507625.0\n",
       "10      200120000.0\n",
       "11      169368427.0\n",
       "12      141621490.0\n",
       "13      423315812.0\n",
       "14              NaN\n",
       "15              NaN\n",
       "16      402111870.0\n",
       "17      234362462.0\n",
       "18      105487148.0\n",
       "19      218080025.0\n",
       "20       70107728.0\n",
       "21      191450875.0\n",
       "22      415004880.0\n",
       "23      600788188.0\n",
       "24      172062763.0\n",
       "25      166112167.0\n",
       "26      125322469.0\n",
       "27      334191110.0\n",
       "28      373524485.0\n",
       "29       90759676.0\n",
       "           ...     \n",
       "3597        77070.0\n",
       "3598         9812.0\n",
       "3599       103509.0\n",
       "3600         8231.0\n",
       "3601      3073428.0\n",
       "3602       195043.0\n",
       "3603            NaN\n",
       "3604     45000000.0\n",
       "3605      2883661.0\n",
       "3606      1227508.0\n",
       "3607            NaN\n",
       "3608    107918810.0\n",
       "3609       115592.0\n",
       "3610       194523.0\n",
       "3611       413802.0\n",
       "3612         1336.0\n",
       "3613          527.0\n",
       "3614          401.0\n",
       "3615       138711.0\n",
       "3616         1987.0\n",
       "3617        94596.0\n",
       "3618       673780.0\n",
       "3619         4584.0\n",
       "3620       424760.0\n",
       "3621      2040920.0\n",
       "3622        70071.0\n",
       "3623          900.0\n",
       "3624        48482.0\n",
       "3625         1338.0\n",
       "3626       181041.0\n",
       "Name: US Gross, Length: 3627, dtype: float64"
      ]
     },
     "execution_count": 1,
     "metadata": {},
     "output_type": "execute_result"
    }
   ],
   "source": [
    "import csv\n",
    "import pandas as pd\n",
    "import numpy as np\n",
    "# Load the MovieDatra.csv\n",
    "f = open(\"MovieData.csv\", \"rb\")\n",
    "df = pd.read_csv(f, sep='\\t')\n",
    "df.head()\n",
    "type(df[\"US Gross\"])\n",
    "pd.to_numeric(df[\"US Gross\"], errors='coerce')"
   ]
  },
  {
   "cell_type": "code",
   "execution_count": 2,
   "metadata": {},
   "outputs": [
    {
     "data": {
      "text/plain": [
       "3627"
      ]
     },
     "execution_count": 2,
     "metadata": {},
     "output_type": "execute_result"
    }
   ],
   "source": [
    "len(df[\"US Gross\"])"
   ]
  },
  {
   "cell_type": "code",
   "execution_count": 3,
   "metadata": {
    "scrolled": true
   },
   "outputs": [],
   "source": [
    "df = df[pd.to_numeric(df[\"US Gross\"], errors=\"coerce\").notnull()]"
   ]
  },
  {
   "cell_type": "code",
   "execution_count": 4,
   "metadata": {},
   "outputs": [
    {
     "data": {
      "text/plain": [
       "3541"
      ]
     },
     "execution_count": 4,
     "metadata": {},
     "output_type": "execute_result"
    }
   ],
   "source": [
    "len(df[\"US Gross\"])"
   ]
  },
  {
   "cell_type": "code",
   "execution_count": 5,
   "metadata": {},
   "outputs": [
    {
     "data": {
      "text/plain": [
       "pandas.core.series.Series"
      ]
     },
     "execution_count": 5,
     "metadata": {},
     "output_type": "execute_result"
    }
   ],
   "source": [
    "type(df[\"US Gross\"])"
   ]
  },
  {
   "cell_type": "code",
   "execution_count": 6,
   "metadata": {},
   "outputs": [
    {
     "name": "stdout",
     "output_type": "stream",
     "text": [
      "The average US Gross of movies in the dataset is 44185793.\n"
     ]
    }
   ],
   "source": [
    "def find_mean(num_list):\n",
    "    total = 0.0\n",
    "    for x in num_list:\n",
    "        x = int(x)\n",
    "        total += x\n",
    "    return total / len(df[\"US Gross\"])\n",
    "df_mean = find_mean(df[\"US Gross\"])\n",
    "print(\"The average US Gross of movies in the dataset is %d.\" % round(df_mean, 2))"
   ]
  },
  {
   "cell_type": "code",
   "execution_count": 7,
   "metadata": {},
   "outputs": [
    {
     "data": {
      "text/html": [
       "<div>\n",
       "<style scoped>\n",
       "    .dataframe tbody tr th:only-of-type {\n",
       "        vertical-align: middle;\n",
       "    }\n",
       "\n",
       "    .dataframe tbody tr th {\n",
       "        vertical-align: top;\n",
       "    }\n",
       "\n",
       "    .dataframe thead th {\n",
       "        text-align: right;\n",
       "    }\n",
       "</style>\n",
       "<table border=\"1\" class=\"dataframe\">\n",
       "  <thead>\n",
       "    <tr style=\"text-align: right;\">\n",
       "      <th></th>\n",
       "      <th>Release_Date</th>\n",
       "      <th>Movie</th>\n",
       "      <th>Distributor</th>\n",
       "      <th>Budget</th>\n",
       "      <th>US Gross</th>\n",
       "      <th>Worldwide Gross</th>\n",
       "    </tr>\n",
       "  </thead>\n",
       "  <tbody>\n",
       "    <tr>\n",
       "      <th>0</th>\n",
       "      <td>03/09/12</td>\n",
       "      <td>John Carter</td>\n",
       "      <td>NaN</td>\n",
       "      <td>300000000</td>\n",
       "      <td>66439100</td>\n",
       "      <td>254439100</td>\n",
       "    </tr>\n",
       "    <tr>\n",
       "      <th>1</th>\n",
       "      <td>05/25/07</td>\n",
       "      <td>Pirates of the Caribbean: At World's End</td>\n",
       "      <td>Buena Vista</td>\n",
       "      <td>300000000</td>\n",
       "      <td>309420425</td>\n",
       "      <td>960996492</td>\n",
       "    </tr>\n",
       "    <tr>\n",
       "      <th>4</th>\n",
       "      <td>11/24/10</td>\n",
       "      <td>Tangled</td>\n",
       "      <td>Buena Vista</td>\n",
       "      <td>260000000</td>\n",
       "      <td>200821936</td>\n",
       "      <td>586581936</td>\n",
       "    </tr>\n",
       "    <tr>\n",
       "      <th>5</th>\n",
       "      <td>05/04/07</td>\n",
       "      <td>Spider-Man 3</td>\n",
       "      <td>Sony</td>\n",
       "      <td>258000000</td>\n",
       "      <td>336530303</td>\n",
       "      <td>890875303</td>\n",
       "    </tr>\n",
       "    <tr>\n",
       "      <th>6</th>\n",
       "      <td>07/15/09</td>\n",
       "      <td>Harry Potter and the Half-Blood Prince</td>\n",
       "      <td>Warner Bros.</td>\n",
       "      <td>250000000</td>\n",
       "      <td>301959197</td>\n",
       "      <td>934416487</td>\n",
       "    </tr>\n",
       "  </tbody>\n",
       "</table>\n",
       "</div>"
      ],
      "text/plain": [
       "  Release_Date                                     Movie   Distributor  \\\n",
       "0     03/09/12                               John Carter           NaN   \n",
       "1     05/25/07  Pirates of the Caribbean: At World's End   Buena Vista   \n",
       "4     11/24/10                                   Tangled   Buena Vista   \n",
       "5     05/04/07                              Spider-Man 3          Sony   \n",
       "6     07/15/09    Harry Potter and the Half-Blood Prince  Warner Bros.   \n",
       "\n",
       "      Budget   US Gross Worldwide Gross  \n",
       "0  300000000   66439100       254439100  \n",
       "1  300000000  309420425       960996492  \n",
       "4  260000000  200821936       586581936  \n",
       "5  258000000  336530303       890875303  \n",
       "6  250000000  301959197       934416487  "
      ]
     },
     "execution_count": 7,
     "metadata": {},
     "output_type": "execute_result"
    }
   ],
   "source": [
    "df.head()"
   ]
  },
  {
   "cell_type": "markdown",
   "metadata": {},
   "source": [
    "# Question 1 PART 1\n",
    "## b. How many movies in the dataset have budgets greater than 20 million?"
   ]
  },
  {
   "cell_type": "code",
   "execution_count": 8,
   "metadata": {},
   "outputs": [
    {
     "data": {
      "text/plain": [
       "0       300000000\n",
       "1       300000000\n",
       "2       270000000\n",
       "3       270000000\n",
       "4       260000000\n",
       "5       258000000\n",
       "6       250000000\n",
       "7       250000000\n",
       "8       250000000\n",
       "9       237000000\n",
       "10      232000000\n",
       "11      230000000\n",
       "12      225000000\n",
       "13      225000000\n",
       "14      215000000\n",
       "15      215000000\n",
       "16      210000000\n",
       "17      210000000\n",
       "18      210000000\n",
       "19      207000000\n",
       "20      205000000\n",
       "21      200000000\n",
       "22      200000000\n",
       "23      200000000\n",
       "24      200000000\n",
       "25      200000000\n",
       "26      200000000\n",
       "27      200000000\n",
       "28      200000000\n",
       "29      200000000\n",
       "          ...    \n",
       "3597        30000\n",
       "3598        30000\n",
       "3599        30000\n",
       "3600        27000\n",
       "3601        27000\n",
       "3602        25000\n",
       "3603        25000\n",
       "3604        25000\n",
       "3605        25000\n",
       "3606        23000\n",
       "3607        17300\n",
       "3608        15000\n",
       "3609        15000\n",
       "3610        15000\n",
       "3611        12000\n",
       "3612        12000\n",
       "3613        10000\n",
       "3614        10000\n",
       "3615        10000\n",
       "3616        10000\n",
       "3617        10000\n",
       "3618        10000\n",
       "3619         9000\n",
       "3620         7000\n",
       "3621         7000\n",
       "3622         7000\n",
       "3623         7000\n",
       "3624         6000\n",
       "3625         5000\n",
       "3626         1100\n",
       "Name: Budget, Length: 3627, dtype: int64"
      ]
     },
     "execution_count": 8,
     "metadata": {},
     "output_type": "execute_result"
    }
   ],
   "source": [
    "import csv\n",
    "import pandas as pd\n",
    "import numpy as np\n",
    "# Load the MovieDatra.csv\n",
    "f = open(\"MovieData.csv\", \"rb\")\n",
    "df = pd.read_csv(f, sep='\\t')\n",
    "df.head()\n",
    "type(df[\"Budget\"])\n",
    "pd.to_numeric(df[\"Budget\"], errors='coerce')"
   ]
  },
  {
   "cell_type": "code",
   "execution_count": 9,
   "metadata": {},
   "outputs": [
    {
     "data": {
      "text/plain": [
       "3627"
      ]
     },
     "execution_count": 9,
     "metadata": {},
     "output_type": "execute_result"
    }
   ],
   "source": [
    "len(df[\"Budget\"])"
   ]
  },
  {
   "cell_type": "code",
   "execution_count": 10,
   "metadata": {},
   "outputs": [
    {
     "data": {
      "text/plain": [
       "3627"
      ]
     },
     "execution_count": 10,
     "metadata": {},
     "output_type": "execute_result"
    }
   ],
   "source": [
    "df = df[pd.to_numeric(df[\"Budget\"], errors=\"coerce\").notnull()]\n",
    "len(df[\"Budget\"])"
   ]
  },
  {
   "cell_type": "code",
   "execution_count": 11,
   "metadata": {},
   "outputs": [
    {
     "data": {
      "text/plain": [
       "pandas.core.series.Series"
      ]
     },
     "execution_count": 11,
     "metadata": {},
     "output_type": "execute_result"
    }
   ],
   "source": [
    "type(df[\"Budget\"])"
   ]
  },
  {
   "cell_type": "code",
   "execution_count": 12,
   "metadata": {},
   "outputs": [
    {
     "name": "stdout",
     "output_type": "stream",
     "text": [
      "There were 1657 movies in the dataset with budgets greater than $20 million.\n"
     ]
    }
   ],
   "source": [
    "def greater_20million(num_list):\n",
    "    count = 0\n",
    "    for x in num_list:\n",
    "        x = int(x)\n",
    "        if x > 20000000:\n",
    "            count += 1\n",
    "    return count\n",
    "number = greater_20million(df[\"Budget\"])\n",
    "print(\"There were %d movies in the dataset with budgets greater than $20 million.\" % number)"
   ]
  },
  {
   "cell_type": "markdown",
   "metadata": {},
   "source": [
    "# Question 1 PART 2\n",
    "## c. How many movies were released by each film distributor?"
   ]
  },
  {
   "cell_type": "code",
   "execution_count": 13,
   "metadata": {},
   "outputs": [
    {
     "data": {
      "text/plain": [
       "pandas.core.series.Series"
      ]
     },
     "execution_count": 13,
     "metadata": {},
     "output_type": "execute_result"
    }
   ],
   "source": [
    "import csv\n",
    "import pandas as pd\n",
    "import numpy as np\n",
    "# Load the MovieDatra.csv\n",
    "f = open(\"MovieData.csv\", \"rb\")\n",
    "df = pd.read_csv(f, sep='\\t')\n",
    "df.head()\n",
    "type(df[\"Distributor\"])"
   ]
  },
  {
   "cell_type": "code",
   "execution_count": 14,
   "metadata": {},
   "outputs": [
    {
     "data": {
      "text/plain": [
       "3627"
      ]
     },
     "execution_count": 14,
     "metadata": {},
     "output_type": "execute_result"
    }
   ],
   "source": [
    "len(df[\"Distributor\"])"
   ]
  },
  {
   "cell_type": "code",
   "execution_count": 15,
   "metadata": {},
   "outputs": [
    {
     "data": {
      "text/plain": [
       "pandas.core.frame.DataFrame"
      ]
     },
     "execution_count": 15,
     "metadata": {},
     "output_type": "execute_result"
    }
   ],
   "source": [
    "df_dist = df[[\"Distributor\", \"Movie\"]]\n",
    "type(df)"
   ]
  },
  {
   "cell_type": "code",
   "execution_count": 16,
   "metadata": {},
   "outputs": [
    {
     "data": {
      "text/plain": [
       "pandas.core.series.Series"
      ]
     },
     "execution_count": 16,
     "metadata": {},
     "output_type": "execute_result"
    }
   ],
   "source": [
    "type(df_dist[\"Distributor\"])"
   ]
  },
  {
   "cell_type": "code",
   "execution_count": 17,
   "metadata": {},
   "outputs": [
    {
     "data": {
      "text/plain": [
       "pandas.core.series.Series"
      ]
     },
     "execution_count": 17,
     "metadata": {},
     "output_type": "execute_result"
    }
   ],
   "source": [
    "type(df_dist[\"Movie\"])"
   ]
  },
  {
   "cell_type": "code",
   "execution_count": 18,
   "metadata": {},
   "outputs": [
    {
     "name": "stdout",
     "output_type": "stream",
     "text": [
      "There are 209 unique film distributor names (including NaNs) for all 3627 movies.\n"
     ]
    }
   ],
   "source": [
    "# get the unique values (rows) by retaining last row\n",
    "unique_dist = df_dist[\"Distributor\"].drop_duplicates(keep='last')\n",
    "print(\"There are %d unique film distributor names (including NaNs) for all %d movies.\" \n",
    "      % (len(unique_dist), len(df_dist[\"Distributor\"])))"
   ]
  },
  {
   "cell_type": "code",
   "execution_count": 19,
   "metadata": {},
   "outputs": [
    {
     "data": {
      "text/plain": [
       "3627"
      ]
     },
     "execution_count": 19,
     "metadata": {},
     "output_type": "execute_result"
    }
   ],
   "source": [
    "dist_movies = df_dist.to_dict(\"records\")\n",
    "len(dist_movies)"
   ]
  },
  {
   "cell_type": "code",
   "execution_count": 20,
   "metadata": {},
   "outputs": [],
   "source": [
    "# create merged dictionary\n",
    "merged = {}\n",
    "for row in dist_movies:\n",
    "    for key, value in row.items():\n",
    "        try:\n",
    "            merged[key].append(value)\n",
    "        except KeyError:\n",
    "            merged[key] = [value]\n",
    "\n",
    "#for key, value in dist_movies:\n",
    "#    for key in line:\n",
    "#        print(value)"
   ]
  },
  {
   "cell_type": "code",
   "execution_count": 21,
   "metadata": {},
   "outputs": [
    {
     "data": {
      "text/plain": [
       "dict"
      ]
     },
     "execution_count": 21,
     "metadata": {},
     "output_type": "execute_result"
    }
   ],
   "source": [
    "type(merged)"
   ]
  },
  {
   "cell_type": "code",
   "execution_count": 22,
   "metadata": {},
   "outputs": [
    {
     "name": "stdout",
     "output_type": "stream",
     "text": [
      "The number of movies by each distributor are as follows.\n",
      " Distributor\n",
      "20th Century Fox                   230\n",
      "3D Entertainment                     1\n",
      "8 X Entertainment                    1\n",
      "ART                                  1\n",
      "Access                               1\n",
      "Alliance                             4\n",
      "American International Pictures      1\n",
      "Anchor Bay                           4\n",
      "Apparition                           4\n",
      "Artisan                             23\n",
      "Artistic License                     1\n",
      "Atlantic                             1\n",
      "Attitude Films                       1\n",
      "Avatar                               1\n",
      "Avco Embassy                         5\n",
      "Barking Cow                          1\n",
      "Big Pictures                         1\n",
      "Bigger Picture                       1\n",
      "Black Diamond Pictures               1\n",
      "Buena Vista                        227\n",
      "CBS Films                            3\n",
      "CFP                                  1\n",
      "CHRIST                               1\n",
      "Cannon                               4\n",
      "Cinema Service                       1\n",
      "Cinema con Sabor                     1\n",
      "Cloud Ten Pictures                   1\n",
      "Columbia                            26\n",
      "Consolidated Pictures Group          1\n",
      "Cowboy                               7\n",
      "                                  ... \n",
      "Third Rail                           2\n",
      "TriStar Pictures                     4\n",
      "Trimark                              9\n",
      "Triumph                              1\n",
      "Truly Indie                          1\n",
      "USA Films                           15\n",
      "United Artists                      23\n",
      "United Film Distribution             2\n",
      "Universal                          261\n",
      "Universal/Arenas Entertainment       1\n",
      "Universal/Rogue                      1\n",
      "Videos                               1\n",
      "Vitagraph Films                      2\n",
      "Walt Disney Co.                      9\n",
      "Walt Disney Pictures                 1\n",
      "Warner Bros.                       311\n",
      "Warner Independent                   3\n",
      "Warner Independent Pictures          7\n",
      "Weinstein                            1\n",
      "Weinstein Ci.                        1\n",
      "Weinstein Co.                       33\n",
      "Weinstein/Dimension                  1\n",
      "Weintraub                            2\n",
      "WellSpring                           2\n",
      "Wellspring                           1\n",
      "WinStar                              1\n",
      "Winstar                              1\n",
      "Yash Raj                             1\n",
      "Zeitgeist                            7\n",
      "Zion                                 1\n",
      "Length: 208, dtype: int64\n"
     ]
    }
   ],
   "source": [
    "merged_df = pd.DataFrame(merged)\n",
    "print(\"The number of movies by each distributor are as follows.\\n\", merged_df.groupby([\"Distributor\"]).size())"
   ]
  },
  {
   "cell_type": "markdown",
   "metadata": {},
   "source": [
    "# Question 2 PART 1\n",
    "## Load the earthquake data in QuakeData.csv, and use it to answer the questions.\n",
    "## a. How many earthquakes are in the dataset?"
   ]
  },
  {
   "cell_type": "code",
   "execution_count": 30,
   "metadata": {},
   "outputs": [
    {
     "data": {
      "text/html": [
       "<div>\n",
       "<style scoped>\n",
       "    .dataframe tbody tr th:only-of-type {\n",
       "        vertical-align: middle;\n",
       "    }\n",
       "\n",
       "    .dataframe tbody tr th {\n",
       "        vertical-align: top;\n",
       "    }\n",
       "\n",
       "    .dataframe thead th {\n",
       "        text-align: right;\n",
       "    }\n",
       "</style>\n",
       "<table border=\"1\" class=\"dataframe\">\n",
       "  <thead>\n",
       "    <tr style=\"text-align: right;\">\n",
       "      <th></th>\n",
       "      <th>DateTime,Latitude,Longitude,Depth,Magnitude,MagType,NbStations,Gap,Distance,RMS,Source,EventID,Version</th>\n",
       "    </tr>\n",
       "  </thead>\n",
       "  <tbody>\n",
       "    <tr>\n",
       "      <th>0</th>\n",
       "      <td>2012-01-01T00:30:08.770+00:00,12.008,143.487,3...</td>\n",
       "    </tr>\n",
       "    <tr>\n",
       "      <th>1</th>\n",
       "      <td>2012-01-01T00:43:42.770+00:00,12.014,143.536,3...</td>\n",
       "    </tr>\n",
       "    <tr>\n",
       "      <th>2</th>\n",
       "      <td>2012-01-01T00:50:08.040+00:00,-11.366,166.218,...</td>\n",
       "    </tr>\n",
       "    <tr>\n",
       "      <th>3</th>\n",
       "      <td>2012-01-01T01:22:07.660+00:00,-6.747,130.008,1...</td>\n",
       "    </tr>\n",
       "    <tr>\n",
       "      <th>4</th>\n",
       "      <td>2012-01-01T02:35:21.110+00:00,23.472,91.834,27...</td>\n",
       "    </tr>\n",
       "  </tbody>\n",
       "</table>\n",
       "</div>"
      ],
      "text/plain": [
       "  DateTime,Latitude,Longitude,Depth,Magnitude,MagType,NbStations,Gap,Distance,RMS,Source,EventID,Version\n",
       "0  2012-01-01T00:30:08.770+00:00,12.008,143.487,3...                                                    \n",
       "1  2012-01-01T00:43:42.770+00:00,12.014,143.536,3...                                                    \n",
       "2  2012-01-01T00:50:08.040+00:00,-11.366,166.218,...                                                    \n",
       "3  2012-01-01T01:22:07.660+00:00,-6.747,130.008,1...                                                    \n",
       "4  2012-01-01T02:35:21.110+00:00,23.472,91.834,27...                                                    "
      ]
     },
     "execution_count": 30,
     "metadata": {},
     "output_type": "execute_result"
    }
   ],
   "source": [
    "import csv\n",
    "import pandas as pd\n",
    "import numpy as np\n",
    "# Load the QuakeData.csv\n",
    "f = open(\"QuakeData.csv\", \"rb\")\n",
    "df = pd.read_csv(f, sep='\\t')\n",
    "df.head()"
   ]
  },
  {
   "cell_type": "code",
   "execution_count": 31,
   "metadata": {},
   "outputs": [
    {
     "data": {
      "text/html": [
       "<div>\n",
       "<style scoped>\n",
       "    .dataframe tbody tr th:only-of-type {\n",
       "        vertical-align: middle;\n",
       "    }\n",
       "\n",
       "    .dataframe tbody tr th {\n",
       "        vertical-align: top;\n",
       "    }\n",
       "\n",
       "    .dataframe thead th {\n",
       "        text-align: right;\n",
       "    }\n",
       "</style>\n",
       "<table border=\"1\" class=\"dataframe\">\n",
       "  <thead>\n",
       "    <tr style=\"text-align: right;\">\n",
       "      <th></th>\n",
       "      <th>DateTime,Latitude,Longitude,Depth,Magnitude,MagType,NbStations,Gap,Distance,RMS,Source,EventID,Version</th>\n",
       "    </tr>\n",
       "  </thead>\n",
       "  <tbody>\n",
       "    <tr>\n",
       "      <th>12679</th>\n",
       "      <td>2013-01-01T15:18:35.300+00:00,-1.085,126.956,2...</td>\n",
       "    </tr>\n",
       "    <tr>\n",
       "      <th>12680</th>\n",
       "      <td>2013-01-01T16:59:29.760+00:00,-5.302,104.149,8...</td>\n",
       "    </tr>\n",
       "    <tr>\n",
       "      <th>12681</th>\n",
       "      <td>2013-01-01T17:43:57.700+00:00,-55.991,-24.865,...</td>\n",
       "    </tr>\n",
       "    <tr>\n",
       "      <th>12682</th>\n",
       "      <td>2013-01-01T20:05:03.100+00:00,2.374,96.110,38....</td>\n",
       "    </tr>\n",
       "    <tr>\n",
       "      <th>12683</th>\n",
       "      <td>2013-01-01T23:40:40.540+00:00,36.613,71.460,14...</td>\n",
       "    </tr>\n",
       "  </tbody>\n",
       "</table>\n",
       "</div>"
      ],
      "text/plain": [
       "      DateTime,Latitude,Longitude,Depth,Magnitude,MagType,NbStations,Gap,Distance,RMS,Source,EventID,Version\n",
       "12679  2013-01-01T15:18:35.300+00:00,-1.085,126.956,2...                                                    \n",
       "12680  2013-01-01T16:59:29.760+00:00,-5.302,104.149,8...                                                    \n",
       "12681  2013-01-01T17:43:57.700+00:00,-55.991,-24.865,...                                                    \n",
       "12682  2013-01-01T20:05:03.100+00:00,2.374,96.110,38....                                                    \n",
       "12683  2013-01-01T23:40:40.540+00:00,36.613,71.460,14...                                                    "
      ]
     },
     "execution_count": 31,
     "metadata": {},
     "output_type": "execute_result"
    }
   ],
   "source": [
    "df.tail()"
   ]
  },
  {
   "cell_type": "code",
   "execution_count": 32,
   "metadata": {},
   "outputs": [
    {
     "data": {
      "text/plain": [
       "12684"
      ]
     },
     "execution_count": 32,
     "metadata": {},
     "output_type": "execute_result"
    }
   ],
   "source": [
    "len(df)"
   ]
  },
  {
   "cell_type": "markdown",
   "metadata": {},
   "source": [
    "# ANSWER TO Question 2 PART 1\n",
    "## a. How many earthquakes are in the dataset?"
   ]
  },
  {
   "cell_type": "code",
   "execution_count": 34,
   "metadata": {},
   "outputs": [
    {
     "name": "stdout",
     "output_type": "stream",
     "text": [
      "There are 12684 earthquakes in the dataset.\n"
     ]
    }
   ],
   "source": [
    "print(\"There are %d earthquakes in the dataset.\" % len(df))"
   ]
  },
  {
   "cell_type": "markdown",
   "metadata": {},
   "source": [
    "# Question 2 PART 2\n",
    "## b. What is the average magnitude of earthquakes in the dataset?"
   ]
  },
  {
   "cell_type": "code",
   "execution_count": 42,
   "metadata": {},
   "outputs": [
    {
     "data": {
      "text/html": [
       "<div>\n",
       "<style scoped>\n",
       "    .dataframe tbody tr th:only-of-type {\n",
       "        vertical-align: middle;\n",
       "    }\n",
       "\n",
       "    .dataframe tbody tr th {\n",
       "        vertical-align: top;\n",
       "    }\n",
       "\n",
       "    .dataframe thead th {\n",
       "        text-align: right;\n",
       "    }\n",
       "</style>\n",
       "<table border=\"1\" class=\"dataframe\">\n",
       "  <thead>\n",
       "    <tr style=\"text-align: right;\">\n",
       "      <th></th>\n",
       "      <th>DateTime</th>\n",
       "      <th>Latitude</th>\n",
       "      <th>Longitude</th>\n",
       "      <th>Depth</th>\n",
       "      <th>Magnitude</th>\n",
       "      <th>MagType</th>\n",
       "      <th>NbStations</th>\n",
       "      <th>Gap</th>\n",
       "      <th>Distance</th>\n",
       "      <th>RMS</th>\n",
       "      <th>Source</th>\n",
       "      <th>EventID</th>\n",
       "      <th>Version</th>\n",
       "    </tr>\n",
       "  </thead>\n",
       "  <tbody>\n",
       "    <tr>\n",
       "      <th>0</th>\n",
       "      <td>2012-01-01T00:30:08.770+00:00</td>\n",
       "      <td>12.008</td>\n",
       "      <td>143.487</td>\n",
       "      <td>35.0</td>\n",
       "      <td>5.1</td>\n",
       "      <td>mb</td>\n",
       "      <td>178</td>\n",
       "      <td>45</td>\n",
       "      <td>NaN</td>\n",
       "      <td>1.20</td>\n",
       "      <td>pde</td>\n",
       "      <td>pde20120101003008770_35</td>\n",
       "      <td>1363392487731</td>\n",
       "    </tr>\n",
       "    <tr>\n",
       "      <th>1</th>\n",
       "      <td>2012-01-01T00:43:42.770+00:00</td>\n",
       "      <td>12.014</td>\n",
       "      <td>143.536</td>\n",
       "      <td>35.0</td>\n",
       "      <td>4.4</td>\n",
       "      <td>mb</td>\n",
       "      <td>29</td>\n",
       "      <td>121</td>\n",
       "      <td>NaN</td>\n",
       "      <td>0.98</td>\n",
       "      <td>pde</td>\n",
       "      <td>pde20120101004342770_35</td>\n",
       "      <td>1363392488431</td>\n",
       "    </tr>\n",
       "    <tr>\n",
       "      <th>2</th>\n",
       "      <td>2012-01-01T00:50:08.040+00:00</td>\n",
       "      <td>-11.366</td>\n",
       "      <td>166.218</td>\n",
       "      <td>67.5</td>\n",
       "      <td>5.3</td>\n",
       "      <td>mb</td>\n",
       "      <td>143</td>\n",
       "      <td>43</td>\n",
       "      <td>NaN</td>\n",
       "      <td>0.82</td>\n",
       "      <td>pde</td>\n",
       "      <td>pde20120101005008040_67</td>\n",
       "      <td>1363392488479</td>\n",
       "    </tr>\n",
       "    <tr>\n",
       "      <th>3</th>\n",
       "      <td>2012-01-01T01:22:07.660+00:00</td>\n",
       "      <td>-6.747</td>\n",
       "      <td>130.008</td>\n",
       "      <td>145.0</td>\n",
       "      <td>4.2</td>\n",
       "      <td>mb</td>\n",
       "      <td>14</td>\n",
       "      <td>112</td>\n",
       "      <td>NaN</td>\n",
       "      <td>1.16</td>\n",
       "      <td>pde</td>\n",
       "      <td>pde20120101012207660_145</td>\n",
       "      <td>1363392488594</td>\n",
       "    </tr>\n",
       "    <tr>\n",
       "      <th>4</th>\n",
       "      <td>2012-01-01T02:35:21.110+00:00</td>\n",
       "      <td>23.472</td>\n",
       "      <td>91.834</td>\n",
       "      <td>27.8</td>\n",
       "      <td>4.6</td>\n",
       "      <td>mb</td>\n",
       "      <td>74</td>\n",
       "      <td>77</td>\n",
       "      <td>NaN</td>\n",
       "      <td>0.65</td>\n",
       "      <td>pde</td>\n",
       "      <td>pde20120101023521110_27</td>\n",
       "      <td>1363392488611</td>\n",
       "    </tr>\n",
       "  </tbody>\n",
       "</table>\n",
       "</div>"
      ],
      "text/plain": [
       "                        DateTime  Latitude  Longitude  Depth  Magnitude  \\\n",
       "0  2012-01-01T00:30:08.770+00:00    12.008    143.487   35.0        5.1   \n",
       "1  2012-01-01T00:43:42.770+00:00    12.014    143.536   35.0        4.4   \n",
       "2  2012-01-01T00:50:08.040+00:00   -11.366    166.218   67.5        5.3   \n",
       "3  2012-01-01T01:22:07.660+00:00    -6.747    130.008  145.0        4.2   \n",
       "4  2012-01-01T02:35:21.110+00:00    23.472     91.834   27.8        4.6   \n",
       "\n",
       "  MagType  NbStations  Gap  Distance   RMS Source                   EventID  \\\n",
       "0      mb         178   45       NaN  1.20    pde   pde20120101003008770_35   \n",
       "1      mb          29  121       NaN  0.98    pde   pde20120101004342770_35   \n",
       "2      mb         143   43       NaN  0.82    pde   pde20120101005008040_67   \n",
       "3      mb          14  112       NaN  1.16    pde  pde20120101012207660_145   \n",
       "4      mb          74   77       NaN  0.65    pde   pde20120101023521110_27   \n",
       "\n",
       "         Version  \n",
       "0  1363392487731  \n",
       "1  1363392488431  \n",
       "2  1363392488479  \n",
       "3  1363392488594  \n",
       "4  1363392488611  "
      ]
     },
     "execution_count": 42,
     "metadata": {},
     "output_type": "execute_result"
    }
   ],
   "source": [
    "import csv\n",
    "import pandas as pd\n",
    "import numpy as np\n",
    "# Load the QuakeData.csv\n",
    "f = open(\"QuakeData.csv\", \"rb\")\n",
    "df = pd.read_csv(f, sep=',')\n",
    "df.head()"
   ]
  },
  {
   "cell_type": "code",
   "execution_count": 44,
   "metadata": {},
   "outputs": [
    {
     "data": {
      "text/plain": [
       "12684"
      ]
     },
     "execution_count": 44,
     "metadata": {},
     "output_type": "execute_result"
    }
   ],
   "source": [
    "len(df[\"Magnitude\"])"
   ]
  },
  {
   "cell_type": "code",
   "execution_count": 46,
   "metadata": {},
   "outputs": [
    {
     "data": {
      "text/plain": [
       "12684"
      ]
     },
     "execution_count": 46,
     "metadata": {},
     "output_type": "execute_result"
    }
   ],
   "source": [
    "df = df[pd.to_numeric(df[\"Magnitude\"], errors=\"coerce\").notnull()]\n",
    "len(df[\"Magnitude\"])"
   ]
  },
  {
   "cell_type": "code",
   "execution_count": 47,
   "metadata": {},
   "outputs": [
    {
     "data": {
      "text/plain": [
       "pandas.core.series.Series"
      ]
     },
     "execution_count": 47,
     "metadata": {},
     "output_type": "execute_result"
    }
   ],
   "source": [
    "type(df[\"Magnitude\"])"
   ]
  },
  {
   "cell_type": "markdown",
   "metadata": {},
   "source": [
    "# ANSWER to Question 2 PART 2\n",
    "## b. What is the average magnitude of earthquakes in the dataset?"
   ]
  },
  {
   "cell_type": "code",
   "execution_count": 51,
   "metadata": {},
   "outputs": [
    {
     "name": "stdout",
     "output_type": "stream",
     "text": [
      "The average magnitude of earthquakes in the dataset is 4.\n"
     ]
    }
   ],
   "source": [
    "def find_mean(num_list):\n",
    "    total = 0.0\n",
    "    for x in num_list:\n",
    "        x = float(x)\n",
    "        total += x\n",
    "    return total / len(df[\"Magnitude\"])\n",
    "df_mean = find_mean(df[\"Magnitude\"])\n",
    "print(\"The average magnitude of earthquakes in the dataset is %d.\" % float(df_mean))"
   ]
  },
  {
   "cell_type": "markdown",
   "metadata": {},
   "source": [
    "# Question 2 PART 2\n",
    "## c. Do most earthquakes happen between midnight and noon, or noon to midnight?"
   ]
  },
  {
   "cell_type": "code",
   "execution_count": 52,
   "metadata": {},
   "outputs": [
    {
     "data": {
      "text/html": [
       "<div>\n",
       "<style scoped>\n",
       "    .dataframe tbody tr th:only-of-type {\n",
       "        vertical-align: middle;\n",
       "    }\n",
       "\n",
       "    .dataframe tbody tr th {\n",
       "        vertical-align: top;\n",
       "    }\n",
       "\n",
       "    .dataframe thead th {\n",
       "        text-align: right;\n",
       "    }\n",
       "</style>\n",
       "<table border=\"1\" class=\"dataframe\">\n",
       "  <thead>\n",
       "    <tr style=\"text-align: right;\">\n",
       "      <th></th>\n",
       "      <th>DateTime</th>\n",
       "      <th>Latitude</th>\n",
       "      <th>Longitude</th>\n",
       "      <th>Depth</th>\n",
       "      <th>Magnitude</th>\n",
       "      <th>MagType</th>\n",
       "      <th>NbStations</th>\n",
       "      <th>Gap</th>\n",
       "      <th>Distance</th>\n",
       "      <th>RMS</th>\n",
       "      <th>Source</th>\n",
       "      <th>EventID</th>\n",
       "      <th>Version</th>\n",
       "    </tr>\n",
       "  </thead>\n",
       "  <tbody>\n",
       "    <tr>\n",
       "      <th>0</th>\n",
       "      <td>2012-01-01T00:30:08.770+00:00</td>\n",
       "      <td>12.008</td>\n",
       "      <td>143.487</td>\n",
       "      <td>35.0</td>\n",
       "      <td>5.1</td>\n",
       "      <td>mb</td>\n",
       "      <td>178</td>\n",
       "      <td>45</td>\n",
       "      <td>NaN</td>\n",
       "      <td>1.20</td>\n",
       "      <td>pde</td>\n",
       "      <td>pde20120101003008770_35</td>\n",
       "      <td>1363392487731</td>\n",
       "    </tr>\n",
       "    <tr>\n",
       "      <th>1</th>\n",
       "      <td>2012-01-01T00:43:42.770+00:00</td>\n",
       "      <td>12.014</td>\n",
       "      <td>143.536</td>\n",
       "      <td>35.0</td>\n",
       "      <td>4.4</td>\n",
       "      <td>mb</td>\n",
       "      <td>29</td>\n",
       "      <td>121</td>\n",
       "      <td>NaN</td>\n",
       "      <td>0.98</td>\n",
       "      <td>pde</td>\n",
       "      <td>pde20120101004342770_35</td>\n",
       "      <td>1363392488431</td>\n",
       "    </tr>\n",
       "    <tr>\n",
       "      <th>2</th>\n",
       "      <td>2012-01-01T00:50:08.040+00:00</td>\n",
       "      <td>-11.366</td>\n",
       "      <td>166.218</td>\n",
       "      <td>67.5</td>\n",
       "      <td>5.3</td>\n",
       "      <td>mb</td>\n",
       "      <td>143</td>\n",
       "      <td>43</td>\n",
       "      <td>NaN</td>\n",
       "      <td>0.82</td>\n",
       "      <td>pde</td>\n",
       "      <td>pde20120101005008040_67</td>\n",
       "      <td>1363392488479</td>\n",
       "    </tr>\n",
       "    <tr>\n",
       "      <th>3</th>\n",
       "      <td>2012-01-01T01:22:07.660+00:00</td>\n",
       "      <td>-6.747</td>\n",
       "      <td>130.008</td>\n",
       "      <td>145.0</td>\n",
       "      <td>4.2</td>\n",
       "      <td>mb</td>\n",
       "      <td>14</td>\n",
       "      <td>112</td>\n",
       "      <td>NaN</td>\n",
       "      <td>1.16</td>\n",
       "      <td>pde</td>\n",
       "      <td>pde20120101012207660_145</td>\n",
       "      <td>1363392488594</td>\n",
       "    </tr>\n",
       "    <tr>\n",
       "      <th>4</th>\n",
       "      <td>2012-01-01T02:35:21.110+00:00</td>\n",
       "      <td>23.472</td>\n",
       "      <td>91.834</td>\n",
       "      <td>27.8</td>\n",
       "      <td>4.6</td>\n",
       "      <td>mb</td>\n",
       "      <td>74</td>\n",
       "      <td>77</td>\n",
       "      <td>NaN</td>\n",
       "      <td>0.65</td>\n",
       "      <td>pde</td>\n",
       "      <td>pde20120101023521110_27</td>\n",
       "      <td>1363392488611</td>\n",
       "    </tr>\n",
       "  </tbody>\n",
       "</table>\n",
       "</div>"
      ],
      "text/plain": [
       "                        DateTime  Latitude  Longitude  Depth  Magnitude  \\\n",
       "0  2012-01-01T00:30:08.770+00:00    12.008    143.487   35.0        5.1   \n",
       "1  2012-01-01T00:43:42.770+00:00    12.014    143.536   35.0        4.4   \n",
       "2  2012-01-01T00:50:08.040+00:00   -11.366    166.218   67.5        5.3   \n",
       "3  2012-01-01T01:22:07.660+00:00    -6.747    130.008  145.0        4.2   \n",
       "4  2012-01-01T02:35:21.110+00:00    23.472     91.834   27.8        4.6   \n",
       "\n",
       "  MagType  NbStations  Gap  Distance   RMS Source                   EventID  \\\n",
       "0      mb         178   45       NaN  1.20    pde   pde20120101003008770_35   \n",
       "1      mb          29  121       NaN  0.98    pde   pde20120101004342770_35   \n",
       "2      mb         143   43       NaN  0.82    pde   pde20120101005008040_67   \n",
       "3      mb          14  112       NaN  1.16    pde  pde20120101012207660_145   \n",
       "4      mb          74   77       NaN  0.65    pde   pde20120101023521110_27   \n",
       "\n",
       "         Version  \n",
       "0  1363392487731  \n",
       "1  1363392488431  \n",
       "2  1363392488479  \n",
       "3  1363392488594  \n",
       "4  1363392488611  "
      ]
     },
     "execution_count": 52,
     "metadata": {},
     "output_type": "execute_result"
    }
   ],
   "source": [
    "import csv\n",
    "import pandas as pd\n",
    "import numpy as np\n",
    "# Load the QuakeData.csv\n",
    "f = open(\"QuakeData.csv\", \"rb\")\n",
    "df = pd.read_csv(f, sep=',')\n",
    "df.head()"
   ]
  },
  {
   "cell_type": "code",
   "execution_count": 78,
   "metadata": {},
   "outputs": [
    {
     "data": {
      "text/plain": [
       "pandas.core.series.Series"
      ]
     },
     "execution_count": 78,
     "metadata": {},
     "output_type": "execute_result"
    }
   ],
   "source": [
    "import datetime as dt\n",
    "import re\n",
    "type(df[\"DateTime\"])"
   ]
  },
  {
   "cell_type": "code",
   "execution_count": 109,
   "metadata": {},
   "outputs": [
    {
     "data": {
      "text/plain": [
       "0    2012-01-01T00:30:08.770+00:00\n",
       "1    2012-01-01T00:43:42.770+00:00\n",
       "2    2012-01-01T00:50:08.040+00:00\n",
       "3    2012-01-01T01:22:07.660+00:00\n",
       "4    2012-01-01T02:35:21.110+00:00\n",
       "Name: DateTime, dtype: object"
      ]
     },
     "execution_count": 109,
     "metadata": {},
     "output_type": "execute_result"
    }
   ],
   "source": [
    "earthquake_df = df[\"DateTime\"]\n",
    "type(earthquake_df)\n",
    "earthquake_df.head()"
   ]
  },
  {
   "cell_type": "code",
   "execution_count": 120,
   "metadata": {
    "scrolled": true
   },
   "outputs": [
    {
     "ename": "KeyError",
     "evalue": "'2012-01-01T00:30:08.770+00:00'",
     "output_type": "error",
     "traceback": [
      "\u001b[1;31m---------------------------------------------------------------------------\u001b[0m",
      "\u001b[1;31mTypeError\u001b[0m                                 Traceback (most recent call last)",
      "\u001b[1;32mpandas\\_libs\\index.pyx\u001b[0m in \u001b[0;36mpandas._libs.index.IndexEngine.get_loc\u001b[1;34m()\u001b[0m\n",
      "\u001b[1;32mpandas\\_libs\\hashtable_class_helper.pxi\u001b[0m in \u001b[0;36mpandas._libs.hashtable.Int64HashTable.get_item\u001b[1;34m()\u001b[0m\n",
      "\u001b[1;31mTypeError\u001b[0m: an integer is required",
      "\nDuring handling of the above exception, another exception occurred:\n",
      "\u001b[1;31mKeyError\u001b[0m                                  Traceback (most recent call last)",
      "\u001b[1;32m<ipython-input-120-880eb6b84314>\u001b[0m in \u001b[0;36m<module>\u001b[1;34m()\u001b[0m\n\u001b[0;32m      1\u001b[0m \u001b[0mearthquake_dt\u001b[0m \u001b[1;33m=\u001b[0m \u001b[1;33m[\u001b[0m\u001b[1;33m]\u001b[0m\u001b[1;33m\u001b[0m\u001b[0m\n\u001b[0;32m      2\u001b[0m \u001b[1;32mfor\u001b[0m \u001b[0mi\u001b[0m \u001b[1;32min\u001b[0m \u001b[0mearthquake_df\u001b[0m\u001b[1;33m:\u001b[0m\u001b[1;33m\u001b[0m\u001b[0m\n\u001b[1;32m----> 3\u001b[1;33m     \u001b[0mearthquake_dt\u001b[0m\u001b[1;33m.\u001b[0m\u001b[0mappend\u001b[0m\u001b[1;33m(\u001b[0m\u001b[0mearthquake_df\u001b[0m\u001b[1;33m[\u001b[0m\u001b[0mi\u001b[0m\u001b[1;33m]\u001b[0m\u001b[1;33m)\u001b[0m\u001b[1;33m\u001b[0m\u001b[0m\n\u001b[0m\u001b[0;32m      4\u001b[0m \u001b[0mearthquake_dt\u001b[0m\u001b[1;33m\u001b[0m\u001b[0m\n",
      "\u001b[1;32mC:\\Users\\jenkij\\AppData\\Local\\Continuum\\anaconda3\\lib\\site-packages\\pandas\\core\\series.py\u001b[0m in \u001b[0;36m__getitem__\u001b[1;34m(self, key)\u001b[0m\n\u001b[0;32m    765\u001b[0m         \u001b[0mkey\u001b[0m \u001b[1;33m=\u001b[0m \u001b[0mcom\u001b[0m\u001b[1;33m.\u001b[0m\u001b[0m_apply_if_callable\u001b[0m\u001b[1;33m(\u001b[0m\u001b[0mkey\u001b[0m\u001b[1;33m,\u001b[0m \u001b[0mself\u001b[0m\u001b[1;33m)\u001b[0m\u001b[1;33m\u001b[0m\u001b[0m\n\u001b[0;32m    766\u001b[0m         \u001b[1;32mtry\u001b[0m\u001b[1;33m:\u001b[0m\u001b[1;33m\u001b[0m\u001b[0m\n\u001b[1;32m--> 767\u001b[1;33m             \u001b[0mresult\u001b[0m \u001b[1;33m=\u001b[0m \u001b[0mself\u001b[0m\u001b[1;33m.\u001b[0m\u001b[0mindex\u001b[0m\u001b[1;33m.\u001b[0m\u001b[0mget_value\u001b[0m\u001b[1;33m(\u001b[0m\u001b[0mself\u001b[0m\u001b[1;33m,\u001b[0m \u001b[0mkey\u001b[0m\u001b[1;33m)\u001b[0m\u001b[1;33m\u001b[0m\u001b[0m\n\u001b[0m\u001b[0;32m    768\u001b[0m \u001b[1;33m\u001b[0m\u001b[0m\n\u001b[0;32m    769\u001b[0m             \u001b[1;32mif\u001b[0m \u001b[1;32mnot\u001b[0m \u001b[0mis_scalar\u001b[0m\u001b[1;33m(\u001b[0m\u001b[0mresult\u001b[0m\u001b[1;33m)\u001b[0m\u001b[1;33m:\u001b[0m\u001b[1;33m\u001b[0m\u001b[0m\n",
      "\u001b[1;32mC:\\Users\\jenkij\\AppData\\Local\\Continuum\\anaconda3\\lib\\site-packages\\pandas\\core\\indexes\\base.py\u001b[0m in \u001b[0;36mget_value\u001b[1;34m(self, series, key)\u001b[0m\n\u001b[0;32m   3116\u001b[0m         \u001b[1;32mtry\u001b[0m\u001b[1;33m:\u001b[0m\u001b[1;33m\u001b[0m\u001b[0m\n\u001b[0;32m   3117\u001b[0m             return self._engine.get_value(s, k,\n\u001b[1;32m-> 3118\u001b[1;33m                                           tz=getattr(series.dtype, 'tz', None))\n\u001b[0m\u001b[0;32m   3119\u001b[0m         \u001b[1;32mexcept\u001b[0m \u001b[0mKeyError\u001b[0m \u001b[1;32mas\u001b[0m \u001b[0me1\u001b[0m\u001b[1;33m:\u001b[0m\u001b[1;33m\u001b[0m\u001b[0m\n\u001b[0;32m   3120\u001b[0m             \u001b[1;32mif\u001b[0m \u001b[0mlen\u001b[0m\u001b[1;33m(\u001b[0m\u001b[0mself\u001b[0m\u001b[1;33m)\u001b[0m \u001b[1;33m>\u001b[0m \u001b[1;36m0\u001b[0m \u001b[1;32mand\u001b[0m \u001b[0mself\u001b[0m\u001b[1;33m.\u001b[0m\u001b[0minferred_type\u001b[0m \u001b[1;32min\u001b[0m \u001b[1;33m[\u001b[0m\u001b[1;34m'integer'\u001b[0m\u001b[1;33m,\u001b[0m \u001b[1;34m'boolean'\u001b[0m\u001b[1;33m]\u001b[0m\u001b[1;33m:\u001b[0m\u001b[1;33m\u001b[0m\u001b[0m\n",
      "\u001b[1;32mpandas\\_libs\\index.pyx\u001b[0m in \u001b[0;36mpandas._libs.index.IndexEngine.get_value\u001b[1;34m()\u001b[0m\n",
      "\u001b[1;32mpandas\\_libs\\index.pyx\u001b[0m in \u001b[0;36mpandas._libs.index.IndexEngine.get_value\u001b[1;34m()\u001b[0m\n",
      "\u001b[1;32mpandas\\_libs\\index.pyx\u001b[0m in \u001b[0;36mpandas._libs.index.IndexEngine.get_loc\u001b[1;34m()\u001b[0m\n",
      "\u001b[1;31mKeyError\u001b[0m: '2012-01-01T00:30:08.770+00:00'"
     ]
    }
   ],
   "source": [
    "earthquake_dt = []\n",
    "for i in earthquake_df:\n",
    "    earthquake_dt.append(earthquake_df[i])\n",
    "earthquake_dt"
   ]
  },
  {
   "cell_type": "code",
   "execution_count": 106,
   "metadata": {},
   "outputs": [
    {
     "data": {
      "text/plain": [
       "[['2012-01-01', '01:22:07.660+00:00'],\n",
       " ['2012-01-01', '01:22:07.660+00:00'],\n",
       " ['2012-01-01', '01:22:07.660+00:00'],\n",
       " ['2012-01-01', '01:22:07.660+00:00'],\n",
       " ['2012-01-01', '01:22:07.660+00:00'],\n",
       " ['2012-01-01', '01:22:07.660+00:00'],\n",
       " ['2012-01-01', '01:22:07.660+00:00'],\n",
       " ['2012-01-01', '01:22:07.660+00:00'],\n",
       " ['2012-01-01', '01:22:07.660+00:00'],\n",
       " ['2012-01-01', '01:22:07.660+00:00'],\n",
       " ['2012-01-01', '01:22:07.660+00:00'],\n",
       " ['2012-01-01', '01:22:07.660+00:00'],\n",
       " ['2012-01-01', '01:22:07.660+00:00'],\n",
       " ['2012-01-01', '01:22:07.660+00:00'],\n",
       " ['2012-01-01', '01:22:07.660+00:00'],\n",
       " ['2012-01-01', '01:22:07.660+00:00'],\n",
       " ['2012-01-01', '01:22:07.660+00:00'],\n",
       " ['2012-01-01', '01:22:07.660+00:00'],\n",
       " ['2012-01-01', '01:22:07.660+00:00'],\n",
       " ['2012-01-01', '01:22:07.660+00:00'],\n",
       " ['2012-01-01', '01:22:07.660+00:00'],\n",
       " ['2012-01-01', '01:22:07.660+00:00'],\n",
       " ['2012-01-01', '01:22:07.660+00:00'],\n",
       " ['2012-01-01', '01:22:07.660+00:00'],\n",
       " ['2012-01-01', '01:22:07.660+00:00'],\n",
       " ['2012-01-01', '01:22:07.660+00:00'],\n",
       " ['2012-01-01', '01:22:07.660+00:00'],\n",
       " ['2012-01-01', '01:22:07.660+00:00'],\n",
       " ['2012-01-01', '01:22:07.660+00:00'],\n",
       " ['2012-01-01', '01:22:07.660+00:00'],\n",
       " ['2012-01-01', '01:22:07.660+00:00'],\n",
       " ['2012-01-01', '01:22:07.660+00:00'],\n",
       " ['2012-01-01', '01:22:07.660+00:00'],\n",
       " ['2012-01-01', '01:22:07.660+00:00'],\n",
       " ['2012-01-01', '01:22:07.660+00:00'],\n",
       " ['2012-01-01', '01:22:07.660+00:00'],\n",
       " ['2012-01-01', '01:22:07.660+00:00'],\n",
       " ['2012-01-01', '01:22:07.660+00:00'],\n",
       " ['2012-01-01', '01:22:07.660+00:00'],\n",
       " ['2012-01-01', '01:22:07.660+00:00'],\n",
       " ['2012-01-01', '01:22:07.660+00:00'],\n",
       " ['2012-01-01', '01:22:07.660+00:00'],\n",
       " ['2012-01-01', '01:22:07.660+00:00'],\n",
       " ['2012-01-01', '01:22:07.660+00:00'],\n",
       " ['2012-01-01', '01:22:07.660+00:00'],\n",
       " ['2012-01-01', '01:22:07.660+00:00'],\n",
       " ['2012-01-01', '01:22:07.660+00:00'],\n",
       " ['2012-01-01', '01:22:07.660+00:00'],\n",
       " ['2012-01-01', '01:22:07.660+00:00'],\n",
       " ['2012-01-01', '01:22:07.660+00:00'],\n",
       " ['2012-01-01', '01:22:07.660+00:00'],\n",
       " ['2012-01-01', '01:22:07.660+00:00'],\n",
       " ['2012-01-01', '01:22:07.660+00:00'],\n",
       " ['2012-01-01', '01:22:07.660+00:00'],\n",
       " ['2012-01-01', '01:22:07.660+00:00'],\n",
       " ['2012-01-01', '01:22:07.660+00:00'],\n",
       " ['2012-01-01', '01:22:07.660+00:00'],\n",
       " ['2012-01-01', '01:22:07.660+00:00'],\n",
       " ['2012-01-01', '01:22:07.660+00:00'],\n",
       " ['2012-01-01', '01:22:07.660+00:00'],\n",
       " ['2012-01-01', '01:22:07.660+00:00'],\n",
       " ['2012-01-01', '01:22:07.660+00:00'],\n",
       " ['2012-01-01', '01:22:07.660+00:00'],\n",
       " ['2012-01-01', '01:22:07.660+00:00'],\n",
       " ['2012-01-01', '01:22:07.660+00:00'],\n",
       " ['2012-01-01', '01:22:07.660+00:00'],\n",
       " ['2012-01-01', '01:22:07.660+00:00'],\n",
       " ['2012-01-01', '01:22:07.660+00:00'],\n",
       " ['2012-01-01', '01:22:07.660+00:00'],\n",
       " ['2012-01-01', '01:22:07.660+00:00'],\n",
       " ['2012-01-01', '01:22:07.660+00:00'],\n",
       " ['2012-01-01', '01:22:07.660+00:00'],\n",
       " ['2012-01-01', '01:22:07.660+00:00'],\n",
       " ['2012-01-01', '01:22:07.660+00:00'],\n",
       " ['2012-01-01', '01:22:07.660+00:00'],\n",
       " ['2012-01-01', '01:22:07.660+00:00'],\n",
       " ['2012-01-01', '01:22:07.660+00:00'],\n",
       " ['2012-01-01', '01:22:07.660+00:00'],\n",
       " ['2012-01-01', '01:22:07.660+00:00'],\n",
       " ['2012-01-01', '01:22:07.660+00:00'],\n",
       " ['2012-01-01', '01:22:07.660+00:00'],\n",
       " ['2012-01-01', '01:22:07.660+00:00'],\n",
       " ['2012-01-01', '01:22:07.660+00:00'],\n",
       " ['2012-01-01', '01:22:07.660+00:00'],\n",
       " ['2012-01-01', '01:22:07.660+00:00'],\n",
       " ['2012-01-01', '01:22:07.660+00:00'],\n",
       " ['2012-01-01', '01:22:07.660+00:00'],\n",
       " ['2012-01-01', '01:22:07.660+00:00'],\n",
       " ['2012-01-01', '01:22:07.660+00:00'],\n",
       " ['2012-01-01', '01:22:07.660+00:00'],\n",
       " ['2012-01-01', '01:22:07.660+00:00'],\n",
       " ['2012-01-01', '01:22:07.660+00:00'],\n",
       " ['2012-01-01', '01:22:07.660+00:00'],\n",
       " ['2012-01-01', '01:22:07.660+00:00'],\n",
       " ['2012-01-01', '01:22:07.660+00:00'],\n",
       " ['2012-01-01', '01:22:07.660+00:00'],\n",
       " ['2012-01-01', '01:22:07.660+00:00'],\n",
       " ['2012-01-01', '01:22:07.660+00:00'],\n",
       " ['2012-01-01', '01:22:07.660+00:00'],\n",
       " ['2012-01-01', '01:22:07.660+00:00'],\n",
       " ['2012-01-01', '01:22:07.660+00:00'],\n",
       " ['2012-01-01', '01:22:07.660+00:00'],\n",
       " ['2012-01-01', '01:22:07.660+00:00'],\n",
       " ['2012-01-01', '01:22:07.660+00:00'],\n",
       " ['2012-01-01', '01:22:07.660+00:00'],\n",
       " ['2012-01-01', '01:22:07.660+00:00'],\n",
       " ['2012-01-01', '01:22:07.660+00:00'],\n",
       " ['2012-01-01', '01:22:07.660+00:00'],\n",
       " ['2012-01-01', '01:22:07.660+00:00'],\n",
       " ['2012-01-01', '01:22:07.660+00:00'],\n",
       " ['2012-01-01', '01:22:07.660+00:00'],\n",
       " ['2012-01-01', '01:22:07.660+00:00'],\n",
       " ['2012-01-01', '01:22:07.660+00:00'],\n",
       " ['2012-01-01', '01:22:07.660+00:00'],\n",
       " ['2012-01-01', '01:22:07.660+00:00'],\n",
       " ['2012-01-01', '01:22:07.660+00:00'],\n",
       " ['2012-01-01', '01:22:07.660+00:00'],\n",
       " ['2012-01-01', '01:22:07.660+00:00'],\n",
       " ['2012-01-01', '01:22:07.660+00:00'],\n",
       " ['2012-01-01', '01:22:07.660+00:00'],\n",
       " ['2012-01-01', '01:22:07.660+00:00'],\n",
       " ['2012-01-01', '01:22:07.660+00:00'],\n",
       " ['2012-01-01', '01:22:07.660+00:00'],\n",
       " ['2012-01-01', '01:22:07.660+00:00'],\n",
       " ['2012-01-01', '01:22:07.660+00:00'],\n",
       " ['2012-01-01', '01:22:07.660+00:00'],\n",
       " ['2012-01-01', '01:22:07.660+00:00'],\n",
       " ['2012-01-01', '01:22:07.660+00:00'],\n",
       " ['2012-01-01', '01:22:07.660+00:00'],\n",
       " ['2012-01-01', '01:22:07.660+00:00'],\n",
       " ['2012-01-01', '01:22:07.660+00:00'],\n",
       " ['2012-01-01', '01:22:07.660+00:00'],\n",
       " ['2012-01-01', '01:22:07.660+00:00'],\n",
       " ['2012-01-01', '01:22:07.660+00:00'],\n",
       " ['2012-01-01', '01:22:07.660+00:00'],\n",
       " ['2012-01-01', '01:22:07.660+00:00'],\n",
       " ['2012-01-01', '01:22:07.660+00:00'],\n",
       " ['2012-01-01', '01:22:07.660+00:00'],\n",
       " ['2012-01-01', '01:22:07.660+00:00'],\n",
       " ['2012-01-01', '01:22:07.660+00:00'],\n",
       " ['2012-01-01', '01:22:07.660+00:00'],\n",
       " ['2012-01-01', '01:22:07.660+00:00'],\n",
       " ['2012-01-01', '01:22:07.660+00:00'],\n",
       " ['2012-01-01', '01:22:07.660+00:00'],\n",
       " ['2012-01-01', '01:22:07.660+00:00'],\n",
       " ['2012-01-01', '01:22:07.660+00:00'],\n",
       " ['2012-01-01', '01:22:07.660+00:00'],\n",
       " ['2012-01-01', '01:22:07.660+00:00'],\n",
       " ['2012-01-01', '01:22:07.660+00:00'],\n",
       " ['2012-01-01', '01:22:07.660+00:00'],\n",
       " ['2012-01-01', '01:22:07.660+00:00'],\n",
       " ['2012-01-01', '01:22:07.660+00:00'],\n",
       " ['2012-01-01', '01:22:07.660+00:00'],\n",
       " ['2012-01-01', '01:22:07.660+00:00'],\n",
       " ['2012-01-01', '01:22:07.660+00:00'],\n",
       " ['2012-01-01', '01:22:07.660+00:00'],\n",
       " ['2012-01-01', '01:22:07.660+00:00'],\n",
       " ['2012-01-01', '01:22:07.660+00:00'],\n",
       " ['2012-01-01', '01:22:07.660+00:00'],\n",
       " ['2012-01-01', '01:22:07.660+00:00'],\n",
       " ['2012-01-01', '01:22:07.660+00:00'],\n",
       " ['2012-01-01', '01:22:07.660+00:00'],\n",
       " ['2012-01-01', '01:22:07.660+00:00'],\n",
       " ['2012-01-01', '01:22:07.660+00:00'],\n",
       " ['2012-01-01', '01:22:07.660+00:00'],\n",
       " ['2012-01-01', '01:22:07.660+00:00'],\n",
       " ['2012-01-01', '01:22:07.660+00:00'],\n",
       " ['2012-01-01', '01:22:07.660+00:00'],\n",
       " ['2012-01-01', '01:22:07.660+00:00'],\n",
       " ['2012-01-01', '01:22:07.660+00:00'],\n",
       " ['2012-01-01', '01:22:07.660+00:00'],\n",
       " ['2012-01-01', '01:22:07.660+00:00'],\n",
       " ['2012-01-01', '01:22:07.660+00:00'],\n",
       " ['2012-01-01', '01:22:07.660+00:00'],\n",
       " ['2012-01-01', '01:22:07.660+00:00'],\n",
       " ['2012-01-01', '01:22:07.660+00:00'],\n",
       " ['2012-01-01', '01:22:07.660+00:00'],\n",
       " ['2012-01-01', '01:22:07.660+00:00'],\n",
       " ['2012-01-01', '01:22:07.660+00:00'],\n",
       " ['2012-01-01', '01:22:07.660+00:00'],\n",
       " ['2012-01-01', '01:22:07.660+00:00'],\n",
       " ['2012-01-01', '01:22:07.660+00:00'],\n",
       " ['2012-01-01', '01:22:07.660+00:00'],\n",
       " ['2012-01-01', '01:22:07.660+00:00'],\n",
       " ['2012-01-01', '01:22:07.660+00:00'],\n",
       " ['2012-01-01', '01:22:07.660+00:00'],\n",
       " ['2012-01-01', '01:22:07.660+00:00'],\n",
       " ['2012-01-01', '01:22:07.660+00:00'],\n",
       " ['2012-01-01', '01:22:07.660+00:00'],\n",
       " ['2012-01-01', '01:22:07.660+00:00'],\n",
       " ['2012-01-01', '01:22:07.660+00:00'],\n",
       " ['2012-01-01', '01:22:07.660+00:00'],\n",
       " ['2012-01-01', '01:22:07.660+00:00'],\n",
       " ['2012-01-01', '01:22:07.660+00:00'],\n",
       " ['2012-01-01', '01:22:07.660+00:00'],\n",
       " ['2012-01-01', '01:22:07.660+00:00'],\n",
       " ['2012-01-01', '01:22:07.660+00:00'],\n",
       " ['2012-01-01', '01:22:07.660+00:00'],\n",
       " ['2012-01-01', '01:22:07.660+00:00'],\n",
       " ['2012-01-01', '01:22:07.660+00:00'],\n",
       " ['2012-01-01', '01:22:07.660+00:00'],\n",
       " ['2012-01-01', '01:22:07.660+00:00'],\n",
       " ['2012-01-01', '01:22:07.660+00:00'],\n",
       " ['2012-01-01', '01:22:07.660+00:00'],\n",
       " ['2012-01-01', '01:22:07.660+00:00'],\n",
       " ['2012-01-01', '01:22:07.660+00:00'],\n",
       " ['2012-01-01', '01:22:07.660+00:00'],\n",
       " ['2012-01-01', '01:22:07.660+00:00'],\n",
       " ['2012-01-01', '01:22:07.660+00:00'],\n",
       " ['2012-01-01', '01:22:07.660+00:00'],\n",
       " ['2012-01-01', '01:22:07.660+00:00'],\n",
       " ['2012-01-01', '01:22:07.660+00:00'],\n",
       " ['2012-01-01', '01:22:07.660+00:00'],\n",
       " ['2012-01-01', '01:22:07.660+00:00'],\n",
       " ['2012-01-01', '01:22:07.660+00:00'],\n",
       " ['2012-01-01', '01:22:07.660+00:00'],\n",
       " ['2012-01-01', '01:22:07.660+00:00'],\n",
       " ['2012-01-01', '01:22:07.660+00:00'],\n",
       " ['2012-01-01', '01:22:07.660+00:00'],\n",
       " ['2012-01-01', '01:22:07.660+00:00'],\n",
       " ['2012-01-01', '01:22:07.660+00:00'],\n",
       " ['2012-01-01', '01:22:07.660+00:00'],\n",
       " ['2012-01-01', '01:22:07.660+00:00'],\n",
       " ['2012-01-01', '01:22:07.660+00:00'],\n",
       " ['2012-01-01', '01:22:07.660+00:00'],\n",
       " ['2012-01-01', '01:22:07.660+00:00'],\n",
       " ['2012-01-01', '01:22:07.660+00:00'],\n",
       " ['2012-01-01', '01:22:07.660+00:00'],\n",
       " ['2012-01-01', '01:22:07.660+00:00'],\n",
       " ['2012-01-01', '01:22:07.660+00:00'],\n",
       " ['2012-01-01', '01:22:07.660+00:00'],\n",
       " ['2012-01-01', '01:22:07.660+00:00'],\n",
       " ['2012-01-01', '01:22:07.660+00:00'],\n",
       " ['2012-01-01', '01:22:07.660+00:00'],\n",
       " ['2012-01-01', '01:22:07.660+00:00'],\n",
       " ['2012-01-01', '01:22:07.660+00:00'],\n",
       " ['2012-01-01', '01:22:07.660+00:00'],\n",
       " ['2012-01-01', '01:22:07.660+00:00'],\n",
       " ['2012-01-01', '01:22:07.660+00:00'],\n",
       " ['2012-01-01', '01:22:07.660+00:00'],\n",
       " ['2012-01-01', '01:22:07.660+00:00'],\n",
       " ['2012-01-01', '01:22:07.660+00:00'],\n",
       " ['2012-01-01', '01:22:07.660+00:00'],\n",
       " ['2012-01-01', '01:22:07.660+00:00'],\n",
       " ['2012-01-01', '01:22:07.660+00:00'],\n",
       " ['2012-01-01', '01:22:07.660+00:00'],\n",
       " ['2012-01-01', '01:22:07.660+00:00'],\n",
       " ['2012-01-01', '01:22:07.660+00:00'],\n",
       " ['2012-01-01', '01:22:07.660+00:00'],\n",
       " ['2012-01-01', '01:22:07.660+00:00'],\n",
       " ['2012-01-01', '01:22:07.660+00:00'],\n",
       " ['2012-01-01', '01:22:07.660+00:00'],\n",
       " ['2012-01-01', '01:22:07.660+00:00'],\n",
       " ['2012-01-01', '01:22:07.660+00:00'],\n",
       " ['2012-01-01', '01:22:07.660+00:00'],\n",
       " ['2012-01-01', '01:22:07.660+00:00'],\n",
       " ['2012-01-01', '01:22:07.660+00:00'],\n",
       " ['2012-01-01', '01:22:07.660+00:00'],\n",
       " ['2012-01-01', '01:22:07.660+00:00'],\n",
       " ['2012-01-01', '01:22:07.660+00:00'],\n",
       " ['2012-01-01', '01:22:07.660+00:00'],\n",
       " ['2012-01-01', '01:22:07.660+00:00'],\n",
       " ['2012-01-01', '01:22:07.660+00:00'],\n",
       " ['2012-01-01', '01:22:07.660+00:00'],\n",
       " ['2012-01-01', '01:22:07.660+00:00'],\n",
       " ['2012-01-01', '01:22:07.660+00:00'],\n",
       " ['2012-01-01', '01:22:07.660+00:00'],\n",
       " ['2012-01-01', '01:22:07.660+00:00'],\n",
       " ['2012-01-01', '01:22:07.660+00:00'],\n",
       " ['2012-01-01', '01:22:07.660+00:00'],\n",
       " ['2012-01-01', '01:22:07.660+00:00'],\n",
       " ['2012-01-01', '01:22:07.660+00:00'],\n",
       " ['2012-01-01', '01:22:07.660+00:00'],\n",
       " ['2012-01-01', '01:22:07.660+00:00'],\n",
       " ['2012-01-01', '01:22:07.660+00:00'],\n",
       " ['2012-01-01', '01:22:07.660+00:00'],\n",
       " ['2012-01-01', '01:22:07.660+00:00'],\n",
       " ['2012-01-01', '01:22:07.660+00:00'],\n",
       " ['2012-01-01', '01:22:07.660+00:00'],\n",
       " ['2012-01-01', '01:22:07.660+00:00'],\n",
       " ['2012-01-01', '01:22:07.660+00:00'],\n",
       " ['2012-01-01', '01:22:07.660+00:00'],\n",
       " ['2012-01-01', '01:22:07.660+00:00'],\n",
       " ['2012-01-01', '01:22:07.660+00:00'],\n",
       " ['2012-01-01', '01:22:07.660+00:00'],\n",
       " ['2012-01-01', '01:22:07.660+00:00'],\n",
       " ['2012-01-01', '01:22:07.660+00:00'],\n",
       " ['2012-01-01', '01:22:07.660+00:00'],\n",
       " ['2012-01-01', '01:22:07.660+00:00'],\n",
       " ['2012-01-01', '01:22:07.660+00:00'],\n",
       " ['2012-01-01', '01:22:07.660+00:00'],\n",
       " ['2012-01-01', '01:22:07.660+00:00'],\n",
       " ['2012-01-01', '01:22:07.660+00:00'],\n",
       " ['2012-01-01', '01:22:07.660+00:00'],\n",
       " ['2012-01-01', '01:22:07.660+00:00'],\n",
       " ['2012-01-01', '01:22:07.660+00:00'],\n",
       " ['2012-01-01', '01:22:07.660+00:00'],\n",
       " ['2012-01-01', '01:22:07.660+00:00'],\n",
       " ['2012-01-01', '01:22:07.660+00:00'],\n",
       " ['2012-01-01', '01:22:07.660+00:00'],\n",
       " ['2012-01-01', '01:22:07.660+00:00'],\n",
       " ['2012-01-01', '01:22:07.660+00:00'],\n",
       " ['2012-01-01', '01:22:07.660+00:00'],\n",
       " ['2012-01-01', '01:22:07.660+00:00'],\n",
       " ['2012-01-01', '01:22:07.660+00:00'],\n",
       " ['2012-01-01', '01:22:07.660+00:00'],\n",
       " ['2012-01-01', '01:22:07.660+00:00'],\n",
       " ['2012-01-01', '01:22:07.660+00:00'],\n",
       " ['2012-01-01', '01:22:07.660+00:00'],\n",
       " ['2012-01-01', '01:22:07.660+00:00'],\n",
       " ['2012-01-01', '01:22:07.660+00:00'],\n",
       " ['2012-01-01', '01:22:07.660+00:00'],\n",
       " ['2012-01-01', '01:22:07.660+00:00'],\n",
       " ['2012-01-01', '01:22:07.660+00:00'],\n",
       " ['2012-01-01', '01:22:07.660+00:00'],\n",
       " ['2012-01-01', '01:22:07.660+00:00'],\n",
       " ['2012-01-01', '01:22:07.660+00:00'],\n",
       " ['2012-01-01', '01:22:07.660+00:00'],\n",
       " ['2012-01-01', '01:22:07.660+00:00'],\n",
       " ['2012-01-01', '01:22:07.660+00:00'],\n",
       " ['2012-01-01', '01:22:07.660+00:00'],\n",
       " ['2012-01-01', '01:22:07.660+00:00'],\n",
       " ['2012-01-01', '01:22:07.660+00:00'],\n",
       " ['2012-01-01', '01:22:07.660+00:00'],\n",
       " ['2012-01-01', '01:22:07.660+00:00'],\n",
       " ['2012-01-01', '01:22:07.660+00:00'],\n",
       " ['2012-01-01', '01:22:07.660+00:00'],\n",
       " ['2012-01-01', '01:22:07.660+00:00'],\n",
       " ['2012-01-01', '01:22:07.660+00:00'],\n",
       " ['2012-01-01', '01:22:07.660+00:00'],\n",
       " ['2012-01-01', '01:22:07.660+00:00'],\n",
       " ['2012-01-01', '01:22:07.660+00:00'],\n",
       " ['2012-01-01', '01:22:07.660+00:00'],\n",
       " ['2012-01-01', '01:22:07.660+00:00'],\n",
       " ['2012-01-01', '01:22:07.660+00:00'],\n",
       " ['2012-01-01', '01:22:07.660+00:00'],\n",
       " ['2012-01-01', '01:22:07.660+00:00'],\n",
       " ['2012-01-01', '01:22:07.660+00:00'],\n",
       " ['2012-01-01', '01:22:07.660+00:00'],\n",
       " ['2012-01-01', '01:22:07.660+00:00'],\n",
       " ['2012-01-01', '01:22:07.660+00:00'],\n",
       " ['2012-01-01', '01:22:07.660+00:00'],\n",
       " ['2012-01-01', '01:22:07.660+00:00'],\n",
       " ['2012-01-01', '01:22:07.660+00:00'],\n",
       " ['2012-01-01', '01:22:07.660+00:00'],\n",
       " ['2012-01-01', '01:22:07.660+00:00'],\n",
       " ['2012-01-01', '01:22:07.660+00:00'],\n",
       " ['2012-01-01', '01:22:07.660+00:00'],\n",
       " ['2012-01-01', '01:22:07.660+00:00'],\n",
       " ['2012-01-01', '01:22:07.660+00:00'],\n",
       " ['2012-01-01', '01:22:07.660+00:00'],\n",
       " ['2012-01-01', '01:22:07.660+00:00'],\n",
       " ['2012-01-01', '01:22:07.660+00:00'],\n",
       " ['2012-01-01', '01:22:07.660+00:00'],\n",
       " ['2012-01-01', '01:22:07.660+00:00'],\n",
       " ['2012-01-01', '01:22:07.660+00:00'],\n",
       " ['2012-01-01', '01:22:07.660+00:00'],\n",
       " ['2012-01-01', '01:22:07.660+00:00'],\n",
       " ['2012-01-01', '01:22:07.660+00:00'],\n",
       " ['2012-01-01', '01:22:07.660+00:00'],\n",
       " ['2012-01-01', '01:22:07.660+00:00'],\n",
       " ['2012-01-01', '01:22:07.660+00:00'],\n",
       " ['2012-01-01', '01:22:07.660+00:00'],\n",
       " ['2012-01-01', '01:22:07.660+00:00'],\n",
       " ['2012-01-01', '01:22:07.660+00:00'],\n",
       " ['2012-01-01', '01:22:07.660+00:00'],\n",
       " ['2012-01-01', '01:22:07.660+00:00'],\n",
       " ['2012-01-01', '01:22:07.660+00:00'],\n",
       " ['2012-01-01', '01:22:07.660+00:00'],\n",
       " ['2012-01-01', '01:22:07.660+00:00'],\n",
       " ['2012-01-01', '01:22:07.660+00:00'],\n",
       " ['2012-01-01', '01:22:07.660+00:00'],\n",
       " ['2012-01-01', '01:22:07.660+00:00'],\n",
       " ['2012-01-01', '01:22:07.660+00:00'],\n",
       " ['2012-01-01', '01:22:07.660+00:00'],\n",
       " ['2012-01-01', '01:22:07.660+00:00'],\n",
       " ['2012-01-01', '01:22:07.660+00:00'],\n",
       " ['2012-01-01', '01:22:07.660+00:00'],\n",
       " ['2012-01-01', '01:22:07.660+00:00'],\n",
       " ['2012-01-01', '01:22:07.660+00:00'],\n",
       " ['2012-01-01', '01:22:07.660+00:00'],\n",
       " ['2012-01-01', '01:22:07.660+00:00'],\n",
       " ['2012-01-01', '01:22:07.660+00:00'],\n",
       " ['2012-01-01', '01:22:07.660+00:00'],\n",
       " ['2012-01-01', '01:22:07.660+00:00'],\n",
       " ['2012-01-01', '01:22:07.660+00:00'],\n",
       " ['2012-01-01', '01:22:07.660+00:00'],\n",
       " ['2012-01-01', '01:22:07.660+00:00'],\n",
       " ['2012-01-01', '01:22:07.660+00:00'],\n",
       " ['2012-01-01', '01:22:07.660+00:00'],\n",
       " ['2012-01-01', '01:22:07.660+00:00'],\n",
       " ['2012-01-01', '01:22:07.660+00:00'],\n",
       " ['2012-01-01', '01:22:07.660+00:00'],\n",
       " ['2012-01-01', '01:22:07.660+00:00'],\n",
       " ['2012-01-01', '01:22:07.660+00:00'],\n",
       " ['2012-01-01', '01:22:07.660+00:00'],\n",
       " ['2012-01-01', '01:22:07.660+00:00'],\n",
       " ['2012-01-01', '01:22:07.660+00:00'],\n",
       " ['2012-01-01', '01:22:07.660+00:00'],\n",
       " ['2012-01-01', '01:22:07.660+00:00'],\n",
       " ['2012-01-01', '01:22:07.660+00:00'],\n",
       " ['2012-01-01', '01:22:07.660+00:00'],\n",
       " ['2012-01-01', '01:22:07.660+00:00'],\n",
       " ['2012-01-01', '01:22:07.660+00:00'],\n",
       " ['2012-01-01', '01:22:07.660+00:00'],\n",
       " ['2012-01-01', '01:22:07.660+00:00'],\n",
       " ['2012-01-01', '01:22:07.660+00:00'],\n",
       " ['2012-01-01', '01:22:07.660+00:00'],\n",
       " ['2012-01-01', '01:22:07.660+00:00'],\n",
       " ['2012-01-01', '01:22:07.660+00:00'],\n",
       " ['2012-01-01', '01:22:07.660+00:00'],\n",
       " ['2012-01-01', '01:22:07.660+00:00'],\n",
       " ['2012-01-01', '01:22:07.660+00:00'],\n",
       " ['2012-01-01', '01:22:07.660+00:00'],\n",
       " ['2012-01-01', '01:22:07.660+00:00'],\n",
       " ['2012-01-01', '01:22:07.660+00:00'],\n",
       " ['2012-01-01', '01:22:07.660+00:00'],\n",
       " ['2012-01-01', '01:22:07.660+00:00'],\n",
       " ['2012-01-01', '01:22:07.660+00:00'],\n",
       " ['2012-01-01', '01:22:07.660+00:00'],\n",
       " ['2012-01-01', '01:22:07.660+00:00'],\n",
       " ['2012-01-01', '01:22:07.660+00:00'],\n",
       " ['2012-01-01', '01:22:07.660+00:00'],\n",
       " ['2012-01-01', '01:22:07.660+00:00'],\n",
       " ['2012-01-01', '01:22:07.660+00:00'],\n",
       " ['2012-01-01', '01:22:07.660+00:00'],\n",
       " ['2012-01-01', '01:22:07.660+00:00'],\n",
       " ['2012-01-01', '01:22:07.660+00:00'],\n",
       " ['2012-01-01', '01:22:07.660+00:00'],\n",
       " ['2012-01-01', '01:22:07.660+00:00'],\n",
       " ['2012-01-01', '01:22:07.660+00:00'],\n",
       " ['2012-01-01', '01:22:07.660+00:00'],\n",
       " ['2012-01-01', '01:22:07.660+00:00'],\n",
       " ['2012-01-01', '01:22:07.660+00:00'],\n",
       " ['2012-01-01', '01:22:07.660+00:00'],\n",
       " ['2012-01-01', '01:22:07.660+00:00'],\n",
       " ['2012-01-01', '01:22:07.660+00:00'],\n",
       " ['2012-01-01', '01:22:07.660+00:00'],\n",
       " ['2012-01-01', '01:22:07.660+00:00'],\n",
       " ['2012-01-01', '01:22:07.660+00:00'],\n",
       " ['2012-01-01', '01:22:07.660+00:00'],\n",
       " ['2012-01-01', '01:22:07.660+00:00'],\n",
       " ['2012-01-01', '01:22:07.660+00:00'],\n",
       " ['2012-01-01', '01:22:07.660+00:00'],\n",
       " ['2012-01-01', '01:22:07.660+00:00'],\n",
       " ['2012-01-01', '01:22:07.660+00:00'],\n",
       " ['2012-01-01', '01:22:07.660+00:00'],\n",
       " ['2012-01-01', '01:22:07.660+00:00'],\n",
       " ['2012-01-01', '01:22:07.660+00:00'],\n",
       " ['2012-01-01', '01:22:07.660+00:00'],\n",
       " ['2012-01-01', '01:22:07.660+00:00'],\n",
       " ['2012-01-01', '01:22:07.660+00:00'],\n",
       " ['2012-01-01', '01:22:07.660+00:00'],\n",
       " ['2012-01-01', '01:22:07.660+00:00'],\n",
       " ['2012-01-01', '01:22:07.660+00:00'],\n",
       " ['2012-01-01', '01:22:07.660+00:00'],\n",
       " ['2012-01-01', '01:22:07.660+00:00'],\n",
       " ['2012-01-01', '01:22:07.660+00:00'],\n",
       " ['2012-01-01', '01:22:07.660+00:00'],\n",
       " ['2012-01-01', '01:22:07.660+00:00'],\n",
       " ['2012-01-01', '01:22:07.660+00:00'],\n",
       " ['2012-01-01', '01:22:07.660+00:00'],\n",
       " ['2012-01-01', '01:22:07.660+00:00'],\n",
       " ['2012-01-01', '01:22:07.660+00:00'],\n",
       " ['2012-01-01', '01:22:07.660+00:00'],\n",
       " ['2012-01-01', '01:22:07.660+00:00'],\n",
       " ['2012-01-01', '01:22:07.660+00:00'],\n",
       " ['2012-01-01', '01:22:07.660+00:00'],\n",
       " ['2012-01-01', '01:22:07.660+00:00'],\n",
       " ['2012-01-01', '01:22:07.660+00:00'],\n",
       " ['2012-01-01', '01:22:07.660+00:00'],\n",
       " ['2012-01-01', '01:22:07.660+00:00'],\n",
       " ['2012-01-01', '01:22:07.660+00:00'],\n",
       " ['2012-01-01', '01:22:07.660+00:00'],\n",
       " ['2012-01-01', '01:22:07.660+00:00'],\n",
       " ['2012-01-01', '01:22:07.660+00:00'],\n",
       " ['2012-01-01', '01:22:07.660+00:00'],\n",
       " ['2012-01-01', '01:22:07.660+00:00'],\n",
       " ['2012-01-01', '01:22:07.660+00:00'],\n",
       " ['2012-01-01', '01:22:07.660+00:00'],\n",
       " ['2012-01-01', '01:22:07.660+00:00'],\n",
       " ['2012-01-01', '01:22:07.660+00:00'],\n",
       " ['2012-01-01', '01:22:07.660+00:00'],\n",
       " ['2012-01-01', '01:22:07.660+00:00'],\n",
       " ['2012-01-01', '01:22:07.660+00:00'],\n",
       " ['2012-01-01', '01:22:07.660+00:00'],\n",
       " ['2012-01-01', '01:22:07.660+00:00'],\n",
       " ['2012-01-01', '01:22:07.660+00:00'],\n",
       " ['2012-01-01', '01:22:07.660+00:00'],\n",
       " ['2012-01-01', '01:22:07.660+00:00'],\n",
       " ['2012-01-01', '01:22:07.660+00:00'],\n",
       " ['2012-01-01', '01:22:07.660+00:00'],\n",
       " ['2012-01-01', '01:22:07.660+00:00'],\n",
       " ['2012-01-01', '01:22:07.660+00:00'],\n",
       " ['2012-01-01', '01:22:07.660+00:00'],\n",
       " ['2012-01-01', '01:22:07.660+00:00'],\n",
       " ['2012-01-01', '01:22:07.660+00:00'],\n",
       " ['2012-01-01', '01:22:07.660+00:00'],\n",
       " ['2012-01-01', '01:22:07.660+00:00'],\n",
       " ['2012-01-01', '01:22:07.660+00:00'],\n",
       " ['2012-01-01', '01:22:07.660+00:00'],\n",
       " ['2012-01-01', '01:22:07.660+00:00'],\n",
       " ['2012-01-01', '01:22:07.660+00:00'],\n",
       " ['2012-01-01', '01:22:07.660+00:00'],\n",
       " ['2012-01-01', '01:22:07.660+00:00'],\n",
       " ['2012-01-01', '01:22:07.660+00:00'],\n",
       " ['2012-01-01', '01:22:07.660+00:00'],\n",
       " ['2012-01-01', '01:22:07.660+00:00'],\n",
       " ['2012-01-01', '01:22:07.660+00:00'],\n",
       " ['2012-01-01', '01:22:07.660+00:00'],\n",
       " ['2012-01-01', '01:22:07.660+00:00'],\n",
       " ['2012-01-01', '01:22:07.660+00:00'],\n",
       " ['2012-01-01', '01:22:07.660+00:00'],\n",
       " ['2012-01-01', '01:22:07.660+00:00'],\n",
       " ['2012-01-01', '01:22:07.660+00:00'],\n",
       " ['2012-01-01', '01:22:07.660+00:00'],\n",
       " ['2012-01-01', '01:22:07.660+00:00'],\n",
       " ['2012-01-01', '01:22:07.660+00:00'],\n",
       " ['2012-01-01', '01:22:07.660+00:00'],\n",
       " ['2012-01-01', '01:22:07.660+00:00'],\n",
       " ['2012-01-01', '01:22:07.660+00:00'],\n",
       " ['2012-01-01', '01:22:07.660+00:00'],\n",
       " ['2012-01-01', '01:22:07.660+00:00'],\n",
       " ['2012-01-01', '01:22:07.660+00:00'],\n",
       " ['2012-01-01', '01:22:07.660+00:00'],\n",
       " ['2012-01-01', '01:22:07.660+00:00'],\n",
       " ['2012-01-01', '01:22:07.660+00:00'],\n",
       " ['2012-01-01', '01:22:07.660+00:00'],\n",
       " ['2012-01-01', '01:22:07.660+00:00'],\n",
       " ['2012-01-01', '01:22:07.660+00:00'],\n",
       " ['2012-01-01', '01:22:07.660+00:00'],\n",
       " ['2012-01-01', '01:22:07.660+00:00'],\n",
       " ['2012-01-01', '01:22:07.660+00:00'],\n",
       " ['2012-01-01', '01:22:07.660+00:00'],\n",
       " ['2012-01-01', '01:22:07.660+00:00'],\n",
       " ['2012-01-01', '01:22:07.660+00:00'],\n",
       " ['2012-01-01', '01:22:07.660+00:00'],\n",
       " ['2012-01-01', '01:22:07.660+00:00'],\n",
       " ['2012-01-01', '01:22:07.660+00:00'],\n",
       " ['2012-01-01', '01:22:07.660+00:00'],\n",
       " ['2012-01-01', '01:22:07.660+00:00'],\n",
       " ['2012-01-01', '01:22:07.660+00:00'],\n",
       " ['2012-01-01', '01:22:07.660+00:00'],\n",
       " ['2012-01-01', '01:22:07.660+00:00'],\n",
       " ['2012-01-01', '01:22:07.660+00:00'],\n",
       " ['2012-01-01', '01:22:07.660+00:00'],\n",
       " ['2012-01-01', '01:22:07.660+00:00'],\n",
       " ['2012-01-01', '01:22:07.660+00:00'],\n",
       " ['2012-01-01', '01:22:07.660+00:00'],\n",
       " ['2012-01-01', '01:22:07.660+00:00'],\n",
       " ['2012-01-01', '01:22:07.660+00:00'],\n",
       " ['2012-01-01', '01:22:07.660+00:00'],\n",
       " ['2012-01-01', '01:22:07.660+00:00'],\n",
       " ['2012-01-01', '01:22:07.660+00:00'],\n",
       " ['2012-01-01', '01:22:07.660+00:00'],\n",
       " ['2012-01-01', '01:22:07.660+00:00'],\n",
       " ['2012-01-01', '01:22:07.660+00:00'],\n",
       " ['2012-01-01', '01:22:07.660+00:00'],\n",
       " ['2012-01-01', '01:22:07.660+00:00'],\n",
       " ['2012-01-01', '01:22:07.660+00:00'],\n",
       " ['2012-01-01', '01:22:07.660+00:00'],\n",
       " ['2012-01-01', '01:22:07.660+00:00'],\n",
       " ['2012-01-01', '01:22:07.660+00:00'],\n",
       " ['2012-01-01', '01:22:07.660+00:00'],\n",
       " ['2012-01-01', '01:22:07.660+00:00'],\n",
       " ['2012-01-01', '01:22:07.660+00:00'],\n",
       " ['2012-01-01', '01:22:07.660+00:00'],\n",
       " ['2012-01-01', '01:22:07.660+00:00'],\n",
       " ['2012-01-01', '01:22:07.660+00:00'],\n",
       " ['2012-01-01', '01:22:07.660+00:00'],\n",
       " ['2012-01-01', '01:22:07.660+00:00'],\n",
       " ['2012-01-01', '01:22:07.660+00:00'],\n",
       " ['2012-01-01', '01:22:07.660+00:00'],\n",
       " ['2012-01-01', '01:22:07.660+00:00'],\n",
       " ['2012-01-01', '01:22:07.660+00:00'],\n",
       " ['2012-01-01', '01:22:07.660+00:00'],\n",
       " ['2012-01-01', '01:22:07.660+00:00'],\n",
       " ['2012-01-01', '01:22:07.660+00:00'],\n",
       " ['2012-01-01', '01:22:07.660+00:00'],\n",
       " ['2012-01-01', '01:22:07.660+00:00'],\n",
       " ['2012-01-01', '01:22:07.660+00:00'],\n",
       " ['2012-01-01', '01:22:07.660+00:00'],\n",
       " ['2012-01-01', '01:22:07.660+00:00'],\n",
       " ['2012-01-01', '01:22:07.660+00:00'],\n",
       " ['2012-01-01', '01:22:07.660+00:00'],\n",
       " ['2012-01-01', '01:22:07.660+00:00'],\n",
       " ['2012-01-01', '01:22:07.660+00:00'],\n",
       " ['2012-01-01', '01:22:07.660+00:00'],\n",
       " ['2012-01-01', '01:22:07.660+00:00'],\n",
       " ['2012-01-01', '01:22:07.660+00:00'],\n",
       " ['2012-01-01', '01:22:07.660+00:00'],\n",
       " ['2012-01-01', '01:22:07.660+00:00'],\n",
       " ['2012-01-01', '01:22:07.660+00:00'],\n",
       " ['2012-01-01', '01:22:07.660+00:00'],\n",
       " ['2012-01-01', '01:22:07.660+00:00'],\n",
       " ['2012-01-01', '01:22:07.660+00:00'],\n",
       " ['2012-01-01', '01:22:07.660+00:00'],\n",
       " ['2012-01-01', '01:22:07.660+00:00'],\n",
       " ['2012-01-01', '01:22:07.660+00:00'],\n",
       " ['2012-01-01', '01:22:07.660+00:00'],\n",
       " ['2012-01-01', '01:22:07.660+00:00'],\n",
       " ['2012-01-01', '01:22:07.660+00:00'],\n",
       " ['2012-01-01', '01:22:07.660+00:00'],\n",
       " ['2012-01-01', '01:22:07.660+00:00'],\n",
       " ['2012-01-01', '01:22:07.660+00:00'],\n",
       " ['2012-01-01', '01:22:07.660+00:00'],\n",
       " ['2012-01-01', '01:22:07.660+00:00'],\n",
       " ['2012-01-01', '01:22:07.660+00:00'],\n",
       " ['2012-01-01', '01:22:07.660+00:00'],\n",
       " ['2012-01-01', '01:22:07.660+00:00'],\n",
       " ['2012-01-01', '01:22:07.660+00:00'],\n",
       " ['2012-01-01', '01:22:07.660+00:00'],\n",
       " ['2012-01-01', '01:22:07.660+00:00'],\n",
       " ['2012-01-01', '01:22:07.660+00:00'],\n",
       " ['2012-01-01', '01:22:07.660+00:00'],\n",
       " ['2012-01-01', '01:22:07.660+00:00'],\n",
       " ['2012-01-01', '01:22:07.660+00:00'],\n",
       " ['2012-01-01', '01:22:07.660+00:00'],\n",
       " ['2012-01-01', '01:22:07.660+00:00'],\n",
       " ['2012-01-01', '01:22:07.660+00:00'],\n",
       " ['2012-01-01', '01:22:07.660+00:00'],\n",
       " ['2012-01-01', '01:22:07.660+00:00'],\n",
       " ['2012-01-01', '01:22:07.660+00:00'],\n",
       " ['2012-01-01', '01:22:07.660+00:00'],\n",
       " ['2012-01-01', '01:22:07.660+00:00'],\n",
       " ['2012-01-01', '01:22:07.660+00:00'],\n",
       " ['2012-01-01', '01:22:07.660+00:00'],\n",
       " ['2012-01-01', '01:22:07.660+00:00'],\n",
       " ['2012-01-01', '01:22:07.660+00:00'],\n",
       " ['2012-01-01', '01:22:07.660+00:00'],\n",
       " ['2012-01-01', '01:22:07.660+00:00'],\n",
       " ['2012-01-01', '01:22:07.660+00:00'],\n",
       " ['2012-01-01', '01:22:07.660+00:00'],\n",
       " ['2012-01-01', '01:22:07.660+00:00'],\n",
       " ['2012-01-01', '01:22:07.660+00:00'],\n",
       " ['2012-01-01', '01:22:07.660+00:00'],\n",
       " ['2012-01-01', '01:22:07.660+00:00'],\n",
       " ['2012-01-01', '01:22:07.660+00:00'],\n",
       " ['2012-01-01', '01:22:07.660+00:00'],\n",
       " ['2012-01-01', '01:22:07.660+00:00'],\n",
       " ['2012-01-01', '01:22:07.660+00:00'],\n",
       " ['2012-01-01', '01:22:07.660+00:00'],\n",
       " ['2012-01-01', '01:22:07.660+00:00'],\n",
       " ['2012-01-01', '01:22:07.660+00:00'],\n",
       " ['2012-01-01', '01:22:07.660+00:00'],\n",
       " ['2012-01-01', '01:22:07.660+00:00'],\n",
       " ['2012-01-01', '01:22:07.660+00:00'],\n",
       " ['2012-01-01', '01:22:07.660+00:00'],\n",
       " ['2012-01-01', '01:22:07.660+00:00'],\n",
       " ['2012-01-01', '01:22:07.660+00:00'],\n",
       " ['2012-01-01', '01:22:07.660+00:00'],\n",
       " ['2012-01-01', '01:22:07.660+00:00'],\n",
       " ['2012-01-01', '01:22:07.660+00:00'],\n",
       " ['2012-01-01', '01:22:07.660+00:00'],\n",
       " ['2012-01-01', '01:22:07.660+00:00'],\n",
       " ['2012-01-01', '01:22:07.660+00:00'],\n",
       " ['2012-01-01', '01:22:07.660+00:00'],\n",
       " ['2012-01-01', '01:22:07.660+00:00'],\n",
       " ['2012-01-01', '01:22:07.660+00:00'],\n",
       " ['2012-01-01', '01:22:07.660+00:00'],\n",
       " ['2012-01-01', '01:22:07.660+00:00'],\n",
       " ['2012-01-01', '01:22:07.660+00:00'],\n",
       " ['2012-01-01', '01:22:07.660+00:00'],\n",
       " ['2012-01-01', '01:22:07.660+00:00'],\n",
       " ['2012-01-01', '01:22:07.660+00:00'],\n",
       " ['2012-01-01', '01:22:07.660+00:00'],\n",
       " ['2012-01-01', '01:22:07.660+00:00'],\n",
       " ['2012-01-01', '01:22:07.660+00:00'],\n",
       " ['2012-01-01', '01:22:07.660+00:00'],\n",
       " ['2012-01-01', '01:22:07.660+00:00'],\n",
       " ['2012-01-01', '01:22:07.660+00:00'],\n",
       " ['2012-01-01', '01:22:07.660+00:00'],\n",
       " ['2012-01-01', '01:22:07.660+00:00'],\n",
       " ['2012-01-01', '01:22:07.660+00:00'],\n",
       " ['2012-01-01', '01:22:07.660+00:00'],\n",
       " ['2012-01-01', '01:22:07.660+00:00'],\n",
       " ['2012-01-01', '01:22:07.660+00:00'],\n",
       " ['2012-01-01', '01:22:07.660+00:00'],\n",
       " ['2012-01-01', '01:22:07.660+00:00'],\n",
       " ['2012-01-01', '01:22:07.660+00:00'],\n",
       " ['2012-01-01', '01:22:07.660+00:00'],\n",
       " ['2012-01-01', '01:22:07.660+00:00'],\n",
       " ['2012-01-01', '01:22:07.660+00:00'],\n",
       " ['2012-01-01', '01:22:07.660+00:00'],\n",
       " ['2012-01-01', '01:22:07.660+00:00'],\n",
       " ['2012-01-01', '01:22:07.660+00:00'],\n",
       " ['2012-01-01', '01:22:07.660+00:00'],\n",
       " ['2012-01-01', '01:22:07.660+00:00'],\n",
       " ['2012-01-01', '01:22:07.660+00:00'],\n",
       " ['2012-01-01', '01:22:07.660+00:00'],\n",
       " ['2012-01-01', '01:22:07.660+00:00'],\n",
       " ['2012-01-01', '01:22:07.660+00:00'],\n",
       " ['2012-01-01', '01:22:07.660+00:00'],\n",
       " ['2012-01-01', '01:22:07.660+00:00'],\n",
       " ['2012-01-01', '01:22:07.660+00:00'],\n",
       " ['2012-01-01', '01:22:07.660+00:00'],\n",
       " ['2012-01-01', '01:22:07.660+00:00'],\n",
       " ['2012-01-01', '01:22:07.660+00:00'],\n",
       " ['2012-01-01', '01:22:07.660+00:00'],\n",
       " ['2012-01-01', '01:22:07.660+00:00'],\n",
       " ['2012-01-01', '01:22:07.660+00:00'],\n",
       " ['2012-01-01', '01:22:07.660+00:00'],\n",
       " ['2012-01-01', '01:22:07.660+00:00'],\n",
       " ['2012-01-01', '01:22:07.660+00:00'],\n",
       " ['2012-01-01', '01:22:07.660+00:00'],\n",
       " ['2012-01-01', '01:22:07.660+00:00'],\n",
       " ['2012-01-01', '01:22:07.660+00:00'],\n",
       " ['2012-01-01', '01:22:07.660+00:00'],\n",
       " ['2012-01-01', '01:22:07.660+00:00'],\n",
       " ['2012-01-01', '01:22:07.660+00:00'],\n",
       " ['2012-01-01', '01:22:07.660+00:00'],\n",
       " ['2012-01-01', '01:22:07.660+00:00'],\n",
       " ['2012-01-01', '01:22:07.660+00:00'],\n",
       " ['2012-01-01', '01:22:07.660+00:00'],\n",
       " ['2012-01-01', '01:22:07.660+00:00'],\n",
       " ['2012-01-01', '01:22:07.660+00:00'],\n",
       " ['2012-01-01', '01:22:07.660+00:00'],\n",
       " ['2012-01-01', '01:22:07.660+00:00'],\n",
       " ['2012-01-01', '01:22:07.660+00:00'],\n",
       " ['2012-01-01', '01:22:07.660+00:00'],\n",
       " ['2012-01-01', '01:22:07.660+00:00'],\n",
       " ['2012-01-01', '01:22:07.660+00:00'],\n",
       " ['2012-01-01', '01:22:07.660+00:00'],\n",
       " ['2012-01-01', '01:22:07.660+00:00'],\n",
       " ['2012-01-01', '01:22:07.660+00:00'],\n",
       " ['2012-01-01', '01:22:07.660+00:00'],\n",
       " ['2012-01-01', '01:22:07.660+00:00'],\n",
       " ['2012-01-01', '01:22:07.660+00:00'],\n",
       " ['2012-01-01', '01:22:07.660+00:00'],\n",
       " ['2012-01-01', '01:22:07.660+00:00'],\n",
       " ['2012-01-01', '01:22:07.660+00:00'],\n",
       " ['2012-01-01', '01:22:07.660+00:00'],\n",
       " ['2012-01-01', '01:22:07.660+00:00'],\n",
       " ['2012-01-01', '01:22:07.660+00:00'],\n",
       " ['2012-01-01', '01:22:07.660+00:00'],\n",
       " ['2012-01-01', '01:22:07.660+00:00'],\n",
       " ['2012-01-01', '01:22:07.660+00:00'],\n",
       " ['2012-01-01', '01:22:07.660+00:00'],\n",
       " ['2012-01-01', '01:22:07.660+00:00'],\n",
       " ['2012-01-01', '01:22:07.660+00:00'],\n",
       " ['2012-01-01', '01:22:07.660+00:00'],\n",
       " ['2012-01-01', '01:22:07.660+00:00'],\n",
       " ['2012-01-01', '01:22:07.660+00:00'],\n",
       " ['2012-01-01', '01:22:07.660+00:00'],\n",
       " ['2012-01-01', '01:22:07.660+00:00'],\n",
       " ['2012-01-01', '01:22:07.660+00:00'],\n",
       " ['2012-01-01', '01:22:07.660+00:00'],\n",
       " ['2012-01-01', '01:22:07.660+00:00'],\n",
       " ['2012-01-01', '01:22:07.660+00:00'],\n",
       " ['2012-01-01', '01:22:07.660+00:00'],\n",
       " ['2012-01-01', '01:22:07.660+00:00'],\n",
       " ['2012-01-01', '01:22:07.660+00:00'],\n",
       " ['2012-01-01', '01:22:07.660+00:00'],\n",
       " ['2012-01-01', '01:22:07.660+00:00'],\n",
       " ['2012-01-01', '01:22:07.660+00:00'],\n",
       " ['2012-01-01', '01:22:07.660+00:00'],\n",
       " ['2012-01-01', '01:22:07.660+00:00'],\n",
       " ['2012-01-01', '01:22:07.660+00:00'],\n",
       " ['2012-01-01', '01:22:07.660+00:00'],\n",
       " ['2012-01-01', '01:22:07.660+00:00'],\n",
       " ['2012-01-01', '01:22:07.660+00:00'],\n",
       " ['2012-01-01', '01:22:07.660+00:00'],\n",
       " ['2012-01-01', '01:22:07.660+00:00'],\n",
       " ['2012-01-01', '01:22:07.660+00:00'],\n",
       " ['2012-01-01', '01:22:07.660+00:00'],\n",
       " ['2012-01-01', '01:22:07.660+00:00'],\n",
       " ['2012-01-01', '01:22:07.660+00:00'],\n",
       " ['2012-01-01', '01:22:07.660+00:00'],\n",
       " ['2012-01-01', '01:22:07.660+00:00'],\n",
       " ['2012-01-01', '01:22:07.660+00:00'],\n",
       " ['2012-01-01', '01:22:07.660+00:00'],\n",
       " ['2012-01-01', '01:22:07.660+00:00'],\n",
       " ['2012-01-01', '01:22:07.660+00:00'],\n",
       " ['2012-01-01', '01:22:07.660+00:00'],\n",
       " ['2012-01-01', '01:22:07.660+00:00'],\n",
       " ['2012-01-01', '01:22:07.660+00:00'],\n",
       " ['2012-01-01', '01:22:07.660+00:00'],\n",
       " ['2012-01-01', '01:22:07.660+00:00'],\n",
       " ['2012-01-01', '01:22:07.660+00:00'],\n",
       " ['2012-01-01', '01:22:07.660+00:00'],\n",
       " ['2012-01-01', '01:22:07.660+00:00'],\n",
       " ['2012-01-01', '01:22:07.660+00:00'],\n",
       " ['2012-01-01', '01:22:07.660+00:00'],\n",
       " ['2012-01-01', '01:22:07.660+00:00'],\n",
       " ['2012-01-01', '01:22:07.660+00:00'],\n",
       " ['2012-01-01', '01:22:07.660+00:00'],\n",
       " ['2012-01-01', '01:22:07.660+00:00'],\n",
       " ['2012-01-01', '01:22:07.660+00:00'],\n",
       " ['2012-01-01', '01:22:07.660+00:00'],\n",
       " ['2012-01-01', '01:22:07.660+00:00'],\n",
       " ['2012-01-01', '01:22:07.660+00:00'],\n",
       " ['2012-01-01', '01:22:07.660+00:00'],\n",
       " ['2012-01-01', '01:22:07.660+00:00'],\n",
       " ['2012-01-01', '01:22:07.660+00:00'],\n",
       " ['2012-01-01', '01:22:07.660+00:00'],\n",
       " ['2012-01-01', '01:22:07.660+00:00'],\n",
       " ['2012-01-01', '01:22:07.660+00:00'],\n",
       " ['2012-01-01', '01:22:07.660+00:00'],\n",
       " ['2012-01-01', '01:22:07.660+00:00'],\n",
       " ['2012-01-01', '01:22:07.660+00:00'],\n",
       " ['2012-01-01', '01:22:07.660+00:00'],\n",
       " ['2012-01-01', '01:22:07.660+00:00'],\n",
       " ['2012-01-01', '01:22:07.660+00:00'],\n",
       " ['2012-01-01', '01:22:07.660+00:00'],\n",
       " ['2012-01-01', '01:22:07.660+00:00'],\n",
       " ['2012-01-01', '01:22:07.660+00:00'],\n",
       " ['2012-01-01', '01:22:07.660+00:00'],\n",
       " ['2012-01-01', '01:22:07.660+00:00'],\n",
       " ['2012-01-01', '01:22:07.660+00:00'],\n",
       " ['2012-01-01', '01:22:07.660+00:00'],\n",
       " ['2012-01-01', '01:22:07.660+00:00'],\n",
       " ['2012-01-01', '01:22:07.660+00:00'],\n",
       " ['2012-01-01', '01:22:07.660+00:00'],\n",
       " ['2012-01-01', '01:22:07.660+00:00'],\n",
       " ['2012-01-01', '01:22:07.660+00:00'],\n",
       " ['2012-01-01', '01:22:07.660+00:00'],\n",
       " ['2012-01-01', '01:22:07.660+00:00'],\n",
       " ['2012-01-01', '01:22:07.660+00:00'],\n",
       " ['2012-01-01', '01:22:07.660+00:00'],\n",
       " ['2012-01-01', '01:22:07.660+00:00'],\n",
       " ['2012-01-01', '01:22:07.660+00:00'],\n",
       " ['2012-01-01', '01:22:07.660+00:00'],\n",
       " ['2012-01-01', '01:22:07.660+00:00'],\n",
       " ['2012-01-01', '01:22:07.660+00:00'],\n",
       " ['2012-01-01', '01:22:07.660+00:00'],\n",
       " ['2012-01-01', '01:22:07.660+00:00'],\n",
       " ['2012-01-01', '01:22:07.660+00:00'],\n",
       " ['2012-01-01', '01:22:07.660+00:00'],\n",
       " ['2012-01-01', '01:22:07.660+00:00'],\n",
       " ['2012-01-01', '01:22:07.660+00:00'],\n",
       " ['2012-01-01', '01:22:07.660+00:00'],\n",
       " ['2012-01-01', '01:22:07.660+00:00'],\n",
       " ['2012-01-01', '01:22:07.660+00:00'],\n",
       " ['2012-01-01', '01:22:07.660+00:00'],\n",
       " ['2012-01-01', '01:22:07.660+00:00'],\n",
       " ['2012-01-01', '01:22:07.660+00:00'],\n",
       " ['2012-01-01', '01:22:07.660+00:00'],\n",
       " ['2012-01-01', '01:22:07.660+00:00'],\n",
       " ['2012-01-01', '01:22:07.660+00:00'],\n",
       " ['2012-01-01', '01:22:07.660+00:00'],\n",
       " ['2012-01-01', '01:22:07.660+00:00'],\n",
       " ['2012-01-01', '01:22:07.660+00:00'],\n",
       " ['2012-01-01', '01:22:07.660+00:00'],\n",
       " ['2012-01-01', '01:22:07.660+00:00'],\n",
       " ['2012-01-01', '01:22:07.660+00:00'],\n",
       " ['2012-01-01', '01:22:07.660+00:00'],\n",
       " ['2012-01-01', '01:22:07.660+00:00'],\n",
       " ['2012-01-01', '01:22:07.660+00:00'],\n",
       " ['2012-01-01', '01:22:07.660+00:00'],\n",
       " ['2012-01-01', '01:22:07.660+00:00'],\n",
       " ['2012-01-01', '01:22:07.660+00:00'],\n",
       " ['2012-01-01', '01:22:07.660+00:00'],\n",
       " ['2012-01-01', '01:22:07.660+00:00'],\n",
       " ['2012-01-01', '01:22:07.660+00:00'],\n",
       " ['2012-01-01', '01:22:07.660+00:00'],\n",
       " ['2012-01-01', '01:22:07.660+00:00'],\n",
       " ['2012-01-01', '01:22:07.660+00:00'],\n",
       " ['2012-01-01', '01:22:07.660+00:00'],\n",
       " ['2012-01-01', '01:22:07.660+00:00'],\n",
       " ['2012-01-01', '01:22:07.660+00:00'],\n",
       " ['2012-01-01', '01:22:07.660+00:00'],\n",
       " ['2012-01-01', '01:22:07.660+00:00'],\n",
       " ['2012-01-01', '01:22:07.660+00:00'],\n",
       " ['2012-01-01', '01:22:07.660+00:00'],\n",
       " ['2012-01-01', '01:22:07.660+00:00'],\n",
       " ['2012-01-01', '01:22:07.660+00:00'],\n",
       " ['2012-01-01', '01:22:07.660+00:00'],\n",
       " ['2012-01-01', '01:22:07.660+00:00'],\n",
       " ['2012-01-01', '01:22:07.660+00:00'],\n",
       " ['2012-01-01', '01:22:07.660+00:00'],\n",
       " ['2012-01-01', '01:22:07.660+00:00'],\n",
       " ['2012-01-01', '01:22:07.660+00:00'],\n",
       " ['2012-01-01', '01:22:07.660+00:00'],\n",
       " ['2012-01-01', '01:22:07.660+00:00'],\n",
       " ['2012-01-01', '01:22:07.660+00:00'],\n",
       " ['2012-01-01', '01:22:07.660+00:00'],\n",
       " ['2012-01-01', '01:22:07.660+00:00'],\n",
       " ['2012-01-01', '01:22:07.660+00:00'],\n",
       " ['2012-01-01', '01:22:07.660+00:00'],\n",
       " ['2012-01-01', '01:22:07.660+00:00'],\n",
       " ['2012-01-01', '01:22:07.660+00:00'],\n",
       " ['2012-01-01', '01:22:07.660+00:00'],\n",
       " ['2012-01-01', '01:22:07.660+00:00'],\n",
       " ['2012-01-01', '01:22:07.660+00:00'],\n",
       " ['2012-01-01', '01:22:07.660+00:00'],\n",
       " ['2012-01-01', '01:22:07.660+00:00'],\n",
       " ['2012-01-01', '01:22:07.660+00:00'],\n",
       " ['2012-01-01', '01:22:07.660+00:00'],\n",
       " ['2012-01-01', '01:22:07.660+00:00'],\n",
       " ['2012-01-01', '01:22:07.660+00:00'],\n",
       " ['2012-01-01', '01:22:07.660+00:00'],\n",
       " ['2012-01-01', '01:22:07.660+00:00'],\n",
       " ['2012-01-01', '01:22:07.660+00:00'],\n",
       " ['2012-01-01', '01:22:07.660+00:00'],\n",
       " ['2012-01-01', '01:22:07.660+00:00'],\n",
       " ['2012-01-01', '01:22:07.660+00:00'],\n",
       " ['2012-01-01', '01:22:07.660+00:00'],\n",
       " ['2012-01-01', '01:22:07.660+00:00'],\n",
       " ['2012-01-01', '01:22:07.660+00:00'],\n",
       " ['2012-01-01', '01:22:07.660+00:00'],\n",
       " ['2012-01-01', '01:22:07.660+00:00'],\n",
       " ['2012-01-01', '01:22:07.660+00:00'],\n",
       " ['2012-01-01', '01:22:07.660+00:00'],\n",
       " ['2012-01-01', '01:22:07.660+00:00'],\n",
       " ['2012-01-01', '01:22:07.660+00:00'],\n",
       " ['2012-01-01', '01:22:07.660+00:00'],\n",
       " ['2012-01-01', '01:22:07.660+00:00'],\n",
       " ['2012-01-01', '01:22:07.660+00:00'],\n",
       " ['2012-01-01', '01:22:07.660+00:00'],\n",
       " ['2012-01-01', '01:22:07.660+00:00'],\n",
       " ['2012-01-01', '01:22:07.660+00:00'],\n",
       " ['2012-01-01', '01:22:07.660+00:00'],\n",
       " ['2012-01-01', '01:22:07.660+00:00'],\n",
       " ['2012-01-01', '01:22:07.660+00:00'],\n",
       " ['2012-01-01', '01:22:07.660+00:00'],\n",
       " ['2012-01-01', '01:22:07.660+00:00'],\n",
       " ['2012-01-01', '01:22:07.660+00:00'],\n",
       " ['2012-01-01', '01:22:07.660+00:00'],\n",
       " ['2012-01-01', '01:22:07.660+00:00'],\n",
       " ['2012-01-01', '01:22:07.660+00:00'],\n",
       " ['2012-01-01', '01:22:07.660+00:00'],\n",
       " ['2012-01-01', '01:22:07.660+00:00'],\n",
       " ['2012-01-01', '01:22:07.660+00:00'],\n",
       " ['2012-01-01', '01:22:07.660+00:00'],\n",
       " ['2012-01-01', '01:22:07.660+00:00'],\n",
       " ['2012-01-01', '01:22:07.660+00:00'],\n",
       " ['2012-01-01', '01:22:07.660+00:00'],\n",
       " ['2012-01-01', '01:22:07.660+00:00'],\n",
       " ['2012-01-01', '01:22:07.660+00:00'],\n",
       " ['2012-01-01', '01:22:07.660+00:00'],\n",
       " ['2012-01-01', '01:22:07.660+00:00'],\n",
       " ['2012-01-01', '01:22:07.660+00:00'],\n",
       " ['2012-01-01', '01:22:07.660+00:00'],\n",
       " ['2012-01-01', '01:22:07.660+00:00'],\n",
       " ['2012-01-01', '01:22:07.660+00:00'],\n",
       " ['2012-01-01', '01:22:07.660+00:00'],\n",
       " ['2012-01-01', '01:22:07.660+00:00'],\n",
       " ['2012-01-01', '01:22:07.660+00:00'],\n",
       " ['2012-01-01', '01:22:07.660+00:00'],\n",
       " ['2012-01-01', '01:22:07.660+00:00'],\n",
       " ['2012-01-01', '01:22:07.660+00:00'],\n",
       " ['2012-01-01', '01:22:07.660+00:00'],\n",
       " ['2012-01-01', '01:22:07.660+00:00'],\n",
       " ['2012-01-01', '01:22:07.660+00:00'],\n",
       " ['2012-01-01', '01:22:07.660+00:00'],\n",
       " ['2012-01-01', '01:22:07.660+00:00'],\n",
       " ['2012-01-01', '01:22:07.660+00:00'],\n",
       " ['2012-01-01', '01:22:07.660+00:00'],\n",
       " ['2012-01-01', '01:22:07.660+00:00'],\n",
       " ['2012-01-01', '01:22:07.660+00:00'],\n",
       " ['2012-01-01', '01:22:07.660+00:00'],\n",
       " ['2012-01-01', '01:22:07.660+00:00'],\n",
       " ['2012-01-01', '01:22:07.660+00:00'],\n",
       " ['2012-01-01', '01:22:07.660+00:00'],\n",
       " ['2012-01-01', '01:22:07.660+00:00'],\n",
       " ['2012-01-01', '01:22:07.660+00:00'],\n",
       " ['2012-01-01', '01:22:07.660+00:00'],\n",
       " ['2012-01-01', '01:22:07.660+00:00'],\n",
       " ['2012-01-01', '01:22:07.660+00:00'],\n",
       " ['2012-01-01', '01:22:07.660+00:00'],\n",
       " ['2012-01-01', '01:22:07.660+00:00'],\n",
       " ['2012-01-01', '01:22:07.660+00:00'],\n",
       " ['2012-01-01', '01:22:07.660+00:00'],\n",
       " ['2012-01-01', '01:22:07.660+00:00'],\n",
       " ['2012-01-01', '01:22:07.660+00:00'],\n",
       " ['2012-01-01', '01:22:07.660+00:00'],\n",
       " ['2012-01-01', '01:22:07.660+00:00'],\n",
       " ['2012-01-01', '01:22:07.660+00:00'],\n",
       " ['2012-01-01', '01:22:07.660+00:00'],\n",
       " ['2012-01-01', '01:22:07.660+00:00'],\n",
       " ['2012-01-01', '01:22:07.660+00:00'],\n",
       " ['2012-01-01', '01:22:07.660+00:00'],\n",
       " ['2012-01-01', '01:22:07.660+00:00'],\n",
       " ['2012-01-01', '01:22:07.660+00:00'],\n",
       " ['2012-01-01', '01:22:07.660+00:00'],\n",
       " ['2012-01-01', '01:22:07.660+00:00'],\n",
       " ['2012-01-01', '01:22:07.660+00:00'],\n",
       " ['2012-01-01', '01:22:07.660+00:00'],\n",
       " ['2012-01-01', '01:22:07.660+00:00'],\n",
       " ['2012-01-01', '01:22:07.660+00:00'],\n",
       " ['2012-01-01', '01:22:07.660+00:00'],\n",
       " ['2012-01-01', '01:22:07.660+00:00'],\n",
       " ['2012-01-01', '01:22:07.660+00:00'],\n",
       " ['2012-01-01', '01:22:07.660+00:00'],\n",
       " ['2012-01-01', '01:22:07.660+00:00'],\n",
       " ['2012-01-01', '01:22:07.660+00:00'],\n",
       " ['2012-01-01', '01:22:07.660+00:00'],\n",
       " ['2012-01-01', '01:22:07.660+00:00'],\n",
       " ['2012-01-01', '01:22:07.660+00:00'],\n",
       " ['2012-01-01', '01:22:07.660+00:00'],\n",
       " ['2012-01-01', '01:22:07.660+00:00'],\n",
       " ['2012-01-01', '01:22:07.660+00:00'],\n",
       " ['2012-01-01', '01:22:07.660+00:00'],\n",
       " ['2012-01-01', '01:22:07.660+00:00'],\n",
       " ['2012-01-01', '01:22:07.660+00:00'],\n",
       " ['2012-01-01', '01:22:07.660+00:00'],\n",
       " ['2012-01-01', '01:22:07.660+00:00'],\n",
       " ['2012-01-01', '01:22:07.660+00:00'],\n",
       " ['2012-01-01', '01:22:07.660+00:00'],\n",
       " ['2012-01-01', '01:22:07.660+00:00'],\n",
       " ...]"
      ]
     },
     "execution_count": 106,
     "metadata": {},
     "output_type": "execute_result"
    }
   ],
   "source": [
    "split_string1 = []\n",
    "for i in earthquake_dt:\n",
    "    split_string = i.split(\"T\")\n",
    "    split_string1.append(split_string)\n",
    "split_string1"
   ]
  },
  {
   "cell_type": "code",
   "execution_count": null,
   "metadata": {},
   "outputs": [],
   "source": [
    "split_string2 = []\n",
    "for i in split_string1:\n",
    "    split_string2.append(split_string[1])\n"
   ]
  },
  {
   "cell_type": "code",
   "execution_count": null,
   "metadata": {},
   "outputs": [],
   "source": [
    "split_string3 = []\n",
    "for i in split_string2:\n",
    "    split_string2 = i.split(\"+\")\n",
    "    split_string3.append(split_string2)\n"
   ]
  },
  {
   "cell_type": "code",
   "execution_count": null,
   "metadata": {},
   "outputs": [],
   "source": [
    "#print(split_string3)\n",
    "split_string4 = []\n",
    "for i in split_string3:\n",
    "    split_string4.append(split_string3[0])\n",
    "    \n",
    "len(split_string4)"
   ]
  },
  {
   "cell_type": "code",
   "execution_count": null,
   "metadata": {},
   "outputs": [],
   "source": []
  },
  {
   "cell_type": "code",
   "execution_count": null,
   "metadata": {},
   "outputs": [],
   "source": []
  },
  {
   "cell_type": "code",
   "execution_count": 82,
   "metadata": {},
   "outputs": [
    {
     "ename": "AttributeError",
     "evalue": "'list' object has no attribute 'split'",
     "output_type": "error",
     "traceback": [
      "\u001b[1;31m---------------------------------------------------------------------------\u001b[0m",
      "\u001b[1;31mAttributeError\u001b[0m                            Traceback (most recent call last)",
      "\u001b[1;32m<ipython-input-82-45a2564af61d>\u001b[0m in \u001b[0;36m<module>\u001b[1;34m()\u001b[0m\n\u001b[1;32m----> 1\u001b[1;33m \u001b[0msplit_string\u001b[0m \u001b[1;33m=\u001b[0m \u001b[0mearthquake_dt\u001b[0m\u001b[1;33m.\u001b[0m\u001b[0msplit\u001b[0m\u001b[1;33m(\u001b[0m\u001b[1;34m\"-\"\u001b[0m\u001b[1;33m)\u001b[0m\u001b[1;33m\u001b[0m\u001b[0m\n\u001b[0m",
      "\u001b[1;31mAttributeError\u001b[0m: 'list' object has no attribute 'split'"
     ]
    }
   ],
   "source": [
    "split_string = earthquake_dt.split(\"-\")"
   ]
  },
  {
   "cell_type": "code",
   "execution_count": null,
   "metadata": {},
   "outputs": [],
   "source": []
  },
  {
   "cell_type": "code",
   "execution_count": null,
   "metadata": {},
   "outputs": [],
   "source": []
  },
  {
   "cell_type": "code",
   "execution_count": 76,
   "metadata": {},
   "outputs": [
    {
     "data": {
      "text/plain": [
       "str"
      ]
     },
     "execution_count": 76,
     "metadata": {},
     "output_type": "execute_result"
    }
   ],
   "source": [
    "earthquake_dt = earthquake_df[3]\n",
    "type(earthquake_dt)"
   ]
  },
  {
   "cell_type": "code",
   "execution_count": 77,
   "metadata": {},
   "outputs": [
    {
     "ename": "TypeError",
     "evalue": "'str' object cannot be interpreted as an integer",
     "output_type": "error",
     "traceback": [
      "\u001b[1;31m---------------------------------------------------------------------------\u001b[0m",
      "\u001b[1;31mTypeError\u001b[0m                                 Traceback (most recent call last)",
      "\u001b[1;32m<ipython-input-77-1f3c5bb7ea86>\u001b[0m in \u001b[0;36m<module>\u001b[1;34m()\u001b[0m\n\u001b[1;32m----> 1\u001b[1;33m \u001b[0msplit_string\u001b[0m \u001b[1;33m=\u001b[0m \u001b[0mearthquake_dt\u001b[0m\u001b[1;33m.\u001b[0m\u001b[0msplit\u001b[0m\u001b[1;33m(\u001b[0m\u001b[1;34m\"-\"\u001b[0m\u001b[1;33m,\u001b[0m \u001b[1;34m\"T\"\u001b[0m\u001b[1;33m)\u001b[0m\u001b[1;33m\u001b[0m\u001b[0m\n\u001b[0m\u001b[0;32m      2\u001b[0m \u001b[0mtype\u001b[0m\u001b[1;33m(\u001b[0m\u001b[0msplit_string\u001b[0m\u001b[1;33m)\u001b[0m\u001b[1;33m\u001b[0m\u001b[0m\n",
      "\u001b[1;31mTypeError\u001b[0m: 'str' object cannot be interpreted as an integer"
     ]
    }
   ],
   "source": [
    "split_string = earthquake_dt.split(\"-\")\n",
    "type(split_string)"
   ]
  },
  {
   "cell_type": "code",
   "execution_count": 73,
   "metadata": {},
   "outputs": [
    {
     "ename": "AttributeError",
     "evalue": "'list' object has no attribute 'split'",
     "output_type": "error",
     "traceback": [
      "\u001b[1;31m---------------------------------------------------------------------------\u001b[0m",
      "\u001b[1;31mAttributeError\u001b[0m                            Traceback (most recent call last)",
      "\u001b[1;32m<ipython-input-73-45b199cba612>\u001b[0m in \u001b[0;36m<module>\u001b[1;34m()\u001b[0m\n\u001b[1;32m----> 1\u001b[1;33m \u001b[0msplit_string\u001b[0m \u001b[1;33m=\u001b[0m \u001b[0msplit_string\u001b[0m\u001b[1;33m.\u001b[0m\u001b[0msplit\u001b[0m\u001b[1;33m(\u001b[0m\u001b[1;34m\"T\"\u001b[0m\u001b[1;33m)\u001b[0m\u001b[1;33m\u001b[0m\u001b[0m\n\u001b[0m\u001b[0;32m      2\u001b[0m \u001b[0msplit_string\u001b[0m\u001b[1;33m\u001b[0m\u001b[0m\n",
      "\u001b[1;31mAttributeError\u001b[0m: 'list' object has no attribute 'split'"
     ]
    }
   ],
   "source": [
    "split_string = split_string.split(\"T\")\n",
    "split_string"
   ]
  },
  {
   "cell_type": "code",
   "execution_count": null,
   "metadata": {},
   "outputs": [],
   "source": [
    "split_string = earthquake_dt.split(\"+\")"
   ]
  },
  {
   "cell_type": "code",
   "execution_count": null,
   "metadata": {},
   "outputs": [],
   "source": [
    "split_string"
   ]
  },
  {
   "cell_type": "code",
   "execution_count": null,
   "metadata": {},
   "outputs": [],
   "source": []
  },
  {
   "cell_type": "code",
   "execution_count": 65,
   "metadata": {},
   "outputs": [
    {
     "data": {
      "text/plain": [
       "1"
      ]
     },
     "execution_count": 65,
     "metadata": {},
     "output_type": "execute_result"
    }
   ],
   "source": [
    "len(split_string)"
   ]
  },
  {
   "cell_type": "code",
   "execution_count": null,
   "metadata": {},
   "outputs": [],
   "source": []
  },
  {
   "cell_type": "code",
   "execution_count": null,
   "metadata": {},
   "outputs": [],
   "source": []
  },
  {
   "cell_type": "code",
   "execution_count": null,
   "metadata": {},
   "outputs": [],
   "source": []
  },
  {
   "cell_type": "code",
   "execution_count": 59,
   "metadata": {},
   "outputs": [
    {
     "ename": "AttributeError",
     "evalue": "'Series' object has no attribute 'split'",
     "output_type": "error",
     "traceback": [
      "\u001b[1;31m---------------------------------------------------------------------------\u001b[0m",
      "\u001b[1;31mAttributeError\u001b[0m                            Traceback (most recent call last)",
      "\u001b[1;32m<ipython-input-59-fa70369999df>\u001b[0m in \u001b[0;36m<module>\u001b[1;34m()\u001b[0m\n\u001b[0;32m      1\u001b[0m \u001b[1;32mfor\u001b[0m \u001b[0mrow\u001b[0m \u001b[1;32min\u001b[0m \u001b[0mearthquake_df\u001b[0m\u001b[1;33m:\u001b[0m\u001b[1;33m\u001b[0m\u001b[0m\n\u001b[1;32m----> 2\u001b[1;33m     \u001b[0mearthquake_time\u001b[0m \u001b[1;33m=\u001b[0m \u001b[0mdf\u001b[0m\u001b[1;33m[\u001b[0m\u001b[1;34m\"DateTime\"\u001b[0m\u001b[1;33m]\u001b[0m\u001b[1;33m.\u001b[0m\u001b[0msplit\u001b[0m\u001b[1;33m(\u001b[0m\u001b[1;34m\"-\"\u001b[0m\u001b[1;33m)\u001b[0m\u001b[1;33m\u001b[0m\u001b[0m\n\u001b[0m",
      "\u001b[1;32mC:\\Users\\jenkij\\AppData\\Local\\Continuum\\anaconda3\\lib\\site-packages\\pandas\\core\\generic.py\u001b[0m in \u001b[0;36m__getattr__\u001b[1;34m(self, name)\u001b[0m\n\u001b[0;32m   4374\u001b[0m             \u001b[1;32mif\u001b[0m \u001b[0mself\u001b[0m\u001b[1;33m.\u001b[0m\u001b[0m_info_axis\u001b[0m\u001b[1;33m.\u001b[0m\u001b[0m_can_hold_identifiers_and_holds_name\u001b[0m\u001b[1;33m(\u001b[0m\u001b[0mname\u001b[0m\u001b[1;33m)\u001b[0m\u001b[1;33m:\u001b[0m\u001b[1;33m\u001b[0m\u001b[0m\n\u001b[0;32m   4375\u001b[0m                 \u001b[1;32mreturn\u001b[0m \u001b[0mself\u001b[0m\u001b[1;33m[\u001b[0m\u001b[0mname\u001b[0m\u001b[1;33m]\u001b[0m\u001b[1;33m\u001b[0m\u001b[0m\n\u001b[1;32m-> 4376\u001b[1;33m             \u001b[1;32mreturn\u001b[0m \u001b[0mobject\u001b[0m\u001b[1;33m.\u001b[0m\u001b[0m__getattribute__\u001b[0m\u001b[1;33m(\u001b[0m\u001b[0mself\u001b[0m\u001b[1;33m,\u001b[0m \u001b[0mname\u001b[0m\u001b[1;33m)\u001b[0m\u001b[1;33m\u001b[0m\u001b[0m\n\u001b[0m\u001b[0;32m   4377\u001b[0m \u001b[1;33m\u001b[0m\u001b[0m\n\u001b[0;32m   4378\u001b[0m     \u001b[1;32mdef\u001b[0m \u001b[0m__setattr__\u001b[0m\u001b[1;33m(\u001b[0m\u001b[0mself\u001b[0m\u001b[1;33m,\u001b[0m \u001b[0mname\u001b[0m\u001b[1;33m,\u001b[0m \u001b[0mvalue\u001b[0m\u001b[1;33m)\u001b[0m\u001b[1;33m:\u001b[0m\u001b[1;33m\u001b[0m\u001b[0m\n",
      "\u001b[1;31mAttributeError\u001b[0m: 'Series' object has no attribute 'split'"
     ]
    }
   ],
   "source": [
    "for row in earthquake_df:\n",
    "    earthquake_time = df[\"DateTime\"].split(\"-\")"
   ]
  },
  {
   "cell_type": "code",
   "execution_count": null,
   "metadata": {},
   "outputs": [],
   "source": []
  },
  {
   "cell_type": "code",
   "execution_count": 55,
   "metadata": {},
   "outputs": [
    {
     "ename": "AttributeError",
     "evalue": "'Series' object has no attribute 'split'",
     "output_type": "error",
     "traceback": [
      "\u001b[1;31m---------------------------------------------------------------------------\u001b[0m",
      "\u001b[1;31mAttributeError\u001b[0m                            Traceback (most recent call last)",
      "\u001b[1;32m<ipython-input-55-0456b36ab223>\u001b[0m in \u001b[0;36m<module>\u001b[1;34m()\u001b[0m\n\u001b[1;32m----> 1\u001b[1;33m \u001b[0mearthquake_time\u001b[0m \u001b[1;33m=\u001b[0m \u001b[0mdf\u001b[0m\u001b[1;33m[\u001b[0m\u001b[1;34m\"DateTime\"\u001b[0m\u001b[1;33m]\u001b[0m\u001b[1;33m.\u001b[0m\u001b[0msplit\u001b[0m\u001b[1;33m(\u001b[0m\u001b[1;34m\"-\"\u001b[0m\u001b[1;33m)\u001b[0m\u001b[1;33m\u001b[0m\u001b[0m\n\u001b[0m",
      "\u001b[1;32mC:\\Users\\jenkij\\AppData\\Local\\Continuum\\anaconda3\\lib\\site-packages\\pandas\\core\\generic.py\u001b[0m in \u001b[0;36m__getattr__\u001b[1;34m(self, name)\u001b[0m\n\u001b[0;32m   4374\u001b[0m             \u001b[1;32mif\u001b[0m \u001b[0mself\u001b[0m\u001b[1;33m.\u001b[0m\u001b[0m_info_axis\u001b[0m\u001b[1;33m.\u001b[0m\u001b[0m_can_hold_identifiers_and_holds_name\u001b[0m\u001b[1;33m(\u001b[0m\u001b[0mname\u001b[0m\u001b[1;33m)\u001b[0m\u001b[1;33m:\u001b[0m\u001b[1;33m\u001b[0m\u001b[0m\n\u001b[0;32m   4375\u001b[0m                 \u001b[1;32mreturn\u001b[0m \u001b[0mself\u001b[0m\u001b[1;33m[\u001b[0m\u001b[0mname\u001b[0m\u001b[1;33m]\u001b[0m\u001b[1;33m\u001b[0m\u001b[0m\n\u001b[1;32m-> 4376\u001b[1;33m             \u001b[1;32mreturn\u001b[0m \u001b[0mobject\u001b[0m\u001b[1;33m.\u001b[0m\u001b[0m__getattribute__\u001b[0m\u001b[1;33m(\u001b[0m\u001b[0mself\u001b[0m\u001b[1;33m,\u001b[0m \u001b[0mname\u001b[0m\u001b[1;33m)\u001b[0m\u001b[1;33m\u001b[0m\u001b[0m\n\u001b[0m\u001b[0;32m   4377\u001b[0m \u001b[1;33m\u001b[0m\u001b[0m\n\u001b[0;32m   4378\u001b[0m     \u001b[1;32mdef\u001b[0m \u001b[0m__setattr__\u001b[0m\u001b[1;33m(\u001b[0m\u001b[0mself\u001b[0m\u001b[1;33m,\u001b[0m \u001b[0mname\u001b[0m\u001b[1;33m,\u001b[0m \u001b[0mvalue\u001b[0m\u001b[1;33m)\u001b[0m\u001b[1;33m:\u001b[0m\u001b[1;33m\u001b[0m\u001b[0m\n",
      "\u001b[1;31mAttributeError\u001b[0m: 'Series' object has no attribute 'split'"
     ]
    }
   ],
   "source": [
    "earthquake_time = df[\"DateTime\"].split(\"-\")"
   ]
  },
  {
   "cell_type": "code",
   "execution_count": null,
   "metadata": {},
   "outputs": [],
   "source": []
  }
 ],
 "metadata": {
  "kernelspec": {
   "display_name": "Python 3",
   "language": "python",
   "name": "python3"
  },
  "language_info": {
   "codemirror_mode": {
    "name": "ipython",
    "version": 3
   },
   "file_extension": ".py",
   "mimetype": "text/x-python",
   "name": "python",
   "nbconvert_exporter": "python",
   "pygments_lexer": "ipython3",
   "version": "3.6.6"
  }
 },
 "nbformat": 4,
 "nbformat_minor": 2
}
