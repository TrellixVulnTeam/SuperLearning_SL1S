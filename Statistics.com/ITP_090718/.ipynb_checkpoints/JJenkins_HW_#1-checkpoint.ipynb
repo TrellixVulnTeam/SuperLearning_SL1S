{
 "cells": [
  {
   "cell_type": "markdown",
   "metadata": {},
   "source": [
    "# Week 1 Homework: Introduction to Python\n",
    "\n",
    "Create a new IPython Notebook (or copy this one), and use it to answer the following assignments. If you'd prefer not to use IPython, use another interpreter and answer the same questions."
   ]
  },
  {
   "cell_type": "markdown",
   "metadata": {},
   "source": [
    "## Question 1\n",
    "\n",
    "Create a Python list with the following values:\n",
    "[1, 2, 4, 10, 12, 117, 1244]\n",
    "\n",
    "a. Compute the sum of the values.\n",
    "\n",
    "b. Compute the mean of the values.\n",
    "\n",
    "c. Compute the product of all the numbers (multiply them all together)."
   ]
  },
  {
   "cell_type": "code",
   "execution_count": 1,
   "metadata": {},
   "outputs": [
    {
     "name": "stdout",
     "output_type": "stream",
     "text": [
      "The sum of the values is 1390.\n",
      "\n",
      "The mean of the values is 198.57142857142858.\n",
      "\n",
      "The product of all of the the values multiplied together is 139,726,080.\n",
      "\n"
     ]
    }
   ],
   "source": [
    "#Create a Python list with the following values: [1, 2, 4, 10, 12, 117, 1244]\n",
    "Q1_list = [1, 2, 4, 10, 12, 117, 1244]\n",
    "\n",
    "#Compute the sum of the values.\n",
    "Q1_sum = sum(Q1_list)\n",
    "print(\"The sum of the values is \" + str(Q1_sum) + \".\\n\")\n",
    "\n",
    "#Compute the mean of the values.\n",
    "Q1_mean = (Q1_sum / float(len(Q1_list)))\n",
    "print(\"The mean of the values is \" + str(Q1_mean) + \".\\n\")\n",
    "\n",
    "#Compute the product of all the numbers (multiply them all together).\n",
    "import numpy as np\n",
    "Q1_product = np.prod(Q1_list)\n",
    "print(\"The product of all of the the values multiplied together is {0:,}\".format(Q1_product) + \".\\n\")"
   ]
  },
  {
   "cell_type": "markdown",
   "metadata": {},
   "source": [
    "## Question 2\n",
    "\n",
    "Write functions to do all the operations above; repeat them on the following lists of numbers:\n",
    "\n",
    "a. [3, 2, 3, 3, 3, 2, 8, 2, 2, 126]\n",
    "\n",
    "b. [7, 267, 4, 2, 5, 319, 5, 6, 713, 3]"
   ]
  },
  {
   "cell_type": "code",
   "execution_count": 2,
   "metadata": {},
   "outputs": [
    {
     "name": "stdout",
     "output_type": "stream",
     "text": [
      "The sum of the values is 154.\n",
      "\n",
      "The mean of the values is 15.4.\n",
      "\n",
      "The product of all of the the values multiplied together is 1,306,368.\n",
      "\n"
     ]
    }
   ],
   "source": [
    "# Question 2 Part a\n",
    "def Q2_a(*args):\n",
    "    #Compute the sum of the values.\n",
    "    Q2_a_sum = sum(*args)\n",
    "    print(\"The sum of the values is \" + str(Q2_a_sum) + \".\\n\")\n",
    "    \n",
    "    #Compute the mean of the values.\n",
    "    Q2_a_mean = (Q2_a_sum / float(len(*args)))\n",
    "    print(\"The mean of the values is \" + str(Q2_a_mean) + \".\\n\")\n",
    "    \n",
    "    #Compute the product of all the numbers (multiply them all together).\n",
    "    import numpy as np\n",
    "    Q2_a_product = np.prod(*args)\n",
    "    print(\"The product of all of the the values multiplied together is {0:,}\".format(Q2_a_product) + \".\\n\")\n",
    "    \n",
    "Q2_a_list = [3, 2, 3, 3, 3, 2, 8, 2, 2, 126]\n",
    "Q2_a(Q2_a_list)"
   ]
  },
  {
   "cell_type": "code",
   "execution_count": 3,
   "metadata": {},
   "outputs": [
    {
     "name": "stdout",
     "output_type": "stream",
     "text": [
      "The sum of the values is 1331.\n",
      "\n",
      "The mean of the values is 133.1.\n",
      "\n",
      "The product of all of the the values multiplied together is 1,346,037,424.\n",
      "\n"
     ]
    }
   ],
   "source": [
    "# Question 2 Part b\n",
    "def Q2_b(*args):\n",
    "    #Compute the sum of the values.\n",
    "    Q2_b_sum = sum(*args)\n",
    "    print(\"The sum of the values is \" + str(Q2_b_sum) + \".\\n\")\n",
    "    \n",
    "    #Compute the mean of the values.\n",
    "    Q2_b_mean = (Q2_b_sum / float(len(*args)))\n",
    "    print(\"The mean of the values is \" + str(Q2_b_mean) + \".\\n\")\n",
    "    \n",
    "    #Compute the product of all the numbers (multiply them all together).\n",
    "    import numpy as np\n",
    "    Q2_b_product = np.prod(*args)\n",
    "    print(\"The product of all of the the values multiplied together is {0:,}\".format(Q2_b_product) + \".\\n\")\n",
    "    \n",
    "Q2_b_list = [7, 267, 4, 2, 5, 319, 5, 6, 713, 3]\n",
    "Q2_b(Q2_b_list)"
   ]
  },
  {
   "cell_type": "markdown",
   "metadata": {},
   "source": [
    "## Question 3\n",
    "\n",
    "FizzBuzz is a classic programming exercise. Iterate over the numbers from 0 to 99 and for each number:\n",
    "\n",
    "* If the number is divisible by 3, print Fizz\n",
    "\n",
    "* If the number is divisible by 5, print Buzz\n",
    "\n",
    "* If the number is divisible by both 3 and 5, print Fizz Buzz\n",
    "\n",
    "* Otherwise, just print the number.\n",
    "\n",
    "**Hint:** The modulo operator which gives you a division remainder is the percentage sign, %. For example:"
   ]
  },
  {
   "cell_type": "code",
   "execution_count": 4,
   "metadata": {},
   "outputs": [
    {
     "name": "stdout",
     "output_type": "stream",
     "text": [
      "1\n",
      "2\n",
      "Fizz\n",
      "4\n",
      "Buzz\n",
      "Fizz\n",
      "7\n",
      "8\n",
      "Fizz\n",
      "Buzz\n",
      "11\n",
      "Fizz\n",
      "13\n",
      "14\n",
      "Fizz Buzz\n",
      "16\n",
      "17\n",
      "Fizz\n",
      "19\n",
      "Buzz\n",
      "Fizz\n",
      "22\n",
      "23\n",
      "Fizz\n",
      "Buzz\n",
      "26\n",
      "Fizz\n",
      "28\n",
      "29\n",
      "Fizz Buzz\n",
      "31\n",
      "32\n",
      "Fizz\n",
      "34\n",
      "Buzz\n",
      "Fizz\n",
      "37\n",
      "38\n",
      "Fizz\n",
      "Buzz\n",
      "41\n",
      "Fizz\n",
      "43\n",
      "44\n",
      "Fizz Buzz\n",
      "46\n",
      "47\n",
      "Fizz\n",
      "49\n",
      "Buzz\n",
      "Fizz\n",
      "52\n",
      "53\n",
      "Fizz\n",
      "Buzz\n",
      "56\n",
      "Fizz\n",
      "58\n",
      "59\n",
      "Fizz Buzz\n",
      "61\n",
      "62\n",
      "Fizz\n",
      "64\n",
      "Buzz\n",
      "Fizz\n",
      "67\n",
      "68\n",
      "Fizz\n",
      "Buzz\n",
      "71\n",
      "Fizz\n",
      "73\n",
      "74\n",
      "Fizz Buzz\n",
      "76\n",
      "77\n",
      "Fizz\n",
      "79\n",
      "Buzz\n",
      "Fizz\n",
      "82\n",
      "83\n",
      "Fizz\n",
      "Buzz\n",
      "86\n",
      "Fizz\n",
      "88\n",
      "89\n",
      "Fizz Buzz\n",
      "91\n",
      "92\n",
      "Fizz\n",
      "94\n",
      "Buzz\n",
      "Fizz\n",
      "97\n",
      "98\n",
      "Fizz\n"
     ]
    }
   ],
   "source": [
    "for number in range(1, 100):\n",
    "    if number % 3 == 0 and number % 5 == 0:\n",
    "        print(\"Fizz Buzz\")\n",
    "    elif number % 3 == 0:\n",
    "        print(\"Fizz\")\n",
    "    elif number % 5 == 0:\n",
    "        print(\"Buzz\")\n",
    "    else:\n",
    "        print(number)"
   ]
  },
  {
   "cell_type": "code",
   "execution_count": 5,
   "metadata": {},
   "outputs": [
    {
     "data": {
      "text/plain": [
       "0"
      ]
     },
     "execution_count": 5,
     "metadata": {},
     "output_type": "execute_result"
    }
   ],
   "source": [
    "4 % 2"
   ]
  },
  {
   "cell_type": "code",
   "execution_count": 6,
   "metadata": {},
   "outputs": [
    {
     "data": {
      "text/plain": [
       "1"
      ]
     },
     "execution_count": 6,
     "metadata": {},
     "output_type": "execute_result"
    }
   ],
   "source": [
    "5 % 2"
   ]
  }
 ],
 "metadata": {
  "kernelspec": {
   "display_name": "Python 3",
   "language": "python",
   "name": "python3"
  },
  "language_info": {
   "codemirror_mode": {
    "name": "ipython",
    "version": 3
   },
   "file_extension": ".py",
   "mimetype": "text/x-python",
   "name": "python",
   "nbconvert_exporter": "python",
   "pygments_lexer": "ipython3",
   "version": "3.6.6"
  }
 },
 "nbformat": 4,
 "nbformat_minor": 1
}
