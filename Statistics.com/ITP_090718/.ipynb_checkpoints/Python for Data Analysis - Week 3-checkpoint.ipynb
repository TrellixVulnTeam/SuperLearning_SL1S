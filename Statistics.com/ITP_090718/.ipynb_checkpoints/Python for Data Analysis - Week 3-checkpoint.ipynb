{
 "cells": [
  {
   "cell_type": "markdown",
   "metadata": {},
   "source": [
    "# Week 3: Working with Pandas\n",
    "\n",
    "Welcome back! Last week we started doing some real data analysis, but we were writing extremely basic functionality by hand. While it's important to be familiar with the language and understand how things like that work, in practice you wouldn't want to have to reimplement a mean-finding function from scratch every time you're starting a new data analysis project.\n",
    "\n",
    "Enter [Pandas](http://pandas.pydata.org/), the Python Data Analysis library. Pandas is one of the newer additions to the scientific Python ecosystem, but it's already a mature and very powerful tool. If you've worked with R before, or other statistical software, many of the concepts will be familiar to you. Pandas introduces Series (indexed lists) and DataFrames (data organized table-style into rows and columns), and provides a range of functionality built in. So let's get started!\n",
    "\n",
    "The first thing we do is import the pandas module:"
   ]
  },
  {
   "cell_type": "code",
   "execution_count": 1,
   "metadata": {},
   "outputs": [],
   "source": [
    "import pandas as pd"
   ]
  },
  {
   "cell_type": "markdown",
   "metadata": {},
   "source": [
    "## Series\n",
    "\n",
    "The basic pandas object is a Series. We can create a series from a list, like this:"
   ]
  },
  {
   "cell_type": "code",
   "execution_count": 2,
   "metadata": {},
   "outputs": [],
   "source": [
    "s = pd.Series([1, 3, 5, 7, 9, 11])"
   ]
  },
  {
   "cell_type": "markdown",
   "metadata": {},
   "source": [
    "Now look at the series contents:"
   ]
  },
  {
   "cell_type": "code",
   "execution_count": 3,
   "metadata": {},
   "outputs": [
    {
     "data": {
      "text/plain": [
       "0     1\n",
       "1     3\n",
       "2     5\n",
       "3     7\n",
       "4     9\n",
       "5    11\n",
       "dtype: int64"
      ]
     },
     "execution_count": 3,
     "metadata": {},
     "output_type": "execute_result"
    }
   ],
   "source": [
    "s"
   ]
  },
  {
   "cell_type": "markdown",
   "metadata": {},
   "source": [
    "Notice the two columns above; the first, leftmost column is the index, which is just the same 0 to 5 values you'd expect in a regular list. The righthand column is the actual values the series is storing.\n",
    "\n",
    "The Series object comes built-in with quite a few basic functions. For example:"
   ]
  },
  {
   "cell_type": "code",
   "execution_count": 4,
   "metadata": {},
   "outputs": [
    {
     "name": "stdout",
     "output_type": "stream",
     "text": [
      "The sum of the Series is 36.000000.\n",
      "The mean of the Series is 6.000000.\n",
      "The median of the Series is 6.000000.\n"
     ]
    }
   ],
   "source": [
    "print(\"The sum of the Series is %f.\" % s.sum())\n",
    "print(\"The mean of the Series is %f.\" % s.mean())\n",
    "print(\"The median of the Series is %f.\" % s.median())"
   ]
  },
  {
   "cell_type": "markdown",
   "metadata": {},
   "source": [
    "We can perform artithmetic operations on a series; the operation will be done element by element, and the result will be another series:"
   ]
  },
  {
   "cell_type": "code",
   "execution_count": 5,
   "metadata": {},
   "outputs": [
    {
     "data": {
      "text/plain": [
       "0     2\n",
       "1     4\n",
       "2     6\n",
       "3     8\n",
       "4    10\n",
       "5    12\n",
       "dtype: int64"
      ]
     },
     "execution_count": 5,
     "metadata": {},
     "output_type": "execute_result"
    }
   ],
   "source": [
    "s + 1"
   ]
  },
  {
   "cell_type": "markdown",
   "metadata": {},
   "source": [
    "Since the result is a new series, we can assign it to a variable:"
   ]
  },
  {
   "cell_type": "code",
   "execution_count": 6,
   "metadata": {},
   "outputs": [
    {
     "name": "stdout",
     "output_type": "stream",
     "text": [
      "0     2\n",
      "1     6\n",
      "2    10\n",
      "3    14\n",
      "4    18\n",
      "5    22\n",
      "dtype: int64\n"
     ]
    }
   ],
   "source": [
    "double_s = s * 2\n",
    "print(double_s)"
   ]
  },
  {
   "cell_type": "markdown",
   "metadata": {},
   "source": [
    "We can also perform arithmetic *between* series; the results will again be another series:"
   ]
  },
  {
   "cell_type": "code",
   "execution_count": 7,
   "metadata": {},
   "outputs": [],
   "source": [
    "a = pd.Series([1, 2, 3])\n",
    "b = pd.Series([2, 4, 8])"
   ]
  },
  {
   "cell_type": "code",
   "execution_count": 8,
   "metadata": {},
   "outputs": [
    {
     "data": {
      "text/plain": [
       "0     3\n",
       "1     6\n",
       "2    11\n",
       "dtype: int64"
      ]
     },
     "execution_count": 8,
     "metadata": {},
     "output_type": "execute_result"
    }
   ],
   "source": [
    "a + b"
   ]
  },
  {
   "cell_type": "code",
   "execution_count": 9,
   "metadata": {},
   "outputs": [
    {
     "data": {
      "text/plain": [
       "0   -1\n",
       "1   -2\n",
       "2   -5\n",
       "dtype: int64"
      ]
     },
     "execution_count": 9,
     "metadata": {},
     "output_type": "execute_result"
    }
   ],
   "source": [
    "a - b"
   ]
  },
  {
   "cell_type": "code",
   "execution_count": 10,
   "metadata": {},
   "outputs": [
    {
     "data": {
      "text/plain": [
       "0     2\n",
       "1     8\n",
       "2    24\n",
       "dtype: int64"
      ]
     },
     "execution_count": 10,
     "metadata": {},
     "output_type": "execute_result"
    }
   ],
   "source": [
    "a * b"
   ]
  },
  {
   "cell_type": "code",
   "execution_count": 11,
   "metadata": {},
   "outputs": [
    {
     "data": {
      "text/plain": [
       "0    0.500\n",
       "1    0.500\n",
       "2    0.375\n",
       "dtype: float64"
      ]
     },
     "execution_count": 11,
     "metadata": {},
     "output_type": "execute_result"
    }
   ],
   "source": [
    "a / b"
   ]
  },
  {
   "cell_type": "markdown",
   "metadata": {},
   "source": [
    "We can iterate over series in much the same way as lists. "
   ]
  },
  {
   "cell_type": "code",
   "execution_count": 12,
   "metadata": {},
   "outputs": [
    {
     "name": "stdout",
     "output_type": "stream",
     "text": [
      "1 1\n",
      "3 9\n",
      "5 25\n",
      "7 49\n",
      "9 81\n",
      "11 121\n"
     ]
    }
   ],
   "source": [
    "for x in s:\n",
    "    print(x, x*x)"
   ]
  },
  {
   "cell_type": "markdown",
   "metadata": {},
   "source": [
    "We can even use list comprehension, though it gives us a list, not a Series:"
   ]
  },
  {
   "cell_type": "code",
   "execution_count": 13,
   "metadata": {},
   "outputs": [
    {
     "data": {
      "text/plain": [
       "[1, 9, 25, 49, 81, 121]"
      ]
     },
     "execution_count": 13,
     "metadata": {},
     "output_type": "execute_result"
    }
   ],
   "source": [
    "[x*x for x in s]"
   ]
  },
  {
   "cell_type": "code",
   "execution_count": 14,
   "metadata": {},
   "outputs": [
    {
     "name": "stdout",
     "output_type": "stream",
     "text": [
      "The value of this position within my_list is 1.\n",
      "The value of this position within my_list is 9.\n",
      "The value of this position within my_list is 25.\n",
      "The value of this position within my_list is 49.\n",
      "The value of this position within my_list is 81.\n",
      "The value of this position within my_list is 121.\n"
     ]
    }
   ],
   "source": [
    "my_list = [x*x for x in s]\n",
    "for i in my_list:\n",
    "    print(\"The value of this position within my_list is %d.\" % i)"
   ]
  },
  {
   "cell_type": "markdown",
   "metadata": {},
   "source": [
    "Let's create a series with the square of values, plus some added random 'noise'.\n",
    "\n",
    "#### Sidebar: generating random numbers:\n",
    "\n",
    "To get the noise, we'll use the built-in **random** module, which provides several random number generators. The most basic one, also called **random()**, simply picks a random number with uniform probability from the interval [0,1)."
   ]
  },
  {
   "cell_type": "code",
   "execution_count": 15,
   "metadata": {},
   "outputs": [],
   "source": [
    "import random"
   ]
  },
  {
   "cell_type": "code",
   "execution_count": 16,
   "metadata": {},
   "outputs": [
    {
     "name": "stdout",
     "output_type": "stream",
     "text": [
<<<<<<< HEAD
      "0.6513486820873742\n"
=======
      "The added random noise is 0.736648\n"
>>>>>>> 9aea48216e5eb3b61c027f3974dbeec176697c16
     ]
    }
   ],
   "source": [
    "print(\"The added random noise is %f\" % random.random()) # Your results will obviously be different."
   ]
  },
  {
   "cell_type": "markdown",
   "metadata": {},
   "source": [
    "We can also draw a number from a [normal (Gaussian) distribution](http://en.wikipedia.org/wiki/Normal_distribution), with specified mean and standard deviations:"
   ]
  },
  {
   "cell_type": "code",
   "execution_count": 17,
   "metadata": {},
   "outputs": [
    {
<<<<<<< HEAD
     "data": {
      "text/plain": [
       "-0.4681408357477013"
      ]
     },
     "execution_count": 16,
     "metadata": {},
     "output_type": "execute_result"
=======
     "name": "stdout",
     "output_type": "stream",
     "text": [
      "The random noise from a normal(Gaussian) distribution is -0.824124.\n"
     ]
>>>>>>> 9aea48216e5eb3b61c027f3974dbeec176697c16
    }
   ],
   "source": [
    "print(\"The random noise from a normal(Gaussian) distribution is %f.\" \n",
    "      % random.normalvariate(0, 1)) # Mean 0 and standard deviation 1"
   ]
  },
  {
   "cell_type": "markdown",
   "metadata": {},
   "source": [
    "#### End sidebar\n",
    "\n",
    "So, let's square the original series and add some random noise; we can use list comprehension, and turn the resulting list immediately into a Series:"
   ]
  },
  {
   "cell_type": "code",
   "execution_count": 17,
   "metadata": {},
   "outputs": [
    {
     "data": {
      "text/plain": [
<<<<<<< HEAD
       "0     -0.095924\n",
       "1      8.847959\n",
       "2     23.381563\n",
       "3     49.223072\n",
       "4     79.845275\n",
       "5    120.086765\n",
=======
       "0      3.273568\n",
       "1      8.617122\n",
       "2     25.442064\n",
       "3     49.981854\n",
       "4     81.656800\n",
       "5    121.182118\n",
>>>>>>> 9aea48216e5eb3b61c027f3974dbeec176697c16
       "dtype: float64"
      ]
     },
     "execution_count": 17,
     "metadata": {},
     "output_type": "execute_result"
    }
   ],
   "source": [
    "s2 = pd.Series([x*x + random.normalvariate(0, 1) for x in s])\n",
    "s2"
   ]
  },
  {
   "cell_type": "markdown",
   "metadata": {},
   "source": [
    "### Time series\n",
    "\n",
    "Pandas was originally designed with financial analysis in mind, so it's no surprise that it has great time series functionality. Instead of just using the default 0, 1, 2... indices, we can index a Series on anything we want -- including datetime objects. \n",
    "\n",
    "First, we import the datetime module:"
   ]
  },
  {
   "cell_type": "code",
   "execution_count": 18,
   "metadata": {},
   "outputs": [],
   "source": [
    "import datetime as dt"
   ]
  },
  {
   "cell_type": "markdown",
   "metadata": {},
   "source": [
    "Suppose we want a monthly time-series. We first need to create a list of datetime objects representing the beginning of every month, to use as our index:"
   ]
  },
  {
   "cell_type": "code",
   "execution_count": 19,
   "metadata": {},
   "outputs": [],
   "source": [
    "months = [dt.datetime(2001, x, 1) for x in range(1,13)]"
   ]
  },
  {
   "cell_type": "code",
   "execution_count": 20,
   "metadata": {},
   "outputs": [
    {
     "data": {
      "text/plain": [
       "[datetime.datetime(2001, 1, 1, 0, 0),\n",
       " datetime.datetime(2001, 2, 1, 0, 0),\n",
       " datetime.datetime(2001, 3, 1, 0, 0),\n",
       " datetime.datetime(2001, 4, 1, 0, 0),\n",
       " datetime.datetime(2001, 5, 1, 0, 0),\n",
       " datetime.datetime(2001, 6, 1, 0, 0),\n",
       " datetime.datetime(2001, 7, 1, 0, 0),\n",
       " datetime.datetime(2001, 8, 1, 0, 0),\n",
       " datetime.datetime(2001, 9, 1, 0, 0),\n",
       " datetime.datetime(2001, 10, 1, 0, 0),\n",
       " datetime.datetime(2001, 11, 1, 0, 0),\n",
       " datetime.datetime(2001, 12, 1, 0, 0)]"
      ]
     },
     "execution_count": 20,
     "metadata": {},
     "output_type": "execute_result"
    }
   ],
   "source": [
    "months"
   ]
  },
  {
   "cell_type": "markdown",
   "metadata": {},
   "source": [
    "One way to create a series with a custom index is with a dictionary: keys are the index, and values are the values. Here, we create a dictionary associating each of the datetimes with a random value:"
   ]
  },
  {
   "cell_type": "code",
   "execution_count": 21,
   "metadata": {},
   "outputs": [],
   "source": [
    "time_series = {}\n",
    "for date in months:\n",
    "    time_series[date] = random.normalvariate(0,1)"
   ]
  },
  {
   "cell_type": "code",
   "execution_count": 22,
   "metadata": {},
   "outputs": [
    {
     "data": {
      "text/plain": [
<<<<<<< HEAD
       "{datetime.datetime(2001, 1, 1, 0, 0): 0.15584279845583515,\n",
       " datetime.datetime(2001, 2, 1, 0, 0): -0.28645021657916026,\n",
       " datetime.datetime(2001, 3, 1, 0, 0): -1.1544559365358693,\n",
       " datetime.datetime(2001, 4, 1, 0, 0): 1.7592066550905794,\n",
       " datetime.datetime(2001, 5, 1, 0, 0): -0.5768359726247511,\n",
       " datetime.datetime(2001, 6, 1, 0, 0): -0.1908944937786696,\n",
       " datetime.datetime(2001, 7, 1, 0, 0): 0.2721779010166221,\n",
       " datetime.datetime(2001, 8, 1, 0, 0): -1.6367129070047128,\n",
       " datetime.datetime(2001, 9, 1, 0, 0): 0.17855788250910076,\n",
       " datetime.datetime(2001, 10, 1, 0, 0): -1.3980033297365633,\n",
       " datetime.datetime(2001, 11, 1, 0, 0): 0.9549849966668075,\n",
       " datetime.datetime(2001, 12, 1, 0, 0): -0.3925764844484369}"
=======
       "{datetime.datetime(2001, 1, 1, 0, 0): -0.908522903887484,\n",
       " datetime.datetime(2001, 2, 1, 0, 0): -1.4727208534585645,\n",
       " datetime.datetime(2001, 3, 1, 0, 0): 1.2535327866433175,\n",
       " datetime.datetime(2001, 4, 1, 0, 0): 0.5387039358343666,\n",
       " datetime.datetime(2001, 5, 1, 0, 0): -0.6687544351996593,\n",
       " datetime.datetime(2001, 6, 1, 0, 0): 0.9347784538597698,\n",
       " datetime.datetime(2001, 7, 1, 0, 0): 0.6021362426932529,\n",
       " datetime.datetime(2001, 8, 1, 0, 0): 0.02042778976170365,\n",
       " datetime.datetime(2001, 9, 1, 0, 0): -2.3426337348547985,\n",
       " datetime.datetime(2001, 10, 1, 0, 0): -1.6518215780106638,\n",
       " datetime.datetime(2001, 11, 1, 0, 0): -0.2795573309327898,\n",
       " datetime.datetime(2001, 12, 1, 0, 0): 1.4831521436420247}"
>>>>>>> 9aea48216e5eb3b61c027f3974dbeec176697c16
      ]
     },
     "execution_count": 22,
     "metadata": {},
     "output_type": "execute_result"
    }
   ],
   "source": [
    "time_series"
   ]
  },
  {
   "cell_type": "markdown",
   "metadata": {},
   "source": [
    "A lesser-known Python trick is that just like list comprehension, there is also dictionary comprehension: creating a dictionary from a known set of keys. We can simplify the above code like this:"
   ]
  },
  {
   "cell_type": "code",
   "execution_count": 23,
   "metadata": {},
   "outputs": [
    {
     "data": {
      "text/plain": [
<<<<<<< HEAD
       "{datetime.datetime(2001, 1, 1, 0, 0): -0.0755315309213846,\n",
       " datetime.datetime(2001, 2, 1, 0, 0): -0.820418554319954,\n",
       " datetime.datetime(2001, 3, 1, 0, 0): -1.653422235152511,\n",
       " datetime.datetime(2001, 4, 1, 0, 0): -0.06729496267678681,\n",
       " datetime.datetime(2001, 5, 1, 0, 0): 0.07042071770418369,\n",
       " datetime.datetime(2001, 6, 1, 0, 0): -0.5510689813213462,\n",
       " datetime.datetime(2001, 7, 1, 0, 0): -0.3444434517480837,\n",
       " datetime.datetime(2001, 8, 1, 0, 0): 0.21683631052761054,\n",
       " datetime.datetime(2001, 9, 1, 0, 0): -1.7037373025745022,\n",
       " datetime.datetime(2001, 10, 1, 0, 0): 1.0452007871952966,\n",
       " datetime.datetime(2001, 11, 1, 0, 0): -0.18882111276823887,\n",
       " datetime.datetime(2001, 12, 1, 0, 0): 1.3713207880871496}"
=======
       "{datetime.datetime(2001, 1, 1, 0, 0): 0.17706493213324254,\n",
       " datetime.datetime(2001, 2, 1, 0, 0): -0.21459099022197228,\n",
       " datetime.datetime(2001, 3, 1, 0, 0): 0.4681321258107382,\n",
       " datetime.datetime(2001, 4, 1, 0, 0): -0.6696929940286754,\n",
       " datetime.datetime(2001, 5, 1, 0, 0): 0.7954593895249394,\n",
       " datetime.datetime(2001, 6, 1, 0, 0): -0.6359387277383811,\n",
       " datetime.datetime(2001, 7, 1, 0, 0): 0.40280077031876327,\n",
       " datetime.datetime(2001, 8, 1, 0, 0): 0.5268754389056332,\n",
       " datetime.datetime(2001, 9, 1, 0, 0): 0.05177994717564795,\n",
       " datetime.datetime(2001, 10, 1, 0, 0): -0.02648044317175892,\n",
       " datetime.datetime(2001, 11, 1, 0, 0): -0.8422738046740902,\n",
       " datetime.datetime(2001, 12, 1, 0, 0): -0.9491526420948785}"
>>>>>>> 9aea48216e5eb3b61c027f3974dbeec176697c16
      ]
     },
     "execution_count": 23,
     "metadata": {},
     "output_type": "execute_result"
    }
   ],
   "source": [
    "time_series = {date: random.normalvariate(0,1) for date in months}\n",
    "time_series"
   ]
  },
  {
   "cell_type": "markdown",
   "metadata": {},
   "source": [
    "Now that we have a dictionary associating dates with values, we can turn it into a pandas series:"
   ]
  },
  {
   "cell_type": "code",
   "execution_count": 24,
   "metadata": {},
   "outputs": [],
   "source": [
    "time_series = pd.Series(time_series)"
   ]
  },
  {
   "cell_type": "code",
   "execution_count": 25,
   "metadata": {},
   "outputs": [
    {
     "data": {
      "text/plain": [
<<<<<<< HEAD
       "2001-01-01   -0.075532\n",
       "2001-02-01   -0.820419\n",
       "2001-03-01   -1.653422\n",
       "2001-04-01   -0.067295\n",
       "2001-05-01    0.070421\n",
       "2001-06-01   -0.551069\n",
       "2001-07-01   -0.344443\n",
       "2001-08-01    0.216836\n",
       "2001-09-01   -1.703737\n",
       "2001-10-01    1.045201\n",
       "2001-11-01   -0.188821\n",
       "2001-12-01    1.371321\n",
=======
       "2001-01-01    0.177065\n",
       "2001-02-01   -0.214591\n",
       "2001-03-01    0.468132\n",
       "2001-04-01   -0.669693\n",
       "2001-05-01    0.795459\n",
       "2001-06-01   -0.635939\n",
       "2001-07-01    0.402801\n",
       "2001-08-01    0.526875\n",
       "2001-09-01    0.051780\n",
       "2001-10-01   -0.026480\n",
       "2001-11-01   -0.842274\n",
       "2001-12-01   -0.949153\n",
>>>>>>> 9aea48216e5eb3b61c027f3974dbeec176697c16
       "dtype: float64"
      ]
     },
     "execution_count": 25,
     "metadata": {},
     "output_type": "execute_result"
    }
   ],
   "source": [
    "time_series"
   ]
  },
  {
   "cell_type": "markdown",
   "metadata": {},
   "source": [
    "Here's another useful bit of series functionality, that's especually handy for time series. The *cumsum()* function returns a new series, where each value is the cumulative sum of all the previous values. If we wanted to turn our random numbers into a random walk, we could do:"
   ]
  },
  {
   "cell_type": "code",
   "execution_count": 26,
   "metadata": {},
   "outputs": [],
   "source": [
    "time_series_total = time_series.cumsum()"
   ]
  },
  {
   "cell_type": "code",
   "execution_count": 27,
   "metadata": {},
   "outputs": [
    {
     "data": {
      "text/plain": [
<<<<<<< HEAD
       "2001-01-01   -0.075532\n",
       "2001-02-01   -0.895950\n",
       "2001-03-01   -2.549372\n",
       "2001-04-01   -2.616667\n",
       "2001-05-01   -2.546247\n",
       "2001-06-01   -3.097316\n",
       "2001-07-01   -3.441759\n",
       "2001-08-01   -3.224923\n",
       "2001-09-01   -4.928660\n",
       "2001-10-01   -3.883459\n",
       "2001-11-01   -4.072280\n",
       "2001-12-01   -2.700960\n",
=======
       "2001-01-01    0.177065\n",
       "2001-02-01   -0.037526\n",
       "2001-03-01    0.430606\n",
       "2001-04-01   -0.239087\n",
       "2001-05-01    0.556372\n",
       "2001-06-01   -0.079566\n",
       "2001-07-01    0.323235\n",
       "2001-08-01    0.850110\n",
       "2001-09-01    0.901890\n",
       "2001-10-01    0.875409\n",
       "2001-11-01    0.033136\n",
       "2001-12-01   -0.916017\n",
>>>>>>> 9aea48216e5eb3b61c027f3974dbeec176697c16
       "dtype: float64"
      ]
     },
     "execution_count": 27,
     "metadata": {},
     "output_type": "execute_result"
    }
   ],
   "source": [
    "time_series_total"
   ]
  },
  {
   "cell_type": "markdown",
   "metadata": {},
   "source": [
    "If you're using the IPython Notebook, pandas can create a quick chart of the time series. If you're not using the Notebook, don't worry about it right now -- we'll go deeper into visualization (including how to do it from IDLE or the command line) next week.\n",
    "\n",
    "If you're in the IPython notebook, use the following command to prepare for plotting:"
   ]
  },
  {
   "cell_type": "code",
   "execution_count": 28,
   "metadata": {},
   "outputs": [],
   "source": [
    "%matplotlib inline "
   ]
  },
  {
   "cell_type": "markdown",
   "metadata": {},
   "source": [
    "Next, we use the pandas series' built-in *plot()* method to create the chart:"
   ]
  },
  {
   "cell_type": "code",
   "execution_count": 29,
   "metadata": {},
   "outputs": [
    {
     "data": {
      "text/plain": [
<<<<<<< HEAD
       "<matplotlib.axes._subplots.AxesSubplot at 0x1234f81d0>"
=======
       "<matplotlib.axes._subplots.AxesSubplot at 0x9a36390>"
>>>>>>> 9aea48216e5eb3b61c027f3974dbeec176697c16
      ]
     },
     "execution_count": 29,
     "metadata": {},
     "output_type": "execute_result"
    },
    {
     "data": {
<<<<<<< HEAD
      "image/png": "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\n",
=======
      "image/png": "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\n",
>>>>>>> 9aea48216e5eb3b61c027f3974dbeec176697c16
      "text/plain": [
       "<Figure size 432x288 with 1 Axes>"
      ]
     },
     "metadata": {
      "needs_background": "light"
     },
     "output_type": "display_data"
    }
   ],
   "source": [
    "time_series_total.plot()"
   ]
  },
  {
   "cell_type": "markdown",
   "metadata": {},
   "source": [
    "Instead of making a range of dates by hand, we can have pandas do it for us using the *date_range(...)* function, as follows:"
   ]
  },
  {
   "cell_type": "code",
   "execution_count": 30,
   "metadata": {},
   "outputs": [],
   "source": [
    "dates = pd.date_range('1/1/2000', periods=120, freq='M')"
   ]
  },
  {
   "cell_type": "code",
   "execution_count": 31,
   "metadata": {},
   "outputs": [
    {
     "data": {
      "text/plain": [
       "DatetimeIndex(['2000-01-31', '2000-02-29', '2000-03-31', '2000-04-30',\n",
       "               '2000-05-31', '2000-06-30', '2000-07-31', '2000-08-31',\n",
       "               '2000-09-30', '2000-10-31',\n",
       "               ...\n",
       "               '2009-03-31', '2009-04-30', '2009-05-31', '2009-06-30',\n",
       "               '2009-07-31', '2009-08-31', '2009-09-30', '2009-10-31',\n",
       "               '2009-11-30', '2009-12-31'],\n",
       "              dtype='datetime64[ns]', length=120, freq='M')"
      ]
     },
     "execution_count": 31,
     "metadata": {},
     "output_type": "execute_result"
    }
   ],
   "source": [
    "dates"
   ]
  },
  {
   "cell_type": "markdown",
   "metadata": {},
   "source": [
    "The first date is the starting date; next, *periods* is how many dates to create. Finally, the *freq* is a code for the frequency to create the dates at. 'M' or 'm' indicates monthly; 'D' would be daily, 'min' minute-ly, and more. You can check out the  full pandas documentation for more complicated codes (e.g. quarters, business days, etc): http://pd.pydata.org/pandas-docs/stable/timeseries.html\n",
    "\n",
    "Notice that by default, pandas puts the dates for a monthly sequence at the *end* of each month."
   ]
  },
  {
   "cell_type": "markdown",
   "metadata": {},
   "source": [
    "Let's create two new random walks:"
   ]
  },
  {
   "cell_type": "code",
   "execution_count": 32,
   "metadata": {},
   "outputs": [],
   "source": [
    "ts1 = pd.Series([random.normalvariate(0,1) for x in range(120)], index=dates)\n",
    "ts2 = pd.Series([random.normalvariate(0,1) for x in range(120)], index=dates)\n",
    "\n",
    "ts1 = ts1.cumsum()\n",
    "ts2 = ts2.cumsum()"
   ]
  },
  {
   "cell_type": "markdown",
   "metadata": {},
   "source": [
    "We can view the first or last few entries in a series using the *head()* or *tail()* functions:"
   ]
  },
  {
   "cell_type": "code",
   "execution_count": 33,
   "metadata": {},
   "outputs": [
    {
     "data": {
      "text/plain": [
<<<<<<< HEAD
       "2000-01-31    0.876817\n",
       "2000-02-29   -0.572867\n",
       "2000-03-31   -0.047790\n",
       "2000-04-30    1.127023\n",
       "2000-05-31    1.010028\n",
=======
       "2000-01-31    1.426060\n",
       "2000-02-29    0.445800\n",
       "2000-03-31   -0.342196\n",
       "2000-04-30    0.950249\n",
       "2000-05-31   -0.300202\n",
>>>>>>> 9aea48216e5eb3b61c027f3974dbeec176697c16
       "Freq: M, dtype: float64"
      ]
     },
     "execution_count": 33,
     "metadata": {},
     "output_type": "execute_result"
    }
   ],
   "source": [
    "ts1.head() # First 5 entries"
   ]
  },
  {
   "cell_type": "code",
   "execution_count": 34,
   "metadata": {},
   "outputs": [
    {
     "data": {
      "text/plain": [
<<<<<<< HEAD
       "2009-08-31    4.071597\n",
       "2009-09-30    1.811205\n",
       "2009-10-31    2.182243\n",
       "2009-11-30    1.456196\n",
       "2009-12-31    0.879480\n",
=======
       "2009-08-31    20.051139\n",
       "2009-09-30    18.664021\n",
       "2009-10-31    19.022552\n",
       "2009-11-30    20.176071\n",
       "2009-12-31    19.832120\n",
>>>>>>> 9aea48216e5eb3b61c027f3974dbeec176697c16
       "Freq: M, dtype: float64"
      ]
     },
     "execution_count": 34,
     "metadata": {},
     "output_type": "execute_result"
    }
   ],
   "source": [
    "ts2.tail() # Last 5 entries"
   ]
  },
  {
   "cell_type": "markdown",
   "metadata": {},
   "source": [
    "Pandas series have a built-in *corr(...)* function for finding the correlation between two series:"
   ]
  },
  {
   "cell_type": "code",
   "execution_count": 35,
   "metadata": {},
   "outputs": [
    {
     "name": "stdout",
     "output_type": "stream",
     "text": [
<<<<<<< HEAD
      "0.03149393687612687\n",
      "-0.009799291617473433\n"
=======
      "-0.4286924712619823\n",
      "-0.2300020834780193\n"
>>>>>>> 9aea48216e5eb3b61c027f3974dbeec176697c16
     ]
    }
   ],
   "source": [
    "print(ts1.corr(ts2)) # Defaults to Pearson correlation\n",
    "print(ts1.corr(ts2, method='spearman')) # Spearman's rank correlation"
   ]
  },
  {
   "cell_type": "markdown",
   "metadata": {},
   "source": [
    "We can also find a series's autocorrelation:"
   ]
  },
  {
   "cell_type": "code",
   "execution_count": 36,
   "metadata": {},
   "outputs": [
    {
     "data": {
      "text/plain": [
<<<<<<< HEAD
       "0.9723498934103061"
=======
       "0.9215595122080714"
>>>>>>> 9aea48216e5eb3b61c027f3974dbeec176697c16
      ]
     },
     "execution_count": 36,
     "metadata": {},
     "output_type": "execute_result"
    }
   ],
   "source": [
    "ts1.autocorr()"
   ]
  },
  {
   "cell_type": "markdown",
   "metadata": {},
   "source": [
    "## Dataframes\n",
    "\n",
    "If you've worked in R, you're already familiar with the general concept of dataframes. You probably know the same concept by different names in other languages and tools too -- it's just data organized into a table, with columns of specific variables and rows of observations. \n",
    "\n",
    "Technically, in Pandas, a DataFrame is a composed of Series with a shared index; each Series is a column, and each index value is a row.\n",
    "\n",
    "We can create a DataFrame from series by creating a dictionary associating each series with a column name, like this:"
   ]
  },
  {
   "cell_type": "code",
   "execution_count": 37,
   "metadata": {},
   "outputs": [],
   "source": [
    "df = pd.DataFrame({\"Column1\": ts1, \"Column2\": ts2})"
   ]
  },
  {
   "cell_type": "code",
   "execution_count": 38,
   "metadata": {},
   "outputs": [
    {
     "data": {
      "text/html": [
       "<div>\n",
       "<style scoped>\n",
       "    .dataframe tbody tr th:only-of-type {\n",
       "        vertical-align: middle;\n",
       "    }\n",
       "\n",
       "    .dataframe tbody tr th {\n",
       "        vertical-align: top;\n",
       "    }\n",
       "\n",
       "    .dataframe thead th {\n",
       "        text-align: right;\n",
       "    }\n",
       "</style>\n",
       "<table border=\"1\" class=\"dataframe\">\n",
       "  <thead>\n",
       "    <tr style=\"text-align: right;\">\n",
       "      <th></th>\n",
       "      <th>Column1</th>\n",
       "      <th>Column2</th>\n",
       "    </tr>\n",
       "  </thead>\n",
       "  <tbody>\n",
       "    <tr>\n",
       "      <th>2000-01-31</th>\n",
<<<<<<< HEAD
       "      <td>0.876817</td>\n",
       "      <td>-0.018819</td>\n",
       "    </tr>\n",
       "    <tr>\n",
       "      <th>2000-02-29</th>\n",
       "      <td>-0.572867</td>\n",
       "      <td>1.115789</td>\n",
       "    </tr>\n",
       "    <tr>\n",
       "      <th>2000-03-31</th>\n",
       "      <td>-0.047790</td>\n",
       "      <td>1.643008</td>\n",
       "    </tr>\n",
       "    <tr>\n",
       "      <th>2000-04-30</th>\n",
       "      <td>1.127023</td>\n",
       "      <td>2.291744</td>\n",
       "    </tr>\n",
       "    <tr>\n",
       "      <th>2000-05-31</th>\n",
       "      <td>1.010028</td>\n",
       "      <td>2.014539</td>\n",
       "    </tr>\n",
       "    <tr>\n",
       "      <th>2000-06-30</th>\n",
       "      <td>-0.035165</td>\n",
       "      <td>1.300203</td>\n",
       "    </tr>\n",
       "    <tr>\n",
       "      <th>2000-07-31</th>\n",
       "      <td>-2.240706</td>\n",
       "      <td>1.748374</td>\n",
       "    </tr>\n",
       "    <tr>\n",
       "      <th>2000-08-31</th>\n",
       "      <td>-2.620650</td>\n",
       "      <td>1.126031</td>\n",
       "    </tr>\n",
       "    <tr>\n",
       "      <th>2000-09-30</th>\n",
       "      <td>-2.581995</td>\n",
       "      <td>0.765329</td>\n",
       "    </tr>\n",
       "    <tr>\n",
       "      <th>2000-10-31</th>\n",
       "      <td>-2.740684</td>\n",
       "      <td>1.218593</td>\n",
       "    </tr>\n",
       "    <tr>\n",
       "      <th>2000-11-30</th>\n",
       "      <td>-4.047063</td>\n",
       "      <td>1.179935</td>\n",
       "    </tr>\n",
       "    <tr>\n",
       "      <th>2000-12-31</th>\n",
       "      <td>-2.879970</td>\n",
       "      <td>2.917314</td>\n",
       "    </tr>\n",
       "    <tr>\n",
       "      <th>2001-01-31</th>\n",
       "      <td>-1.408636</td>\n",
       "      <td>3.218266</td>\n",
       "    </tr>\n",
       "    <tr>\n",
       "      <th>2001-02-28</th>\n",
       "      <td>-2.212283</td>\n",
       "      <td>1.656244</td>\n",
       "    </tr>\n",
       "    <tr>\n",
       "      <th>2001-03-31</th>\n",
       "      <td>-0.998042</td>\n",
       "      <td>0.000352</td>\n",
       "    </tr>\n",
       "    <tr>\n",
       "      <th>2001-04-30</th>\n",
       "      <td>-2.842902</td>\n",
       "      <td>1.214883</td>\n",
       "    </tr>\n",
       "    <tr>\n",
       "      <th>2001-05-31</th>\n",
       "      <td>-3.719350</td>\n",
       "      <td>1.565512</td>\n",
       "    </tr>\n",
       "    <tr>\n",
       "      <th>2001-06-30</th>\n",
       "      <td>-4.453981</td>\n",
       "      <td>2.289868</td>\n",
       "    </tr>\n",
       "    <tr>\n",
       "      <th>2001-07-31</th>\n",
       "      <td>-4.671450</td>\n",
       "      <td>1.927615</td>\n",
       "    </tr>\n",
       "    <tr>\n",
       "      <th>2001-08-31</th>\n",
       "      <td>-4.708269</td>\n",
       "      <td>1.819028</td>\n",
       "    </tr>\n",
       "    <tr>\n",
       "      <th>2001-09-30</th>\n",
       "      <td>-5.064964</td>\n",
       "      <td>1.933736</td>\n",
       "    </tr>\n",
       "    <tr>\n",
       "      <th>2001-10-31</th>\n",
       "      <td>-3.954067</td>\n",
       "      <td>2.030699</td>\n",
       "    </tr>\n",
       "    <tr>\n",
       "      <th>2001-11-30</th>\n",
       "      <td>-4.621522</td>\n",
       "      <td>3.488059</td>\n",
       "    </tr>\n",
       "    <tr>\n",
       "      <th>2001-12-31</th>\n",
       "      <td>-4.964851</td>\n",
       "      <td>4.070398</td>\n",
       "    </tr>\n",
       "    <tr>\n",
       "      <th>2002-01-31</th>\n",
       "      <td>-6.788764</td>\n",
       "      <td>3.110832</td>\n",
       "    </tr>\n",
       "    <tr>\n",
       "      <th>2002-02-28</th>\n",
       "      <td>-6.931824</td>\n",
       "      <td>3.185901</td>\n",
       "    </tr>\n",
       "    <tr>\n",
       "      <th>2002-03-31</th>\n",
       "      <td>-6.083573</td>\n",
       "      <td>2.539908</td>\n",
       "    </tr>\n",
       "    <tr>\n",
       "      <th>2002-04-30</th>\n",
       "      <td>-6.106341</td>\n",
       "      <td>2.365633</td>\n",
       "    </tr>\n",
       "    <tr>\n",
       "      <th>2002-05-31</th>\n",
       "      <td>-6.700512</td>\n",
       "      <td>2.199064</td>\n",
       "    </tr>\n",
       "    <tr>\n",
       "      <th>2002-06-30</th>\n",
       "      <td>-7.374157</td>\n",
       "      <td>1.580000</td>\n",
=======
       "      <td>1.426060</td>\n",
       "      <td>-0.308263</td>\n",
       "    </tr>\n",
       "    <tr>\n",
       "      <th>2000-02-29</th>\n",
       "      <td>0.445800</td>\n",
       "      <td>-0.489707</td>\n",
       "    </tr>\n",
       "    <tr>\n",
       "      <th>2000-03-31</th>\n",
       "      <td>-0.342196</td>\n",
       "      <td>-2.600092</td>\n",
       "    </tr>\n",
       "    <tr>\n",
       "      <th>2000-04-30</th>\n",
       "      <td>0.950249</td>\n",
       "      <td>-3.708544</td>\n",
       "    </tr>\n",
       "    <tr>\n",
       "      <th>2000-05-31</th>\n",
       "      <td>-0.300202</td>\n",
       "      <td>-4.339654</td>\n",
       "    </tr>\n",
       "    <tr>\n",
       "      <th>2000-06-30</th>\n",
       "      <td>0.331948</td>\n",
       "      <td>-4.898070</td>\n",
       "    </tr>\n",
       "    <tr>\n",
       "      <th>2000-07-31</th>\n",
       "      <td>-1.415908</td>\n",
       "      <td>-4.210694</td>\n",
       "    </tr>\n",
       "    <tr>\n",
       "      <th>2000-08-31</th>\n",
       "      <td>-2.390147</td>\n",
       "      <td>-3.127724</td>\n",
       "    </tr>\n",
       "    <tr>\n",
       "      <th>2000-09-30</th>\n",
       "      <td>-4.362715</td>\n",
       "      <td>-2.458261</td>\n",
       "    </tr>\n",
       "    <tr>\n",
       "      <th>2000-10-31</th>\n",
       "      <td>-5.064677</td>\n",
       "      <td>-1.399266</td>\n",
       "    </tr>\n",
       "    <tr>\n",
       "      <th>2000-11-30</th>\n",
       "      <td>-4.503066</td>\n",
       "      <td>0.478208</td>\n",
       "    </tr>\n",
       "    <tr>\n",
       "      <th>2000-12-31</th>\n",
       "      <td>-4.284463</td>\n",
       "      <td>0.755965</td>\n",
       "    </tr>\n",
       "    <tr>\n",
       "      <th>2001-01-31</th>\n",
       "      <td>-5.101651</td>\n",
       "      <td>1.826302</td>\n",
       "    </tr>\n",
       "    <tr>\n",
       "      <th>2001-02-28</th>\n",
       "      <td>-8.539464</td>\n",
       "      <td>2.836494</td>\n",
       "    </tr>\n",
       "    <tr>\n",
       "      <th>2001-03-31</th>\n",
       "      <td>-9.078742</td>\n",
       "      <td>2.321123</td>\n",
       "    </tr>\n",
       "    <tr>\n",
       "      <th>2001-04-30</th>\n",
       "      <td>-9.018096</td>\n",
       "      <td>1.614667</td>\n",
       "    </tr>\n",
       "    <tr>\n",
       "      <th>2001-05-31</th>\n",
       "      <td>-9.067854</td>\n",
       "      <td>3.238385</td>\n",
       "    </tr>\n",
       "    <tr>\n",
       "      <th>2001-06-30</th>\n",
       "      <td>-7.464189</td>\n",
       "      <td>3.956110</td>\n",
       "    </tr>\n",
       "    <tr>\n",
       "      <th>2001-07-31</th>\n",
       "      <td>-6.814123</td>\n",
       "      <td>5.060129</td>\n",
       "    </tr>\n",
       "    <tr>\n",
       "      <th>2001-08-31</th>\n",
       "      <td>-7.817239</td>\n",
       "      <td>6.096953</td>\n",
       "    </tr>\n",
       "    <tr>\n",
       "      <th>2001-09-30</th>\n",
       "      <td>-6.184664</td>\n",
       "      <td>7.234660</td>\n",
       "    </tr>\n",
       "    <tr>\n",
       "      <th>2001-10-31</th>\n",
       "      <td>-6.668287</td>\n",
       "      <td>8.275825</td>\n",
       "    </tr>\n",
       "    <tr>\n",
       "      <th>2001-11-30</th>\n",
       "      <td>-5.960994</td>\n",
       "      <td>8.791999</td>\n",
       "    </tr>\n",
       "    <tr>\n",
       "      <th>2001-12-31</th>\n",
       "      <td>-6.640428</td>\n",
       "      <td>8.712506</td>\n",
       "    </tr>\n",
       "    <tr>\n",
       "      <th>2002-01-31</th>\n",
       "      <td>-5.976498</td>\n",
       "      <td>8.415884</td>\n",
       "    </tr>\n",
       "    <tr>\n",
       "      <th>2002-02-28</th>\n",
       "      <td>-6.198684</td>\n",
       "      <td>8.482484</td>\n",
       "    </tr>\n",
       "    <tr>\n",
       "      <th>2002-03-31</th>\n",
       "      <td>-5.339234</td>\n",
       "      <td>8.301842</td>\n",
       "    </tr>\n",
       "    <tr>\n",
       "      <th>2002-04-30</th>\n",
       "      <td>-5.634192</td>\n",
       "      <td>9.300795</td>\n",
       "    </tr>\n",
       "    <tr>\n",
       "      <th>2002-05-31</th>\n",
       "      <td>-5.495046</td>\n",
       "      <td>10.513218</td>\n",
       "    </tr>\n",
       "    <tr>\n",
       "      <th>2002-06-30</th>\n",
       "      <td>-6.884487</td>\n",
       "      <td>9.738778</td>\n",
>>>>>>> 9aea48216e5eb3b61c027f3974dbeec176697c16
       "    </tr>\n",
       "    <tr>\n",
       "      <th>...</th>\n",
       "      <td>...</td>\n",
       "      <td>...</td>\n",
       "    </tr>\n",
       "    <tr>\n",
       "      <th>2007-07-31</th>\n",
<<<<<<< HEAD
       "      <td>-8.735136</td>\n",
       "      <td>3.261587</td>\n",
       "    </tr>\n",
       "    <tr>\n",
       "      <th>2007-08-31</th>\n",
       "      <td>-10.375354</td>\n",
       "      <td>3.869535</td>\n",
       "    </tr>\n",
       "    <tr>\n",
       "      <th>2007-09-30</th>\n",
       "      <td>-10.124155</td>\n",
       "      <td>4.681675</td>\n",
       "    </tr>\n",
       "    <tr>\n",
       "      <th>2007-10-31</th>\n",
       "      <td>-10.252008</td>\n",
       "      <td>3.675007</td>\n",
       "    </tr>\n",
       "    <tr>\n",
       "      <th>2007-11-30</th>\n",
       "      <td>-10.454341</td>\n",
       "      <td>4.169464</td>\n",
       "    </tr>\n",
       "    <tr>\n",
       "      <th>2007-12-31</th>\n",
       "      <td>-9.744444</td>\n",
       "      <td>3.694923</td>\n",
       "    </tr>\n",
       "    <tr>\n",
       "      <th>2008-01-31</th>\n",
       "      <td>-7.856096</td>\n",
       "      <td>6.366678</td>\n",
       "    </tr>\n",
       "    <tr>\n",
       "      <th>2008-02-29</th>\n",
       "      <td>-7.566261</td>\n",
       "      <td>6.657283</td>\n",
       "    </tr>\n",
       "    <tr>\n",
       "      <th>2008-03-31</th>\n",
       "      <td>-6.814524</td>\n",
       "      <td>6.810376</td>\n",
       "    </tr>\n",
       "    <tr>\n",
       "      <th>2008-04-30</th>\n",
       "      <td>-7.313942</td>\n",
       "      <td>5.463890</td>\n",
       "    </tr>\n",
       "    <tr>\n",
       "      <th>2008-05-31</th>\n",
       "      <td>-5.710538</td>\n",
       "      <td>6.625567</td>\n",
       "    </tr>\n",
       "    <tr>\n",
       "      <th>2008-06-30</th>\n",
       "      <td>-6.753729</td>\n",
       "      <td>6.176488</td>\n",
       "    </tr>\n",
       "    <tr>\n",
       "      <th>2008-07-31</th>\n",
       "      <td>-7.253579</td>\n",
       "      <td>6.802334</td>\n",
       "    </tr>\n",
       "    <tr>\n",
       "      <th>2008-08-31</th>\n",
       "      <td>-7.069584</td>\n",
       "      <td>7.655239</td>\n",
       "    </tr>\n",
       "    <tr>\n",
       "      <th>2008-09-30</th>\n",
       "      <td>-8.038708</td>\n",
       "      <td>7.654243</td>\n",
       "    </tr>\n",
       "    <tr>\n",
       "      <th>2008-10-31</th>\n",
       "      <td>-7.566507</td>\n",
       "      <td>7.099268</td>\n",
       "    </tr>\n",
       "    <tr>\n",
       "      <th>2008-11-30</th>\n",
       "      <td>-7.269844</td>\n",
       "      <td>6.190779</td>\n",
       "    </tr>\n",
       "    <tr>\n",
       "      <th>2008-12-31</th>\n",
       "      <td>-6.555310</td>\n",
       "      <td>6.133612</td>\n",
       "    </tr>\n",
       "    <tr>\n",
       "      <th>2009-01-31</th>\n",
       "      <td>-7.373673</td>\n",
       "      <td>7.035120</td>\n",
       "    </tr>\n",
       "    <tr>\n",
       "      <th>2009-02-28</th>\n",
       "      <td>-6.997302</td>\n",
       "      <td>5.780442</td>\n",
       "    </tr>\n",
       "    <tr>\n",
       "      <th>2009-03-31</th>\n",
       "      <td>-8.809491</td>\n",
       "      <td>5.914768</td>\n",
       "    </tr>\n",
       "    <tr>\n",
       "      <th>2009-04-30</th>\n",
       "      <td>-9.518494</td>\n",
       "      <td>6.564798</td>\n",
       "    </tr>\n",
       "    <tr>\n",
       "      <th>2009-05-31</th>\n",
       "      <td>-8.604492</td>\n",
       "      <td>7.004342</td>\n",
       "    </tr>\n",
       "    <tr>\n",
       "      <th>2009-06-30</th>\n",
       "      <td>-8.294223</td>\n",
       "      <td>5.716059</td>\n",
       "    </tr>\n",
       "    <tr>\n",
       "      <th>2009-07-31</th>\n",
       "      <td>-6.482309</td>\n",
       "      <td>4.906063</td>\n",
       "    </tr>\n",
       "    <tr>\n",
       "      <th>2009-08-31</th>\n",
       "      <td>-7.838111</td>\n",
       "      <td>4.071597</td>\n",
       "    </tr>\n",
       "    <tr>\n",
       "      <th>2009-09-30</th>\n",
       "      <td>-7.729822</td>\n",
       "      <td>1.811205</td>\n",
       "    </tr>\n",
       "    <tr>\n",
       "      <th>2009-10-31</th>\n",
       "      <td>-8.991417</td>\n",
       "      <td>2.182243</td>\n",
       "    </tr>\n",
       "    <tr>\n",
       "      <th>2009-11-30</th>\n",
       "      <td>-10.934775</td>\n",
       "      <td>1.456196</td>\n",
       "    </tr>\n",
       "    <tr>\n",
       "      <th>2009-12-31</th>\n",
       "      <td>-11.663612</td>\n",
       "      <td>0.879480</td>\n",
=======
       "      <td>-13.408436</td>\n",
       "      <td>13.126702</td>\n",
       "    </tr>\n",
       "    <tr>\n",
       "      <th>2007-08-31</th>\n",
       "      <td>-11.388232</td>\n",
       "      <td>14.324405</td>\n",
       "    </tr>\n",
       "    <tr>\n",
       "      <th>2007-09-30</th>\n",
       "      <td>-10.545781</td>\n",
       "      <td>15.449197</td>\n",
       "    </tr>\n",
       "    <tr>\n",
       "      <th>2007-10-31</th>\n",
       "      <td>-8.989786</td>\n",
       "      <td>15.217550</td>\n",
       "    </tr>\n",
       "    <tr>\n",
       "      <th>2007-11-30</th>\n",
       "      <td>-8.961304</td>\n",
       "      <td>16.592644</td>\n",
       "    </tr>\n",
       "    <tr>\n",
       "      <th>2007-12-31</th>\n",
       "      <td>-10.538120</td>\n",
       "      <td>18.298195</td>\n",
       "    </tr>\n",
       "    <tr>\n",
       "      <th>2008-01-31</th>\n",
       "      <td>-8.364608</td>\n",
       "      <td>17.885868</td>\n",
       "    </tr>\n",
       "    <tr>\n",
       "      <th>2008-02-29</th>\n",
       "      <td>-6.357063</td>\n",
       "      <td>17.718075</td>\n",
       "    </tr>\n",
       "    <tr>\n",
       "      <th>2008-03-31</th>\n",
       "      <td>-7.989310</td>\n",
       "      <td>18.498856</td>\n",
       "    </tr>\n",
       "    <tr>\n",
       "      <th>2008-04-30</th>\n",
       "      <td>-7.061109</td>\n",
       "      <td>18.698648</td>\n",
       "    </tr>\n",
       "    <tr>\n",
       "      <th>2008-05-31</th>\n",
       "      <td>-7.770365</td>\n",
       "      <td>19.686384</td>\n",
       "    </tr>\n",
       "    <tr>\n",
       "      <th>2008-06-30</th>\n",
       "      <td>-5.334727</td>\n",
       "      <td>21.400749</td>\n",
       "    </tr>\n",
       "    <tr>\n",
       "      <th>2008-07-31</th>\n",
       "      <td>-5.750659</td>\n",
       "      <td>21.254499</td>\n",
       "    </tr>\n",
       "    <tr>\n",
       "      <th>2008-08-31</th>\n",
       "      <td>-5.678810</td>\n",
       "      <td>20.466332</td>\n",
       "    </tr>\n",
       "    <tr>\n",
       "      <th>2008-09-30</th>\n",
       "      <td>-6.595620</td>\n",
       "      <td>20.258703</td>\n",
       "    </tr>\n",
       "    <tr>\n",
       "      <th>2008-10-31</th>\n",
       "      <td>-6.850475</td>\n",
       "      <td>21.042530</td>\n",
       "    </tr>\n",
       "    <tr>\n",
       "      <th>2008-11-30</th>\n",
       "      <td>-6.568002</td>\n",
       "      <td>20.857414</td>\n",
       "    </tr>\n",
       "    <tr>\n",
       "      <th>2008-12-31</th>\n",
       "      <td>-7.637343</td>\n",
       "      <td>19.418836</td>\n",
       "    </tr>\n",
       "    <tr>\n",
       "      <th>2009-01-31</th>\n",
       "      <td>-6.574236</td>\n",
       "      <td>19.125144</td>\n",
       "    </tr>\n",
       "    <tr>\n",
       "      <th>2009-02-28</th>\n",
       "      <td>-6.713103</td>\n",
       "      <td>20.237559</td>\n",
       "    </tr>\n",
       "    <tr>\n",
       "      <th>2009-03-31</th>\n",
       "      <td>-6.939048</td>\n",
       "      <td>20.648699</td>\n",
       "    </tr>\n",
       "    <tr>\n",
       "      <th>2009-04-30</th>\n",
       "      <td>-7.657314</td>\n",
       "      <td>19.648444</td>\n",
       "    </tr>\n",
       "    <tr>\n",
       "      <th>2009-05-31</th>\n",
       "      <td>-6.309499</td>\n",
       "      <td>18.635568</td>\n",
       "    </tr>\n",
       "    <tr>\n",
       "      <th>2009-06-30</th>\n",
       "      <td>-7.578322</td>\n",
       "      <td>19.807298</td>\n",
       "    </tr>\n",
       "    <tr>\n",
       "      <th>2009-07-31</th>\n",
       "      <td>-7.945191</td>\n",
       "      <td>19.526463</td>\n",
       "    </tr>\n",
       "    <tr>\n",
       "      <th>2009-08-31</th>\n",
       "      <td>-8.687754</td>\n",
       "      <td>20.051139</td>\n",
       "    </tr>\n",
       "    <tr>\n",
       "      <th>2009-09-30</th>\n",
       "      <td>-8.836098</td>\n",
       "      <td>18.664021</td>\n",
       "    </tr>\n",
       "    <tr>\n",
       "      <th>2009-10-31</th>\n",
       "      <td>-9.055282</td>\n",
       "      <td>19.022552</td>\n",
       "    </tr>\n",
       "    <tr>\n",
       "      <th>2009-11-30</th>\n",
       "      <td>-9.492621</td>\n",
       "      <td>20.176071</td>\n",
       "    </tr>\n",
       "    <tr>\n",
       "      <th>2009-12-31</th>\n",
       "      <td>-10.193608</td>\n",
       "      <td>19.832120</td>\n",
>>>>>>> 9aea48216e5eb3b61c027f3974dbeec176697c16
       "    </tr>\n",
       "  </tbody>\n",
       "</table>\n",
       "<p>120 rows × 2 columns</p>\n",
       "</div>"
      ],
      "text/plain": [
<<<<<<< HEAD
       "              Column1   Column2\n",
       "2000-01-31   0.876817 -0.018819\n",
       "2000-02-29  -0.572867  1.115789\n",
       "2000-03-31  -0.047790  1.643008\n",
       "2000-04-30   1.127023  2.291744\n",
       "2000-05-31   1.010028  2.014539\n",
       "2000-06-30  -0.035165  1.300203\n",
       "2000-07-31  -2.240706  1.748374\n",
       "2000-08-31  -2.620650  1.126031\n",
       "2000-09-30  -2.581995  0.765329\n",
       "2000-10-31  -2.740684  1.218593\n",
       "2000-11-30  -4.047063  1.179935\n",
       "2000-12-31  -2.879970  2.917314\n",
       "2001-01-31  -1.408636  3.218266\n",
       "2001-02-28  -2.212283  1.656244\n",
       "2001-03-31  -0.998042  0.000352\n",
       "2001-04-30  -2.842902  1.214883\n",
       "2001-05-31  -3.719350  1.565512\n",
       "2001-06-30  -4.453981  2.289868\n",
       "2001-07-31  -4.671450  1.927615\n",
       "2001-08-31  -4.708269  1.819028\n",
       "2001-09-30  -5.064964  1.933736\n",
       "2001-10-31  -3.954067  2.030699\n",
       "2001-11-30  -4.621522  3.488059\n",
       "2001-12-31  -4.964851  4.070398\n",
       "2002-01-31  -6.788764  3.110832\n",
       "2002-02-28  -6.931824  3.185901\n",
       "2002-03-31  -6.083573  2.539908\n",
       "2002-04-30  -6.106341  2.365633\n",
       "2002-05-31  -6.700512  2.199064\n",
       "2002-06-30  -7.374157  1.580000\n",
       "...               ...       ...\n",
       "2007-07-31  -8.735136  3.261587\n",
       "2007-08-31 -10.375354  3.869535\n",
       "2007-09-30 -10.124155  4.681675\n",
       "2007-10-31 -10.252008  3.675007\n",
       "2007-11-30 -10.454341  4.169464\n",
       "2007-12-31  -9.744444  3.694923\n",
       "2008-01-31  -7.856096  6.366678\n",
       "2008-02-29  -7.566261  6.657283\n",
       "2008-03-31  -6.814524  6.810376\n",
       "2008-04-30  -7.313942  5.463890\n",
       "2008-05-31  -5.710538  6.625567\n",
       "2008-06-30  -6.753729  6.176488\n",
       "2008-07-31  -7.253579  6.802334\n",
       "2008-08-31  -7.069584  7.655239\n",
       "2008-09-30  -8.038708  7.654243\n",
       "2008-10-31  -7.566507  7.099268\n",
       "2008-11-30  -7.269844  6.190779\n",
       "2008-12-31  -6.555310  6.133612\n",
       "2009-01-31  -7.373673  7.035120\n",
       "2009-02-28  -6.997302  5.780442\n",
       "2009-03-31  -8.809491  5.914768\n",
       "2009-04-30  -9.518494  6.564798\n",
       "2009-05-31  -8.604492  7.004342\n",
       "2009-06-30  -8.294223  5.716059\n",
       "2009-07-31  -6.482309  4.906063\n",
       "2009-08-31  -7.838111  4.071597\n",
       "2009-09-30  -7.729822  1.811205\n",
       "2009-10-31  -8.991417  2.182243\n",
       "2009-11-30 -10.934775  1.456196\n",
       "2009-12-31 -11.663612  0.879480\n",
=======
       "              Column1    Column2\n",
       "2000-01-31   1.426060  -0.308263\n",
       "2000-02-29   0.445800  -0.489707\n",
       "2000-03-31  -0.342196  -2.600092\n",
       "2000-04-30   0.950249  -3.708544\n",
       "2000-05-31  -0.300202  -4.339654\n",
       "2000-06-30   0.331948  -4.898070\n",
       "2000-07-31  -1.415908  -4.210694\n",
       "2000-08-31  -2.390147  -3.127724\n",
       "2000-09-30  -4.362715  -2.458261\n",
       "2000-10-31  -5.064677  -1.399266\n",
       "2000-11-30  -4.503066   0.478208\n",
       "2000-12-31  -4.284463   0.755965\n",
       "2001-01-31  -5.101651   1.826302\n",
       "2001-02-28  -8.539464   2.836494\n",
       "2001-03-31  -9.078742   2.321123\n",
       "2001-04-30  -9.018096   1.614667\n",
       "2001-05-31  -9.067854   3.238385\n",
       "2001-06-30  -7.464189   3.956110\n",
       "2001-07-31  -6.814123   5.060129\n",
       "2001-08-31  -7.817239   6.096953\n",
       "2001-09-30  -6.184664   7.234660\n",
       "2001-10-31  -6.668287   8.275825\n",
       "2001-11-30  -5.960994   8.791999\n",
       "2001-12-31  -6.640428   8.712506\n",
       "2002-01-31  -5.976498   8.415884\n",
       "2002-02-28  -6.198684   8.482484\n",
       "2002-03-31  -5.339234   8.301842\n",
       "2002-04-30  -5.634192   9.300795\n",
       "2002-05-31  -5.495046  10.513218\n",
       "2002-06-30  -6.884487   9.738778\n",
       "...               ...        ...\n",
       "2007-07-31 -13.408436  13.126702\n",
       "2007-08-31 -11.388232  14.324405\n",
       "2007-09-30 -10.545781  15.449197\n",
       "2007-10-31  -8.989786  15.217550\n",
       "2007-11-30  -8.961304  16.592644\n",
       "2007-12-31 -10.538120  18.298195\n",
       "2008-01-31  -8.364608  17.885868\n",
       "2008-02-29  -6.357063  17.718075\n",
       "2008-03-31  -7.989310  18.498856\n",
       "2008-04-30  -7.061109  18.698648\n",
       "2008-05-31  -7.770365  19.686384\n",
       "2008-06-30  -5.334727  21.400749\n",
       "2008-07-31  -5.750659  21.254499\n",
       "2008-08-31  -5.678810  20.466332\n",
       "2008-09-30  -6.595620  20.258703\n",
       "2008-10-31  -6.850475  21.042530\n",
       "2008-11-30  -6.568002  20.857414\n",
       "2008-12-31  -7.637343  19.418836\n",
       "2009-01-31  -6.574236  19.125144\n",
       "2009-02-28  -6.713103  20.237559\n",
       "2009-03-31  -6.939048  20.648699\n",
       "2009-04-30  -7.657314  19.648444\n",
       "2009-05-31  -6.309499  18.635568\n",
       "2009-06-30  -7.578322  19.807298\n",
       "2009-07-31  -7.945191  19.526463\n",
       "2009-08-31  -8.687754  20.051139\n",
       "2009-09-30  -8.836098  18.664021\n",
       "2009-10-31  -9.055282  19.022552\n",
       "2009-11-30  -9.492621  20.176071\n",
       "2009-12-31 -10.193608  19.832120\n",
>>>>>>> 9aea48216e5eb3b61c027f3974dbeec176697c16
       "\n",
       "[120 rows x 2 columns]"
      ]
     },
     "execution_count": 38,
     "metadata": {},
     "output_type": "execute_result"
    }
   ],
   "source": [
    "df"
   ]
  },
  {
   "cell_type": "markdown",
   "metadata": {},
   "source": [
    "Viewing the DataFrame may either display the whole thing, or else just a quick summary of the index and the columns, depending on the version of pandas you have and how it's conigured. To view the summary, use the *.info()* method:"
   ]
  },
  {
   "cell_type": "code",
   "execution_count": 39,
   "metadata": {},
   "outputs": [
    {
     "name": "stdout",
     "output_type": "stream",
     "text": [
      "<class 'pandas.core.frame.DataFrame'>\n",
      "DatetimeIndex: 120 entries, 2000-01-31 to 2009-12-31\n",
      "Freq: M\n",
      "Data columns (total 2 columns):\n",
      "Column1    120 non-null float64\n",
      "Column2    120 non-null float64\n",
      "dtypes: float64(2)\n",
      "memory usage: 7.8 KB\n"
     ]
    }
   ],
   "source": [
    "df.info()"
   ]
  },
  {
   "cell_type": "markdown",
   "metadata": {},
   "source": [
    "The column headers are stored in the *columns* property:"
   ]
  },
  {
   "cell_type": "code",
   "execution_count": 40,
   "metadata": {},
   "outputs": [
    {
     "data": {
      "text/plain": [
       "Index(['Column1', 'Column2'], dtype='object')"
      ]
     },
     "execution_count": 40,
     "metadata": {},
     "output_type": "execute_result"
    }
   ],
   "source": [
    "df.columns"
   ]
  },
  {
   "cell_type": "markdown",
   "metadata": {},
   "source": [
    "We can quickly see the data types of each column using the *dtypes* property:"
   ]
  },
  {
   "cell_type": "code",
   "execution_count": 41,
   "metadata": {},
   "outputs": [
    {
     "data": {
      "text/plain": [
       "Column1    float64\n",
       "Column2    float64\n",
       "dtype: object"
      ]
     },
     "execution_count": 41,
     "metadata": {},
     "output_type": "execute_result"
    }
   ],
   "source": [
    "df.dtypes"
   ]
  },
  {
   "cell_type": "markdown",
   "metadata": {},
   "source": [
    "And we can see the index using the *index* property:"
   ]
  },
  {
   "cell_type": "code",
   "execution_count": 42,
   "metadata": {},
   "outputs": [
    {
     "data": {
      "text/plain": [
       "DatetimeIndex(['2000-01-31', '2000-02-29', '2000-03-31', '2000-04-30',\n",
       "               '2000-05-31', '2000-06-30', '2000-07-31', '2000-08-31',\n",
       "               '2000-09-30', '2000-10-31',\n",
       "               ...\n",
       "               '2009-03-31', '2009-04-30', '2009-05-31', '2009-06-30',\n",
       "               '2009-07-31', '2009-08-31', '2009-09-30', '2009-10-31',\n",
       "               '2009-11-30', '2009-12-31'],\n",
       "              dtype='datetime64[ns]', length=120, freq='M')"
      ]
     },
     "execution_count": 42,
     "metadata": {},
     "output_type": "execute_result"
    }
   ],
   "source": [
    "df.index"
   ]
  },
  {
   "cell_type": "markdown",
   "metadata": {},
   "source": [
    "The index is a datetime, just like it was for the series. Each row is associated with a date.\n",
    "\n",
    "We can quickly look at the top and bottom rows using the *head()* and *tail()* methods."
   ]
  },
  {
   "cell_type": "code",
   "execution_count": 43,
   "metadata": {},
   "outputs": [
    {
     "data": {
      "text/html": [
       "<div>\n",
       "<style scoped>\n",
       "    .dataframe tbody tr th:only-of-type {\n",
       "        vertical-align: middle;\n",
       "    }\n",
       "\n",
       "    .dataframe tbody tr th {\n",
       "        vertical-align: top;\n",
       "    }\n",
       "\n",
       "    .dataframe thead th {\n",
       "        text-align: right;\n",
       "    }\n",
       "</style>\n",
       "<table border=\"1\" class=\"dataframe\">\n",
       "  <thead>\n",
       "    <tr style=\"text-align: right;\">\n",
       "      <th></th>\n",
       "      <th>Column1</th>\n",
       "      <th>Column2</th>\n",
       "    </tr>\n",
       "  </thead>\n",
       "  <tbody>\n",
       "    <tr>\n",
       "      <th>2000-01-31</th>\n",
<<<<<<< HEAD
       "      <td>0.876817</td>\n",
       "      <td>-0.018819</td>\n",
       "    </tr>\n",
       "    <tr>\n",
       "      <th>2000-02-29</th>\n",
       "      <td>-0.572867</td>\n",
       "      <td>1.115789</td>\n",
       "    </tr>\n",
       "    <tr>\n",
       "      <th>2000-03-31</th>\n",
       "      <td>-0.047790</td>\n",
       "      <td>1.643008</td>\n",
       "    </tr>\n",
       "    <tr>\n",
       "      <th>2000-04-30</th>\n",
       "      <td>1.127023</td>\n",
       "      <td>2.291744</td>\n",
       "    </tr>\n",
       "    <tr>\n",
       "      <th>2000-05-31</th>\n",
       "      <td>1.010028</td>\n",
       "      <td>2.014539</td>\n",
=======
       "      <td>1.426060</td>\n",
       "      <td>-0.308263</td>\n",
       "    </tr>\n",
       "    <tr>\n",
       "      <th>2000-02-29</th>\n",
       "      <td>0.445800</td>\n",
       "      <td>-0.489707</td>\n",
       "    </tr>\n",
       "    <tr>\n",
       "      <th>2000-03-31</th>\n",
       "      <td>-0.342196</td>\n",
       "      <td>-2.600092</td>\n",
       "    </tr>\n",
       "    <tr>\n",
       "      <th>2000-04-30</th>\n",
       "      <td>0.950249</td>\n",
       "      <td>-3.708544</td>\n",
       "    </tr>\n",
       "    <tr>\n",
       "      <th>2000-05-31</th>\n",
       "      <td>-0.300202</td>\n",
       "      <td>-4.339654</td>\n",
>>>>>>> 9aea48216e5eb3b61c027f3974dbeec176697c16
       "    </tr>\n",
       "  </tbody>\n",
       "</table>\n",
       "</div>"
      ],
      "text/plain": [
       "             Column1   Column2\n",
<<<<<<< HEAD
       "2000-01-31  0.876817 -0.018819\n",
       "2000-02-29 -0.572867  1.115789\n",
       "2000-03-31 -0.047790  1.643008\n",
       "2000-04-30  1.127023  2.291744\n",
       "2000-05-31  1.010028  2.014539"
=======
       "2000-01-31  1.426060 -0.308263\n",
       "2000-02-29  0.445800 -0.489707\n",
       "2000-03-31 -0.342196 -2.600092\n",
       "2000-04-30  0.950249 -3.708544\n",
       "2000-05-31 -0.300202 -4.339654"
>>>>>>> 9aea48216e5eb3b61c027f3974dbeec176697c16
      ]
     },
     "execution_count": 43,
     "metadata": {},
     "output_type": "execute_result"
    }
   ],
   "source": [
    "df.head()"
   ]
  },
  {
   "cell_type": "code",
   "execution_count": 44,
   "metadata": {},
   "outputs": [
    {
     "data": {
      "text/html": [
       "<div>\n",
       "<style scoped>\n",
       "    .dataframe tbody tr th:only-of-type {\n",
       "        vertical-align: middle;\n",
       "    }\n",
       "\n",
       "    .dataframe tbody tr th {\n",
       "        vertical-align: top;\n",
       "    }\n",
       "\n",
       "    .dataframe thead th {\n",
       "        text-align: right;\n",
       "    }\n",
       "</style>\n",
       "<table border=\"1\" class=\"dataframe\">\n",
       "  <thead>\n",
       "    <tr style=\"text-align: right;\">\n",
       "      <th></th>\n",
       "      <th>Column1</th>\n",
       "      <th>Column2</th>\n",
       "    </tr>\n",
       "  </thead>\n",
       "  <tbody>\n",
       "    <tr>\n",
       "      <th>2009-11-30</th>\n",
<<<<<<< HEAD
       "      <td>-10.934775</td>\n",
       "      <td>1.456196</td>\n",
       "    </tr>\n",
       "    <tr>\n",
       "      <th>2009-12-31</th>\n",
       "      <td>-11.663612</td>\n",
       "      <td>0.879480</td>\n",
=======
       "      <td>-9.492621</td>\n",
       "      <td>20.176071</td>\n",
       "    </tr>\n",
       "    <tr>\n",
       "      <th>2009-12-31</th>\n",
       "      <td>-10.193608</td>\n",
       "      <td>19.832120</td>\n",
>>>>>>> 9aea48216e5eb3b61c027f3974dbeec176697c16
       "    </tr>\n",
       "  </tbody>\n",
       "</table>\n",
       "</div>"
      ],
      "text/plain": [
<<<<<<< HEAD
       "              Column1   Column2\n",
       "2009-11-30 -10.934775  1.456196\n",
       "2009-12-31 -11.663612  0.879480"
=======
       "              Column1    Column2\n",
       "2009-11-30  -9.492621  20.176071\n",
       "2009-12-31 -10.193608  19.832120"
>>>>>>> 9aea48216e5eb3b61c027f3974dbeec176697c16
      ]
     },
     "execution_count": 44,
     "metadata": {},
     "output_type": "execute_result"
    }
   ],
   "source": [
    "df.tail(2) # A number specifies how many rows to include"
   ]
  },
  {
   "cell_type": "markdown",
   "metadata": {},
   "source": [
    "Using the *corr()* method will produce a correlation table for all the columns in the DataFrame."
   ]
  },
  {
   "cell_type": "code",
   "execution_count": 45,
   "metadata": {},
   "outputs": [
    {
     "data": {
      "text/html": [
       "<div>\n",
       "<style scoped>\n",
       "    .dataframe tbody tr th:only-of-type {\n",
       "        vertical-align: middle;\n",
       "    }\n",
       "\n",
       "    .dataframe tbody tr th {\n",
       "        vertical-align: top;\n",
       "    }\n",
       "\n",
       "    .dataframe thead th {\n",
       "        text-align: right;\n",
       "    }\n",
       "</style>\n",
       "<table border=\"1\" class=\"dataframe\">\n",
       "  <thead>\n",
       "    <tr style=\"text-align: right;\">\n",
       "      <th></th>\n",
       "      <th>Column1</th>\n",
       "      <th>Column2</th>\n",
       "    </tr>\n",
       "  </thead>\n",
       "  <tbody>\n",
       "    <tr>\n",
       "      <th>Column1</th>\n",
       "      <td>1.000000</td>\n",
<<<<<<< HEAD
       "      <td>0.031494</td>\n",
       "    </tr>\n",
       "    <tr>\n",
       "      <th>Column2</th>\n",
       "      <td>0.031494</td>\n",
=======
       "      <td>-0.428692</td>\n",
       "    </tr>\n",
       "    <tr>\n",
       "      <th>Column2</th>\n",
       "      <td>-0.428692</td>\n",
>>>>>>> 9aea48216e5eb3b61c027f3974dbeec176697c16
       "      <td>1.000000</td>\n",
       "    </tr>\n",
       "  </tbody>\n",
       "</table>\n",
       "</div>"
      ],
      "text/plain": [
       "          Column1   Column2\n",
<<<<<<< HEAD
       "Column1  1.000000  0.031494\n",
       "Column2  0.031494  1.000000"
=======
       "Column1  1.000000 -0.428692\n",
       "Column2 -0.428692  1.000000"
>>>>>>> 9aea48216e5eb3b61c027f3974dbeec176697c16
      ]
     },
     "execution_count": 45,
     "metadata": {},
     "output_type": "execute_result"
    }
   ],
   "source": [
    "df.corr()"
   ]
  },
  {
   "cell_type": "markdown",
   "metadata": {},
   "source": [
    "### Selecting columns\n",
    "\n",
    "There are two ways to access specific columns within the DataFrame. The first is by putting the columns name (in quotation marks) in square brackets:"
   ]
  },
  {
   "cell_type": "code",
   "execution_count": 46,
   "metadata": {},
   "outputs": [
    {
     "data": {
      "text/plain": [
<<<<<<< HEAD
       "2000-01-31     0.876817\n",
       "2000-02-29    -0.572867\n",
       "2000-03-31    -0.047790\n",
       "2000-04-30     1.127023\n",
       "2000-05-31     1.010028\n",
       "2000-06-30    -0.035165\n",
       "2000-07-31    -2.240706\n",
       "2000-08-31    -2.620650\n",
       "2000-09-30    -2.581995\n",
       "2000-10-31    -2.740684\n",
       "2000-11-30    -4.047063\n",
       "2000-12-31    -2.879970\n",
       "2001-01-31    -1.408636\n",
       "2001-02-28    -2.212283\n",
       "2001-03-31    -0.998042\n",
       "2001-04-30    -2.842902\n",
       "2001-05-31    -3.719350\n",
       "2001-06-30    -4.453981\n",
       "2001-07-31    -4.671450\n",
       "2001-08-31    -4.708269\n",
       "2001-09-30    -5.064964\n",
       "2001-10-31    -3.954067\n",
       "2001-11-30    -4.621522\n",
       "2001-12-31    -4.964851\n",
       "2002-01-31    -6.788764\n",
       "2002-02-28    -6.931824\n",
       "2002-03-31    -6.083573\n",
       "2002-04-30    -6.106341\n",
       "2002-05-31    -6.700512\n",
       "2002-06-30    -7.374157\n",
       "                ...    \n",
       "2007-07-31    -8.735136\n",
       "2007-08-31   -10.375354\n",
       "2007-09-30   -10.124155\n",
       "2007-10-31   -10.252008\n",
       "2007-11-30   -10.454341\n",
       "2007-12-31    -9.744444\n",
       "2008-01-31    -7.856096\n",
       "2008-02-29    -7.566261\n",
       "2008-03-31    -6.814524\n",
       "2008-04-30    -7.313942\n",
       "2008-05-31    -5.710538\n",
       "2008-06-30    -6.753729\n",
       "2008-07-31    -7.253579\n",
       "2008-08-31    -7.069584\n",
       "2008-09-30    -8.038708\n",
       "2008-10-31    -7.566507\n",
       "2008-11-30    -7.269844\n",
       "2008-12-31    -6.555310\n",
       "2009-01-31    -7.373673\n",
       "2009-02-28    -6.997302\n",
       "2009-03-31    -8.809491\n",
       "2009-04-30    -9.518494\n",
       "2009-05-31    -8.604492\n",
       "2009-06-30    -8.294223\n",
       "2009-07-31    -6.482309\n",
       "2009-08-31    -7.838111\n",
       "2009-09-30    -7.729822\n",
       "2009-10-31    -8.991417\n",
       "2009-11-30   -10.934775\n",
       "2009-12-31   -11.663612\n",
=======
       "2000-01-31     1.426060\n",
       "2000-02-29     0.445800\n",
       "2000-03-31    -0.342196\n",
       "2000-04-30     0.950249\n",
       "2000-05-31    -0.300202\n",
       "2000-06-30     0.331948\n",
       "2000-07-31    -1.415908\n",
       "2000-08-31    -2.390147\n",
       "2000-09-30    -4.362715\n",
       "2000-10-31    -5.064677\n",
       "2000-11-30    -4.503066\n",
       "2000-12-31    -4.284463\n",
       "2001-01-31    -5.101651\n",
       "2001-02-28    -8.539464\n",
       "2001-03-31    -9.078742\n",
       "2001-04-30    -9.018096\n",
       "2001-05-31    -9.067854\n",
       "2001-06-30    -7.464189\n",
       "2001-07-31    -6.814123\n",
       "2001-08-31    -7.817239\n",
       "2001-09-30    -6.184664\n",
       "2001-10-31    -6.668287\n",
       "2001-11-30    -5.960994\n",
       "2001-12-31    -6.640428\n",
       "2002-01-31    -5.976498\n",
       "2002-02-28    -6.198684\n",
       "2002-03-31    -5.339234\n",
       "2002-04-30    -5.634192\n",
       "2002-05-31    -5.495046\n",
       "2002-06-30    -6.884487\n",
       "                ...    \n",
       "2007-07-31   -13.408436\n",
       "2007-08-31   -11.388232\n",
       "2007-09-30   -10.545781\n",
       "2007-10-31    -8.989786\n",
       "2007-11-30    -8.961304\n",
       "2007-12-31   -10.538120\n",
       "2008-01-31    -8.364608\n",
       "2008-02-29    -6.357063\n",
       "2008-03-31    -7.989310\n",
       "2008-04-30    -7.061109\n",
       "2008-05-31    -7.770365\n",
       "2008-06-30    -5.334727\n",
       "2008-07-31    -5.750659\n",
       "2008-08-31    -5.678810\n",
       "2008-09-30    -6.595620\n",
       "2008-10-31    -6.850475\n",
       "2008-11-30    -6.568002\n",
       "2008-12-31    -7.637343\n",
       "2009-01-31    -6.574236\n",
       "2009-02-28    -6.713103\n",
       "2009-03-31    -6.939048\n",
       "2009-04-30    -7.657314\n",
       "2009-05-31    -6.309499\n",
       "2009-06-30    -7.578322\n",
       "2009-07-31    -7.945191\n",
       "2009-08-31    -8.687754\n",
       "2009-09-30    -8.836098\n",
       "2009-10-31    -9.055282\n",
       "2009-11-30    -9.492621\n",
       "2009-12-31   -10.193608\n",
>>>>>>> 9aea48216e5eb3b61c027f3974dbeec176697c16
       "Freq: M, Name: Column1, Length: 120, dtype: float64"
      ]
     },
     "execution_count": 46,
     "metadata": {},
     "output_type": "execute_result"
    }
   ],
   "source": [
    "df[\"Column1\"]"
   ]
  },
  {
   "cell_type": "markdown",
   "metadata": {},
   "source": [
    "If there are no spaces in the column name, we can also reference it as a property:"
   ]
  },
  {
   "cell_type": "code",
   "execution_count": 47,
   "metadata": {},
   "outputs": [
    {
     "data": {
      "text/plain": [
<<<<<<< HEAD
       "2000-01-31   -0.018819\n",
       "2000-02-29    1.115789\n",
       "2000-03-31    1.643008\n",
       "2000-04-30    2.291744\n",
       "2000-05-31    2.014539\n",
       "2000-06-30    1.300203\n",
       "2000-07-31    1.748374\n",
       "2000-08-31    1.126031\n",
       "2000-09-30    0.765329\n",
       "2000-10-31    1.218593\n",
       "2000-11-30    1.179935\n",
       "2000-12-31    2.917314\n",
       "2001-01-31    3.218266\n",
       "2001-02-28    1.656244\n",
       "2001-03-31    0.000352\n",
       "2001-04-30    1.214883\n",
       "2001-05-31    1.565512\n",
       "2001-06-30    2.289868\n",
       "2001-07-31    1.927615\n",
       "2001-08-31    1.819028\n",
       "2001-09-30    1.933736\n",
       "2001-10-31    2.030699\n",
       "2001-11-30    3.488059\n",
       "2001-12-31    4.070398\n",
       "2002-01-31    3.110832\n",
       "2002-02-28    3.185901\n",
       "2002-03-31    2.539908\n",
       "2002-04-30    2.365633\n",
       "2002-05-31    2.199064\n",
       "2002-06-30    1.580000\n",
       "                ...   \n",
       "2007-07-31    3.261587\n",
       "2007-08-31    3.869535\n",
       "2007-09-30    4.681675\n",
       "2007-10-31    3.675007\n",
       "2007-11-30    4.169464\n",
       "2007-12-31    3.694923\n",
       "2008-01-31    6.366678\n",
       "2008-02-29    6.657283\n",
       "2008-03-31    6.810376\n",
       "2008-04-30    5.463890\n",
       "2008-05-31    6.625567\n",
       "2008-06-30    6.176488\n",
       "2008-07-31    6.802334\n",
       "2008-08-31    7.655239\n",
       "2008-09-30    7.654243\n",
       "2008-10-31    7.099268\n",
       "2008-11-30    6.190779\n",
       "2008-12-31    6.133612\n",
       "2009-01-31    7.035120\n",
       "2009-02-28    5.780442\n",
       "2009-03-31    5.914768\n",
       "2009-04-30    6.564798\n",
       "2009-05-31    7.004342\n",
       "2009-06-30    5.716059\n",
       "2009-07-31    4.906063\n",
       "2009-08-31    4.071597\n",
       "2009-09-30    1.811205\n",
       "2009-10-31    2.182243\n",
       "2009-11-30    1.456196\n",
       "2009-12-31    0.879480\n",
=======
       "2000-01-31    -0.308263\n",
       "2000-02-29    -0.489707\n",
       "2000-03-31    -2.600092\n",
       "2000-04-30    -3.708544\n",
       "2000-05-31    -4.339654\n",
       "2000-06-30    -4.898070\n",
       "2000-07-31    -4.210694\n",
       "2000-08-31    -3.127724\n",
       "2000-09-30    -2.458261\n",
       "2000-10-31    -1.399266\n",
       "2000-11-30     0.478208\n",
       "2000-12-31     0.755965\n",
       "2001-01-31     1.826302\n",
       "2001-02-28     2.836494\n",
       "2001-03-31     2.321123\n",
       "2001-04-30     1.614667\n",
       "2001-05-31     3.238385\n",
       "2001-06-30     3.956110\n",
       "2001-07-31     5.060129\n",
       "2001-08-31     6.096953\n",
       "2001-09-30     7.234660\n",
       "2001-10-31     8.275825\n",
       "2001-11-30     8.791999\n",
       "2001-12-31     8.712506\n",
       "2002-01-31     8.415884\n",
       "2002-02-28     8.482484\n",
       "2002-03-31     8.301842\n",
       "2002-04-30     9.300795\n",
       "2002-05-31    10.513218\n",
       "2002-06-30     9.738778\n",
       "                ...    \n",
       "2007-07-31    13.126702\n",
       "2007-08-31    14.324405\n",
       "2007-09-30    15.449197\n",
       "2007-10-31    15.217550\n",
       "2007-11-30    16.592644\n",
       "2007-12-31    18.298195\n",
       "2008-01-31    17.885868\n",
       "2008-02-29    17.718075\n",
       "2008-03-31    18.498856\n",
       "2008-04-30    18.698648\n",
       "2008-05-31    19.686384\n",
       "2008-06-30    21.400749\n",
       "2008-07-31    21.254499\n",
       "2008-08-31    20.466332\n",
       "2008-09-30    20.258703\n",
       "2008-10-31    21.042530\n",
       "2008-11-30    20.857414\n",
       "2008-12-31    19.418836\n",
       "2009-01-31    19.125144\n",
       "2009-02-28    20.237559\n",
       "2009-03-31    20.648699\n",
       "2009-04-30    19.648444\n",
       "2009-05-31    18.635568\n",
       "2009-06-30    19.807298\n",
       "2009-07-31    19.526463\n",
       "2009-08-31    20.051139\n",
       "2009-09-30    18.664021\n",
       "2009-10-31    19.022552\n",
       "2009-11-30    20.176071\n",
       "2009-12-31    19.832120\n",
>>>>>>> 9aea48216e5eb3b61c027f3974dbeec176697c16
       "Freq: M, Name: Column2, Length: 120, dtype: float64"
      ]
     },
     "execution_count": 47,
     "metadata": {},
     "output_type": "execute_result"
    }
   ],
   "source": [
    "df.Column2"
   ]
  },
  {
   "cell_type": "markdown",
   "metadata": {},
   "source": [
    "The square bracket notation is also how we create new columns:"
   ]
  },
  {
   "cell_type": "code",
   "execution_count": 48,
   "metadata": {},
   "outputs": [],
   "source": [
    "df[\"New Column\"] = 1"
   ]
  },
  {
   "cell_type": "code",
   "execution_count": 49,
   "metadata": {},
   "outputs": [
    {
     "data": {
      "text/html": [
       "<div>\n",
       "<style scoped>\n",
       "    .dataframe tbody tr th:only-of-type {\n",
       "        vertical-align: middle;\n",
       "    }\n",
       "\n",
       "    .dataframe tbody tr th {\n",
       "        vertical-align: top;\n",
       "    }\n",
       "\n",
       "    .dataframe thead th {\n",
       "        text-align: right;\n",
       "    }\n",
       "</style>\n",
       "<table border=\"1\" class=\"dataframe\">\n",
       "  <thead>\n",
       "    <tr style=\"text-align: right;\">\n",
       "      <th></th>\n",
       "      <th>Column1</th>\n",
       "      <th>Column2</th>\n",
       "      <th>New Column</th>\n",
       "    </tr>\n",
       "  </thead>\n",
       "  <tbody>\n",
       "    <tr>\n",
       "      <th>2000-01-31</th>\n",
<<<<<<< HEAD
       "      <td>0.876817</td>\n",
       "      <td>-0.018819</td>\n",
=======
       "      <td>1.426060</td>\n",
       "      <td>-0.308263</td>\n",
>>>>>>> 9aea48216e5eb3b61c027f3974dbeec176697c16
       "      <td>1</td>\n",
       "    </tr>\n",
       "    <tr>\n",
       "      <th>2000-02-29</th>\n",
<<<<<<< HEAD
       "      <td>-0.572867</td>\n",
       "      <td>1.115789</td>\n",
=======
       "      <td>0.445800</td>\n",
       "      <td>-0.489707</td>\n",
>>>>>>> 9aea48216e5eb3b61c027f3974dbeec176697c16
       "      <td>1</td>\n",
       "    </tr>\n",
       "    <tr>\n",
       "      <th>2000-03-31</th>\n",
<<<<<<< HEAD
       "      <td>-0.047790</td>\n",
       "      <td>1.643008</td>\n",
=======
       "      <td>-0.342196</td>\n",
       "      <td>-2.600092</td>\n",
>>>>>>> 9aea48216e5eb3b61c027f3974dbeec176697c16
       "      <td>1</td>\n",
       "    </tr>\n",
       "    <tr>\n",
       "      <th>2000-04-30</th>\n",
<<<<<<< HEAD
       "      <td>1.127023</td>\n",
       "      <td>2.291744</td>\n",
=======
       "      <td>0.950249</td>\n",
       "      <td>-3.708544</td>\n",
>>>>>>> 9aea48216e5eb3b61c027f3974dbeec176697c16
       "      <td>1</td>\n",
       "    </tr>\n",
       "    <tr>\n",
       "      <th>2000-05-31</th>\n",
<<<<<<< HEAD
       "      <td>1.010028</td>\n",
       "      <td>2.014539</td>\n",
=======
       "      <td>-0.300202</td>\n",
       "      <td>-4.339654</td>\n",
>>>>>>> 9aea48216e5eb3b61c027f3974dbeec176697c16
       "      <td>1</td>\n",
       "    </tr>\n",
       "  </tbody>\n",
       "</table>\n",
       "</div>"
      ],
      "text/plain": [
       "             Column1   Column2  New Column\n",
<<<<<<< HEAD
       "2000-01-31  0.876817 -0.018819           1\n",
       "2000-02-29 -0.572867  1.115789           1\n",
       "2000-03-31 -0.047790  1.643008           1\n",
       "2000-04-30  1.127023  2.291744           1\n",
       "2000-05-31  1.010028  2.014539           1"
=======
       "2000-01-31  1.426060 -0.308263           1\n",
       "2000-02-29  0.445800 -0.489707           1\n",
       "2000-03-31 -0.342196 -2.600092           1\n",
       "2000-04-30  0.950249 -3.708544           1\n",
       "2000-05-31 -0.300202 -4.339654           1"
>>>>>>> 9aea48216e5eb3b61c027f3974dbeec176697c16
      ]
     },
     "execution_count": 49,
     "metadata": {},
     "output_type": "execute_result"
    }
   ],
   "source": [
    "df.head()"
   ]
  },
  {
   "cell_type": "markdown",
   "metadata": {},
   "source": [
    "Notice that since there's a space in the name, we can't reference it as *df.* anything"
   ]
  },
  {
   "cell_type": "markdown",
   "metadata": {},
   "source": [
    "## Working with real data\n",
    "\n",
    "Playing with toy data is fine, but to really dive into pandas let's use it to replicate and expand on some of our analysis last week.\n",
    "\n",
    "We can load a CSV file into a pandas DataFrame using the *read_csv(...)* function. Let's step through and try to load last week's MovieData.csv:"
   ]
  },
  {
   "cell_type": "code",
   "execution_count": 50,
   "metadata": {},
   "outputs": [
    {
     "ename": "ParserError",
     "evalue": "Error tokenizing data. C error: Expected 1 fields in line 38, saw 2\n",
     "output_type": "error",
     "traceback": [
      "\u001b[0;31m---------------------------------------------------------------------------\u001b[0m",
      "\u001b[0;31mParserError\u001b[0m                               Traceback (most recent call last)",
      "\u001b[0;32m<ipython-input-50-d9440e44d3bd>\u001b[0m in \u001b[0;36m<module>\u001b[0;34m()\u001b[0m\n\u001b[0;32m----> 1\u001b[0;31m \u001b[0mmovies\u001b[0m \u001b[0;34m=\u001b[0m \u001b[0mpd\u001b[0m\u001b[0;34m.\u001b[0m\u001b[0mread_csv\u001b[0m\u001b[0;34m(\u001b[0m\u001b[0;34m\"MovieData.csv\"\u001b[0m\u001b[0;34m)\u001b[0m\u001b[0;34m\u001b[0m\u001b[0m\n\u001b[0m",
      "\u001b[0;32m/usr/local/anaconda3/lib/python3.6/site-packages/pandas/io/parsers.py\u001b[0m in \u001b[0;36mparser_f\u001b[0;34m(filepath_or_buffer, sep, delimiter, header, names, index_col, usecols, squeeze, prefix, mangle_dupe_cols, dtype, engine, converters, true_values, false_values, skipinitialspace, skiprows, nrows, na_values, keep_default_na, na_filter, verbose, skip_blank_lines, parse_dates, infer_datetime_format, keep_date_col, date_parser, dayfirst, iterator, chunksize, compression, thousands, decimal, lineterminator, quotechar, quoting, escapechar, comment, encoding, dialect, tupleize_cols, error_bad_lines, warn_bad_lines, skipfooter, doublequote, delim_whitespace, low_memory, memory_map, float_precision)\u001b[0m\n\u001b[1;32m    676\u001b[0m                     skip_blank_lines=skip_blank_lines)\n\u001b[1;32m    677\u001b[0m \u001b[0;34m\u001b[0m\u001b[0m\n\u001b[0;32m--> 678\u001b[0;31m         \u001b[0;32mreturn\u001b[0m \u001b[0m_read\u001b[0m\u001b[0;34m(\u001b[0m\u001b[0mfilepath_or_buffer\u001b[0m\u001b[0;34m,\u001b[0m \u001b[0mkwds\u001b[0m\u001b[0;34m)\u001b[0m\u001b[0;34m\u001b[0m\u001b[0m\n\u001b[0m\u001b[1;32m    679\u001b[0m \u001b[0;34m\u001b[0m\u001b[0m\n\u001b[1;32m    680\u001b[0m     \u001b[0mparser_f\u001b[0m\u001b[0;34m.\u001b[0m\u001b[0m__name__\u001b[0m \u001b[0;34m=\u001b[0m \u001b[0mname\u001b[0m\u001b[0;34m\u001b[0m\u001b[0m\n",
      "\u001b[0;32m/usr/local/anaconda3/lib/python3.6/site-packages/pandas/io/parsers.py\u001b[0m in \u001b[0;36m_read\u001b[0;34m(filepath_or_buffer, kwds)\u001b[0m\n\u001b[1;32m    444\u001b[0m \u001b[0;34m\u001b[0m\u001b[0m\n\u001b[1;32m    445\u001b[0m     \u001b[0;32mtry\u001b[0m\u001b[0;34m:\u001b[0m\u001b[0;34m\u001b[0m\u001b[0m\n\u001b[0;32m--> 446\u001b[0;31m         \u001b[0mdata\u001b[0m \u001b[0;34m=\u001b[0m \u001b[0mparser\u001b[0m\u001b[0;34m.\u001b[0m\u001b[0mread\u001b[0m\u001b[0;34m(\u001b[0m\u001b[0mnrows\u001b[0m\u001b[0;34m)\u001b[0m\u001b[0;34m\u001b[0m\u001b[0m\n\u001b[0m\u001b[1;32m    447\u001b[0m     \u001b[0;32mfinally\u001b[0m\u001b[0;34m:\u001b[0m\u001b[0;34m\u001b[0m\u001b[0m\n\u001b[1;32m    448\u001b[0m         \u001b[0mparser\u001b[0m\u001b[0;34m.\u001b[0m\u001b[0mclose\u001b[0m\u001b[0;34m(\u001b[0m\u001b[0;34m)\u001b[0m\u001b[0;34m\u001b[0m\u001b[0m\n",
      "\u001b[0;32m/usr/local/anaconda3/lib/python3.6/site-packages/pandas/io/parsers.py\u001b[0m in \u001b[0;36mread\u001b[0;34m(self, nrows)\u001b[0m\n\u001b[1;32m   1034\u001b[0m                 \u001b[0;32mraise\u001b[0m \u001b[0mValueError\u001b[0m\u001b[0;34m(\u001b[0m\u001b[0;34m'skipfooter not supported for iteration'\u001b[0m\u001b[0;34m)\u001b[0m\u001b[0;34m\u001b[0m\u001b[0m\n\u001b[1;32m   1035\u001b[0m \u001b[0;34m\u001b[0m\u001b[0m\n\u001b[0;32m-> 1036\u001b[0;31m         \u001b[0mret\u001b[0m \u001b[0;34m=\u001b[0m \u001b[0mself\u001b[0m\u001b[0;34m.\u001b[0m\u001b[0m_engine\u001b[0m\u001b[0;34m.\u001b[0m\u001b[0mread\u001b[0m\u001b[0;34m(\u001b[0m\u001b[0mnrows\u001b[0m\u001b[0;34m)\u001b[0m\u001b[0;34m\u001b[0m\u001b[0m\n\u001b[0m\u001b[1;32m   1037\u001b[0m \u001b[0;34m\u001b[0m\u001b[0m\n\u001b[1;32m   1038\u001b[0m         \u001b[0;31m# May alter columns / col_dict\u001b[0m\u001b[0;34m\u001b[0m\u001b[0;34m\u001b[0m\u001b[0m\n",
      "\u001b[0;32m/usr/local/anaconda3/lib/python3.6/site-packages/pandas/io/parsers.py\u001b[0m in \u001b[0;36mread\u001b[0;34m(self, nrows)\u001b[0m\n\u001b[1;32m   1846\u001b[0m     \u001b[0;32mdef\u001b[0m \u001b[0mread\u001b[0m\u001b[0;34m(\u001b[0m\u001b[0mself\u001b[0m\u001b[0;34m,\u001b[0m \u001b[0mnrows\u001b[0m\u001b[0;34m=\u001b[0m\u001b[0;32mNone\u001b[0m\u001b[0;34m)\u001b[0m\u001b[0;34m:\u001b[0m\u001b[0;34m\u001b[0m\u001b[0m\n\u001b[1;32m   1847\u001b[0m         \u001b[0;32mtry\u001b[0m\u001b[0;34m:\u001b[0m\u001b[0;34m\u001b[0m\u001b[0m\n\u001b[0;32m-> 1848\u001b[0;31m             \u001b[0mdata\u001b[0m \u001b[0;34m=\u001b[0m \u001b[0mself\u001b[0m\u001b[0;34m.\u001b[0m\u001b[0m_reader\u001b[0m\u001b[0;34m.\u001b[0m\u001b[0mread\u001b[0m\u001b[0;34m(\u001b[0m\u001b[0mnrows\u001b[0m\u001b[0;34m)\u001b[0m\u001b[0;34m\u001b[0m\u001b[0m\n\u001b[0m\u001b[1;32m   1849\u001b[0m         \u001b[0;32mexcept\u001b[0m \u001b[0mStopIteration\u001b[0m\u001b[0;34m:\u001b[0m\u001b[0;34m\u001b[0m\u001b[0m\n\u001b[1;32m   1850\u001b[0m             \u001b[0;32mif\u001b[0m \u001b[0mself\u001b[0m\u001b[0;34m.\u001b[0m\u001b[0m_first_chunk\u001b[0m\u001b[0;34m:\u001b[0m\u001b[0;34m\u001b[0m\u001b[0m\n",
      "\u001b[0;32mpandas/_libs/parsers.pyx\u001b[0m in \u001b[0;36mpandas._libs.parsers.TextReader.read\u001b[0;34m()\u001b[0m\n",
      "\u001b[0;32mpandas/_libs/parsers.pyx\u001b[0m in \u001b[0;36mpandas._libs.parsers.TextReader._read_low_memory\u001b[0;34m()\u001b[0m\n",
      "\u001b[0;32mpandas/_libs/parsers.pyx\u001b[0m in \u001b[0;36mpandas._libs.parsers.TextReader._read_rows\u001b[0;34m()\u001b[0m\n",
      "\u001b[0;32mpandas/_libs/parsers.pyx\u001b[0m in \u001b[0;36mpandas._libs.parsers.TextReader._tokenize_rows\u001b[0;34m()\u001b[0m\n",
      "\u001b[0;32mpandas/_libs/parsers.pyx\u001b[0m in \u001b[0;36mpandas._libs.parsers.raise_parser_error\u001b[0;34m()\u001b[0m\n",
      "\u001b[0;31mParserError\u001b[0m: Error tokenizing data. C error: Expected 1 fields in line 38, saw 2\n"
     ]
    }
   ],
   "source": [
    "movies = pd.read_csv(\"MovieData.csv\")"
   ]
  },
  {
   "cell_type": "markdown",
   "metadata": {},
   "source": [
    "That's a scary-looking error, but read down to the end. \"Error tokenizing data\" probably means that there's an issue splitting the data into columns. It turns out that *read_csv* assumes by default that the data is comma-delimited. We need to explicitly give it a separator ('sep') if it's something different, like this:"
   ]
  },
  {
   "cell_type": "code",
<<<<<<< HEAD
   "execution_count": 51,
=======
   "execution_count": null,
>>>>>>> 9aea48216e5eb3b61c027f3974dbeec176697c16
   "metadata": {},
   "outputs": [],
   "source": [
    "movies = pd.read_csv(\"MovieData.csv\", sep='\\t')"
   ]
  },
  {
   "cell_type": "markdown",
   "metadata": {},
   "source": [
    "Okay, no errors now! Let's see what it's loaded:"
   ]
  },
  {
   "cell_type": "code",
<<<<<<< HEAD
   "execution_count": 52,
=======
   "execution_count": null,
>>>>>>> 9aea48216e5eb3b61c027f3974dbeec176697c16
   "metadata": {},
   "outputs": [],
   "source": [
    "movies.info()"
   ]
  },
  {
   "cell_type": "code",
<<<<<<< HEAD
   "execution_count": 53,
   "metadata": {},
   "outputs": [
    {
     "data": {
      "text/plain": [
       "Index(['Release_Date', 'Movie', 'Distributor', 'Budget', 'US Gross',\n",
       "       'Worldwide Gross'],\n",
       "      dtype='object')"
      ]
     },
     "execution_count": 53,
     "metadata": {},
     "output_type": "execute_result"
    }
   ],
=======
   "execution_count": null,
   "metadata": {},
   "outputs": [],
>>>>>>> 9aea48216e5eb3b61c027f3974dbeec176697c16
   "source": [
    "movies.columns"
   ]
  },
  {
   "cell_type": "code",
<<<<<<< HEAD
   "execution_count": 54,
   "metadata": {},
   "outputs": [
    {
     "data": {
      "text/plain": [
       "Release_Date       object\n",
       "Movie              object\n",
       "Distributor        object\n",
       "Budget              int64\n",
       "US Gross           object\n",
       "Worldwide Gross    object\n",
       "dtype: object"
      ]
     },
     "execution_count": 54,
     "metadata": {},
     "output_type": "execute_result"
    }
   ],
=======
   "execution_count": null,
   "metadata": {},
   "outputs": [],
>>>>>>> 9aea48216e5eb3b61c027f3974dbeec176697c16
   "source": [
    "movies.dtypes"
   ]
  },
  {
   "cell_type": "markdown",
   "metadata": {},
   "source": [
    "Looks pretty good, up until the end. We've got the correct column names, and a correct-seeming number of values. But we know that Budget, US Gross and Worldwide Gross are all supposed to be numbers; why is it reading them in as objects (which, in cases like this, generally means 'strings', since Pandas doesn't provide an explicit string datatype the way it does for ints and floats).\n",
    "\n",
    "As you may remember from last week, missing values were actually filled with a text string denoting this. Helpfully, *read_csv* lets you specify one or more 'na_values' which it should read as indicating missing data. To figure out what we should include there, however, we can use the *unique()* method, which returns all the unique values of a Series:"
   ]
  },
  {
   "cell_type": "code",
<<<<<<< HEAD
   "execution_count": 55,
   "metadata": {},
   "outputs": [
    {
     "data": {
      "text/plain": [
       "array(['66439100', '309420425', 'Unknown', ..., '48482', '1338', '181041'],\n",
       "      dtype=object)"
      ]
     },
     "execution_count": 55,
     "metadata": {},
     "output_type": "execute_result"
    }
   ],
=======
   "execution_count": null,
   "metadata": {},
   "outputs": [],
>>>>>>> 9aea48216e5eb3b61c027f3974dbeec176697c16
   "source": [
    "movies[\"US Gross\"].unique()"
   ]
  },
  {
   "cell_type": "markdown",
   "metadata": {},
   "source": [
    "Ah, see it? It's the word 'Unknown', so let's give that as our N/A Value:"
   ]
  },
  {
   "cell_type": "code",
<<<<<<< HEAD
   "execution_count": 56,
=======
   "execution_count": null,
>>>>>>> 9aea48216e5eb3b61c027f3974dbeec176697c16
   "metadata": {},
   "outputs": [],
   "source": [
    "movies = pd.read_csv(\"MovieData.csv\", sep='\\t', na_values=\"Unknown\")"
   ]
  },
  {
   "cell_type": "code",
<<<<<<< HEAD
   "execution_count": 57,
   "metadata": {},
   "outputs": [
    {
     "data": {
      "text/plain": [
       "Release_Date        object\n",
       "Movie               object\n",
       "Distributor         object\n",
       "Budget               int64\n",
       "US Gross           float64\n",
       "Worldwide Gross     object\n",
       "dtype: object"
      ]
     },
     "execution_count": 57,
     "metadata": {},
     "output_type": "execute_result"
    }
   ],
=======
   "execution_count": null,
   "metadata": {},
   "outputs": [],
>>>>>>> 9aea48216e5eb3b61c027f3974dbeec176697c16
   "source": [
    "movies.dtypes"
   ]
  },
  {
   "cell_type": "markdown",
   "metadata": {},
   "source": [
    "Almost there! US Gross is now a numeric column, but Worldwide Gross isn't. So let's check again:"
   ]
  },
  {
   "cell_type": "code",
<<<<<<< HEAD
   "execution_count": 58,
   "metadata": {},
   "outputs": [
    {
     "data": {
      "text/plain": [
       "array(['254439100', '960996492', nan, ..., '71644', '240495', 'Unkno'],\n",
       "      dtype=object)"
      ]
     },
     "execution_count": 58,
     "metadata": {},
     "output_type": "execute_result"
    }
   ],
=======
   "execution_count": null,
   "metadata": {},
   "outputs": [],
>>>>>>> 9aea48216e5eb3b61c027f3974dbeec176697c16
   "source": [
    "movies[\"Worldwide Gross\"].unique()"
   ]
  },
  {
   "cell_type": "markdown",
   "metadata": {},
   "source": [
    "It looks like at least one record has 'Unkno' as its value. Luckily, we can pass *na_values* a list of values, and it will treat all of them as indicators of no data.\n",
    "\n",
    "(Incidentally, to make your code more readable, you can insert line-breaks inside of parentheses, and Python will treat them as the same line)"
   ]
  },
  {
   "cell_type": "code",
<<<<<<< HEAD
   "execution_count": 59,
=======
   "execution_count": null,
>>>>>>> 9aea48216e5eb3b61c027f3974dbeec176697c16
   "metadata": {},
   "outputs": [],
   "source": [
    "movies = pd.read_csv(\"MovieData.csv\", sep='\\t', \n",
    "                         na_values=[\"Unknown\", \"Unkno\"])"
   ]
  },
  {
   "cell_type": "code",
<<<<<<< HEAD
   "execution_count": 60,
   "metadata": {},
   "outputs": [
    {
     "data": {
      "text/plain": [
       "Release_Date        object\n",
       "Movie               object\n",
       "Distributor         object\n",
       "Budget               int64\n",
       "US Gross           float64\n",
       "Worldwide Gross    float64\n",
       "dtype: object"
      ]
     },
     "execution_count": 60,
     "metadata": {},
     "output_type": "execute_result"
    }
   ],
=======
   "execution_count": null,
   "metadata": {},
   "outputs": [],
>>>>>>> 9aea48216e5eb3b61c027f3974dbeec176697c16
   "source": [
    "movies.dtypes"
   ]
  },
  {
   "cell_type": "markdown",
   "metadata": {},
   "source": [
    "There we go!"
   ]
  },
  {
   "cell_type": "code",
<<<<<<< HEAD
   "execution_count": 61,
   "metadata": {},
   "outputs": [
    {
     "data": {
      "text/html": [
       "<div>\n",
       "<style scoped>\n",
       "    .dataframe tbody tr th:only-of-type {\n",
       "        vertical-align: middle;\n",
       "    }\n",
       "\n",
       "    .dataframe tbody tr th {\n",
       "        vertical-align: top;\n",
       "    }\n",
       "\n",
       "    .dataframe thead th {\n",
       "        text-align: right;\n",
       "    }\n",
       "</style>\n",
       "<table border=\"1\" class=\"dataframe\">\n",
       "  <thead>\n",
       "    <tr style=\"text-align: right;\">\n",
       "      <th></th>\n",
       "      <th>Release_Date</th>\n",
       "      <th>Movie</th>\n",
       "      <th>Distributor</th>\n",
       "      <th>Budget</th>\n",
       "      <th>US Gross</th>\n",
       "      <th>Worldwide Gross</th>\n",
       "    </tr>\n",
       "  </thead>\n",
       "  <tbody>\n",
       "    <tr>\n",
       "      <th>0</th>\n",
       "      <td>03/09/12</td>\n",
       "      <td>John Carter</td>\n",
       "      <td>NaN</td>\n",
       "      <td>300000000</td>\n",
       "      <td>66439100.0</td>\n",
       "      <td>254439100.0</td>\n",
       "    </tr>\n",
       "    <tr>\n",
       "      <th>1</th>\n",
       "      <td>05/25/07</td>\n",
       "      <td>Pirates of the Caribbean: At World's End</td>\n",
       "      <td>Buena Vista</td>\n",
       "      <td>300000000</td>\n",
       "      <td>309420425.0</td>\n",
       "      <td>960996492.0</td>\n",
       "    </tr>\n",
       "    <tr>\n",
       "      <th>2</th>\n",
       "      <td>12/13/13</td>\n",
       "      <td>The Hobbit: There and Back Again</td>\n",
       "      <td>New Line</td>\n",
       "      <td>270000000</td>\n",
       "      <td>NaN</td>\n",
       "      <td>NaN</td>\n",
       "    </tr>\n",
       "    <tr>\n",
       "      <th>3</th>\n",
       "      <td>12/14/12</td>\n",
       "      <td>The Hobbit: An Unexpected Journey</td>\n",
       "      <td>New Line</td>\n",
       "      <td>270000000</td>\n",
       "      <td>NaN</td>\n",
       "      <td>NaN</td>\n",
       "    </tr>\n",
       "    <tr>\n",
       "      <th>4</th>\n",
       "      <td>11/24/10</td>\n",
       "      <td>Tangled</td>\n",
       "      <td>Buena Vista</td>\n",
       "      <td>260000000</td>\n",
       "      <td>200821936.0</td>\n",
       "      <td>586581936.0</td>\n",
       "    </tr>\n",
       "  </tbody>\n",
       "</table>\n",
       "</div>"
      ],
      "text/plain": [
       "  Release_Date                                     Movie  Distributor  \\\n",
       "0     03/09/12                               John Carter          NaN   \n",
       "1     05/25/07  Pirates of the Caribbean: At World's End  Buena Vista   \n",
       "2     12/13/13          The Hobbit: There and Back Again     New Line   \n",
       "3     12/14/12         The Hobbit: An Unexpected Journey     New Line   \n",
       "4     11/24/10                                   Tangled  Buena Vista   \n",
       "\n",
       "      Budget     US Gross  Worldwide Gross  \n",
       "0  300000000   66439100.0      254439100.0  \n",
       "1  300000000  309420425.0      960996492.0  \n",
       "2  270000000          NaN              NaN  \n",
       "3  270000000          NaN              NaN  \n",
       "4  260000000  200821936.0      586581936.0  "
      ]
     },
     "execution_count": 61,
     "metadata": {},
     "output_type": "execute_result"
    }
   ],
=======
   "execution_count": null,
   "metadata": {},
   "outputs": [],
>>>>>>> 9aea48216e5eb3b61c027f3974dbeec176697c16
   "source": [
    "movies.head()"
   ]
  },
  {
   "cell_type": "markdown",
   "metadata": {},
   "source": [
    "Notice the 'NaN' cells -- NaN stands for Not a Number. If we want, we can replace NaN values with 0s using the *fillna(...)* method:"
   ]
  },
  {
   "cell_type": "code",
<<<<<<< HEAD
   "execution_count": 62,
=======
   "execution_count": null,
>>>>>>> 9aea48216e5eb3b61c027f3974dbeec176697c16
   "metadata": {},
   "outputs": [],
   "source": [
    "movies = movies.fillna(0)"
   ]
  },
  {
   "cell_type": "markdown",
   "metadata": {},
   "source": [
    "(It probably isn't best analytic practice to assume that missing data is just zero, but we'll do it now anyway for demonstration purposes)"
   ]
  },
  {
   "cell_type": "code",
<<<<<<< HEAD
   "execution_count": 63,
   "metadata": {},
   "outputs": [
    {
     "data": {
      "text/html": [
       "<div>\n",
       "<style scoped>\n",
       "    .dataframe tbody tr th:only-of-type {\n",
       "        vertical-align: middle;\n",
       "    }\n",
       "\n",
       "    .dataframe tbody tr th {\n",
       "        vertical-align: top;\n",
       "    }\n",
       "\n",
       "    .dataframe thead th {\n",
       "        text-align: right;\n",
       "    }\n",
       "</style>\n",
       "<table border=\"1\" class=\"dataframe\">\n",
       "  <thead>\n",
       "    <tr style=\"text-align: right;\">\n",
       "      <th></th>\n",
       "      <th>Release_Date</th>\n",
       "      <th>Movie</th>\n",
       "      <th>Distributor</th>\n",
       "      <th>Budget</th>\n",
       "      <th>US Gross</th>\n",
       "      <th>Worldwide Gross</th>\n",
       "    </tr>\n",
       "  </thead>\n",
       "  <tbody>\n",
       "    <tr>\n",
       "      <th>3622</th>\n",
       "      <td>05/26/06</td>\n",
       "      <td>Cavite</td>\n",
       "      <td>Truly Indie</td>\n",
       "      <td>7000</td>\n",
       "      <td>70071.0</td>\n",
       "      <td>71644.0</td>\n",
       "    </tr>\n",
       "    <tr>\n",
       "      <th>3623</th>\n",
       "      <td>01/01/04</td>\n",
       "      <td>The Mongol King</td>\n",
       "      <td>CustomFlix</td>\n",
       "      <td>7000</td>\n",
       "      <td>900.0</td>\n",
       "      <td>0.0</td>\n",
       "    </tr>\n",
       "    <tr>\n",
       "      <th>3624</th>\n",
       "      <td>04/04/99</td>\n",
       "      <td>Following</td>\n",
       "      <td>Zeitgeist</td>\n",
       "      <td>6000</td>\n",
       "      <td>48482.0</td>\n",
       "      <td>240495.0</td>\n",
       "    </tr>\n",
       "    <tr>\n",
       "      <th>3625</th>\n",
       "      <td>07/13/05</td>\n",
       "      <td>Return to the Land of Wonders</td>\n",
       "      <td>0</td>\n",
       "      <td>5000</td>\n",
       "      <td>1338.0</td>\n",
       "      <td>0.0</td>\n",
       "    </tr>\n",
       "    <tr>\n",
       "      <th>3626</th>\n",
       "      <td>08/05/05</td>\n",
       "      <td>My Date With Drew</td>\n",
       "      <td>0</td>\n",
       "      <td>1100</td>\n",
       "      <td>181041.0</td>\n",
       "      <td>0.0</td>\n",
       "    </tr>\n",
       "  </tbody>\n",
       "</table>\n",
       "</div>"
      ],
      "text/plain": [
       "     Release_Date                          Movie  Distributor  Budget  \\\n",
       "3622     05/26/06                         Cavite  Truly Indie    7000   \n",
       "3623     01/01/04                The Mongol King   CustomFlix    7000   \n",
       "3624     04/04/99                      Following    Zeitgeist    6000   \n",
       "3625     07/13/05  Return to the Land of Wonders            0    5000   \n",
       "3626     08/05/05              My Date With Drew            0    1100   \n",
       "\n",
       "      US Gross  Worldwide Gross  \n",
       "3622   70071.0          71644.0  \n",
       "3623     900.0              0.0  \n",
       "3624   48482.0         240495.0  \n",
       "3625    1338.0              0.0  \n",
       "3626  181041.0              0.0  "
      ]
     },
     "execution_count": 63,
     "metadata": {},
     "output_type": "execute_result"
    }
   ],
=======
   "execution_count": null,
   "metadata": {},
   "outputs": [],
>>>>>>> 9aea48216e5eb3b61c027f3974dbeec176697c16
   "source": [
    "movies.tail()"
   ]
  },
  {
   "cell_type": "markdown",
   "metadata": {},
   "source": [
    "Like before, though, we want to be able to actually work with the dates. We can tell pandas to parse one or more columns as dates when it loads the data, using the *parse_dates* parameter. If we assign a list of column numbers to it, it will attempt to automatically parse those columns as dates:"
   ]
  },
  {
   "cell_type": "code",
<<<<<<< HEAD
   "execution_count": 64,
=======
   "execution_count": null,
>>>>>>> 9aea48216e5eb3b61c027f3974dbeec176697c16
   "metadata": {},
   "outputs": [],
   "source": [
    "movies = pd.read_csv(\"MovieData.csv\", sep='\\t', \n",
    "                         na_values=[\"Unknown\", \"Unkno\"], parse_dates=[0])"
   ]
  },
  {
   "cell_type": "code",
<<<<<<< HEAD
   "execution_count": 65,
   "metadata": {},
   "outputs": [
    {
     "data": {
      "text/plain": [
       "Release_Date       datetime64[ns]\n",
       "Movie                      object\n",
       "Distributor                object\n",
       "Budget                      int64\n",
       "US Gross                  float64\n",
       "Worldwide Gross           float64\n",
       "dtype: object"
      ]
     },
     "execution_count": 65,
     "metadata": {},
     "output_type": "execute_result"
    }
   ],
=======
   "execution_count": null,
   "metadata": {},
   "outputs": [],
>>>>>>> 9aea48216e5eb3b61c027f3974dbeec176697c16
   "source": [
    "movies.dtypes"
   ]
  },
  {
   "cell_type": "markdown",
   "metadata": {},
   "source": [
    "As you can see, the Release_Date column has been read as a datetime object. Now, to check whether it's parsed it correctly:"
   ]
  },
  {
   "cell_type": "code",
<<<<<<< HEAD
   "execution_count": 66,
   "metadata": {},
   "outputs": [
    {
     "data": {
      "text/plain": [
       "Timestamp('1968-01-01 00:00:00')"
      ]
     },
     "execution_count": 66,
     "metadata": {},
     "output_type": "execute_result"
    }
   ],
=======
   "execution_count": null,
   "metadata": {},
   "outputs": [],
>>>>>>> 9aea48216e5eb3b61c027f3974dbeec176697c16
   "source": [
    "min(movies[\"Release_Date\"])"
   ]
  },
  {
   "cell_type": "code",
<<<<<<< HEAD
   "execution_count": 67,
   "metadata": {},
   "outputs": [
    {
     "data": {
      "text/plain": [
       "Timestamp('2067-12-29 00:00:00')"
      ]
     },
     "execution_count": 67,
     "metadata": {},
     "output_type": "execute_result"
    }
   ],
=======
   "execution_count": null,
   "metadata": {},
   "outputs": [],
>>>>>>> 9aea48216e5eb3b61c027f3974dbeec176697c16
   "source": [
    "max(movies.Release_Date)"
   ]
  },
  {
   "cell_type": "markdown",
   "metadata": {},
   "source": [
    "So it looks like the built-in date parser isn't very good at figuring out which dates are in the 20th century, and which are in the 21st. Fortunately, we already solved this problem last week; we can bring in our custom parser, and tell Pandas to use that, using the *date_parser* parameter."
   ]
  },
  {
   "cell_type": "code",
<<<<<<< HEAD
   "execution_count": 68,
=======
   "execution_count": null,
>>>>>>> 9aea48216e5eb3b61c027f3974dbeec176697c16
   "metadata": {},
   "outputs": [],
   "source": [
    "def make_date(date_str):\n",
    "    '''\n",
    "    Turn a MM/DD/YY string into a datetime object\n",
    "    '''\n",
    "    m, d, y = date_str.split(\"/\")\n",
    "    m = int(m)\n",
    "    d = int(d)\n",
    "    y = int(y)\n",
    "    if y > 13:\n",
    "        y += 1900\n",
    "    else:\n",
    "        y += 2000\n",
    "    return dt.datetime(y, m, d)"
   ]
  },
  {
   "cell_type": "code",
<<<<<<< HEAD
   "execution_count": 69,
=======
   "execution_count": null,
>>>>>>> 9aea48216e5eb3b61c027f3974dbeec176697c16
   "metadata": {},
   "outputs": [],
   "source": [
    "movies = pd.read_csv(\"MovieData.csv\", sep='\\t', na_values=[\"Unknown\", \"Unkno\"], \n",
    "                         parse_dates=[0], date_parser=make_date)"
   ]
  },
  {
   "cell_type": "markdown",
   "metadata": {},
   "source": [
    "Notice that we're only passing the name of the function, without the usual parentheses. Conceptually, think of this as simply passing the name of our parser function, which the *read_csv(...)* function can call on its own. For each entry, pandas will automatically call the function, and put its return value in the column. (More technically, functions in Python are first-class objects, and can be passed as arguments just like any other data type)."
   ]
  },
  {
   "cell_type": "code",
<<<<<<< HEAD
   "execution_count": 70,
=======
   "execution_count": null,
>>>>>>> 9aea48216e5eb3b61c027f3974dbeec176697c16
   "metadata": {},
   "outputs": [],
   "source": [
    "movies = movies.fillna(0)"
   ]
  },
  {
   "cell_type": "code",
<<<<<<< HEAD
   "execution_count": 71,
=======
   "execution_count": null,
>>>>>>> 9aea48216e5eb3b61c027f3974dbeec176697c16
   "metadata": {},
   "outputs": [],
   "source": [
    "print(movies.Release_Date.max())\n",
    "print(movies.Release_Date.min())"
   ]
  },
  {
   "cell_type": "markdown",
   "metadata": {},
   "source": [
    "There, that's better.\n",
    "\n",
    "I mentioned earlier that we can easily create columns from other columns. Now that we have data, let's look at it again:"
   ]
  },
  {
   "cell_type": "code",
<<<<<<< HEAD
   "execution_count": 72,
=======
   "execution_count": null,
>>>>>>> 9aea48216e5eb3b61c027f3974dbeec176697c16
   "metadata": {},
   "outputs": [],
   "source": [
    "movies[\"Non_US_Gross\"] = movies[\"Worldwide Gross\"] - movies[\"US Gross\"]"
   ]
  },
  {
   "cell_type": "markdown",
   "metadata": {},
   "source": [
    "For each movie, the value of the \"Non_US_Gross\" will be its Worldwide Gross minus its US Gross. The underscore in the name aren't mandatory, but they let us reference the column like this:"
   ]
  },
  {
   "cell_type": "code",
<<<<<<< HEAD
   "execution_count": 73,
   "metadata": {},
   "outputs": [
    {
     "data": {
      "text/plain": [
       "-184925485.0"
      ]
     },
     "execution_count": 73,
     "metadata": {},
     "output_type": "execute_result"
    }
   ],
=======
   "execution_count": null,
   "metadata": {},
   "outputs": [],
>>>>>>> 9aea48216e5eb3b61c027f3974dbeec176697c16
   "source": [
    "movies.Non_US_Gross.min()"
   ]
  },
  {
   "cell_type": "markdown",
   "metadata": {},
   "source": [
    "As you see above, *min()* (and *max()* as well) are built-in series functions, which can be called for columns as well. However, the Non-US Gross shouldn't be negative, since the Worldwide Gross is supposed to be inclusive of US Gross. So we want to take a closer look at those rows to figure out what's going on."
   ]
  },
  {
   "cell_type": "markdown",
   "metadata": {},
   "source": [
    "## Subsetting\n",
    "\n",
    "Just because we have one big dataset doesn't mean we want to work with it all at once. Often --- like right now -- we want to be able to select only a subset of the data. In pandas, we do this by putting the condition we're selecting on in square brackets. For example, if we want only movies where the Non-US Gross is negative, we do:"
   ]
  },
  {
   "cell_type": "code",
<<<<<<< HEAD
   "execution_count": 74,
   "metadata": {},
   "outputs": [
    {
     "data": {
      "text/html": [
       "<div>\n",
       "<style scoped>\n",
       "    .dataframe tbody tr th:only-of-type {\n",
       "        vertical-align: middle;\n",
       "    }\n",
       "\n",
       "    .dataframe tbody tr th {\n",
       "        vertical-align: top;\n",
       "    }\n",
       "\n",
       "    .dataframe thead th {\n",
       "        text-align: right;\n",
       "    }\n",
       "</style>\n",
       "<table border=\"1\" class=\"dataframe\">\n",
       "  <thead>\n",
       "    <tr style=\"text-align: right;\">\n",
       "      <th></th>\n",
       "      <th>Release_Date</th>\n",
       "      <th>Movie</th>\n",
       "      <th>Distributor</th>\n",
       "      <th>Budget</th>\n",
       "      <th>US Gross</th>\n",
       "      <th>Worldwide Gross</th>\n",
       "      <th>Non_US_Gross</th>\n",
       "    </tr>\n",
       "  </thead>\n",
       "  <tbody>\n",
       "    <tr>\n",
       "      <th>272</th>\n",
       "      <td>1998-11-13</td>\n",
       "      <td>Meet Joe Black</td>\n",
       "      <td>Universal</td>\n",
       "      <td>85000000</td>\n",
       "      <td>44650003.0</td>\n",
       "      <td>0.0</td>\n",
       "      <td>-44650003.0</td>\n",
       "    </tr>\n",
       "    <tr>\n",
       "      <th>274</th>\n",
       "      <td>2000-11-22</td>\n",
       "      <td>102 Dalmatians</td>\n",
       "      <td>Buena Vista</td>\n",
       "      <td>85000000</td>\n",
       "      <td>66941559.0</td>\n",
       "      <td>0.0</td>\n",
       "      <td>-66941559.0</td>\n",
       "    </tr>\n",
       "    <tr>\n",
       "      <th>280</th>\n",
       "      <td>2012-03-30</td>\n",
       "      <td>Mirror Mirror</td>\n",
       "      <td>0</td>\n",
       "      <td>85000000</td>\n",
       "      <td>19662216.0</td>\n",
       "      <td>0.0</td>\n",
       "      <td>-19662216.0</td>\n",
       "    </tr>\n",
       "    <tr>\n",
       "      <th>313</th>\n",
       "      <td>2000-01-01</td>\n",
       "      <td>Fantasia 2000 (IMAX)</td>\n",
       "      <td>Buena Vista</td>\n",
       "      <td>80000000</td>\n",
       "      <td>60507228.0</td>\n",
       "      <td>0.0</td>\n",
       "      <td>-60507228.0</td>\n",
       "    </tr>\n",
       "    <tr>\n",
       "      <th>321</th>\n",
       "      <td>2000-06-16</td>\n",
       "      <td>Fantasia 2000 (Theatrical Release)</td>\n",
       "      <td>Buena Vista</td>\n",
       "      <td>80000000</td>\n",
       "      <td>9103630.0</td>\n",
       "      <td>0.0</td>\n",
       "      <td>-9103630.0</td>\n",
       "    </tr>\n",
       "    <tr>\n",
       "      <th>324</th>\n",
       "      <td>1998-12-25</td>\n",
       "      <td>Mighty Joe Young</td>\n",
       "      <td>Buena Vista</td>\n",
       "      <td>80000000</td>\n",
       "      <td>50632037.0</td>\n",
       "      <td>0.0</td>\n",
       "      <td>-50632037.0</td>\n",
       "    </tr>\n",
       "    <tr>\n",
       "      <th>339</th>\n",
       "      <td>1997-12-25</td>\n",
       "      <td>The Postman</td>\n",
       "      <td>Warner Bros.</td>\n",
       "      <td>80000000</td>\n",
       "      <td>17650704.0</td>\n",
       "      <td>0.0</td>\n",
       "      <td>-17650704.0</td>\n",
       "    </tr>\n",
       "    <tr>\n",
       "      <th>384</th>\n",
       "      <td>1999-07-23</td>\n",
       "      <td>Inspector Gadget</td>\n",
       "      <td>Buena Vista</td>\n",
       "      <td>75000000</td>\n",
       "      <td>97387965.0</td>\n",
       "      <td>0.0</td>\n",
       "      <td>-97387965.0</td>\n",
       "    </tr>\n",
       "    <tr>\n",
       "      <th>390</th>\n",
       "      <td>1999-12-17</td>\n",
       "      <td>Anna and the King</td>\n",
       "      <td>20th Century Fox</td>\n",
       "      <td>75000000</td>\n",
       "      <td>39251128.0</td>\n",
       "      <td>0.0</td>\n",
       "      <td>-39251128.0</td>\n",
       "    </tr>\n",
       "    <tr>\n",
       "      <th>397</th>\n",
       "      <td>1998-10-23</td>\n",
       "      <td>Soldier</td>\n",
       "      <td>Warner Bros.</td>\n",
       "      <td>75000000</td>\n",
       "      <td>14623082.0</td>\n",
       "      <td>0.0</td>\n",
       "      <td>-14623082.0</td>\n",
       "    </tr>\n",
       "    <tr>\n",
       "      <th>405</th>\n",
       "      <td>2001-02-23</td>\n",
       "      <td>Monkeybone</td>\n",
       "      <td>20th Century Fox</td>\n",
       "      <td>75000000</td>\n",
       "      <td>5409517.0</td>\n",
       "      <td>0.0</td>\n",
       "      <td>-5409517.0</td>\n",
       "    </tr>\n",
       "    <tr>\n",
       "      <th>434</th>\n",
       "      <td>1998-01-16</td>\n",
       "      <td>Hard Rain</td>\n",
       "      <td>Paramount Pictures</td>\n",
       "      <td>70000000</td>\n",
       "      <td>19870567.0</td>\n",
       "      <td>0.0</td>\n",
       "      <td>-19870567.0</td>\n",
       "    </tr>\n",
       "    <tr>\n",
       "      <th>449</th>\n",
       "      <td>2002-09-20</td>\n",
       "      <td>Ballistic: Ecks vs. Sever</td>\n",
       "      <td>Warner Bros.</td>\n",
       "      <td>70000000</td>\n",
       "      <td>14294842.0</td>\n",
       "      <td>0.0</td>\n",
       "      <td>-14294842.0</td>\n",
       "    </tr>\n",
       "    <tr>\n",
       "      <th>465</th>\n",
       "      <td>2001-08-10</td>\n",
       "      <td>Osmosis Jones</td>\n",
       "      <td>Warner Bros.</td>\n",
       "      <td>70000000</td>\n",
       "      <td>13596911.0</td>\n",
       "      <td>0.0</td>\n",
       "      <td>-13596911.0</td>\n",
       "    </tr>\n",
       "    <tr>\n",
       "      <th>471</th>\n",
       "      <td>1989-08-09</td>\n",
       "      <td>The Abyss</td>\n",
       "      <td>20th Century Fox</td>\n",
       "      <td>70000000</td>\n",
       "      <td>54243125.0</td>\n",
       "      <td>0.0</td>\n",
       "      <td>-54243125.0</td>\n",
       "    </tr>\n",
       "    <tr>\n",
       "      <th>483</th>\n",
       "      <td>1996-09-20</td>\n",
       "      <td>Last Man Standing</td>\n",
       "      <td>New Line</td>\n",
       "      <td>67000000</td>\n",
       "      <td>18115927.0</td>\n",
       "      <td>0.0</td>\n",
       "      <td>-18115927.0</td>\n",
       "    </tr>\n",
       "    <tr>\n",
       "      <th>489</th>\n",
       "      <td>2000-10-27</td>\n",
       "      <td>Lucky Numbers</td>\n",
       "      <td>Paramount Pictures</td>\n",
       "      <td>65000000</td>\n",
       "      <td>10014234.0</td>\n",
       "      <td>0.0</td>\n",
       "      <td>-10014234.0</td>\n",
       "    </tr>\n",
       "    <tr>\n",
       "      <th>492</th>\n",
       "      <td>2000-07-07</td>\n",
       "      <td>The Kid</td>\n",
       "      <td>Buena Vista</td>\n",
       "      <td>65000000</td>\n",
       "      <td>69688384.0</td>\n",
       "      <td>0.0</td>\n",
       "      <td>-69688384.0</td>\n",
       "    </tr>\n",
       "    <tr>\n",
       "      <th>494</th>\n",
       "      <td>1991-05-24</td>\n",
       "      <td>Hudson Hawk</td>\n",
       "      <td>Sony</td>\n",
       "      <td>65000000</td>\n",
       "      <td>17218916.0</td>\n",
       "      <td>0.0</td>\n",
       "      <td>-17218916.0</td>\n",
       "    </tr>\n",
       "    <tr>\n",
       "      <th>513</th>\n",
       "      <td>1996-10-11</td>\n",
       "      <td>The Long Kiss Goodnight</td>\n",
       "      <td>New Line</td>\n",
       "      <td>65000000</td>\n",
       "      <td>33447612.0</td>\n",
       "      <td>0.0</td>\n",
       "      <td>-33447612.0</td>\n",
       "    </tr>\n",
       "    <tr>\n",
       "      <th>519</th>\n",
       "      <td>1998-03-20</td>\n",
       "      <td>Primary Colors</td>\n",
       "      <td>Universal</td>\n",
       "      <td>65000000</td>\n",
       "      <td>39017984.0</td>\n",
       "      <td>0.0</td>\n",
       "      <td>-39017984.0</td>\n",
       "    </tr>\n",
       "    <tr>\n",
       "      <th>523</th>\n",
       "      <td>1994-06-24</td>\n",
       "      <td>Wyatt Earp</td>\n",
       "      <td>Warner Bros.</td>\n",
       "      <td>63000000</td>\n",
       "      <td>25052000.0</td>\n",
       "      <td>0.0</td>\n",
       "      <td>-25052000.0</td>\n",
       "    </tr>\n",
       "    <tr>\n",
       "      <th>538</th>\n",
       "      <td>1998-04-03</td>\n",
       "      <td>Mercury Rising</td>\n",
       "      <td>Universal</td>\n",
       "      <td>60000000</td>\n",
       "      <td>32983332.0</td>\n",
       "      <td>0.0</td>\n",
       "      <td>-32983332.0</td>\n",
       "    </tr>\n",
       "    <tr>\n",
       "      <th>553</th>\n",
       "      <td>1998-10-09</td>\n",
       "      <td>Holy Man</td>\n",
       "      <td>Buena Vista</td>\n",
       "      <td>60000000</td>\n",
       "      <td>12069719.0</td>\n",
       "      <td>0.0</td>\n",
       "      <td>-12069719.0</td>\n",
       "    </tr>\n",
       "    <tr>\n",
       "      <th>562</th>\n",
       "      <td>1999-02-12</td>\n",
       "      <td>My Favorite Martian</td>\n",
       "      <td>Buena Vista</td>\n",
       "      <td>60000000</td>\n",
       "      <td>36850101.0</td>\n",
       "      <td>0.0</td>\n",
       "      <td>-36850101.0</td>\n",
       "    </tr>\n",
       "    <tr>\n",
       "      <th>580</th>\n",
       "      <td>2000-01-14</td>\n",
       "      <td>Supernova</td>\n",
       "      <td>MGM/UA</td>\n",
       "      <td>60000000</td>\n",
       "      <td>14218868.0</td>\n",
       "      <td>0.0</td>\n",
       "      <td>-14218868.0</td>\n",
       "    </tr>\n",
       "    <tr>\n",
       "      <th>585</th>\n",
       "      <td>1998-12-25</td>\n",
       "      <td>A Civil Action</td>\n",
       "      <td>Buena Vista</td>\n",
       "      <td>60000000</td>\n",
       "      <td>56709981.0</td>\n",
       "      <td>0.0</td>\n",
       "      <td>-56709981.0</td>\n",
       "    </tr>\n",
       "    <tr>\n",
       "      <th>590</th>\n",
       "      <td>1997-01-10</td>\n",
       "      <td>The Relic</td>\n",
       "      <td>Paramount Pictures</td>\n",
       "      <td>60000000</td>\n",
       "      <td>33956608.0</td>\n",
       "      <td>0.0</td>\n",
       "      <td>-33956608.0</td>\n",
       "    </tr>\n",
       "    <tr>\n",
       "      <th>598</th>\n",
       "      <td>2002-09-27</td>\n",
       "      <td>The Tuxedo</td>\n",
       "      <td>DreamWorks SKG</td>\n",
       "      <td>60000000</td>\n",
       "      <td>50586000.0</td>\n",
       "      <td>0.0</td>\n",
       "      <td>-50586000.0</td>\n",
       "    </tr>\n",
       "    <tr>\n",
       "      <th>600</th>\n",
       "      <td>1997-08-15</td>\n",
       "      <td>Event Horizon</td>\n",
       "      <td>Paramount Pictures</td>\n",
       "      <td>60000000</td>\n",
       "      <td>26673242.0</td>\n",
       "      <td>0.0</td>\n",
       "      <td>-26673242.0</td>\n",
       "    </tr>\n",
       "    <tr>\n",
       "      <th>...</th>\n",
       "      <td>...</td>\n",
       "      <td>...</td>\n",
       "      <td>...</td>\n",
       "      <td>...</td>\n",
       "      <td>...</td>\n",
       "      <td>...</td>\n",
       "      <td>...</td>\n",
       "    </tr>\n",
       "    <tr>\n",
       "      <th>3584</th>\n",
       "      <td>2005-01-28</td>\n",
       "      <td>Peace, Propaganda and the Promised Land</td>\n",
       "      <td>0</td>\n",
       "      <td>70000</td>\n",
       "      <td>4930.0</td>\n",
       "      <td>0.0</td>\n",
       "      <td>-4930.0</td>\n",
       "    </tr>\n",
       "    <tr>\n",
       "      <th>3586</th>\n",
       "      <td>1998-02-20</td>\n",
       "      <td>I Love You … Don't Touch Me!</td>\n",
       "      <td>MGM/UA</td>\n",
       "      <td>68000</td>\n",
       "      <td>33598.0</td>\n",
       "      <td>0.0</td>\n",
       "      <td>-33598.0</td>\n",
       "    </tr>\n",
       "    <tr>\n",
       "      <th>3590</th>\n",
       "      <td>1995-08-09</td>\n",
       "      <td>The Brothers McMullen</td>\n",
       "      <td>Fox Searchlight</td>\n",
       "      <td>50000</td>\n",
       "      <td>10426506.0</td>\n",
       "      <td>0.0</td>\n",
       "      <td>-10426506.0</td>\n",
       "    </tr>\n",
       "    <tr>\n",
       "      <th>3591</th>\n",
       "      <td>2001-03-16</td>\n",
       "      <td>Gabriela</td>\n",
       "      <td>Power Point</td>\n",
       "      <td>50000</td>\n",
       "      <td>2335352.0</td>\n",
       "      <td>0.0</td>\n",
       "      <td>-2335352.0</td>\n",
       "    </tr>\n",
       "    <tr>\n",
       "      <th>3592</th>\n",
       "      <td>2010-11-12</td>\n",
       "      <td>Tiny Furniture</td>\n",
       "      <td>0</td>\n",
       "      <td>50000</td>\n",
       "      <td>391674.0</td>\n",
       "      <td>0.0</td>\n",
       "      <td>-391674.0</td>\n",
       "    </tr>\n",
       "    <tr>\n",
       "      <th>3594</th>\n",
       "      <td>2010-03-12</td>\n",
       "      <td>The Exploding Girl</td>\n",
       "      <td>Oscilloscope</td>\n",
       "      <td>40000</td>\n",
       "      <td>25572.0</td>\n",
       "      <td>0.0</td>\n",
       "      <td>-25572.0</td>\n",
       "    </tr>\n",
       "    <tr>\n",
       "      <th>3595</th>\n",
       "      <td>2000-08-25</td>\n",
       "      <td>Smiling Fish and Goat on Fire</td>\n",
       "      <td>IDP/Stratosphere</td>\n",
       "      <td>40000</td>\n",
       "      <td>277233.0</td>\n",
       "      <td>0.0</td>\n",
       "      <td>-277233.0</td>\n",
       "    </tr>\n",
       "    <tr>\n",
       "      <th>3596</th>\n",
       "      <td>2002-04-05</td>\n",
       "      <td>The Last Waltz</td>\n",
       "      <td>MGM/UA</td>\n",
       "      <td>35000</td>\n",
       "      <td>321952.0</td>\n",
       "      <td>0.0</td>\n",
       "      <td>-321952.0</td>\n",
       "    </tr>\n",
       "    <tr>\n",
       "      <th>3597</th>\n",
       "      <td>2005-04-29</td>\n",
       "      <td>Funny Ha Ha</td>\n",
       "      <td>0</td>\n",
       "      <td>30000</td>\n",
       "      <td>77070.0</td>\n",
       "      <td>0.0</td>\n",
       "      <td>-77070.0</td>\n",
       "    </tr>\n",
       "    <tr>\n",
       "      <th>3598</th>\n",
       "      <td>2010-10-15</td>\n",
       "      <td>Down Terrace</td>\n",
       "      <td>0</td>\n",
       "      <td>30000</td>\n",
       "      <td>9812.0</td>\n",
       "      <td>0.0</td>\n",
       "      <td>-9812.0</td>\n",
       "    </tr>\n",
       "    <tr>\n",
       "      <th>3599</th>\n",
       "      <td>2006-09-01</td>\n",
       "      <td>Mutual Appreciation</td>\n",
       "      <td>0</td>\n",
       "      <td>30000</td>\n",
       "      <td>103509.0</td>\n",
       "      <td>0.0</td>\n",
       "      <td>-103509.0</td>\n",
       "    </tr>\n",
       "    <tr>\n",
       "      <th>3600</th>\n",
       "      <td>1999-12-24</td>\n",
       "      <td>Pink Narcissus</td>\n",
       "      <td>Strand</td>\n",
       "      <td>27000</td>\n",
       "      <td>8231.0</td>\n",
       "      <td>0.0</td>\n",
       "      <td>-8231.0</td>\n",
       "    </tr>\n",
       "    <tr>\n",
       "      <th>3602</th>\n",
       "      <td>2000-01-14</td>\n",
       "      <td>The Terrorist</td>\n",
       "      <td>Phaedra</td>\n",
       "      <td>25000</td>\n",
       "      <td>195043.0</td>\n",
       "      <td>0.0</td>\n",
       "      <td>-195043.0</td>\n",
       "    </tr>\n",
       "    <tr>\n",
       "      <th>3604</th>\n",
       "      <td>1972-06-30</td>\n",
       "      <td>Deep Throat</td>\n",
       "      <td>Damiano</td>\n",
       "      <td>25000</td>\n",
       "      <td>45000000.0</td>\n",
       "      <td>0.0</td>\n",
       "      <td>-45000000.0</td>\n",
       "    </tr>\n",
       "    <tr>\n",
       "      <th>3605</th>\n",
       "      <td>1997-08-01</td>\n",
       "      <td>In the Company of Men</td>\n",
       "      <td>Sony Classics</td>\n",
       "      <td>25000</td>\n",
       "      <td>2883661.0</td>\n",
       "      <td>0.0</td>\n",
       "      <td>-2883661.0</td>\n",
       "    </tr>\n",
       "    <tr>\n",
       "      <th>3606</th>\n",
       "      <td>1991-08-01</td>\n",
       "      <td>Slacker</td>\n",
       "      <td>Orion Classics</td>\n",
       "      <td>23000</td>\n",
       "      <td>1227508.0</td>\n",
       "      <td>0.0</td>\n",
       "      <td>-1227508.0</td>\n",
       "    </tr>\n",
       "    <tr>\n",
       "      <th>3609</th>\n",
       "      <td>2010-04-02</td>\n",
       "      <td>Breaking Upwards</td>\n",
       "      <td>IFC Films</td>\n",
       "      <td>15000</td>\n",
       "      <td>115592.0</td>\n",
       "      <td>0.0</td>\n",
       "      <td>-115592.0</td>\n",
       "    </tr>\n",
       "    <tr>\n",
       "      <th>3610</th>\n",
       "      <td>2006-06-02</td>\n",
       "      <td>The Puffy Chair</td>\n",
       "      <td>0</td>\n",
       "      <td>15000</td>\n",
       "      <td>194523.0</td>\n",
       "      <td>0.0</td>\n",
       "      <td>-194523.0</td>\n",
       "    </tr>\n",
       "    <tr>\n",
       "      <th>3611</th>\n",
       "      <td>1997-04-11</td>\n",
       "      <td>Pink Flamingos</td>\n",
       "      <td>0</td>\n",
       "      <td>12000</td>\n",
       "      <td>413802.0</td>\n",
       "      <td>0.0</td>\n",
       "      <td>-413802.0</td>\n",
       "    </tr>\n",
       "    <tr>\n",
       "      <th>3612</th>\n",
       "      <td>2006-04-28</td>\n",
       "      <td>Grip: A Criminal's Story</td>\n",
       "      <td>0</td>\n",
       "      <td>12000</td>\n",
       "      <td>1336.0</td>\n",
       "      <td>0.0</td>\n",
       "      <td>-1336.0</td>\n",
       "    </tr>\n",
       "    <tr>\n",
       "      <th>3613</th>\n",
       "      <td>1996-04-01</td>\n",
       "      <td>Bang</td>\n",
       "      <td>JeTi Films</td>\n",
       "      <td>10000</td>\n",
       "      <td>527.0</td>\n",
       "      <td>0.0</td>\n",
       "      <td>-527.0</td>\n",
       "    </tr>\n",
       "    <tr>\n",
       "      <th>3614</th>\n",
       "      <td>2008-08-14</td>\n",
       "      <td>The Rise and Fall of Miss Thang</td>\n",
       "      <td>Lavender House</td>\n",
       "      <td>10000</td>\n",
       "      <td>401.0</td>\n",
       "      <td>0.0</td>\n",
       "      <td>-401.0</td>\n",
       "    </tr>\n",
       "    <tr>\n",
       "      <th>3615</th>\n",
       "      <td>2006-04-28</td>\n",
       "      <td>Clean</td>\n",
       "      <td>Palm Pictures</td>\n",
       "      <td>10000</td>\n",
       "      <td>138711.0</td>\n",
       "      <td>0.0</td>\n",
       "      <td>-138711.0</td>\n",
       "    </tr>\n",
       "    <tr>\n",
       "      <th>3616</th>\n",
       "      <td>2004-05-28</td>\n",
       "      <td>On the Down Low</td>\n",
       "      <td>Cinema con Sabor</td>\n",
       "      <td>10000</td>\n",
       "      <td>1987.0</td>\n",
       "      <td>0.0</td>\n",
       "      <td>-1987.0</td>\n",
       "    </tr>\n",
       "    <tr>\n",
       "      <th>3617</th>\n",
       "      <td>2001-07-06</td>\n",
       "      <td>Cure</td>\n",
       "      <td>Cowboy</td>\n",
       "      <td>10000</td>\n",
       "      <td>94596.0</td>\n",
       "      <td>0.0</td>\n",
       "      <td>-94596.0</td>\n",
       "    </tr>\n",
       "    <tr>\n",
       "      <th>3618</th>\n",
       "      <td>2001-03-09</td>\n",
       "      <td>Dayereh</td>\n",
       "      <td>Winstar</td>\n",
       "      <td>10000</td>\n",
       "      <td>673780.0</td>\n",
       "      <td>0.0</td>\n",
       "      <td>-673780.0</td>\n",
       "    </tr>\n",
       "    <tr>\n",
       "      <th>3619</th>\n",
       "      <td>2012-01-13</td>\n",
       "      <td>Newlyweds</td>\n",
       "      <td>0</td>\n",
       "      <td>9000</td>\n",
       "      <td>4584.0</td>\n",
       "      <td>0.0</td>\n",
       "      <td>-4584.0</td>\n",
       "    </tr>\n",
       "    <tr>\n",
       "      <th>3623</th>\n",
       "      <td>2004-01-01</td>\n",
       "      <td>The Mongol King</td>\n",
       "      <td>CustomFlix</td>\n",
       "      <td>7000</td>\n",
       "      <td>900.0</td>\n",
       "      <td>0.0</td>\n",
       "      <td>-900.0</td>\n",
       "    </tr>\n",
       "    <tr>\n",
       "      <th>3625</th>\n",
       "      <td>2005-07-13</td>\n",
       "      <td>Return to the Land of Wonders</td>\n",
       "      <td>0</td>\n",
       "      <td>5000</td>\n",
       "      <td>1338.0</td>\n",
       "      <td>0.0</td>\n",
       "      <td>-1338.0</td>\n",
       "    </tr>\n",
       "    <tr>\n",
       "      <th>3626</th>\n",
       "      <td>2005-08-05</td>\n",
       "      <td>My Date With Drew</td>\n",
       "      <td>0</td>\n",
       "      <td>1100</td>\n",
       "      <td>181041.0</td>\n",
       "      <td>0.0</td>\n",
       "      <td>-181041.0</td>\n",
       "    </tr>\n",
       "  </tbody>\n",
       "</table>\n",
       "<p>1212 rows × 7 columns</p>\n",
       "</div>"
      ],
      "text/plain": [
       "     Release_Date                                    Movie  \\\n",
       "272    1998-11-13                           Meet Joe Black   \n",
       "274    2000-11-22                           102 Dalmatians   \n",
       "280    2012-03-30                            Mirror Mirror   \n",
       "313    2000-01-01                     Fantasia 2000 (IMAX)   \n",
       "321    2000-06-16       Fantasia 2000 (Theatrical Release)   \n",
       "324    1998-12-25                         Mighty Joe Young   \n",
       "339    1997-12-25                              The Postman   \n",
       "384    1999-07-23                         Inspector Gadget   \n",
       "390    1999-12-17                        Anna and the King   \n",
       "397    1998-10-23                                  Soldier   \n",
       "405    2001-02-23                               Monkeybone   \n",
       "434    1998-01-16                                Hard Rain   \n",
       "449    2002-09-20                Ballistic: Ecks vs. Sever   \n",
       "465    2001-08-10                            Osmosis Jones   \n",
       "471    1989-08-09                                The Abyss   \n",
       "483    1996-09-20                        Last Man Standing   \n",
       "489    2000-10-27                            Lucky Numbers   \n",
       "492    2000-07-07                                  The Kid   \n",
       "494    1991-05-24                              Hudson Hawk   \n",
       "513    1996-10-11                  The Long Kiss Goodnight   \n",
       "519    1998-03-20                           Primary Colors   \n",
       "523    1994-06-24                               Wyatt Earp   \n",
       "538    1998-04-03                           Mercury Rising   \n",
       "553    1998-10-09                                 Holy Man   \n",
       "562    1999-02-12                      My Favorite Martian   \n",
       "580    2000-01-14                                Supernova   \n",
       "585    1998-12-25                           A Civil Action   \n",
       "590    1997-01-10                                The Relic   \n",
       "598    2002-09-27                               The Tuxedo   \n",
       "600    1997-08-15                            Event Horizon   \n",
       "...           ...                                      ...   \n",
       "3584   2005-01-28  Peace, Propaganda and the Promised Land   \n",
       "3586   1998-02-20             I Love You … Don't Touch Me!   \n",
       "3590   1995-08-09                    The Brothers McMullen   \n",
       "3591   2001-03-16                                 Gabriela   \n",
       "3592   2010-11-12                           Tiny Furniture   \n",
       "3594   2010-03-12                       The Exploding Girl   \n",
       "3595   2000-08-25            Smiling Fish and Goat on Fire   \n",
       "3596   2002-04-05                           The Last Waltz   \n",
       "3597   2005-04-29                              Funny Ha Ha   \n",
       "3598   2010-10-15                             Down Terrace   \n",
       "3599   2006-09-01                      Mutual Appreciation   \n",
       "3600   1999-12-24                           Pink Narcissus   \n",
       "3602   2000-01-14                            The Terrorist   \n",
       "3604   1972-06-30                              Deep Throat   \n",
       "3605   1997-08-01                    In the Company of Men   \n",
       "3606   1991-08-01                                  Slacker   \n",
       "3609   2010-04-02                         Breaking Upwards   \n",
       "3610   2006-06-02                          The Puffy Chair   \n",
       "3611   1997-04-11                           Pink Flamingos   \n",
       "3612   2006-04-28                 Grip: A Criminal's Story   \n",
       "3613   1996-04-01                                     Bang   \n",
       "3614   2008-08-14          The Rise and Fall of Miss Thang   \n",
       "3615   2006-04-28                                    Clean   \n",
       "3616   2004-05-28                          On the Down Low   \n",
       "3617   2001-07-06                                     Cure   \n",
       "3618   2001-03-09                                  Dayereh   \n",
       "3619   2012-01-13                                Newlyweds   \n",
       "3623   2004-01-01                          The Mongol King   \n",
       "3625   2005-07-13            Return to the Land of Wonders   \n",
       "3626   2005-08-05                        My Date With Drew   \n",
       "\n",
       "             Distributor    Budget    US Gross  Worldwide Gross  Non_US_Gross  \n",
       "272            Universal  85000000  44650003.0              0.0   -44650003.0  \n",
       "274          Buena Vista  85000000  66941559.0              0.0   -66941559.0  \n",
       "280                    0  85000000  19662216.0              0.0   -19662216.0  \n",
       "313          Buena Vista  80000000  60507228.0              0.0   -60507228.0  \n",
       "321          Buena Vista  80000000   9103630.0              0.0    -9103630.0  \n",
       "324          Buena Vista  80000000  50632037.0              0.0   -50632037.0  \n",
       "339         Warner Bros.  80000000  17650704.0              0.0   -17650704.0  \n",
       "384          Buena Vista  75000000  97387965.0              0.0   -97387965.0  \n",
       "390     20th Century Fox  75000000  39251128.0              0.0   -39251128.0  \n",
       "397         Warner Bros.  75000000  14623082.0              0.0   -14623082.0  \n",
       "405     20th Century Fox  75000000   5409517.0              0.0    -5409517.0  \n",
       "434   Paramount Pictures  70000000  19870567.0              0.0   -19870567.0  \n",
       "449         Warner Bros.  70000000  14294842.0              0.0   -14294842.0  \n",
       "465         Warner Bros.  70000000  13596911.0              0.0   -13596911.0  \n",
       "471     20th Century Fox  70000000  54243125.0              0.0   -54243125.0  \n",
       "483             New Line  67000000  18115927.0              0.0   -18115927.0  \n",
       "489   Paramount Pictures  65000000  10014234.0              0.0   -10014234.0  \n",
       "492          Buena Vista  65000000  69688384.0              0.0   -69688384.0  \n",
       "494                 Sony  65000000  17218916.0              0.0   -17218916.0  \n",
       "513             New Line  65000000  33447612.0              0.0   -33447612.0  \n",
       "519            Universal  65000000  39017984.0              0.0   -39017984.0  \n",
       "523         Warner Bros.  63000000  25052000.0              0.0   -25052000.0  \n",
       "538            Universal  60000000  32983332.0              0.0   -32983332.0  \n",
       "553          Buena Vista  60000000  12069719.0              0.0   -12069719.0  \n",
       "562          Buena Vista  60000000  36850101.0              0.0   -36850101.0  \n",
       "580               MGM/UA  60000000  14218868.0              0.0   -14218868.0  \n",
       "585          Buena Vista  60000000  56709981.0              0.0   -56709981.0  \n",
       "590   Paramount Pictures  60000000  33956608.0              0.0   -33956608.0  \n",
       "598       DreamWorks SKG  60000000  50586000.0              0.0   -50586000.0  \n",
       "600   Paramount Pictures  60000000  26673242.0              0.0   -26673242.0  \n",
       "...                  ...       ...         ...              ...           ...  \n",
       "3584                   0     70000      4930.0              0.0       -4930.0  \n",
       "3586              MGM/UA     68000     33598.0              0.0      -33598.0  \n",
       "3590     Fox Searchlight     50000  10426506.0              0.0   -10426506.0  \n",
       "3591         Power Point     50000   2335352.0              0.0    -2335352.0  \n",
       "3592                   0     50000    391674.0              0.0     -391674.0  \n",
       "3594        Oscilloscope     40000     25572.0              0.0      -25572.0  \n",
       "3595    IDP/Stratosphere     40000    277233.0              0.0     -277233.0  \n",
       "3596              MGM/UA     35000    321952.0              0.0     -321952.0  \n",
       "3597                   0     30000     77070.0              0.0      -77070.0  \n",
       "3598                   0     30000      9812.0              0.0       -9812.0  \n",
       "3599                   0     30000    103509.0              0.0     -103509.0  \n",
       "3600              Strand     27000      8231.0              0.0       -8231.0  \n",
       "3602             Phaedra     25000    195043.0              0.0     -195043.0  \n",
       "3604             Damiano     25000  45000000.0              0.0   -45000000.0  \n",
       "3605       Sony Classics     25000   2883661.0              0.0    -2883661.0  \n",
       "3606      Orion Classics     23000   1227508.0              0.0    -1227508.0  \n",
       "3609           IFC Films     15000    115592.0              0.0     -115592.0  \n",
       "3610                   0     15000    194523.0              0.0     -194523.0  \n",
       "3611                   0     12000    413802.0              0.0     -413802.0  \n",
       "3612                   0     12000      1336.0              0.0       -1336.0  \n",
       "3613          JeTi Films     10000       527.0              0.0        -527.0  \n",
       "3614      Lavender House     10000       401.0              0.0        -401.0  \n",
       "3615       Palm Pictures     10000    138711.0              0.0     -138711.0  \n",
       "3616    Cinema con Sabor     10000      1987.0              0.0       -1987.0  \n",
       "3617              Cowboy     10000     94596.0              0.0      -94596.0  \n",
       "3618             Winstar     10000    673780.0              0.0     -673780.0  \n",
       "3619                   0      9000      4584.0              0.0       -4584.0  \n",
       "3623          CustomFlix      7000       900.0              0.0        -900.0  \n",
       "3625                   0      5000      1338.0              0.0       -1338.0  \n",
       "3626                   0      1100    181041.0              0.0     -181041.0  \n",
       "\n",
       "[1212 rows x 7 columns]"
      ]
     },
     "execution_count": 74,
     "metadata": {},
     "output_type": "execute_result"
    }
   ],
=======
   "execution_count": null,
   "metadata": {},
   "outputs": [],
>>>>>>> 9aea48216e5eb3b61c027f3974dbeec176697c16
   "source": [
    "movies[movies.Non_US_Gross < 0]"
   ]
  },
  {
   "cell_type": "markdown",
   "metadata": {},
   "source": [
    "It looks like in all these cases, the Non-US Gross is negative because Worldwide Gross is zero. Remember that we replaced missing values with zeroes, which is probably where these come from. Let's double-check this by looking at the max or min values of Non-US Gross when the Worldwide Gross column is zero. As the output above hints, the results of square bracket notation can be treated just like a DataFrame -- which means we can select columns, and it will only return the column values that are within our subset."
   ]
  },
  {
   "cell_type": "code",
<<<<<<< HEAD
   "execution_count": 75,
   "metadata": {},
   "outputs": [
    {
     "data": {
      "text/plain": [
       "0.0"
      ]
     },
     "execution_count": 75,
     "metadata": {},
     "output_type": "execute_result"
    }
   ],
=======
   "execution_count": null,
   "metadata": {},
   "outputs": [],
>>>>>>> 9aea48216e5eb3b61c027f3974dbeec176697c16
   "source": [
    "movies[movies[\"Worldwide Gross\"]==0][\"Non_US_Gross\"].max()"
   ]
  },
  {
   "cell_type": "markdown",
   "metadata": {},
   "source": [
    "Since Worldwide Gross is supposed to be inclusive of US Gross, a sensible thing to do is to just fill these values with those of their respective US Gross. To do this, we use the subset notation again, but this time with an assignment. Note that for assignments, we put the column first, then the subset."
   ]
  },
  {
   "cell_type": "code",
<<<<<<< HEAD
   "execution_count": 76,
   "metadata": {},
   "outputs": [
    {
     "name": "stderr",
     "output_type": "stream",
     "text": [
      "/usr/local/anaconda3/lib/python3.6/site-packages/ipykernel_launcher.py:1: SettingWithCopyWarning: \n",
      "A value is trying to be set on a copy of a slice from a DataFrame\n",
      "\n",
      "See the caveats in the documentation: http://pandas.pydata.org/pandas-docs/stable/indexing.html#indexing-view-versus-copy\n",
      "  \"\"\"Entry point for launching an IPython kernel.\n"
     ]
    }
   ],
=======
   "execution_count": null,
   "metadata": {},
   "outputs": [],
>>>>>>> 9aea48216e5eb3b61c027f3974dbeec176697c16
   "source": [
    "movies[\"Worldwide Gross\"][movies[\"Worldwide Gross\"]==0] = movies[\"US Gross\"]"
   ]
  },
  {
   "cell_type": "markdown",
   "metadata": {},
   "source": [
    "You may see a warning -- similar to the one I got above. It's telling you that it can't tell whether you're operating on a copy of part of the DataFrame, or a subset. Usually you can just ignore this warning, and just make sure that the data copied the way you wanted it to:"
   ]
  },
  {
   "cell_type": "code",
<<<<<<< HEAD
   "execution_count": 77,
   "metadata": {},
   "outputs": [
    {
     "data": {
      "text/html": [
       "<div>\n",
       "<style scoped>\n",
       "    .dataframe tbody tr th:only-of-type {\n",
       "        vertical-align: middle;\n",
       "    }\n",
       "\n",
       "    .dataframe tbody tr th {\n",
       "        vertical-align: top;\n",
       "    }\n",
       "\n",
       "    .dataframe thead th {\n",
       "        text-align: right;\n",
       "    }\n",
       "</style>\n",
       "<table border=\"1\" class=\"dataframe\">\n",
       "  <thead>\n",
       "    <tr style=\"text-align: right;\">\n",
       "      <th></th>\n",
       "      <th>Release_Date</th>\n",
       "      <th>Movie</th>\n",
       "      <th>Distributor</th>\n",
       "      <th>Budget</th>\n",
       "      <th>US Gross</th>\n",
       "      <th>Worldwide Gross</th>\n",
       "      <th>Non_US_Gross</th>\n",
       "    </tr>\n",
       "  </thead>\n",
       "  <tbody>\n",
       "    <tr>\n",
       "      <th>272</th>\n",
       "      <td>1998-11-13</td>\n",
       "      <td>Meet Joe Black</td>\n",
       "      <td>Universal</td>\n",
       "      <td>85000000</td>\n",
       "      <td>44650003.0</td>\n",
       "      <td>44650003.0</td>\n",
       "      <td>-44650003.0</td>\n",
       "    </tr>\n",
       "    <tr>\n",
       "      <th>274</th>\n",
       "      <td>2000-11-22</td>\n",
       "      <td>102 Dalmatians</td>\n",
       "      <td>Buena Vista</td>\n",
       "      <td>85000000</td>\n",
       "      <td>66941559.0</td>\n",
       "      <td>66941559.0</td>\n",
       "      <td>-66941559.0</td>\n",
       "    </tr>\n",
       "    <tr>\n",
       "      <th>280</th>\n",
       "      <td>2012-03-30</td>\n",
       "      <td>Mirror Mirror</td>\n",
       "      <td>0</td>\n",
       "      <td>85000000</td>\n",
       "      <td>19662216.0</td>\n",
       "      <td>19662216.0</td>\n",
       "      <td>-19662216.0</td>\n",
       "    </tr>\n",
       "    <tr>\n",
       "      <th>313</th>\n",
       "      <td>2000-01-01</td>\n",
       "      <td>Fantasia 2000 (IMAX)</td>\n",
       "      <td>Buena Vista</td>\n",
       "      <td>80000000</td>\n",
       "      <td>60507228.0</td>\n",
       "      <td>60507228.0</td>\n",
       "      <td>-60507228.0</td>\n",
       "    </tr>\n",
       "    <tr>\n",
       "      <th>321</th>\n",
       "      <td>2000-06-16</td>\n",
       "      <td>Fantasia 2000 (Theatrical Release)</td>\n",
       "      <td>Buena Vista</td>\n",
       "      <td>80000000</td>\n",
       "      <td>9103630.0</td>\n",
       "      <td>9103630.0</td>\n",
       "      <td>-9103630.0</td>\n",
       "    </tr>\n",
       "    <tr>\n",
       "      <th>324</th>\n",
       "      <td>1998-12-25</td>\n",
       "      <td>Mighty Joe Young</td>\n",
       "      <td>Buena Vista</td>\n",
       "      <td>80000000</td>\n",
       "      <td>50632037.0</td>\n",
       "      <td>50632037.0</td>\n",
       "      <td>-50632037.0</td>\n",
       "    </tr>\n",
       "    <tr>\n",
       "      <th>339</th>\n",
       "      <td>1997-12-25</td>\n",
       "      <td>The Postman</td>\n",
       "      <td>Warner Bros.</td>\n",
       "      <td>80000000</td>\n",
       "      <td>17650704.0</td>\n",
       "      <td>17650704.0</td>\n",
       "      <td>-17650704.0</td>\n",
       "    </tr>\n",
       "    <tr>\n",
       "      <th>384</th>\n",
       "      <td>1999-07-23</td>\n",
       "      <td>Inspector Gadget</td>\n",
       "      <td>Buena Vista</td>\n",
       "      <td>75000000</td>\n",
       "      <td>97387965.0</td>\n",
       "      <td>97387965.0</td>\n",
       "      <td>-97387965.0</td>\n",
       "    </tr>\n",
       "    <tr>\n",
       "      <th>390</th>\n",
       "      <td>1999-12-17</td>\n",
       "      <td>Anna and the King</td>\n",
       "      <td>20th Century Fox</td>\n",
       "      <td>75000000</td>\n",
       "      <td>39251128.0</td>\n",
       "      <td>39251128.0</td>\n",
       "      <td>-39251128.0</td>\n",
       "    </tr>\n",
       "    <tr>\n",
       "      <th>397</th>\n",
       "      <td>1998-10-23</td>\n",
       "      <td>Soldier</td>\n",
       "      <td>Warner Bros.</td>\n",
       "      <td>75000000</td>\n",
       "      <td>14623082.0</td>\n",
       "      <td>14623082.0</td>\n",
       "      <td>-14623082.0</td>\n",
       "    </tr>\n",
       "    <tr>\n",
       "      <th>405</th>\n",
       "      <td>2001-02-23</td>\n",
       "      <td>Monkeybone</td>\n",
       "      <td>20th Century Fox</td>\n",
       "      <td>75000000</td>\n",
       "      <td>5409517.0</td>\n",
       "      <td>5409517.0</td>\n",
       "      <td>-5409517.0</td>\n",
       "    </tr>\n",
       "    <tr>\n",
       "      <th>434</th>\n",
       "      <td>1998-01-16</td>\n",
       "      <td>Hard Rain</td>\n",
       "      <td>Paramount Pictures</td>\n",
       "      <td>70000000</td>\n",
       "      <td>19870567.0</td>\n",
       "      <td>19870567.0</td>\n",
       "      <td>-19870567.0</td>\n",
       "    </tr>\n",
       "    <tr>\n",
       "      <th>449</th>\n",
       "      <td>2002-09-20</td>\n",
       "      <td>Ballistic: Ecks vs. Sever</td>\n",
       "      <td>Warner Bros.</td>\n",
       "      <td>70000000</td>\n",
       "      <td>14294842.0</td>\n",
       "      <td>14294842.0</td>\n",
       "      <td>-14294842.0</td>\n",
       "    </tr>\n",
       "    <tr>\n",
       "      <th>465</th>\n",
       "      <td>2001-08-10</td>\n",
       "      <td>Osmosis Jones</td>\n",
       "      <td>Warner Bros.</td>\n",
       "      <td>70000000</td>\n",
       "      <td>13596911.0</td>\n",
       "      <td>13596911.0</td>\n",
       "      <td>-13596911.0</td>\n",
       "    </tr>\n",
       "    <tr>\n",
       "      <th>471</th>\n",
       "      <td>1989-08-09</td>\n",
       "      <td>The Abyss</td>\n",
       "      <td>20th Century Fox</td>\n",
       "      <td>70000000</td>\n",
       "      <td>54243125.0</td>\n",
       "      <td>54243125.0</td>\n",
       "      <td>-54243125.0</td>\n",
       "    </tr>\n",
       "    <tr>\n",
       "      <th>483</th>\n",
       "      <td>1996-09-20</td>\n",
       "      <td>Last Man Standing</td>\n",
       "      <td>New Line</td>\n",
       "      <td>67000000</td>\n",
       "      <td>18115927.0</td>\n",
       "      <td>18115927.0</td>\n",
       "      <td>-18115927.0</td>\n",
       "    </tr>\n",
       "    <tr>\n",
       "      <th>489</th>\n",
       "      <td>2000-10-27</td>\n",
       "      <td>Lucky Numbers</td>\n",
       "      <td>Paramount Pictures</td>\n",
       "      <td>65000000</td>\n",
       "      <td>10014234.0</td>\n",
       "      <td>10014234.0</td>\n",
       "      <td>-10014234.0</td>\n",
       "    </tr>\n",
       "    <tr>\n",
       "      <th>492</th>\n",
       "      <td>2000-07-07</td>\n",
       "      <td>The Kid</td>\n",
       "      <td>Buena Vista</td>\n",
       "      <td>65000000</td>\n",
       "      <td>69688384.0</td>\n",
       "      <td>69688384.0</td>\n",
       "      <td>-69688384.0</td>\n",
       "    </tr>\n",
       "    <tr>\n",
       "      <th>494</th>\n",
       "      <td>1991-05-24</td>\n",
       "      <td>Hudson Hawk</td>\n",
       "      <td>Sony</td>\n",
       "      <td>65000000</td>\n",
       "      <td>17218916.0</td>\n",
       "      <td>17218916.0</td>\n",
       "      <td>-17218916.0</td>\n",
       "    </tr>\n",
       "    <tr>\n",
       "      <th>513</th>\n",
       "      <td>1996-10-11</td>\n",
       "      <td>The Long Kiss Goodnight</td>\n",
       "      <td>New Line</td>\n",
       "      <td>65000000</td>\n",
       "      <td>33447612.0</td>\n",
       "      <td>33447612.0</td>\n",
       "      <td>-33447612.0</td>\n",
       "    </tr>\n",
       "    <tr>\n",
       "      <th>519</th>\n",
       "      <td>1998-03-20</td>\n",
       "      <td>Primary Colors</td>\n",
       "      <td>Universal</td>\n",
       "      <td>65000000</td>\n",
       "      <td>39017984.0</td>\n",
       "      <td>39017984.0</td>\n",
       "      <td>-39017984.0</td>\n",
       "    </tr>\n",
       "    <tr>\n",
       "      <th>523</th>\n",
       "      <td>1994-06-24</td>\n",
       "      <td>Wyatt Earp</td>\n",
       "      <td>Warner Bros.</td>\n",
       "      <td>63000000</td>\n",
       "      <td>25052000.0</td>\n",
       "      <td>25052000.0</td>\n",
       "      <td>-25052000.0</td>\n",
       "    </tr>\n",
       "    <tr>\n",
       "      <th>538</th>\n",
       "      <td>1998-04-03</td>\n",
       "      <td>Mercury Rising</td>\n",
       "      <td>Universal</td>\n",
       "      <td>60000000</td>\n",
       "      <td>32983332.0</td>\n",
       "      <td>32983332.0</td>\n",
       "      <td>-32983332.0</td>\n",
       "    </tr>\n",
       "    <tr>\n",
       "      <th>553</th>\n",
       "      <td>1998-10-09</td>\n",
       "      <td>Holy Man</td>\n",
       "      <td>Buena Vista</td>\n",
       "      <td>60000000</td>\n",
       "      <td>12069719.0</td>\n",
       "      <td>12069719.0</td>\n",
       "      <td>-12069719.0</td>\n",
       "    </tr>\n",
       "    <tr>\n",
       "      <th>562</th>\n",
       "      <td>1999-02-12</td>\n",
       "      <td>My Favorite Martian</td>\n",
       "      <td>Buena Vista</td>\n",
       "      <td>60000000</td>\n",
       "      <td>36850101.0</td>\n",
       "      <td>36850101.0</td>\n",
       "      <td>-36850101.0</td>\n",
       "    </tr>\n",
       "    <tr>\n",
       "      <th>580</th>\n",
       "      <td>2000-01-14</td>\n",
       "      <td>Supernova</td>\n",
       "      <td>MGM/UA</td>\n",
       "      <td>60000000</td>\n",
       "      <td>14218868.0</td>\n",
       "      <td>14218868.0</td>\n",
       "      <td>-14218868.0</td>\n",
       "    </tr>\n",
       "    <tr>\n",
       "      <th>585</th>\n",
       "      <td>1998-12-25</td>\n",
       "      <td>A Civil Action</td>\n",
       "      <td>Buena Vista</td>\n",
       "      <td>60000000</td>\n",
       "      <td>56709981.0</td>\n",
       "      <td>56709981.0</td>\n",
       "      <td>-56709981.0</td>\n",
       "    </tr>\n",
       "    <tr>\n",
       "      <th>590</th>\n",
       "      <td>1997-01-10</td>\n",
       "      <td>The Relic</td>\n",
       "      <td>Paramount Pictures</td>\n",
       "      <td>60000000</td>\n",
       "      <td>33956608.0</td>\n",
       "      <td>33956608.0</td>\n",
       "      <td>-33956608.0</td>\n",
       "    </tr>\n",
       "    <tr>\n",
       "      <th>598</th>\n",
       "      <td>2002-09-27</td>\n",
       "      <td>The Tuxedo</td>\n",
       "      <td>DreamWorks SKG</td>\n",
       "      <td>60000000</td>\n",
       "      <td>50586000.0</td>\n",
       "      <td>50586000.0</td>\n",
       "      <td>-50586000.0</td>\n",
       "    </tr>\n",
       "    <tr>\n",
       "      <th>600</th>\n",
       "      <td>1997-08-15</td>\n",
       "      <td>Event Horizon</td>\n",
       "      <td>Paramount Pictures</td>\n",
       "      <td>60000000</td>\n",
       "      <td>26673242.0</td>\n",
       "      <td>26673242.0</td>\n",
       "      <td>-26673242.0</td>\n",
       "    </tr>\n",
       "    <tr>\n",
       "      <th>...</th>\n",
       "      <td>...</td>\n",
       "      <td>...</td>\n",
       "      <td>...</td>\n",
       "      <td>...</td>\n",
       "      <td>...</td>\n",
       "      <td>...</td>\n",
       "      <td>...</td>\n",
       "    </tr>\n",
       "    <tr>\n",
       "      <th>3584</th>\n",
       "      <td>2005-01-28</td>\n",
       "      <td>Peace, Propaganda and the Promised Land</td>\n",
       "      <td>0</td>\n",
       "      <td>70000</td>\n",
       "      <td>4930.0</td>\n",
       "      <td>4930.0</td>\n",
       "      <td>-4930.0</td>\n",
       "    </tr>\n",
       "    <tr>\n",
       "      <th>3586</th>\n",
       "      <td>1998-02-20</td>\n",
       "      <td>I Love You … Don't Touch Me!</td>\n",
       "      <td>MGM/UA</td>\n",
       "      <td>68000</td>\n",
       "      <td>33598.0</td>\n",
       "      <td>33598.0</td>\n",
       "      <td>-33598.0</td>\n",
       "    </tr>\n",
       "    <tr>\n",
       "      <th>3590</th>\n",
       "      <td>1995-08-09</td>\n",
       "      <td>The Brothers McMullen</td>\n",
       "      <td>Fox Searchlight</td>\n",
       "      <td>50000</td>\n",
       "      <td>10426506.0</td>\n",
       "      <td>10426506.0</td>\n",
       "      <td>-10426506.0</td>\n",
       "    </tr>\n",
       "    <tr>\n",
       "      <th>3591</th>\n",
       "      <td>2001-03-16</td>\n",
       "      <td>Gabriela</td>\n",
       "      <td>Power Point</td>\n",
       "      <td>50000</td>\n",
       "      <td>2335352.0</td>\n",
       "      <td>2335352.0</td>\n",
       "      <td>-2335352.0</td>\n",
       "    </tr>\n",
       "    <tr>\n",
       "      <th>3592</th>\n",
       "      <td>2010-11-12</td>\n",
       "      <td>Tiny Furniture</td>\n",
       "      <td>0</td>\n",
       "      <td>50000</td>\n",
       "      <td>391674.0</td>\n",
       "      <td>391674.0</td>\n",
       "      <td>-391674.0</td>\n",
       "    </tr>\n",
       "    <tr>\n",
       "      <th>3594</th>\n",
       "      <td>2010-03-12</td>\n",
       "      <td>The Exploding Girl</td>\n",
       "      <td>Oscilloscope</td>\n",
       "      <td>40000</td>\n",
       "      <td>25572.0</td>\n",
       "      <td>25572.0</td>\n",
       "      <td>-25572.0</td>\n",
       "    </tr>\n",
       "    <tr>\n",
       "      <th>3595</th>\n",
       "      <td>2000-08-25</td>\n",
       "      <td>Smiling Fish and Goat on Fire</td>\n",
       "      <td>IDP/Stratosphere</td>\n",
       "      <td>40000</td>\n",
       "      <td>277233.0</td>\n",
       "      <td>277233.0</td>\n",
       "      <td>-277233.0</td>\n",
       "    </tr>\n",
       "    <tr>\n",
       "      <th>3596</th>\n",
       "      <td>2002-04-05</td>\n",
       "      <td>The Last Waltz</td>\n",
       "      <td>MGM/UA</td>\n",
       "      <td>35000</td>\n",
       "      <td>321952.0</td>\n",
       "      <td>321952.0</td>\n",
       "      <td>-321952.0</td>\n",
       "    </tr>\n",
       "    <tr>\n",
       "      <th>3597</th>\n",
       "      <td>2005-04-29</td>\n",
       "      <td>Funny Ha Ha</td>\n",
       "      <td>0</td>\n",
       "      <td>30000</td>\n",
       "      <td>77070.0</td>\n",
       "      <td>77070.0</td>\n",
       "      <td>-77070.0</td>\n",
       "    </tr>\n",
       "    <tr>\n",
       "      <th>3598</th>\n",
       "      <td>2010-10-15</td>\n",
       "      <td>Down Terrace</td>\n",
       "      <td>0</td>\n",
       "      <td>30000</td>\n",
       "      <td>9812.0</td>\n",
       "      <td>9812.0</td>\n",
       "      <td>-9812.0</td>\n",
       "    </tr>\n",
       "    <tr>\n",
       "      <th>3599</th>\n",
       "      <td>2006-09-01</td>\n",
       "      <td>Mutual Appreciation</td>\n",
       "      <td>0</td>\n",
       "      <td>30000</td>\n",
       "      <td>103509.0</td>\n",
       "      <td>103509.0</td>\n",
       "      <td>-103509.0</td>\n",
       "    </tr>\n",
       "    <tr>\n",
       "      <th>3600</th>\n",
       "      <td>1999-12-24</td>\n",
       "      <td>Pink Narcissus</td>\n",
       "      <td>Strand</td>\n",
       "      <td>27000</td>\n",
       "      <td>8231.0</td>\n",
       "      <td>8231.0</td>\n",
       "      <td>-8231.0</td>\n",
       "    </tr>\n",
       "    <tr>\n",
       "      <th>3602</th>\n",
       "      <td>2000-01-14</td>\n",
       "      <td>The Terrorist</td>\n",
       "      <td>Phaedra</td>\n",
       "      <td>25000</td>\n",
       "      <td>195043.0</td>\n",
       "      <td>195043.0</td>\n",
       "      <td>-195043.0</td>\n",
       "    </tr>\n",
       "    <tr>\n",
       "      <th>3604</th>\n",
       "      <td>1972-06-30</td>\n",
       "      <td>Deep Throat</td>\n",
       "      <td>Damiano</td>\n",
       "      <td>25000</td>\n",
       "      <td>45000000.0</td>\n",
       "      <td>45000000.0</td>\n",
       "      <td>-45000000.0</td>\n",
       "    </tr>\n",
       "    <tr>\n",
       "      <th>3605</th>\n",
       "      <td>1997-08-01</td>\n",
       "      <td>In the Company of Men</td>\n",
       "      <td>Sony Classics</td>\n",
       "      <td>25000</td>\n",
       "      <td>2883661.0</td>\n",
       "      <td>2883661.0</td>\n",
       "      <td>-2883661.0</td>\n",
       "    </tr>\n",
       "    <tr>\n",
       "      <th>3606</th>\n",
       "      <td>1991-08-01</td>\n",
       "      <td>Slacker</td>\n",
       "      <td>Orion Classics</td>\n",
       "      <td>23000</td>\n",
       "      <td>1227508.0</td>\n",
       "      <td>1227508.0</td>\n",
       "      <td>-1227508.0</td>\n",
       "    </tr>\n",
       "    <tr>\n",
       "      <th>3609</th>\n",
       "      <td>2010-04-02</td>\n",
       "      <td>Breaking Upwards</td>\n",
       "      <td>IFC Films</td>\n",
       "      <td>15000</td>\n",
       "      <td>115592.0</td>\n",
       "      <td>115592.0</td>\n",
       "      <td>-115592.0</td>\n",
       "    </tr>\n",
       "    <tr>\n",
       "      <th>3610</th>\n",
       "      <td>2006-06-02</td>\n",
       "      <td>The Puffy Chair</td>\n",
       "      <td>0</td>\n",
       "      <td>15000</td>\n",
       "      <td>194523.0</td>\n",
       "      <td>194523.0</td>\n",
       "      <td>-194523.0</td>\n",
       "    </tr>\n",
       "    <tr>\n",
       "      <th>3611</th>\n",
       "      <td>1997-04-11</td>\n",
       "      <td>Pink Flamingos</td>\n",
       "      <td>0</td>\n",
       "      <td>12000</td>\n",
       "      <td>413802.0</td>\n",
       "      <td>413802.0</td>\n",
       "      <td>-413802.0</td>\n",
       "    </tr>\n",
       "    <tr>\n",
       "      <th>3612</th>\n",
       "      <td>2006-04-28</td>\n",
       "      <td>Grip: A Criminal's Story</td>\n",
       "      <td>0</td>\n",
       "      <td>12000</td>\n",
       "      <td>1336.0</td>\n",
       "      <td>1336.0</td>\n",
       "      <td>-1336.0</td>\n",
       "    </tr>\n",
       "    <tr>\n",
       "      <th>3613</th>\n",
       "      <td>1996-04-01</td>\n",
       "      <td>Bang</td>\n",
       "      <td>JeTi Films</td>\n",
       "      <td>10000</td>\n",
       "      <td>527.0</td>\n",
       "      <td>527.0</td>\n",
       "      <td>-527.0</td>\n",
       "    </tr>\n",
       "    <tr>\n",
       "      <th>3614</th>\n",
       "      <td>2008-08-14</td>\n",
       "      <td>The Rise and Fall of Miss Thang</td>\n",
       "      <td>Lavender House</td>\n",
       "      <td>10000</td>\n",
       "      <td>401.0</td>\n",
       "      <td>401.0</td>\n",
       "      <td>-401.0</td>\n",
       "    </tr>\n",
       "    <tr>\n",
       "      <th>3615</th>\n",
       "      <td>2006-04-28</td>\n",
       "      <td>Clean</td>\n",
       "      <td>Palm Pictures</td>\n",
       "      <td>10000</td>\n",
       "      <td>138711.0</td>\n",
       "      <td>138711.0</td>\n",
       "      <td>-138711.0</td>\n",
       "    </tr>\n",
       "    <tr>\n",
       "      <th>3616</th>\n",
       "      <td>2004-05-28</td>\n",
       "      <td>On the Down Low</td>\n",
       "      <td>Cinema con Sabor</td>\n",
       "      <td>10000</td>\n",
       "      <td>1987.0</td>\n",
       "      <td>1987.0</td>\n",
       "      <td>-1987.0</td>\n",
       "    </tr>\n",
       "    <tr>\n",
       "      <th>3617</th>\n",
       "      <td>2001-07-06</td>\n",
       "      <td>Cure</td>\n",
       "      <td>Cowboy</td>\n",
       "      <td>10000</td>\n",
       "      <td>94596.0</td>\n",
       "      <td>94596.0</td>\n",
       "      <td>-94596.0</td>\n",
       "    </tr>\n",
       "    <tr>\n",
       "      <th>3618</th>\n",
       "      <td>2001-03-09</td>\n",
       "      <td>Dayereh</td>\n",
       "      <td>Winstar</td>\n",
       "      <td>10000</td>\n",
       "      <td>673780.0</td>\n",
       "      <td>673780.0</td>\n",
       "      <td>-673780.0</td>\n",
       "    </tr>\n",
       "    <tr>\n",
       "      <th>3619</th>\n",
       "      <td>2012-01-13</td>\n",
       "      <td>Newlyweds</td>\n",
       "      <td>0</td>\n",
       "      <td>9000</td>\n",
       "      <td>4584.0</td>\n",
       "      <td>4584.0</td>\n",
       "      <td>-4584.0</td>\n",
       "    </tr>\n",
       "    <tr>\n",
       "      <th>3623</th>\n",
       "      <td>2004-01-01</td>\n",
       "      <td>The Mongol King</td>\n",
       "      <td>CustomFlix</td>\n",
       "      <td>7000</td>\n",
       "      <td>900.0</td>\n",
       "      <td>900.0</td>\n",
       "      <td>-900.0</td>\n",
       "    </tr>\n",
       "    <tr>\n",
       "      <th>3625</th>\n",
       "      <td>2005-07-13</td>\n",
       "      <td>Return to the Land of Wonders</td>\n",
       "      <td>0</td>\n",
       "      <td>5000</td>\n",
       "      <td>1338.0</td>\n",
       "      <td>1338.0</td>\n",
       "      <td>-1338.0</td>\n",
       "    </tr>\n",
       "    <tr>\n",
       "      <th>3626</th>\n",
       "      <td>2005-08-05</td>\n",
       "      <td>My Date With Drew</td>\n",
       "      <td>0</td>\n",
       "      <td>1100</td>\n",
       "      <td>181041.0</td>\n",
       "      <td>181041.0</td>\n",
       "      <td>-181041.0</td>\n",
       "    </tr>\n",
       "  </tbody>\n",
       "</table>\n",
       "<p>1212 rows × 7 columns</p>\n",
       "</div>"
      ],
      "text/plain": [
       "     Release_Date                                    Movie  \\\n",
       "272    1998-11-13                           Meet Joe Black   \n",
       "274    2000-11-22                           102 Dalmatians   \n",
       "280    2012-03-30                            Mirror Mirror   \n",
       "313    2000-01-01                     Fantasia 2000 (IMAX)   \n",
       "321    2000-06-16       Fantasia 2000 (Theatrical Release)   \n",
       "324    1998-12-25                         Mighty Joe Young   \n",
       "339    1997-12-25                              The Postman   \n",
       "384    1999-07-23                         Inspector Gadget   \n",
       "390    1999-12-17                        Anna and the King   \n",
       "397    1998-10-23                                  Soldier   \n",
       "405    2001-02-23                               Monkeybone   \n",
       "434    1998-01-16                                Hard Rain   \n",
       "449    2002-09-20                Ballistic: Ecks vs. Sever   \n",
       "465    2001-08-10                            Osmosis Jones   \n",
       "471    1989-08-09                                The Abyss   \n",
       "483    1996-09-20                        Last Man Standing   \n",
       "489    2000-10-27                            Lucky Numbers   \n",
       "492    2000-07-07                                  The Kid   \n",
       "494    1991-05-24                              Hudson Hawk   \n",
       "513    1996-10-11                  The Long Kiss Goodnight   \n",
       "519    1998-03-20                           Primary Colors   \n",
       "523    1994-06-24                               Wyatt Earp   \n",
       "538    1998-04-03                           Mercury Rising   \n",
       "553    1998-10-09                                 Holy Man   \n",
       "562    1999-02-12                      My Favorite Martian   \n",
       "580    2000-01-14                                Supernova   \n",
       "585    1998-12-25                           A Civil Action   \n",
       "590    1997-01-10                                The Relic   \n",
       "598    2002-09-27                               The Tuxedo   \n",
       "600    1997-08-15                            Event Horizon   \n",
       "...           ...                                      ...   \n",
       "3584   2005-01-28  Peace, Propaganda and the Promised Land   \n",
       "3586   1998-02-20             I Love You … Don't Touch Me!   \n",
       "3590   1995-08-09                    The Brothers McMullen   \n",
       "3591   2001-03-16                                 Gabriela   \n",
       "3592   2010-11-12                           Tiny Furniture   \n",
       "3594   2010-03-12                       The Exploding Girl   \n",
       "3595   2000-08-25            Smiling Fish and Goat on Fire   \n",
       "3596   2002-04-05                           The Last Waltz   \n",
       "3597   2005-04-29                              Funny Ha Ha   \n",
       "3598   2010-10-15                             Down Terrace   \n",
       "3599   2006-09-01                      Mutual Appreciation   \n",
       "3600   1999-12-24                           Pink Narcissus   \n",
       "3602   2000-01-14                            The Terrorist   \n",
       "3604   1972-06-30                              Deep Throat   \n",
       "3605   1997-08-01                    In the Company of Men   \n",
       "3606   1991-08-01                                  Slacker   \n",
       "3609   2010-04-02                         Breaking Upwards   \n",
       "3610   2006-06-02                          The Puffy Chair   \n",
       "3611   1997-04-11                           Pink Flamingos   \n",
       "3612   2006-04-28                 Grip: A Criminal's Story   \n",
       "3613   1996-04-01                                     Bang   \n",
       "3614   2008-08-14          The Rise and Fall of Miss Thang   \n",
       "3615   2006-04-28                                    Clean   \n",
       "3616   2004-05-28                          On the Down Low   \n",
       "3617   2001-07-06                                     Cure   \n",
       "3618   2001-03-09                                  Dayereh   \n",
       "3619   2012-01-13                                Newlyweds   \n",
       "3623   2004-01-01                          The Mongol King   \n",
       "3625   2005-07-13            Return to the Land of Wonders   \n",
       "3626   2005-08-05                        My Date With Drew   \n",
       "\n",
       "             Distributor    Budget    US Gross  Worldwide Gross  Non_US_Gross  \n",
       "272            Universal  85000000  44650003.0       44650003.0   -44650003.0  \n",
       "274          Buena Vista  85000000  66941559.0       66941559.0   -66941559.0  \n",
       "280                    0  85000000  19662216.0       19662216.0   -19662216.0  \n",
       "313          Buena Vista  80000000  60507228.0       60507228.0   -60507228.0  \n",
       "321          Buena Vista  80000000   9103630.0        9103630.0    -9103630.0  \n",
       "324          Buena Vista  80000000  50632037.0       50632037.0   -50632037.0  \n",
       "339         Warner Bros.  80000000  17650704.0       17650704.0   -17650704.0  \n",
       "384          Buena Vista  75000000  97387965.0       97387965.0   -97387965.0  \n",
       "390     20th Century Fox  75000000  39251128.0       39251128.0   -39251128.0  \n",
       "397         Warner Bros.  75000000  14623082.0       14623082.0   -14623082.0  \n",
       "405     20th Century Fox  75000000   5409517.0        5409517.0    -5409517.0  \n",
       "434   Paramount Pictures  70000000  19870567.0       19870567.0   -19870567.0  \n",
       "449         Warner Bros.  70000000  14294842.0       14294842.0   -14294842.0  \n",
       "465         Warner Bros.  70000000  13596911.0       13596911.0   -13596911.0  \n",
       "471     20th Century Fox  70000000  54243125.0       54243125.0   -54243125.0  \n",
       "483             New Line  67000000  18115927.0       18115927.0   -18115927.0  \n",
       "489   Paramount Pictures  65000000  10014234.0       10014234.0   -10014234.0  \n",
       "492          Buena Vista  65000000  69688384.0       69688384.0   -69688384.0  \n",
       "494                 Sony  65000000  17218916.0       17218916.0   -17218916.0  \n",
       "513             New Line  65000000  33447612.0       33447612.0   -33447612.0  \n",
       "519            Universal  65000000  39017984.0       39017984.0   -39017984.0  \n",
       "523         Warner Bros.  63000000  25052000.0       25052000.0   -25052000.0  \n",
       "538            Universal  60000000  32983332.0       32983332.0   -32983332.0  \n",
       "553          Buena Vista  60000000  12069719.0       12069719.0   -12069719.0  \n",
       "562          Buena Vista  60000000  36850101.0       36850101.0   -36850101.0  \n",
       "580               MGM/UA  60000000  14218868.0       14218868.0   -14218868.0  \n",
       "585          Buena Vista  60000000  56709981.0       56709981.0   -56709981.0  \n",
       "590   Paramount Pictures  60000000  33956608.0       33956608.0   -33956608.0  \n",
       "598       DreamWorks SKG  60000000  50586000.0       50586000.0   -50586000.0  \n",
       "600   Paramount Pictures  60000000  26673242.0       26673242.0   -26673242.0  \n",
       "...                  ...       ...         ...              ...           ...  \n",
       "3584                   0     70000      4930.0           4930.0       -4930.0  \n",
       "3586              MGM/UA     68000     33598.0          33598.0      -33598.0  \n",
       "3590     Fox Searchlight     50000  10426506.0       10426506.0   -10426506.0  \n",
       "3591         Power Point     50000   2335352.0        2335352.0    -2335352.0  \n",
       "3592                   0     50000    391674.0         391674.0     -391674.0  \n",
       "3594        Oscilloscope     40000     25572.0          25572.0      -25572.0  \n",
       "3595    IDP/Stratosphere     40000    277233.0         277233.0     -277233.0  \n",
       "3596              MGM/UA     35000    321952.0         321952.0     -321952.0  \n",
       "3597                   0     30000     77070.0          77070.0      -77070.0  \n",
       "3598                   0     30000      9812.0           9812.0       -9812.0  \n",
       "3599                   0     30000    103509.0         103509.0     -103509.0  \n",
       "3600              Strand     27000      8231.0           8231.0       -8231.0  \n",
       "3602             Phaedra     25000    195043.0         195043.0     -195043.0  \n",
       "3604             Damiano     25000  45000000.0       45000000.0   -45000000.0  \n",
       "3605       Sony Classics     25000   2883661.0        2883661.0    -2883661.0  \n",
       "3606      Orion Classics     23000   1227508.0        1227508.0    -1227508.0  \n",
       "3609           IFC Films     15000    115592.0         115592.0     -115592.0  \n",
       "3610                   0     15000    194523.0         194523.0     -194523.0  \n",
       "3611                   0     12000    413802.0         413802.0     -413802.0  \n",
       "3612                   0     12000      1336.0           1336.0       -1336.0  \n",
       "3613          JeTi Films     10000       527.0            527.0        -527.0  \n",
       "3614      Lavender House     10000       401.0            401.0        -401.0  \n",
       "3615       Palm Pictures     10000    138711.0         138711.0     -138711.0  \n",
       "3616    Cinema con Sabor     10000      1987.0           1987.0       -1987.0  \n",
       "3617              Cowboy     10000     94596.0          94596.0      -94596.0  \n",
       "3618             Winstar     10000    673780.0         673780.0     -673780.0  \n",
       "3619                   0      9000      4584.0           4584.0       -4584.0  \n",
       "3623          CustomFlix      7000       900.0            900.0        -900.0  \n",
       "3625                   0      5000      1338.0           1338.0       -1338.0  \n",
       "3626                   0      1100    181041.0         181041.0     -181041.0  \n",
       "\n",
       "[1212 rows x 7 columns]"
      ]
     },
     "execution_count": 77,
     "metadata": {},
     "output_type": "execute_result"
    }
   ],
=======
   "execution_count": null,
   "metadata": {},
   "outputs": [],
>>>>>>> 9aea48216e5eb3b61c027f3974dbeec176697c16
   "source": [
    "movies[movies.Non_US_Gross < 0]"
   ]
  },
  {
   "cell_type": "markdown",
   "metadata": {},
   "source": [
    "Looks good (though we need to update the Non_US_Gross column). Notice that even though we didn't subset the US Gross column as we assigned it, pandas automatically matched up the correct rows."
   ]
  },
  {
   "cell_type": "code",
<<<<<<< HEAD
   "execution_count": 78,
=======
   "execution_count": null,
>>>>>>> 9aea48216e5eb3b61c027f3974dbeec176697c16
   "metadata": {},
   "outputs": [],
   "source": [
    "movies[\"Non_US_Gross\"] = movies[\"Worldwide Gross\"] - movies[\"US Gross\"]"
   ]
  },
  {
   "cell_type": "code",
<<<<<<< HEAD
   "execution_count": 79,
   "metadata": {},
   "outputs": [
    {
     "data": {
      "text/plain": [
       "0.0"
      ]
     },
     "execution_count": 79,
     "metadata": {},
     "output_type": "execute_result"
    }
   ],
=======
   "execution_count": null,
   "metadata": {},
   "outputs": [],
>>>>>>> 9aea48216e5eb3b61c027f3974dbeec176697c16
   "source": [
    "movies.Non_US_Gross.min()"
   ]
  },
  {
   "cell_type": "markdown",
   "metadata": {},
   "source": [
    "With that correction in hand, we can continue analyzing the data. For example, let's get the profit for each movie:"
   ]
  },
  {
   "cell_type": "code",
<<<<<<< HEAD
   "execution_count": 80,
=======
   "execution_count": null,
>>>>>>> 9aea48216e5eb3b61c027f3974dbeec176697c16
   "metadata": {},
   "outputs": [],
   "source": [
    "movies[\"Profits\"] = movies[\"Worldwide Gross\"] - movies[\"Budget\"]"
   ]
  },
  {
   "cell_type": "markdown",
   "metadata": {},
   "source": [
    "There are a few standard metrics we want to compute frequently, such as min, max, mean and median. Pandas puts all these handily together with the *describe()* method:"
   ]
  },
  {
   "cell_type": "code",
<<<<<<< HEAD
   "execution_count": 81,
   "metadata": {},
   "outputs": [
    {
     "data": {
      "text/plain": [
       "count    3.627000e+03\n",
       "mean     5.414562e+07\n",
       "std      1.302474e+08\n",
       "min     -2.700000e+08\n",
       "25%     -2.891174e+06\n",
       "50%      9.423500e+06\n",
       "75%      6.090619e+07\n",
       "max      2.546919e+09\n",
       "Name: Profits, dtype: float64"
      ]
     },
     "execution_count": 81,
     "metadata": {},
     "output_type": "execute_result"
    }
   ],
=======
   "execution_count": null,
   "metadata": {},
   "outputs": [],
>>>>>>> 9aea48216e5eb3b61c027f3974dbeec176697c16
   "source": [
    "movies.Profits.describe()"
   ]
  },
  {
   "cell_type": "markdown",
   "metadata": {},
   "source": [
    "Note that pandas tries to pick the way to display numbers. Here, for example, it decides to use [scientific notation](https://en.wikipedia.org/wiki/Scientific_notation), expressing numbers as multiples of exponents of 10."
   ]
  },
  {
   "cell_type": "markdown",
   "metadata": {},
   "source": [
    "Column names are just Python values like anything else, and DataFrame.columns works basically like a list. That means that we can loop over it. For example, suppose we wanted to print the number of unique values in each column:"
   ]
  },
  {
   "cell_type": "code",
<<<<<<< HEAD
   "execution_count": 82,
=======
   "execution_count": null,
>>>>>>> 9aea48216e5eb3b61c027f3974dbeec176697c16
   "metadata": {},
   "outputs": [],
   "source": [
    "for column in movies.columns:\n",
    "    print(column, len(movies[column].unique()))"
   ]
  },
  {
   "cell_type": "markdown",
   "metadata": {},
   "source": [
    "## Grouping\n",
    "\n",
    "Often, what you care about aren't individual records, but summaries aggregated at some level. For example, you may want to know how many movies were released each year, or whether certain months of the year have more earthquakes than others. \n",
    "\n",
    "Pandas uses the Split-Apply-Combine paradigm; we **split** the data into groups, **apply** a certain calculation to each group separately, and **combine** the results back into a new data structure. \n",
    "\n",
    "Let's start by getting the annual mean of each numeric column: finding the average US Gross, Worldwide Gross, etc. by year.\n",
    "\n",
    "First, we need to create a new column to aggregate on -- the Release Year. Since the values of the *Release_Date* column are datetime-like objects, they have a *year* property:"
   ]
  },
  {
   "cell_type": "code",
<<<<<<< HEAD
   "execution_count": 83,
   "metadata": {},
   "outputs": [
    {
     "data": {
      "text/plain": [
       "2005"
      ]
     },
     "execution_count": 83,
     "metadata": {},
     "output_type": "execute_result"
    }
   ],
=======
   "execution_count": null,
   "metadata": {},
   "outputs": [],
>>>>>>> 9aea48216e5eb3b61c027f3974dbeec176697c16
   "source": [
    "movies.Release_Date[19].year # Some arbitrary row"
   ]
  },
  {
   "cell_type": "markdown",
   "metadata": {},
   "source": [
    "To create a new column based on another column, with an operation that isn't basic arithmetic, we use the *apply(...)* method. This method takes another function as an input, and applies it (hence the name) to each value in a column or series. The function being applied should take a single value as an input, and produce a similar output which can be assigned to the new series."
   ]
  },
  {
   "cell_type": "code",
<<<<<<< HEAD
   "execution_count": 84,
=======
   "execution_count": null,
>>>>>>> 9aea48216e5eb3b61c027f3974dbeec176697c16
   "metadata": {},
   "outputs": [],
   "source": [
    "def get_year(date):\n",
    "    return date.year"
   ]
  },
  {
   "cell_type": "code",
<<<<<<< HEAD
   "execution_count": 85,
=======
   "execution_count": null,
>>>>>>> 9aea48216e5eb3b61c027f3974dbeec176697c16
   "metadata": {},
   "outputs": [],
   "source": [
    "movies[\"Year\"] = movies.Release_Date.apply(get_year)"
   ]
  },
  {
   "cell_type": "markdown",
   "metadata": {},
   "source": [
    "In fact, we don't even have to define an entire function; Python allows us to use the **lambda** keyword to create a simple one-line function directly inside the *apply(...)* parentheses (you may have encountered this concept as anonymous functions in other languages). \n",
    "\n",
    "We could simplify the lines above to:"
   ]
  },
  {
   "cell_type": "code",
<<<<<<< HEAD
   "execution_count": 86,
=======
   "execution_count": null,
>>>>>>> 9aea48216e5eb3b61c027f3974dbeec176697c16
   "metadata": {},
   "outputs": [],
   "source": [
    "movies[\"Year\"] = movies.Release_Date.apply(lambda x: x.year)"
   ]
  },
  {
   "cell_type": "code",
<<<<<<< HEAD
   "execution_count": 87,
=======
   "execution_count": null,
>>>>>>> 9aea48216e5eb3b61c027f3974dbeec176697c16
   "metadata": {},
   "outputs": [],
   "source": [
    "print(movies.Year.min())\n",
    "print(movies.Year.max())"
   ]
  },
  {
   "cell_type": "markdown",
   "metadata": {},
   "source": [
    "Now that we've created a Year column, we need to divide the data by its different values. We go this using the DataFrame's *groupby(...)* method, like this:"
   ]
  },
  {
   "cell_type": "code",
<<<<<<< HEAD
   "execution_count": 88,
=======
   "execution_count": null,
>>>>>>> 9aea48216e5eb3b61c027f3974dbeec176697c16
   "metadata": {},
   "outputs": [],
   "source": [
    "by_year = movies.groupby('Year')"
   ]
  },
  {
   "cell_type": "markdown",
   "metadata": {},
   "source": [
    "The argument we give *groupby(...)* is the name of the column to group by. The result of the method, which is assigned here to *by_year* is a special pandas object that stores a grouped dataframe. The groups themselves are stored as a dictionary, associating group labels (e.g. years, in this case) with the indices of all the rows that belong to that group."
   ]
  },
  {
   "cell_type": "code",
<<<<<<< HEAD
   "execution_count": 89,
=======
   "execution_count": null,
>>>>>>> 9aea48216e5eb3b61c027f3974dbeec176697c16
   "metadata": {},
   "outputs": [],
   "source": [
    "print(by_year.groups.keys())"
   ]
  },
  {
   "cell_type": "code",
<<<<<<< HEAD
   "execution_count": 90,
   "metadata": {},
   "outputs": [
    {
     "data": {
      "text/plain": [
       "Int64Index([3501, 3558], dtype='int64')"
      ]
     },
     "execution_count": 90,
     "metadata": {},
     "output_type": "execute_result"
    }
   ],
=======
   "execution_count": null,
   "metadata": {},
   "outputs": [],
>>>>>>> 9aea48216e5eb3b61c027f3974dbeec176697c16
   "source": [
    "by_year.groups[1916]"
   ]
  },
  {
   "cell_type": "markdown",
   "metadata": {},
   "source": [
    " We can carry out operations on the grouped object to yield aggragated DataFrames. \n",
    "\n",
    "The simplest of the operations built-in to the grouped data object is *mean()*, which simply returns the mean of each column for each of the groups -- in this case, the mean of each column by year. The result is a new DataFrame, indexed by year:"
   ]
  },
  {
   "cell_type": "code",
<<<<<<< HEAD
   "execution_count": 91,
=======
   "execution_count": null,
>>>>>>> 9aea48216e5eb3b61c027f3974dbeec176697c16
   "metadata": {},
   "outputs": [],
   "source": [
    "annual_means = by_year.mean()"
   ]
  },
  {
   "cell_type": "code",
<<<<<<< HEAD
   "execution_count": 92,
=======
   "execution_count": null,
>>>>>>> 9aea48216e5eb3b61c027f3974dbeec176697c16
   "metadata": {},
   "outputs": [],
   "source": [
    "annual_means.info()"
   ]
  },
  {
   "cell_type": "code",
<<<<<<< HEAD
   "execution_count": 93,
   "metadata": {},
   "outputs": [
    {
     "data": {
      "text/html": [
       "<div>\n",
       "<style scoped>\n",
       "    .dataframe tbody tr th:only-of-type {\n",
       "        vertical-align: middle;\n",
       "    }\n",
       "\n",
       "    .dataframe tbody tr th {\n",
       "        vertical-align: top;\n",
       "    }\n",
       "\n",
       "    .dataframe thead th {\n",
       "        text-align: right;\n",
       "    }\n",
       "</style>\n",
       "<table border=\"1\" class=\"dataframe\">\n",
       "  <thead>\n",
       "    <tr style=\"text-align: right;\">\n",
       "      <th></th>\n",
       "      <th>Budget</th>\n",
       "      <th>US Gross</th>\n",
       "      <th>Worldwide Gross</th>\n",
       "      <th>Non_US_Gross</th>\n",
       "      <th>Profits</th>\n",
       "    </tr>\n",
       "    <tr>\n",
       "      <th>Year</th>\n",
       "      <th></th>\n",
       "      <th></th>\n",
       "      <th></th>\n",
       "      <th></th>\n",
       "      <th></th>\n",
       "    </tr>\n",
       "  </thead>\n",
       "  <tbody>\n",
       "    <tr>\n",
       "      <th>1915</th>\n",
       "      <td>110000.0</td>\n",
       "      <td>10000000.0</td>\n",
       "      <td>11000000.0</td>\n",
       "      <td>1000000.0</td>\n",
       "      <td>10890000.0</td>\n",
       "    </tr>\n",
       "    <tr>\n",
       "      <th>1916</th>\n",
       "      <td>292953.5</td>\n",
       "      <td>4000000.0</td>\n",
       "      <td>4000000.0</td>\n",
       "      <td>0.0</td>\n",
       "      <td>3707046.5</td>\n",
       "    </tr>\n",
       "    <tr>\n",
       "      <th>1920</th>\n",
       "      <td>100000.0</td>\n",
       "      <td>3000000.0</td>\n",
       "      <td>3000000.0</td>\n",
       "      <td>0.0</td>\n",
       "      <td>2900000.0</td>\n",
       "    </tr>\n",
       "    <tr>\n",
       "      <th>1925</th>\n",
       "      <td>2072500.0</td>\n",
       "      <td>10000000.0</td>\n",
       "      <td>15500000.0</td>\n",
       "      <td>5500000.0</td>\n",
       "      <td>13427500.0</td>\n",
       "    </tr>\n",
       "    <tr>\n",
       "      <th>1927</th>\n",
       "      <td>2000000.0</td>\n",
       "      <td>0.0</td>\n",
       "      <td>0.0</td>\n",
       "      <td>0.0</td>\n",
       "      <td>-2000000.0</td>\n",
       "    </tr>\n",
       "  </tbody>\n",
       "</table>\n",
       "</div>"
      ],
      "text/plain": [
       "         Budget    US Gross  Worldwide Gross  Non_US_Gross     Profits\n",
       "Year                                                                  \n",
       "1915   110000.0  10000000.0       11000000.0     1000000.0  10890000.0\n",
       "1916   292953.5   4000000.0        4000000.0           0.0   3707046.5\n",
       "1920   100000.0   3000000.0        3000000.0           0.0   2900000.0\n",
       "1925  2072500.0  10000000.0       15500000.0     5500000.0  13427500.0\n",
       "1927  2000000.0         0.0              0.0           0.0  -2000000.0"
      ]
     },
     "execution_count": 93,
     "metadata": {},
     "output_type": "execute_result"
    }
   ],
=======
   "execution_count": null,
   "metadata": {},
   "outputs": [],
>>>>>>> 9aea48216e5eb3b61c027f3974dbeec176697c16
   "source": [
    "annual_means.head()"
   ]
  },
  {
   "cell_type": "markdown",
   "metadata": {},
   "source": [
    "We can apply our own functions to each group as well, by passing them to the group object's *aggregate(...)* method. For example, if we want a count of how many movies were released in each year, we could simply pass Python's built-in *len* function, to count the length of each group:"
   ]
  },
  {
   "cell_type": "code",
<<<<<<< HEAD
   "execution_count": 94,
=======
   "execution_count": null,
>>>>>>> 9aea48216e5eb3b61c027f3974dbeec176697c16
   "metadata": {},
   "outputs": [],
   "source": [
    "counts = by_year.aggregate(len)"
   ]
  },
  {
   "cell_type": "code",
<<<<<<< HEAD
   "execution_count": 95,
   "metadata": {},
   "outputs": [
    {
     "data": {
      "text/html": [
       "<div>\n",
       "<style scoped>\n",
       "    .dataframe tbody tr th:only-of-type {\n",
       "        vertical-align: middle;\n",
       "    }\n",
       "\n",
       "    .dataframe tbody tr th {\n",
       "        vertical-align: top;\n",
       "    }\n",
       "\n",
       "    .dataframe thead th {\n",
       "        text-align: right;\n",
       "    }\n",
       "</style>\n",
       "<table border=\"1\" class=\"dataframe\">\n",
       "  <thead>\n",
       "    <tr style=\"text-align: right;\">\n",
       "      <th></th>\n",
       "      <th>Release_Date</th>\n",
       "      <th>Movie</th>\n",
       "      <th>Distributor</th>\n",
       "      <th>Budget</th>\n",
       "      <th>US Gross</th>\n",
       "      <th>Worldwide Gross</th>\n",
       "      <th>Non_US_Gross</th>\n",
       "      <th>Profits</th>\n",
       "    </tr>\n",
       "    <tr>\n",
       "      <th>Year</th>\n",
       "      <th></th>\n",
       "      <th></th>\n",
       "      <th></th>\n",
       "      <th></th>\n",
       "      <th></th>\n",
       "      <th></th>\n",
       "      <th></th>\n",
       "      <th></th>\n",
       "    </tr>\n",
       "  </thead>\n",
       "  <tbody>\n",
       "    <tr>\n",
       "      <th>1915</th>\n",
       "      <td>1</td>\n",
       "      <td>1</td>\n",
       "      <td>1</td>\n",
       "      <td>1</td>\n",
       "      <td>1.0</td>\n",
       "      <td>1.0</td>\n",
       "      <td>1.0</td>\n",
       "      <td>1.0</td>\n",
       "    </tr>\n",
       "    <tr>\n",
       "      <th>1916</th>\n",
       "      <td>2</td>\n",
       "      <td>2</td>\n",
       "      <td>2</td>\n",
       "      <td>2</td>\n",
       "      <td>2.0</td>\n",
       "      <td>2.0</td>\n",
       "      <td>2.0</td>\n",
       "      <td>2.0</td>\n",
       "    </tr>\n",
       "    <tr>\n",
       "      <th>1920</th>\n",
       "      <td>1</td>\n",
       "      <td>1</td>\n",
       "      <td>1</td>\n",
       "      <td>1</td>\n",
       "      <td>1.0</td>\n",
       "      <td>1.0</td>\n",
       "      <td>1.0</td>\n",
       "      <td>1.0</td>\n",
       "    </tr>\n",
       "    <tr>\n",
       "      <th>1925</th>\n",
       "      <td>2</td>\n",
       "      <td>2</td>\n",
       "      <td>2</td>\n",
       "      <td>2</td>\n",
       "      <td>2.0</td>\n",
       "      <td>2.0</td>\n",
       "      <td>2.0</td>\n",
       "      <td>2.0</td>\n",
       "    </tr>\n",
       "    <tr>\n",
       "      <th>1927</th>\n",
       "      <td>1</td>\n",
       "      <td>1</td>\n",
       "      <td>1</td>\n",
       "      <td>1</td>\n",
       "      <td>1.0</td>\n",
       "      <td>1.0</td>\n",
       "      <td>1.0</td>\n",
       "      <td>1.0</td>\n",
       "    </tr>\n",
       "  </tbody>\n",
       "</table>\n",
       "</div>"
      ],
      "text/plain": [
       "      Release_Date  Movie  Distributor  Budget  US Gross  Worldwide Gross  \\\n",
       "Year                                                                        \n",
       "1915             1      1            1       1       1.0              1.0   \n",
       "1916             2      2            2       2       2.0              2.0   \n",
       "1920             1      1            1       1       1.0              1.0   \n",
       "1925             2      2            2       2       2.0              2.0   \n",
       "1927             1      1            1       1       1.0              1.0   \n",
       "\n",
       "      Non_US_Gross  Profits  \n",
       "Year                         \n",
       "1915           1.0      1.0  \n",
       "1916           2.0      2.0  \n",
       "1920           1.0      1.0  \n",
       "1925           2.0      2.0  \n",
       "1927           1.0      1.0  "
      ]
     },
     "execution_count": 95,
     "metadata": {},
     "output_type": "execute_result"
    }
   ],
=======
   "execution_count": null,
   "metadata": {},
   "outputs": [],
>>>>>>> 9aea48216e5eb3b61c027f3974dbeec176697c16
   "source": [
    "counts.head()"
   ]
  },
  {
   "cell_type": "code",
<<<<<<< HEAD
   "execution_count": 96,
=======
   "execution_count": null,
>>>>>>> 9aea48216e5eb3b61c027f3974dbeec176697c16
   "metadata": {},
   "outputs": [],
   "source": [
    "counts.info()"
   ]
  },
  {
   "cell_type": "markdown",
   "metadata": {},
   "source": [
    "Notice how all the columns (except the first one) in each row have the same value --  we're just counting the number of rows per group (movies per year, in this case), which won't vary from column to column. (The Release_Date column 'remembers' that it's holding a date, and converts the count number accordingly).\n",
    "\n",
    "In fact, there's no need for a whole data frame: the count of movies per year is just a series. If we only want a single series, we can select a column from the grouped object just like from a DataFrame. For the movie counts, it doesn't matter which column we pick (with the exception of the Release_Date column). "
   ]
  },
  {
   "cell_type": "code",
<<<<<<< HEAD
   "execution_count": 97,
=======
   "execution_count": null,
>>>>>>> 9aea48216e5eb3b61c027f3974dbeec176697c16
   "metadata": {},
   "outputs": [],
   "source": [
    "counts = by_year.Movie.aggregate(len)"
   ]
  },
  {
   "cell_type": "code",
<<<<<<< HEAD
   "execution_count": 98,
   "metadata": {},
   "outputs": [
    {
     "data": {
      "text/plain": [
       "Year\n",
       "1915      1\n",
       "1916      2\n",
       "1920      1\n",
       "1925      2\n",
       "1927      1\n",
       "1929      1\n",
       "1930      1\n",
       "1931      1\n",
       "1933      3\n",
       "1934      1\n",
       "1935      1\n",
       "1936      3\n",
       "1937      1\n",
       "1938      2\n",
       "1939      3\n",
       "1940      3\n",
       "1941      1\n",
       "1942      1\n",
       "1943      2\n",
       "1944      2\n",
       "1945      3\n",
       "1946      4\n",
       "1947      1\n",
       "1948      2\n",
       "1949      2\n",
       "1950      2\n",
       "1951      6\n",
       "1952      3\n",
       "1953      6\n",
       "1954      3\n",
       "       ... \n",
       "1984     23\n",
       "1985     25\n",
       "1986     26\n",
       "1987     27\n",
       "1988     29\n",
       "1989     29\n",
       "1990     28\n",
       "1991     33\n",
       "1992     32\n",
       "1993     41\n",
       "1994     53\n",
       "1995     74\n",
       "1996    104\n",
       "1997     99\n",
       "1998    148\n",
       "1999    179\n",
       "2000    189\n",
       "2001    176\n",
       "2002    207\n",
       "2003    186\n",
       "2004    196\n",
       "2005    211\n",
       "2006    229\n",
       "2007    178\n",
       "2008    177\n",
       "2009    172\n",
       "2010    212\n",
       "2011    154\n",
       "2012     30\n",
       "2013      1\n",
       "Name: Movie, Length: 89, dtype: int64"
      ]
     },
     "execution_count": 98,
     "metadata": {},
     "output_type": "execute_result"
    }
   ],
=======
   "execution_count": null,
   "metadata": {},
   "outputs": [],
>>>>>>> 9aea48216e5eb3b61c027f3974dbeec176697c16
   "source": [
    "counts"
   ]
  },
  {
   "cell_type": "markdown",
   "metadata": {},
   "source": [
    "As you can see, *counts* is now a series storing the count of movies released per year."
   ]
  },
  {
   "cell_type": "markdown",
   "metadata": {},
   "source": [
    "## Merging\n",
    "\n",
    "You'll frequently find yourself working with more than one dataset at a time, or needing to combine data from several sources for analysis. Fortunately, pandas makes this simple as well.\n",
    "\n",
    "For this example, suppose we're interested in how movies are affected by the state of the American economy. First, let's put together three series: the number of movies released per year, their average budget, and their average profit.\n",
    "\n",
    "The latter two come from the *annual_means* DataFrame. We can create a DataFrame by subsetting a list of columns from another DataFrame, like this:"
   ]
  },
  {
   "cell_type": "code",
<<<<<<< HEAD
   "execution_count": 99,
=======
   "execution_count": null,
>>>>>>> 9aea48216e5eb3b61c027f3974dbeec176697c16
   "metadata": {},
   "outputs": [],
   "source": [
    "annual_data = annual_means[[\"Budget\", \"Profits\"]]"
   ]
  },
  {
   "cell_type": "code",
<<<<<<< HEAD
   "execution_count": 100,
=======
   "execution_count": null,
>>>>>>> 9aea48216e5eb3b61c027f3974dbeec176697c16
   "metadata": {},
   "outputs": [],
   "source": [
    "annual_data.info()"
   ]
  },
  {
   "cell_type": "markdown",
   "metadata": {},
   "source": [
    "To make it clear that we're looking at averages now, we may want to rename the columns. We do this using the *rename* method, and passing a dictionary to the *columns* argument, associating the old names and new names for columns we want to rename:"
   ]
  },
  {
   "cell_type": "code",
<<<<<<< HEAD
   "execution_count": 101,
=======
   "execution_count": null,
>>>>>>> 9aea48216e5eb3b61c027f3974dbeec176697c16
   "metadata": {},
   "outputs": [],
   "source": [
    "annual_data = annual_data.rename(columns={\"Budget\": \"Mean_Budget\", \"Profits\": \"Mean_Profit\"})"
   ]
  },
  {
   "cell_type": "markdown",
   "metadata": {},
   "source": [
    "Now we want to add the movie count. In this case, we can simply assign it like this:"
   ]
  },
  {
   "cell_type": "code",
<<<<<<< HEAD
   "execution_count": 102,
=======
   "execution_count": null,
>>>>>>> 9aea48216e5eb3b61c027f3974dbeec176697c16
   "metadata": {},
   "outputs": [],
   "source": [
    "annual_data[\"Count\"] = counts"
   ]
  },
  {
   "cell_type": "code",
<<<<<<< HEAD
   "execution_count": 103,
   "metadata": {},
   "outputs": [
    {
     "data": {
      "text/html": [
       "<div>\n",
       "<style scoped>\n",
       "    .dataframe tbody tr th:only-of-type {\n",
       "        vertical-align: middle;\n",
       "    }\n",
       "\n",
       "    .dataframe tbody tr th {\n",
       "        vertical-align: top;\n",
       "    }\n",
       "\n",
       "    .dataframe thead th {\n",
       "        text-align: right;\n",
       "    }\n",
       "</style>\n",
       "<table border=\"1\" class=\"dataframe\">\n",
       "  <thead>\n",
       "    <tr style=\"text-align: right;\">\n",
       "      <th></th>\n",
       "      <th>Mean_Budget</th>\n",
       "      <th>Mean_Profit</th>\n",
       "      <th>Count</th>\n",
       "    </tr>\n",
       "    <tr>\n",
       "      <th>Year</th>\n",
       "      <th></th>\n",
       "      <th></th>\n",
       "      <th></th>\n",
       "    </tr>\n",
       "  </thead>\n",
       "  <tbody>\n",
       "    <tr>\n",
       "      <th>1915</th>\n",
       "      <td>110000.0</td>\n",
       "      <td>10890000.0</td>\n",
       "      <td>1</td>\n",
       "    </tr>\n",
       "    <tr>\n",
       "      <th>1916</th>\n",
       "      <td>292953.5</td>\n",
       "      <td>3707046.5</td>\n",
       "      <td>2</td>\n",
       "    </tr>\n",
       "    <tr>\n",
       "      <th>1920</th>\n",
       "      <td>100000.0</td>\n",
       "      <td>2900000.0</td>\n",
       "      <td>1</td>\n",
       "    </tr>\n",
       "    <tr>\n",
       "      <th>1925</th>\n",
       "      <td>2072500.0</td>\n",
       "      <td>13427500.0</td>\n",
       "      <td>2</td>\n",
       "    </tr>\n",
       "    <tr>\n",
       "      <th>1927</th>\n",
       "      <td>2000000.0</td>\n",
       "      <td>-2000000.0</td>\n",
       "      <td>1</td>\n",
       "    </tr>\n",
       "  </tbody>\n",
       "</table>\n",
       "</div>"
      ],
      "text/plain": [
       "      Mean_Budget  Mean_Profit  Count\n",
       "Year                                 \n",
       "1915     110000.0   10890000.0      1\n",
       "1916     292953.5    3707046.5      2\n",
       "1920     100000.0    2900000.0      1\n",
       "1925    2072500.0   13427500.0      2\n",
       "1927    2000000.0   -2000000.0      1"
      ]
     },
     "execution_count": 103,
     "metadata": {},
     "output_type": "execute_result"
    }
   ],
=======
   "execution_count": null,
   "metadata": {},
   "outputs": [],
>>>>>>> 9aea48216e5eb3b61c027f3974dbeec176697c16
   "source": [
    "annual_data.head()"
   ]
  },
  {
   "cell_type": "code",
<<<<<<< HEAD
   "execution_count": 104,
   "metadata": {},
   "outputs": [
    {
     "data": {
      "text/html": [
       "<div>\n",
       "<style scoped>\n",
       "    .dataframe tbody tr th:only-of-type {\n",
       "        vertical-align: middle;\n",
       "    }\n",
       "\n",
       "    .dataframe tbody tr th {\n",
       "        vertical-align: top;\n",
       "    }\n",
       "\n",
       "    .dataframe thead th {\n",
       "        text-align: right;\n",
       "    }\n",
       "</style>\n",
       "<table border=\"1\" class=\"dataframe\">\n",
       "  <thead>\n",
       "    <tr style=\"text-align: right;\">\n",
       "      <th></th>\n",
       "      <th>Mean_Budget</th>\n",
       "      <th>Mean_Profit</th>\n",
       "      <th>Count</th>\n",
       "    </tr>\n",
       "    <tr>\n",
       "      <th>Year</th>\n",
       "      <th></th>\n",
       "      <th></th>\n",
       "      <th></th>\n",
       "    </tr>\n",
       "  </thead>\n",
       "  <tbody>\n",
       "    <tr>\n",
       "      <th>2009</th>\n",
       "      <td>4.297465e+07</td>\n",
       "      <td>8.318954e+07</td>\n",
       "      <td>172</td>\n",
       "    </tr>\n",
       "    <tr>\n",
       "      <th>2010</th>\n",
       "      <td>3.971040e+07</td>\n",
       "      <td>6.317584e+07</td>\n",
       "      <td>212</td>\n",
       "    </tr>\n",
       "    <tr>\n",
       "      <th>2011</th>\n",
       "      <td>4.327040e+07</td>\n",
       "      <td>8.009526e+07</td>\n",
       "      <td>154</td>\n",
       "    </tr>\n",
       "    <tr>\n",
       "      <th>2012</th>\n",
       "      <td>7.505030e+07</td>\n",
       "      <td>-1.076518e+07</td>\n",
       "      <td>30</td>\n",
       "    </tr>\n",
       "    <tr>\n",
       "      <th>2013</th>\n",
       "      <td>2.700000e+08</td>\n",
       "      <td>-2.700000e+08</td>\n",
       "      <td>1</td>\n",
       "    </tr>\n",
       "  </tbody>\n",
       "</table>\n",
       "</div>"
      ],
      "text/plain": [
       "       Mean_Budget   Mean_Profit  Count\n",
       "Year                                   \n",
       "2009  4.297465e+07  8.318954e+07    172\n",
       "2010  3.971040e+07  6.317584e+07    212\n",
       "2011  4.327040e+07  8.009526e+07    154\n",
       "2012  7.505030e+07 -1.076518e+07     30\n",
       "2013  2.700000e+08 -2.700000e+08      1"
      ]
     },
     "execution_count": 104,
     "metadata": {},
     "output_type": "execute_result"
    }
   ],
=======
   "execution_count": null,
   "metadata": {},
   "outputs": [],
>>>>>>> 9aea48216e5eb3b61c027f3974dbeec176697c16
   "source": [
    "annual_data.tail()"
   ]
  },
  {
   "cell_type": "markdown",
   "metadata": {},
   "source": [
    "Since *counts* and *annual_data* have overlapping index values, pandas automatically knows how to merge them."
   ]
  },
  {
   "cell_type": "markdown",
   "metadata": {},
   "source": [
    "Next, let's load an additional dataset to merge in.  We'll load a simple time series with annual unemployment rates. After loading the dataset above, this is a piece of cake:"
   ]
  },
  {
   "cell_type": "code",
<<<<<<< HEAD
   "execution_count": 105,
=======
   "execution_count": null,
>>>>>>> 9aea48216e5eb3b61c027f3974dbeec176697c16
   "metadata": {},
   "outputs": [],
   "source": [
    "unemp = pd.read_csv(\"Unemployment.csv\")"
   ]
  },
  {
   "cell_type": "code",
<<<<<<< HEAD
   "execution_count": 106,
   "metadata": {},
   "outputs": [
    {
     "data": {
      "text/html": [
       "<div>\n",
       "<style scoped>\n",
       "    .dataframe tbody tr th:only-of-type {\n",
       "        vertical-align: middle;\n",
       "    }\n",
       "\n",
       "    .dataframe tbody tr th {\n",
       "        vertical-align: top;\n",
       "    }\n",
       "\n",
       "    .dataframe thead th {\n",
       "        text-align: right;\n",
       "    }\n",
       "</style>\n",
       "<table border=\"1\" class=\"dataframe\">\n",
       "  <thead>\n",
       "    <tr style=\"text-align: right;\">\n",
       "      <th></th>\n",
       "      <th>Year</th>\n",
       "      <th>Unemployment</th>\n",
       "    </tr>\n",
       "  </thead>\n",
       "  <tbody>\n",
       "    <tr>\n",
       "      <th>0</th>\n",
       "      <td>1948</td>\n",
       "      <td>3.8</td>\n",
       "    </tr>\n",
       "    <tr>\n",
       "      <th>1</th>\n",
       "      <td>1949</td>\n",
       "      <td>6.1</td>\n",
       "    </tr>\n",
       "    <tr>\n",
       "      <th>2</th>\n",
       "      <td>1950</td>\n",
       "      <td>5.2</td>\n",
       "    </tr>\n",
       "    <tr>\n",
       "      <th>3</th>\n",
       "      <td>1951</td>\n",
       "      <td>3.3</td>\n",
       "    </tr>\n",
       "    <tr>\n",
       "      <th>4</th>\n",
       "      <td>1952</td>\n",
       "      <td>3.0</td>\n",
       "    </tr>\n",
       "    <tr>\n",
       "      <th>5</th>\n",
       "      <td>1953</td>\n",
       "      <td>2.9</td>\n",
       "    </tr>\n",
       "    <tr>\n",
       "      <th>6</th>\n",
       "      <td>1954</td>\n",
       "      <td>5.6</td>\n",
       "    </tr>\n",
       "    <tr>\n",
       "      <th>7</th>\n",
       "      <td>1955</td>\n",
       "      <td>4.4</td>\n",
       "    </tr>\n",
       "    <tr>\n",
       "      <th>8</th>\n",
       "      <td>1956</td>\n",
       "      <td>4.1</td>\n",
       "    </tr>\n",
       "    <tr>\n",
       "      <th>9</th>\n",
       "      <td>1957</td>\n",
       "      <td>4.3</td>\n",
       "    </tr>\n",
       "    <tr>\n",
       "      <th>10</th>\n",
       "      <td>1958</td>\n",
       "      <td>6.8</td>\n",
       "    </tr>\n",
       "    <tr>\n",
       "      <th>11</th>\n",
       "      <td>1959</td>\n",
       "      <td>5.5</td>\n",
       "    </tr>\n",
       "    <tr>\n",
       "      <th>12</th>\n",
       "      <td>1960</td>\n",
       "      <td>5.5</td>\n",
       "    </tr>\n",
       "    <tr>\n",
       "      <th>13</th>\n",
       "      <td>1961</td>\n",
       "      <td>6.7</td>\n",
       "    </tr>\n",
       "    <tr>\n",
       "      <th>14</th>\n",
       "      <td>1962</td>\n",
       "      <td>5.6</td>\n",
       "    </tr>\n",
       "    <tr>\n",
       "      <th>15</th>\n",
       "      <td>1963</td>\n",
       "      <td>5.6</td>\n",
       "    </tr>\n",
       "    <tr>\n",
       "      <th>16</th>\n",
       "      <td>1964</td>\n",
       "      <td>5.2</td>\n",
       "    </tr>\n",
       "    <tr>\n",
       "      <th>17</th>\n",
       "      <td>1965</td>\n",
       "      <td>4.5</td>\n",
       "    </tr>\n",
       "    <tr>\n",
       "      <th>18</th>\n",
       "      <td>1966</td>\n",
       "      <td>3.8</td>\n",
       "    </tr>\n",
       "    <tr>\n",
       "      <th>19</th>\n",
       "      <td>1967</td>\n",
       "      <td>3.8</td>\n",
       "    </tr>\n",
       "    <tr>\n",
       "      <th>20</th>\n",
       "      <td>1968</td>\n",
       "      <td>3.6</td>\n",
       "    </tr>\n",
       "    <tr>\n",
       "      <th>21</th>\n",
       "      <td>1969</td>\n",
       "      <td>3.5</td>\n",
       "    </tr>\n",
       "    <tr>\n",
       "      <th>22</th>\n",
       "      <td>1970</td>\n",
       "      <td>5.0</td>\n",
       "    </tr>\n",
       "    <tr>\n",
       "      <th>23</th>\n",
       "      <td>1971</td>\n",
       "      <td>6.0</td>\n",
       "    </tr>\n",
       "    <tr>\n",
       "      <th>24</th>\n",
       "      <td>1972</td>\n",
       "      <td>5.6</td>\n",
       "    </tr>\n",
       "    <tr>\n",
       "      <th>25</th>\n",
       "      <td>1973</td>\n",
       "      <td>4.9</td>\n",
       "    </tr>\n",
       "    <tr>\n",
       "      <th>26</th>\n",
       "      <td>1974</td>\n",
       "      <td>5.6</td>\n",
       "    </tr>\n",
       "    <tr>\n",
       "      <th>27</th>\n",
       "      <td>1975</td>\n",
       "      <td>8.5</td>\n",
       "    </tr>\n",
       "    <tr>\n",
       "      <th>28</th>\n",
       "      <td>1976</td>\n",
       "      <td>7.7</td>\n",
       "    </tr>\n",
       "    <tr>\n",
       "      <th>29</th>\n",
       "      <td>1977</td>\n",
       "      <td>7.1</td>\n",
       "    </tr>\n",
       "    <tr>\n",
       "      <th>...</th>\n",
       "      <td>...</td>\n",
       "      <td>...</td>\n",
       "    </tr>\n",
       "    <tr>\n",
       "      <th>35</th>\n",
       "      <td>1983</td>\n",
       "      <td>9.6</td>\n",
       "    </tr>\n",
       "    <tr>\n",
       "      <th>36</th>\n",
       "      <td>1984</td>\n",
       "      <td>7.5</td>\n",
       "    </tr>\n",
       "    <tr>\n",
       "      <th>37</th>\n",
       "      <td>1985</td>\n",
       "      <td>7.2</td>\n",
       "    </tr>\n",
       "    <tr>\n",
       "      <th>38</th>\n",
       "      <td>1986</td>\n",
       "      <td>7.0</td>\n",
       "    </tr>\n",
       "    <tr>\n",
       "      <th>39</th>\n",
       "      <td>1987</td>\n",
       "      <td>6.2</td>\n",
       "    </tr>\n",
       "    <tr>\n",
       "      <th>40</th>\n",
       "      <td>1988</td>\n",
       "      <td>5.5</td>\n",
       "    </tr>\n",
       "    <tr>\n",
       "      <th>41</th>\n",
       "      <td>1989</td>\n",
       "      <td>5.3</td>\n",
       "    </tr>\n",
       "    <tr>\n",
       "      <th>42</th>\n",
       "      <td>1990</td>\n",
       "      <td>5.6</td>\n",
       "    </tr>\n",
       "    <tr>\n",
       "      <th>43</th>\n",
       "      <td>1991</td>\n",
       "      <td>6.9</td>\n",
       "    </tr>\n",
       "    <tr>\n",
       "      <th>44</th>\n",
       "      <td>1992</td>\n",
       "      <td>7.5</td>\n",
       "    </tr>\n",
       "    <tr>\n",
       "      <th>45</th>\n",
       "      <td>1993</td>\n",
       "      <td>6.9</td>\n",
       "    </tr>\n",
       "    <tr>\n",
       "      <th>46</th>\n",
       "      <td>1994</td>\n",
       "      <td>6.1</td>\n",
       "    </tr>\n",
       "    <tr>\n",
       "      <th>47</th>\n",
       "      <td>1995</td>\n",
       "      <td>5.6</td>\n",
       "    </tr>\n",
       "    <tr>\n",
       "      <th>48</th>\n",
       "      <td>1996</td>\n",
       "      <td>5.4</td>\n",
       "    </tr>\n",
       "    <tr>\n",
       "      <th>49</th>\n",
       "      <td>1997</td>\n",
       "      <td>4.9</td>\n",
       "    </tr>\n",
       "    <tr>\n",
       "      <th>50</th>\n",
       "      <td>1998</td>\n",
       "      <td>4.5</td>\n",
       "    </tr>\n",
       "    <tr>\n",
       "      <th>51</th>\n",
       "      <td>1999</td>\n",
       "      <td>4.2</td>\n",
       "    </tr>\n",
       "    <tr>\n",
       "      <th>52</th>\n",
       "      <td>2000</td>\n",
       "      <td>4.0</td>\n",
       "    </tr>\n",
       "    <tr>\n",
       "      <th>53</th>\n",
       "      <td>2001</td>\n",
       "      <td>4.7</td>\n",
       "    </tr>\n",
       "    <tr>\n",
       "      <th>54</th>\n",
       "      <td>2002</td>\n",
       "      <td>5.8</td>\n",
       "    </tr>\n",
       "    <tr>\n",
       "      <th>55</th>\n",
       "      <td>2003</td>\n",
       "      <td>6.0</td>\n",
       "    </tr>\n",
       "    <tr>\n",
       "      <th>56</th>\n",
       "      <td>2004</td>\n",
       "      <td>5.5</td>\n",
       "    </tr>\n",
       "    <tr>\n",
       "      <th>57</th>\n",
       "      <td>2005</td>\n",
       "      <td>5.1</td>\n",
       "    </tr>\n",
       "    <tr>\n",
       "      <th>58</th>\n",
       "      <td>2006</td>\n",
       "      <td>4.6</td>\n",
       "    </tr>\n",
       "    <tr>\n",
       "      <th>59</th>\n",
       "      <td>2007</td>\n",
       "      <td>4.6</td>\n",
       "    </tr>\n",
       "    <tr>\n",
       "      <th>60</th>\n",
       "      <td>2008</td>\n",
       "      <td>5.8</td>\n",
       "    </tr>\n",
       "    <tr>\n",
       "      <th>61</th>\n",
       "      <td>2009</td>\n",
       "      <td>9.3</td>\n",
       "    </tr>\n",
       "    <tr>\n",
       "      <th>62</th>\n",
       "      <td>2010</td>\n",
       "      <td>9.6</td>\n",
       "    </tr>\n",
       "    <tr>\n",
       "      <th>63</th>\n",
       "      <td>2011</td>\n",
       "      <td>8.9</td>\n",
       "    </tr>\n",
       "    <tr>\n",
       "      <th>64</th>\n",
       "      <td>2012</td>\n",
       "      <td>8.1</td>\n",
       "    </tr>\n",
       "  </tbody>\n",
       "</table>\n",
       "<p>65 rows × 2 columns</p>\n",
       "</div>"
      ],
      "text/plain": [
       "    Year  Unemployment\n",
       "0   1948           3.8\n",
       "1   1949           6.1\n",
       "2   1950           5.2\n",
       "3   1951           3.3\n",
       "4   1952           3.0\n",
       "5   1953           2.9\n",
       "6   1954           5.6\n",
       "7   1955           4.4\n",
       "8   1956           4.1\n",
       "9   1957           4.3\n",
       "10  1958           6.8\n",
       "11  1959           5.5\n",
       "12  1960           5.5\n",
       "13  1961           6.7\n",
       "14  1962           5.6\n",
       "15  1963           5.6\n",
       "16  1964           5.2\n",
       "17  1965           4.5\n",
       "18  1966           3.8\n",
       "19  1967           3.8\n",
       "20  1968           3.6\n",
       "21  1969           3.5\n",
       "22  1970           5.0\n",
       "23  1971           6.0\n",
       "24  1972           5.6\n",
       "25  1973           4.9\n",
       "26  1974           5.6\n",
       "27  1975           8.5\n",
       "28  1976           7.7\n",
       "29  1977           7.1\n",
       "..   ...           ...\n",
       "35  1983           9.6\n",
       "36  1984           7.5\n",
       "37  1985           7.2\n",
       "38  1986           7.0\n",
       "39  1987           6.2\n",
       "40  1988           5.5\n",
       "41  1989           5.3\n",
       "42  1990           5.6\n",
       "43  1991           6.9\n",
       "44  1992           7.5\n",
       "45  1993           6.9\n",
       "46  1994           6.1\n",
       "47  1995           5.6\n",
       "48  1996           5.4\n",
       "49  1997           4.9\n",
       "50  1998           4.5\n",
       "51  1999           4.2\n",
       "52  2000           4.0\n",
       "53  2001           4.7\n",
       "54  2002           5.8\n",
       "55  2003           6.0\n",
       "56  2004           5.5\n",
       "57  2005           5.1\n",
       "58  2006           4.6\n",
       "59  2007           4.6\n",
       "60  2008           5.8\n",
       "61  2009           9.3\n",
       "62  2010           9.6\n",
       "63  2011           8.9\n",
       "64  2012           8.1\n",
       "\n",
       "[65 rows x 2 columns]"
      ]
     },
     "execution_count": 106,
     "metadata": {},
     "output_type": "execute_result"
    }
   ],
=======
   "execution_count": null,
   "metadata": {},
   "outputs": [],
>>>>>>> 9aea48216e5eb3b61c027f3974dbeec176697c16
   "source": [
    "unemp"
   ]
  },
  {
   "cell_type": "code",
   "execution_count": 107,
   "metadata": {},
   "outputs": [
    {
     "data": {
      "text/plain": [
       "Year              int64\n",
       "Unemployment    float64\n",
       "dtype: object"
      ]
     },
     "execution_count": 107,
     "metadata": {},
     "output_type": "execute_result"
    }
   ],
   "source": [
    "unemp.dtypes"
   ]
  },
  {
   "cell_type": "code",
   "execution_count": 108,
   "metadata": {},
   "outputs": [
    {
     "name": "stdout",
     "output_type": "stream",
     "text": [
      "1948\n",
      "2012\n"
     ]
    }
   ],
   "source": [
    "print(unemp.Year.min())\n",
    "print(unemp.Year.max())"
   ]
  },
  {
   "cell_type": "markdown",
   "metadata": {},
   "source": [
    "It's been loaded as a DataFrame, with two columns: Year and Unemployment. Note that Year isn't an index, just a regular column. Our goal now is to bring the *Unemployment* column into the *annual_data* frame:"
   ]
  },
  {
   "cell_type": "code",
   "execution_count": 109,
   "metadata": {},
   "outputs": [],
   "source": [
    "data_merged = annual_data.merge(unemp, how='left', left_index=True, right_on=\"Year\")"
   ]
  },
  {
   "cell_type": "code",
   "execution_count": 110,
   "metadata": {},
   "outputs": [
    {
     "data": {
      "text/html": [
       "<div>\n",
       "<style scoped>\n",
       "    .dataframe tbody tr th:only-of-type {\n",
       "        vertical-align: middle;\n",
       "    }\n",
       "\n",
       "    .dataframe tbody tr th {\n",
       "        vertical-align: top;\n",
       "    }\n",
       "\n",
       "    .dataframe thead th {\n",
       "        text-align: right;\n",
       "    }\n",
       "</style>\n",
       "<table border=\"1\" class=\"dataframe\">\n",
       "  <thead>\n",
       "    <tr style=\"text-align: right;\">\n",
       "      <th></th>\n",
       "      <th>Mean_Budget</th>\n",
       "      <th>Mean_Profit</th>\n",
       "      <th>Count</th>\n",
       "      <th>Year</th>\n",
       "      <th>Unemployment</th>\n",
       "    </tr>\n",
       "  </thead>\n",
       "  <tbody>\n",
       "    <tr>\n",
       "      <th>64</th>\n",
       "      <td>110000.0</td>\n",
       "      <td>10890000.0</td>\n",
       "      <td>1</td>\n",
       "      <td>1915</td>\n",
       "      <td>NaN</td>\n",
       "    </tr>\n",
       "    <tr>\n",
       "      <th>64</th>\n",
       "      <td>292953.5</td>\n",
       "      <td>3707046.5</td>\n",
       "      <td>2</td>\n",
       "      <td>1916</td>\n",
       "      <td>NaN</td>\n",
       "    </tr>\n",
       "    <tr>\n",
       "      <th>64</th>\n",
       "      <td>100000.0</td>\n",
       "      <td>2900000.0</td>\n",
       "      <td>1</td>\n",
       "      <td>1920</td>\n",
       "      <td>NaN</td>\n",
       "    </tr>\n",
       "    <tr>\n",
       "      <th>64</th>\n",
       "      <td>2072500.0</td>\n",
       "      <td>13427500.0</td>\n",
       "      <td>2</td>\n",
       "      <td>1925</td>\n",
       "      <td>NaN</td>\n",
       "    </tr>\n",
       "    <tr>\n",
       "      <th>64</th>\n",
       "      <td>2000000.0</td>\n",
       "      <td>-2000000.0</td>\n",
       "      <td>1</td>\n",
       "      <td>1927</td>\n",
       "      <td>NaN</td>\n",
       "    </tr>\n",
       "  </tbody>\n",
       "</table>\n",
       "</div>"
      ],
      "text/plain": [
       "    Mean_Budget  Mean_Profit  Count  Year  Unemployment\n",
       "64     110000.0   10890000.0      1  1915           NaN\n",
       "64     292953.5    3707046.5      2  1916           NaN\n",
       "64     100000.0    2900000.0      1  1920           NaN\n",
       "64    2072500.0   13427500.0      2  1925           NaN\n",
       "64    2000000.0   -2000000.0      1  1927           NaN"
      ]
     },
     "execution_count": 110,
     "metadata": {},
     "output_type": "execute_result"
    }
   ],
   "source": [
    "data_merged.head()"
   ]
  },
  {
   "cell_type": "code",
   "execution_count": 111,
   "metadata": {},
   "outputs": [
    {
     "data": {
      "text/html": [
       "<div>\n",
       "<style scoped>\n",
       "    .dataframe tbody tr th:only-of-type {\n",
       "        vertical-align: middle;\n",
       "    }\n",
       "\n",
       "    .dataframe tbody tr th {\n",
       "        vertical-align: top;\n",
       "    }\n",
       "\n",
       "    .dataframe thead th {\n",
       "        text-align: right;\n",
       "    }\n",
       "</style>\n",
       "<table border=\"1\" class=\"dataframe\">\n",
       "  <thead>\n",
       "    <tr style=\"text-align: right;\">\n",
       "      <th></th>\n",
       "      <th>Mean_Budget</th>\n",
       "      <th>Mean_Profit</th>\n",
       "      <th>Count</th>\n",
       "      <th>Year</th>\n",
       "      <th>Unemployment</th>\n",
       "    </tr>\n",
       "  </thead>\n",
       "  <tbody>\n",
       "    <tr>\n",
       "      <th>61</th>\n",
       "      <td>4.297465e+07</td>\n",
       "      <td>8.318954e+07</td>\n",
       "      <td>172</td>\n",
       "      <td>2009</td>\n",
       "      <td>9.3</td>\n",
       "    </tr>\n",
       "    <tr>\n",
       "      <th>62</th>\n",
       "      <td>3.971040e+07</td>\n",
       "      <td>6.317584e+07</td>\n",
       "      <td>212</td>\n",
       "      <td>2010</td>\n",
       "      <td>9.6</td>\n",
       "    </tr>\n",
       "    <tr>\n",
       "      <th>63</th>\n",
       "      <td>4.327040e+07</td>\n",
       "      <td>8.009526e+07</td>\n",
       "      <td>154</td>\n",
       "      <td>2011</td>\n",
       "      <td>8.9</td>\n",
       "    </tr>\n",
       "    <tr>\n",
       "      <th>64</th>\n",
       "      <td>7.505030e+07</td>\n",
       "      <td>-1.076518e+07</td>\n",
       "      <td>30</td>\n",
       "      <td>2012</td>\n",
       "      <td>8.1</td>\n",
       "    </tr>\n",
       "    <tr>\n",
       "      <th>64</th>\n",
       "      <td>2.700000e+08</td>\n",
       "      <td>-2.700000e+08</td>\n",
       "      <td>1</td>\n",
       "      <td>2013</td>\n",
       "      <td>NaN</td>\n",
       "    </tr>\n",
       "  </tbody>\n",
       "</table>\n",
       "</div>"
      ],
      "text/plain": [
       "     Mean_Budget   Mean_Profit  Count  Year  Unemployment\n",
       "61  4.297465e+07  8.318954e+07    172  2009           9.3\n",
       "62  3.971040e+07  6.317584e+07    212  2010           9.6\n",
       "63  4.327040e+07  8.009526e+07    154  2011           8.9\n",
       "64  7.505030e+07 -1.076518e+07     30  2012           8.1\n",
       "64  2.700000e+08 -2.700000e+08      1  2013           NaN"
      ]
     },
     "execution_count": 111,
     "metadata": {},
     "output_type": "execute_result"
    }
   ],
   "source": [
    "data_merged.tail()"
   ]
  },
  {
   "cell_type": "markdown",
   "metadata": {},
   "source": [
    "Let's take a closer look at what happened here. The *merge(...)* method of a DataFrame is used to merge that DataFrame (known by convention as the left-hand DataFrame) with another one (the right-hand DataFrame), provided as the first argument. DataFrames are merged by finding rows that match on some criteria, and combining them. We provide the criteria in in the *left_* or *right_* *index=* or  *on=* arguments. In the example above, we're saying to merge rows where the left-hand index matches right-hand *Year* column. \n",
    "\n",
    "The *how=* argument is the type of join to use, a concept you may be familiar with from SQL. There are three types of joins:\n",
    "\n",
    "* *left-join* means keep all the rows from the left-hand dataset, and merge in any matching right-hand rows.\n",
    "* *right-join* means keep all the rows from the right-hand dataset, and merge in any matching left-hand rows.\n",
    "* *inner-join* means keep and merge only rows where there's a match between the left- and right-hand datasets.\n",
    "\n",
    "In this case, the indices on the right-hand dataset are a subset of the left-hand indices, so a right and an inner join are equivalent. Let's quickly see what those results would look like:"
   ]
  },
  {
   "cell_type": "code",
   "execution_count": 112,
   "metadata": {},
   "outputs": [],
   "source": [
    "temp = annual_data.merge(unemp, how='right', left_index=True, right_on=\"Year\")"
   ]
  },
  {
   "cell_type": "code",
   "execution_count": 113,
   "metadata": {},
   "outputs": [
    {
     "data": {
      "text/html": [
       "<div>\n",
       "<style scoped>\n",
       "    .dataframe tbody tr th:only-of-type {\n",
       "        vertical-align: middle;\n",
       "    }\n",
       "\n",
       "    .dataframe tbody tr th {\n",
       "        vertical-align: top;\n",
       "    }\n",
       "\n",
       "    .dataframe thead th {\n",
       "        text-align: right;\n",
       "    }\n",
       "</style>\n",
       "<table border=\"1\" class=\"dataframe\">\n",
       "  <thead>\n",
       "    <tr style=\"text-align: right;\">\n",
       "      <th></th>\n",
       "      <th>Mean_Budget</th>\n",
       "      <th>Mean_Profit</th>\n",
       "      <th>Count</th>\n",
       "      <th>Year</th>\n",
       "      <th>Unemployment</th>\n",
       "    </tr>\n",
       "  </thead>\n",
       "  <tbody>\n",
       "    <tr>\n",
       "      <th>0</th>\n",
       "      <td>3.350000e+06</td>\n",
       "      <td>2.634000e+06</td>\n",
       "      <td>2</td>\n",
       "      <td>1948</td>\n",
       "      <td>3.8</td>\n",
       "    </tr>\n",
       "    <tr>\n",
       "      <th>1</th>\n",
       "      <td>1.300000e+06</td>\n",
       "      <td>5.300000e+06</td>\n",
       "      <td>2</td>\n",
       "      <td>1949</td>\n",
       "      <td>6.1</td>\n",
       "    </tr>\n",
       "    <tr>\n",
       "      <th>2</th>\n",
       "      <td>3.334392e+06</td>\n",
       "      <td>4.316561e+07</td>\n",
       "      <td>2</td>\n",
       "      <td>1950</td>\n",
       "      <td>5.2</td>\n",
       "    </tr>\n",
       "    <tr>\n",
       "      <th>3</th>\n",
       "      <td>2.958333e+06</td>\n",
       "      <td>6.991667e+06</td>\n",
       "      <td>6</td>\n",
       "      <td>1951</td>\n",
       "      <td>3.3</td>\n",
       "    </tr>\n",
       "    <tr>\n",
       "      <th>4</th>\n",
       "      <td>2.423333e+06</td>\n",
       "      <td>1.464333e+07</td>\n",
       "      <td>3</td>\n",
       "      <td>1952</td>\n",
       "      <td>3.0</td>\n",
       "    </tr>\n",
       "  </tbody>\n",
       "</table>\n",
       "</div>"
      ],
      "text/plain": [
       "    Mean_Budget   Mean_Profit  Count  Year  Unemployment\n",
       "0  3.350000e+06  2.634000e+06      2  1948           3.8\n",
       "1  1.300000e+06  5.300000e+06      2  1949           6.1\n",
       "2  3.334392e+06  4.316561e+07      2  1950           5.2\n",
       "3  2.958333e+06  6.991667e+06      6  1951           3.3\n",
       "4  2.423333e+06  1.464333e+07      3  1952           3.0"
      ]
     },
     "execution_count": 113,
     "metadata": {},
     "output_type": "execute_result"
    }
   ],
   "source": [
    "temp.head()"
   ]
  },
  {
   "cell_type": "code",
   "execution_count": 114,
   "metadata": {},
   "outputs": [
    {
     "data": {
      "text/html": [
       "<div>\n",
       "<style scoped>\n",
       "    .dataframe tbody tr th:only-of-type {\n",
       "        vertical-align: middle;\n",
       "    }\n",
       "\n",
       "    .dataframe tbody tr th {\n",
       "        vertical-align: top;\n",
       "    }\n",
       "\n",
       "    .dataframe thead th {\n",
       "        text-align: right;\n",
       "    }\n",
       "</style>\n",
       "<table border=\"1\" class=\"dataframe\">\n",
       "  <thead>\n",
       "    <tr style=\"text-align: right;\">\n",
       "      <th></th>\n",
       "      <th>Mean_Budget</th>\n",
       "      <th>Mean_Profit</th>\n",
       "      <th>Count</th>\n",
       "      <th>Year</th>\n",
       "      <th>Unemployment</th>\n",
       "    </tr>\n",
       "  </thead>\n",
       "  <tbody>\n",
       "    <tr>\n",
       "      <th>60</th>\n",
       "      <td>3.895684e+07</td>\n",
       "      <td>6.185647e+07</td>\n",
       "      <td>177</td>\n",
       "      <td>2008</td>\n",
       "      <td>5.8</td>\n",
       "    </tr>\n",
       "    <tr>\n",
       "      <th>61</th>\n",
       "      <td>4.297465e+07</td>\n",
       "      <td>8.318954e+07</td>\n",
       "      <td>172</td>\n",
       "      <td>2009</td>\n",
       "      <td>9.3</td>\n",
       "    </tr>\n",
       "    <tr>\n",
       "      <th>62</th>\n",
       "      <td>3.971040e+07</td>\n",
       "      <td>6.317584e+07</td>\n",
       "      <td>212</td>\n",
       "      <td>2010</td>\n",
       "      <td>9.6</td>\n",
       "    </tr>\n",
       "    <tr>\n",
       "      <th>63</th>\n",
       "      <td>4.327040e+07</td>\n",
       "      <td>8.009526e+07</td>\n",
       "      <td>154</td>\n",
       "      <td>2011</td>\n",
       "      <td>8.9</td>\n",
       "    </tr>\n",
       "    <tr>\n",
       "      <th>64</th>\n",
       "      <td>7.505030e+07</td>\n",
       "      <td>-1.076518e+07</td>\n",
       "      <td>30</td>\n",
       "      <td>2012</td>\n",
       "      <td>8.1</td>\n",
       "    </tr>\n",
       "  </tbody>\n",
       "</table>\n",
       "</div>"
      ],
      "text/plain": [
       "     Mean_Budget   Mean_Profit  Count  Year  Unemployment\n",
       "60  3.895684e+07  6.185647e+07    177  2008           5.8\n",
       "61  4.297465e+07  8.318954e+07    172  2009           9.3\n",
       "62  3.971040e+07  6.317584e+07    212  2010           9.6\n",
       "63  4.327040e+07  8.009526e+07    154  2011           8.9\n",
       "64  7.505030e+07 -1.076518e+07     30  2012           8.1"
      ]
     },
     "execution_count": 114,
     "metadata": {},
     "output_type": "execute_result"
    }
   ],
   "source": [
    "temp.tail()"
   ]
  },
  {
   "cell_type": "markdown",
   "metadata": {},
   "source": [
    "Notice that the *merge(...)* method returns a new DataFrame, without modifying the original DataFrame. Notice also that the resulting DataFrame has a different index; whereas previously the left-hand DataFrame was indexed on Year, the merged DataFrame has a simple row-count index, with Year now an ordinary column.\n",
    "\n",
    "If we want to, we can set the *Year* column as the index, using the *set_index(...)* method:"
   ]
  },
  {
   "cell_type": "code",
   "execution_count": 115,
   "metadata": {},
   "outputs": [],
   "source": [
    "data_merged = data_merged.set_index(\"Year\")"
   ]
  },
  {
   "cell_type": "code",
   "execution_count": 116,
   "metadata": {},
   "outputs": [
    {
     "data": {
      "text/html": [
       "<div>\n",
       "<style scoped>\n",
       "    .dataframe tbody tr th:only-of-type {\n",
       "        vertical-align: middle;\n",
       "    }\n",
       "\n",
       "    .dataframe tbody tr th {\n",
       "        vertical-align: top;\n",
       "    }\n",
       "\n",
       "    .dataframe thead th {\n",
       "        text-align: right;\n",
       "    }\n",
       "</style>\n",
       "<table border=\"1\" class=\"dataframe\">\n",
       "  <thead>\n",
       "    <tr style=\"text-align: right;\">\n",
       "      <th></th>\n",
       "      <th>Mean_Budget</th>\n",
       "      <th>Mean_Profit</th>\n",
       "      <th>Count</th>\n",
       "      <th>Unemployment</th>\n",
       "    </tr>\n",
       "    <tr>\n",
       "      <th>Year</th>\n",
       "      <th></th>\n",
       "      <th></th>\n",
       "      <th></th>\n",
       "      <th></th>\n",
       "    </tr>\n",
       "  </thead>\n",
       "  <tbody>\n",
       "    <tr>\n",
       "      <th>1915</th>\n",
       "      <td>110000.0</td>\n",
       "      <td>10890000.0</td>\n",
       "      <td>1</td>\n",
       "      <td>NaN</td>\n",
       "    </tr>\n",
       "    <tr>\n",
       "      <th>1916</th>\n",
       "      <td>292953.5</td>\n",
       "      <td>3707046.5</td>\n",
       "      <td>2</td>\n",
       "      <td>NaN</td>\n",
       "    </tr>\n",
       "    <tr>\n",
       "      <th>1920</th>\n",
       "      <td>100000.0</td>\n",
       "      <td>2900000.0</td>\n",
       "      <td>1</td>\n",
       "      <td>NaN</td>\n",
       "    </tr>\n",
       "    <tr>\n",
       "      <th>1925</th>\n",
       "      <td>2072500.0</td>\n",
       "      <td>13427500.0</td>\n",
       "      <td>2</td>\n",
       "      <td>NaN</td>\n",
       "    </tr>\n",
       "    <tr>\n",
       "      <th>1927</th>\n",
       "      <td>2000000.0</td>\n",
       "      <td>-2000000.0</td>\n",
       "      <td>1</td>\n",
       "      <td>NaN</td>\n",
       "    </tr>\n",
       "  </tbody>\n",
       "</table>\n",
       "</div>"
      ],
      "text/plain": [
       "      Mean_Budget  Mean_Profit  Count  Unemployment\n",
       "Year                                               \n",
       "1915     110000.0   10890000.0      1           NaN\n",
       "1916     292953.5    3707046.5      2           NaN\n",
       "1920     100000.0    2900000.0      1           NaN\n",
       "1925    2072500.0   13427500.0      2           NaN\n",
       "1927    2000000.0   -2000000.0      1           NaN"
      ]
     },
     "execution_count": 116,
     "metadata": {},
     "output_type": "execute_result"
    }
   ],
   "source": [
    "data_merged.head()"
   ]
  },
  {
   "cell_type": "markdown",
   "metadata": {},
   "source": [
    "Notice that we're assigning the result of  *set_index(...)* to the *data_merged* DataFrame itself -- again, by default it returns a new DataFrame, without modifying the original one. With most methods, instead of assigning the new DataFrame to the old name, we can use the *inplace* argument, like this:"
   ]
  },
  {
   "cell_type": "code",
   "execution_count": 117,
   "metadata": {},
   "outputs": [],
   "source": [
    "# Reset the index, and make the old index \n",
    "data_merged.reset_index(inplace=True) "
   ]
  },
  {
   "cell_type": "code",
   "execution_count": 118,
   "metadata": {},
   "outputs": [
    {
     "data": {
      "text/html": [
       "<div>\n",
       "<style scoped>\n",
       "    .dataframe tbody tr th:only-of-type {\n",
       "        vertical-align: middle;\n",
       "    }\n",
       "\n",
       "    .dataframe tbody tr th {\n",
       "        vertical-align: top;\n",
       "    }\n",
       "\n",
       "    .dataframe thead th {\n",
       "        text-align: right;\n",
       "    }\n",
       "</style>\n",
       "<table border=\"1\" class=\"dataframe\">\n",
       "  <thead>\n",
       "    <tr style=\"text-align: right;\">\n",
       "      <th></th>\n",
       "      <th>Year</th>\n",
       "      <th>Mean_Budget</th>\n",
       "      <th>Mean_Profit</th>\n",
       "      <th>Count</th>\n",
       "      <th>Unemployment</th>\n",
       "    </tr>\n",
       "  </thead>\n",
       "  <tbody>\n",
       "    <tr>\n",
       "      <th>0</th>\n",
       "      <td>1915</td>\n",
       "      <td>110000.0</td>\n",
       "      <td>10890000.0</td>\n",
       "      <td>1</td>\n",
       "      <td>NaN</td>\n",
       "    </tr>\n",
       "    <tr>\n",
       "      <th>1</th>\n",
       "      <td>1916</td>\n",
       "      <td>292953.5</td>\n",
       "      <td>3707046.5</td>\n",
       "      <td>2</td>\n",
       "      <td>NaN</td>\n",
       "    </tr>\n",
       "    <tr>\n",
       "      <th>2</th>\n",
       "      <td>1920</td>\n",
       "      <td>100000.0</td>\n",
       "      <td>2900000.0</td>\n",
       "      <td>1</td>\n",
       "      <td>NaN</td>\n",
       "    </tr>\n",
       "    <tr>\n",
       "      <th>3</th>\n",
       "      <td>1925</td>\n",
       "      <td>2072500.0</td>\n",
       "      <td>13427500.0</td>\n",
       "      <td>2</td>\n",
       "      <td>NaN</td>\n",
       "    </tr>\n",
       "    <tr>\n",
       "      <th>4</th>\n",
       "      <td>1927</td>\n",
       "      <td>2000000.0</td>\n",
       "      <td>-2000000.0</td>\n",
       "      <td>1</td>\n",
       "      <td>NaN</td>\n",
       "    </tr>\n",
       "  </tbody>\n",
       "</table>\n",
       "</div>"
      ],
      "text/plain": [
       "   Year  Mean_Budget  Mean_Profit  Count  Unemployment\n",
       "0  1915     110000.0   10890000.0      1           NaN\n",
       "1  1916     292953.5    3707046.5      2           NaN\n",
       "2  1920     100000.0    2900000.0      1           NaN\n",
       "3  1925    2072500.0   13427500.0      2           NaN\n",
       "4  1927    2000000.0   -2000000.0      1           NaN"
      ]
     },
     "execution_count": 118,
     "metadata": {},
     "output_type": "execute_result"
    }
   ],
   "source": [
    "data_merged.head()"
   ]
  },
  {
   "cell_type": "code",
   "execution_count": 119,
   "metadata": {},
   "outputs": [],
   "source": [
    "data_merged.set_index(\"Year\", inplace=True)"
   ]
  },
  {
   "cell_type": "code",
   "execution_count": 120,
   "metadata": {},
   "outputs": [
    {
     "data": {
      "text/html": [
       "<div>\n",
       "<style scoped>\n",
       "    .dataframe tbody tr th:only-of-type {\n",
       "        vertical-align: middle;\n",
       "    }\n",
       "\n",
       "    .dataframe tbody tr th {\n",
       "        vertical-align: top;\n",
       "    }\n",
       "\n",
       "    .dataframe thead th {\n",
       "        text-align: right;\n",
       "    }\n",
       "</style>\n",
       "<table border=\"1\" class=\"dataframe\">\n",
       "  <thead>\n",
       "    <tr style=\"text-align: right;\">\n",
       "      <th></th>\n",
       "      <th>Mean_Budget</th>\n",
       "      <th>Mean_Profit</th>\n",
       "      <th>Count</th>\n",
       "      <th>Unemployment</th>\n",
       "    </tr>\n",
       "    <tr>\n",
       "      <th>Year</th>\n",
       "      <th></th>\n",
       "      <th></th>\n",
       "      <th></th>\n",
       "      <th></th>\n",
       "    </tr>\n",
       "  </thead>\n",
       "  <tbody>\n",
       "    <tr>\n",
       "      <th>1915</th>\n",
       "      <td>110000.0</td>\n",
       "      <td>10890000.0</td>\n",
       "      <td>1</td>\n",
       "      <td>NaN</td>\n",
       "    </tr>\n",
       "    <tr>\n",
       "      <th>1916</th>\n",
       "      <td>292953.5</td>\n",
       "      <td>3707046.5</td>\n",
       "      <td>2</td>\n",
       "      <td>NaN</td>\n",
       "    </tr>\n",
       "    <tr>\n",
       "      <th>1920</th>\n",
       "      <td>100000.0</td>\n",
       "      <td>2900000.0</td>\n",
       "      <td>1</td>\n",
       "      <td>NaN</td>\n",
       "    </tr>\n",
       "    <tr>\n",
       "      <th>1925</th>\n",
       "      <td>2072500.0</td>\n",
       "      <td>13427500.0</td>\n",
       "      <td>2</td>\n",
       "      <td>NaN</td>\n",
       "    </tr>\n",
       "    <tr>\n",
       "      <th>1927</th>\n",
       "      <td>2000000.0</td>\n",
       "      <td>-2000000.0</td>\n",
       "      <td>1</td>\n",
       "      <td>NaN</td>\n",
       "    </tr>\n",
       "  </tbody>\n",
       "</table>\n",
       "</div>"
      ],
      "text/plain": [
       "      Mean_Budget  Mean_Profit  Count  Unemployment\n",
       "Year                                               \n",
       "1915     110000.0   10890000.0      1           NaN\n",
       "1916     292953.5    3707046.5      2           NaN\n",
       "1920     100000.0    2900000.0      1           NaN\n",
       "1925    2072500.0   13427500.0      2           NaN\n",
       "1927    2000000.0   -2000000.0      1           NaN"
      ]
     },
     "execution_count": 120,
     "metadata": {},
     "output_type": "execute_result"
    }
   ],
   "source": [
    "data_merged.head()"
   ]
  },
  {
   "cell_type": "markdown",
   "metadata": {},
   "source": [
    "Now that we have our data together, we could see whether there are any annual correlations in our data:"
   ]
  },
  {
   "cell_type": "code",
   "execution_count": 121,
   "metadata": {},
   "outputs": [
    {
     "data": {
      "text/html": [
       "<div>\n",
       "<style scoped>\n",
       "    .dataframe tbody tr th:only-of-type {\n",
       "        vertical-align: middle;\n",
       "    }\n",
       "\n",
       "    .dataframe tbody tr th {\n",
       "        vertical-align: top;\n",
       "    }\n",
       "\n",
       "    .dataframe thead th {\n",
       "        text-align: right;\n",
       "    }\n",
       "</style>\n",
       "<table border=\"1\" class=\"dataframe\">\n",
       "  <thead>\n",
       "    <tr style=\"text-align: right;\">\n",
       "      <th></th>\n",
       "      <th>Mean_Budget</th>\n",
       "      <th>Mean_Profit</th>\n",
       "      <th>Count</th>\n",
       "      <th>Unemployment</th>\n",
       "    </tr>\n",
       "  </thead>\n",
       "  <tbody>\n",
       "    <tr>\n",
       "      <th>Mean_Budget</th>\n",
       "      <td>1.000000</td>\n",
       "      <td>-0.477040</td>\n",
       "      <td>0.308479</td>\n",
       "      <td>0.296792</td>\n",
       "    </tr>\n",
       "    <tr>\n",
       "      <th>Mean_Profit</th>\n",
       "      <td>-0.477040</td>\n",
       "      <td>1.000000</td>\n",
       "      <td>0.234795</td>\n",
       "      <td>0.384306</td>\n",
       "    </tr>\n",
       "    <tr>\n",
       "      <th>Count</th>\n",
       "      <td>0.308479</td>\n",
       "      <td>0.234795</td>\n",
       "      <td>1.000000</td>\n",
       "      <td>0.068876</td>\n",
       "    </tr>\n",
       "    <tr>\n",
       "      <th>Unemployment</th>\n",
       "      <td>0.296792</td>\n",
       "      <td>0.384306</td>\n",
       "      <td>0.068876</td>\n",
       "      <td>1.000000</td>\n",
       "    </tr>\n",
       "  </tbody>\n",
       "</table>\n",
       "</div>"
      ],
      "text/plain": [
       "              Mean_Budget  Mean_Profit     Count  Unemployment\n",
       "Mean_Budget      1.000000    -0.477040  0.308479      0.296792\n",
       "Mean_Profit     -0.477040     1.000000  0.234795      0.384306\n",
       "Count            0.308479     0.234795  1.000000      0.068876\n",
       "Unemployment     0.296792     0.384306  0.068876      1.000000"
      ]
     },
     "execution_count": 121,
     "metadata": {},
     "output_type": "execute_result"
    }
   ],
   "source": [
    "data_merged.corr()"
   ]
  },
  {
   "cell_type": "markdown",
   "metadata": {},
   "source": [
    "It looks like unemployment doesn't correlate at all with the number of movies released, but does correlate weakly with their average budget and profit."
   ]
  },
  {
   "cell_type": "code",
   "execution_count": null,
   "metadata": {},
   "outputs": [],
   "source": []
  }
 ],
 "metadata": {
  "anaconda-cloud": {},
  "kernelspec": {
   "display_name": "Python 3",
   "language": "python",
   "name": "python3"
  },
  "language_info": {
   "codemirror_mode": {
    "name": "ipython",
    "version": 3
   },
   "file_extension": ".py",
   "mimetype": "text/x-python",
   "name": "python",
   "nbconvert_exporter": "python",
   "pygments_lexer": "ipython3",
   "version": "3.6.6"
  }
 },
 "nbformat": 4,
 "nbformat_minor": 1
}
