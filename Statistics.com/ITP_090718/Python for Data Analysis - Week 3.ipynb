{
 "cells": [
  {
   "cell_type": "markdown",
   "metadata": {},
   "source": [
    "# Week 3: Working with Pandas\n",
    "\n",
    "Welcome back! Last week we started doing some real data analysis, but we were writing extremely basic functionality by hand. While it's important to be familiar with the language and understand how things like that work, in practice you wouldn't want to have to reimplement a mean-finding function from scratch every time you're starting a new data analysis project.\n",
    "\n",
    "Enter [Pandas](http://pandas.pydata.org/), the Python Data Analysis library. Pandas is one of the newer additions to the scientific Python ecosystem, but it's already a mature and very powerful tool. If you've worked with R before, or other statistical software, many of the concepts will be familiar to you. Pandas introduces Series (indexed lists) and DataFrames (data organized table-style into rows and columns), and provides a range of functionality built in. So let's get started!\n",
    "\n",
    "The first thing we do is import the pandas module:"
   ]
  },
  {
   "cell_type": "code",
   "execution_count": 1,
   "metadata": {},
   "outputs": [],
   "source": [
    "import pandas as pd"
   ]
  },
  {
   "cell_type": "markdown",
   "metadata": {},
   "source": [
    "## Series\n",
    "\n",
    "The basic pandas object is a Series. We can create a series from a list, like this:"
   ]
  },
  {
   "cell_type": "code",
   "execution_count": 2,
   "metadata": {},
   "outputs": [],
   "source": [
    "s = pd.Series([1, 3, 5, 7, 9, 11])"
   ]
  },
  {
   "cell_type": "markdown",
   "metadata": {},
   "source": [
    "Now look at the series contents:"
   ]
  },
  {
   "cell_type": "code",
   "execution_count": 3,
   "metadata": {},
   "outputs": [
    {
     "data": {
      "text/plain": [
       "0     1\n",
       "1     3\n",
       "2     5\n",
       "3     7\n",
       "4     9\n",
       "5    11\n",
       "dtype: int64"
      ]
     },
     "execution_count": 3,
     "metadata": {},
     "output_type": "execute_result"
    }
   ],
   "source": [
    "s"
   ]
  },
  {
   "cell_type": "markdown",
   "metadata": {},
   "source": [
    "Notice the two columns above; the first, leftmost column is the index, which is just the same 0 to 5 values you'd expect in a regular list. The righthand column is the actual values the series is storing.\n",
    "\n",
    "The Series object comes built-in with quite a few basic functions. For example:"
   ]
  },
  {
   "cell_type": "code",
   "execution_count": 4,
   "metadata": {},
   "outputs": [
    {
     "name": "stdout",
     "output_type": "stream",
     "text": [
      "36\n",
      "6.0\n",
      "6.0\n"
     ]
    }
   ],
   "source": [
    "print(s.sum())\n",
    "print(s.mean())\n",
    "print(s.median())"
   ]
  },
  {
   "cell_type": "markdown",
   "metadata": {},
   "source": [
    "We can perform artithmetic operations on a series; the operation will be done element by element, and the result will be another series:"
   ]
  },
  {
   "cell_type": "code",
   "execution_count": 5,
   "metadata": {},
   "outputs": [
    {
     "data": {
      "text/plain": [
       "0     2\n",
       "1     4\n",
       "2     6\n",
       "3     8\n",
       "4    10\n",
       "5    12\n",
       "dtype: int64"
      ]
     },
     "execution_count": 5,
     "metadata": {},
     "output_type": "execute_result"
    }
   ],
   "source": [
    "s + 1"
   ]
  },
  {
   "cell_type": "markdown",
   "metadata": {},
   "source": [
    "Since the result is a new series, we can assign it to a variable:"
   ]
  },
  {
   "cell_type": "code",
   "execution_count": 6,
   "metadata": {},
   "outputs": [
    {
     "name": "stdout",
     "output_type": "stream",
     "text": [
      "0     2\n",
      "1     6\n",
      "2    10\n",
      "3    14\n",
      "4    18\n",
      "5    22\n",
      "dtype: int64\n"
     ]
    }
   ],
   "source": [
    "double_s = s * 2\n",
    "print(double_s)"
   ]
  },
  {
   "cell_type": "markdown",
   "metadata": {},
   "source": [
    "We can also perform arithmetic *between* series; the results will again be another series:"
   ]
  },
  {
   "cell_type": "code",
   "execution_count": 7,
   "metadata": {},
   "outputs": [],
   "source": [
    "a = pd.Series([1, 2, 3])\n",
    "b = pd.Series([2, 4, 8])"
   ]
  },
  {
   "cell_type": "code",
   "execution_count": 8,
   "metadata": {},
   "outputs": [
    {
     "data": {
      "text/plain": [
       "0     3\n",
       "1     6\n",
       "2    11\n",
       "dtype: int64"
      ]
     },
     "execution_count": 8,
     "metadata": {},
     "output_type": "execute_result"
    }
   ],
   "source": [
    "a + b"
   ]
  },
  {
   "cell_type": "code",
   "execution_count": 9,
   "metadata": {},
   "outputs": [
    {
     "data": {
      "text/plain": [
       "0   -1\n",
       "1   -2\n",
       "2   -5\n",
       "dtype: int64"
      ]
     },
     "execution_count": 9,
     "metadata": {},
     "output_type": "execute_result"
    }
   ],
   "source": [
    "a - b"
   ]
  },
  {
   "cell_type": "code",
   "execution_count": 10,
   "metadata": {},
   "outputs": [
    {
     "data": {
      "text/plain": [
       "0     2\n",
       "1     8\n",
       "2    24\n",
       "dtype: int64"
      ]
     },
     "execution_count": 10,
     "metadata": {},
     "output_type": "execute_result"
    }
   ],
   "source": [
    "a * b"
   ]
  },
  {
   "cell_type": "code",
   "execution_count": 11,
   "metadata": {},
   "outputs": [
    {
     "data": {
      "text/plain": [
       "0    0.500\n",
       "1    0.500\n",
       "2    0.375\n",
       "dtype: float64"
      ]
     },
     "execution_count": 11,
     "metadata": {},
     "output_type": "execute_result"
    }
   ],
   "source": [
    "a / b"
   ]
  },
  {
   "cell_type": "markdown",
   "metadata": {},
   "source": [
    "We can iterate over series in much the same way as lists. "
   ]
  },
  {
   "cell_type": "code",
   "execution_count": 12,
   "metadata": {},
   "outputs": [
    {
     "name": "stdout",
     "output_type": "stream",
     "text": [
      "1 1\n",
      "3 9\n",
      "5 25\n",
      "7 49\n",
      "9 81\n",
      "11 121\n"
     ]
    }
   ],
   "source": [
    "for x in s:\n",
    "    print(x, x*x)"
   ]
  },
  {
   "cell_type": "markdown",
   "metadata": {},
   "source": [
    "We can even use list comprehension, though it gives us a list, not a Series:"
   ]
  },
  {
   "cell_type": "code",
   "execution_count": 13,
   "metadata": {},
   "outputs": [
    {
     "data": {
      "text/plain": [
       "[1, 9, 25, 49, 81, 121]"
      ]
     },
     "execution_count": 13,
     "metadata": {},
     "output_type": "execute_result"
    }
   ],
   "source": [
    "[x*x for x in s]"
   ]
  },
  {
   "cell_type": "markdown",
   "metadata": {},
   "source": [
    "Let's create a series with the square of values, plus some added random 'noise'.\n",
    "\n",
    "#### Sidebar: generating random numbers:\n",
    "\n",
    "To get the noise, we'll use the built-in **random** module, which provides several random number generators. The most basic one, also called **random()**, simply picks a random number with uniform probability from the interval [0,1)."
   ]
  },
  {
   "cell_type": "code",
   "execution_count": 14,
   "metadata": {},
   "outputs": [],
   "source": [
    "import random"
   ]
  },
  {
   "cell_type": "code",
   "execution_count": 15,
   "metadata": {},
   "outputs": [
    {
     "name": "stdout",
     "output_type": "stream",
     "text": [
      "0.4190422579192149\n"
     ]
    }
   ],
   "source": [
    "print(random.random()) # Your results will obviously be different."
   ]
  },
  {
   "cell_type": "markdown",
   "metadata": {},
   "source": [
    "We can also draw a number from a [normal (Gaussian) distribution](http://en.wikipedia.org/wiki/Normal_distribution), with specified mean and standard deviations:"
   ]
  },
  {
   "cell_type": "code",
   "execution_count": 16,
   "metadata": {},
   "outputs": [
    {
     "data": {
      "text/plain": [
       "0.7356645075059981"
      ]
     },
     "execution_count": 16,
     "metadata": {},
     "output_type": "execute_result"
    }
   ],
   "source": [
    "random.normalvariate(0, 1) # Mean 0 and standard deviation 1"
   ]
  },
  {
   "cell_type": "markdown",
   "metadata": {},
   "source": [
    "#### End sidebar\n",
    "\n",
    "So, let's square the original series and add some random noise; we can use list comprehension, and turn the resulting list immediately into a Series:"
   ]
  },
  {
   "cell_type": "code",
   "execution_count": 18,
   "metadata": {},
   "outputs": [
    {
     "data": {
      "text/plain": [
       "0      2.293522\n",
       "1      7.627861\n",
       "2     24.405615\n",
       "3     49.022076\n",
       "4     81.513680\n",
       "5    120.997900\n",
       "dtype: float64"
      ]
     },
     "execution_count": 18,
     "metadata": {},
     "output_type": "execute_result"
    }
   ],
   "source": [
    "s2 = pd.Series([x*x + random.normalvariate(0, 1) for x in s])\n",
    "s2"
   ]
  },
  {
   "cell_type": "markdown",
   "metadata": {},
   "source": [
    "### Time series\n",
    "\n",
    "Pandas was originally designed with financial analysis in mind, so it's no surprise that it has great time series functionality. Instead of just using the default 0, 1, 2... indices, we can index a Series on anything we want -- including datetime objects. \n",
    "\n",
    "First, we import the datetime module:"
   ]
  },
  {
   "cell_type": "code",
   "execution_count": 19,
   "metadata": {},
   "outputs": [],
   "source": [
    "import datetime as dt"
   ]
  },
  {
   "cell_type": "markdown",
   "metadata": {},
   "source": [
    "Suppose we want a monthly time-series. We first need to create a list of datetime objects representing the beginning of every month, to use as our index:"
   ]
  },
  {
   "cell_type": "code",
   "execution_count": 20,
   "metadata": {},
   "outputs": [],
   "source": [
    "months = [dt.datetime(2001, x, 1) for x in range(1,13)]"
   ]
  },
  {
   "cell_type": "code",
   "execution_count": 21,
   "metadata": {},
   "outputs": [
    {
     "data": {
      "text/plain": [
       "[datetime.datetime(2001, 1, 1, 0, 0),\n",
       " datetime.datetime(2001, 2, 1, 0, 0),\n",
       " datetime.datetime(2001, 3, 1, 0, 0),\n",
       " datetime.datetime(2001, 4, 1, 0, 0),\n",
       " datetime.datetime(2001, 5, 1, 0, 0),\n",
       " datetime.datetime(2001, 6, 1, 0, 0),\n",
       " datetime.datetime(2001, 7, 1, 0, 0),\n",
       " datetime.datetime(2001, 8, 1, 0, 0),\n",
       " datetime.datetime(2001, 9, 1, 0, 0),\n",
       " datetime.datetime(2001, 10, 1, 0, 0),\n",
       " datetime.datetime(2001, 11, 1, 0, 0),\n",
       " datetime.datetime(2001, 12, 1, 0, 0)]"
      ]
     },
     "execution_count": 21,
     "metadata": {},
     "output_type": "execute_result"
    }
   ],
   "source": [
    "months"
   ]
  },
  {
   "cell_type": "markdown",
   "metadata": {},
   "source": [
    "One way to create a series with a custom index is with a dictionary: keys are the index, and values are the values. Here, we create a dictionary associating each of the datetimes with a random value:"
   ]
  },
  {
   "cell_type": "code",
   "execution_count": 22,
   "metadata": {},
   "outputs": [],
   "source": [
    "time_series = {}\n",
    "for date in months:\n",
    "    time_series[date] = random.normalvariate(0,1)"
   ]
  },
  {
   "cell_type": "code",
   "execution_count": 23,
   "metadata": {},
   "outputs": [
    {
     "data": {
      "text/plain": [
       "{datetime.datetime(2001, 1, 1, 0, 0): -0.8940533353208048,\n",
       " datetime.datetime(2001, 2, 1, 0, 0): 1.1992667508472319,\n",
       " datetime.datetime(2001, 3, 1, 0, 0): -0.870657607541818,\n",
       " datetime.datetime(2001, 4, 1, 0, 0): -0.42874135296262894,\n",
       " datetime.datetime(2001, 5, 1, 0, 0): -0.05053141304788145,\n",
       " datetime.datetime(2001, 6, 1, 0, 0): 0.48507865070437095,\n",
       " datetime.datetime(2001, 7, 1, 0, 0): 0.6207560893190232,\n",
       " datetime.datetime(2001, 8, 1, 0, 0): 0.3250391485574627,\n",
       " datetime.datetime(2001, 9, 1, 0, 0): 0.46910924083778094,\n",
       " datetime.datetime(2001, 10, 1, 0, 0): 0.5911920557074458,\n",
       " datetime.datetime(2001, 11, 1, 0, 0): -1.0875622656101356,\n",
       " datetime.datetime(2001, 12, 1, 0, 0): 0.8536755442533476}"
      ]
     },
     "execution_count": 23,
     "metadata": {},
     "output_type": "execute_result"
    }
   ],
   "source": [
    "time_series"
   ]
  },
  {
   "cell_type": "markdown",
   "metadata": {},
   "source": [
    "A lesser-known Python trick is that just like list comprehension, there is also dictionary comprehension: creating a dictionary from a known set of keys. We can simplify the above code like this:"
   ]
  },
  {
   "cell_type": "code",
   "execution_count": 24,
   "metadata": {},
   "outputs": [
    {
     "data": {
      "text/plain": [
       "{datetime.datetime(2001, 1, 1, 0, 0): -0.7795688911229612,\n",
       " datetime.datetime(2001, 2, 1, 0, 0): -0.05541818519323821,\n",
       " datetime.datetime(2001, 3, 1, 0, 0): 0.6854040371210242,\n",
       " datetime.datetime(2001, 4, 1, 0, 0): 0.2801113947930777,\n",
       " datetime.datetime(2001, 5, 1, 0, 0): 0.9392365909194148,\n",
       " datetime.datetime(2001, 6, 1, 0, 0): -0.38751248593511595,\n",
       " datetime.datetime(2001, 7, 1, 0, 0): 1.4928914292400155,\n",
       " datetime.datetime(2001, 8, 1, 0, 0): -0.3918656235832699,\n",
       " datetime.datetime(2001, 9, 1, 0, 0): 0.9852959824126637,\n",
       " datetime.datetime(2001, 10, 1, 0, 0): 1.1458613379605385,\n",
       " datetime.datetime(2001, 11, 1, 0, 0): 0.7762663186287914,\n",
       " datetime.datetime(2001, 12, 1, 0, 0): 0.4749348373919369}"
      ]
     },
     "execution_count": 24,
     "metadata": {},
     "output_type": "execute_result"
    }
   ],
   "source": [
    "time_series = {date: random.normalvariate(0,1) for date in months}\n",
    "time_series"
   ]
  },
  {
   "cell_type": "markdown",
   "metadata": {},
   "source": [
    "Now that we have a dictionary associating dates with values, we can turn it into a pandas series:"
   ]
  },
  {
   "cell_type": "code",
   "execution_count": 25,
   "metadata": {},
   "outputs": [],
   "source": [
    "time_series = pd.Series(time_series)"
   ]
  },
  {
   "cell_type": "code",
   "execution_count": 26,
   "metadata": {},
   "outputs": [
    {
     "data": {
      "text/plain": [
       "2001-01-01   -0.779569\n",
       "2001-02-01   -0.055418\n",
       "2001-03-01    0.685404\n",
       "2001-04-01    0.280111\n",
       "2001-05-01    0.939237\n",
       "2001-06-01   -0.387512\n",
       "2001-07-01    1.492891\n",
       "2001-08-01   -0.391866\n",
       "2001-09-01    0.985296\n",
       "2001-10-01    1.145861\n",
       "2001-11-01    0.776266\n",
       "2001-12-01    0.474935\n",
       "dtype: float64"
      ]
     },
     "execution_count": 26,
     "metadata": {},
     "output_type": "execute_result"
    }
   ],
   "source": [
    "time_series"
   ]
  },
  {
   "cell_type": "markdown",
   "metadata": {},
   "source": [
    "Here's another useful bit of series functionality, that's especually handy for time series. The *cumsum()* function returns a new series, where each value is the cumulative sum of all the previous values. If we wanted to turn our random numbers into a random walk, we could do:"
   ]
  },
  {
   "cell_type": "code",
   "execution_count": 27,
   "metadata": {},
   "outputs": [],
   "source": [
    "time_series_total = time_series.cumsum()"
   ]
  },
  {
   "cell_type": "code",
   "execution_count": 28,
   "metadata": {},
   "outputs": [
    {
     "data": {
      "text/plain": [
       "2001-01-01   -0.779569\n",
       "2001-02-01   -0.834987\n",
       "2001-03-01   -0.149583\n",
       "2001-04-01    0.130528\n",
       "2001-05-01    1.069765\n",
       "2001-06-01    0.682252\n",
       "2001-07-01    2.175144\n",
       "2001-08-01    1.783278\n",
       "2001-09-01    2.768574\n",
       "2001-10-01    3.914436\n",
       "2001-11-01    4.690702\n",
       "2001-12-01    5.165637\n",
       "dtype: float64"
      ]
     },
     "execution_count": 28,
     "metadata": {},
     "output_type": "execute_result"
    }
   ],
   "source": [
    "time_series_total"
   ]
  },
  {
   "cell_type": "markdown",
   "metadata": {},
   "source": [
    "If you're using the IPython Notebook, pandas can create a quick chart of the time series. If you're not using the Notebook, don't worry about it right now -- we'll go deeper into visualization (including how to do it from IDLE or the command line) next week.\n",
    "\n",
    "If you're in the IPython notebook, use the following command to prepare for plotting:"
   ]
  },
  {
   "cell_type": "code",
   "execution_count": 29,
   "metadata": {},
   "outputs": [],
   "source": [
    "%matplotlib inline "
   ]
  },
  {
   "cell_type": "markdown",
   "metadata": {},
   "source": [
    "Next, we use the pandas series' built-in *plot()* method to create the chart:"
   ]
  },
  {
   "cell_type": "code",
   "execution_count": 30,
   "metadata": {},
   "outputs": [
    {
     "data": {
      "text/plain": [
       "<matplotlib.axes._subplots.AxesSubplot at 0x971d358>"
      ]
     },
     "execution_count": 30,
     "metadata": {},
     "output_type": "execute_result"
    },
    {
     "data": {
      "image/png": "[encoded data removed]",
      "text/plain": [
       "<Figure size 432x288 with 1 Axes>"
      ]
     },
     "metadata": {},
     "output_type": "display_data"
    }
   ],
   "source": [
    "time_series_total.plot()"
   ]
  },
  {
   "cell_type": "markdown",
   "metadata": {},
   "source": [
    "Instead of making a range of dates by hand, we can have pandas do it for us using the *date_range(...)* function, as follows:"
   ]
  },
  {
   "cell_type": "code",
   "execution_count": 31,
   "metadata": {},
   "outputs": [],
   "source": [
    "dates = pd.date_range('1/1/2000', periods=120, freq='M')"
   ]
  },
  {
   "cell_type": "code",
   "execution_count": 32,
   "metadata": {},
   "outputs": [
    {
     "data": {
      "text/plain": [
       "DatetimeIndex(['2000-01-31', '2000-02-29', '2000-03-31', '2000-04-30',\n",
       "               '2000-05-31', '2000-06-30', '2000-07-31', '2000-08-31',\n",
       "               '2000-09-30', '2000-10-31',\n",
       "               ...\n",
       "               '2009-03-31', '2009-04-30', '2009-05-31', '2009-06-30',\n",
       "               '2009-07-31', '2009-08-31', '2009-09-30', '2009-10-31',\n",
       "               '2009-11-30', '2009-12-31'],\n",
       "              dtype='datetime64[ns]', length=120, freq='M')"
      ]
     },
     "execution_count": 32,
     "metadata": {},
     "output_type": "execute_result"
    }
   ],
   "source": [
    "dates"
   ]
  },
  {
   "cell_type": "markdown",
   "metadata": {},
   "source": [
    "The first date is the starting date; next, *periods* is how many dates to create. Finally, the *freq* is a code for the frequency to create the dates at. 'M' or 'm' indicates monthly; 'D' would be daily, 'min' minute-ly, and more. You can check out the  full pandas documentation for more complicated codes (e.g. quarters, business days, etc): http://pd.pydata.org/pandas-docs/stable/timeseries.html\n",
    "\n",
    "Notice that by default, pandas puts the dates for a monthly sequence at the *end* of each month."
   ]
  },
  {
   "cell_type": "markdown",
   "metadata": {},
   "source": [
    "Let's create two new random walks:"
   ]
  },
  {
   "cell_type": "code",
   "execution_count": 33,
   "metadata": {},
   "outputs": [],
   "source": [
    "ts1 = pd.Series([random.normalvariate(0,1) for x in range(120)], index=dates)\n",
    "ts2 = pd.Series([random.normalvariate(0,1) for x in range(120)], index=dates)\n",
    "\n",
    "ts1 = ts1.cumsum()\n",
    "ts2 = ts2.cumsum()"
   ]
  },
  {
   "cell_type": "markdown",
   "metadata": {},
   "source": [
    "We can view the first or last few entries in a series using the *head()* or *tail()* functions:"
   ]
  },
  {
   "cell_type": "code",
   "execution_count": 34,
   "metadata": {},
   "outputs": [
    {
     "data": {
      "text/plain": [
       "2000-01-31    0.833707\n",
       "2000-02-29    1.419116\n",
       "2000-03-31    0.648205\n",
       "2000-04-30    0.680384\n",
       "2000-05-31   -0.623024\n",
       "Freq: M, dtype: float64"
      ]
     },
     "execution_count": 34,
     "metadata": {},
     "output_type": "execute_result"
    }
   ],
   "source": [
    "ts1.head() # First 5 entries"
   ]
  },
  {
   "cell_type": "code",
   "execution_count": 35,
   "metadata": {},
   "outputs": [
    {
     "data": {
      "text/plain": [
       "2009-08-31   -13.702958\n",
       "2009-09-30   -13.024930\n",
       "2009-10-31   -11.861407\n",
       "2009-11-30   -10.776604\n",
       "2009-12-31    -9.465016\n",
       "Freq: M, dtype: float64"
      ]
     },
     "execution_count": 35,
     "metadata": {},
     "output_type": "execute_result"
    }
   ],
   "source": [
    "ts2.tail() # Last 5 entries"
   ]
  },
  {
   "cell_type": "markdown",
   "metadata": {},
   "source": [
    "Pandas series have a built-in *corr(...)* function for finding the correlation between two series:"
   ]
  },
  {
   "cell_type": "code",
   "execution_count": 36,
   "metadata": {},
   "outputs": [
    {
     "name": "stdout",
     "output_type": "stream",
     "text": [
      "-0.7922661974573358\n",
      "-0.72328633932912\n"
     ]
    }
   ],
   "source": [
    "print(ts1.corr(ts2)) # Defaults to Pearson correlation\n",
    "print(ts1.corr(ts2, method='spearman')) # Spearman's rank correlation"
   ]
  },
  {
   "cell_type": "markdown",
   "metadata": {},
   "source": [
    "We can also find a series's autocorrelation:"
   ]
  },
  {
   "cell_type": "code",
   "execution_count": 37,
   "metadata": {},
   "outputs": [
    {
     "data": {
      "text/plain": [
       "0.9704097588589888"
      ]
     },
     "execution_count": 37,
     "metadata": {},
     "output_type": "execute_result"
    }
   ],
   "source": [
    "ts1.autocorr()"
   ]
  },
  {
   "cell_type": "markdown",
   "metadata": {},
   "source": [
    "## Dataframes\n",
    "\n",
    "If you've worked in R, you're already familiar with the general concept of dataframes. You probably know the same concept by different names in other languages and tools too -- it's just data organized into a table, with columns of specific variables and rows of observations. \n",
    "\n",
    "Technically, in Pandas, a DataFrame is a composed of Series with a shared index; each Series is a column, and each index value is a row.\n",
    "\n",
    "We can create a DataFrame from series by creating a dictionary associating each series with a column name, like this:"
   ]
  },
  {
   "cell_type": "code",
   "execution_count": 38,
   "metadata": {},
   "outputs": [],
   "source": [
    "df = pd.DataFrame({\"Column1\": ts1, \"Column2\": ts2})"
   ]
  },
  {
   "cell_type": "code",
   "execution_count": 39,
   "metadata": {},
   "outputs": [
    {
     "data": {
      "text/html": [
       "<div>\n",
       "<style scoped>\n",
       "    .dataframe tbody tr th:only-of-type {\n",
       "        vertical-align: middle;\n",
       "    }\n",
       "\n",
       "    .dataframe tbody tr th {\n",
       "        vertical-align: top;\n",
       "    }\n",
       "\n",
       "    .dataframe thead th {\n",
       "        text-align: right;\n",
       "    }\n",
       "</style>\n",
       "<table border=\"1\" class=\"dataframe\">\n",
       "  <thead>\n",
       "    <tr style=\"text-align: right;\">\n",
       "      <th></th>\n",
       "      <th>Column1</th>\n",
       "      <th>Column2</th>\n",
       "    </tr>\n",
       "  </thead>\n",
       "  <tbody>\n",
       "    <tr>\n",
       "      <th>2000-01-31</th>\n",
       "      <td>0.833707</td>\n",
       "      <td>1.494500</td>\n",
       "    </tr>\n",
       "    <tr>\n",
       "      <th>2000-02-29</th>\n",
       "      <td>1.419116</td>\n",
       "      <td>0.591837</td>\n",
       "    </tr>\n",
       "    <tr>\n",
       "      <th>2000-03-31</th>\n",
       "      <td>0.648205</td>\n",
       "      <td>0.560865</td>\n",
       "    </tr>\n",
       "    <tr>\n",
       "      <th>2000-04-30</th>\n",
       "      <td>0.680384</td>\n",
       "      <td>1.186199</td>\n",
       "    </tr>\n",
       "    <tr>\n",
       "      <th>2000-05-31</th>\n",
       "      <td>-0.623024</td>\n",
       "      <td>1.106038</td>\n",
       "    </tr>\n",
       "    <tr>\n",
       "      <th>2000-06-30</th>\n",
       "      <td>-0.264477</td>\n",
       "      <td>0.258162</td>\n",
       "    </tr>\n",
       "    <tr>\n",
       "      <th>2000-07-31</th>\n",
       "      <td>-1.238801</td>\n",
       "      <td>1.253397</td>\n",
       "    </tr>\n",
       "    <tr>\n",
       "      <th>2000-08-31</th>\n",
       "      <td>-1.843574</td>\n",
       "      <td>2.587267</td>\n",
       "    </tr>\n",
       "    <tr>\n",
       "      <th>2000-09-30</th>\n",
       "      <td>-0.644256</td>\n",
       "      <td>2.548531</td>\n",
       "    </tr>\n",
       "    <tr>\n",
       "      <th>2000-10-31</th>\n",
       "      <td>0.240399</td>\n",
       "      <td>1.070509</td>\n",
       "    </tr>\n",
       "    <tr>\n",
       "      <th>2000-11-30</th>\n",
       "      <td>0.019996</td>\n",
       "      <td>1.279889</td>\n",
       "    </tr>\n",
       "    <tr>\n",
       "      <th>2000-12-31</th>\n",
       "      <td>0.358564</td>\n",
       "      <td>-1.281319</td>\n",
       "    </tr>\n",
       "    <tr>\n",
       "      <th>2001-01-31</th>\n",
       "      <td>1.229548</td>\n",
       "      <td>-2.273171</td>\n",
       "    </tr>\n",
       "    <tr>\n",
       "      <th>2001-02-28</th>\n",
       "      <td>0.303230</td>\n",
       "      <td>-2.801497</td>\n",
       "    </tr>\n",
       "    <tr>\n",
       "      <th>2001-03-31</th>\n",
       "      <td>-0.352139</td>\n",
       "      <td>-1.578293</td>\n",
       "    </tr>\n",
       "    <tr>\n",
       "      <th>2001-04-30</th>\n",
       "      <td>-1.029424</td>\n",
       "      <td>-1.541438</td>\n",
       "    </tr>\n",
       "    <tr>\n",
       "      <th>2001-05-31</th>\n",
       "      <td>-0.179619</td>\n",
       "      <td>-2.538700</td>\n",
       "    </tr>\n",
       "    <tr>\n",
       "      <th>2001-06-30</th>\n",
       "      <td>0.035003</td>\n",
       "      <td>-2.185080</td>\n",
       "    </tr>\n",
       "    <tr>\n",
       "      <th>2001-07-31</th>\n",
       "      <td>-0.810094</td>\n",
       "      <td>-2.631161</td>\n",
       "    </tr>\n",
       "    <tr>\n",
       "      <th>2001-08-31</th>\n",
       "      <td>-1.559290</td>\n",
       "      <td>-3.305499</td>\n",
       "    </tr>\n",
       "    <tr>\n",
       "      <th>2001-09-30</th>\n",
       "      <td>-2.074049</td>\n",
       "      <td>-5.311510</td>\n",
       "    </tr>\n",
       "    <tr>\n",
       "      <th>2001-10-31</th>\n",
       "      <td>-0.816477</td>\n",
       "      <td>-5.127497</td>\n",
       "    </tr>\n",
       "    <tr>\n",
       "      <th>2001-11-30</th>\n",
       "      <td>-1.174916</td>\n",
       "      <td>-4.364202</td>\n",
       "    </tr>\n",
       "    <tr>\n",
       "      <th>2001-12-31</th>\n",
       "      <td>-2.477117</td>\n",
       "      <td>-4.827323</td>\n",
       "    </tr>\n",
       "    <tr>\n",
       "      <th>2002-01-31</th>\n",
       "      <td>-0.949099</td>\n",
       "      <td>-5.020927</td>\n",
       "    </tr>\n",
       "    <tr>\n",
       "      <th>2002-02-28</th>\n",
       "      <td>-0.073260</td>\n",
       "      <td>-5.008092</td>\n",
       "    </tr>\n",
       "    <tr>\n",
       "      <th>2002-03-31</th>\n",
       "      <td>-0.291954</td>\n",
       "      <td>-4.598119</td>\n",
       "    </tr>\n",
       "    <tr>\n",
       "      <th>2002-04-30</th>\n",
       "      <td>0.563112</td>\n",
       "      <td>-5.157765</td>\n",
       "    </tr>\n",
       "    <tr>\n",
       "      <th>2002-05-31</th>\n",
       "      <td>1.463475</td>\n",
       "      <td>-4.286047</td>\n",
       "    </tr>\n",
       "    <tr>\n",
       "      <th>2002-06-30</th>\n",
       "      <td>2.847511</td>\n",
       "      <td>-4.379029</td>\n",
       "    </tr>\n",
       "    <tr>\n",
       "      <th>...</th>\n",
       "      <td>...</td>\n",
       "      <td>...</td>\n",
       "    </tr>\n",
       "    <tr>\n",
       "      <th>2007-07-31</th>\n",
       "      <td>4.603375</td>\n",
       "      <td>-14.014364</td>\n",
       "    </tr>\n",
       "    <tr>\n",
       "      <th>2007-08-31</th>\n",
       "      <td>4.334255</td>\n",
       "      <td>-12.845942</td>\n",
       "    </tr>\n",
       "    <tr>\n",
       "      <th>2007-09-30</th>\n",
       "      <td>4.066257</td>\n",
       "      <td>-14.704820</td>\n",
       "    </tr>\n",
       "    <tr>\n",
       "      <th>2007-10-31</th>\n",
       "      <td>4.949651</td>\n",
       "      <td>-14.477242</td>\n",
       "    </tr>\n",
       "    <tr>\n",
       "      <th>2007-11-30</th>\n",
       "      <td>6.856889</td>\n",
       "      <td>-14.422518</td>\n",
       "    </tr>\n",
       "    <tr>\n",
       "      <th>2007-12-31</th>\n",
       "      <td>7.189976</td>\n",
       "      <td>-14.584385</td>\n",
       "    </tr>\n",
       "    <tr>\n",
       "      <th>2008-01-31</th>\n",
       "      <td>7.124792</td>\n",
       "      <td>-16.196176</td>\n",
       "    </tr>\n",
       "    <tr>\n",
       "      <th>2008-02-29</th>\n",
       "      <td>7.227963</td>\n",
       "      <td>-15.583257</td>\n",
       "    </tr>\n",
       "    <tr>\n",
       "      <th>2008-03-31</th>\n",
       "      <td>8.058095</td>\n",
       "      <td>-14.518991</td>\n",
       "    </tr>\n",
       "    <tr>\n",
       "      <th>2008-04-30</th>\n",
       "      <td>9.782492</td>\n",
       "      <td>-14.237743</td>\n",
       "    </tr>\n",
       "    <tr>\n",
       "      <th>2008-05-31</th>\n",
       "      <td>11.096019</td>\n",
       "      <td>-13.467211</td>\n",
       "    </tr>\n",
       "    <tr>\n",
       "      <th>2008-06-30</th>\n",
       "      <td>10.747268</td>\n",
       "      <td>-13.720923</td>\n",
       "    </tr>\n",
       "    <tr>\n",
       "      <th>2008-07-31</th>\n",
       "      <td>7.985698</td>\n",
       "      <td>-13.822258</td>\n",
       "    </tr>\n",
       "    <tr>\n",
       "      <th>2008-08-31</th>\n",
       "      <td>7.694109</td>\n",
       "      <td>-13.414845</td>\n",
       "    </tr>\n",
       "    <tr>\n",
       "      <th>2008-09-30</th>\n",
       "      <td>9.438849</td>\n",
       "      <td>-15.820900</td>\n",
       "    </tr>\n",
       "    <tr>\n",
       "      <th>2008-10-31</th>\n",
       "      <td>8.162858</td>\n",
       "      <td>-16.123443</td>\n",
       "    </tr>\n",
       "    <tr>\n",
       "      <th>2008-11-30</th>\n",
       "      <td>9.327782</td>\n",
       "      <td>-17.062865</td>\n",
       "    </tr>\n",
       "    <tr>\n",
       "      <th>2008-12-31</th>\n",
       "      <td>8.897758</td>\n",
       "      <td>-16.546193</td>\n",
       "    </tr>\n",
       "    <tr>\n",
       "      <th>2009-01-31</th>\n",
       "      <td>9.616439</td>\n",
       "      <td>-15.739353</td>\n",
       "    </tr>\n",
       "    <tr>\n",
       "      <th>2009-02-28</th>\n",
       "      <td>11.699795</td>\n",
       "      <td>-16.990585</td>\n",
       "    </tr>\n",
       "    <tr>\n",
       "      <th>2009-03-31</th>\n",
       "      <td>12.965039</td>\n",
       "      <td>-15.874190</td>\n",
       "    </tr>\n",
       "    <tr>\n",
       "      <th>2009-04-30</th>\n",
       "      <td>12.673208</td>\n",
       "      <td>-14.651301</td>\n",
       "    </tr>\n",
       "    <tr>\n",
       "      <th>2009-05-31</th>\n",
       "      <td>12.717594</td>\n",
       "      <td>-14.644875</td>\n",
       "    </tr>\n",
       "    <tr>\n",
       "      <th>2009-06-30</th>\n",
       "      <td>13.567300</td>\n",
       "      <td>-14.572523</td>\n",
       "    </tr>\n",
       "    <tr>\n",
       "      <th>2009-07-31</th>\n",
       "      <td>14.199501</td>\n",
       "      <td>-13.706690</td>\n",
       "    </tr>\n",
       "    <tr>\n",
       "      <th>2009-08-31</th>\n",
       "      <td>14.583147</td>\n",
       "      <td>-13.702958</td>\n",
       "    </tr>\n",
       "    <tr>\n",
       "      <th>2009-09-30</th>\n",
       "      <td>14.831318</td>\n",
       "      <td>-13.024930</td>\n",
       "    </tr>\n",
       "    <tr>\n",
       "      <th>2009-10-31</th>\n",
       "      <td>13.063885</td>\n",
       "      <td>-11.861407</td>\n",
       "    </tr>\n",
       "    <tr>\n",
       "      <th>2009-11-30</th>\n",
       "      <td>12.487189</td>\n",
       "      <td>-10.776604</td>\n",
       "    </tr>\n",
       "    <tr>\n",
       "      <th>2009-12-31</th>\n",
       "      <td>11.182200</td>\n",
       "      <td>-9.465016</td>\n",
       "    </tr>\n",
       "  </tbody>\n",
       "</table>\n",
       "<p>120 rows × 2 columns</p>\n",
       "</div>"
      ],
      "text/plain": [
       "              Column1    Column2\n",
       "2000-01-31   0.833707   1.494500\n",
       "2000-02-29   1.419116   0.591837\n",
       "2000-03-31   0.648205   0.560865\n",
       "2000-04-30   0.680384   1.186199\n",
       "2000-05-31  -0.623024   1.106038\n",
       "2000-06-30  -0.264477   0.258162\n",
       "2000-07-31  -1.238801   1.253397\n",
       "2000-08-31  -1.843574   2.587267\n",
       "2000-09-30  -0.644256   2.548531\n",
       "2000-10-31   0.240399   1.070509\n",
       "2000-11-30   0.019996   1.279889\n",
       "2000-12-31   0.358564  -1.281319\n",
       "2001-01-31   1.229548  -2.273171\n",
       "2001-02-28   0.303230  -2.801497\n",
       "2001-03-31  -0.352139  -1.578293\n",
       "2001-04-30  -1.029424  -1.541438\n",
       "2001-05-31  -0.179619  -2.538700\n",
       "2001-06-30   0.035003  -2.185080\n",
       "2001-07-31  -0.810094  -2.631161\n",
       "2001-08-31  -1.559290  -3.305499\n",
       "2001-09-30  -2.074049  -5.311510\n",
       "2001-10-31  -0.816477  -5.127497\n",
       "2001-11-30  -1.174916  -4.364202\n",
       "2001-12-31  -2.477117  -4.827323\n",
       "2002-01-31  -0.949099  -5.020927\n",
       "2002-02-28  -0.073260  -5.008092\n",
       "2002-03-31  -0.291954  -4.598119\n",
       "2002-04-30   0.563112  -5.157765\n",
       "2002-05-31   1.463475  -4.286047\n",
       "2002-06-30   2.847511  -4.379029\n",
       "...               ...        ...\n",
       "2007-07-31   4.603375 -14.014364\n",
       "2007-08-31   4.334255 -12.845942\n",
       "2007-09-30   4.066257 -14.704820\n",
       "2007-10-31   4.949651 -14.477242\n",
       "2007-11-30   6.856889 -14.422518\n",
       "2007-12-31   7.189976 -14.584385\n",
       "2008-01-31   7.124792 -16.196176\n",
       "2008-02-29   7.227963 -15.583257\n",
       "2008-03-31   8.058095 -14.518991\n",
       "2008-04-30   9.782492 -14.237743\n",
       "2008-05-31  11.096019 -13.467211\n",
       "2008-06-30  10.747268 -13.720923\n",
       "2008-07-31   7.985698 -13.822258\n",
       "2008-08-31   7.694109 -13.414845\n",
       "2008-09-30   9.438849 -15.820900\n",
       "2008-10-31   8.162858 -16.123443\n",
       "2008-11-30   9.327782 -17.062865\n",
       "2008-12-31   8.897758 -16.546193\n",
       "2009-01-31   9.616439 -15.739353\n",
       "2009-02-28  11.699795 -16.990585\n",
       "2009-03-31  12.965039 -15.874190\n",
       "2009-04-30  12.673208 -14.651301\n",
       "2009-05-31  12.717594 -14.644875\n",
       "2009-06-30  13.567300 -14.572523\n",
       "2009-07-31  14.199501 -13.706690\n",
       "2009-08-31  14.583147 -13.702958\n",
       "2009-09-30  14.831318 -13.024930\n",
       "2009-10-31  13.063885 -11.861407\n",
       "2009-11-30  12.487189 -10.776604\n",
       "2009-12-31  11.182200  -9.465016\n",
       "\n",
       "[120 rows x 2 columns]"
      ]
     },
     "execution_count": 39,
     "metadata": {},
     "output_type": "execute_result"
    }
   ],
   "source": [
    "df"
   ]
  },
  {
   "cell_type": "markdown",
   "metadata": {},
   "source": [
    "Viewing the DataFrame may either display the whole thing, or else just a quick summary of the index and the columns, depending on the version of pandas you have and how it's conigured. To view the summary, use the *.info()* method:"
   ]
  },
  {
   "cell_type": "code",
   "execution_count": 40,
   "metadata": {},
   "outputs": [
    {
     "name": "stdout",
     "output_type": "stream",
     "text": [
      "<class 'pandas.core.frame.DataFrame'>\n",
      "DatetimeIndex: 120 entries, 2000-01-31 to 2009-12-31\n",
      "Freq: M\n",
      "Data columns (total 2 columns):\n",
      "Column1    120 non-null float64\n",
      "Column2    120 non-null float64\n",
      "dtypes: float64(2)\n",
      "memory usage: 7.8 KB\n"
     ]
    }
   ],
   "source": [
    "df.info()"
   ]
  },
  {
   "cell_type": "markdown",
   "metadata": {},
   "source": [
    "The column headers are stored in the *columns* property:"
   ]
  },
  {
   "cell_type": "code",
   "execution_count": 41,
   "metadata": {},
   "outputs": [
    {
     "data": {
      "text/plain": [
       "Index(['Column1', 'Column2'], dtype='object')"
      ]
     },
     "execution_count": 41,
     "metadata": {},
     "output_type": "execute_result"
    }
   ],
   "source": [
    "df.columns"
   ]
  },
  {
   "cell_type": "markdown",
   "metadata": {},
   "source": [
    "We can quickly see the data types of each column using the *dtypes* property:"
   ]
  },
  {
   "cell_type": "code",
   "execution_count": 42,
   "metadata": {},
   "outputs": [
    {
     "data": {
      "text/plain": [
       "Column1    float64\n",
       "Column2    float64\n",
       "dtype: object"
      ]
     },
     "execution_count": 42,
     "metadata": {},
     "output_type": "execute_result"
    }
   ],
   "source": [
    "df.dtypes"
   ]
  },
  {
   "cell_type": "markdown",
   "metadata": {},
   "source": [
    "And we can see the index using the *index* property:"
   ]
  },
  {
   "cell_type": "code",
   "execution_count": 43,
   "metadata": {},
   "outputs": [
    {
     "data": {
      "text/plain": [
       "DatetimeIndex(['2000-01-31', '2000-02-29', '2000-03-31', '2000-04-30',\n",
       "               '2000-05-31', '2000-06-30', '2000-07-31', '2000-08-31',\n",
       "               '2000-09-30', '2000-10-31',\n",
       "               ...\n",
       "               '2009-03-31', '2009-04-30', '2009-05-31', '2009-06-30',\n",
       "               '2009-07-31', '2009-08-31', '2009-09-30', '2009-10-31',\n",
       "               '2009-11-30', '2009-12-31'],\n",
       "              dtype='datetime64[ns]', length=120, freq='M')"
      ]
     },
     "execution_count": 43,
     "metadata": {},
     "output_type": "execute_result"
    }
   ],
   "source": [
    "df.index"
   ]
  },
  {
   "cell_type": "markdown",
   "metadata": {},
   "source": [
    "The index is a datetime, just like it was for the series. Each row is associated with a date.\n",
    "\n",
    "We can quickly look at the top and bottom rows using the *head()* and *tail()* methods."
   ]
  },
  {
   "cell_type": "code",
   "execution_count": 44,
   "metadata": {},
   "outputs": [
    {
     "data": {
      "text/html": [
       "<div>\n",
       "<style scoped>\n",
       "    .dataframe tbody tr th:only-of-type {\n",
       "        vertical-align: middle;\n",
       "    }\n",
       "\n",
       "    .dataframe tbody tr th {\n",
       "        vertical-align: top;\n",
       "    }\n",
       "\n",
       "    .dataframe thead th {\n",
       "        text-align: right;\n",
       "    }\n",
       "</style>\n",
       "<table border=\"1\" class=\"dataframe\">\n",
       "  <thead>\n",
       "    <tr style=\"text-align: right;\">\n",
       "      <th></th>\n",
       "      <th>Column1</th>\n",
       "      <th>Column2</th>\n",
       "    </tr>\n",
       "  </thead>\n",
       "  <tbody>\n",
       "    <tr>\n",
       "      <th>2000-01-31</th>\n",
       "      <td>0.833707</td>\n",
       "      <td>1.494500</td>\n",
       "    </tr>\n",
       "    <tr>\n",
       "      <th>2000-02-29</th>\n",
       "      <td>1.419116</td>\n",
       "      <td>0.591837</td>\n",
       "    </tr>\n",
       "    <tr>\n",
       "      <th>2000-03-31</th>\n",
       "      <td>0.648205</td>\n",
       "      <td>0.560865</td>\n",
       "    </tr>\n",
       "    <tr>\n",
       "      <th>2000-04-30</th>\n",
       "      <td>0.680384</td>\n",
       "      <td>1.186199</td>\n",
       "    </tr>\n",
       "    <tr>\n",
       "      <th>2000-05-31</th>\n",
       "      <td>-0.623024</td>\n",
       "      <td>1.106038</td>\n",
       "    </tr>\n",
       "  </tbody>\n",
       "</table>\n",
       "</div>"
      ],
      "text/plain": [
       "             Column1   Column2\n",
       "2000-01-31  0.833707  1.494500\n",
       "2000-02-29  1.419116  0.591837\n",
       "2000-03-31  0.648205  0.560865\n",
       "2000-04-30  0.680384  1.186199\n",
       "2000-05-31 -0.623024  1.106038"
      ]
     },
     "execution_count": 44,
     "metadata": {},
     "output_type": "execute_result"
    }
   ],
   "source": [
    "df.head()"
   ]
  },
  {
   "cell_type": "code",
   "execution_count": 45,
   "metadata": {},
   "outputs": [
    {
     "data": {
      "text/html": [
       "<div>\n",
       "<style scoped>\n",
       "    .dataframe tbody tr th:only-of-type {\n",
       "        vertical-align: middle;\n",
       "    }\n",
       "\n",
       "    .dataframe tbody tr th {\n",
       "        vertical-align: top;\n",
       "    }\n",
       "\n",
       "    .dataframe thead th {\n",
       "        text-align: right;\n",
       "    }\n",
       "</style>\n",
       "<table border=\"1\" class=\"dataframe\">\n",
       "  <thead>\n",
       "    <tr style=\"text-align: right;\">\n",
       "      <th></th>\n",
       "      <th>Column1</th>\n",
       "      <th>Column2</th>\n",
       "    </tr>\n",
       "  </thead>\n",
       "  <tbody>\n",
       "    <tr>\n",
       "      <th>2009-11-30</th>\n",
       "      <td>12.487189</td>\n",
       "      <td>-10.776604</td>\n",
       "    </tr>\n",
       "    <tr>\n",
       "      <th>2009-12-31</th>\n",
       "      <td>11.182200</td>\n",
       "      <td>-9.465016</td>\n",
       "    </tr>\n",
       "  </tbody>\n",
       "</table>\n",
       "</div>"
      ],
      "text/plain": [
       "              Column1    Column2\n",
       "2009-11-30  12.487189 -10.776604\n",
       "2009-12-31  11.182200  -9.465016"
      ]
     },
     "execution_count": 45,
     "metadata": {},
     "output_type": "execute_result"
    }
   ],
   "source": [
    "df.tail(2) # A number specifies how many rows to include"
   ]
  },
  {
   "cell_type": "markdown",
   "metadata": {},
   "source": [
    "Using the *corr()* method will produce a correlation table for all the columns in the DataFrame."
   ]
  },
  {
   "cell_type": "code",
   "execution_count": 46,
   "metadata": {},
   "outputs": [
    {
     "data": {
      "text/html": [
       "<div>\n",
       "<style scoped>\n",
       "    .dataframe tbody tr th:only-of-type {\n",
       "        vertical-align: middle;\n",
       "    }\n",
       "\n",
       "    .dataframe tbody tr th {\n",
       "        vertical-align: top;\n",
       "    }\n",
       "\n",
       "    .dataframe thead th {\n",
       "        text-align: right;\n",
       "    }\n",
       "</style>\n",
       "<table border=\"1\" class=\"dataframe\">\n",
       "  <thead>\n",
       "    <tr style=\"text-align: right;\">\n",
       "      <th></th>\n",
       "      <th>Column1</th>\n",
       "      <th>Column2</th>\n",
       "    </tr>\n",
       "  </thead>\n",
       "  <tbody>\n",
       "    <tr>\n",
       "      <th>Column1</th>\n",
       "      <td>1.000000</td>\n",
       "      <td>-0.792266</td>\n",
       "    </tr>\n",
       "    <tr>\n",
       "      <th>Column2</th>\n",
       "      <td>-0.792266</td>\n",
       "      <td>1.000000</td>\n",
       "    </tr>\n",
       "  </tbody>\n",
       "</table>\n",
       "</div>"
      ],
      "text/plain": [
       "          Column1   Column2\n",
       "Column1  1.000000 -0.792266\n",
       "Column2 -0.792266  1.000000"
      ]
     },
     "execution_count": 46,
     "metadata": {},
     "output_type": "execute_result"
    }
   ],
   "source": [
    "df.corr()"
   ]
  },
  {
   "cell_type": "markdown",
   "metadata": {},
   "source": [
    "### Selecting columns\n",
    "\n",
    "There are two ways to access specific columns within the DataFrame. The first is by putting the columns name (in quotation marks) in square brackets:"
   ]
  },
  {
   "cell_type": "code",
   "execution_count": 47,
   "metadata": {},
   "outputs": [
    {
     "data": {
      "text/plain": [
       "2000-01-31     0.833707\n",
       "2000-02-29     1.419116\n",
       "2000-03-31     0.648205\n",
       "2000-04-30     0.680384\n",
       "2000-05-31    -0.623024\n",
       "2000-06-30    -0.264477\n",
       "2000-07-31    -1.238801\n",
       "2000-08-31    -1.843574\n",
       "2000-09-30    -0.644256\n",
       "2000-10-31     0.240399\n",
       "2000-11-30     0.019996\n",
       "2000-12-31     0.358564\n",
       "2001-01-31     1.229548\n",
       "2001-02-28     0.303230\n",
       "2001-03-31    -0.352139\n",
       "2001-04-30    -1.029424\n",
       "2001-05-31    -0.179619\n",
       "2001-06-30     0.035003\n",
       "2001-07-31    -0.810094\n",
       "2001-08-31    -1.559290\n",
       "2001-09-30    -2.074049\n",
       "2001-10-31    -0.816477\n",
       "2001-11-30    -1.174916\n",
       "2001-12-31    -2.477117\n",
       "2002-01-31    -0.949099\n",
       "2002-02-28    -0.073260\n",
       "2002-03-31    -0.291954\n",
       "2002-04-30     0.563112\n",
       "2002-05-31     1.463475\n",
       "2002-06-30     2.847511\n",
       "                ...    \n",
       "2007-07-31     4.603375\n",
       "2007-08-31     4.334255\n",
       "2007-09-30     4.066257\n",
       "2007-10-31     4.949651\n",
       "2007-11-30     6.856889\n",
       "2007-12-31     7.189976\n",
       "2008-01-31     7.124792\n",
       "2008-02-29     7.227963\n",
       "2008-03-31     8.058095\n",
       "2008-04-30     9.782492\n",
       "2008-05-31    11.096019\n",
       "2008-06-30    10.747268\n",
       "2008-07-31     7.985698\n",
       "2008-08-31     7.694109\n",
       "2008-09-30     9.438849\n",
       "2008-10-31     8.162858\n",
       "2008-11-30     9.327782\n",
       "2008-12-31     8.897758\n",
       "2009-01-31     9.616439\n",
       "2009-02-28    11.699795\n",
       "2009-03-31    12.965039\n",
       "2009-04-30    12.673208\n",
       "2009-05-31    12.717594\n",
       "2009-06-30    13.567300\n",
       "2009-07-31    14.199501\n",
       "2009-08-31    14.583147\n",
       "2009-09-30    14.831318\n",
       "2009-10-31    13.063885\n",
       "2009-11-30    12.487189\n",
       "2009-12-31    11.182200\n",
       "Freq: M, Name: Column1, Length: 120, dtype: float64"
      ]
     },
     "execution_count": 47,
     "metadata": {},
     "output_type": "execute_result"
    }
   ],
   "source": [
    "df[\"Column1\"]"
   ]
  },
  {
   "cell_type": "markdown",
   "metadata": {},
   "source": [
    "If there are no spaces in the column name, we can also reference it as a property:"
   ]
  },
  {
   "cell_type": "code",
   "execution_count": 48,
   "metadata": {},
   "outputs": [
    {
     "data": {
      "text/plain": [
       "2000-01-31     1.494500\n",
       "2000-02-29     0.591837\n",
       "2000-03-31     0.560865\n",
       "2000-04-30     1.186199\n",
       "2000-05-31     1.106038\n",
       "2000-06-30     0.258162\n",
       "2000-07-31     1.253397\n",
       "2000-08-31     2.587267\n",
       "2000-09-30     2.548531\n",
       "2000-10-31     1.070509\n",
       "2000-11-30     1.279889\n",
       "2000-12-31    -1.281319\n",
       "2001-01-31    -2.273171\n",
       "2001-02-28    -2.801497\n",
       "2001-03-31    -1.578293\n",
       "2001-04-30    -1.541438\n",
       "2001-05-31    -2.538700\n",
       "2001-06-30    -2.185080\n",
       "2001-07-31    -2.631161\n",
       "2001-08-31    -3.305499\n",
       "2001-09-30    -5.311510\n",
       "2001-10-31    -5.127497\n",
       "2001-11-30    -4.364202\n",
       "2001-12-31    -4.827323\n",
       "2002-01-31    -5.020927\n",
       "2002-02-28    -5.008092\n",
       "2002-03-31    -4.598119\n",
       "2002-04-30    -5.157765\n",
       "2002-05-31    -4.286047\n",
       "2002-06-30    -4.379029\n",
       "                ...    \n",
       "2007-07-31   -14.014364\n",
       "2007-08-31   -12.845942\n",
       "2007-09-30   -14.704820\n",
       "2007-10-31   -14.477242\n",
       "2007-11-30   -14.422518\n",
       "2007-12-31   -14.584385\n",
       "2008-01-31   -16.196176\n",
       "2008-02-29   -15.583257\n",
       "2008-03-31   -14.518991\n",
       "2008-04-30   -14.237743\n",
       "2008-05-31   -13.467211\n",
       "2008-06-30   -13.720923\n",
       "2008-07-31   -13.822258\n",
       "2008-08-31   -13.414845\n",
       "2008-09-30   -15.820900\n",
       "2008-10-31   -16.123443\n",
       "2008-11-30   -17.062865\n",
       "2008-12-31   -16.546193\n",
       "2009-01-31   -15.739353\n",
       "2009-02-28   -16.990585\n",
       "2009-03-31   -15.874190\n",
       "2009-04-30   -14.651301\n",
       "2009-05-31   -14.644875\n",
       "2009-06-30   -14.572523\n",
       "2009-07-31   -13.706690\n",
       "2009-08-31   -13.702958\n",
       "2009-09-30   -13.024930\n",
       "2009-10-31   -11.861407\n",
       "2009-11-30   -10.776604\n",
       "2009-12-31    -9.465016\n",
       "Freq: M, Name: Column2, Length: 120, dtype: float64"
      ]
     },
     "execution_count": 48,
     "metadata": {},
     "output_type": "execute_result"
    }
   ],
   "source": [
    "df.Column2"
   ]
  },
  {
   "cell_type": "markdown",
   "metadata": {},
   "source": [
    "The square bracket notation is also how we create new columns:"
   ]
  },
  {
   "cell_type": "code",
   "execution_count": 49,
   "metadata": {},
   "outputs": [],
   "source": [
    "df[\"New Column\"] = 1"
   ]
  },
  {
   "cell_type": "code",
   "execution_count": 50,
   "metadata": {},
   "outputs": [
    {
     "data": {
      "text/html": [
       "<div>\n",
       "<style scoped>\n",
       "    .dataframe tbody tr th:only-of-type {\n",
       "        vertical-align: middle;\n",
       "    }\n",
       "\n",
       "    .dataframe tbody tr th {\n",
       "        vertical-align: top;\n",
       "    }\n",
       "\n",
       "    .dataframe thead th {\n",
       "        text-align: right;\n",
       "    }\n",
       "</style>\n",
       "<table border=\"1\" class=\"dataframe\">\n",
       "  <thead>\n",
       "    <tr style=\"text-align: right;\">\n",
       "      <th></th>\n",
       "      <th>Column1</th>\n",
       "      <th>Column2</th>\n",
       "      <th>New Column</th>\n",
       "    </tr>\n",
       "  </thead>\n",
       "  <tbody>\n",
       "    <tr>\n",
       "      <th>2000-01-31</th>\n",
       "      <td>0.833707</td>\n",
       "      <td>1.494500</td>\n",
       "      <td>1</td>\n",
       "    </tr>\n",
       "    <tr>\n",
       "      <th>2000-02-29</th>\n",
       "      <td>1.419116</td>\n",
       "      <td>0.591837</td>\n",
       "      <td>1</td>\n",
       "    </tr>\n",
       "    <tr>\n",
       "      <th>2000-03-31</th>\n",
       "      <td>0.648205</td>\n",
       "      <td>0.560865</td>\n",
       "      <td>1</td>\n",
       "    </tr>\n",
       "    <tr>\n",
       "      <th>2000-04-30</th>\n",
       "      <td>0.680384</td>\n",
       "      <td>1.186199</td>\n",
       "      <td>1</td>\n",
       "    </tr>\n",
       "    <tr>\n",
       "      <th>2000-05-31</th>\n",
       "      <td>-0.623024</td>\n",
       "      <td>1.106038</td>\n",
       "      <td>1</td>\n",
       "    </tr>\n",
       "  </tbody>\n",
       "</table>\n",
       "</div>"
      ],
      "text/plain": [
       "             Column1   Column2  New Column\n",
       "2000-01-31  0.833707  1.494500           1\n",
       "2000-02-29  1.419116  0.591837           1\n",
       "2000-03-31  0.648205  0.560865           1\n",
       "2000-04-30  0.680384  1.186199           1\n",
       "2000-05-31 -0.623024  1.106038           1"
      ]
     },
     "execution_count": 50,
     "metadata": {},
     "output_type": "execute_result"
    }
   ],
   "source": [
    "df.head()"
   ]
  },
  {
   "cell_type": "markdown",
   "metadata": {},
   "source": [
    "Notice that since there's a space in the name, we can't reference it as *df.* anything"
   ]
  },
  {
   "cell_type": "markdown",
   "metadata": {},
   "source": [
    "## Working with real data\n",
    "\n",
    "Playing with toy data is fine, but to really dive into pandas let's use it to replicate and expand on some of our analysis last week.\n",
    "\n",
    "We can load a CSV file into a pandas DataFrame using the *read_csv(...)* function. Let's step through and try to load last week's MovieData.csv:"
   ]
  },
  {
   "cell_type": "code",
   "execution_count": 51,
   "metadata": {},
   "outputs": [
    {
     "ename": "ParserError",
     "evalue": "Error tokenizing data. C error: Expected 1 fields in line 38, saw 2\n",
     "output_type": "error",
     "traceback": [
      "\u001b[1;31m---------------------------------------------------------------------------\u001b[0m",
      "\u001b[1;31mParserError\u001b[0m                               Traceback (most recent call last)",
      "\u001b[1;32m<ipython-input-51-d9440e44d3bd>\u001b[0m in \u001b[0;36m<module>\u001b[1;34m()\u001b[0m\n\u001b[1;32m----> 1\u001b[1;33m \u001b[0mmovies\u001b[0m \u001b[1;33m=\u001b[0m \u001b[0mpd\u001b[0m\u001b[1;33m.\u001b[0m\u001b[0mread_csv\u001b[0m\u001b[1;33m(\u001b[0m\u001b[1;34m\"MovieData.csv\"\u001b[0m\u001b[1;33m)\u001b[0m\u001b[1;33m\u001b[0m\u001b[0m\n\u001b[0m",
      "\u001b[1;32mC:\\Users\\jenkij\\AppData\\Local\\Continuum\\anaconda3\\lib\\site-packages\\pandas\\io\\parsers.py\u001b[0m in \u001b[0;36mparser_f\u001b[1;34m(filepath_or_buffer, sep, delimiter, header, names, index_col, usecols, squeeze, prefix, mangle_dupe_cols, dtype, engine, converters, true_values, false_values, skipinitialspace, skiprows, nrows, na_values, keep_default_na, na_filter, verbose, skip_blank_lines, parse_dates, infer_datetime_format, keep_date_col, date_parser, dayfirst, iterator, chunksize, compression, thousands, decimal, lineterminator, quotechar, quoting, escapechar, comment, encoding, dialect, tupleize_cols, error_bad_lines, warn_bad_lines, skipfooter, doublequote, delim_whitespace, low_memory, memory_map, float_precision)\u001b[0m\n\u001b[0;32m    676\u001b[0m                     skip_blank_lines=skip_blank_lines)\n\u001b[0;32m    677\u001b[0m \u001b[1;33m\u001b[0m\u001b[0m\n\u001b[1;32m--> 678\u001b[1;33m         \u001b[1;32mreturn\u001b[0m \u001b[0m_read\u001b[0m\u001b[1;33m(\u001b[0m\u001b[0mfilepath_or_buffer\u001b[0m\u001b[1;33m,\u001b[0m \u001b[0mkwds\u001b[0m\u001b[1;33m)\u001b[0m\u001b[1;33m\u001b[0m\u001b[0m\n\u001b[0m\u001b[0;32m    679\u001b[0m \u001b[1;33m\u001b[0m\u001b[0m\n\u001b[0;32m    680\u001b[0m     \u001b[0mparser_f\u001b[0m\u001b[1;33m.\u001b[0m\u001b[0m__name__\u001b[0m \u001b[1;33m=\u001b[0m \u001b[0mname\u001b[0m\u001b[1;33m\u001b[0m\u001b[0m\n",
      "\u001b[1;32mC:\\Users\\jenkij\\AppData\\Local\\Continuum\\anaconda3\\lib\\site-packages\\pandas\\io\\parsers.py\u001b[0m in \u001b[0;36m_read\u001b[1;34m(filepath_or_buffer, kwds)\u001b[0m\n\u001b[0;32m    444\u001b[0m \u001b[1;33m\u001b[0m\u001b[0m\n\u001b[0;32m    445\u001b[0m     \u001b[1;32mtry\u001b[0m\u001b[1;33m:\u001b[0m\u001b[1;33m\u001b[0m\u001b[0m\n\u001b[1;32m--> 446\u001b[1;33m         \u001b[0mdata\u001b[0m \u001b[1;33m=\u001b[0m \u001b[0mparser\u001b[0m\u001b[1;33m.\u001b[0m\u001b[0mread\u001b[0m\u001b[1;33m(\u001b[0m\u001b[0mnrows\u001b[0m\u001b[1;33m)\u001b[0m\u001b[1;33m\u001b[0m\u001b[0m\n\u001b[0m\u001b[0;32m    447\u001b[0m     \u001b[1;32mfinally\u001b[0m\u001b[1;33m:\u001b[0m\u001b[1;33m\u001b[0m\u001b[0m\n\u001b[0;32m    448\u001b[0m         \u001b[0mparser\u001b[0m\u001b[1;33m.\u001b[0m\u001b[0mclose\u001b[0m\u001b[1;33m(\u001b[0m\u001b[1;33m)\u001b[0m\u001b[1;33m\u001b[0m\u001b[0m\n",
      "\u001b[1;32mC:\\Users\\jenkij\\AppData\\Local\\Continuum\\anaconda3\\lib\\site-packages\\pandas\\io\\parsers.py\u001b[0m in \u001b[0;36mread\u001b[1;34m(self, nrows)\u001b[0m\n\u001b[0;32m   1034\u001b[0m                 \u001b[1;32mraise\u001b[0m \u001b[0mValueError\u001b[0m\u001b[1;33m(\u001b[0m\u001b[1;34m'skipfooter not supported for iteration'\u001b[0m\u001b[1;33m)\u001b[0m\u001b[1;33m\u001b[0m\u001b[0m\n\u001b[0;32m   1035\u001b[0m \u001b[1;33m\u001b[0m\u001b[0m\n\u001b[1;32m-> 1036\u001b[1;33m         \u001b[0mret\u001b[0m \u001b[1;33m=\u001b[0m \u001b[0mself\u001b[0m\u001b[1;33m.\u001b[0m\u001b[0m_engine\u001b[0m\u001b[1;33m.\u001b[0m\u001b[0mread\u001b[0m\u001b[1;33m(\u001b[0m\u001b[0mnrows\u001b[0m\u001b[1;33m)\u001b[0m\u001b[1;33m\u001b[0m\u001b[0m\n\u001b[0m\u001b[0;32m   1037\u001b[0m \u001b[1;33m\u001b[0m\u001b[0m\n\u001b[0;32m   1038\u001b[0m         \u001b[1;31m# May alter columns / col_dict\u001b[0m\u001b[1;33m\u001b[0m\u001b[1;33m\u001b[0m\u001b[0m\n",
      "\u001b[1;32mC:\\Users\\jenkij\\AppData\\Local\\Continuum\\anaconda3\\lib\\site-packages\\pandas\\io\\parsers.py\u001b[0m in \u001b[0;36mread\u001b[1;34m(self, nrows)\u001b[0m\n\u001b[0;32m   1846\u001b[0m     \u001b[1;32mdef\u001b[0m \u001b[0mread\u001b[0m\u001b[1;33m(\u001b[0m\u001b[0mself\u001b[0m\u001b[1;33m,\u001b[0m \u001b[0mnrows\u001b[0m\u001b[1;33m=\u001b[0m\u001b[1;32mNone\u001b[0m\u001b[1;33m)\u001b[0m\u001b[1;33m:\u001b[0m\u001b[1;33m\u001b[0m\u001b[0m\n\u001b[0;32m   1847\u001b[0m         \u001b[1;32mtry\u001b[0m\u001b[1;33m:\u001b[0m\u001b[1;33m\u001b[0m\u001b[0m\n\u001b[1;32m-> 1848\u001b[1;33m             \u001b[0mdata\u001b[0m \u001b[1;33m=\u001b[0m \u001b[0mself\u001b[0m\u001b[1;33m.\u001b[0m\u001b[0m_reader\u001b[0m\u001b[1;33m.\u001b[0m\u001b[0mread\u001b[0m\u001b[1;33m(\u001b[0m\u001b[0mnrows\u001b[0m\u001b[1;33m)\u001b[0m\u001b[1;33m\u001b[0m\u001b[0m\n\u001b[0m\u001b[0;32m   1849\u001b[0m         \u001b[1;32mexcept\u001b[0m \u001b[0mStopIteration\u001b[0m\u001b[1;33m:\u001b[0m\u001b[1;33m\u001b[0m\u001b[0m\n\u001b[0;32m   1850\u001b[0m             \u001b[1;32mif\u001b[0m \u001b[0mself\u001b[0m\u001b[1;33m.\u001b[0m\u001b[0m_first_chunk\u001b[0m\u001b[1;33m:\u001b[0m\u001b[1;33m\u001b[0m\u001b[0m\n",
      "\u001b[1;32mpandas\\_libs\\parsers.pyx\u001b[0m in \u001b[0;36mpandas._libs.parsers.TextReader.read\u001b[1;34m()\u001b[0m\n",
      "\u001b[1;32mpandas\\_libs\\parsers.pyx\u001b[0m in \u001b[0;36mpandas._libs.parsers.TextReader._read_low_memory\u001b[1;34m()\u001b[0m\n",
      "\u001b[1;32mpandas\\_libs\\parsers.pyx\u001b[0m in \u001b[0;36mpandas._libs.parsers.TextReader._read_rows\u001b[1;34m()\u001b[0m\n",
      "\u001b[1;32mpandas\\_libs\\parsers.pyx\u001b[0m in \u001b[0;36mpandas._libs.parsers.TextReader._tokenize_rows\u001b[1;34m()\u001b[0m\n",
      "\u001b[1;32mpandas\\_libs\\parsers.pyx\u001b[0m in \u001b[0;36mpandas._libs.parsers.raise_parser_error\u001b[1;34m()\u001b[0m\n",
      "\u001b[1;31mParserError\u001b[0m: Error tokenizing data. C error: Expected 1 fields in line 38, saw 2\n"
     ]
    }
   ],
   "source": [
    "movies = pd.read_csv(\"MovieData.csv\")"
   ]
  },
  {
   "cell_type": "markdown",
   "metadata": {},
   "source": [
    "That's a scary-looking error, but read down to the end. \"Error tokenizing data\" probably means that there's an issue splitting the data into columns. It turns out that *read_csv* assumes by default that the data is comma-delimited. We need to explicitly give it a separator ('sep') if it's something different, like this:"
   ]
  },
  {
   "cell_type": "code",
   "execution_count": 52,
   "metadata": {},
   "outputs": [],
   "source": [
    "movies = pd.read_csv(\"MovieData.csv\", sep='\\t')"
   ]
  },
  {
   "cell_type": "markdown",
   "metadata": {},
   "source": [
    "Okay, no errors now! Let's see what it's loaded:"
   ]
  },
  {
   "cell_type": "code",
   "execution_count": 53,
   "metadata": {},
   "outputs": [
    {
     "name": "stdout",
     "output_type": "stream",
     "text": [
      "<class 'pandas.core.frame.DataFrame'>\n",
      "RangeIndex: 3627 entries, 0 to 3626\n",
      "Data columns (total 6 columns):\n",
      "Release_Date       3627 non-null object\n",
      "Movie              3627 non-null object\n",
      "Distributor        2968 non-null object\n",
      "Budget             3627 non-null int64\n",
      "US Gross           3627 non-null object\n",
      "Worldwide Gross    3627 non-null object\n",
      "dtypes: int64(1), object(5)\n",
      "memory usage: 170.1+ KB\n"
     ]
    }
   ],
   "source": [
    "movies.info()"
   ]
  },
  {
   "cell_type": "code",
   "execution_count": 54,
   "metadata": {},
   "outputs": [
    {
     "data": {
      "text/plain": [
       "Index(['Release_Date', 'Movie', 'Distributor', 'Budget', 'US Gross',\n",
       "       'Worldwide Gross'],\n",
       "      dtype='object')"
      ]
     },
     "execution_count": 54,
     "metadata": {},
     "output_type": "execute_result"
    }
   ],
   "source": [
    "movies.columns"
   ]
  },
  {
   "cell_type": "code",
   "execution_count": 55,
   "metadata": {},
   "outputs": [
    {
     "data": {
      "text/plain": [
       "Release_Date       object\n",
       "Movie              object\n",
       "Distributor        object\n",
       "Budget              int64\n",
       "US Gross           object\n",
       "Worldwide Gross    object\n",
       "dtype: object"
      ]
     },
     "execution_count": 55,
     "metadata": {},
     "output_type": "execute_result"
    }
   ],
   "source": [
    "movies.dtypes"
   ]
  },
  {
   "cell_type": "markdown",
   "metadata": {},
   "source": [
    "Looks pretty good, up until the end. We've got the correct column names, and a correct-seeming number of values. But we know that Budget, US Gross and Worldwide Gross are all supposed to be numbers; why is it reading them in as objects (which, in cases like this, generally means 'strings', since Pandas doesn't provide an explicit string datatype the way it does for ints and floats).\n",
    "\n",
    "As you may remember from last week, missing values were actually filled with a text string denoting this. Helpfully, *read_csv* lets you specify one or more 'na_values' which it should read as indicating missing data. To figure out what we should include there, however, we can use the *unique()* method, which returns all the unique values of a Series:"
   ]
  },
  {
   "cell_type": "code",
   "execution_count": 56,
   "metadata": {},
   "outputs": [
    {
     "data": {
      "text/plain": [
       "array(['66439100', '309420425', 'Unknown', ..., '48482', '1338', '181041'],\n",
       "      dtype=object)"
      ]
     },
     "execution_count": 56,
     "metadata": {},
     "output_type": "execute_result"
    }
   ],
   "source": [
    "movies[\"US Gross\"].unique()"
   ]
  },
  {
   "cell_type": "markdown",
   "metadata": {},
   "source": [
    "Ah, see it? It's the word 'Unknown', so let's give that as our N/A Value:"
   ]
  },
  {
   "cell_type": "code",
   "execution_count": 57,
   "metadata": {},
   "outputs": [],
   "source": [
    "movies = pd.read_csv(\"MovieData.csv\", sep='\\t', na_values=\"Unknown\")"
   ]
  },
  {
   "cell_type": "code",
   "execution_count": 58,
   "metadata": {},
   "outputs": [
    {
     "data": {
      "text/plain": [
       "Release_Date        object\n",
       "Movie               object\n",
       "Distributor         object\n",
       "Budget               int64\n",
       "US Gross           float64\n",
       "Worldwide Gross     object\n",
       "dtype: object"
      ]
     },
     "execution_count": 58,
     "metadata": {},
     "output_type": "execute_result"
    }
   ],
   "source": [
    "movies.dtypes"
   ]
  },
  {
   "cell_type": "markdown",
   "metadata": {},
   "source": [
    "Almost there! US Gross is now a numeric column, but Worldwide Gross isn't. So let's check again:"
   ]
  },
  {
   "cell_type": "code",
   "execution_count": 59,
   "metadata": {},
   "outputs": [
    {
     "data": {
      "text/plain": [
       "array(['254439100', '960996492', nan, ..., '71644', '240495', 'Unkno'],\n",
       "      dtype=object)"
      ]
     },
     "execution_count": 59,
     "metadata": {},
     "output_type": "execute_result"
    }
   ],
   "source": [
    "movies[\"Worldwide Gross\"].unique()"
   ]
  },
  {
   "cell_type": "markdown",
   "metadata": {},
   "source": [
    "It looks like at least one record has 'Unkno' as its value. Luckily, we can pass *na_values* a list of values, and it will treat all of them as indicators of no data.\n",
    "\n",
    "(Incidentally, to make your code more readable, you can insert line-breaks inside of parentheses, and Python will treat them as the same line)"
   ]
  },
  {
   "cell_type": "code",
   "execution_count": 60,
   "metadata": {},
   "outputs": [],
   "source": [
    "movies = pd.read_csv(\"MovieData.csv\", sep='\\t', \n",
    "                         na_values=[\"Unknown\", \"Unkno\"])"
   ]
  },
  {
   "cell_type": "code",
   "execution_count": 61,
   "metadata": {},
   "outputs": [
    {
     "data": {
      "text/plain": [
       "Release_Date        object\n",
       "Movie               object\n",
       "Distributor         object\n",
       "Budget               int64\n",
       "US Gross           float64\n",
       "Worldwide Gross    float64\n",
       "dtype: object"
      ]
     },
     "execution_count": 61,
     "metadata": {},
     "output_type": "execute_result"
    }
   ],
   "source": [
    "movies.dtypes"
   ]
  },
  {
   "cell_type": "markdown",
   "metadata": {},
   "source": [
    "There we go!"
   ]
  },
  {
   "cell_type": "code",
   "execution_count": 62,
   "metadata": {},
   "outputs": [
    {
     "data": {
      "text/html": [
       "<div>\n",
       "<style scoped>\n",
       "    .dataframe tbody tr th:only-of-type {\n",
       "        vertical-align: middle;\n",
       "    }\n",
       "\n",
       "    .dataframe tbody tr th {\n",
       "        vertical-align: top;\n",
       "    }\n",
       "\n",
       "    .dataframe thead th {\n",
       "        text-align: right;\n",
       "    }\n",
       "</style>\n",
       "<table border=\"1\" class=\"dataframe\">\n",
       "  <thead>\n",
       "    <tr style=\"text-align: right;\">\n",
       "      <th></th>\n",
       "      <th>Release_Date</th>\n",
       "      <th>Movie</th>\n",
       "      <th>Distributor</th>\n",
       "      <th>Budget</th>\n",
       "      <th>US Gross</th>\n",
       "      <th>Worldwide Gross</th>\n",
       "    </tr>\n",
       "  </thead>\n",
       "  <tbody>\n",
       "    <tr>\n",
       "      <th>0</th>\n",
       "      <td>03/09/12</td>\n",
       "      <td>John Carter</td>\n",
       "      <td>NaN</td>\n",
       "      <td>300000000</td>\n",
       "      <td>66439100.0</td>\n",
       "      <td>254439100.0</td>\n",
       "    </tr>\n",
       "    <tr>\n",
       "      <th>1</th>\n",
       "      <td>05/25/07</td>\n",
       "      <td>Pirates of the Caribbean: At World's End</td>\n",
       "      <td>Buena Vista</td>\n",
       "      <td>300000000</td>\n",
       "      <td>309420425.0</td>\n",
       "      <td>960996492.0</td>\n",
       "    </tr>\n",
       "    <tr>\n",
       "      <th>2</th>\n",
       "      <td>12/13/13</td>\n",
       "      <td>The Hobbit: There and Back Again</td>\n",
       "      <td>New Line</td>\n",
       "      <td>270000000</td>\n",
       "      <td>NaN</td>\n",
       "      <td>NaN</td>\n",
       "    </tr>\n",
       "    <tr>\n",
       "      <th>3</th>\n",
       "      <td>12/14/12</td>\n",
       "      <td>The Hobbit: An Unexpected Journey</td>\n",
       "      <td>New Line</td>\n",
       "      <td>270000000</td>\n",
       "      <td>NaN</td>\n",
       "      <td>NaN</td>\n",
       "    </tr>\n",
       "    <tr>\n",
       "      <th>4</th>\n",
       "      <td>11/24/10</td>\n",
       "      <td>Tangled</td>\n",
       "      <td>Buena Vista</td>\n",
       "      <td>260000000</td>\n",
       "      <td>200821936.0</td>\n",
       "      <td>586581936.0</td>\n",
       "    </tr>\n",
       "  </tbody>\n",
       "</table>\n",
       "</div>"
      ],
      "text/plain": [
       "  Release_Date                                     Movie  Distributor  \\\n",
       "0     03/09/12                               John Carter          NaN   \n",
       "1     05/25/07  Pirates of the Caribbean: At World's End  Buena Vista   \n",
       "2     12/13/13          The Hobbit: There and Back Again     New Line   \n",
       "3     12/14/12         The Hobbit: An Unexpected Journey     New Line   \n",
       "4     11/24/10                                   Tangled  Buena Vista   \n",
       "\n",
       "      Budget     US Gross  Worldwide Gross  \n",
       "0  300000000   66439100.0      254439100.0  \n",
       "1  300000000  309420425.0      960996492.0  \n",
       "2  270000000          NaN              NaN  \n",
       "3  270000000          NaN              NaN  \n",
       "4  260000000  200821936.0      586581936.0  "
      ]
     },
     "execution_count": 62,
     "metadata": {},
     "output_type": "execute_result"
    }
   ],
   "source": [
    "movies.head()"
   ]
  },
  {
   "cell_type": "markdown",
   "metadata": {},
   "source": [
    "Notice the 'NaN' cells -- NaN stands for Not a Number. If we want, we can replace NaN values with 0s using the *fillna(...)* method:"
   ]
  },
  {
   "cell_type": "code",
   "execution_count": 63,
   "metadata": {},
   "outputs": [],
   "source": [
    "movies = movies.fillna(0)"
   ]
  },
  {
   "cell_type": "markdown",
   "metadata": {},
   "source": [
    "(It probably isn't best analytic practice to assume that missing data is just zero, but we'll do it now anyway for demonstration purposes)"
   ]
  },
  {
   "cell_type": "code",
   "execution_count": 64,
   "metadata": {},
   "outputs": [
    {
     "data": {
      "text/html": [
       "<div>\n",
       "<style scoped>\n",
       "    .dataframe tbody tr th:only-of-type {\n",
       "        vertical-align: middle;\n",
       "    }\n",
       "\n",
       "    .dataframe tbody tr th {\n",
       "        vertical-align: top;\n",
       "    }\n",
       "\n",
       "    .dataframe thead th {\n",
       "        text-align: right;\n",
       "    }\n",
       "</style>\n",
       "<table border=\"1\" class=\"dataframe\">\n",
       "  <thead>\n",
       "    <tr style=\"text-align: right;\">\n",
       "      <th></th>\n",
       "      <th>Release_Date</th>\n",
       "      <th>Movie</th>\n",
       "      <th>Distributor</th>\n",
       "      <th>Budget</th>\n",
       "      <th>US Gross</th>\n",
       "      <th>Worldwide Gross</th>\n",
       "    </tr>\n",
       "  </thead>\n",
       "  <tbody>\n",
       "    <tr>\n",
       "      <th>3622</th>\n",
       "      <td>05/26/06</td>\n",
       "      <td>Cavite</td>\n",
       "      <td>Truly Indie</td>\n",
       "      <td>7000</td>\n",
       "      <td>70071.0</td>\n",
       "      <td>71644.0</td>\n",
       "    </tr>\n",
       "    <tr>\n",
       "      <th>3623</th>\n",
       "      <td>01/01/04</td>\n",
       "      <td>The Mongol King</td>\n",
       "      <td>CustomFlix</td>\n",
       "      <td>7000</td>\n",
       "      <td>900.0</td>\n",
       "      <td>0.0</td>\n",
       "    </tr>\n",
       "    <tr>\n",
       "      <th>3624</th>\n",
       "      <td>04/04/99</td>\n",
       "      <td>Following</td>\n",
       "      <td>Zeitgeist</td>\n",
       "      <td>6000</td>\n",
       "      <td>48482.0</td>\n",
       "      <td>240495.0</td>\n",
       "    </tr>\n",
       "    <tr>\n",
       "      <th>3625</th>\n",
       "      <td>07/13/05</td>\n",
       "      <td>Return to the Land of Wonders</td>\n",
       "      <td>0</td>\n",
       "      <td>5000</td>\n",
       "      <td>1338.0</td>\n",
       "      <td>0.0</td>\n",
       "    </tr>\n",
       "    <tr>\n",
       "      <th>3626</th>\n",
       "      <td>08/05/05</td>\n",
       "      <td>My Date With Drew</td>\n",
       "      <td>0</td>\n",
       "      <td>1100</td>\n",
       "      <td>181041.0</td>\n",
       "      <td>0.0</td>\n",
       "    </tr>\n",
       "  </tbody>\n",
       "</table>\n",
       "</div>"
      ],
      "text/plain": [
       "     Release_Date                          Movie  Distributor  Budget  \\\n",
       "3622     05/26/06                         Cavite  Truly Indie    7000   \n",
       "3623     01/01/04                The Mongol King   CustomFlix    7000   \n",
       "3624     04/04/99                      Following    Zeitgeist    6000   \n",
       "3625     07/13/05  Return to the Land of Wonders            0    5000   \n",
       "3626     08/05/05              My Date With Drew            0    1100   \n",
       "\n",
       "      US Gross  Worldwide Gross  \n",
       "3622   70071.0          71644.0  \n",
       "3623     900.0              0.0  \n",
       "3624   48482.0         240495.0  \n",
       "3625    1338.0              0.0  \n",
       "3626  181041.0              0.0  "
      ]
     },
     "execution_count": 64,
     "metadata": {},
     "output_type": "execute_result"
    }
   ],
   "source": [
    "movies.tail()"
   ]
  },
  {
   "cell_type": "markdown",
   "metadata": {},
   "source": [
    "Like before, though, we want to be able to actually work with the dates. We can tell pandas to parse one or more columns as dates when it loads the data, using the *parse_dates* parameter. If we assign a list of column numbers to it, it will attempt to automatically parse those columns as dates:"
   ]
  },
  {
   "cell_type": "code",
   "execution_count": 65,
   "metadata": {},
   "outputs": [],
   "source": [
    "movies = pd.read_csv(\"MovieData.csv\", sep='\\t', \n",
    "                         na_values=[\"Unknown\", \"Unkno\"], parse_dates=[0])"
   ]
  },
  {
   "cell_type": "code",
   "execution_count": 66,
   "metadata": {},
   "outputs": [
    {
     "data": {
      "text/plain": [
       "Release_Date       datetime64[ns]\n",
       "Movie                      object\n",
       "Distributor                object\n",
       "Budget                      int64\n",
       "US Gross                  float64\n",
       "Worldwide Gross           float64\n",
       "dtype: object"
      ]
     },
     "execution_count": 66,
     "metadata": {},
     "output_type": "execute_result"
    }
   ],
   "source": [
    "movies.dtypes"
   ]
  },
  {
   "cell_type": "markdown",
   "metadata": {},
   "source": [
    "As you can see, the Release_Date column has been read as a datetime object. Now, to check whether it's parsed it correctly:"
   ]
  },
  {
   "cell_type": "code",
   "execution_count": 67,
   "metadata": {},
   "outputs": [
    {
     "data": {
      "text/plain": [
       "Timestamp('1968-01-01 00:00:00')"
      ]
     },
     "execution_count": 67,
     "metadata": {},
     "output_type": "execute_result"
    }
   ],
   "source": [
    "min(movies[\"Release_Date\"])"
   ]
  },
  {
   "cell_type": "code",
   "execution_count": 68,
   "metadata": {},
   "outputs": [
    {
     "data": {
      "text/plain": [
       "Timestamp('2067-12-29 00:00:00')"
      ]
     },
     "execution_count": 68,
     "metadata": {},
     "output_type": "execute_result"
    }
   ],
   "source": [
    "max(movies.Release_Date)"
   ]
  },
  {
   "cell_type": "markdown",
   "metadata": {},
   "source": [
    "So it looks like the built-in date parser isn't very good at figuring out which dates are in the 20th century, and which are in the 21st. Fortunately, we already solved this problem last week; we can bring in our custom parser, and tell Pandas to use that, using the *date_parser* parameter."
   ]
  },
  {
   "cell_type": "code",
   "execution_count": 69,
   "metadata": {},
   "outputs": [],
   "source": [
    "def make_date(date_str):\n",
    "    '''\n",
    "    Turn a MM/DD/YY string into a datetime object\n",
    "    '''\n",
    "    m, d, y = date_str.split(\"/\")\n",
    "    m = int(m)\n",
    "    d = int(d)\n",
    "    y = int(y)\n",
    "    if y > 13:\n",
    "        y += 1900\n",
    "    else:\n",
    "        y += 2000\n",
    "    return dt.datetime(y, m, d)"
   ]
  },
  {
   "cell_type": "code",
   "execution_count": 70,
   "metadata": {},
   "outputs": [],
   "source": [
    "movies = pd.read_csv(\"MovieData.csv\", sep='\\t', na_values=[\"Unknown\", \"Unkno\"], \n",
    "                         parse_dates=[0], date_parser=make_date)"
   ]
  },
  {
   "cell_type": "markdown",
   "metadata": {},
   "source": [
    "Notice that we're only passing the name of the function, without the usual parentheses. Conceptually, think of this as simply passing the name of our parser function, which the *read_csv(...)* function can call on its own. For each entry, pandas will automatically call the function, and put its return value in the column. (More technically, functions in Python are first-class objects, and can be passed as arguments just like any other data type)."
   ]
  },
  {
   "cell_type": "code",
   "execution_count": 71,
   "metadata": {},
   "outputs": [],
   "source": [
    "movies = movies.fillna(0)"
   ]
  },
  {
   "cell_type": "code",
   "execution_count": 72,
   "metadata": {},
   "outputs": [
    {
     "name": "stdout",
     "output_type": "stream",
     "text": [
      "2013-12-13 00:00:00\n",
      "1915-02-08 00:00:00\n"
     ]
    }
   ],
   "source": [
    "print(movies.Release_Date.max())\n",
    "print(movies.Release_Date.min())"
   ]
  },
  {
   "cell_type": "markdown",
   "metadata": {},
   "source": [
    "There, that's better.\n",
    "\n",
    "I mentioned earlier that we can easily create columns from other columns. Now that we have data, let's look at it again:"
   ]
  },
  {
   "cell_type": "code",
   "execution_count": 73,
   "metadata": {},
   "outputs": [],
   "source": [
    "movies[\"Non_US_Gross\"] = movies[\"Worldwide Gross\"] - movies[\"US Gross\"]"
   ]
  },
  {
   "cell_type": "markdown",
   "metadata": {},
   "source": [
    "For each movie, the value of the \"Non_US_Gross\" will be its Worldwide Gross minus its US Gross. The underscore in the name aren't mandatory, but they let us reference the column like this:"
   ]
  },
  {
   "cell_type": "code",
   "execution_count": 74,
   "metadata": {},
   "outputs": [
    {
     "data": {
      "text/plain": [
       "-184925485.0"
      ]
     },
     "execution_count": 74,
     "metadata": {},
     "output_type": "execute_result"
    }
   ],
   "source": [
    "movies.Non_US_Gross.min()"
   ]
  },
  {
   "cell_type": "markdown",
   "metadata": {},
   "source": [
    "As you see above, *min()* (and *max()* as well) are built-in series functions, which can be called for columns as well. However, the Non-US Gross shouldn't be negative, since the Worldwide Gross is supposed to be inclusive of US Gross. So we want to take a closer look at those rows to figure out what's going on."
   ]
  },
  {
   "cell_type": "markdown",
   "metadata": {},
   "source": [
    "## Subsetting\n",
    "\n",
    "Just because we have one big dataset doesn't mean we want to work with it all at once. Often --- like right now -- we want to be able to select only a subset of the data. In pandas, we do this by putting the condition we're selecting on in square brackets. For example, if we want only movies where the Non-US Gross is negative, we do:"
   ]
  },
  {
   "cell_type": "code",
   "execution_count": 75,
   "metadata": {},
   "outputs": [
    {
     "data": {
      "text/html": [
       "<div>\n",
       "<style scoped>\n",
       "    .dataframe tbody tr th:only-of-type {\n",
       "        vertical-align: middle;\n",
       "    }\n",
       "\n",
       "    .dataframe tbody tr th {\n",
       "        vertical-align: top;\n",
       "    }\n",
       "\n",
       "    .dataframe thead th {\n",
       "        text-align: right;\n",
       "    }\n",
       "</style>\n",
       "<table border=\"1\" class=\"dataframe\">\n",
       "  <thead>\n",
       "    <tr style=\"text-align: right;\">\n",
       "      <th></th>\n",
       "      <th>Release_Date</th>\n",
       "      <th>Movie</th>\n",
       "      <th>Distributor</th>\n",
       "      <th>Budget</th>\n",
       "      <th>US Gross</th>\n",
       "      <th>Worldwide Gross</th>\n",
       "      <th>Non_US_Gross</th>\n",
       "    </tr>\n",
       "  </thead>\n",
       "  <tbody>\n",
       "    <tr>\n",
       "      <th>272</th>\n",
       "      <td>1998-11-13</td>\n",
       "      <td>Meet Joe Black</td>\n",
       "      <td>Universal</td>\n",
       "      <td>85000000</td>\n",
       "      <td>44650003.0</td>\n",
       "      <td>0.0</td>\n",
       "      <td>-44650003.0</td>\n",
       "    </tr>\n",
       "    <tr>\n",
       "      <th>274</th>\n",
       "      <td>2000-11-22</td>\n",
       "      <td>102 Dalmatians</td>\n",
       "      <td>Buena Vista</td>\n",
       "      <td>85000000</td>\n",
       "      <td>66941559.0</td>\n",
       "      <td>0.0</td>\n",
       "      <td>-66941559.0</td>\n",
       "    </tr>\n",
       "    <tr>\n",
       "      <th>280</th>\n",
       "      <td>2012-03-30</td>\n",
       "      <td>Mirror Mirror</td>\n",
       "      <td>0</td>\n",
       "      <td>85000000</td>\n",
       "      <td>19662216.0</td>\n",
       "      <td>0.0</td>\n",
       "      <td>-19662216.0</td>\n",
       "    </tr>\n",
       "    <tr>\n",
       "      <th>313</th>\n",
       "      <td>2000-01-01</td>\n",
       "      <td>Fantasia 2000 (IMAX)</td>\n",
       "      <td>Buena Vista</td>\n",
       "      <td>80000000</td>\n",
       "      <td>60507228.0</td>\n",
       "      <td>0.0</td>\n",
       "      <td>-60507228.0</td>\n",
       "    </tr>\n",
       "    <tr>\n",
       "      <th>321</th>\n",
       "      <td>2000-06-16</td>\n",
       "      <td>Fantasia 2000 (Theatrical Release)</td>\n",
       "      <td>Buena Vista</td>\n",
       "      <td>80000000</td>\n",
       "      <td>9103630.0</td>\n",
       "      <td>0.0</td>\n",
       "      <td>-9103630.0</td>\n",
       "    </tr>\n",
       "    <tr>\n",
       "      <th>324</th>\n",
       "      <td>1998-12-25</td>\n",
       "      <td>Mighty Joe Young</td>\n",
       "      <td>Buena Vista</td>\n",
       "      <td>80000000</td>\n",
       "      <td>50632037.0</td>\n",
       "      <td>0.0</td>\n",
       "      <td>-50632037.0</td>\n",
       "    </tr>\n",
       "    <tr>\n",
       "      <th>339</th>\n",
       "      <td>1997-12-25</td>\n",
       "      <td>The Postman</td>\n",
       "      <td>Warner Bros.</td>\n",
       "      <td>80000000</td>\n",
       "      <td>17650704.0</td>\n",
       "      <td>0.0</td>\n",
       "      <td>-17650704.0</td>\n",
       "    </tr>\n",
       "    <tr>\n",
       "      <th>384</th>\n",
       "      <td>1999-07-23</td>\n",
       "      <td>Inspector Gadget</td>\n",
       "      <td>Buena Vista</td>\n",
       "      <td>75000000</td>\n",
       "      <td>97387965.0</td>\n",
       "      <td>0.0</td>\n",
       "      <td>-97387965.0</td>\n",
       "    </tr>\n",
       "    <tr>\n",
       "      <th>390</th>\n",
       "      <td>1999-12-17</td>\n",
       "      <td>Anna and the King</td>\n",
       "      <td>20th Century Fox</td>\n",
       "      <td>75000000</td>\n",
       "      <td>39251128.0</td>\n",
       "      <td>0.0</td>\n",
       "      <td>-39251128.0</td>\n",
       "    </tr>\n",
       "    <tr>\n",
       "      <th>397</th>\n",
       "      <td>1998-10-23</td>\n",
       "      <td>Soldier</td>\n",
       "      <td>Warner Bros.</td>\n",
       "      <td>75000000</td>\n",
       "      <td>14623082.0</td>\n",
       "      <td>0.0</td>\n",
       "      <td>-14623082.0</td>\n",
       "    </tr>\n",
       "    <tr>\n",
       "      <th>405</th>\n",
       "      <td>2001-02-23</td>\n",
       "      <td>Monkeybone</td>\n",
       "      <td>20th Century Fox</td>\n",
       "      <td>75000000</td>\n",
       "      <td>5409517.0</td>\n",
       "      <td>0.0</td>\n",
       "      <td>-5409517.0</td>\n",
       "    </tr>\n",
       "    <tr>\n",
       "      <th>434</th>\n",
       "      <td>1998-01-16</td>\n",
       "      <td>Hard Rain</td>\n",
       "      <td>Paramount Pictures</td>\n",
       "      <td>70000000</td>\n",
       "      <td>19870567.0</td>\n",
       "      <td>0.0</td>\n",
       "      <td>-19870567.0</td>\n",
       "    </tr>\n",
       "    <tr>\n",
       "      <th>449</th>\n",
       "      <td>2002-09-20</td>\n",
       "      <td>Ballistic: Ecks vs. Sever</td>\n",
       "      <td>Warner Bros.</td>\n",
       "      <td>70000000</td>\n",
       "      <td>14294842.0</td>\n",
       "      <td>0.0</td>\n",
       "      <td>-14294842.0</td>\n",
       "    </tr>\n",
       "    <tr>\n",
       "      <th>465</th>\n",
       "      <td>2001-08-10</td>\n",
       "      <td>Osmosis Jones</td>\n",
       "      <td>Warner Bros.</td>\n",
       "      <td>70000000</td>\n",
       "      <td>13596911.0</td>\n",
       "      <td>0.0</td>\n",
       "      <td>-13596911.0</td>\n",
       "    </tr>\n",
       "    <tr>\n",
       "      <th>471</th>\n",
       "      <td>1989-08-09</td>\n",
       "      <td>The Abyss</td>\n",
       "      <td>20th Century Fox</td>\n",
       "      <td>70000000</td>\n",
       "      <td>54243125.0</td>\n",
       "      <td>0.0</td>\n",
       "      <td>-54243125.0</td>\n",
       "    </tr>\n",
       "    <tr>\n",
       "      <th>483</th>\n",
       "      <td>1996-09-20</td>\n",
       "      <td>Last Man Standing</td>\n",
       "      <td>New Line</td>\n",
       "      <td>67000000</td>\n",
       "      <td>18115927.0</td>\n",
       "      <td>0.0</td>\n",
       "      <td>-18115927.0</td>\n",
       "    </tr>\n",
       "    <tr>\n",
       "      <th>489</th>\n",
       "      <td>2000-10-27</td>\n",
       "      <td>Lucky Numbers</td>\n",
       "      <td>Paramount Pictures</td>\n",
       "      <td>65000000</td>\n",
       "      <td>10014234.0</td>\n",
       "      <td>0.0</td>\n",
       "      <td>-10014234.0</td>\n",
       "    </tr>\n",
       "    <tr>\n",
       "      <th>492</th>\n",
       "      <td>2000-07-07</td>\n",
       "      <td>The Kid</td>\n",
       "      <td>Buena Vista</td>\n",
       "      <td>65000000</td>\n",
       "      <td>69688384.0</td>\n",
       "      <td>0.0</td>\n",
       "      <td>-69688384.0</td>\n",
       "    </tr>\n",
       "    <tr>\n",
       "      <th>494</th>\n",
       "      <td>1991-05-24</td>\n",
       "      <td>Hudson Hawk</td>\n",
       "      <td>Sony</td>\n",
       "      <td>65000000</td>\n",
       "      <td>17218916.0</td>\n",
       "      <td>0.0</td>\n",
       "      <td>-17218916.0</td>\n",
       "    </tr>\n",
       "    <tr>\n",
       "      <th>513</th>\n",
       "      <td>1996-10-11</td>\n",
       "      <td>The Long Kiss Goodnight</td>\n",
       "      <td>New Line</td>\n",
       "      <td>65000000</td>\n",
       "      <td>33447612.0</td>\n",
       "      <td>0.0</td>\n",
       "      <td>-33447612.0</td>\n",
       "    </tr>\n",
       "    <tr>\n",
       "      <th>519</th>\n",
       "      <td>1998-03-20</td>\n",
       "      <td>Primary Colors</td>\n",
       "      <td>Universal</td>\n",
       "      <td>65000000</td>\n",
       "      <td>39017984.0</td>\n",
       "      <td>0.0</td>\n",
       "      <td>-39017984.0</td>\n",
       "    </tr>\n",
       "    <tr>\n",
       "      <th>523</th>\n",
       "      <td>1994-06-24</td>\n",
       "      <td>Wyatt Earp</td>\n",
       "      <td>Warner Bros.</td>\n",
       "      <td>63000000</td>\n",
       "      <td>25052000.0</td>\n",
       "      <td>0.0</td>\n",
       "      <td>-25052000.0</td>\n",
       "    </tr>\n",
       "    <tr>\n",
       "      <th>538</th>\n",
       "      <td>1998-04-03</td>\n",
       "      <td>Mercury Rising</td>\n",
       "      <td>Universal</td>\n",
       "      <td>60000000</td>\n",
       "      <td>32983332.0</td>\n",
       "      <td>0.0</td>\n",
       "      <td>-32983332.0</td>\n",
       "    </tr>\n",
       "    <tr>\n",
       "      <th>553</th>\n",
       "      <td>1998-10-09</td>\n",
       "      <td>Holy Man</td>\n",
       "      <td>Buena Vista</td>\n",
       "      <td>60000000</td>\n",
       "      <td>12069719.0</td>\n",
       "      <td>0.0</td>\n",
       "      <td>-12069719.0</td>\n",
       "    </tr>\n",
       "    <tr>\n",
       "      <th>562</th>\n",
       "      <td>1999-02-12</td>\n",
       "      <td>My Favorite Martian</td>\n",
       "      <td>Buena Vista</td>\n",
       "      <td>60000000</td>\n",
       "      <td>36850101.0</td>\n",
       "      <td>0.0</td>\n",
       "      <td>-36850101.0</td>\n",
       "    </tr>\n",
       "    <tr>\n",
       "      <th>580</th>\n",
       "      <td>2000-01-14</td>\n",
       "      <td>Supernova</td>\n",
       "      <td>MGM/UA</td>\n",
       "      <td>60000000</td>\n",
       "      <td>14218868.0</td>\n",
       "      <td>0.0</td>\n",
       "      <td>-14218868.0</td>\n",
       "    </tr>\n",
       "    <tr>\n",
       "      <th>585</th>\n",
       "      <td>1998-12-25</td>\n",
       "      <td>A Civil Action</td>\n",
       "      <td>Buena Vista</td>\n",
       "      <td>60000000</td>\n",
       "      <td>56709981.0</td>\n",
       "      <td>0.0</td>\n",
       "      <td>-56709981.0</td>\n",
       "    </tr>\n",
       "    <tr>\n",
       "      <th>590</th>\n",
       "      <td>1997-01-10</td>\n",
       "      <td>The Relic</td>\n",
       "      <td>Paramount Pictures</td>\n",
       "      <td>60000000</td>\n",
       "      <td>33956608.0</td>\n",
       "      <td>0.0</td>\n",
       "      <td>-33956608.0</td>\n",
       "    </tr>\n",
       "    <tr>\n",
       "      <th>598</th>\n",
       "      <td>2002-09-27</td>\n",
       "      <td>The Tuxedo</td>\n",
       "      <td>DreamWorks SKG</td>\n",
       "      <td>60000000</td>\n",
       "      <td>50586000.0</td>\n",
       "      <td>0.0</td>\n",
       "      <td>-50586000.0</td>\n",
       "    </tr>\n",
       "    <tr>\n",
       "      <th>600</th>\n",
       "      <td>1997-08-15</td>\n",
       "      <td>Event Horizon</td>\n",
       "      <td>Paramount Pictures</td>\n",
       "      <td>60000000</td>\n",
       "      <td>26673242.0</td>\n",
       "      <td>0.0</td>\n",
       "      <td>-26673242.0</td>\n",
       "    </tr>\n",
       "    <tr>\n",
       "      <th>...</th>\n",
       "      <td>...</td>\n",
       "      <td>...</td>\n",
       "      <td>...</td>\n",
       "      <td>...</td>\n",
       "      <td>...</td>\n",
       "      <td>...</td>\n",
       "      <td>...</td>\n",
       "    </tr>\n",
       "    <tr>\n",
       "      <th>3584</th>\n",
       "      <td>2005-01-28</td>\n",
       "      <td>Peace, Propaganda and the Promised Land</td>\n",
       "      <td>0</td>\n",
       "      <td>70000</td>\n",
       "      <td>4930.0</td>\n",
       "      <td>0.0</td>\n",
       "      <td>-4930.0</td>\n",
       "    </tr>\n",
       "    <tr>\n",
       "      <th>3586</th>\n",
       "      <td>1998-02-20</td>\n",
       "      <td>I Love You … Don't Touch Me!</td>\n",
       "      <td>MGM/UA</td>\n",
       "      <td>68000</td>\n",
       "      <td>33598.0</td>\n",
       "      <td>0.0</td>\n",
       "      <td>-33598.0</td>\n",
       "    </tr>\n",
       "    <tr>\n",
       "      <th>3590</th>\n",
       "      <td>1995-08-09</td>\n",
       "      <td>The Brothers McMullen</td>\n",
       "      <td>Fox Searchlight</td>\n",
       "      <td>50000</td>\n",
       "      <td>10426506.0</td>\n",
       "      <td>0.0</td>\n",
       "      <td>-10426506.0</td>\n",
       "    </tr>\n",
       "    <tr>\n",
       "      <th>3591</th>\n",
       "      <td>2001-03-16</td>\n",
       "      <td>Gabriela</td>\n",
       "      <td>Power Point</td>\n",
       "      <td>50000</td>\n",
       "      <td>2335352.0</td>\n",
       "      <td>0.0</td>\n",
       "      <td>-2335352.0</td>\n",
       "    </tr>\n",
       "    <tr>\n",
       "      <th>3592</th>\n",
       "      <td>2010-11-12</td>\n",
       "      <td>Tiny Furniture</td>\n",
       "      <td>0</td>\n",
       "      <td>50000</td>\n",
       "      <td>391674.0</td>\n",
       "      <td>0.0</td>\n",
       "      <td>-391674.0</td>\n",
       "    </tr>\n",
       "    <tr>\n",
       "      <th>3594</th>\n",
       "      <td>2010-03-12</td>\n",
       "      <td>The Exploding Girl</td>\n",
       "      <td>Oscilloscope</td>\n",
       "      <td>40000</td>\n",
       "      <td>25572.0</td>\n",
       "      <td>0.0</td>\n",
       "      <td>-25572.0</td>\n",
       "    </tr>\n",
       "    <tr>\n",
       "      <th>3595</th>\n",
       "      <td>2000-08-25</td>\n",
       "      <td>Smiling Fish and Goat on Fire</td>\n",
       "      <td>IDP/Stratosphere</td>\n",
       "      <td>40000</td>\n",
       "      <td>277233.0</td>\n",
       "      <td>0.0</td>\n",
       "      <td>-277233.0</td>\n",
       "    </tr>\n",
       "    <tr>\n",
       "      <th>3596</th>\n",
       "      <td>2002-04-05</td>\n",
       "      <td>The Last Waltz</td>\n",
       "      <td>MGM/UA</td>\n",
       "      <td>35000</td>\n",
       "      <td>321952.0</td>\n",
       "      <td>0.0</td>\n",
       "      <td>-321952.0</td>\n",
       "    </tr>\n",
       "    <tr>\n",
       "      <th>3597</th>\n",
       "      <td>2005-04-29</td>\n",
       "      <td>Funny Ha Ha</td>\n",
       "      <td>0</td>\n",
       "      <td>30000</td>\n",
       "      <td>77070.0</td>\n",
       "      <td>0.0</td>\n",
       "      <td>-77070.0</td>\n",
       "    </tr>\n",
       "    <tr>\n",
       "      <th>3598</th>\n",
       "      <td>2010-10-15</td>\n",
       "      <td>Down Terrace</td>\n",
       "      <td>0</td>\n",
       "      <td>30000</td>\n",
       "      <td>9812.0</td>\n",
       "      <td>0.0</td>\n",
       "      <td>-9812.0</td>\n",
       "    </tr>\n",
       "    <tr>\n",
       "      <th>3599</th>\n",
       "      <td>2006-09-01</td>\n",
       "      <td>Mutual Appreciation</td>\n",
       "      <td>0</td>\n",
       "      <td>30000</td>\n",
       "      <td>103509.0</td>\n",
       "      <td>0.0</td>\n",
       "      <td>-103509.0</td>\n",
       "    </tr>\n",
       "    <tr>\n",
       "      <th>3600</th>\n",
       "      <td>1999-12-24</td>\n",
       "      <td>Pink Narcissus</td>\n",
       "      <td>Strand</td>\n",
       "      <td>27000</td>\n",
       "      <td>8231.0</td>\n",
       "      <td>0.0</td>\n",
       "      <td>-8231.0</td>\n",
       "    </tr>\n",
       "    <tr>\n",
       "      <th>3602</th>\n",
       "      <td>2000-01-14</td>\n",
       "      <td>The Terrorist</td>\n",
       "      <td>Phaedra</td>\n",
       "      <td>25000</td>\n",
       "      <td>195043.0</td>\n",
       "      <td>0.0</td>\n",
       "      <td>-195043.0</td>\n",
       "    </tr>\n",
       "    <tr>\n",
       "      <th>3604</th>\n",
       "      <td>1972-06-30</td>\n",
       "      <td>Deep Throat</td>\n",
       "      <td>Damiano</td>\n",
       "      <td>25000</td>\n",
       "      <td>45000000.0</td>\n",
       "      <td>0.0</td>\n",
       "      <td>-45000000.0</td>\n",
       "    </tr>\n",
       "    <tr>\n",
       "      <th>3605</th>\n",
       "      <td>1997-08-01</td>\n",
       "      <td>In the Company of Men</td>\n",
       "      <td>Sony Classics</td>\n",
       "      <td>25000</td>\n",
       "      <td>2883661.0</td>\n",
       "      <td>0.0</td>\n",
       "      <td>-2883661.0</td>\n",
       "    </tr>\n",
       "    <tr>\n",
       "      <th>3606</th>\n",
       "      <td>1991-08-01</td>\n",
       "      <td>Slacker</td>\n",
       "      <td>Orion Classics</td>\n",
       "      <td>23000</td>\n",
       "      <td>1227508.0</td>\n",
       "      <td>0.0</td>\n",
       "      <td>-1227508.0</td>\n",
       "    </tr>\n",
       "    <tr>\n",
       "      <th>3609</th>\n",
       "      <td>2010-04-02</td>\n",
       "      <td>Breaking Upwards</td>\n",
       "      <td>IFC Films</td>\n",
       "      <td>15000</td>\n",
       "      <td>115592.0</td>\n",
       "      <td>0.0</td>\n",
       "      <td>-115592.0</td>\n",
       "    </tr>\n",
       "    <tr>\n",
       "      <th>3610</th>\n",
       "      <td>2006-06-02</td>\n",
       "      <td>The Puffy Chair</td>\n",
       "      <td>0</td>\n",
       "      <td>15000</td>\n",
       "      <td>194523.0</td>\n",
       "      <td>0.0</td>\n",
       "      <td>-194523.0</td>\n",
       "    </tr>\n",
       "    <tr>\n",
       "      <th>3611</th>\n",
       "      <td>1997-04-11</td>\n",
       "      <td>Pink Flamingos</td>\n",
       "      <td>0</td>\n",
       "      <td>12000</td>\n",
       "      <td>413802.0</td>\n",
       "      <td>0.0</td>\n",
       "      <td>-413802.0</td>\n",
       "    </tr>\n",
       "    <tr>\n",
       "      <th>3612</th>\n",
       "      <td>2006-04-28</td>\n",
       "      <td>Grip: A Criminal's Story</td>\n",
       "      <td>0</td>\n",
       "      <td>12000</td>\n",
       "      <td>1336.0</td>\n",
       "      <td>0.0</td>\n",
       "      <td>-1336.0</td>\n",
       "    </tr>\n",
       "    <tr>\n",
       "      <th>3613</th>\n",
       "      <td>1996-04-01</td>\n",
       "      <td>Bang</td>\n",
       "      <td>JeTi Films</td>\n",
       "      <td>10000</td>\n",
       "      <td>527.0</td>\n",
       "      <td>0.0</td>\n",
       "      <td>-527.0</td>\n",
       "    </tr>\n",
       "    <tr>\n",
       "      <th>3614</th>\n",
       "      <td>2008-08-14</td>\n",
       "      <td>The Rise and Fall of Miss Thang</td>\n",
       "      <td>Lavender House</td>\n",
       "      <td>10000</td>\n",
       "      <td>401.0</td>\n",
       "      <td>0.0</td>\n",
       "      <td>-401.0</td>\n",
       "    </tr>\n",
       "    <tr>\n",
       "      <th>3615</th>\n",
       "      <td>2006-04-28</td>\n",
       "      <td>Clean</td>\n",
       "      <td>Palm Pictures</td>\n",
       "      <td>10000</td>\n",
       "      <td>138711.0</td>\n",
       "      <td>0.0</td>\n",
       "      <td>-138711.0</td>\n",
       "    </tr>\n",
       "    <tr>\n",
       "      <th>3616</th>\n",
       "      <td>2004-05-28</td>\n",
       "      <td>On the Down Low</td>\n",
       "      <td>Cinema con Sabor</td>\n",
       "      <td>10000</td>\n",
       "      <td>1987.0</td>\n",
       "      <td>0.0</td>\n",
       "      <td>-1987.0</td>\n",
       "    </tr>\n",
       "    <tr>\n",
       "      <th>3617</th>\n",
       "      <td>2001-07-06</td>\n",
       "      <td>Cure</td>\n",
       "      <td>Cowboy</td>\n",
       "      <td>10000</td>\n",
       "      <td>94596.0</td>\n",
       "      <td>0.0</td>\n",
       "      <td>-94596.0</td>\n",
       "    </tr>\n",
       "    <tr>\n",
       "      <th>3618</th>\n",
       "      <td>2001-03-09</td>\n",
       "      <td>Dayereh</td>\n",
       "      <td>Winstar</td>\n",
       "      <td>10000</td>\n",
       "      <td>673780.0</td>\n",
       "      <td>0.0</td>\n",
       "      <td>-673780.0</td>\n",
       "    </tr>\n",
       "    <tr>\n",
       "      <th>3619</th>\n",
       "      <td>2012-01-13</td>\n",
       "      <td>Newlyweds</td>\n",
       "      <td>0</td>\n",
       "      <td>9000</td>\n",
       "      <td>4584.0</td>\n",
       "      <td>0.0</td>\n",
       "      <td>-4584.0</td>\n",
       "    </tr>\n",
       "    <tr>\n",
       "      <th>3623</th>\n",
       "      <td>2004-01-01</td>\n",
       "      <td>The Mongol King</td>\n",
       "      <td>CustomFlix</td>\n",
       "      <td>7000</td>\n",
       "      <td>900.0</td>\n",
       "      <td>0.0</td>\n",
       "      <td>-900.0</td>\n",
       "    </tr>\n",
       "    <tr>\n",
       "      <th>3625</th>\n",
       "      <td>2005-07-13</td>\n",
       "      <td>Return to the Land of Wonders</td>\n",
       "      <td>0</td>\n",
       "      <td>5000</td>\n",
       "      <td>1338.0</td>\n",
       "      <td>0.0</td>\n",
       "      <td>-1338.0</td>\n",
       "    </tr>\n",
       "    <tr>\n",
       "      <th>3626</th>\n",
       "      <td>2005-08-05</td>\n",
       "      <td>My Date With Drew</td>\n",
       "      <td>0</td>\n",
       "      <td>1100</td>\n",
       "      <td>181041.0</td>\n",
       "      <td>0.0</td>\n",
       "      <td>-181041.0</td>\n",
       "    </tr>\n",
       "  </tbody>\n",
       "</table>\n",
       "<p>1212 rows × 7 columns</p>\n",
       "</div>"
      ],
      "text/plain": [
       "     Release_Date                                    Movie  \\\n",
       "272    1998-11-13                           Meet Joe Black   \n",
       "274    2000-11-22                           102 Dalmatians   \n",
       "280    2012-03-30                            Mirror Mirror   \n",
       "313    2000-01-01                     Fantasia 2000 (IMAX)   \n",
       "321    2000-06-16       Fantasia 2000 (Theatrical Release)   \n",
       "324    1998-12-25                         Mighty Joe Young   \n",
       "339    1997-12-25                              The Postman   \n",
       "384    1999-07-23                         Inspector Gadget   \n",
       "390    1999-12-17                        Anna and the King   \n",
       "397    1998-10-23                                  Soldier   \n",
       "405    2001-02-23                               Monkeybone   \n",
       "434    1998-01-16                                Hard Rain   \n",
       "449    2002-09-20                Ballistic: Ecks vs. Sever   \n",
       "465    2001-08-10                            Osmosis Jones   \n",
       "471    1989-08-09                                The Abyss   \n",
       "483    1996-09-20                        Last Man Standing   \n",
       "489    2000-10-27                            Lucky Numbers   \n",
       "492    2000-07-07                                  The Kid   \n",
       "494    1991-05-24                              Hudson Hawk   \n",
       "513    1996-10-11                  The Long Kiss Goodnight   \n",
       "519    1998-03-20                           Primary Colors   \n",
       "523    1994-06-24                               Wyatt Earp   \n",
       "538    1998-04-03                           Mercury Rising   \n",
       "553    1998-10-09                                 Holy Man   \n",
       "562    1999-02-12                      My Favorite Martian   \n",
       "580    2000-01-14                                Supernova   \n",
       "585    1998-12-25                           A Civil Action   \n",
       "590    1997-01-10                                The Relic   \n",
       "598    2002-09-27                               The Tuxedo   \n",
       "600    1997-08-15                            Event Horizon   \n",
       "...           ...                                      ...   \n",
       "3584   2005-01-28  Peace, Propaganda and the Promised Land   \n",
       "3586   1998-02-20             I Love You … Don't Touch Me!   \n",
       "3590   1995-08-09                    The Brothers McMullen   \n",
       "3591   2001-03-16                                 Gabriela   \n",
       "3592   2010-11-12                           Tiny Furniture   \n",
       "3594   2010-03-12                       The Exploding Girl   \n",
       "3595   2000-08-25            Smiling Fish and Goat on Fire   \n",
       "3596   2002-04-05                           The Last Waltz   \n",
       "3597   2005-04-29                              Funny Ha Ha   \n",
       "3598   2010-10-15                             Down Terrace   \n",
       "3599   2006-09-01                      Mutual Appreciation   \n",
       "3600   1999-12-24                           Pink Narcissus   \n",
       "3602   2000-01-14                            The Terrorist   \n",
       "3604   1972-06-30                              Deep Throat   \n",
       "3605   1997-08-01                    In the Company of Men   \n",
       "3606   1991-08-01                                  Slacker   \n",
       "3609   2010-04-02                         Breaking Upwards   \n",
       "3610   2006-06-02                          The Puffy Chair   \n",
       "3611   1997-04-11                           Pink Flamingos   \n",
       "3612   2006-04-28                 Grip: A Criminal's Story   \n",
       "3613   1996-04-01                                     Bang   \n",
       "3614   2008-08-14          The Rise and Fall of Miss Thang   \n",
       "3615   2006-04-28                                    Clean   \n",
       "3616   2004-05-28                          On the Down Low   \n",
       "3617   2001-07-06                                     Cure   \n",
       "3618   2001-03-09                                  Dayereh   \n",
       "3619   2012-01-13                                Newlyweds   \n",
       "3623   2004-01-01                          The Mongol King   \n",
       "3625   2005-07-13            Return to the Land of Wonders   \n",
       "3626   2005-08-05                        My Date With Drew   \n",
       "\n",
       "             Distributor    Budget    US Gross  Worldwide Gross  Non_US_Gross  \n",
       "272            Universal  85000000  44650003.0              0.0   -44650003.0  \n",
       "274          Buena Vista  85000000  66941559.0              0.0   -66941559.0  \n",
       "280                    0  85000000  19662216.0              0.0   -19662216.0  \n",
       "313          Buena Vista  80000000  60507228.0              0.0   -60507228.0  \n",
       "321          Buena Vista  80000000   9103630.0              0.0    -9103630.0  \n",
       "324          Buena Vista  80000000  50632037.0              0.0   -50632037.0  \n",
       "339         Warner Bros.  80000000  17650704.0              0.0   -17650704.0  \n",
       "384          Buena Vista  75000000  97387965.0              0.0   -97387965.0  \n",
       "390     20th Century Fox  75000000  39251128.0              0.0   -39251128.0  \n",
       "397         Warner Bros.  75000000  14623082.0              0.0   -14623082.0  \n",
       "405     20th Century Fox  75000000   5409517.0              0.0    -5409517.0  \n",
       "434   Paramount Pictures  70000000  19870567.0              0.0   -19870567.0  \n",
       "449         Warner Bros.  70000000  14294842.0              0.0   -14294842.0  \n",
       "465         Warner Bros.  70000000  13596911.0              0.0   -13596911.0  \n",
       "471     20th Century Fox  70000000  54243125.0              0.0   -54243125.0  \n",
       "483             New Line  67000000  18115927.0              0.0   -18115927.0  \n",
       "489   Paramount Pictures  65000000  10014234.0              0.0   -10014234.0  \n",
       "492          Buena Vista  65000000  69688384.0              0.0   -69688384.0  \n",
       "494                 Sony  65000000  17218916.0              0.0   -17218916.0  \n",
       "513             New Line  65000000  33447612.0              0.0   -33447612.0  \n",
       "519            Universal  65000000  39017984.0              0.0   -39017984.0  \n",
       "523         Warner Bros.  63000000  25052000.0              0.0   -25052000.0  \n",
       "538            Universal  60000000  32983332.0              0.0   -32983332.0  \n",
       "553          Buena Vista  60000000  12069719.0              0.0   -12069719.0  \n",
       "562          Buena Vista  60000000  36850101.0              0.0   -36850101.0  \n",
       "580               MGM/UA  60000000  14218868.0              0.0   -14218868.0  \n",
       "585          Buena Vista  60000000  56709981.0              0.0   -56709981.0  \n",
       "590   Paramount Pictures  60000000  33956608.0              0.0   -33956608.0  \n",
       "598       DreamWorks SKG  60000000  50586000.0              0.0   -50586000.0  \n",
       "600   Paramount Pictures  60000000  26673242.0              0.0   -26673242.0  \n",
       "...                  ...       ...         ...              ...           ...  \n",
       "3584                   0     70000      4930.0              0.0       -4930.0  \n",
       "3586              MGM/UA     68000     33598.0              0.0      -33598.0  \n",
       "3590     Fox Searchlight     50000  10426506.0              0.0   -10426506.0  \n",
       "3591         Power Point     50000   2335352.0              0.0    -2335352.0  \n",
       "3592                   0     50000    391674.0              0.0     -391674.0  \n",
       "3594        Oscilloscope     40000     25572.0              0.0      -25572.0  \n",
       "3595    IDP/Stratosphere     40000    277233.0              0.0     -277233.0  \n",
       "3596              MGM/UA     35000    321952.0              0.0     -321952.0  \n",
       "3597                   0     30000     77070.0              0.0      -77070.0  \n",
       "3598                   0     30000      9812.0              0.0       -9812.0  \n",
       "3599                   0     30000    103509.0              0.0     -103509.0  \n",
       "3600              Strand     27000      8231.0              0.0       -8231.0  \n",
       "3602             Phaedra     25000    195043.0              0.0     -195043.0  \n",
       "3604             Damiano     25000  45000000.0              0.0   -45000000.0  \n",
       "3605       Sony Classics     25000   2883661.0              0.0    -2883661.0  \n",
       "3606      Orion Classics     23000   1227508.0              0.0    -1227508.0  \n",
       "3609           IFC Films     15000    115592.0              0.0     -115592.0  \n",
       "3610                   0     15000    194523.0              0.0     -194523.0  \n",
       "3611                   0     12000    413802.0              0.0     -413802.0  \n",
       "3612                   0     12000      1336.0              0.0       -1336.0  \n",
       "3613          JeTi Films     10000       527.0              0.0        -527.0  \n",
       "3614      Lavender House     10000       401.0              0.0        -401.0  \n",
       "3615       Palm Pictures     10000    138711.0              0.0     -138711.0  \n",
       "3616    Cinema con Sabor     10000      1987.0              0.0       -1987.0  \n",
       "3617              Cowboy     10000     94596.0              0.0      -94596.0  \n",
       "3618             Winstar     10000    673780.0              0.0     -673780.0  \n",
       "3619                   0      9000      4584.0              0.0       -4584.0  \n",
       "3623          CustomFlix      7000       900.0              0.0        -900.0  \n",
       "3625                   0      5000      1338.0              0.0       -1338.0  \n",
       "3626                   0      1100    181041.0              0.0     -181041.0  \n",
       "\n",
       "[1212 rows x 7 columns]"
      ]
     },
     "execution_count": 75,
     "metadata": {},
     "output_type": "execute_result"
    }
   ],
   "source": [
    "movies[movies.Non_US_Gross < 0]"
   ]
  },
  {
   "cell_type": "markdown",
   "metadata": {},
   "source": [
    "It looks like in all these cases, the Non-US Gross is negative because Worldwide Gross is zero. Remember that we replaced missing values with zeroes, which is probably where these come from. Let's double-check this by looking at the max or min values of Non-US Gross when the Worldwide Gross column is zero. As the output above hints, the results of square bracket notation can be treated just like a DataFrame -- which means we can select columns, and it will only return the column values that are within our subset."
   ]
  },
  {
   "cell_type": "code",
   "execution_count": 76,
   "metadata": {},
   "outputs": [
    {
     "data": {
      "text/plain": [
       "0.0"
      ]
     },
     "execution_count": 76,
     "metadata": {},
     "output_type": "execute_result"
    }
   ],
   "source": [
    "movies[movies[\"Worldwide Gross\"]==0][\"Non_US_Gross\"].max()"
   ]
  },
  {
   "cell_type": "markdown",
   "metadata": {},
   "source": [
    "Since Worldwide Gross is supposed to be inclusive of US Gross, a sensible thing to do is to just fill these values with those of their respective US Gross. To do this, we use the subset notation again, but this time with an assignment. Note that for assignments, we put the column first, then the subset."
   ]
  },
  {
   "cell_type": "code",
   "execution_count": 77,
   "metadata": {},
   "outputs": [
    {
     "name": "stderr",
     "output_type": "stream",
     "text": [
      "C:\\Users\\jenkij\\AppData\\Local\\Continuum\\anaconda3\\lib\\site-packages\\ipykernel_launcher.py:1: SettingWithCopyWarning: \n",
      "A value is trying to be set on a copy of a slice from a DataFrame\n",
      "\n",
      "See the caveats in the documentation: http://pandas.pydata.org/pandas-docs/stable/indexing.html#indexing-view-versus-copy\n",
      "  \"\"\"Entry point for launching an IPython kernel.\n"
     ]
    }
   ],
   "source": [
    "movies[\"Worldwide Gross\"][movies[\"Worldwide Gross\"]==0] = movies[\"US Gross\"]"
   ]
  },
  {
   "cell_type": "markdown",
   "metadata": {},
   "source": [
    "You may see a warning -- similar to the one I got above. It's telling you that it can't tell whether you're operating on a copy of part of the DataFrame, or a subset. Usually you can just ignore this warning, and just make sure that the data copied the way you wanted it to:"
   ]
  },
  {
   "cell_type": "code",
   "execution_count": 78,
   "metadata": {},
   "outputs": [
    {
     "data": {
      "text/html": [
       "<div>\n",
       "<style scoped>\n",
       "    .dataframe tbody tr th:only-of-type {\n",
       "        vertical-align: middle;\n",
       "    }\n",
       "\n",
       "    .dataframe tbody tr th {\n",
       "        vertical-align: top;\n",
       "    }\n",
       "\n",
       "    .dataframe thead th {\n",
       "        text-align: right;\n",
       "    }\n",
       "</style>\n",
       "<table border=\"1\" class=\"dataframe\">\n",
       "  <thead>\n",
       "    <tr style=\"text-align: right;\">\n",
       "      <th></th>\n",
       "      <th>Release_Date</th>\n",
       "      <th>Movie</th>\n",
       "      <th>Distributor</th>\n",
       "      <th>Budget</th>\n",
       "      <th>US Gross</th>\n",
       "      <th>Worldwide Gross</th>\n",
       "      <th>Non_US_Gross</th>\n",
       "    </tr>\n",
       "  </thead>\n",
       "  <tbody>\n",
       "    <tr>\n",
       "      <th>272</th>\n",
       "      <td>1998-11-13</td>\n",
       "      <td>Meet Joe Black</td>\n",
       "      <td>Universal</td>\n",
       "      <td>85000000</td>\n",
       "      <td>44650003.0</td>\n",
       "      <td>44650003.0</td>\n",
       "      <td>-44650003.0</td>\n",
       "    </tr>\n",
       "    <tr>\n",
       "      <th>274</th>\n",
       "      <td>2000-11-22</td>\n",
       "      <td>102 Dalmatians</td>\n",
       "      <td>Buena Vista</td>\n",
       "      <td>85000000</td>\n",
       "      <td>66941559.0</td>\n",
       "      <td>66941559.0</td>\n",
       "      <td>-66941559.0</td>\n",
       "    </tr>\n",
       "    <tr>\n",
       "      <th>280</th>\n",
       "      <td>2012-03-30</td>\n",
       "      <td>Mirror Mirror</td>\n",
       "      <td>0</td>\n",
       "      <td>85000000</td>\n",
       "      <td>19662216.0</td>\n",
       "      <td>19662216.0</td>\n",
       "      <td>-19662216.0</td>\n",
       "    </tr>\n",
       "    <tr>\n",
       "      <th>313</th>\n",
       "      <td>2000-01-01</td>\n",
       "      <td>Fantasia 2000 (IMAX)</td>\n",
       "      <td>Buena Vista</td>\n",
       "      <td>80000000</td>\n",
       "      <td>60507228.0</td>\n",
       "      <td>60507228.0</td>\n",
       "      <td>-60507228.0</td>\n",
       "    </tr>\n",
       "    <tr>\n",
       "      <th>321</th>\n",
       "      <td>2000-06-16</td>\n",
       "      <td>Fantasia 2000 (Theatrical Release)</td>\n",
       "      <td>Buena Vista</td>\n",
       "      <td>80000000</td>\n",
       "      <td>9103630.0</td>\n",
       "      <td>9103630.0</td>\n",
       "      <td>-9103630.0</td>\n",
       "    </tr>\n",
       "    <tr>\n",
       "      <th>324</th>\n",
       "      <td>1998-12-25</td>\n",
       "      <td>Mighty Joe Young</td>\n",
       "      <td>Buena Vista</td>\n",
       "      <td>80000000</td>\n",
       "      <td>50632037.0</td>\n",
       "      <td>50632037.0</td>\n",
       "      <td>-50632037.0</td>\n",
       "    </tr>\n",
       "    <tr>\n",
       "      <th>339</th>\n",
       "      <td>1997-12-25</td>\n",
       "      <td>The Postman</td>\n",
       "      <td>Warner Bros.</td>\n",
       "      <td>80000000</td>\n",
       "      <td>17650704.0</td>\n",
       "      <td>17650704.0</td>\n",
       "      <td>-17650704.0</td>\n",
       "    </tr>\n",
       "    <tr>\n",
       "      <th>384</th>\n",
       "      <td>1999-07-23</td>\n",
       "      <td>Inspector Gadget</td>\n",
       "      <td>Buena Vista</td>\n",
       "      <td>75000000</td>\n",
       "      <td>97387965.0</td>\n",
       "      <td>97387965.0</td>\n",
       "      <td>-97387965.0</td>\n",
       "    </tr>\n",
       "    <tr>\n",
       "      <th>390</th>\n",
       "      <td>1999-12-17</td>\n",
       "      <td>Anna and the King</td>\n",
       "      <td>20th Century Fox</td>\n",
       "      <td>75000000</td>\n",
       "      <td>39251128.0</td>\n",
       "      <td>39251128.0</td>\n",
       "      <td>-39251128.0</td>\n",
       "    </tr>\n",
       "    <tr>\n",
       "      <th>397</th>\n",
       "      <td>1998-10-23</td>\n",
       "      <td>Soldier</td>\n",
       "      <td>Warner Bros.</td>\n",
       "      <td>75000000</td>\n",
       "      <td>14623082.0</td>\n",
       "      <td>14623082.0</td>\n",
       "      <td>-14623082.0</td>\n",
       "    </tr>\n",
       "    <tr>\n",
       "      <th>405</th>\n",
       "      <td>2001-02-23</td>\n",
       "      <td>Monkeybone</td>\n",
       "      <td>20th Century Fox</td>\n",
       "      <td>75000000</td>\n",
       "      <td>5409517.0</td>\n",
       "      <td>5409517.0</td>\n",
       "      <td>-5409517.0</td>\n",
       "    </tr>\n",
       "    <tr>\n",
       "      <th>434</th>\n",
       "      <td>1998-01-16</td>\n",
       "      <td>Hard Rain</td>\n",
       "      <td>Paramount Pictures</td>\n",
       "      <td>70000000</td>\n",
       "      <td>19870567.0</td>\n",
       "      <td>19870567.0</td>\n",
       "      <td>-19870567.0</td>\n",
       "    </tr>\n",
       "    <tr>\n",
       "      <th>449</th>\n",
       "      <td>2002-09-20</td>\n",
       "      <td>Ballistic: Ecks vs. Sever</td>\n",
       "      <td>Warner Bros.</td>\n",
       "      <td>70000000</td>\n",
       "      <td>14294842.0</td>\n",
       "      <td>14294842.0</td>\n",
       "      <td>-14294842.0</td>\n",
       "    </tr>\n",
       "    <tr>\n",
       "      <th>465</th>\n",
       "      <td>2001-08-10</td>\n",
       "      <td>Osmosis Jones</td>\n",
       "      <td>Warner Bros.</td>\n",
       "      <td>70000000</td>\n",
       "      <td>13596911.0</td>\n",
       "      <td>13596911.0</td>\n",
       "      <td>-13596911.0</td>\n",
       "    </tr>\n",
       "    <tr>\n",
       "      <th>471</th>\n",
       "      <td>1989-08-09</td>\n",
       "      <td>The Abyss</td>\n",
       "      <td>20th Century Fox</td>\n",
       "      <td>70000000</td>\n",
       "      <td>54243125.0</td>\n",
       "      <td>54243125.0</td>\n",
       "      <td>-54243125.0</td>\n",
       "    </tr>\n",
       "    <tr>\n",
       "      <th>483</th>\n",
       "      <td>1996-09-20</td>\n",
       "      <td>Last Man Standing</td>\n",
       "      <td>New Line</td>\n",
       "      <td>67000000</td>\n",
       "      <td>18115927.0</td>\n",
       "      <td>18115927.0</td>\n",
       "      <td>-18115927.0</td>\n",
       "    </tr>\n",
       "    <tr>\n",
       "      <th>489</th>\n",
       "      <td>2000-10-27</td>\n",
       "      <td>Lucky Numbers</td>\n",
       "      <td>Paramount Pictures</td>\n",
       "      <td>65000000</td>\n",
       "      <td>10014234.0</td>\n",
       "      <td>10014234.0</td>\n",
       "      <td>-10014234.0</td>\n",
       "    </tr>\n",
       "    <tr>\n",
       "      <th>492</th>\n",
       "      <td>2000-07-07</td>\n",
       "      <td>The Kid</td>\n",
       "      <td>Buena Vista</td>\n",
       "      <td>65000000</td>\n",
       "      <td>69688384.0</td>\n",
       "      <td>69688384.0</td>\n",
       "      <td>-69688384.0</td>\n",
       "    </tr>\n",
       "    <tr>\n",
       "      <th>494</th>\n",
       "      <td>1991-05-24</td>\n",
       "      <td>Hudson Hawk</td>\n",
       "      <td>Sony</td>\n",
       "      <td>65000000</td>\n",
       "      <td>17218916.0</td>\n",
       "      <td>17218916.0</td>\n",
       "      <td>-17218916.0</td>\n",
       "    </tr>\n",
       "    <tr>\n",
       "      <th>513</th>\n",
       "      <td>1996-10-11</td>\n",
       "      <td>The Long Kiss Goodnight</td>\n",
       "      <td>New Line</td>\n",
       "      <td>65000000</td>\n",
       "      <td>33447612.0</td>\n",
       "      <td>33447612.0</td>\n",
       "      <td>-33447612.0</td>\n",
       "    </tr>\n",
       "    <tr>\n",
       "      <th>519</th>\n",
       "      <td>1998-03-20</td>\n",
       "      <td>Primary Colors</td>\n",
       "      <td>Universal</td>\n",
       "      <td>65000000</td>\n",
       "      <td>39017984.0</td>\n",
       "      <td>39017984.0</td>\n",
       "      <td>-39017984.0</td>\n",
       "    </tr>\n",
       "    <tr>\n",
       "      <th>523</th>\n",
       "      <td>1994-06-24</td>\n",
       "      <td>Wyatt Earp</td>\n",
       "      <td>Warner Bros.</td>\n",
       "      <td>63000000</td>\n",
       "      <td>25052000.0</td>\n",
       "      <td>25052000.0</td>\n",
       "      <td>-25052000.0</td>\n",
       "    </tr>\n",
       "    <tr>\n",
       "      <th>538</th>\n",
       "      <td>1998-04-03</td>\n",
       "      <td>Mercury Rising</td>\n",
       "      <td>Universal</td>\n",
       "      <td>60000000</td>\n",
       "      <td>32983332.0</td>\n",
       "      <td>32983332.0</td>\n",
       "      <td>-32983332.0</td>\n",
       "    </tr>\n",
       "    <tr>\n",
       "      <th>553</th>\n",
       "      <td>1998-10-09</td>\n",
       "      <td>Holy Man</td>\n",
       "      <td>Buena Vista</td>\n",
       "      <td>60000000</td>\n",
       "      <td>12069719.0</td>\n",
       "      <td>12069719.0</td>\n",
       "      <td>-12069719.0</td>\n",
       "    </tr>\n",
       "    <tr>\n",
       "      <th>562</th>\n",
       "      <td>1999-02-12</td>\n",
       "      <td>My Favorite Martian</td>\n",
       "      <td>Buena Vista</td>\n",
       "      <td>60000000</td>\n",
       "      <td>36850101.0</td>\n",
       "      <td>36850101.0</td>\n",
       "      <td>-36850101.0</td>\n",
       "    </tr>\n",
       "    <tr>\n",
       "      <th>580</th>\n",
       "      <td>2000-01-14</td>\n",
       "      <td>Supernova</td>\n",
       "      <td>MGM/UA</td>\n",
       "      <td>60000000</td>\n",
       "      <td>14218868.0</td>\n",
       "      <td>14218868.0</td>\n",
       "      <td>-14218868.0</td>\n",
       "    </tr>\n",
       "    <tr>\n",
       "      <th>585</th>\n",
       "      <td>1998-12-25</td>\n",
       "      <td>A Civil Action</td>\n",
       "      <td>Buena Vista</td>\n",
       "      <td>60000000</td>\n",
       "      <td>56709981.0</td>\n",
       "      <td>56709981.0</td>\n",
       "      <td>-56709981.0</td>\n",
       "    </tr>\n",
       "    <tr>\n",
       "      <th>590</th>\n",
       "      <td>1997-01-10</td>\n",
       "      <td>The Relic</td>\n",
       "      <td>Paramount Pictures</td>\n",
       "      <td>60000000</td>\n",
       "      <td>33956608.0</td>\n",
       "      <td>33956608.0</td>\n",
       "      <td>-33956608.0</td>\n",
       "    </tr>\n",
       "    <tr>\n",
       "      <th>598</th>\n",
       "      <td>2002-09-27</td>\n",
       "      <td>The Tuxedo</td>\n",
       "      <td>DreamWorks SKG</td>\n",
       "      <td>60000000</td>\n",
       "      <td>50586000.0</td>\n",
       "      <td>50586000.0</td>\n",
       "      <td>-50586000.0</td>\n",
       "    </tr>\n",
       "    <tr>\n",
       "      <th>600</th>\n",
       "      <td>1997-08-15</td>\n",
       "      <td>Event Horizon</td>\n",
       "      <td>Paramount Pictures</td>\n",
       "      <td>60000000</td>\n",
       "      <td>26673242.0</td>\n",
       "      <td>26673242.0</td>\n",
       "      <td>-26673242.0</td>\n",
       "    </tr>\n",
       "    <tr>\n",
       "      <th>...</th>\n",
       "      <td>...</td>\n",
       "      <td>...</td>\n",
       "      <td>...</td>\n",
       "      <td>...</td>\n",
       "      <td>...</td>\n",
       "      <td>...</td>\n",
       "      <td>...</td>\n",
       "    </tr>\n",
       "    <tr>\n",
       "      <th>3584</th>\n",
       "      <td>2005-01-28</td>\n",
       "      <td>Peace, Propaganda and the Promised Land</td>\n",
       "      <td>0</td>\n",
       "      <td>70000</td>\n",
       "      <td>4930.0</td>\n",
       "      <td>4930.0</td>\n",
       "      <td>-4930.0</td>\n",
       "    </tr>\n",
       "    <tr>\n",
       "      <th>3586</th>\n",
       "      <td>1998-02-20</td>\n",
       "      <td>I Love You … Don't Touch Me!</td>\n",
       "      <td>MGM/UA</td>\n",
       "      <td>68000</td>\n",
       "      <td>33598.0</td>\n",
       "      <td>33598.0</td>\n",
       "      <td>-33598.0</td>\n",
       "    </tr>\n",
       "    <tr>\n",
       "      <th>3590</th>\n",
       "      <td>1995-08-09</td>\n",
       "      <td>The Brothers McMullen</td>\n",
       "      <td>Fox Searchlight</td>\n",
       "      <td>50000</td>\n",
       "      <td>10426506.0</td>\n",
       "      <td>10426506.0</td>\n",
       "      <td>-10426506.0</td>\n",
       "    </tr>\n",
       "    <tr>\n",
       "      <th>3591</th>\n",
       "      <td>2001-03-16</td>\n",
       "      <td>Gabriela</td>\n",
       "      <td>Power Point</td>\n",
       "      <td>50000</td>\n",
       "      <td>2335352.0</td>\n",
       "      <td>2335352.0</td>\n",
       "      <td>-2335352.0</td>\n",
       "    </tr>\n",
       "    <tr>\n",
       "      <th>3592</th>\n",
       "      <td>2010-11-12</td>\n",
       "      <td>Tiny Furniture</td>\n",
       "      <td>0</td>\n",
       "      <td>50000</td>\n",
       "      <td>391674.0</td>\n",
       "      <td>391674.0</td>\n",
       "      <td>-391674.0</td>\n",
       "    </tr>\n",
       "    <tr>\n",
       "      <th>3594</th>\n",
       "      <td>2010-03-12</td>\n",
       "      <td>The Exploding Girl</td>\n",
       "      <td>Oscilloscope</td>\n",
       "      <td>40000</td>\n",
       "      <td>25572.0</td>\n",
       "      <td>25572.0</td>\n",
       "      <td>-25572.0</td>\n",
       "    </tr>\n",
       "    <tr>\n",
       "      <th>3595</th>\n",
       "      <td>2000-08-25</td>\n",
       "      <td>Smiling Fish and Goat on Fire</td>\n",
       "      <td>IDP/Stratosphere</td>\n",
       "      <td>40000</td>\n",
       "      <td>277233.0</td>\n",
       "      <td>277233.0</td>\n",
       "      <td>-277233.0</td>\n",
       "    </tr>\n",
       "    <tr>\n",
       "      <th>3596</th>\n",
       "      <td>2002-04-05</td>\n",
       "      <td>The Last Waltz</td>\n",
       "      <td>MGM/UA</td>\n",
       "      <td>35000</td>\n",
       "      <td>321952.0</td>\n",
       "      <td>321952.0</td>\n",
       "      <td>-321952.0</td>\n",
       "    </tr>\n",
       "    <tr>\n",
       "      <th>3597</th>\n",
       "      <td>2005-04-29</td>\n",
       "      <td>Funny Ha Ha</td>\n",
       "      <td>0</td>\n",
       "      <td>30000</td>\n",
       "      <td>77070.0</td>\n",
       "      <td>77070.0</td>\n",
       "      <td>-77070.0</td>\n",
       "    </tr>\n",
       "    <tr>\n",
       "      <th>3598</th>\n",
       "      <td>2010-10-15</td>\n",
       "      <td>Down Terrace</td>\n",
       "      <td>0</td>\n",
       "      <td>30000</td>\n",
       "      <td>9812.0</td>\n",
       "      <td>9812.0</td>\n",
       "      <td>-9812.0</td>\n",
       "    </tr>\n",
       "    <tr>\n",
       "      <th>3599</th>\n",
       "      <td>2006-09-01</td>\n",
       "      <td>Mutual Appreciation</td>\n",
       "      <td>0</td>\n",
       "      <td>30000</td>\n",
       "      <td>103509.0</td>\n",
       "      <td>103509.0</td>\n",
       "      <td>-103509.0</td>\n",
       "    </tr>\n",
       "    <tr>\n",
       "      <th>3600</th>\n",
       "      <td>1999-12-24</td>\n",
       "      <td>Pink Narcissus</td>\n",
       "      <td>Strand</td>\n",
       "      <td>27000</td>\n",
       "      <td>8231.0</td>\n",
       "      <td>8231.0</td>\n",
       "      <td>-8231.0</td>\n",
       "    </tr>\n",
       "    <tr>\n",
       "      <th>3602</th>\n",
       "      <td>2000-01-14</td>\n",
       "      <td>The Terrorist</td>\n",
       "      <td>Phaedra</td>\n",
       "      <td>25000</td>\n",
       "      <td>195043.0</td>\n",
       "      <td>195043.0</td>\n",
       "      <td>-195043.0</td>\n",
       "    </tr>\n",
       "    <tr>\n",
       "      <th>3604</th>\n",
       "      <td>1972-06-30</td>\n",
       "      <td>Deep Throat</td>\n",
       "      <td>Damiano</td>\n",
       "      <td>25000</td>\n",
       "      <td>45000000.0</td>\n",
       "      <td>45000000.0</td>\n",
       "      <td>-45000000.0</td>\n",
       "    </tr>\n",
       "    <tr>\n",
       "      <th>3605</th>\n",
       "      <td>1997-08-01</td>\n",
       "      <td>In the Company of Men</td>\n",
       "      <td>Sony Classics</td>\n",
       "      <td>25000</td>\n",
       "      <td>2883661.0</td>\n",
       "      <td>2883661.0</td>\n",
       "      <td>-2883661.0</td>\n",
       "    </tr>\n",
       "    <tr>\n",
       "      <th>3606</th>\n",
       "      <td>1991-08-01</td>\n",
       "      <td>Slacker</td>\n",
       "      <td>Orion Classics</td>\n",
       "      <td>23000</td>\n",
       "      <td>1227508.0</td>\n",
       "      <td>1227508.0</td>\n",
       "      <td>-1227508.0</td>\n",
       "    </tr>\n",
       "    <tr>\n",
       "      <th>3609</th>\n",
       "      <td>2010-04-02</td>\n",
       "      <td>Breaking Upwards</td>\n",
       "      <td>IFC Films</td>\n",
       "      <td>15000</td>\n",
       "      <td>115592.0</td>\n",
       "      <td>115592.0</td>\n",
       "      <td>-115592.0</td>\n",
       "    </tr>\n",
       "    <tr>\n",
       "      <th>3610</th>\n",
       "      <td>2006-06-02</td>\n",
       "      <td>The Puffy Chair</td>\n",
       "      <td>0</td>\n",
       "      <td>15000</td>\n",
       "      <td>194523.0</td>\n",
       "      <td>194523.0</td>\n",
       "      <td>-194523.0</td>\n",
       "    </tr>\n",
       "    <tr>\n",
       "      <th>3611</th>\n",
       "      <td>1997-04-11</td>\n",
       "      <td>Pink Flamingos</td>\n",
       "      <td>0</td>\n",
       "      <td>12000</td>\n",
       "      <td>413802.0</td>\n",
       "      <td>413802.0</td>\n",
       "      <td>-413802.0</td>\n",
       "    </tr>\n",
       "    <tr>\n",
       "      <th>3612</th>\n",
       "      <td>2006-04-28</td>\n",
       "      <td>Grip: A Criminal's Story</td>\n",
       "      <td>0</td>\n",
       "      <td>12000</td>\n",
       "      <td>1336.0</td>\n",
       "      <td>1336.0</td>\n",
       "      <td>-1336.0</td>\n",
       "    </tr>\n",
       "    <tr>\n",
       "      <th>3613</th>\n",
       "      <td>1996-04-01</td>\n",
       "      <td>Bang</td>\n",
       "      <td>JeTi Films</td>\n",
       "      <td>10000</td>\n",
       "      <td>527.0</td>\n",
       "      <td>527.0</td>\n",
       "      <td>-527.0</td>\n",
       "    </tr>\n",
       "    <tr>\n",
       "      <th>3614</th>\n",
       "      <td>2008-08-14</td>\n",
       "      <td>The Rise and Fall of Miss Thang</td>\n",
       "      <td>Lavender House</td>\n",
       "      <td>10000</td>\n",
       "      <td>401.0</td>\n",
       "      <td>401.0</td>\n",
       "      <td>-401.0</td>\n",
       "    </tr>\n",
       "    <tr>\n",
       "      <th>3615</th>\n",
       "      <td>2006-04-28</td>\n",
       "      <td>Clean</td>\n",
       "      <td>Palm Pictures</td>\n",
       "      <td>10000</td>\n",
       "      <td>138711.0</td>\n",
       "      <td>138711.0</td>\n",
       "      <td>-138711.0</td>\n",
       "    </tr>\n",
       "    <tr>\n",
       "      <th>3616</th>\n",
       "      <td>2004-05-28</td>\n",
       "      <td>On the Down Low</td>\n",
       "      <td>Cinema con Sabor</td>\n",
       "      <td>10000</td>\n",
       "      <td>1987.0</td>\n",
       "      <td>1987.0</td>\n",
       "      <td>-1987.0</td>\n",
       "    </tr>\n",
       "    <tr>\n",
       "      <th>3617</th>\n",
       "      <td>2001-07-06</td>\n",
       "      <td>Cure</td>\n",
       "      <td>Cowboy</td>\n",
       "      <td>10000</td>\n",
       "      <td>94596.0</td>\n",
       "      <td>94596.0</td>\n",
       "      <td>-94596.0</td>\n",
       "    </tr>\n",
       "    <tr>\n",
       "      <th>3618</th>\n",
       "      <td>2001-03-09</td>\n",
       "      <td>Dayereh</td>\n",
       "      <td>Winstar</td>\n",
       "      <td>10000</td>\n",
       "      <td>673780.0</td>\n",
       "      <td>673780.0</td>\n",
       "      <td>-673780.0</td>\n",
       "    </tr>\n",
       "    <tr>\n",
       "      <th>3619</th>\n",
       "      <td>2012-01-13</td>\n",
       "      <td>Newlyweds</td>\n",
       "      <td>0</td>\n",
       "      <td>9000</td>\n",
       "      <td>4584.0</td>\n",
       "      <td>4584.0</td>\n",
       "      <td>-4584.0</td>\n",
       "    </tr>\n",
       "    <tr>\n",
       "      <th>3623</th>\n",
       "      <td>2004-01-01</td>\n",
       "      <td>The Mongol King</td>\n",
       "      <td>CustomFlix</td>\n",
       "      <td>7000</td>\n",
       "      <td>900.0</td>\n",
       "      <td>900.0</td>\n",
       "      <td>-900.0</td>\n",
       "    </tr>\n",
       "    <tr>\n",
       "      <th>3625</th>\n",
       "      <td>2005-07-13</td>\n",
       "      <td>Return to the Land of Wonders</td>\n",
       "      <td>0</td>\n",
       "      <td>5000</td>\n",
       "      <td>1338.0</td>\n",
       "      <td>1338.0</td>\n",
       "      <td>-1338.0</td>\n",
       "    </tr>\n",
       "    <tr>\n",
       "      <th>3626</th>\n",
       "      <td>2005-08-05</td>\n",
       "      <td>My Date With Drew</td>\n",
       "      <td>0</td>\n",
       "      <td>1100</td>\n",
       "      <td>181041.0</td>\n",
       "      <td>181041.0</td>\n",
       "      <td>-181041.0</td>\n",
       "    </tr>\n",
       "  </tbody>\n",
       "</table>\n",
       "<p>1212 rows × 7 columns</p>\n",
       "</div>"
      ],
      "text/plain": [
       "     Release_Date                                    Movie  \\\n",
       "272    1998-11-13                           Meet Joe Black   \n",
       "274    2000-11-22                           102 Dalmatians   \n",
       "280    2012-03-30                            Mirror Mirror   \n",
       "313    2000-01-01                     Fantasia 2000 (IMAX)   \n",
       "321    2000-06-16       Fantasia 2000 (Theatrical Release)   \n",
       "324    1998-12-25                         Mighty Joe Young   \n",
       "339    1997-12-25                              The Postman   \n",
       "384    1999-07-23                         Inspector Gadget   \n",
       "390    1999-12-17                        Anna and the King   \n",
       "397    1998-10-23                                  Soldier   \n",
       "405    2001-02-23                               Monkeybone   \n",
       "434    1998-01-16                                Hard Rain   \n",
       "449    2002-09-20                Ballistic: Ecks vs. Sever   \n",
       "465    2001-08-10                            Osmosis Jones   \n",
       "471    1989-08-09                                The Abyss   \n",
       "483    1996-09-20                        Last Man Standing   \n",
       "489    2000-10-27                            Lucky Numbers   \n",
       "492    2000-07-07                                  The Kid   \n",
       "494    1991-05-24                              Hudson Hawk   \n",
       "513    1996-10-11                  The Long Kiss Goodnight   \n",
       "519    1998-03-20                           Primary Colors   \n",
       "523    1994-06-24                               Wyatt Earp   \n",
       "538    1998-04-03                           Mercury Rising   \n",
       "553    1998-10-09                                 Holy Man   \n",
       "562    1999-02-12                      My Favorite Martian   \n",
       "580    2000-01-14                                Supernova   \n",
       "585    1998-12-25                           A Civil Action   \n",
       "590    1997-01-10                                The Relic   \n",
       "598    2002-09-27                               The Tuxedo   \n",
       "600    1997-08-15                            Event Horizon   \n",
       "...           ...                                      ...   \n",
       "3584   2005-01-28  Peace, Propaganda and the Promised Land   \n",
       "3586   1998-02-20             I Love You … Don't Touch Me!   \n",
       "3590   1995-08-09                    The Brothers McMullen   \n",
       "3591   2001-03-16                                 Gabriela   \n",
       "3592   2010-11-12                           Tiny Furniture   \n",
       "3594   2010-03-12                       The Exploding Girl   \n",
       "3595   2000-08-25            Smiling Fish and Goat on Fire   \n",
       "3596   2002-04-05                           The Last Waltz   \n",
       "3597   2005-04-29                              Funny Ha Ha   \n",
       "3598   2010-10-15                             Down Terrace   \n",
       "3599   2006-09-01                      Mutual Appreciation   \n",
       "3600   1999-12-24                           Pink Narcissus   \n",
       "3602   2000-01-14                            The Terrorist   \n",
       "3604   1972-06-30                              Deep Throat   \n",
       "3605   1997-08-01                    In the Company of Men   \n",
       "3606   1991-08-01                                  Slacker   \n",
       "3609   2010-04-02                         Breaking Upwards   \n",
       "3610   2006-06-02                          The Puffy Chair   \n",
       "3611   1997-04-11                           Pink Flamingos   \n",
       "3612   2006-04-28                 Grip: A Criminal's Story   \n",
       "3613   1996-04-01                                     Bang   \n",
       "3614   2008-08-14          The Rise and Fall of Miss Thang   \n",
       "3615   2006-04-28                                    Clean   \n",
       "3616   2004-05-28                          On the Down Low   \n",
       "3617   2001-07-06                                     Cure   \n",
       "3618   2001-03-09                                  Dayereh   \n",
       "3619   2012-01-13                                Newlyweds   \n",
       "3623   2004-01-01                          The Mongol King   \n",
       "3625   2005-07-13            Return to the Land of Wonders   \n",
       "3626   2005-08-05                        My Date With Drew   \n",
       "\n",
       "             Distributor    Budget    US Gross  Worldwide Gross  Non_US_Gross  \n",
       "272            Universal  85000000  44650003.0       44650003.0   -44650003.0  \n",
       "274          Buena Vista  85000000  66941559.0       66941559.0   -66941559.0  \n",
       "280                    0  85000000  19662216.0       19662216.0   -19662216.0  \n",
       "313          Buena Vista  80000000  60507228.0       60507228.0   -60507228.0  \n",
       "321          Buena Vista  80000000   9103630.0        9103630.0    -9103630.0  \n",
       "324          Buena Vista  80000000  50632037.0       50632037.0   -50632037.0  \n",
       "339         Warner Bros.  80000000  17650704.0       17650704.0   -17650704.0  \n",
       "384          Buena Vista  75000000  97387965.0       97387965.0   -97387965.0  \n",
       "390     20th Century Fox  75000000  39251128.0       39251128.0   -39251128.0  \n",
       "397         Warner Bros.  75000000  14623082.0       14623082.0   -14623082.0  \n",
       "405     20th Century Fox  75000000   5409517.0        5409517.0    -5409517.0  \n",
       "434   Paramount Pictures  70000000  19870567.0       19870567.0   -19870567.0  \n",
       "449         Warner Bros.  70000000  14294842.0       14294842.0   -14294842.0  \n",
       "465         Warner Bros.  70000000  13596911.0       13596911.0   -13596911.0  \n",
       "471     20th Century Fox  70000000  54243125.0       54243125.0   -54243125.0  \n",
       "483             New Line  67000000  18115927.0       18115927.0   -18115927.0  \n",
       "489   Paramount Pictures  65000000  10014234.0       10014234.0   -10014234.0  \n",
       "492          Buena Vista  65000000  69688384.0       69688384.0   -69688384.0  \n",
       "494                 Sony  65000000  17218916.0       17218916.0   -17218916.0  \n",
       "513             New Line  65000000  33447612.0       33447612.0   -33447612.0  \n",
       "519            Universal  65000000  39017984.0       39017984.0   -39017984.0  \n",
       "523         Warner Bros.  63000000  25052000.0       25052000.0   -25052000.0  \n",
       "538            Universal  60000000  32983332.0       32983332.0   -32983332.0  \n",
       "553          Buena Vista  60000000  12069719.0       12069719.0   -12069719.0  \n",
       "562          Buena Vista  60000000  36850101.0       36850101.0   -36850101.0  \n",
       "580               MGM/UA  60000000  14218868.0       14218868.0   -14218868.0  \n",
       "585          Buena Vista  60000000  56709981.0       56709981.0   -56709981.0  \n",
       "590   Paramount Pictures  60000000  33956608.0       33956608.0   -33956608.0  \n",
       "598       DreamWorks SKG  60000000  50586000.0       50586000.0   -50586000.0  \n",
       "600   Paramount Pictures  60000000  26673242.0       26673242.0   -26673242.0  \n",
       "...                  ...       ...         ...              ...           ...  \n",
       "3584                   0     70000      4930.0           4930.0       -4930.0  \n",
       "3586              MGM/UA     68000     33598.0          33598.0      -33598.0  \n",
       "3590     Fox Searchlight     50000  10426506.0       10426506.0   -10426506.0  \n",
       "3591         Power Point     50000   2335352.0        2335352.0    -2335352.0  \n",
       "3592                   0     50000    391674.0         391674.0     -391674.0  \n",
       "3594        Oscilloscope     40000     25572.0          25572.0      -25572.0  \n",
       "3595    IDP/Stratosphere     40000    277233.0         277233.0     -277233.0  \n",
       "3596              MGM/UA     35000    321952.0         321952.0     -321952.0  \n",
       "3597                   0     30000     77070.0          77070.0      -77070.0  \n",
       "3598                   0     30000      9812.0           9812.0       -9812.0  \n",
       "3599                   0     30000    103509.0         103509.0     -103509.0  \n",
       "3600              Strand     27000      8231.0           8231.0       -8231.0  \n",
       "3602             Phaedra     25000    195043.0         195043.0     -195043.0  \n",
       "3604             Damiano     25000  45000000.0       45000000.0   -45000000.0  \n",
       "3605       Sony Classics     25000   2883661.0        2883661.0    -2883661.0  \n",
       "3606      Orion Classics     23000   1227508.0        1227508.0    -1227508.0  \n",
       "3609           IFC Films     15000    115592.0         115592.0     -115592.0  \n",
       "3610                   0     15000    194523.0         194523.0     -194523.0  \n",
       "3611                   0     12000    413802.0         413802.0     -413802.0  \n",
       "3612                   0     12000      1336.0           1336.0       -1336.0  \n",
       "3613          JeTi Films     10000       527.0            527.0        -527.0  \n",
       "3614      Lavender House     10000       401.0            401.0        -401.0  \n",
       "3615       Palm Pictures     10000    138711.0         138711.0     -138711.0  \n",
       "3616    Cinema con Sabor     10000      1987.0           1987.0       -1987.0  \n",
       "3617              Cowboy     10000     94596.0          94596.0      -94596.0  \n",
       "3618             Winstar     10000    673780.0         673780.0     -673780.0  \n",
       "3619                   0      9000      4584.0           4584.0       -4584.0  \n",
       "3623          CustomFlix      7000       900.0            900.0        -900.0  \n",
       "3625                   0      5000      1338.0           1338.0       -1338.0  \n",
       "3626                   0      1100    181041.0         181041.0     -181041.0  \n",
       "\n",
       "[1212 rows x 7 columns]"
      ]
     },
     "execution_count": 78,
     "metadata": {},
     "output_type": "execute_result"
    }
   ],
   "source": [
    "movies[movies.Non_US_Gross < 0]"
   ]
  },
  {
   "cell_type": "markdown",
   "metadata": {},
   "source": [
    "Looks good (though we need to update the Non_US_Gross column). Notice that even though we didn't subset the US Gross column as we assigned it, pandas automatically matched up the correct rows."
   ]
  },
  {
   "cell_type": "code",
   "execution_count": 79,
   "metadata": {},
   "outputs": [],
   "source": [
    "movies[\"Non_US_Gross\"] = movies[\"Worldwide Gross\"] - movies[\"US Gross\"]"
   ]
  },
  {
   "cell_type": "code",
   "execution_count": 80,
   "metadata": {},
   "outputs": [
    {
     "data": {
      "text/plain": [
       "0.0"
      ]
     },
     "execution_count": 80,
     "metadata": {},
     "output_type": "execute_result"
    }
   ],
   "source": [
    "movies.Non_US_Gross.min()"
   ]
  },
  {
   "cell_type": "markdown",
   "metadata": {},
   "source": [
    "With that correction in hand, we can continue analyzing the data. For example, let's get the profit for each movie:"
   ]
  },
  {
   "cell_type": "code",
   "execution_count": 81,
   "metadata": {},
   "outputs": [],
   "source": [
    "movies[\"Profits\"] = movies[\"Worldwide Gross\"] - movies[\"Budget\"]"
   ]
  },
  {
   "cell_type": "markdown",
   "metadata": {},
   "source": [
    "There are a few standard metrics we want to compute frequently, such as min, max, mean and median. Pandas puts all these handily together with the *describe()* method:"
   ]
  },
  {
   "cell_type": "code",
   "execution_count": 82,
   "metadata": {},
   "outputs": [
    {
     "data": {
      "text/plain": [
       "count    3.627000e+03\n",
       "mean     5.414562e+07\n",
       "std      1.302474e+08\n",
       "min     -2.700000e+08\n",
       "25%     -2.891174e+06\n",
       "50%      9.423500e+06\n",
       "75%      6.090619e+07\n",
       "max      2.546919e+09\n",
       "Name: Profits, dtype: float64"
      ]
     },
     "execution_count": 82,
     "metadata": {},
     "output_type": "execute_result"
    }
   ],
   "source": [
    "movies.Profits.describe()"
   ]
  },
  {
   "cell_type": "markdown",
   "metadata": {},
   "source": [
    "Note that pandas tries to pick the way to display numbers. Here, for example, it decides to use [scientific notation](https://en.wikipedia.org/wiki/Scientific_notation), expressing numbers as multiples of exponents of 10."
   ]
  },
  {
   "cell_type": "markdown",
   "metadata": {},
   "source": [
    "Column names are just Python values like anything else, and DataFrame.columns works basically like a list. That means that we can loop over it. For example, suppose we wanted to print the number of unique values in each column:"
   ]
  },
  {
   "cell_type": "code",
   "execution_count": 83,
   "metadata": {},
   "outputs": [
    {
     "name": "stdout",
     "output_type": "stream",
     "text": [
      "Release_Date 1715\n",
      "Movie 3599\n",
      "Distributor 209\n",
      "Budget 406\n",
      "US Gross 3473\n",
      "Worldwide Gross 3484\n",
      "Non_US_Gross 2100\n",
      "Profits 3567\n"
     ]
    }
   ],
   "source": [
    "for column in movies.columns:\n",
    "    print(column, len(movies[column].unique()))"
   ]
  },
  {
   "cell_type": "markdown",
   "metadata": {},
   "source": [
    "## Grouping\n",
    "\n",
    "Often, what you care about aren't individual records, but summaries aggregated at some level. For example, you may want to know how many movies were released each year, or whether certain months of the year have more earthquakes than others. \n",
    "\n",
    "Pandas uses the Split-Apply-Combine paradigm; we **split** the data into groups, **apply** a certain calculation to each group separately, and **combine** the results back into a new data structure. \n",
    "\n",
    "Let's start by getting the annual mean of each numeric column: finding the average US Gross, Worldwide Gross, etc. by year.\n",
    "\n",
    "First, we need to create a new column to aggregate on -- the Release Year. Since the values of the *Release_Date* column are datetime-like objects, they have a *year* property:"
   ]
  },
  {
   "cell_type": "code",
   "execution_count": 84,
   "metadata": {},
   "outputs": [
    {
     "data": {
      "text/plain": [
       "2005"
      ]
     },
     "execution_count": 84,
     "metadata": {},
     "output_type": "execute_result"
    }
   ],
   "source": [
    "movies.Release_Date[19].year # Some arbitrary row"
   ]
  },
  {
   "cell_type": "markdown",
   "metadata": {},
   "source": [
    "To create a new column based on another column, with an operation that isn't basic arithmetic, we use the *apply(...)* method. This method takes another function as an input, and applies it (hence the name) to each value in a column or series. The function being applied should take a single value as an input, and produce a similar output which can be assigned to the new series."
   ]
  },
  {
   "cell_type": "code",
   "execution_count": 85,
   "metadata": {},
   "outputs": [],
   "source": [
    "def get_year(date):\n",
    "    return date.year"
   ]
  },
  {
   "cell_type": "code",
   "execution_count": 86,
   "metadata": {},
   "outputs": [],
   "source": [
    "movies[\"Year\"] = movies.Release_Date.apply(get_year)"
   ]
  },
  {
   "cell_type": "markdown",
   "metadata": {},
   "source": [
    "In fact, we don't even have to define an entire function; Python allows us to use the **lambda** keyword to create a simple one-line function directly inside the *apply(...)* parentheses (you may have encountered this concept as anonymous functions in other languages). \n",
    "\n",
    "We could simplify the lines above to:"
   ]
  },
  {
   "cell_type": "code",
   "execution_count": 87,
   "metadata": {},
   "outputs": [],
   "source": [
    "movies[\"Year\"] = movies.Release_Date.apply(lambda x: x.year)"
   ]
  },
  {
   "cell_type": "code",
   "execution_count": 88,
   "metadata": {},
   "outputs": [
    {
     "name": "stdout",
     "output_type": "stream",
     "text": [
      "1915\n",
      "2013\n"
     ]
    }
   ],
   "source": [
    "print(movies.Year.min())\n",
    "print(movies.Year.max())"
   ]
  },
  {
   "cell_type": "markdown",
   "metadata": {},
   "source": [
    "Now that we've created a Year column, we need to divide the data by its different values. We go this using the DataFrame's *groupby(...)* method, like this:"
   ]
  },
  {
   "cell_type": "code",
   "execution_count": 89,
   "metadata": {},
   "outputs": [],
   "source": [
    "by_year = movies.groupby('Year')"
   ]
  },
  {
   "cell_type": "markdown",
   "metadata": {},
   "source": [
    "The argument we give *groupby(...)* is the name of the column to group by. The result of the method, which is assigned here to *by_year* is a special pandas object that stores a grouped dataframe. The groups themselves are stored as a dictionary, associating group labels (e.g. years, in this case) with the indices of all the rows that belong to that group."
   ]
  },
  {
   "cell_type": "code",
   "execution_count": 90,
   "metadata": {},
   "outputs": [
    {
     "name": "stdout",
     "output_type": "stream",
     "text": [
      "dict_keys([1915, 1916, 1920, 1925, 1927, 1929, 1930, 1931, 1933, 1934, 1935, 1936, 1937, 1938, 1939, 1940, 1941, 1942, 1943, 1944, 1945, 1946, 1947, 1948, 1949, 1950, 1951, 1952, 1953, 1954, 1955, 1956, 1957, 1958, 1959, 1960, 1961, 1962, 1963, 1964, 1965, 1966, 1967, 1968, 1969, 1970, 1971, 1972, 1973, 1974, 1975, 1976, 1977, 1978, 1979, 1980, 1981, 1982, 1983, 1984, 1985, 1986, 1987, 1988, 1989, 1990, 1991, 1992, 1993, 1994, 1995, 1996, 1997, 1998, 1999, 2000, 2001, 2002, 2003, 2004, 2005, 2006, 2007, 2008, 2009, 2010, 2011, 2012, 2013])\n"
     ]
    }
   ],
   "source": [
    "print(by_year.groups.keys())"
   ]
  },
  {
   "cell_type": "code",
   "execution_count": 91,
   "metadata": {},
   "outputs": [
    {
     "data": {
      "text/plain": [
       "Int64Index([3501, 3558], dtype='int64')"
      ]
     },
     "execution_count": 91,
     "metadata": {},
     "output_type": "execute_result"
    }
   ],
   "source": [
    "by_year.groups[1916]"
   ]
  },
  {
   "cell_type": "markdown",
   "metadata": {},
   "source": [
    " We can carry out operations on the grouped object to yield aggragated DataFrames. \n",
    "\n",
    "The simplest of the operations built-in to the grouped data object is *mean()*, which simply returns the mean of each column for each of the groups -- in this case, the mean of each column by year. The result is a new DataFrame, indexed by year:"
   ]
  },
  {
   "cell_type": "code",
   "execution_count": 92,
   "metadata": {},
   "outputs": [],
   "source": [
    "annual_means = by_year.mean()"
   ]
  },
  {
   "cell_type": "code",
   "execution_count": 93,
   "metadata": {},
   "outputs": [
    {
     "name": "stdout",
     "output_type": "stream",
     "text": [
      "<class 'pandas.core.frame.DataFrame'>\n",
      "Int64Index: 89 entries, 1915 to 2013\n",
      "Data columns (total 5 columns):\n",
      "Budget             89 non-null float64\n",
      "US Gross           89 non-null float64\n",
      "Worldwide Gross    89 non-null float64\n",
      "Non_US_Gross       89 non-null float64\n",
      "Profits            89 non-null float64\n",
      "dtypes: float64(5)\n",
      "memory usage: 4.2 KB\n"
     ]
    }
   ],
   "source": [
    "annual_means.info()"
   ]
  },
  {
   "cell_type": "code",
   "execution_count": 94,
   "metadata": {},
   "outputs": [
    {
     "data": {
      "text/html": [
       "<div>\n",
       "<style scoped>\n",
       "    .dataframe tbody tr th:only-of-type {\n",
       "        vertical-align: middle;\n",
       "    }\n",
       "\n",
       "    .dataframe tbody tr th {\n",
       "        vertical-align: top;\n",
       "    }\n",
       "\n",
       "    .dataframe thead th {\n",
       "        text-align: right;\n",
       "    }\n",
       "</style>\n",
       "<table border=\"1\" class=\"dataframe\">\n",
       "  <thead>\n",
       "    <tr style=\"text-align: right;\">\n",
       "      <th></th>\n",
       "      <th>Budget</th>\n",
       "      <th>US Gross</th>\n",
       "      <th>Worldwide Gross</th>\n",
       "      <th>Non_US_Gross</th>\n",
       "      <th>Profits</th>\n",
       "    </tr>\n",
       "    <tr>\n",
       "      <th>Year</th>\n",
       "      <th></th>\n",
       "      <th></th>\n",
       "      <th></th>\n",
       "      <th></th>\n",
       "      <th></th>\n",
       "    </tr>\n",
       "  </thead>\n",
       "  <tbody>\n",
       "    <tr>\n",
       "      <th>1915</th>\n",
       "      <td>110000.0</td>\n",
       "      <td>10000000.0</td>\n",
       "      <td>11000000.0</td>\n",
       "      <td>1000000.0</td>\n",
       "      <td>10890000.0</td>\n",
       "    </tr>\n",
       "    <tr>\n",
       "      <th>1916</th>\n",
       "      <td>292953.5</td>\n",
       "      <td>4000000.0</td>\n",
       "      <td>4000000.0</td>\n",
       "      <td>0.0</td>\n",
       "      <td>3707046.5</td>\n",
       "    </tr>\n",
       "    <tr>\n",
       "      <th>1920</th>\n",
       "      <td>100000.0</td>\n",
       "      <td>3000000.0</td>\n",
       "      <td>3000000.0</td>\n",
       "      <td>0.0</td>\n",
       "      <td>2900000.0</td>\n",
       "    </tr>\n",
       "    <tr>\n",
       "      <th>1925</th>\n",
       "      <td>2072500.0</td>\n",
       "      <td>10000000.0</td>\n",
       "      <td>15500000.0</td>\n",
       "      <td>5500000.0</td>\n",
       "      <td>13427500.0</td>\n",
       "    </tr>\n",
       "    <tr>\n",
       "      <th>1927</th>\n",
       "      <td>2000000.0</td>\n",
       "      <td>0.0</td>\n",
       "      <td>0.0</td>\n",
       "      <td>0.0</td>\n",
       "      <td>-2000000.0</td>\n",
       "    </tr>\n",
       "  </tbody>\n",
       "</table>\n",
       "</div>"
      ],
      "text/plain": [
       "         Budget    US Gross  Worldwide Gross  Non_US_Gross     Profits\n",
       "Year                                                                  \n",
       "1915   110000.0  10000000.0       11000000.0     1000000.0  10890000.0\n",
       "1916   292953.5   4000000.0        4000000.0           0.0   3707046.5\n",
       "1920   100000.0   3000000.0        3000000.0           0.0   2900000.0\n",
       "1925  2072500.0  10000000.0       15500000.0     5500000.0  13427500.0\n",
       "1927  2000000.0         0.0              0.0           0.0  -2000000.0"
      ]
     },
     "execution_count": 94,
     "metadata": {},
     "output_type": "execute_result"
    }
   ],
   "source": [
    "annual_means.head()"
   ]
  },
  {
   "cell_type": "markdown",
   "metadata": {},
   "source": [
    "We can apply our own functions to each group as well, by passing them to the group object's *aggregate(...)* method. For example, if we want a count of how many movies were released in each year, we could simply pass Python's built-in *len* function, to count the length of each group:"
   ]
  },
  {
   "cell_type": "code",
   "execution_count": 95,
   "metadata": {},
   "outputs": [],
   "source": [
    "counts = by_year.aggregate(len)"
   ]
  },
  {
   "cell_type": "code",
   "execution_count": 96,
   "metadata": {},
   "outputs": [
    {
     "data": {
      "text/html": [
       "<div>\n",
       "<style scoped>\n",
       "    .dataframe tbody tr th:only-of-type {\n",
       "        vertical-align: middle;\n",
       "    }\n",
       "\n",
       "    .dataframe tbody tr th {\n",
       "        vertical-align: top;\n",
       "    }\n",
       "\n",
       "    .dataframe thead th {\n",
       "        text-align: right;\n",
       "    }\n",
       "</style>\n",
       "<table border=\"1\" class=\"dataframe\">\n",
       "  <thead>\n",
       "    <tr style=\"text-align: right;\">\n",
       "      <th></th>\n",
       "      <th>Release_Date</th>\n",
       "      <th>Movie</th>\n",
       "      <th>Distributor</th>\n",
       "      <th>Budget</th>\n",
       "      <th>US Gross</th>\n",
       "      <th>Worldwide Gross</th>\n",
       "      <th>Non_US_Gross</th>\n",
       "      <th>Profits</th>\n",
       "    </tr>\n",
       "    <tr>\n",
       "      <th>Year</th>\n",
       "      <th></th>\n",
       "      <th></th>\n",
       "      <th></th>\n",
       "      <th></th>\n",
       "      <th></th>\n",
       "      <th></th>\n",
       "      <th></th>\n",
       "      <th></th>\n",
       "    </tr>\n",
       "  </thead>\n",
       "  <tbody>\n",
       "    <tr>\n",
       "      <th>1915</th>\n",
       "      <td>1</td>\n",
       "      <td>1</td>\n",
       "      <td>1</td>\n",
       "      <td>1</td>\n",
       "      <td>1.0</td>\n",
       "      <td>1.0</td>\n",
       "      <td>1.0</td>\n",
       "      <td>1.0</td>\n",
       "    </tr>\n",
       "    <tr>\n",
       "      <th>1916</th>\n",
       "      <td>2</td>\n",
       "      <td>2</td>\n",
       "      <td>2</td>\n",
       "      <td>2</td>\n",
       "      <td>2.0</td>\n",
       "      <td>2.0</td>\n",
       "      <td>2.0</td>\n",
       "      <td>2.0</td>\n",
       "    </tr>\n",
       "    <tr>\n",
       "      <th>1920</th>\n",
       "      <td>1</td>\n",
       "      <td>1</td>\n",
       "      <td>1</td>\n",
       "      <td>1</td>\n",
       "      <td>1.0</td>\n",
       "      <td>1.0</td>\n",
       "      <td>1.0</td>\n",
       "      <td>1.0</td>\n",
       "    </tr>\n",
       "    <tr>\n",
       "      <th>1925</th>\n",
       "      <td>2</td>\n",
       "      <td>2</td>\n",
       "      <td>2</td>\n",
       "      <td>2</td>\n",
       "      <td>2.0</td>\n",
       "      <td>2.0</td>\n",
       "      <td>2.0</td>\n",
       "      <td>2.0</td>\n",
       "    </tr>\n",
       "    <tr>\n",
       "      <th>1927</th>\n",
       "      <td>1</td>\n",
       "      <td>1</td>\n",
       "      <td>1</td>\n",
       "      <td>1</td>\n",
       "      <td>1.0</td>\n",
       "      <td>1.0</td>\n",
       "      <td>1.0</td>\n",
       "      <td>1.0</td>\n",
       "    </tr>\n",
       "  </tbody>\n",
       "</table>\n",
       "</div>"
      ],
      "text/plain": [
       "      Release_Date  Movie  Distributor  Budget  US Gross  Worldwide Gross  \\\n",
       "Year                                                                        \n",
       "1915             1      1            1       1       1.0              1.0   \n",
       "1916             2      2            2       2       2.0              2.0   \n",
       "1920             1      1            1       1       1.0              1.0   \n",
       "1925             2      2            2       2       2.0              2.0   \n",
       "1927             1      1            1       1       1.0              1.0   \n",
       "\n",
       "      Non_US_Gross  Profits  \n",
       "Year                         \n",
       "1915           1.0      1.0  \n",
       "1916           2.0      2.0  \n",
       "1920           1.0      1.0  \n",
       "1925           2.0      2.0  \n",
       "1927           1.0      1.0  "
      ]
     },
     "execution_count": 96,
     "metadata": {},
     "output_type": "execute_result"
    }
   ],
   "source": [
    "counts.head()"
   ]
  },
  {
   "cell_type": "code",
   "execution_count": 97,
   "metadata": {},
   "outputs": [
    {
     "name": "stdout",
     "output_type": "stream",
     "text": [
      "<class 'pandas.core.frame.DataFrame'>\n",
      "Int64Index: 89 entries, 1915 to 2013\n",
      "Data columns (total 8 columns):\n",
      "Release_Date       89 non-null int64\n",
      "Movie              89 non-null int64\n",
      "Distributor        89 non-null int64\n",
      "Budget             89 non-null int64\n",
      "US Gross           89 non-null float64\n",
      "Worldwide Gross    89 non-null float64\n",
      "Non_US_Gross       89 non-null float64\n",
      "Profits            89 non-null float64\n",
      "dtypes: float64(4), int64(4)\n",
      "memory usage: 6.3 KB\n"
     ]
    }
   ],
   "source": [
    "counts.info()"
   ]
  },
  {
   "cell_type": "markdown",
   "metadata": {},
   "source": [
    "Notice how all the columns (except the first one) in each row have the same value --  we're just counting the number of rows per group (movies per year, in this case), which won't vary from column to column. (The Release_Date column 'remembers' that it's holding a date, and converts the count number accordingly).\n",
    "\n",
    "In fact, there's no need for a whole data frame: the count of movies per year is just a series. If we only want a single series, we can select a column from the grouped object just like from a DataFrame. For the movie counts, it doesn't matter which column we pick (with the exception of the Release_Date column). "
   ]
  },
  {
   "cell_type": "code",
   "execution_count": 98,
   "metadata": {},
   "outputs": [],
   "source": [
    "counts = by_year.Movie.aggregate(len)"
   ]
  },
  {
   "cell_type": "code",
   "execution_count": 99,
   "metadata": {},
   "outputs": [
    {
     "data": {
      "text/plain": [
       "Year\n",
       "1915      1\n",
       "1916      2\n",
       "1920      1\n",
       "1925      2\n",
       "1927      1\n",
       "1929      1\n",
       "1930      1\n",
       "1931      1\n",
       "1933      3\n",
       "1934      1\n",
       "1935      1\n",
       "1936      3\n",
       "1937      1\n",
       "1938      2\n",
       "1939      3\n",
       "1940      3\n",
       "1941      1\n",
       "1942      1\n",
       "1943      2\n",
       "1944      2\n",
       "1945      3\n",
       "1946      4\n",
       "1947      1\n",
       "1948      2\n",
       "1949      2\n",
       "1950      2\n",
       "1951      6\n",
       "1952      3\n",
       "1953      6\n",
       "1954      3\n",
       "       ... \n",
       "1984     23\n",
       "1985     25\n",
       "1986     26\n",
       "1987     27\n",
       "1988     29\n",
       "1989     29\n",
       "1990     28\n",
       "1991     33\n",
       "1992     32\n",
       "1993     41\n",
       "1994     53\n",
       "1995     74\n",
       "1996    104\n",
       "1997     99\n",
       "1998    148\n",
       "1999    179\n",
       "2000    189\n",
       "2001    176\n",
       "2002    207\n",
       "2003    186\n",
       "2004    196\n",
       "2005    211\n",
       "2006    229\n",
       "2007    178\n",
       "2008    177\n",
       "2009    172\n",
       "2010    212\n",
       "2011    154\n",
       "2012     30\n",
       "2013      1\n",
       "Name: Movie, Length: 89, dtype: int64"
      ]
     },
     "execution_count": 99,
     "metadata": {},
     "output_type": "execute_result"
    }
   ],
   "source": [
    "counts"
   ]
  },
  {
   "cell_type": "markdown",
   "metadata": {},
   "source": [
    "As you can see, *counts* is now a series storing the count of movies released per year."
   ]
  },
  {
   "cell_type": "markdown",
   "metadata": {},
   "source": [
    "## Merging\n",
    "\n",
    "You'll frequently find yourself working with more than one dataset at a time, or needing to combine data from several sources for analysis. Fortunately, pandas makes this simple as well.\n",
    "\n",
    "For this example, suppose we're interested in how movies are affected by the state of the American economy. First, let's put together three series: the number of movies released per year, their average budget, and their average profit.\n",
    "\n",
    "The latter two come from the *annual_means* DataFrame. We can create a DataFrame by subsetting a list of columns from another DataFrame, like this:"
   ]
  },
  {
   "cell_type": "code",
   "execution_count": 100,
   "metadata": {},
   "outputs": [],
   "source": [
    "annual_data = annual_means[[\"Budget\", \"Profits\"]]"
   ]
  },
  {
   "cell_type": "code",
   "execution_count": 101,
   "metadata": {},
   "outputs": [
    {
     "name": "stdout",
     "output_type": "stream",
     "text": [
      "<class 'pandas.core.frame.DataFrame'>\n",
      "Int64Index: 89 entries, 1915 to 2013\n",
      "Data columns (total 2 columns):\n",
      "Budget     89 non-null float64\n",
      "Profits    89 non-null float64\n",
      "dtypes: float64(2)\n",
      "memory usage: 2.1 KB\n"
     ]
    }
   ],
   "source": [
    "annual_data.info()"
   ]
  },
  {
   "cell_type": "markdown",
   "metadata": {},
   "source": [
    "To make it clear that we're looking at averages now, we may want to rename the columns. We do this using the *rename* method, and passing a dictionary to the *columns* argument, associating the old names and new names for columns we want to rename:"
   ]
  },
  {
   "cell_type": "code",
   "execution_count": 102,
   "metadata": {},
   "outputs": [],
   "source": [
    "annual_data = annual_data.rename(columns={\"Budget\": \"Mean_Budget\", \"Profits\": \"Mean_Profit\"})"
   ]
  },
  {
   "cell_type": "markdown",
   "metadata": {},
   "source": [
    "Now we want to add the movie count. In this case, we can simply assign it like this:"
   ]
  },
  {
   "cell_type": "code",
   "execution_count": 103,
   "metadata": {},
   "outputs": [],
   "source": [
    "annual_data[\"Count\"] = counts"
   ]
  },
  {
   "cell_type": "code",
   "execution_count": 104,
   "metadata": {},
   "outputs": [
    {
     "data": {
      "text/html": [
       "<div>\n",
       "<style scoped>\n",
       "    .dataframe tbody tr th:only-of-type {\n",
       "        vertical-align: middle;\n",
       "    }\n",
       "\n",
       "    .dataframe tbody tr th {\n",
       "        vertical-align: top;\n",
       "    }\n",
       "\n",
       "    .dataframe thead th {\n",
       "        text-align: right;\n",
       "    }\n",
       "</style>\n",
       "<table border=\"1\" class=\"dataframe\">\n",
       "  <thead>\n",
       "    <tr style=\"text-align: right;\">\n",
       "      <th></th>\n",
       "      <th>Mean_Budget</th>\n",
       "      <th>Mean_Profit</th>\n",
       "      <th>Count</th>\n",
       "    </tr>\n",
       "    <tr>\n",
       "      <th>Year</th>\n",
       "      <th></th>\n",
       "      <th></th>\n",
       "      <th></th>\n",
       "    </tr>\n",
       "  </thead>\n",
       "  <tbody>\n",
       "    <tr>\n",
       "      <th>1915</th>\n",
       "      <td>110000.0</td>\n",
       "      <td>10890000.0</td>\n",
       "      <td>1</td>\n",
       "    </tr>\n",
       "    <tr>\n",
       "      <th>1916</th>\n",
       "      <td>292953.5</td>\n",
       "      <td>3707046.5</td>\n",
       "      <td>2</td>\n",
       "    </tr>\n",
       "    <tr>\n",
       "      <th>1920</th>\n",
       "      <td>100000.0</td>\n",
       "      <td>2900000.0</td>\n",
       "      <td>1</td>\n",
       "    </tr>\n",
       "    <tr>\n",
       "      <th>1925</th>\n",
       "      <td>2072500.0</td>\n",
       "      <td>13427500.0</td>\n",
       "      <td>2</td>\n",
       "    </tr>\n",
       "    <tr>\n",
       "      <th>1927</th>\n",
       "      <td>2000000.0</td>\n",
       "      <td>-2000000.0</td>\n",
       "      <td>1</td>\n",
       "    </tr>\n",
       "  </tbody>\n",
       "</table>\n",
       "</div>"
      ],
      "text/plain": [
       "      Mean_Budget  Mean_Profit  Count\n",
       "Year                                 \n",
       "1915     110000.0   10890000.0      1\n",
       "1916     292953.5    3707046.5      2\n",
       "1920     100000.0    2900000.0      1\n",
       "1925    2072500.0   13427500.0      2\n",
       "1927    2000000.0   -2000000.0      1"
      ]
     },
     "execution_count": 104,
     "metadata": {},
     "output_type": "execute_result"
    }
   ],
   "source": [
    "annual_data.head()"
   ]
  },
  {
   "cell_type": "code",
   "execution_count": 105,
   "metadata": {},
   "outputs": [
    {
     "data": {
      "text/html": [
       "<div>\n",
       "<style scoped>\n",
       "    .dataframe tbody tr th:only-of-type {\n",
       "        vertical-align: middle;\n",
       "    }\n",
       "\n",
       "    .dataframe tbody tr th {\n",
       "        vertical-align: top;\n",
       "    }\n",
       "\n",
       "    .dataframe thead th {\n",
       "        text-align: right;\n",
       "    }\n",
       "</style>\n",
       "<table border=\"1\" class=\"dataframe\">\n",
       "  <thead>\n",
       "    <tr style=\"text-align: right;\">\n",
       "      <th></th>\n",
       "      <th>Mean_Budget</th>\n",
       "      <th>Mean_Profit</th>\n",
       "      <th>Count</th>\n",
       "    </tr>\n",
       "    <tr>\n",
       "      <th>Year</th>\n",
       "      <th></th>\n",
       "      <th></th>\n",
       "      <th></th>\n",
       "    </tr>\n",
       "  </thead>\n",
       "  <tbody>\n",
       "    <tr>\n",
       "      <th>2009</th>\n",
       "      <td>4.297465e+07</td>\n",
       "      <td>8.318954e+07</td>\n",
       "      <td>172</td>\n",
       "    </tr>\n",
       "    <tr>\n",
       "      <th>2010</th>\n",
       "      <td>3.971040e+07</td>\n",
       "      <td>6.317584e+07</td>\n",
       "      <td>212</td>\n",
       "    </tr>\n",
       "    <tr>\n",
       "      <th>2011</th>\n",
       "      <td>4.327040e+07</td>\n",
       "      <td>8.009526e+07</td>\n",
       "      <td>154</td>\n",
       "    </tr>\n",
       "    <tr>\n",
       "      <th>2012</th>\n",
       "      <td>7.505030e+07</td>\n",
       "      <td>-1.076518e+07</td>\n",
       "      <td>30</td>\n",
       "    </tr>\n",
       "    <tr>\n",
       "      <th>2013</th>\n",
       "      <td>2.700000e+08</td>\n",
       "      <td>-2.700000e+08</td>\n",
       "      <td>1</td>\n",
       "    </tr>\n",
       "  </tbody>\n",
       "</table>\n",
       "</div>"
      ],
      "text/plain": [
       "       Mean_Budget   Mean_Profit  Count\n",
       "Year                                   \n",
       "2009  4.297465e+07  8.318954e+07    172\n",
       "2010  3.971040e+07  6.317584e+07    212\n",
       "2011  4.327040e+07  8.009526e+07    154\n",
       "2012  7.505030e+07 -1.076518e+07     30\n",
       "2013  2.700000e+08 -2.700000e+08      1"
      ]
     },
     "execution_count": 105,
     "metadata": {},
     "output_type": "execute_result"
    }
   ],
   "source": [
    "annual_data.tail()"
   ]
  },
  {
   "cell_type": "markdown",
   "metadata": {},
   "source": [
    "Since *counts* and *annual_data* have overlapping index values, pandas automatically knows how to merge them."
   ]
  },
  {
   "cell_type": "markdown",
   "metadata": {},
   "source": [
    "Next, let's load an additional dataset to merge in.  We'll load a simple time series with annual unemployment rates. After loading the dataset above, this is a piece of cake:"
   ]
  },
  {
   "cell_type": "code",
   "execution_count": 107,
   "metadata": {},
   "outputs": [],
   "source": [
    "unemp = pd.read_csv(\"Unemployment.csv\")"
   ]
  },
  {
   "cell_type": "code",
   "execution_count": 108,
   "metadata": {},
   "outputs": [
    {
     "data": {
      "text/html": [
       "<div>\n",
       "<style scoped>\n",
       "    .dataframe tbody tr th:only-of-type {\n",
       "        vertical-align: middle;\n",
       "    }\n",
       "\n",
       "    .dataframe tbody tr th {\n",
       "        vertical-align: top;\n",
       "    }\n",
       "\n",
       "    .dataframe thead th {\n",
       "        text-align: right;\n",
       "    }\n",
       "</style>\n",
       "<table border=\"1\" class=\"dataframe\">\n",
       "  <thead>\n",
       "    <tr style=\"text-align: right;\">\n",
       "      <th></th>\n",
       "      <th>Year</th>\n",
       "      <th>Unemployment</th>\n",
       "    </tr>\n",
       "  </thead>\n",
       "  <tbody>\n",
       "    <tr>\n",
       "      <th>0</th>\n",
       "      <td>1948</td>\n",
       "      <td>3.8</td>\n",
       "    </tr>\n",
       "    <tr>\n",
       "      <th>1</th>\n",
       "      <td>1949</td>\n",
       "      <td>6.1</td>\n",
       "    </tr>\n",
       "    <tr>\n",
       "      <th>2</th>\n",
       "      <td>1950</td>\n",
       "      <td>5.2</td>\n",
       "    </tr>\n",
       "    <tr>\n",
       "      <th>3</th>\n",
       "      <td>1951</td>\n",
       "      <td>3.3</td>\n",
       "    </tr>\n",
       "    <tr>\n",
       "      <th>4</th>\n",
       "      <td>1952</td>\n",
       "      <td>3.0</td>\n",
       "    </tr>\n",
       "    <tr>\n",
       "      <th>5</th>\n",
       "      <td>1953</td>\n",
       "      <td>2.9</td>\n",
       "    </tr>\n",
       "    <tr>\n",
       "      <th>6</th>\n",
       "      <td>1954</td>\n",
       "      <td>5.6</td>\n",
       "    </tr>\n",
       "    <tr>\n",
       "      <th>7</th>\n",
       "      <td>1955</td>\n",
       "      <td>4.4</td>\n",
       "    </tr>\n",
       "    <tr>\n",
       "      <th>8</th>\n",
       "      <td>1956</td>\n",
       "      <td>4.1</td>\n",
       "    </tr>\n",
       "    <tr>\n",
       "      <th>9</th>\n",
       "      <td>1957</td>\n",
       "      <td>4.3</td>\n",
       "    </tr>\n",
       "    <tr>\n",
       "      <th>10</th>\n",
       "      <td>1958</td>\n",
       "      <td>6.8</td>\n",
       "    </tr>\n",
       "    <tr>\n",
       "      <th>11</th>\n",
       "      <td>1959</td>\n",
       "      <td>5.5</td>\n",
       "    </tr>\n",
       "    <tr>\n",
       "      <th>12</th>\n",
       "      <td>1960</td>\n",
       "      <td>5.5</td>\n",
       "    </tr>\n",
       "    <tr>\n",
       "      <th>13</th>\n",
       "      <td>1961</td>\n",
       "      <td>6.7</td>\n",
       "    </tr>\n",
       "    <tr>\n",
       "      <th>14</th>\n",
       "      <td>1962</td>\n",
       "      <td>5.6</td>\n",
       "    </tr>\n",
       "    <tr>\n",
       "      <th>15</th>\n",
       "      <td>1963</td>\n",
       "      <td>5.6</td>\n",
       "    </tr>\n",
       "    <tr>\n",
       "      <th>16</th>\n",
       "      <td>1964</td>\n",
       "      <td>5.2</td>\n",
       "    </tr>\n",
       "    <tr>\n",
       "      <th>17</th>\n",
       "      <td>1965</td>\n",
       "      <td>4.5</td>\n",
       "    </tr>\n",
       "    <tr>\n",
       "      <th>18</th>\n",
       "      <td>1966</td>\n",
       "      <td>3.8</td>\n",
       "    </tr>\n",
       "    <tr>\n",
       "      <th>19</th>\n",
       "      <td>1967</td>\n",
       "      <td>3.8</td>\n",
       "    </tr>\n",
       "    <tr>\n",
       "      <th>20</th>\n",
       "      <td>1968</td>\n",
       "      <td>3.6</td>\n",
       "    </tr>\n",
       "    <tr>\n",
       "      <th>21</th>\n",
       "      <td>1969</td>\n",
       "      <td>3.5</td>\n",
       "    </tr>\n",
       "    <tr>\n",
       "      <th>22</th>\n",
       "      <td>1970</td>\n",
       "      <td>5.0</td>\n",
       "    </tr>\n",
       "    <tr>\n",
       "      <th>23</th>\n",
       "      <td>1971</td>\n",
       "      <td>6.0</td>\n",
       "    </tr>\n",
       "    <tr>\n",
       "      <th>24</th>\n",
       "      <td>1972</td>\n",
       "      <td>5.6</td>\n",
       "    </tr>\n",
       "    <tr>\n",
       "      <th>25</th>\n",
       "      <td>1973</td>\n",
       "      <td>4.9</td>\n",
       "    </tr>\n",
       "    <tr>\n",
       "      <th>26</th>\n",
       "      <td>1974</td>\n",
       "      <td>5.6</td>\n",
       "    </tr>\n",
       "    <tr>\n",
       "      <th>27</th>\n",
       "      <td>1975</td>\n",
       "      <td>8.5</td>\n",
       "    </tr>\n",
       "    <tr>\n",
       "      <th>28</th>\n",
       "      <td>1976</td>\n",
       "      <td>7.7</td>\n",
       "    </tr>\n",
       "    <tr>\n",
       "      <th>29</th>\n",
       "      <td>1977</td>\n",
       "      <td>7.1</td>\n",
       "    </tr>\n",
       "    <tr>\n",
       "      <th>...</th>\n",
       "      <td>...</td>\n",
       "      <td>...</td>\n",
       "    </tr>\n",
       "    <tr>\n",
       "      <th>35</th>\n",
       "      <td>1983</td>\n",
       "      <td>9.6</td>\n",
       "    </tr>\n",
       "    <tr>\n",
       "      <th>36</th>\n",
       "      <td>1984</td>\n",
       "      <td>7.5</td>\n",
       "    </tr>\n",
       "    <tr>\n",
       "      <th>37</th>\n",
       "      <td>1985</td>\n",
       "      <td>7.2</td>\n",
       "    </tr>\n",
       "    <tr>\n",
       "      <th>38</th>\n",
       "      <td>1986</td>\n",
       "      <td>7.0</td>\n",
       "    </tr>\n",
       "    <tr>\n",
       "      <th>39</th>\n",
       "      <td>1987</td>\n",
       "      <td>6.2</td>\n",
       "    </tr>\n",
       "    <tr>\n",
       "      <th>40</th>\n",
       "      <td>1988</td>\n",
       "      <td>5.5</td>\n",
       "    </tr>\n",
       "    <tr>\n",
       "      <th>41</th>\n",
       "      <td>1989</td>\n",
       "      <td>5.3</td>\n",
       "    </tr>\n",
       "    <tr>\n",
       "      <th>42</th>\n",
       "      <td>1990</td>\n",
       "      <td>5.6</td>\n",
       "    </tr>\n",
       "    <tr>\n",
       "      <th>43</th>\n",
       "      <td>1991</td>\n",
       "      <td>6.9</td>\n",
       "    </tr>\n",
       "    <tr>\n",
       "      <th>44</th>\n",
       "      <td>1992</td>\n",
       "      <td>7.5</td>\n",
       "    </tr>\n",
       "    <tr>\n",
       "      <th>45</th>\n",
       "      <td>1993</td>\n",
       "      <td>6.9</td>\n",
       "    </tr>\n",
       "    <tr>\n",
       "      <th>46</th>\n",
       "      <td>1994</td>\n",
       "      <td>6.1</td>\n",
       "    </tr>\n",
       "    <tr>\n",
       "      <th>47</th>\n",
       "      <td>1995</td>\n",
       "      <td>5.6</td>\n",
       "    </tr>\n",
       "    <tr>\n",
       "      <th>48</th>\n",
       "      <td>1996</td>\n",
       "      <td>5.4</td>\n",
       "    </tr>\n",
       "    <tr>\n",
       "      <th>49</th>\n",
       "      <td>1997</td>\n",
       "      <td>4.9</td>\n",
       "    </tr>\n",
       "    <tr>\n",
       "      <th>50</th>\n",
       "      <td>1998</td>\n",
       "      <td>4.5</td>\n",
       "    </tr>\n",
       "    <tr>\n",
       "      <th>51</th>\n",
       "      <td>1999</td>\n",
       "      <td>4.2</td>\n",
       "    </tr>\n",
       "    <tr>\n",
       "      <th>52</th>\n",
       "      <td>2000</td>\n",
       "      <td>4.0</td>\n",
       "    </tr>\n",
       "    <tr>\n",
       "      <th>53</th>\n",
       "      <td>2001</td>\n",
       "      <td>4.7</td>\n",
       "    </tr>\n",
       "    <tr>\n",
       "      <th>54</th>\n",
       "      <td>2002</td>\n",
       "      <td>5.8</td>\n",
       "    </tr>\n",
       "    <tr>\n",
       "      <th>55</th>\n",
       "      <td>2003</td>\n",
       "      <td>6.0</td>\n",
       "    </tr>\n",
       "    <tr>\n",
       "      <th>56</th>\n",
       "      <td>2004</td>\n",
       "      <td>5.5</td>\n",
       "    </tr>\n",
       "    <tr>\n",
       "      <th>57</th>\n",
       "      <td>2005</td>\n",
       "      <td>5.1</td>\n",
       "    </tr>\n",
       "    <tr>\n",
       "      <th>58</th>\n",
       "      <td>2006</td>\n",
       "      <td>4.6</td>\n",
       "    </tr>\n",
       "    <tr>\n",
       "      <th>59</th>\n",
       "      <td>2007</td>\n",
       "      <td>4.6</td>\n",
       "    </tr>\n",
       "    <tr>\n",
       "      <th>60</th>\n",
       "      <td>2008</td>\n",
       "      <td>5.8</td>\n",
       "    </tr>\n",
       "    <tr>\n",
       "      <th>61</th>\n",
       "      <td>2009</td>\n",
       "      <td>9.3</td>\n",
       "    </tr>\n",
       "    <tr>\n",
       "      <th>62</th>\n",
       "      <td>2010</td>\n",
       "      <td>9.6</td>\n",
       "    </tr>\n",
       "    <tr>\n",
       "      <th>63</th>\n",
       "      <td>2011</td>\n",
       "      <td>8.9</td>\n",
       "    </tr>\n",
       "    <tr>\n",
       "      <th>64</th>\n",
       "      <td>2012</td>\n",
       "      <td>8.1</td>\n",
       "    </tr>\n",
       "  </tbody>\n",
       "</table>\n",
       "<p>65 rows × 2 columns</p>\n",
       "</div>"
      ],
      "text/plain": [
       "    Year  Unemployment\n",
       "0   1948           3.8\n",
       "1   1949           6.1\n",
       "2   1950           5.2\n",
       "3   1951           3.3\n",
       "4   1952           3.0\n",
       "5   1953           2.9\n",
       "6   1954           5.6\n",
       "7   1955           4.4\n",
       "8   1956           4.1\n",
       "9   1957           4.3\n",
       "10  1958           6.8\n",
       "11  1959           5.5\n",
       "12  1960           5.5\n",
       "13  1961           6.7\n",
       "14  1962           5.6\n",
       "15  1963           5.6\n",
       "16  1964           5.2\n",
       "17  1965           4.5\n",
       "18  1966           3.8\n",
       "19  1967           3.8\n",
       "20  1968           3.6\n",
       "21  1969           3.5\n",
       "22  1970           5.0\n",
       "23  1971           6.0\n",
       "24  1972           5.6\n",
       "25  1973           4.9\n",
       "26  1974           5.6\n",
       "27  1975           8.5\n",
       "28  1976           7.7\n",
       "29  1977           7.1\n",
       "..   ...           ...\n",
       "35  1983           9.6\n",
       "36  1984           7.5\n",
       "37  1985           7.2\n",
       "38  1986           7.0\n",
       "39  1987           6.2\n",
       "40  1988           5.5\n",
       "41  1989           5.3\n",
       "42  1990           5.6\n",
       "43  1991           6.9\n",
       "44  1992           7.5\n",
       "45  1993           6.9\n",
       "46  1994           6.1\n",
       "47  1995           5.6\n",
       "48  1996           5.4\n",
       "49  1997           4.9\n",
       "50  1998           4.5\n",
       "51  1999           4.2\n",
       "52  2000           4.0\n",
       "53  2001           4.7\n",
       "54  2002           5.8\n",
       "55  2003           6.0\n",
       "56  2004           5.5\n",
       "57  2005           5.1\n",
       "58  2006           4.6\n",
       "59  2007           4.6\n",
       "60  2008           5.8\n",
       "61  2009           9.3\n",
       "62  2010           9.6\n",
       "63  2011           8.9\n",
       "64  2012           8.1\n",
       "\n",
       "[65 rows x 2 columns]"
      ]
     },
     "execution_count": 108,
     "metadata": {},
     "output_type": "execute_result"
    }
   ],
   "source": [
    "unemp"
   ]
  },
  {
   "cell_type": "code",
   "execution_count": null,
   "metadata": {},
   "outputs": [],
   "source": [
    "unemp.dtypes"
   ]
  },
  {
   "cell_type": "code",
   "execution_count": null,
   "metadata": {},
   "outputs": [],
   "source": [
    "print(unemp.Year.min())\n",
    "print(unemp.Year.max())"
   ]
  },
  {
   "cell_type": "markdown",
   "metadata": {},
   "source": [
    "It's been loaded as a DataFrame, with two columns: Year and Unemployment. Note that Year isn't an index, just a regular column. Our goal now is to bring the *Unemployment* column into the *annual_data* frame:"
   ]
  },
  {
   "cell_type": "code",
   "execution_count": null,
   "metadata": {},
   "outputs": [],
   "source": [
    "data_merged = annual_data.merge(unemp, how='left', left_index=True, right_on=\"Year\")"
   ]
  },
  {
   "cell_type": "code",
   "execution_count": null,
   "metadata": {},
   "outputs": [],
   "source": [
    "data_merged.head()"
   ]
  },
  {
   "cell_type": "code",
   "execution_count": null,
   "metadata": {},
   "outputs": [],
   "source": [
    "data_merged.tail()"
   ]
  },
  {
   "cell_type": "markdown",
   "metadata": {},
   "source": [
    "Let's take a closer look at what happened here. The *merge(...)* method of a DataFrame is used to merge that DataFrame (known by convention as the left-hand DataFrame) with another one (the right-hand DataFrame), provided as the first argument. DataFrames are merged by finding rows that match on some criteria, and combining them. We provide the criteria in in the *left_* or *right_* *index=* or  *on=* arguments. In the example above, we're saying to merge rows where the left-hand index matches right-hand *Year* column. \n",
    "\n",
    "The *how=* argument is the type of join to use, a concept you may be familiar with from SQL. There are three types of joins:\n",
    "\n",
    "* *left-join* means keep all the rows from the left-hand dataset, and merge in any matching right-hand rows.\n",
    "* *right-join* means keep all the rows from the right-hand dataset, and merge in any matching left-hand rows.\n",
    "* *inner-join* means keep and merge only rows where there's a match between the left- and right-hand datasets.\n",
    "\n",
    "In this case, the indices on the right-hand dataset are a subset of the left-hand indices, so a right and an inner join are equivalent. Let's quickly see what those results would look like:"
   ]
  },
  {
   "cell_type": "code",
   "execution_count": null,
   "metadata": {},
   "outputs": [],
   "source": [
    "temp = annual_data.merge(unemp, how='right', left_index=True, right_on=\"Year\")"
   ]
  },
  {
   "cell_type": "code",
   "execution_count": null,
   "metadata": {},
   "outputs": [],
   "source": [
    "temp.head()"
   ]
  },
  {
   "cell_type": "code",
   "execution_count": null,
   "metadata": {},
   "outputs": [],
   "source": [
    "temp.tail()"
   ]
  },
  {
   "cell_type": "markdown",
   "metadata": {},
   "source": [
    "Notice that the *merge(...)* method returns a new DataFrame, without modifying the original DataFrame. Notice also that the resulting DataFrame has a different index; whereas previously the left-hand DataFrame was indexed on Year, the merged DataFrame has a simple row-count index, with Year now an ordinary column.\n",
    "\n",
    "If we want to, we can set the *Year* column as the index, using the *set_index(...)* method:"
   ]
  },
  {
   "cell_type": "code",
   "execution_count": null,
   "metadata": {},
   "outputs": [],
   "source": [
    "data_merged = data_merged.set_index(\"Year\")"
   ]
  },
  {
   "cell_type": "code",
   "execution_count": null,
   "metadata": {},
   "outputs": [],
   "source": [
    "data_merged.head()"
   ]
  },
  {
   "cell_type": "markdown",
   "metadata": {},
   "source": [
    "Notice that we're assigning the result of  *set_index(...)* to the *data_merged* DataFrame itself -- again, by default it returns a new DataFrame, without modifying the original one. With most methods, instead of assigning the new DataFrame to the old name, we can use the *inplace* argument, like this:"
   ]
  },
  {
   "cell_type": "code",
   "execution_count": null,
   "metadata": {},
   "outputs": [],
   "source": [
    "# Reset the index, and make the old index \n",
    "data_merged.reset_index(inplace=True) "
   ]
  },
  {
   "cell_type": "code",
   "execution_count": null,
   "metadata": {},
   "outputs": [],
   "source": [
    "data_merged.head()"
   ]
  },
  {
   "cell_type": "code",
   "execution_count": null,
   "metadata": {},
   "outputs": [],
   "source": [
    "data_merged.set_index(\"Year\", inplace=True)"
   ]
  },
  {
   "cell_type": "code",
   "execution_count": null,
   "metadata": {},
   "outputs": [],
   "source": [
    "data_merged.head()"
   ]
  },
  {
   "cell_type": "markdown",
   "metadata": {},
   "source": [
    "Now that we have our data together, we could see whether there are any annual correlations in our data:"
   ]
  },
  {
   "cell_type": "code",
   "execution_count": null,
   "metadata": {},
   "outputs": [],
   "source": [
    "data_merged.corr()"
   ]
  },
  {
   "cell_type": "markdown",
   "metadata": {},
   "source": [
    "It looks like unemployment doesn't correlate at all with the number of movies released, but does correlate weakly with their average budget and profit."
   ]
  }
 ],
 "metadata": {
  "anaconda-cloud": {},
  "kernelspec": {
   "display_name": "Python 3",
   "language": "python",
   "name": "python3"
  },
  "language_info": {
   "codemirror_mode": {
    "name": "ipython",
    "version": 3
   },
   "file_extension": ".py",
   "mimetype": "text/x-python",
   "name": "python",
   "nbconvert_exporter": "python",
   "pygments_lexer": "ipython3",
   "version": "3.6.6"
  }
 },
 "nbformat": 4,
 "nbformat_minor": 1
}
