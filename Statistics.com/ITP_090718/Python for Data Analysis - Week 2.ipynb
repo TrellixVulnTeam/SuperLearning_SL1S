{
 "cells": [
  {
   "cell_type": "markdown",
   "metadata": {},
   "source": [
    "# First steps with data\n",
    "\n",
    "Now that we've got the basics of Python down, let's start working with some real data. We'll cover loading the data in, and dealing with all the issues it might have, storing all the data as its correct type, doing some initial analysis on it, and finally outputting some results out.\n",
    "\n",
    "For this lesson, I've put together some sample data on movies, stored in *MovieData.csv*: it has a good variety of different data types: text (movie names and distributors), numbers (budget, revenue) and dates (release date). In the rest of this lesson, we'll walk through all the steps of analyzing this data, solving common problems as we encounter them. This is a pretty typical workflow: almost always, when working with new data, just loading it into the format that you want will be the first challenge you'll face. \n",
    "\n",
    "In the process, we'll cover a few important Python concepts and techniques:\n",
    "\n",
    "* Working with strings\n",
    "* Opening and reading text files\n",
    "* Working with date-times\n",
    "* List comprehension\n",
    "* Exception-handling"
   ]
  },
  {
   "cell_type": "markdown",
   "metadata": {},
   "source": [
    "## Working with Strings\n",
    "\n",
    "Strings, or text, are a particularly important Python data type. Plain text is nearly universal across computer systems, making it a common way of storing and communicating data. Many file formats (for example, CSV, which stands for or comma-separated values, and even HTML), are really just structured text.\n",
    "\n",
    "Not surprisingly, Python has a variety of built-in methods for working with string variables."
   ]
  },
  {
   "cell_type": "markdown",
   "metadata": {},
   "source": [
    "For example, we can convert a string into all-lower or all-upper case:"
   ]
  },
  {
   "cell_type": "code",
   "execution_count": 1,
   "metadata": {},
   "outputs": [
    {
     "name": "stdout",
     "output_type": "stream",
     "text": [
      "camelcase\n",
      "CAMELCASE\n",
      "CamelCase\n"
     ]
    }
   ],
   "source": [
    "my_text = \"CamelCase\"\n",
    "print(my_text.lower())\n",
    "print(my_text.upper())\n",
    "print(my_text)"
   ]
  },
  {
   "cell_type": "markdown",
   "metadata": {},
   "source": [
    "Notice that these methods return a new, modified string, but don't change the original. To do that, we have to reassign the new value to the variable, for example:"
   ]
  },
  {
   "cell_type": "code",
   "execution_count": 2,
   "metadata": {},
   "outputs": [
    {
     "name": "stdout",
     "output_type": "stream",
     "text": [
      "camelcase\n"
     ]
    }
   ],
   "source": [
    "my_text = \"CamelCase\"\n",
    "my_text = my_text.lower()\n",
    "print(my_text)"
   ]
  },
  {
   "cell_type": "markdown",
   "metadata": {},
   "source": [
    "We can also remove unwanted characters from a string using the *.strip()* method. By default, *.strip()* only removes whitespace:"
   ]
  },
  {
   "cell_type": "code",
   "execution_count": 3,
   "metadata": {},
   "outputs": [
    {
     "name": "stdout",
     "output_type": "stream",
     "text": [
      "  String with WhiteSpace  \n",
      "String with WhiteSpace\n"
     ]
    }
   ],
   "source": [
    "my_text = \"  String with WhiteSpace  \"\n",
    "print(my_text)\n",
    "print(my_text.strip())"
   ]
  },
  {
   "cell_type": "markdown",
   "metadata": {},
   "source": [
    "If you want to remove specific characters (for example, punctuation marks) you can specify them in another string that *strip* takes as an argument, for example:"
   ]
  },
  {
   "cell_type": "code",
   "execution_count": 4,
   "metadata": {},
   "outputs": [
    {
     "name": "stdout",
     "output_type": "stream",
     "text": [
      "    What\n"
     ]
    }
   ],
   "source": [
    "my_text = \"    What?!?!?!\"\n",
    "print(my_text.strip(\".,?!\"))"
   ]
  },
  {
   "cell_type": "markdown",
   "metadata": {},
   "source": [
    "Notice that now *strip* didn't remove the whitespace. To Python, an empty space, \" \", is a character like any other. If you want to include it in the list of characters to remove, you need to add it specifically:"
   ]
  },
  {
   "cell_type": "code",
   "execution_count": 5,
   "metadata": {},
   "outputs": [
    {
     "name": "stdout",
     "output_type": "stream",
     "text": [
      "What\n"
     ]
    }
   ],
   "source": [
    "my_text = \"    What?!?!?! \"\n",
    "print(my_text.strip(\".,?! \")) #  See the added whitespace at the end here"
   ]
  },
  {
   "cell_type": "markdown",
   "metadata": {},
   "source": [
    "Internally, strings can behave like lists. For example, we can access a particular character in a string using square brackets, and get a sub-string by adding a colon:"
   ]
  },
  {
   "cell_type": "code",
   "execution_count": 6,
   "metadata": {},
   "outputs": [
    {
     "name": "stdout",
     "output_type": "stream",
     "text": [
      "the first character is: T\n",
      "the last three characters are: ing\n"
     ]
    }
   ],
   "source": [
    "my_text = \"Testing\"\n",
    "print(\"the first character is:\", my_text[0])\n",
    "print(\"the last three characters are:\", my_text[-3:])"
   ]
  },
  {
   "cell_type": "markdown",
   "metadata": {},
   "source": [
    "We can also get the length of a string using the *len* function:"
   ]
  },
  {
   "cell_type": "code",
   "execution_count": 7,
   "metadata": {},
   "outputs": [
    {
     "name": "stdout",
     "output_type": "stream",
     "text": [
      "The length of the word Testing is: 7\n"
     ]
    }
   ],
   "source": [
    "print(\"The length of the word\", my_text, \"is:\", len(my_text))"
   ]
  },
  {
   "cell_type": "markdown",
   "metadata": {},
   "source": [
    "One particularly important string method is *.split()*, which turns a string into an actual list, dividing it into elements according to a certain character. By default, this character is just a blank space."
   ]
  },
  {
   "cell_type": "code",
   "execution_count": 8,
   "metadata": {},
   "outputs": [
    {
     "name": "stdout",
     "output_type": "stream",
     "text": [
      "['A', 'B', 'C', 'D']\n"
     ]
    }
   ],
   "source": [
    "test_string = \"A B C D\"\n",
    "split_string = test_string.split()\n",
    "print(split_string)"
   ]
  },
  {
   "cell_type": "markdown",
   "metadata": {},
   "source": [
    "Notice that each element in the list is itself a string variable too.\n",
    "\n",
    "These elements can be more than one character long. If your string contains a sentence, for example, splitting it can give you individual words:"
   ]
  },
  {
   "cell_type": "code",
   "execution_count": 9,
   "metadata": {},
   "outputs": [
    {
     "name": "stdout",
     "output_type": "stream",
     "text": [
      "['The', 'quick', 'brown', 'fox', 'jumped', 'over', 'the', 'lazy', 'dog.']\n"
     ]
    }
   ],
   "source": [
    "my_sent = \"The quick brown fox jumped over the lazy dog.\"\n",
    "print(my_sent.split())"
   ]
  },
  {
   "cell_type": "markdown",
   "metadata": {},
   "source": [
    "You can also specify a character to split on -- for example, a comma. This is especially important for working with data files, where columns are frequently comma-separated."
   ]
  },
  {
   "cell_type": "code",
   "execution_count": 10,
   "metadata": {},
   "outputs": [
    {
     "name": "stdout",
     "output_type": "stream",
     "text": [
      "['A', 'B', 'C', 'D']\n"
     ]
    }
   ],
   "source": [
    "test_string = \"A,B,C,D\"\n",
    "split_string = test_string.split(\",\") # Split on commas\n",
    "print(split_string)"
   ]
  },
  {
   "cell_type": "markdown",
   "metadata": {},
   "source": [
    "Notice that when you split on a specific character, those characters are left out of the list -- they are just treated as seperators."
   ]
  },
  {
   "cell_type": "markdown",
   "metadata": {},
   "source": [
    "## Loading data\n",
    "\n",
    "Now that we have an idea of how to work with strings, let's see how to use that to load some input data. A rule of thumb is that just loading data into the format that you want is going to be harder than expected. Here I'm going to walk through loading a typical data file step by step, dealing with all the issues as they come up.\n",
    "\n",
    "The first thing we need to do is open the file with the data, like this:"
   ]
  },
  {
   "cell_type": "code",
   "execution_count": 11,
   "metadata": {},
   "outputs": [],
   "source": [
    "f = open(\"MovieData.csv\")"
   ]
  },
  {
   "cell_type": "markdown",
   "metadata": {},
   "source": [
    "**f** is now storing our connection to the file. Python assumes that we've opened a text file, and knows that text files are divided into lines. CSV stands for *comma-separated values* but it is the accepted extension for all tabular data stored in text files whether or not columns are separated by commas, tabs, or any other character.\n",
    "\n",
    "Let's look at what the contents of the file look like by printing the first few rows:"
   ]
  },
  {
   "cell_type": "code",
   "execution_count": 12,
   "metadata": {},
   "outputs": [
    {
     "name": "stdout",
     "output_type": "stream",
     "text": [
      "Release_Date\tMovie\tDistributor\tBudget\tUS Gross\tWorldwide Gross\n",
      "\n",
      "03/09/12\tJohn Carter\t\t300000000\t66439100\t254439100\n",
      "\n",
      "05/25/07\tPirates of the Caribbean: At World's End\tBuena Vista\t300000000\t309420425\t960996492\n",
      "\n",
      "12/13/13\tThe Hobbit: There and Back Again\tNew Line\t270000000\tUnknown\tUnknown\n",
      "\n",
      "12/14/12\tThe Hobbit: An Unexpected Journey\tNew Line\t270000000\tUnknown\tUnknown\n",
      "\n"
     ]
    }
   ],
   "source": [
    "for i in range(5):\n",
    "    print(f.readline())"
   ]
  },
  {
   "cell_type": "markdown",
   "metadata": {},
   "source": [
    "There are a few things going on here. First, notice the table structure of the data: the first row consists of column headers, and the next rows are data. The columns are separated by whitespace (actually tabs, as we'll see soon). Don't forget about the column headers -- you don't want to confuse them with the data (for example, by including 'Movie' in your list of movie titles).\n",
    "\n",
    "Now look at the code. The file object **f** internally stores what line it's on. Every time you call the readline() function, which is a built-in function of the file object it reads in the next line, then moves down a line. So if you call the function again:"
   ]
  },
  {
   "cell_type": "code",
   "execution_count": 13,
   "metadata": {},
   "outputs": [
    {
     "name": "stdout",
     "output_type": "stream",
     "text": [
      "11/24/10\tTangled\tBuena Vista\t260000000\t200821936\t586581936\n",
      "\n"
     ]
    }
   ],
   "source": [
    "print(f.readline())"
   ]
  },
  {
   "cell_type": "markdown",
   "metadata": {},
   "source": [
    "it'll go down to the next line, until it gets to the end of the file. If you want to 'reset' f and return to the top of the file, you do it with the **.seek(0)**, which sets the file reader back to the beginning, like this:"
   ]
  },
  {
   "cell_type": "code",
   "execution_count": 14,
   "metadata": {},
   "outputs": [
    {
     "name": "stdout",
     "output_type": "stream",
     "text": [
      "Release_Date\tMovie\tDistributor\tBudget\tUS Gross\tWorldwide Gross\n",
      "\n"
     ]
    }
   ],
   "source": [
    "f.seek(0)\n",
    "print(f.readline())"
   ]
  },
  {
   "cell_type": "markdown",
   "metadata": {},
   "source": [
    "Notice the spacing between the blocks of text -- this suggests that the data is tab-delimited. To check, let's view one line 'raw', without being formatted by the print function:"
   ]
  },
  {
   "cell_type": "code",
   "execution_count": 15,
   "metadata": {},
   "outputs": [
    {
     "data": {
      "text/plain": [
       "'03/09/12\\tJohn Carter\\t\\t300000000\\t66439100\\t254439100\\n'"
      ]
     },
     "execution_count": 15,
     "metadata": {},
     "output_type": "execute_result"
    }
   ],
   "source": [
    "f.readline()"
   ]
  },
  {
   "cell_type": "markdown",
   "metadata": {},
   "source": [
    "See the '\\t' that appears where the gaps were before? That's the code for the tab character. Most of the time, columns in csv files are separated by commas (csv stands for \"comma-separated values\" after all), but not always. In this case, tabs were probably a good choice because some movie titles might have commas in the title. \n",
    "\n",
    "We don't want to just print rows one at a time -- we want to store them in a variable, where we can work with them. So the first thing we want to do is read the rows in and put them in a list, like this:"
   ]
  },
  {
   "cell_type": "code",
   "execution_count": 16,
   "metadata": {},
   "outputs": [],
   "source": [
    "rows = [] # List to store rows:\n",
    "f = open(\"MovieData.csv\")\n",
    "for row in f:\n",
    "    rows.append(row)"
   ]
  },
  {
   "cell_type": "markdown",
   "metadata": {},
   "source": [
    "Now **rows** is a list of rows. We can check what it's storing:"
   ]
  },
  {
   "cell_type": "code",
   "execution_count": 17,
   "metadata": {},
   "outputs": [
    {
     "name": "stdout",
     "output_type": "stream",
     "text": [
      "Release_Date\tMovie\tDistributor\tBudget\tUS Gross\tWorldwide Gross\n",
      "\n"
     ]
    }
   ],
   "source": [
    "print(rows[0]) # Column names"
   ]
  },
  {
   "cell_type": "code",
   "execution_count": 18,
   "metadata": {},
   "outputs": [
    {
     "name": "stdout",
     "output_type": "stream",
     "text": [
      "11/17/00\tHow the Grinch Stole Christmas\tUniversal\t123000000\t260044825\t345141403\n",
      "\n"
     ]
    }
   ],
   "source": [
    "print(rows[133]) # Some arbitrary number"
   ]
  },
  {
   "cell_type": "markdown",
   "metadata": {},
   "source": [
    "Right now **rows** is just a list of strings, with each row just one long piece of raw text -- not data we can work with yet. \n",
    "\n",
    "For our data, we want to split each row on the tab character, or '\\t'. Then we add the split row to our list of rows:"
   ]
  },
  {
   "cell_type": "code",
   "execution_count": 19,
   "metadata": {},
   "outputs": [],
   "source": [
    "rows = []\n",
    "f = open(\"MovieData.csv\")\n",
    "for raw_row in f:\n",
    "        row = raw_row.split(\"\\t\")\n",
    "        rows.append(row)"
   ]
  },
  {
   "cell_type": "markdown",
   "metadata": {},
   "source": [
    "Now **rows** is a list of lists; each item in the list is a row, and each row is a list of cells."
   ]
  },
  {
   "cell_type": "code",
   "execution_count": 20,
   "metadata": {},
   "outputs": [
    {
     "name": "stdout",
     "output_type": "stream",
     "text": [
      "['Release_Date', 'Movie', 'Distributor', 'Budget', 'US Gross', 'Worldwide Gross\\n']\n",
      "['03/09/12', 'John Carter', '', '300000000', '66439100', '254439100\\n']\n"
     ]
    }
   ],
   "source": [
    "print(rows[0])\n",
    "print(rows[1])"
   ]
  },
  {
   "cell_type": "code",
   "execution_count": 21,
   "metadata": {},
   "outputs": [
    {
     "name": "stdout",
     "output_type": "stream",
     "text": [
      "03/09/12\n"
     ]
    }
   ],
   "source": [
    "print(rows[1][0]) # The first element of the second row"
   ]
  },
  {
   "cell_type": "code",
   "execution_count": 22,
   "metadata": {},
   "outputs": [
    {
     "name": "stdout",
     "output_type": "stream",
     "text": [
      "3628\n"
     ]
    }
   ],
   "source": [
    "# We can also count the number of rows:\n",
    "print(len(rows))"
   ]
  },
  {
   "cell_type": "markdown",
   "metadata": {},
   "source": [
    "Notice that even the numbers above have quotation marks around them, meaning that they're being read in as text. On its own, Python doesn't know the difference between 'John Carter' and '66439100' -- both are just raw text. We want to convert the numeric columns to numbers, using *casting*, which we touched on last week. We do it like this:"
   ]
  },
  {
   "cell_type": "code",
   "execution_count": 23,
   "metadata": {},
   "outputs": [
    {
     "ename": "ValueError",
     "evalue": "invalid literal for int() with base 10: 'Budget'",
     "output_type": "error",
     "traceback": [
      "\u001b[0;31m---------------------------------------------------------------------------\u001b[0m",
      "\u001b[0;31mValueError\u001b[0m                                Traceback (most recent call last)",
      "\u001b[0;32m<ipython-input-23-5da7e1a2c21a>\u001b[0m in \u001b[0;36m<module>\u001b[0;34m()\u001b[0m\n\u001b[1;32m      3\u001b[0m \u001b[0;32mfor\u001b[0m \u001b[0mraw_row\u001b[0m \u001b[0;32min\u001b[0m \u001b[0mf\u001b[0m\u001b[0;34m:\u001b[0m\u001b[0;34m\u001b[0m\u001b[0m\n\u001b[1;32m      4\u001b[0m     \u001b[0mrow\u001b[0m \u001b[0;34m=\u001b[0m \u001b[0mraw_row\u001b[0m\u001b[0;34m.\u001b[0m\u001b[0msplit\u001b[0m\u001b[0;34m(\u001b[0m\u001b[0;34m\"\\t\"\u001b[0m\u001b[0;34m)\u001b[0m\u001b[0;34m\u001b[0m\u001b[0m\n\u001b[0;32m----> 5\u001b[0;31m     \u001b[0mrow\u001b[0m\u001b[0;34m[\u001b[0m\u001b[0;36m3\u001b[0m\u001b[0;34m]\u001b[0m \u001b[0;34m=\u001b[0m \u001b[0mint\u001b[0m\u001b[0;34m(\u001b[0m\u001b[0mrow\u001b[0m\u001b[0;34m[\u001b[0m\u001b[0;36m3\u001b[0m\u001b[0;34m]\u001b[0m\u001b[0;34m)\u001b[0m \u001b[0;31m# Budget\u001b[0m\u001b[0;34m\u001b[0m\u001b[0m\n\u001b[0m\u001b[1;32m      6\u001b[0m     \u001b[0mrow\u001b[0m\u001b[0;34m[\u001b[0m\u001b[0;36m4\u001b[0m\u001b[0;34m]\u001b[0m \u001b[0;34m=\u001b[0m \u001b[0mint\u001b[0m\u001b[0;34m(\u001b[0m\u001b[0mrow\u001b[0m\u001b[0;34m[\u001b[0m\u001b[0;36m4\u001b[0m\u001b[0;34m]\u001b[0m\u001b[0;34m)\u001b[0m \u001b[0;31m# US Gross\u001b[0m\u001b[0;34m\u001b[0m\u001b[0m\n\u001b[1;32m      7\u001b[0m     \u001b[0mrow\u001b[0m\u001b[0;34m[\u001b[0m\u001b[0;36m5\u001b[0m\u001b[0;34m]\u001b[0m \u001b[0;34m=\u001b[0m \u001b[0mint\u001b[0m\u001b[0;34m(\u001b[0m\u001b[0mrow\u001b[0m\u001b[0;34m[\u001b[0m\u001b[0;36m5\u001b[0m\u001b[0;34m]\u001b[0m\u001b[0;34m)\u001b[0m \u001b[0;31m# Worldwide Gross\u001b[0m\u001b[0;34m\u001b[0m\u001b[0m\n",
      "\u001b[0;31mValueError\u001b[0m: invalid literal for int() with base 10: 'Budget'"
     ]
    }
   ],
   "source": [
    "f = open(\"MovieData.csv\")\n",
    "rows = []\n",
    "for raw_row in f:\n",
    "    row = raw_row.split(\"\\t\")\n",
    "    row[3] = int(row[3]) # Budget\n",
    "    row[4] = int(row[4]) # US Gross\n",
    "    row[5] = int(row[5]) # Worldwide Gross\n",
    "    rows.append(row)"
   ]
  },
  {
   "cell_type": "markdown",
   "metadata": {},
   "source": [
    "Remember about the dangers of mixing the header with the content? That's what's happening here. Notice that Python shows us exactly what line of code is problem is (where the error is being thrown), and what the error is. The error *invalid literal for int()* means that we're trying to convert something invalid to an integer; Python helpfully tells us what the text is that isn't converting -- the string *Budget*, which we know is the heading in the first row. So we need to skip it."
   ]
  },
  {
   "cell_type": "code",
   "execution_count": 24,
   "metadata": {},
   "outputs": [
    {
     "name": "stdout",
     "output_type": "stream",
     "text": [
      "Release_Date\tMovie\tDistributor\tBudget\tUS Gross\tWorldwide Gross\n",
      "\n"
     ]
    },
    {
     "ename": "ValueError",
     "evalue": "invalid literal for int() with base 10: 'Unknown'",
     "output_type": "error",
     "traceback": [
      "\u001b[0;31m---------------------------------------------------------------------------\u001b[0m",
      "\u001b[0;31mValueError\u001b[0m                                Traceback (most recent call last)",
      "\u001b[0;32m<ipython-input-24-0e2302ea568e>\u001b[0m in \u001b[0;36m<module>\u001b[0;34m()\u001b[0m\n\u001b[1;32m      6\u001b[0m     \u001b[0mrow\u001b[0m \u001b[0;34m=\u001b[0m \u001b[0mraw_row\u001b[0m\u001b[0;34m.\u001b[0m\u001b[0msplit\u001b[0m\u001b[0;34m(\u001b[0m\u001b[0;34m\"\\t\"\u001b[0m\u001b[0;34m)\u001b[0m\u001b[0;34m\u001b[0m\u001b[0m\n\u001b[1;32m      7\u001b[0m     \u001b[0mrow\u001b[0m\u001b[0;34m[\u001b[0m\u001b[0;36m3\u001b[0m\u001b[0;34m]\u001b[0m \u001b[0;34m=\u001b[0m \u001b[0mint\u001b[0m\u001b[0;34m(\u001b[0m\u001b[0mrow\u001b[0m\u001b[0;34m[\u001b[0m\u001b[0;36m3\u001b[0m\u001b[0;34m]\u001b[0m\u001b[0;34m)\u001b[0m \u001b[0;31m# Budget\u001b[0m\u001b[0;34m\u001b[0m\u001b[0m\n\u001b[0;32m----> 8\u001b[0;31m     \u001b[0mrow\u001b[0m\u001b[0;34m[\u001b[0m\u001b[0;36m4\u001b[0m\u001b[0;34m]\u001b[0m \u001b[0;34m=\u001b[0m \u001b[0mint\u001b[0m\u001b[0;34m(\u001b[0m\u001b[0mrow\u001b[0m\u001b[0;34m[\u001b[0m\u001b[0;36m4\u001b[0m\u001b[0;34m]\u001b[0m\u001b[0;34m)\u001b[0m \u001b[0;31m# US Gross\u001b[0m\u001b[0;34m\u001b[0m\u001b[0m\n\u001b[0m\u001b[1;32m      9\u001b[0m     \u001b[0mrow\u001b[0m\u001b[0;34m[\u001b[0m\u001b[0;36m5\u001b[0m\u001b[0;34m]\u001b[0m \u001b[0;34m=\u001b[0m \u001b[0mint\u001b[0m\u001b[0;34m(\u001b[0m\u001b[0mrow\u001b[0m\u001b[0;34m[\u001b[0m\u001b[0;36m5\u001b[0m\u001b[0;34m]\u001b[0m\u001b[0;34m)\u001b[0m \u001b[0;31m# Worldwide Gross\u001b[0m\u001b[0;34m\u001b[0m\u001b[0m\n\u001b[1;32m     10\u001b[0m     \u001b[0mrows\u001b[0m\u001b[0;34m.\u001b[0m\u001b[0mappend\u001b[0m\u001b[0;34m(\u001b[0m\u001b[0mrow\u001b[0m\u001b[0;34m)\u001b[0m\u001b[0;34m\u001b[0m\u001b[0m\n",
      "\u001b[0;31mValueError\u001b[0m: invalid literal for int() with base 10: 'Unknown'"
     ]
    }
   ],
   "source": [
    "f = open(\"MovieData.csv\")\n",
    "rows = []\n",
    "first_row = f.readline() # Save the first row, and move to the next one\n",
    "print(first_row)\n",
    "for raw_row in f: # This will actually start from the second row.\n",
    "    row = raw_row.split(\"\\t\")\n",
    "    row[3] = int(row[3]) # Budget\n",
    "    row[4] = int(row[4]) # US Gross\n",
    "    row[5] = int(row[5]) # Worldwide Gross\n",
    "    rows.append(row)"
   ]
  },
  {
   "cell_type": "markdown",
   "metadata": {},
   "source": [
    "We're still getting a similar error, except now the string that isn't converting is the word *Unknown*. It looks like when there's missing data, it isn't just left blank; instead, the table has the word \"Unknown\" in that space. That's pretty common; often missing records in a dataset will be filled with \"Unknown\" or \"NA\" or something similar. \n",
    "\n",
    "So how to get around this problem? There are a few things we can do -- we can use an **if** statement to check whether each record is equal to \"Unknown\" or not; or, we can catch the error using the **try: ... except:** statements.\n",
    "\n",
    "Here's how try-except works: you specify a block of code for the computer to try and execute; if it encounters an error, instead of failing (like it did above) it goes to a block of code you've provided in case of an error. This is called Error Catching, and it looks like this:"
   ]
  },
  {
   "cell_type": "code",
   "execution_count": 25,
   "metadata": {},
   "outputs": [
    {
     "ename": "ValueError",
     "evalue": "invalid literal for int() with base 10: 'Not a number'",
     "output_type": "error",
     "traceback": [
      "\u001b[0;31m---------------------------------------------------------------------------\u001b[0m",
      "\u001b[0;31mValueError\u001b[0m                                Traceback (most recent call last)",
      "\u001b[0;32m<ipython-input-25-47e958fef2ba>\u001b[0m in \u001b[0;36m<module>\u001b[0;34m()\u001b[0m\n\u001b[1;32m      1\u001b[0m \u001b[0;31m# Without error catching.\u001b[0m\u001b[0;34m\u001b[0m\u001b[0;34m\u001b[0m\u001b[0m\n\u001b[1;32m      2\u001b[0m \u001b[0mtext\u001b[0m \u001b[0;34m=\u001b[0m \u001b[0;34m\"Not a number\"\u001b[0m\u001b[0;34m\u001b[0m\u001b[0m\n\u001b[0;32m----> 3\u001b[0;31m \u001b[0ma\u001b[0m \u001b[0;34m=\u001b[0m \u001b[0mint\u001b[0m\u001b[0;34m(\u001b[0m\u001b[0mtext\u001b[0m\u001b[0;34m)\u001b[0m\u001b[0;34m\u001b[0m\u001b[0m\n\u001b[0m\u001b[1;32m      4\u001b[0m \u001b[0mprint\u001b[0m\u001b[0;34m(\u001b[0m\u001b[0ma\u001b[0m\u001b[0;34m)\u001b[0m\u001b[0;34m\u001b[0m\u001b[0m\n",
      "\u001b[0;31mValueError\u001b[0m: invalid literal for int() with base 10: 'Not a number'"
     ]
    }
   ],
   "source": [
    "# Without error catching.\n",
    "text = \"Not a number\"\n",
    "a = int(text)\n",
    "print(a)"
   ]
  },
  {
   "cell_type": "code",
   "execution_count": 26,
   "metadata": {},
   "outputs": [
    {
     "name": "stdout",
     "output_type": "stream",
     "text": [
      "The value of text cannot be converted to an integer!\n"
     ]
    }
   ],
   "source": [
    "# With error catching\n",
    "text = \"Not a number\"\n",
    "try:\n",
    "    # In this example, we'll never get here:\n",
    "    a = int(text)\n",
    "    print(\"The value of text is: \", a)\n",
    "except:\n",
    "    # Instead, we'll go here.\n",
    "    a = 0\n",
    "    print(\"The value of text cannot be converted to an integer!\")\n",
    "    "
   ]
  },
  {
   "cell_type": "code",
   "execution_count": 27,
   "metadata": {},
   "outputs": [
    {
     "name": "stdout",
     "output_type": "stream",
     "text": [
      "The value of text is:  100\n"
     ]
    }
   ],
   "source": [
    "text = \"100\"\n",
    "try:\n",
    "    # This time, we'll get here...\n",
    "    a = int(text)\n",
    "    print(\"The value of text is: \", a)\n",
    "except:\n",
    "    # ...but not here\n",
    "    a = 0\n",
    "    print(\"The value of text cannot be converted to an integer!\")\n",
    "    "
   ]
  },
  {
   "cell_type": "markdown",
   "metadata": {},
   "source": [
    "Now let's implement this as we read in the movie dataset. To be on the safe side, let's wrap all the int() conversions in **try-except**, since they will probably have the same problem. If a string can't be converted to a number, we'll replace it with **None**, a special value meaning (you guessed it) a missing value. "
   ]
  },
  {
   "cell_type": "code",
   "execution_count": 28,
   "metadata": {},
   "outputs": [
    {
     "name": "stdout",
     "output_type": "stream",
     "text": [
      "Release_Date\tMovie\tDistributor\tBudget\tUS Gross\tWorldwide Gross\n",
      "\n"
     ]
    }
   ],
   "source": [
    "f = open(\"MovieData.csv\")\n",
    "rows = []\n",
    "first_row = f.readline() # Save the first row, and move to the next one\n",
    "print(first_row)\n",
    "for raw_row in f: # This will actually start from the second row.\n",
    "    row = raw_row.split(\"\\t\")\n",
    "    row[3] = int(row[3]) # Budget\n",
    "    try:\n",
    "        row[4] = int(row[4]) # US Gross\n",
    "    except:\n",
    "        row[4] = None\n",
    "    try:\n",
    "        row[5] = int(row[5]) # Worldwide Gross\n",
    "    except:\n",
    "        row[5] = None\n",
    "    rows.append(row)"
   ]
  },
  {
   "cell_type": "markdown",
   "metadata": {},
   "source": [
    "Check one of the troublesome rows:"
   ]
  },
  {
   "cell_type": "code",
   "execution_count": 29,
   "metadata": {},
   "outputs": [
    {
     "data": {
      "text/plain": [
       "['12/13/13',\n",
       " 'The Hobbit: There and Back Again',\n",
       " 'New Line',\n",
       " 270000000,\n",
       " None,\n",
       " None]"
      ]
     },
     "execution_count": 29,
     "metadata": {},
     "output_type": "execute_result"
    }
   ],
   "source": [
    "rows[2]"
   ]
  },
  {
   "cell_type": "markdown",
   "metadata": {},
   "source": [
    "Okay, looking good! However, putting try-except pairs around each line is cumbersome. In data analysis, good code and lazy code often go together, and the solution that requires the leasts repetitive typing is probably the more elegant one too. Notice how we're essentially repeating the same operation several times: converting to int when possible, otherwise assigning None. So let's wrap these all up in a function, and use it to do the conversion."
   ]
  },
  {
   "cell_type": "code",
   "execution_count": 30,
   "metadata": {},
   "outputs": [],
   "source": [
    "def convert_to_int(text):\n",
    "    try:\n",
    "        return int(text)\n",
    "    except:\n",
    "        return None"
   ]
  },
  {
   "cell_type": "code",
   "execution_count": 31,
   "metadata": {},
   "outputs": [
    {
     "name": "stdout",
     "output_type": "stream",
     "text": [
      "Release_Date\tMovie\tDistributor\tBudget\tUS Gross\tWorldwide Gross\n",
      "\n"
     ]
    }
   ],
   "source": [
    "f = open(\"MovieData.csv\")\n",
    "rows = []\n",
    "first_row = f.readline() # Save the first row, and move to the next one\n",
    "print(first_row)\n",
    "for raw_row in f: # This will actually start from the second row.\n",
    "    row = raw_row.split(\"\\t\")\n",
    "    row[3] = convert_to_int(row[3]) # Budget\n",
    "    row[4] = convert_to_int(row[4]) # US Gross\n",
    "    row[5] = convert_to_int(row[5]) # Worldwide Gross\n",
    "    rows.append(row)"
   ]
  },
  {
   "cell_type": "code",
   "execution_count": 32,
   "metadata": {},
   "outputs": [
    {
     "data": {
      "text/plain": [
       "['03/01/91', 'The Doors', 'Sony', 40000000, 34416893, None]"
      ]
     },
     "execution_count": 32,
     "metadata": {},
     "output_type": "execute_result"
    }
   ],
   "source": [
    "rows[1000]"
   ]
  },
  {
   "cell_type": "markdown",
   "metadata": {},
   "source": [
    "Better! Same thing, but now the code is more elegant.\n",
    "\n",
    "Notice that the code above has three lines that basically look the same, except for a single number? That's not a big deal here, but what if you wanted to convert 10 columns, or 100? So we can make the code even more compact by replacing the repeated lines with a loop:"
   ]
  },
  {
   "cell_type": "code",
   "execution_count": 33,
   "metadata": {},
   "outputs": [
    {
     "name": "stdout",
     "output_type": "stream",
     "text": [
      "Release_Date\tMovie\tDistributor\tBudget\tUS Gross\tWorldwide Gross\n",
      "\n"
     ]
    }
   ],
   "source": [
    "f = open(\"MovieData.csv\")\n",
    "rows = []\n",
    "first_row = f.readline() # Save the first row, and move to the next one\n",
    "print(first_row)\n",
    "for raw_row in f: # This will actually start from the second row.\n",
    "    row = raw_row.split(\"\\t\")\n",
    "    for i in range(3, 6): # Loop from 3 to 5\n",
    "        row[i] = convert_to_int(row[i])\n",
    "    rows.append(row)"
   ]
  },
  {
   "cell_type": "code",
   "execution_count": 34,
   "metadata": {},
   "outputs": [
    {
     "data": {
      "text/plain": [
       "['03/01/91', 'The Doors', 'Sony', 40000000, 34416893, None]"
      ]
     },
     "execution_count": 34,
     "metadata": {},
     "output_type": "execute_result"
    }
   ],
   "source": [
    "rows[1000]"
   ]
  },
  {
   "cell_type": "markdown",
   "metadata": {},
   "source": [
    "## Working with date-times\n",
    "\n",
    "Notice how the date is still just a text string, though, meaning we can't make meaningful use of it for analysis. Obviously, we don't want to convert it to a number, since dates are a distinct type of data. Python offers a useful **datetime** object which stores (as the name implies) a representation of a date and time.\n",
    "\n",
    "A bit confusingly, the **datetime** object is inside a **datetime** module, which contains other functions too. Let's import the module, and give it an alias to make it easier to access:"
   ]
  },
  {
   "cell_type": "code",
   "execution_count": 35,
   "metadata": {},
   "outputs": [],
   "source": [
    "import datetime as dt"
   ]
  },
  {
   "cell_type": "markdown",
   "metadata": {},
   "source": [
    "Let's start by creating a datetime object that represents the time it was created at:"
   ]
  },
  {
   "cell_type": "code",
   "execution_count": 36,
   "metadata": {},
   "outputs": [
    {
     "data": {
      "text/plain": [
       "datetime.datetime(2017, 5, 1, 22, 18, 13, 675042)"
      ]
     },
     "execution_count": 36,
     "metadata": {},
     "output_type": "execute_result"
    }
   ],
   "source": [
    "dt.datetime.now()"
   ]
  },
  {
   "cell_type": "markdown",
   "metadata": {},
   "source": [
    "We can store this object in a variable, and then work with it. For example:"
   ]
  },
  {
   "cell_type": "code",
   "execution_count": 37,
   "metadata": {},
   "outputs": [
    {
     "name": "stdout",
     "output_type": "stream",
     "text": [
      "2017-05-01 22:18:14.811658\n"
     ]
    }
   ],
   "source": [
    "now = dt.datetime.now()\n",
    "print(now)"
   ]
  },
  {
   "cell_type": "code",
   "execution_count": 38,
   "metadata": {},
   "outputs": [
    {
     "name": "stdout",
     "output_type": "stream",
     "text": [
      "2017\n",
      "5\n"
     ]
    }
   ],
   "source": [
    "print(now.year)\n",
    "print(now.month)"
   ]
  },
  {
   "cell_type": "code",
   "execution_count": 39,
   "metadata": {},
   "outputs": [
    {
     "name": "stdout",
     "output_type": "stream",
     "text": [
      "It's the future!\n"
     ]
    }
   ],
   "source": [
    "# The date's components are just numbers, so we can compare them to other numbers:\n",
    "if now.year > 2000: \n",
    "    print(\"It's the future!\")"
   ]
  },
  {
   "cell_type": "code",
   "execution_count": 40,
   "metadata": {},
   "outputs": [
    {
     "name": "stdout",
     "output_type": "stream",
     "text": [
      "Time has passed!\n"
     ]
    }
   ],
   "source": [
    "# We can compare datetimes to each other directly too.\n",
    "\n",
    "later = dt.datetime.now() # The new 'now'\n",
    "if later > now: \n",
    "    print(\"Time has passed!\")"
   ]
  },
  {
   "cell_type": "markdown",
   "metadata": {},
   "source": [
    "We can create a datetime object by specifying the exact date and time we want it to represent, like this:"
   ]
  },
  {
   "cell_type": "code",
   "execution_count": 41,
   "metadata": {},
   "outputs": [
    {
     "name": "stdout",
     "output_type": "stream",
     "text": [
      "2005-01-01 12:17:02\n"
     ]
    }
   ],
   "source": [
    "some_date_and_time = dt.datetime(year=2005, month=1, day=1, hour=12, minute=17, second=2)\n",
    "print(some_date_and_time)"
   ]
  },
  {
   "cell_type": "markdown",
   "metadata": {},
   "source": [
    "Or we can only specify a date, without a time:"
   ]
  },
  {
   "cell_type": "code",
   "execution_count": 42,
   "metadata": {},
   "outputs": [
    {
     "name": "stdout",
     "output_type": "stream",
     "text": [
      "2010-01-01 00:00:00\n"
     ]
    }
   ],
   "source": [
    "some_date = dt.datetime(year=2010, month=1, day=1) # Happy new year!\n",
    "print(some_date)"
   ]
  },
  {
   "cell_type": "markdown",
   "metadata": {},
   "source": [
    "However, we can't leave anything else blank; we need at least a year, month and day."
   ]
  },
  {
   "cell_type": "code",
   "execution_count": 43,
   "metadata": {},
   "outputs": [
    {
     "ename": "TypeError",
     "evalue": "Required argument 'day' (pos 3) not found",
     "output_type": "error",
     "traceback": [
      "\u001b[0;31m---------------------------------------------------------------------------\u001b[0m",
      "\u001b[0;31mTypeError\u001b[0m                                 Traceback (most recent call last)",
      "\u001b[0;32m<ipython-input-43-d32149afc04a>\u001b[0m in \u001b[0;36m<module>\u001b[0;34m()\u001b[0m\n\u001b[0;32m----> 1\u001b[0;31m \u001b[0msome_month\u001b[0m \u001b[0;34m=\u001b[0m \u001b[0mdt\u001b[0m\u001b[0;34m.\u001b[0m\u001b[0mdatetime\u001b[0m\u001b[0;34m(\u001b[0m\u001b[0myear\u001b[0m\u001b[0;34m=\u001b[0m\u001b[0;36m2003\u001b[0m\u001b[0;34m,\u001b[0m \u001b[0mmonth\u001b[0m\u001b[0;34m=\u001b[0m\u001b[0;36m2\u001b[0m\u001b[0;34m)\u001b[0m\u001b[0;34m\u001b[0m\u001b[0m\n\u001b[0m",
      "\u001b[0;31mTypeError\u001b[0m: Required argument 'day' (pos 3) not found"
     ]
    }
   ],
   "source": [
    "some_month = dt.datetime(year=2003, month=2)"
   ]
  },
  {
   "cell_type": "markdown",
   "metadata": {},
   "source": [
    "We don't even need to specifically say 'year=...'; the datetime object will assume that numbers are being inputted in the order year, month, day, hour, minute, second...  It'll also throw an error if it gets a nonsensical date:"
   ]
  },
  {
   "cell_type": "code",
   "execution_count": 44,
   "metadata": {},
   "outputs": [
    {
     "data": {
      "text/plain": [
       "datetime.datetime(1941, 12, 7, 0, 0)"
      ]
     },
     "execution_count": 44,
     "metadata": {},
     "output_type": "execute_result"
    }
   ],
   "source": [
    "dt.datetime(1941, 12, 7) # This date is valid"
   ]
  },
  {
   "cell_type": "code",
   "execution_count": 45,
   "metadata": {},
   "outputs": [
    {
     "ename": "ValueError",
     "evalue": "day is out of range for month",
     "output_type": "error",
     "traceback": [
      "\u001b[0;31m---------------------------------------------------------------------------\u001b[0m",
      "\u001b[0;31mValueError\u001b[0m                                Traceback (most recent call last)",
      "\u001b[0;32m<ipython-input-45-71d3edd3f186>\u001b[0m in \u001b[0;36m<module>\u001b[0;34m()\u001b[0m\n\u001b[1;32m      1\u001b[0m \u001b[0;31m# This date is not valid\u001b[0m\u001b[0;34m\u001b[0m\u001b[0;34m\u001b[0m\u001b[0m\n\u001b[0;32m----> 2\u001b[0;31m \u001b[0mdt\u001b[0m\u001b[0;34m.\u001b[0m\u001b[0mdatetime\u001b[0m\u001b[0;34m(\u001b[0m\u001b[0;36m1931\u001b[0m\u001b[0;34m,\u001b[0m \u001b[0;36m5\u001b[0m\u001b[0;34m,\u001b[0m \u001b[0;36m35\u001b[0m\u001b[0;34m)\u001b[0m \u001b[0;31m#  35th of May.\u001b[0m\u001b[0;34m\u001b[0m\u001b[0m\n\u001b[0m",
      "\u001b[0;31mValueError\u001b[0m: day is out of range for month"
     ]
    }
   ],
   "source": [
    "# This date is not valid\n",
    "dt.datetime(1931, 5, 35) #  35th of May."
   ]
  },
  {
   "cell_type": "markdown",
   "metadata": {},
   "source": [
    "So how do we convert the date strings in our data to a datetime object. First, we have to split them, the same way as we split the rows. Let's remind ourselves what the strings look like:"
   ]
  },
  {
   "cell_type": "code",
   "execution_count": 46,
   "metadata": {},
   "outputs": [
    {
     "name": "stdout",
     "output_type": "stream",
     "text": [
      "['03/01/91', 'The Doors', 'Sony', 40000000, 34416893, None]\n"
     ]
    }
   ],
   "source": [
    "print(rows[1000])"
   ]
  },
  {
   "cell_type": "markdown",
   "metadata": {},
   "source": [
    "Just like we split the rows into cells on the '\\t' tab character, we can split the date on the '/' character, like this:"
   ]
  },
  {
   "cell_type": "code",
   "execution_count": 47,
   "metadata": {},
   "outputs": [
    {
     "name": "stdout",
     "output_type": "stream",
     "text": [
      "['03', '01', '91']\n"
     ]
    }
   ],
   "source": [
    "test_date = \"03/01/91\"\n",
    "print(test_date.split(\"/\"))"
   ]
  },
  {
   "cell_type": "markdown",
   "metadata": {},
   "source": [
    "When we do a split where we know how many values we expect, we can immediately assign each to a variable, like this:"
   ]
  },
  {
   "cell_type": "code",
   "execution_count": 48,
   "metadata": {},
   "outputs": [
    {
     "name": "stdout",
     "output_type": "stream",
     "text": [
      "91\n",
      "03\n",
      "01\n"
     ]
    }
   ],
   "source": [
    "month, day, year = test_date.split(\"/\") # Assign three variables at once\n",
    "print(year)\n",
    "print(month) \n",
    "print(day)"
   ]
  },
  {
   "cell_type": "markdown",
   "metadata": {},
   "source": [
    "In a case like this where we know exactly how many characters each element consists of, we can treat the string like a list of characters"
   ]
  },
  {
   "cell_type": "code",
   "execution_count": 49,
   "metadata": {},
   "outputs": [
    {
     "name": "stdout",
     "output_type": "stream",
     "text": [
      "03\n",
      "/\n",
      "01\n",
      "91\n"
     ]
    }
   ],
   "source": [
    "print(test_date[:2]) # First two characters, 0 and 1\n",
    "print(test_date[2]) # The third character, the '/'\n",
    "print(test_date[3:5]) # Characters 3 and 4\n",
    "print(test_date[6:]) # Character 6 to the end"
   ]
  },
  {
   "cell_type": "markdown",
   "metadata": {},
   "source": [
    "Of course, these are still strings. We need to convert them to integers, just like we did above:"
   ]
  },
  {
   "cell_type": "code",
   "execution_count": 50,
   "metadata": {},
   "outputs": [
    {
     "name": "stdout",
     "output_type": "stream",
     "text": [
      "91 3 1\n"
     ]
    }
   ],
   "source": [
    "month, day, year = test_date.split(\"/\") # Assign three variables at once\n",
    "# Convert strings to integers\n",
    "month = int(month)\n",
    "day = int(day)\n",
    "year = int(year)\n",
    "\n",
    "print(year, month, day)"
   ]
  },
  {
   "cell_type": "markdown",
   "metadata": {},
   "source": [
    "Note that the datetime object requires a four-digit year, while our data only has two-digit years. If we use only two digits, Python we'll assume we mean a date in the first century."
   ]
  },
  {
   "cell_type": "code",
   "execution_count": 51,
   "metadata": {},
   "outputs": [
    {
     "name": "stdout",
     "output_type": "stream",
     "text": [
      "91\n",
      "Date in the far past\n"
     ]
    }
   ],
   "source": [
    "test_date = dt.datetime(year, month, day)\n",
    "print(test_date.year)\n",
    "if test_date.year > 1900:\n",
    "    print(\"Date in the near past\")\n",
    "else:\n",
    "    print(\"Date in the far past\")"
   ]
  },
  {
   "cell_type": "markdown",
   "metadata": {},
   "source": [
    "The solution is to manually add the century to the date:"
   ]
  },
  {
   "cell_type": "code",
   "execution_count": 52,
   "metadata": {},
   "outputs": [
    {
     "name": "stdout",
     "output_type": "stream",
     "text": [
      "1991\n",
      "Date in the near past\n"
     ]
    }
   ],
   "source": [
    "year = year + 1900\n",
    "test_date = dt.datetime(year, month, day)\n",
    "print(test_date.year)\n",
    "if test_date.year > 1990:\n",
    "    print(\"Date in the near past\")\n",
    "else:\n",
    "    print(\"Date in the far past\")"
   ]
  },
  {
   "cell_type": "markdown",
   "metadata": {},
   "source": [
    "However, a quick examination shows us that the data has dates on both sides of the millenium:"
   ]
  },
  {
   "cell_type": "code",
   "execution_count": 53,
   "metadata": {},
   "outputs": [
    {
     "name": "stdout",
     "output_type": "stream",
     "text": [
      "['12/13/13', 'The Hobbit: There and Back Again', 'New Line', 270000000, None, None]\n"
     ]
    }
   ],
   "source": [
    "print(rows[2])"
   ]
  },
  {
   "cell_type": "code",
   "execution_count": 54,
   "metadata": {},
   "outputs": [
    {
     "name": "stdout",
     "output_type": "stream",
     "text": [
      "['03/01/91', 'The Doors', 'Sony', 40000000, 34416893, None]\n"
     ]
    }
   ],
   "source": [
    "print(rows[1000])"
   ]
  },
  {
   "cell_type": "markdown",
   "metadata": {},
   "source": [
    "So we need a cutoff to figure out what to add to the year. Let's start with 50, and then check to see whether that works. Let's also wrap all the conversion in a function, to make the code more readable:"
   ]
  },
  {
   "cell_type": "code",
   "execution_count": 55,
   "metadata": {},
   "outputs": [],
   "source": [
    "def make_date(date_str):\n",
    "    '''\n",
    "    Turn a MM/DD/YY string into a datetime object.\n",
    "    '''\n",
    "    m, d, y = date_str.split(\"/\")\n",
    "    m = int(m)\n",
    "    d = int(d)\n",
    "    y = int(y)\n",
    "    if y > 50:\n",
    "        y += 1900\n",
    "    else:\n",
    "        y += 2000\n",
    "    return dt.datetime(y, m, d)"
   ]
  },
  {
   "cell_type": "code",
   "execution_count": 56,
   "metadata": {},
   "outputs": [
    {
     "name": "stdout",
     "output_type": "stream",
     "text": [
      "1991-03-01 00:00:00\n",
      "2013-12-13 00:00:00\n"
     ]
    }
   ],
   "source": [
    "# Testing:\n",
    "print(make_date(rows[1000][0]))\n",
    "print(make_date(rows[2][0]))"
   ]
  },
  {
   "cell_type": "markdown",
   "metadata": {},
   "source": [
    "Now that we've tested the function, let's integrate it into the data reading. The code below should start to look pretty familiar by this point:"
   ]
  },
  {
   "cell_type": "code",
   "execution_count": 57,
   "metadata": {},
   "outputs": [
    {
     "name": "stdout",
     "output_type": "stream",
     "text": [
      "Release_Date\tMovie\tDistributor\tBudget\tUS Gross\tWorldwide Gross\n",
      "\n"
     ]
    }
   ],
   "source": [
    "f = open(\"MovieData.csv\")\n",
    "rows = []\n",
    "first_row = f.readline() # Save the first row, and move to the next one\n",
    "print(first_row)\n",
    "for raw_row in f: # This will actually start from the second row.\n",
    "    row = raw_row.split(\"\\t\")\n",
    "    row[0] = make_date(row[0]) # Convert the date string to the datetime object\n",
    "    row[3] = convert_to_int(row[3]) # Budget\n",
    "    row[4] = convert_to_int(row[4]) # US Gross\n",
    "    row[5] = convert_to_int(row[5]) # Worldwide Gross\n",
    "    rows.append(row)"
   ]
  },
  {
   "cell_type": "code",
   "execution_count": 58,
   "metadata": {},
   "outputs": [
    {
     "name": "stdout",
     "output_type": "stream",
     "text": [
      "[datetime.datetime(1991, 3, 1, 0, 0), 'The Doors', 'Sony', 40000000, 34416893, None]\n",
      "[datetime.datetime(1989, 3, 1, 0, 0), 'New York Stories', 'Buena Vista', 15000000, 10763469, None]\n"
     ]
    }
   ],
   "source": [
    "# Test on some arbitrary rows.\n",
    "print(rows[1000])\n",
    "print(rows[2022])"
   ]
  },
  {
   "cell_type": "markdown",
   "metadata": {},
   "source": [
    "## List comprehension\n",
    "\n",
    "So we actually have all the records in the format we want them; now, how do we do analysis on them? \n",
    "\n",
    "By and large, we want to do analysis column-wise: for example, finding the average film budget or gross -- or initially in this case, finding the range of dates. To do this here, we need to create new lists of only the rows we want -- think of it as selecting columns. \n",
    "\n",
    "We can do this in a for loop, by creating a new list and then iterating over all the rows, and adding only the value we're interested in to the list, like this:"
   ]
  },
  {
   "cell_type": "code",
   "execution_count": 59,
   "metadata": {},
   "outputs": [
    {
     "name": "stdout",
     "output_type": "stream",
     "text": [
      "3627\n",
      "2012-03-09 00:00:00\n"
     ]
    }
   ],
   "source": [
    "all_dates = []\n",
    "for row in rows:\n",
    "    all_dates.append(row[0]) \n",
    "print(len(all_dates)) # Number of records\n",
    "print(all_dates[0]) # First record"
   ]
  },
  {
   "cell_type": "markdown",
   "metadata": {},
   "source": [
    "This sort of thing comes up often enough that Python provides a specific idiom for creating lists from other lists, called *list comprehension*. It puts the for loop inside of the square brackets. It works like this:"
   ]
  },
  {
   "cell_type": "code",
   "execution_count": 60,
   "metadata": {},
   "outputs": [
    {
     "name": "stdout",
     "output_type": "stream",
     "text": [
      "3627\n",
      "2012-03-09 00:00:00\n"
     ]
    }
   ],
   "source": [
    "all_dates = [row[0] for row in rows] # List comprehension\n",
    "\n",
    "print(len(all_dates)) # Number of records\n",
    "print(all_dates[0]) # First record"
   ]
  },
  {
   "cell_type": "markdown",
   "metadata": {},
   "source": [
    "As you can see, this produces results that are identical to the for loop method above in more compact code. \n",
    "\n",
    "Now that we have our list of dates, we can quickly use built-in functions min and max to find the start and stop points of the data."
   ]
  },
  {
   "cell_type": "code",
   "execution_count": 61,
   "metadata": {},
   "outputs": [
    {
     "name": "stdout",
     "output_type": "stream",
     "text": [
      "Earliest date:  1951-02-23 00:00:00\n",
      "Latest date:  2050-05-17 00:00:00\n"
     ]
    }
   ],
   "source": [
    "print(\"Earliest date: \", min(all_dates))\n",
    "print(\"Latest date: \", max(all_dates))"
   ]
  },
  {
   "cell_type": "markdown",
   "metadata": {},
   "source": [
    "Uh-oh, it looks like there are pre-1950s movies the dataset, so splitting on 1950 won't work. \n",
    "\n",
    "Let's go for something more sure: if the two-digit year is greater than 13, we'll assume it was a 20th-century year. Below 13 and it's a 21st-century year. Let's revise the code accordingly."
   ]
  },
  {
   "cell_type": "code",
   "execution_count": 63,
   "metadata": {},
   "outputs": [],
   "source": [
    "def make_date(date_str):\n",
    "    '''\n",
    "    Turn a MM/DD/YY string into a datetime object\n",
    "    '''\n",
    "    m, d, y = date_str.split(\"/\")\n",
    "    m = int(m)\n",
    "    d = int(d)\n",
    "    y = int(y)\n",
    "    if y > 13:\n",
    "        y += 1900\n",
    "    else:\n",
    "        y += 2000\n",
    "    return dt.datetime(y, m, d)"
   ]
  },
  {
   "cell_type": "code",
   "execution_count": 64,
   "metadata": {},
   "outputs": [
    {
     "name": "stdout",
     "output_type": "stream",
     "text": [
      "Release_Date\tMovie\tDistributor\tBudget\tUS Gross\tWorldwide Gross\n",
      "\n"
     ]
    }
   ],
   "source": [
    "f = open(\"MovieData.csv\")\n",
    "rows = []\n",
    "first_row = f.readline() # Save the first row, and move to the next one\n",
    "print(first_row)\n",
    "for raw_row in f: # This will actually start from the second row.\n",
    "    row = raw_row.split(\"\\t\")\n",
    "    row[0] = make_date(row[0])\n",
    "    for i in range(3, 6):\n",
    "        row[i] = convert_to_int(row[i])\n",
    "    rows.append(row)"
   ]
  },
  {
   "cell_type": "markdown",
   "metadata": {},
   "source": [
    "Now let's just repeat the list comprehension to get the new dates:"
   ]
  },
  {
   "cell_type": "code",
   "execution_count": 65,
   "metadata": {},
   "outputs": [
    {
     "name": "stdout",
     "output_type": "stream",
     "text": [
      "Earliest date:  1915-02-08 00:00:00\n",
      "Latest date:  2013-12-13 00:00:00\n"
     ]
    }
   ],
   "source": [
    "all_dates = [row[0] for row in rows]\n",
    "print(\"Earliest date: \", min(all_dates))\n",
    "print(\"Latest date: \", max(all_dates))"
   ]
  },
  {
   "cell_type": "markdown",
   "metadata": {},
   "source": [
    "That 2013-12-12 still looks suspect, since the file was created earlier than that. Are we sure that it should be 2013 and not 1913? So let's take a closer look at the row it appears in -- but first we need to find it. We can do that by iterating over all the rows:"
   ]
  },
  {
   "cell_type": "code",
   "execution_count": 66,
   "metadata": {},
   "outputs": [
    {
     "name": "stdout",
     "output_type": "stream",
     "text": [
      "[datetime.datetime(2013, 12, 13, 0, 0), 'The Hobbit: There and Back Again', 'New Line', 270000000, None, None]\n"
     ]
    }
   ],
   "source": [
    "target_date = max(all_dates)\n",
    "for row in rows:\n",
    "    if row[0] == target_date:\n",
    "        print(row)"
   ]
  },
  {
   "cell_type": "markdown",
   "metadata": {},
   "source": [
    "We know that The Hobbit couldn't have been released in 1913, since the book it's based on was still many years in the future. In fact, however, a quick Google search will us that 'The Hobbit: There and Back Again', was the original name for the second of two planned \"Hobbit\" movies, before they were made into a trilogy. This row seems to be an earlier estimate, rather than an actual released movie. That would also explain why there is no Gross data.\n",
    "\n",
    "This is a reminder that parsing the data correctly doesn't ensure that the data is a correct reflection of the world. If something looks wrong or weird in the data, it's worth following up on and examining closely. \n",
    "\n",
    "For completeness's sake, let's check and see what the earliest movie is in the dataset -- to make sure we aren't recording the future release date (for example) of a movie slated for 2015:"
   ]
  },
  {
   "cell_type": "code",
   "execution_count": 67,
   "metadata": {},
   "outputs": [
    {
     "name": "stdout",
     "output_type": "stream",
     "text": [
      "[datetime.datetime(1915, 2, 8, 0, 0), 'The Birth of a Nation', '', 110000, 10000000, 11000000]\n"
     ]
    }
   ],
   "source": [
    "target_date = min(all_dates)\n",
    "for row in rows:\n",
    "    if row[0] == target_date:\n",
    "        print(row)"
   ]
  },
  {
   "cell_type": "markdown",
   "metadata": {},
   "source": [
    "This looks correct; a quick Google search will confirm that 'Birth of a Nation' was indeed released in 1915.\n",
    "\n",
    "Now that we've roughly verified the dates, we can go on to analyze some of the other fields, such as the budgets:"
   ]
  },
  {
   "cell_type": "code",
   "execution_count": 68,
   "metadata": {},
   "outputs": [
    {
     "name": "stdout",
     "output_type": "stream",
     "text": [
      "3627\n"
     ]
    }
   ],
   "source": [
    "all_budgets = [row[3] for row in rows]\n",
    "print(len(all_budgets))"
   ]
  },
  {
   "cell_type": "markdown",
   "metadata": {},
   "source": [
    "If we have all the budgets, we can analyze them like we discussed last week. For example, let's recreate the function that computes the mean of a list:"
   ]
  },
  {
   "cell_type": "code",
   "execution_count": 69,
   "metadata": {},
   "outputs": [],
   "source": [
    "def find_mean(num_list):\n",
    "    '''\n",
    "    Find the average of num_list\n",
    "    '''\n",
    "    total = 0.0\n",
    "    for x in num_list:\n",
    "        total += x\n",
    "    return total / len(num_list)"
   ]
  },
  {
   "cell_type": "code",
   "execution_count": 70,
   "metadata": {},
   "outputs": [
    {
     "data": {
      "text/plain": [
       "31570720.09897987"
      ]
     },
     "execution_count": 70,
     "metadata": {},
     "output_type": "execute_result"
    }
   ],
   "source": [
    "find_mean(all_budgets)"
   ]
  },
  {
   "cell_type": "markdown",
   "metadata": {},
   "source": [
    "We can also use min and max:"
   ]
  },
  {
   "cell_type": "code",
   "execution_count": 71,
   "metadata": {},
   "outputs": [
    {
     "name": "stdout",
     "output_type": "stream",
     "text": [
      "Min budget:  1100\n",
      "Max budget:  300000000\n"
     ]
    }
   ],
   "source": [
    "print(\"Min budget: \", min(all_budgets))\n",
    "print(\"Max budget: \", max(all_budgets))"
   ]
  },
  {
   "cell_type": "markdown",
   "metadata": {},
   "source": [
    "## Writing to file\n",
    "Finally, let's see how to output data. The first step is to open a new file to write some output to. We do it like this:"
   ]
  },
  {
   "cell_type": "code",
   "execution_count": 72,
   "metadata": {},
   "outputs": [],
   "source": [
    "f = open(\"My_file.txt\", \"wb\") # Open a file\n",
    "f.close() # And immediately close it."
   ]
  },
  {
   "cell_type": "markdown",
   "metadata": {},
   "source": [
    "Notice the 'wb' after the comma: the 'w' means **w**rite -- it tells Python that you're opening a file for writing. By default, if the file doesn't exist, Python will create it.\n",
    "\n",
    "**warning:** If the file *does* exist, this will overwrite its entire contents. Be careful with your file naming, since you won't get a warning that you've overwriting an existing file.\n",
    "\n",
    "The **b** means **binary**. On Mac and Linux, this doesn't make a difference, but on Windows machines it makes sure the file only takes the exact input you give it, and doesn't add any additional characters to the end of the line like it would for a text file. It's good practice to include the **b** for cross-platform compatibility.\n",
    "\n",
    "Now that you've opened a file, you can write to it. For practice, let's write some sample text to a new file. It's very important to close a file once you're done with it -- otherwise,the data you wrote to it may not be saved."
   ]
  },
  {
   "cell_type": "code",
   "execution_count": 73,
   "metadata": {},
   "outputs": [],
   "source": [
    "f = open(\"My_file.txt\", \"w\")\n",
    "f.write(\"Hello world.\")\n",
    "f.close()"
   ]
  },
  {
   "cell_type": "markdown",
   "metadata": {},
   "source": [
    "Open the file up in a text editor. You'll see that it contains the \"Hello world.\" string we put there. Let's try another one:"
   ]
  },
  {
   "cell_type": "code",
   "execution_count": 74,
   "metadata": {},
   "outputs": [],
   "source": [
    "f = open(\"My_file.txt\", \"w\")\n",
    "f.write(\"Here is some text.\")\n",
    "f.write(\"And here is some more text.\")\n",
    "f.close()"
   ]
  },
  {
   "cell_type": "markdown",
   "metadata": {},
   "source": [
    "Open the file; you'll notice that we've overwritten the previous text, and that there's no line break between the two lines we wrote to the file; we need to insert them manually, using the '\\n' character, the special character for a line break. "
   ]
  },
  {
   "cell_type": "code",
   "execution_count": 75,
   "metadata": {},
   "outputs": [],
   "source": [
    "f = open(\"My_file.txt\", \"w\")\n",
    "f.write(\"Here is some text.\\n\")\n",
    "f.write(\"And here is some more text.\\n\\nThis text should have an empty line above it.\")\n",
    "f.close()"
   ]
  },
  {
   "cell_type": "markdown",
   "metadata": {},
   "source": [
    "Let's try to write some actual data. Suppose we have a few rows of coordinates, just some x and y values:"
   ]
  },
  {
   "cell_type": "code",
   "execution_count": 76,
   "metadata": {},
   "outputs": [],
   "source": [
    "data = [\n",
    "[1, 2],\n",
    "[3, 5],\n",
    "[2, 2],\n",
    "[4, 3]\n",
    "]"
   ]
  },
  {
   "cell_type": "code",
   "execution_count": 77,
   "metadata": {},
   "outputs": [
    {
     "ename": "TypeError",
     "evalue": "write() argument must be str, not list",
     "output_type": "error",
     "traceback": [
      "\u001b[0;31m---------------------------------------------------------------------------\u001b[0m",
      "\u001b[0;31mTypeError\u001b[0m                                 Traceback (most recent call last)",
      "\u001b[0;32m<ipython-input-77-03ac09d32fa7>\u001b[0m in \u001b[0;36m<module>\u001b[0;34m()\u001b[0m\n\u001b[1;32m      1\u001b[0m \u001b[0mf\u001b[0m \u001b[0;34m=\u001b[0m \u001b[0mopen\u001b[0m\u001b[0;34m(\u001b[0m\u001b[0;34m\"my_data.csv\"\u001b[0m\u001b[0;34m,\u001b[0m \u001b[0;34m\"w\"\u001b[0m\u001b[0;34m)\u001b[0m\u001b[0;34m\u001b[0m\u001b[0m\n\u001b[1;32m      2\u001b[0m \u001b[0;32mfor\u001b[0m \u001b[0mrow\u001b[0m \u001b[0;32min\u001b[0m \u001b[0mdata\u001b[0m\u001b[0;34m:\u001b[0m\u001b[0;34m\u001b[0m\u001b[0m\n\u001b[0;32m----> 3\u001b[0;31m     \u001b[0mf\u001b[0m\u001b[0;34m.\u001b[0m\u001b[0mwrite\u001b[0m\u001b[0;34m(\u001b[0m\u001b[0mrow\u001b[0m\u001b[0;34m)\u001b[0m\u001b[0;34m\u001b[0m\u001b[0m\n\u001b[0m\u001b[1;32m      4\u001b[0m     \u001b[0mf\u001b[0m\u001b[0;34m.\u001b[0m\u001b[0mwrite\u001b[0m\u001b[0;34m(\u001b[0m\u001b[0;34m\"\\n\"\u001b[0m\u001b[0;34m)\u001b[0m\u001b[0;34m\u001b[0m\u001b[0m\n\u001b[1;32m      5\u001b[0m \u001b[0mf\u001b[0m\u001b[0;34m.\u001b[0m\u001b[0mclose\u001b[0m\u001b[0;34m(\u001b[0m\u001b[0;34m)\u001b[0m\u001b[0;34m\u001b[0m\u001b[0m\n",
      "\u001b[0;31mTypeError\u001b[0m: write() argument must be str, not list"
     ]
    }
   ],
   "source": [
    "f = open(\"my_data.csv\", \"w\")\n",
    "for row in data:\n",
    "    f.write(row)\n",
    "    f.write(\"\\n\")\n",
    "f.close()"
   ]
  },
  {
   "cell_type": "markdown",
   "metadata": {},
   "source": [
    "As you can see, we need to translate the list into a string to be able to write it. Let's try that again:"
   ]
  },
  {
   "cell_type": "code",
   "execution_count": 78,
   "metadata": {},
   "outputs": [],
   "source": [
    "f = open(\"my_data.csv\", \"w\")\n",
    "for row in data:\n",
    "    f.write(str(row))\n",
    "    f.write(\"\\n\")\n",
    "f.close()"
   ]
  },
  {
   "cell_type": "markdown",
   "metadata": {},
   "source": [
    "Open the file and you'll see that it's indeed written the lists, square brackets and all. Almost there, but we don't want the square brackets, just the data. So instead of converting the entire list to a string at once, we'll convert one record at a time. And let's add some column headings while we're at it."
   ]
  },
  {
   "cell_type": "code",
   "execution_count": 79,
   "metadata": {},
   "outputs": [],
   "source": [
    "f = open(\"my_data.csv\", \"w\")\n",
    "f.write(\"x, y\\n\") # The column headings.\n",
    "for row in data:\n",
    "    f.write(str(row[0])) # Write the first value\n",
    "    f.write(\",\") # Add the comma to separate the values\n",
    "    f.write(str(row[1])) # Write the second value\n",
    "    f.write(\"\\n\") # Add the line break\n",
    "f.close()"
   ]
  },
  {
   "cell_type": "markdown",
   "metadata": {},
   "source": [
    "Now we've got pretty much exactly what we wanted. The downside is that is was cumbersome to code, and would get more so the more columns we'd add. Fortunately, Python comes with a built-in module for writing and reading csv data, called csv. Pretty easy name to remember. \n",
    "\n",
    "First, we need to import it:"
   ]
  },
  {
   "cell_type": "code",
   "execution_count": 80,
   "metadata": {},
   "outputs": [],
   "source": [
    "import csv"
   ]
  },
  {
   "cell_type": "markdown",
   "metadata": {},
   "source": [
    "To output using the csv module, we first create a file, then create a CSV Writer with the file object, like this:"
   ]
  },
  {
   "cell_type": "code",
   "execution_count": 81,
   "metadata": {},
   "outputs": [],
   "source": [
    "f = open(\"my_data.csv\", \"w\", newline='')\n",
    "\n",
    "my_writer = csv.writer(f) # Create the CSV writer connected to f"
   ]
  },
  {
   "cell_type": "markdown",
   "metadata": {},
   "source": [
    "**my_writer** now holds a CSV writer object; think of it as a translator from Python data to how we want the data stored in the CSV file. Unlike the basic file object, the CSV writer knows how to write entire lists as a single line of CSV data. \n",
    "\n",
    "You'll notice that we added something to the `open` function: `newline=''`. That tells Python not to automatically add a new-line character when a line is written, since `csv.writer` does that automatically."
   ]
  },
  {
   "cell_type": "code",
   "execution_count": 82,
   "metadata": {},
   "outputs": [],
   "source": [
    "for row in data:\n",
    "    my_writer.writerow(row)\n",
    "f.close()"
   ]
  },
  {
   "cell_type": "markdown",
   "metadata": {},
   "source": [
    "You'll see that the file has written exactly the way we want it to, with fewer lines of code. Just one thing is missing -- the column headers."
   ]
  },
  {
   "cell_type": "code",
   "execution_count": 83,
   "metadata": {},
   "outputs": [],
   "source": [
    "f = open(\"my_data.csv\", \"w\", newline='')\n",
    "my_writer = csv.writer(f)\n",
    "\n",
    "header = [\"x\", \"y\"]\n",
    "my_writer.writerow(header)\n",
    "for row in data:\n",
    "    my_writer.writerow(row)\n",
    "f.close()"
   ]
  },
  {
   "cell_type": "markdown",
   "metadata": {},
   "source": [
    "The csv module can also be used as a reader, which works similarly; here, the Reader object acts as a translator from file text to Python lists."
   ]
  },
  {
   "cell_type": "code",
   "execution_count": 84,
   "metadata": {},
   "outputs": [
    {
     "name": "stdout",
     "output_type": "stream",
     "text": [
      "['x', 'y']\n",
      "['1', '2']\n",
      "['3', '5']\n",
      "['2', '2']\n",
      "['4', '3']\n"
     ]
    }
   ],
   "source": [
    "f = open(\"my_data.csv\") # For reading, not writing this time.\n",
    "my_reader = csv.reader(f)\n",
    "new_rows = [row for row in my_reader]\n",
    "f.close()\n",
    "\n",
    "for row in new_rows:\n",
    "    print(row)"
   ]
  }
 ],
 "metadata": {
  "anaconda-cloud": {},
  "kernelspec": {
   "display_name": "Python [data]",
   "language": "python",
   "name": "Python [data]"
  },
  "language_info": {
   "codemirror_mode": {
    "name": "ipython",
    "version": 3
   },
   "file_extension": ".py",
   "mimetype": "text/x-python",
   "name": "python",
   "nbconvert_exporter": "python",
   "pygments_lexer": "ipython3",
   "version": "3.5.2"
  }
 },
 "nbformat": 4,
 "nbformat_minor": 1
}
