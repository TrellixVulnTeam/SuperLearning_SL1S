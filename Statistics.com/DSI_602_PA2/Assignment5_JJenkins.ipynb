{
 "cells": [
  {
   "cell_type": "markdown",
   "metadata": {},
   "source": [
    "# Assignment 5: Discriminant Analysis\n",
    "\n",
    "## The problems in this assignment are based on the exercises of Chapter 12 in Data Mining for Business Analytics.\n",
    "\n",
    "### Scenario: A management consultant is studying the roles played by experience and training in a system administrator’s ability to complete a set of tasks in a specified amount of time. In particular, she is interested in discriminating between administrators who are able to complete given tasks within a specified time and those who are not. Data are collected on the performance of 75 randomly selected administrators. Using these data, the consultant performs a discriminant analysis.\n",
    "\n",
    "### Data: They are stored in the file SystemAdministrators.csv. The variable Experience measures months of full time system administrator experience, while Training measures number of relevant training credits. The dependent variable Completed is either Yes or No, according to whether or not the administrator completed the tasks."
   ]
  },
  {
   "cell_type": "code",
   "execution_count": 1,
   "metadata": {},
   "outputs": [
    {
     "name": "stdout",
     "output_type": "stream",
     "text": [
      "no display found. Using non-interactive Agg backend\n"
     ]
    }
   ],
   "source": [
    "%matplotlib inline\n",
    "\n",
    "from pathlib import Path\n",
    "\n",
    "import numpy as np\n",
    "import pandas as pd\n",
    "from sklearn.discriminant_analysis import LinearDiscriminantAnalysis\n",
    "import matplotlib.pylab as plt\n",
    "from dmba import classificationSummary\n",
    "from sklearn.preprocessing import MinMaxScaler\n",
    "from sklearn.model_selection import cross_val_score, train_test_split, GridSearchCV\n",
    "from sklearn.neural_network import MLPClassifier, MLPRegressor\n",
    "from dmba import classificationSummary, regressionSummary"
   ]
  },
  {
   "cell_type": "code",
   "execution_count": 2,
   "metadata": {},
   "outputs": [
    {
     "data": {
      "text/html": [
       "<div>\n",
       "<style scoped>\n",
       "    .dataframe tbody tr th:only-of-type {\n",
       "        vertical-align: middle;\n",
       "    }\n",
       "\n",
       "    .dataframe tbody tr th {\n",
       "        vertical-align: top;\n",
       "    }\n",
       "\n",
       "    .dataframe thead th {\n",
       "        text-align: right;\n",
       "    }\n",
       "</style>\n",
       "<table border=\"1\" class=\"dataframe\">\n",
       "  <thead>\n",
       "    <tr style=\"text-align: right;\">\n",
       "      <th></th>\n",
       "      <th>Experience</th>\n",
       "      <th>Training</th>\n",
       "      <th>Completed task</th>\n",
       "    </tr>\n",
       "  </thead>\n",
       "  <tbody>\n",
       "    <tr>\n",
       "      <th>70</th>\n",
       "      <td>5.6</td>\n",
       "      <td>4</td>\n",
       "      <td>No</td>\n",
       "    </tr>\n",
       "    <tr>\n",
       "      <th>71</th>\n",
       "      <td>5.9</td>\n",
       "      <td>8</td>\n",
       "      <td>No</td>\n",
       "    </tr>\n",
       "    <tr>\n",
       "      <th>72</th>\n",
       "      <td>6.4</td>\n",
       "      <td>6</td>\n",
       "      <td>No</td>\n",
       "    </tr>\n",
       "    <tr>\n",
       "      <th>73</th>\n",
       "      <td>3.8</td>\n",
       "      <td>4</td>\n",
       "      <td>No</td>\n",
       "    </tr>\n",
       "    <tr>\n",
       "      <th>74</th>\n",
       "      <td>5.3</td>\n",
       "      <td>4</td>\n",
       "      <td>No</td>\n",
       "    </tr>\n",
       "  </tbody>\n",
       "</table>\n",
       "</div>"
      ],
      "text/plain": [
       "    Experience  Training Completed task\n",
       "70         5.6         4             No\n",
       "71         5.9         8             No\n",
       "72         6.4         6             No\n",
       "73         3.8         4             No\n",
       "74         5.3         4             No"
      ]
     },
     "execution_count": 2,
     "metadata": {},
     "output_type": "execute_result"
    }
   ],
   "source": [
    "# Read in data\n",
    "administrators = pd.read_csv('dmba\\SystemAdministrators.csv')\n",
    "administrators.tail()"
   ]
  },
  {
   "cell_type": "markdown",
   "metadata": {},
   "source": [
    "### Question 1 (6 points) Run a discriminant analysis with both predictors using the entire dataset as training data. Among those who completed the tasks, what is the percentage of administrators who are classified incorrectly as failing to complete the tasks?"
   ]
  },
  {
   "cell_type": "code",
   "execution_count": 3,
   "metadata": {},
   "outputs": [
    {
     "data": {
      "text/plain": [
       "Index(['Experience', 'Training', 'Completed task'], dtype='object')"
      ]
     },
     "execution_count": 3,
     "metadata": {},
     "output_type": "execute_result"
    }
   ],
   "source": [
    "administrators.columns"
   ]
  },
  {
   "cell_type": "code",
   "execution_count": 4,
   "metadata": {},
   "outputs": [
    {
     "data": {
      "text/html": [
       "<div>\n",
       "<style scoped>\n",
       "    .dataframe tbody tr th:only-of-type {\n",
       "        vertical-align: middle;\n",
       "    }\n",
       "\n",
       "    .dataframe tbody tr th {\n",
       "        vertical-align: top;\n",
       "    }\n",
       "\n",
       "    .dataframe thead th {\n",
       "        text-align: right;\n",
       "    }\n",
       "</style>\n",
       "<table border=\"1\" class=\"dataframe\">\n",
       "  <thead>\n",
       "    <tr style=\"text-align: right;\">\n",
       "      <th></th>\n",
       "      <th>Experience</th>\n",
       "      <th>Training</th>\n",
       "      <th>Completed task_Yes</th>\n",
       "    </tr>\n",
       "  </thead>\n",
       "  <tbody>\n",
       "    <tr>\n",
       "      <th>70</th>\n",
       "      <td>5.6</td>\n",
       "      <td>4</td>\n",
       "      <td>0</td>\n",
       "    </tr>\n",
       "    <tr>\n",
       "      <th>71</th>\n",
       "      <td>5.9</td>\n",
       "      <td>8</td>\n",
       "      <td>0</td>\n",
       "    </tr>\n",
       "    <tr>\n",
       "      <th>72</th>\n",
       "      <td>6.4</td>\n",
       "      <td>6</td>\n",
       "      <td>0</td>\n",
       "    </tr>\n",
       "    <tr>\n",
       "      <th>73</th>\n",
       "      <td>3.8</td>\n",
       "      <td>4</td>\n",
       "      <td>0</td>\n",
       "    </tr>\n",
       "    <tr>\n",
       "      <th>74</th>\n",
       "      <td>5.3</td>\n",
       "      <td>4</td>\n",
       "      <td>0</td>\n",
       "    </tr>\n",
       "  </tbody>\n",
       "</table>\n",
       "</div>"
      ],
      "text/plain": [
       "    Experience  Training  Completed task_Yes\n",
       "70         5.6         4                   0\n",
       "71         5.9         8                   0\n",
       "72         6.4         6                   0\n",
       "73         3.8         4                   0\n",
       "74         5.3         4                   0"
      ]
     },
     "execution_count": 4,
     "metadata": {},
     "output_type": "execute_result"
    }
   ],
   "source": [
    "processed = pd.get_dummies(administrators, columns=['Completed task'], drop_first=True)\n",
    "processed.tail()"
   ]
  },
  {
   "cell_type": "code",
   "execution_count": 5,
   "metadata": {},
   "outputs": [
    {
     "name": "stdout",
     "output_type": "stream",
     "text": [
      "Confusion Matrix (Accuracy 0.9067)\n",
      "\n",
      "       Prediction\n",
      "Actual  0  1\n",
      "     0 58  2\n",
      "     1  5 10\n"
     ]
    },
    {
     "data": {
      "text/plain": [
       "0    60\n",
       "1    15\n",
       "Name: Completed task_Yes, dtype: int64"
      ]
     },
     "execution_count": 5,
     "metadata": {},
     "output_type": "execute_result"
    }
   ],
   "source": [
    "lda_reg = LinearDiscriminantAnalysis()\n",
    "lda_reg.fit(processed.drop(columns=['Completed task_Yes']), processed['Completed task_Yes'])\n",
    "\n",
    "classificationSummary(processed['Completed task_Yes'], \n",
    "                      lda_reg.predict(processed.drop(columns=['Completed task_Yes'])),\n",
    "                      class_names=lda_reg.classes_)\n",
    "processed['Completed task_Yes'].value_counts()"
   ]
  },
  {
   "cell_type": "markdown",
   "metadata": {},
   "source": [
    "#### What was the percentage of administrators who are classified incorrectly as failing to complete the tasks?\n",
    "#### 5 of the 75 were predicted to fail in completing the tasks but actually completed the task: 0.06667 or 6.6667%"
   ]
  },
  {
   "cell_type": "markdown",
   "metadata": {},
   "source": [
    "### Question 2 (4 points) Compute the two classification scores (the \"task completed\" classification score and the \"task not completed\" classification score) for an administrator with four months of experience and six credits of training. is this administrator classified as \"task not completed\" or \"task completed\"?"
   ]
  },
  {
   "cell_type": "code",
   "execution_count": 6,
   "metadata": {},
   "outputs": [
    {
     "data": {
      "text/html": [
       "<div>\n",
       "<style scoped>\n",
       "    .dataframe tbody tr th:only-of-type {\n",
       "        vertical-align: middle;\n",
       "    }\n",
       "\n",
       "    .dataframe tbody tr th {\n",
       "        vertical-align: top;\n",
       "    }\n",
       "\n",
       "    .dataframe thead th {\n",
       "        text-align: right;\n",
       "    }\n",
       "</style>\n",
       "<table border=\"1\" class=\"dataframe\">\n",
       "  <thead>\n",
       "    <tr style=\"text-align: right;\">\n",
       "      <th></th>\n",
       "      <th>Experience</th>\n",
       "      <th>Training</th>\n",
       "    </tr>\n",
       "  </thead>\n",
       "  <tbody>\n",
       "    <tr>\n",
       "      <th>0</th>\n",
       "      <td>4</td>\n",
       "      <td>6</td>\n",
       "    </tr>\n",
       "  </tbody>\n",
       "</table>\n",
       "</div>"
      ],
      "text/plain": [
       "   Experience  Training\n",
       "0           4         6"
      ]
     },
     "execution_count": 6,
     "metadata": {},
     "output_type": "execute_result"
    }
   ],
   "source": [
    "# intialise data of lists. \n",
    "data = {'Experience':[4], 'Training':[6]} \n",
    "  \n",
    "# Create DataFrame \n",
    "new_administrator = pd.DataFrame(data) \n",
    "  \n",
    "# Print the output. \n",
    "new_administrator "
   ]
  },
  {
   "cell_type": "code",
   "execution_count": 7,
   "metadata": {},
   "outputs": [
    {
     "data": {
      "text/plain": [
       "array([0], dtype=uint8)"
      ]
     },
     "execution_count": 7,
     "metadata": {},
     "output_type": "execute_result"
    }
   ],
   "source": [
    "lda_reg.predict(new_administrator)"
   ]
  },
  {
   "cell_type": "markdown",
   "metadata": {},
   "source": [
    "#### The new administrator is classified as \"task not completed\"."
   ]
  },
  {
   "cell_type": "markdown",
   "metadata": {},
   "source": [
    "### Question 3 (10 points) Now partition the original data into training and validation data (set the random_state=1), and run a discriminant analysis, AND a neural net. For each method, compare the training and validation results, and comment."
   ]
  },
  {
   "cell_type": "code",
   "execution_count": 8,
   "metadata": {},
   "outputs": [
    {
     "name": "stderr",
     "output_type": "stream",
     "text": [
      "C:\\Users\\jenkij\\AppData\\Local\\Continuum\\anaconda3\\lib\\site-packages\\sklearn\\preprocessing\\data.py:323: DataConversionWarning: Data with input dtype int64, float64 were all converted to float64 by MinMaxScaler.\n",
      "  return self.partial_fit(X, y)\n"
     ]
    }
   ],
   "source": [
    "# Read in data\n",
    "administrators = pd.read_csv('dmba\\SystemAdministrators.csv')\n",
    "\n",
    "processed = pd.get_dummies(administrators, columns=['Completed task'], drop_first=True)\n",
    "\n",
    "outcome = 'Completed task_Yes'\n",
    "\n",
    "predictors = [c for c in processed.columns if c != outcome]\n",
    "\n",
    "\n",
    "X = processed[predictors]\n",
    "scaler = MinMaxScaler(feature_range=(0, 1))\n",
    "rescaledX = scaler.fit_transform(X)\n",
    "X = rescaledX\n",
    "\n",
    "y = processed[outcome]\n",
    "minY = y.min()\n",
    "rangeY = (y.max() - y.min())\n",
    "# Transform the actual values to range [0, 1]\n",
    "y = (y - minY)/rangeY"
   ]
  },
  {
   "cell_type": "code",
   "execution_count": 9,
   "metadata": {},
   "outputs": [],
   "source": [
    "# split the data into training (60%) and validation (40%) datasets (use random_state=1).\n",
    "train_X, valid_X, train_y, valid_y = train_test_split(X, y, test_size=0.4, random_state=1)"
   ]
  },
  {
   "cell_type": "markdown",
   "metadata": {},
   "source": [
    "### Discriminant Analysis of the original data partitioned into training and validation data (set the random_state=1)"
   ]
  },
  {
   "cell_type": "code",
   "execution_count": 10,
   "metadata": {},
   "outputs": [
    {
     "data": {
      "text/plain": [
       "array([0., 0., 1., 0., 0., 0., 0., 0., 0., 0., 0., 0., 1., 0., 0., 1., 0.,\n",
       "       0., 0., 0., 0., 0., 1., 0., 0., 0., 0., 0., 1., 0.])"
      ]
     },
     "execution_count": 10,
     "metadata": {},
     "output_type": "execute_result"
    }
   ],
   "source": [
    "lda_reg = LinearDiscriminantAnalysis()\n",
    "lda_reg.fit(train_X, train_y)\n",
    "lda_reg.predict(valid_X)"
   ]
  },
  {
   "cell_type": "code",
   "execution_count": 11,
   "metadata": {},
   "outputs": [
    {
     "name": "stdout",
     "output_type": "stream",
     "text": [
      "Accuracy of the LDA predictions on the Training Set:\n",
      "Confusion Matrix (Accuracy 0.9111)\n",
      "\n",
      "       Prediction\n",
      "Actual  0  1\n",
      "     0 31  1\n",
      "     1  3 10\n",
      "\n",
      "Accuracy of the LDA predictions on the Validation Set:\n",
      "Confusion Matrix (Accuracy 0.9000)\n",
      "\n",
      "       Prediction\n",
      "Actual  0  1\n",
      "     0 25  3\n",
      "     1  0  2\n"
     ]
    }
   ],
   "source": [
    "print('Accuracy of the LDA predictions on the Training Set:')\n",
    "classificationSummary(train_y, lda_reg.predict(train_X))\n",
    "print('\\nAccuracy of the LDA predictions on the Validation Set:')\n",
    "classificationSummary(valid_y, lda_reg.predict(valid_X))"
   ]
  },
  {
   "cell_type": "markdown",
   "metadata": {},
   "source": [
    "#### Comments on the Linear Discriminant Analysis of the partition data:\n",
    "#### The Accuracy of the LDA predictions on the Training Set gave a Confusion Matrix with an Accuracy of 0.9111 -AND- the Accuracy of the LDA predictions on the Validation Set gave a Confusion Matrix with only a slightly lower Accuracy of 0.9000.  "
   ]
  },
  {
   "cell_type": "markdown",
   "metadata": {},
   "source": [
    "### Neural Network Analysis of the original data partitioned into training and validation data (set the random_state=1)"
   ]
  },
  {
   "cell_type": "code",
   "execution_count": 12,
   "metadata": {},
   "outputs": [
    {
     "name": "stdout",
     "output_type": "stream",
     "text": [
      "MLPRegressor(activation='logistic', alpha=0.0001, batch_size='auto',\n",
      "       beta_1=0.9, beta_2=0.999, early_stopping=False, epsilon=1e-08,\n",
      "       hidden_layer_sizes=(2,), learning_rate='constant',\n",
      "       learning_rate_init=0.001, max_iter=200, momentum=0.9,\n",
      "       n_iter_no_change=10, nesterovs_momentum=True, power_t=0.5,\n",
      "       random_state=1, shuffle=True, solver='lbfgs', tol=0.0001,\n",
      "       validation_fraction=0.1, verbose=False, warm_start=False)\n",
      "\n",
      "[-4.74464260e-03  1.39750558e-01  5.62102756e-01  8.95599359e-03\n",
      " -3.82694529e-03  4.72908299e-03  1.45555785e-02 -6.27220834e-03\n",
      " -8.05467241e-04  1.83843495e-02 -1.40956090e-02 -5.09695138e-03\n",
      "  9.91807166e-01  1.45555785e-02  1.15612203e-02  1.04146311e+00\n",
      " -1.74547512e-03 -5.63203384e-03  4.72908299e-03  4.14965549e-01\n",
      " -3.24020989e-03 -6.11042713e-03  7.64735751e-01  1.55764872e-03\n",
      "  2.04403022e-01  8.10452901e-02  3.74149949e-02  5.17355102e-02\n",
      "  6.42500103e-01  3.74580285e-02]\n"
     ]
    }
   ],
   "source": [
    "# use a single hidden layer with 2 nodes\n",
    "# train neural network with 2 hidden nodes\n",
    "clf = MLPRegressor(hidden_layer_sizes=(2, ), activation='logistic', solver='lbfgs',\n",
    "                    random_state=1)\n",
    "print(clf.fit(train_X, train_y))\n",
    "print()\n",
    "print(clf.predict(valid_X))"
   ]
  },
  {
   "cell_type": "code",
   "execution_count": 13,
   "metadata": {},
   "outputs": [
    {
     "name": "stdout",
     "output_type": "stream",
     "text": [
      "RMS error for the training data:\n",
      "\n",
      "Regression statistics\n",
      "\n",
      "                      Mean Error (ME) : -0.0000\n",
      "       Root Mean Squared Error (RMSE) : 0.2529\n",
      "            Mean Absolute Error (MAE) : 0.1361\n",
      "          Mean Percentage Error (MPE) : nan\n",
      "Mean Absolute Percentage Error (MAPE) : inf\n",
      "\n",
      "RMS error for the validation data:\n",
      "\n",
      "Regression statistics\n",
      "\n",
      "                      Mean Error (ME) : -0.0999\n",
      "       Root Mean Squared Error (RMSE) : 0.2899\n",
      "            Mean Absolute Error (MAE) : 0.1331\n",
      "          Mean Percentage Error (MPE) : nan\n",
      "Mean Absolute Percentage Error (MAPE) : inf\n"
     ]
    },
    {
     "name": "stderr",
     "output_type": "stream",
     "text": [
      "C:\\Users\\jenkij\\AppData\\Local\\Continuum\\anaconda3\\lib\\site-packages\\dmba\\metric.py:74: RuntimeWarning: divide by zero encountered in true_divide\n",
      "  ('Mean Percentage Error (MPE)', 100 * sum(y_res / y_true) / len(y_res)),\n",
      "C:\\Users\\jenkij\\AppData\\Local\\Continuum\\anaconda3\\lib\\site-packages\\dmba\\metric.py:74: RuntimeWarning: invalid value encountered in double_scalars\n",
      "  ('Mean Percentage Error (MPE)', 100 * sum(y_res / y_true) / len(y_res)),\n",
      "C:\\Users\\jenkij\\AppData\\Local\\Continuum\\anaconda3\\lib\\site-packages\\dmba\\metric.py:75: RuntimeWarning: divide by zero encountered in true_divide\n",
      "  ('Mean Absolute Percentage Error (MAPE)', 100 * sum(abs(y_res / y_true) / len(y_res))),\n",
      "C:\\Users\\jenkij\\AppData\\Local\\Continuum\\anaconda3\\lib\\site-packages\\dmba\\metric.py:74: RuntimeWarning: divide by zero encountered in true_divide\n",
      "  ('Mean Percentage Error (MPE)', 100 * sum(y_res / y_true) / len(y_res)),\n",
      "C:\\Users\\jenkij\\AppData\\Local\\Continuum\\anaconda3\\lib\\site-packages\\dmba\\metric.py:74: RuntimeWarning: invalid value encountered in double_scalars\n",
      "  ('Mean Percentage Error (MPE)', 100 * sum(y_res / y_true) / len(y_res)),\n",
      "C:\\Users\\jenkij\\AppData\\Local\\Continuum\\anaconda3\\lib\\site-packages\\dmba\\metric.py:75: RuntimeWarning: divide by zero encountered in true_divide\n",
      "  ('Mean Absolute Percentage Error (MAPE)', 100 * sum(abs(y_res / y_true) / len(y_res))),\n"
     ]
    }
   ],
   "source": [
    "# training\n",
    "print('RMS error for the training data:')\n",
    "regressionSummary(train_y, clf.predict(train_X))\n",
    "# validation\n",
    "print('\\nRMS error for the validation data:')\n",
    "regressionSummary(valid_y, clf.predict(valid_X))"
   ]
  },
  {
   "cell_type": "markdown",
   "metadata": {},
   "source": [
    "#### Comments on the Neural Network analysis of the partitioned data:\n",
    "#### The Neural Network containing a Single Hidden Layer with 2 Nodes provided a Root Mean Squared Error (RMSE)  of 0.2529 on the Training Set -AND- a slightly higher Root Mean Squared Error (RMSE) of 0.2899 on the Validation Set.\n"
   ]
  },
  {
   "cell_type": "markdown",
   "metadata": {},
   "source": [
    "### General Comments comparing the LDA vs. the Neural Network analysis\n",
    "\n",
    "#### Discriminant Analysis are based on calculating the statistical distance that accounts for the centroids, spreads and correlations between the predictors.  This stat distance requires a matrix inversion that is computationally expensive because it grows with the number of predictors and may take a long time to compute on large samples.  Conversely for Neural Networks, the number of layers and nodes per layer of a Neural Networks brings added complexity to a model.  Thus LDA, being the simplest of the 2 models would be the one to go with."
   ]
  }
 ],
 "metadata": {
  "kernelspec": {
   "display_name": "Python 3",
   "language": "python",
   "name": "python3"
  },
  "language_info": {
   "codemirror_mode": {
    "name": "ipython",
    "version": 3
   },
   "file_extension": ".py",
   "mimetype": "text/x-python",
   "name": "python",
   "nbconvert_exporter": "python",
   "pygments_lexer": "ipython3",
   "version": "3.6.8"
  }
 },
 "nbformat": 4,
 "nbformat_minor": 2
}
