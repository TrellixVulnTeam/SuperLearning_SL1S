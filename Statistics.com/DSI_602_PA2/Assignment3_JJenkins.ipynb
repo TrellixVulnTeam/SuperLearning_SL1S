{
 "cells": [
  {
   "cell_type": "markdown",
   "metadata": {},
   "source": [
    "## Scenario: The goal is to predict whether or not the auction will be competitive.\n",
    "\n",
    "## Data: The file eBayAuctions.csv contains information on 1972 auctions transacted on eBay.com during May–June 2004. The goal is to use these data to build a model that will distinguish competitive auctions from noncompetitive ones. A competitive auction is defined as an auction with at least two bids placed on the item being auctioned. The data include variables that describe the item (auction category), the seller (his or her eBay rating), and the auction terms that the seller selected (auction duration, opening price, currency, day of week of auction close). In addition, we have the price at which the auction closed.\n",
    "\n",
    "## Data preprocessing: Load the data and convert categorical variables to dummies. Split the data into training (60%) and validation (40%) sets (use random_state=1)."
   ]
  },
  {
   "cell_type": "code",
   "execution_count": 1,
   "metadata": {},
   "outputs": [
    {
     "name": "stdout",
     "output_type": "stream",
     "text": [
      "no display found. Using non-interactive Agg backend\n"
     ]
    }
   ],
   "source": [
    "%matplotlib inline\n",
    "\n",
    "from pathlib import Path\n",
    "\n",
    "import numpy as np\n",
    "import pandas as pd\n",
    "from sklearn.linear_model import LogisticRegression, LogisticRegressionCV\n",
    "from sklearn.model_selection import train_test_split\n",
    "import statsmodels.api as sm\n",
    "from mord import LogisticIT\n",
    "import matplotlib.pylab as plt\n",
    "import seaborn as sns\n",
    "from dmba import classificationSummary, gainsChart, liftChart\n",
    "from dmba.metric import AIC_score"
   ]
  },
  {
   "cell_type": "markdown",
   "metadata": {},
   "source": [
    "### Question 1 (5 points) Run a logistic regression with all predictors. Interpret the coefficients of the predictors. Look at the coefficients and identify categories that are most and least competitive."
   ]
  },
  {
   "cell_type": "code",
   "execution_count": 2,
   "metadata": {},
   "outputs": [
    {
     "data": {
      "text/html": [
       "<div>\n",
       "<style scoped>\n",
       "    .dataframe tbody tr th:only-of-type {\n",
       "        vertical-align: middle;\n",
       "    }\n",
       "\n",
       "    .dataframe tbody tr th {\n",
       "        vertical-align: top;\n",
       "    }\n",
       "\n",
       "    .dataframe thead th {\n",
       "        text-align: right;\n",
       "    }\n",
       "</style>\n",
       "<table border=\"1\" class=\"dataframe\">\n",
       "  <thead>\n",
       "    <tr style=\"text-align: right;\">\n",
       "      <th></th>\n",
       "      <th>Category</th>\n",
       "      <th>currency</th>\n",
       "      <th>sellerRating</th>\n",
       "      <th>Duration</th>\n",
       "      <th>endDay</th>\n",
       "      <th>ClosePrice</th>\n",
       "      <th>OpenPrice</th>\n",
       "      <th>Competitive?</th>\n",
       "    </tr>\n",
       "  </thead>\n",
       "  <tbody>\n",
       "    <tr>\n",
       "      <th>1957</th>\n",
       "      <td>Electronics</td>\n",
       "      <td>US</td>\n",
       "      <td>2358</td>\n",
       "      <td>5</td>\n",
       "      <td>Mon</td>\n",
       "      <td>202.50</td>\n",
       "      <td>199.99</td>\n",
       "      <td>1</td>\n",
       "    </tr>\n",
       "    <tr>\n",
       "      <th>1958</th>\n",
       "      <td>Books</td>\n",
       "      <td>US</td>\n",
       "      <td>155</td>\n",
       "      <td>7</td>\n",
       "      <td>Mon</td>\n",
       "      <td>421.00</td>\n",
       "      <td>99.99</td>\n",
       "      <td>1</td>\n",
       "    </tr>\n",
       "    <tr>\n",
       "      <th>1959</th>\n",
       "      <td>Automotive</td>\n",
       "      <td>US</td>\n",
       "      <td>2992</td>\n",
       "      <td>5</td>\n",
       "      <td>Sun</td>\n",
       "      <td>229.50</td>\n",
       "      <td>199.00</td>\n",
       "      <td>1</td>\n",
       "    </tr>\n",
       "    <tr>\n",
       "      <th>1960</th>\n",
       "      <td>Collectibles</td>\n",
       "      <td>US</td>\n",
       "      <td>862</td>\n",
       "      <td>5</td>\n",
       "      <td>Sat</td>\n",
       "      <td>219.00</td>\n",
       "      <td>219.00</td>\n",
       "      <td>0</td>\n",
       "    </tr>\n",
       "    <tr>\n",
       "      <th>1961</th>\n",
       "      <td>Automotive</td>\n",
       "      <td>US</td>\n",
       "      <td>374</td>\n",
       "      <td>7</td>\n",
       "      <td>Mon</td>\n",
       "      <td>545.00</td>\n",
       "      <td>100.00</td>\n",
       "      <td>1</td>\n",
       "    </tr>\n",
       "    <tr>\n",
       "      <th>1962</th>\n",
       "      <td>Automotive</td>\n",
       "      <td>US</td>\n",
       "      <td>0</td>\n",
       "      <td>10</td>\n",
       "      <td>Sun</td>\n",
       "      <td>590.00</td>\n",
       "      <td>99.00</td>\n",
       "      <td>1</td>\n",
       "    </tr>\n",
       "    <tr>\n",
       "      <th>1963</th>\n",
       "      <td>Automotive</td>\n",
       "      <td>EUR</td>\n",
       "      <td>4</td>\n",
       "      <td>10</td>\n",
       "      <td>Sun</td>\n",
       "      <td>780.89</td>\n",
       "      <td>122.97</td>\n",
       "      <td>1</td>\n",
       "    </tr>\n",
       "    <tr>\n",
       "      <th>1964</th>\n",
       "      <td>SportingGoods</td>\n",
       "      <td>US</td>\n",
       "      <td>1</td>\n",
       "      <td>7</td>\n",
       "      <td>Fri</td>\n",
       "      <td>417.99</td>\n",
       "      <td>200.00</td>\n",
       "      <td>1</td>\n",
       "    </tr>\n",
       "    <tr>\n",
       "      <th>1965</th>\n",
       "      <td>Automotive</td>\n",
       "      <td>US</td>\n",
       "      <td>97</td>\n",
       "      <td>3</td>\n",
       "      <td>Fri</td>\n",
       "      <td>290.00</td>\n",
       "      <td>290.00</td>\n",
       "      <td>0</td>\n",
       "    </tr>\n",
       "    <tr>\n",
       "      <th>1966</th>\n",
       "      <td>Automotive</td>\n",
       "      <td>US</td>\n",
       "      <td>142</td>\n",
       "      <td>7</td>\n",
       "      <td>Sat</td>\n",
       "      <td>521.55</td>\n",
       "      <td>200.00</td>\n",
       "      <td>1</td>\n",
       "    </tr>\n",
       "    <tr>\n",
       "      <th>1967</th>\n",
       "      <td>Automotive</td>\n",
       "      <td>US</td>\n",
       "      <td>2992</td>\n",
       "      <td>5</td>\n",
       "      <td>Sun</td>\n",
       "      <td>359.95</td>\n",
       "      <td>359.95</td>\n",
       "      <td>0</td>\n",
       "    </tr>\n",
       "    <tr>\n",
       "      <th>1968</th>\n",
       "      <td>Automotive</td>\n",
       "      <td>US</td>\n",
       "      <td>21</td>\n",
       "      <td>5</td>\n",
       "      <td>Sat</td>\n",
       "      <td>610.00</td>\n",
       "      <td>300.00</td>\n",
       "      <td>1</td>\n",
       "    </tr>\n",
       "    <tr>\n",
       "      <th>1969</th>\n",
       "      <td>Automotive</td>\n",
       "      <td>US</td>\n",
       "      <td>1400</td>\n",
       "      <td>5</td>\n",
       "      <td>Mon</td>\n",
       "      <td>549.00</td>\n",
       "      <td>549.00</td>\n",
       "      <td>0</td>\n",
       "    </tr>\n",
       "    <tr>\n",
       "      <th>1970</th>\n",
       "      <td>Automotive</td>\n",
       "      <td>US</td>\n",
       "      <td>57</td>\n",
       "      <td>7</td>\n",
       "      <td>Fri</td>\n",
       "      <td>820.00</td>\n",
       "      <td>650.00</td>\n",
       "      <td>1</td>\n",
       "    </tr>\n",
       "    <tr>\n",
       "      <th>1971</th>\n",
       "      <td>Automotive</td>\n",
       "      <td>US</td>\n",
       "      <td>145</td>\n",
       "      <td>7</td>\n",
       "      <td>Sat</td>\n",
       "      <td>999.00</td>\n",
       "      <td>999.00</td>\n",
       "      <td>0</td>\n",
       "    </tr>\n",
       "  </tbody>\n",
       "</table>\n",
       "</div>"
      ],
      "text/plain": [
       "           Category currency  sellerRating  Duration endDay  ClosePrice  \\\n",
       "1957    Electronics       US          2358         5    Mon      202.50   \n",
       "1958          Books       US           155         7    Mon      421.00   \n",
       "1959     Automotive       US          2992         5    Sun      229.50   \n",
       "1960   Collectibles       US           862         5    Sat      219.00   \n",
       "1961     Automotive       US           374         7    Mon      545.00   \n",
       "1962     Automotive       US             0        10    Sun      590.00   \n",
       "1963     Automotive      EUR             4        10    Sun      780.89   \n",
       "1964  SportingGoods       US             1         7    Fri      417.99   \n",
       "1965     Automotive       US            97         3    Fri      290.00   \n",
       "1966     Automotive       US           142         7    Sat      521.55   \n",
       "1967     Automotive       US          2992         5    Sun      359.95   \n",
       "1968     Automotive       US            21         5    Sat      610.00   \n",
       "1969     Automotive       US          1400         5    Mon      549.00   \n",
       "1970     Automotive       US            57         7    Fri      820.00   \n",
       "1971     Automotive       US           145         7    Sat      999.00   \n",
       "\n",
       "      OpenPrice  Competitive?  \n",
       "1957     199.99             1  \n",
       "1958      99.99             1  \n",
       "1959     199.00             1  \n",
       "1960     219.00             0  \n",
       "1961     100.00             1  \n",
       "1962      99.00             1  \n",
       "1963     122.97             1  \n",
       "1964     200.00             1  \n",
       "1965     290.00             0  \n",
       "1966     200.00             1  \n",
       "1967     359.95             0  \n",
       "1968     300.00             1  \n",
       "1969     549.00             0  \n",
       "1970     650.00             1  \n",
       "1971     999.00             0  "
      ]
     },
     "execution_count": 2,
     "metadata": {},
     "output_type": "execute_result"
    }
   ],
   "source": [
    "eBayAuctions = pd.read_csv('dmba\\eBayAuctions.csv')\n",
    "eBayAuctions.tail(15)\n"
   ]
  },
  {
   "cell_type": "code",
   "execution_count": 3,
   "metadata": {},
   "outputs": [
    {
     "name": "stdout",
     "output_type": "stream",
     "text": [
      "intercept  -0.6480357860302982\n",
      "             sellerRating  Duration  ClosePrice  OpenPrice  \\\n",
      "coefficient     -0.000043   0.02479    0.089703  -0.106879   \n",
      "\n",
      "             Category_Automotive  Category_Books  \\\n",
      "coefficient             -0.41175        0.399529   \n",
      "\n",
      "             Category_Business/Industrial  Category_Clothing/Accessories  \\\n",
      "coefficient                      0.969777                      -1.180215   \n",
      "\n",
      "             Category_Coins/Stamps  Category_Collectibles  ...  \\\n",
      "coefficient              -1.608725               0.026304  ...   \n",
      "\n",
      "             Category_SportingGoods  Category_Toys/Hobbies  currency_GBP  \\\n",
      "coefficient                0.003268               0.328014      1.339327   \n",
      "\n",
      "             currency_US  endDay_Mon  endDay_Sat  endDay_Sun  endDay_Thu  \\\n",
      "coefficient     0.561646    0.461497   -0.596305   -0.388919    -0.21247   \n",
      "\n",
      "             endDay_Tue  endDay_Wed  \n",
      "coefficient   -0.205604   -0.599631  \n",
      "\n",
      "[1 rows x 29 columns]\n",
      "\n",
      "AIC 1198.247029956375\n"
     ]
    }
   ],
   "source": [
    "eBayAuctions = pd.get_dummies(eBayAuctions, drop_first=True)\n",
    "\n",
    "y = eBayAuctions['Competitive?']\n",
    "X = eBayAuctions.drop(columns=['Competitive?'])\n",
    "\n",
    "eBayAuctions = pd.get_dummies(eBayAuctions, drop_first=True)\n",
    "\n",
    "# partition data\n",
    "train_X, valid_X, train_y, valid_y = train_test_split(X, y, test_size=0.4, random_state=1)\n",
    "\n",
    "# fit a logistic regression (set penalty=l2 and C=1e42 to avoid regularization)\n",
    "logit_reg = LogisticRegression(penalty=\"l2\", C=1e42, solver='liblinear')\n",
    "logit_reg.fit(train_X, train_y)\n",
    "\n",
    "print('intercept ', logit_reg.intercept_[0])\n",
    "print(pd.DataFrame({'coefficient': logit_reg.coef_[0]}, index=X.columns).transpose())\n",
    "print()\n",
    "print('AIC', AIC_score(valid_y, logit_reg.predict(valid_X), df = len(train_X.columns) + 1))"
   ]
  },
  {
   "cell_type": "code",
   "execution_count": null,
   "metadata": {},
   "outputs": [],
   "source": []
  },
  {
   "cell_type": "markdown",
   "metadata": {},
   "source": [
    "### Question 2 (3 points) Use your regression from Question 1 to make prediction in your validation set. How accurate are your predictions? Produce a confusion matrix on your validation set."
   ]
  },
  {
   "cell_type": "code",
   "execution_count": 4,
   "metadata": {},
   "outputs": [
    {
     "name": "stdout",
     "output_type": "stream",
     "text": [
      "Confusion Matrix (Accuracy 0.7819)\n",
      "\n",
      "       Prediction\n",
      "Actual   0   1\n",
      "     0 447 106\n",
      "     1 152 478\n",
      "Confusion Matrix (Accuracy 0.7529)\n",
      "\n",
      "       Prediction\n",
      "Actual   0   1\n",
      "     0 280  73\n",
      "     1 122 314\n"
     ]
    }
   ],
   "source": [
    "classificationSummary(train_y, logit_reg.predict(train_X))\n",
    "classificationSummary(valid_y, logit_reg.predict(valid_X))"
   ]
  },
  {
   "cell_type": "markdown",
   "metadata": {},
   "source": [
    "### Question 3 (5 points) If we want to predict at the start of an auction whether it will be competitive, we cannot use the information on the closing price. Run a logistic model with all predictors as above, excluding closing price. How does this model compare to the full model with respect to accurate prediction? Produce a confusion matrix, lift chart, and decile chart on the validation set using your model, excluding closing price."
   ]
  },
  {
   "cell_type": "code",
   "execution_count": 5,
   "metadata": {},
   "outputs": [
    {
     "name": "stdout",
     "output_type": "stream",
     "text": [
      "intercept  0.524977416568871\n",
      "             sellerRating  Duration  OpenPrice  Category_Automotive  \\\n",
      "coefficient     -0.000046  -0.04087  -0.004623            -0.709739   \n",
      "\n",
      "             Category_Books  Category_Business/Industrial  \\\n",
      "coefficient        -0.14076                       1.50015   \n",
      "\n",
      "             Category_Clothing/Accessories  Category_Coins/Stamps  \\\n",
      "coefficient                      -0.377092              -2.123841   \n",
      "\n",
      "             Category_Collectibles  Category_Computer  ...  \\\n",
      "coefficient               0.116217           0.328619  ...   \n",
      "\n",
      "             Category_SportingGoods  Category_Toys/Hobbies  currency_GBP  \\\n",
      "coefficient                1.201199               0.125088      1.454812   \n",
      "\n",
      "             currency_US  endDay_Mon  endDay_Sat  endDay_Sun  endDay_Thu  \\\n",
      "coefficient     0.053287    0.865671   -0.395339   -0.232491   -0.490532   \n",
      "\n",
      "             endDay_Tue  endDay_Wed  \n",
      "coefficient     -0.0137   -0.240777  \n",
      "\n",
      "[1 rows x 28 columns]\n",
      "\n",
      "AIC 1503.9261970768403\n"
     ]
    }
   ],
   "source": [
    "eBayAuctions = pd.read_csv('dmba\\eBayAuctions.csv')\n",
    "\n",
    "eBayAuctions = pd.get_dummies(eBayAuctions, drop_first=True)\n",
    "\n",
    "y = eBayAuctions['Competitive?']\n",
    "X = eBayAuctions.drop(columns=['ClosePrice', 'Competitive?'])\n",
    "\n",
    "# partition data\n",
    "train_X, valid_X, train_y, valid_y = train_test_split(X, y, test_size=0.4, random_state=1)\n",
    "\n",
    "# fit a logistic regression (set penalty=l2 and C=1e42 to avoid regularization)\n",
    "logit_reg = LogisticRegression(penalty=\"l2\", C=1e42, solver='liblinear')\n",
    "logit_reg.fit(train_X, train_y)\n",
    "\n",
    "print('intercept ', logit_reg.intercept_[0])\n",
    "print(pd.DataFrame({'coefficient': logit_reg.coef_[0]}, index=X.columns).transpose())\n",
    "print()\n",
    "print('AIC', AIC_score(valid_y, logit_reg.predict(valid_X), df = len(train_X.columns) + 1))"
   ]
  },
  {
   "cell_type": "markdown",
   "metadata": {},
   "source": [
    "#### Confusion Matrix on the validation set using your model, excluding closing price"
   ]
  },
  {
   "cell_type": "code",
   "execution_count": 6,
   "metadata": {},
   "outputs": [
    {
     "name": "stdout",
     "output_type": "stream",
     "text": [
      "Confusion Matrix (Accuracy 0.6754)\n",
      "\n",
      "       Prediction\n",
      "Actual   0   1\n",
      "     0 343 210\n",
      "     1 174 456\n",
      "Confusion Matrix (Accuracy 0.6350)\n",
      "\n",
      "       Prediction\n",
      "Actual   0   1\n",
      "     0 207 146\n",
      "     1 142 294\n"
     ]
    }
   ],
   "source": [
    "classificationSummary(train_y, logit_reg.predict(train_X))\n",
    "classificationSummary(valid_y, logit_reg.predict(valid_X))"
   ]
  },
  {
   "cell_type": "markdown",
   "metadata": {},
   "source": [
    "### Lift chart and Decile Chart on the validation set using your model, excluding closing price"
   ]
  },
  {
   "cell_type": "code",
   "execution_count": 7,
   "metadata": {},
   "outputs": [
    {
     "data": {
      "image/png": "[encoded data removed]",
      "text/plain": [
       "<Figure size 720x288 with 2 Axes>"
      ]
     },
     "metadata": {
      "needs_background": "light"
     },
     "output_type": "display_data"
    }
   ],
   "source": [
    "logit_reg_pred = logit_reg.predict(valid_X)\n",
    "logit_reg_proba = logit_reg.predict_proba(valid_X)\n",
    "logit_result = pd.DataFrame({'actual': valid_y, \n",
    "                             'p(0)': [p[0] for p in logit_reg_proba],\n",
    "                             'p(1)': [p[1] for p in logit_reg_proba],\n",
    "                             'predicted': logit_reg_pred })\n",
    "\n",
    "df = logit_result.sort_values(by=['p(1)'], ascending=False)\n",
    "fig, axes = plt.subplots(nrows=1, ncols=2, figsize=(10, 4))\n",
    "\n",
    "gainsChart(df.actual, ax=axes[0])\n",
    "liftChart(df['p(1)'], title=False, ax=axes[1])\n",
    "    \n",
    "plt.tight_layout()\n",
    "plt.show()"
   ]
  },
  {
   "cell_type": "markdown",
   "metadata": {},
   "source": [
    "#### Compared to the full model with respect to accurate prediction, the accuracy of both the training set and validation set for the model excluding closing price, 0.6754 and 0.6350 respectively, are lower than the accuracy of the training set and validation set for the model that included closing price, 0.7819 and 0.7529 respectively."
   ]
  },
  {
   "cell_type": "markdown",
   "metadata": {},
   "source": [
    "### Question 4 (2 points) Interpret the meaning of the coefficient for closing price. Does closing price have a practical significance?"
   ]
  },
  {
   "cell_type": "markdown",
   "metadata": {},
   "source": [
    "#### The coefficient of 0.089703 for the closing price implies that the closing price variable contributes positively to the response (i.e. competitiveness).  However, the fact that the closing price is not known at the start of the auction means we don't know what the closing prices will be and can not use closing price as a variable for our model to predict the competitiveness of our auction.  Therefore, there is no practical significance of closing price."
   ]
  }
 ],
 "metadata": {
  "kernelspec": {
   "display_name": "Python 3",
   "language": "python",
   "name": "python3"
  },
  "language_info": {
   "codemirror_mode": {
    "name": "ipython",
    "version": 3
   },
   "file_extension": ".py",
   "mimetype": "text/x-python",
   "name": "python",
   "nbconvert_exporter": "python",
   "pygments_lexer": "ipython3",
   "version": "3.6.8"
  }
 },
 "nbformat": 4,
 "nbformat_minor": 2
}
