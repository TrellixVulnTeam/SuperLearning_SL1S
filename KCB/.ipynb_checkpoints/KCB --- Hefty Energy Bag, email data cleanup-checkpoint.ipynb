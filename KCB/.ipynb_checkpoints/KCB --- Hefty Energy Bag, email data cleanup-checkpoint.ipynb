{
 "cells": [
  {
   "cell_type": "code",
   "execution_count": 1,
   "metadata": {},
   "outputs": [],
   "source": [
    "# import the libraries that I will need\n",
    "import numpy as np\n",
    "import pandas as pd"
   ]
  },
  {
   "cell_type": "code",
   "execution_count": 2,
   "metadata": {},
   "outputs": [],
   "source": [
    "# read in the total customer file\n",
    "total_customers = pd.read_csv('total_customers.csv')"
   ]
  },
  {
   "cell_type": "code",
   "execution_count": 3,
   "metadata": {},
   "outputs": [],
   "source": [
    "# make all values in customer name column all lower case and dropping rows with NaN values in the name column\n",
    "total_customers['name'] = total_customers['name'].str.lower()\n",
    "total_customers = total_customers.dropna(subset=['name'])"
   ]
  },
  {
   "cell_type": "code",
   "execution_count": 4,
   "metadata": {},
   "outputs": [],
   "source": [
    "# make all values in the email column all lower case  and dropping rows with NaN values in the email column\n",
    "total_customers['email'] = total_customers['email'].str.lower()\n",
    "total_customers = total_customers.dropna(subset=['email'])"
   ]
  },
  {
   "cell_type": "code",
   "execution_count": 5,
   "metadata": {},
   "outputs": [
    {
     "data": {
      "text/html": [
       "<div>\n",
       "<style scoped>\n",
       "    .dataframe tbody tr th:only-of-type {\n",
       "        vertical-align: middle;\n",
       "    }\n",
       "\n",
       "    .dataframe tbody tr th {\n",
       "        vertical-align: top;\n",
       "    }\n",
       "\n",
       "    .dataframe thead th {\n",
       "        text-align: right;\n",
       "    }\n",
       "</style>\n",
       "<table border=\"1\" class=\"dataframe\">\n",
       "  <thead>\n",
       "    <tr style=\"text-align: right;\">\n",
       "      <th></th>\n",
       "      <th>name</th>\n",
       "      <th>email</th>\n",
       "    </tr>\n",
       "  </thead>\n",
       "  <tbody>\n",
       "    <tr>\n",
       "      <th>0</th>\n",
       "      <td>edward mcalpine</td>\n",
       "      <td>6mcalpine@bellsouth.net</td>\n",
       "    </tr>\n",
       "    <tr>\n",
       "      <th>1</th>\n",
       "      <td>richard hatcher</td>\n",
       "      <td>aaronhatcher@hotmail.com</td>\n",
       "    </tr>\n",
       "    <tr>\n",
       "      <th>2</th>\n",
       "      <td>richard hatcher</td>\n",
       "      <td>aaronhatcher@hotmail.com</td>\n",
       "    </tr>\n",
       "    <tr>\n",
       "      <th>3</th>\n",
       "      <td>alyssa martin</td>\n",
       "      <td>alyssa_martin14@att.net</td>\n",
       "    </tr>\n",
       "    <tr>\n",
       "      <th>4</th>\n",
       "      <td>allison gidden</td>\n",
       "      <td>amkgiddens@gmail.com</td>\n",
       "    </tr>\n",
       "  </tbody>\n",
       "</table>\n",
       "</div>"
      ],
      "text/plain": [
       "              name                      email\n",
       "0  edward mcalpine    6mcalpine@bellsouth.net\n",
       "1  richard hatcher   aaronhatcher@hotmail.com\n",
       "2  richard hatcher   aaronhatcher@hotmail.com\n",
       "3    alyssa martin    alyssa_martin14@att.net\n",
       "4   allison gidden       amkgiddens@gmail.com"
      ]
     },
     "execution_count": 5,
     "metadata": {},
     "output_type": "execute_result"
    }
   ],
   "source": [
    "# print out the first 5 rows to see what the data looks like\n",
    "total_customers.head()"
   ]
  },
  {
   "cell_type": "code",
   "execution_count": 6,
   "metadata": {},
   "outputs": [
    {
     "data": {
      "text/html": [
       "<div>\n",
       "<style scoped>\n",
       "    .dataframe tbody tr th:only-of-type {\n",
       "        vertical-align: middle;\n",
       "    }\n",
       "\n",
       "    .dataframe tbody tr th {\n",
       "        vertical-align: top;\n",
       "    }\n",
       "\n",
       "    .dataframe thead th {\n",
       "        text-align: right;\n",
       "    }\n",
       "</style>\n",
       "<table border=\"1\" class=\"dataframe\">\n",
       "  <thead>\n",
       "    <tr style=\"text-align: right;\">\n",
       "      <th></th>\n",
       "      <th>name</th>\n",
       "      <th>email</th>\n",
       "    </tr>\n",
       "  </thead>\n",
       "  <tbody>\n",
       "    <tr>\n",
       "      <th>36225</th>\n",
       "      <td>zachary youmans</td>\n",
       "      <td>zyoumans60@hotmail.com</td>\n",
       "    </tr>\n",
       "    <tr>\n",
       "      <th>36226</th>\n",
       "      <td>zalika dozier</td>\n",
       "      <td>zyoung04@gmail.com</td>\n",
       "    </tr>\n",
       "    <tr>\n",
       "      <th>36227</th>\n",
       "      <td>zebunnisa butt</td>\n",
       "      <td>zzb73@hotmail.com</td>\n",
       "    </tr>\n",
       "    <tr>\n",
       "      <th>36228</th>\n",
       "      <td>zoraida norton</td>\n",
       "      <td>zzultra1@gmail.com</td>\n",
       "    </tr>\n",
       "    <tr>\n",
       "      <th>36229</th>\n",
       "      <td>carol adams</td>\n",
       "      <td>zzz117zzz@hotmail.com</td>\n",
       "    </tr>\n",
       "  </tbody>\n",
       "</table>\n",
       "</div>"
      ],
      "text/plain": [
       "                  name                   email\n",
       "36225  zachary youmans  zyoumans60@hotmail.com\n",
       "36226    zalika dozier      zyoung04@gmail.com\n",
       "36227   zebunnisa butt       zzb73@hotmail.com\n",
       "36228   zoraida norton      zzultra1@gmail.com\n",
       "36229      carol adams   zzz117zzz@hotmail.com"
      ]
     },
     "execution_count": 6,
     "metadata": {},
     "output_type": "execute_result"
    }
   ],
   "source": [
    "total_customers.tail()"
   ]
  },
  {
   "cell_type": "code",
   "execution_count": 7,
   "metadata": {},
   "outputs": [
    {
     "data": {
      "text/plain": [
       "36229"
      ]
     },
     "execution_count": 7,
     "metadata": {},
     "output_type": "execute_result"
    }
   ],
   "source": [
    "# print total # of customers in the total customer data frame\n",
    "len(total_customers)"
   ]
  },
  {
   "cell_type": "code",
   "execution_count": 8,
   "metadata": {},
   "outputs": [],
   "source": [
    "# read in the said yes file\n",
    "said_yes = pd.read_csv('said_yes.csv')"
   ]
  },
  {
   "cell_type": "code",
   "execution_count": 9,
   "metadata": {},
   "outputs": [
    {
     "data": {
      "text/plain": [
       "5246"
      ]
     },
     "execution_count": 9,
     "metadata": {},
     "output_type": "execute_result"
    }
   ],
   "source": [
    "# print the total number that have said yes\n",
    "len(said_yes)"
   ]
  },
  {
   "cell_type": "code",
   "execution_count": 10,
   "metadata": {},
   "outputs": [
    {
     "data": {
      "text/html": [
       "<div>\n",
       "<style scoped>\n",
       "    .dataframe tbody tr th:only-of-type {\n",
       "        vertical-align: middle;\n",
       "    }\n",
       "\n",
       "    .dataframe tbody tr th {\n",
       "        vertical-align: top;\n",
       "    }\n",
       "\n",
       "    .dataframe thead th {\n",
       "        text-align: right;\n",
       "    }\n",
       "</style>\n",
       "<table border=\"1\" class=\"dataframe\">\n",
       "  <thead>\n",
       "    <tr style=\"text-align: right;\">\n",
       "      <th></th>\n",
       "      <th>name</th>\n",
       "      <th>email</th>\n",
       "    </tr>\n",
       "  </thead>\n",
       "  <tbody>\n",
       "    <tr>\n",
       "      <th>0</th>\n",
       "      <td>Mike Lee</td>\n",
       "      <td>mike.lee@cobbis.org</td>\n",
       "    </tr>\n",
       "    <tr>\n",
       "      <th>1</th>\n",
       "      <td>AikWah Leow</td>\n",
       "      <td>aleow@cobbcounty.org</td>\n",
       "    </tr>\n",
       "    <tr>\n",
       "      <th>2</th>\n",
       "      <td>Dawn  Smith</td>\n",
       "      <td>dawn.smith@cobbcounty.org</td>\n",
       "    </tr>\n",
       "    <tr>\n",
       "      <th>3</th>\n",
       "      <td>Kimberly White</td>\n",
       "      <td>Kimberly.White@cobbcounty.org</td>\n",
       "    </tr>\n",
       "    <tr>\n",
       "      <th>4</th>\n",
       "      <td>CLARK GOLDBAND</td>\n",
       "      <td>clark.goldband@turner.com</td>\n",
       "    </tr>\n",
       "  </tbody>\n",
       "</table>\n",
       "</div>"
      ],
      "text/plain": [
       "             name                          email\n",
       "0        Mike Lee            mike.lee@cobbis.org\n",
       "1     AikWah Leow           aleow@cobbcounty.org\n",
       "2     Dawn  Smith      dawn.smith@cobbcounty.org\n",
       "3  Kimberly White  Kimberly.White@cobbcounty.org\n",
       "4  CLARK GOLDBAND      clark.goldband@turner.com"
      ]
     },
     "execution_count": 10,
     "metadata": {},
     "output_type": "execute_result"
    }
   ],
   "source": [
    "# modify the said yes data frame to just show the name and email columns\n",
    "said_yes_mod = said_yes[['name', 'email']].copy()\n",
    "said_yes_mod.head()"
   ]
  },
  {
   "cell_type": "code",
   "execution_count": 11,
   "metadata": {},
   "outputs": [
    {
     "data": {
      "text/html": [
       "<div>\n",
       "<style scoped>\n",
       "    .dataframe tbody tr th:only-of-type {\n",
       "        vertical-align: middle;\n",
       "    }\n",
       "\n",
       "    .dataframe tbody tr th {\n",
       "        vertical-align: top;\n",
       "    }\n",
       "\n",
       "    .dataframe thead th {\n",
       "        text-align: right;\n",
       "    }\n",
       "</style>\n",
       "<table border=\"1\" class=\"dataframe\">\n",
       "  <thead>\n",
       "    <tr style=\"text-align: right;\">\n",
       "      <th></th>\n",
       "      <th>name</th>\n",
       "      <th>email</th>\n",
       "    </tr>\n",
       "  </thead>\n",
       "  <tbody>\n",
       "    <tr>\n",
       "      <th>0</th>\n",
       "      <td>mike lee</td>\n",
       "      <td>mike.lee@cobbis.org</td>\n",
       "    </tr>\n",
       "    <tr>\n",
       "      <th>1</th>\n",
       "      <td>aikwah leow</td>\n",
       "      <td>aleow@cobbcounty.org</td>\n",
       "    </tr>\n",
       "    <tr>\n",
       "      <th>2</th>\n",
       "      <td>dawn  smith</td>\n",
       "      <td>dawn.smith@cobbcounty.org</td>\n",
       "    </tr>\n",
       "    <tr>\n",
       "      <th>3</th>\n",
       "      <td>kimberly white</td>\n",
       "      <td>kimberly.white@cobbcounty.org</td>\n",
       "    </tr>\n",
       "    <tr>\n",
       "      <th>4</th>\n",
       "      <td>clark goldband</td>\n",
       "      <td>clark.goldband@turner.com</td>\n",
       "    </tr>\n",
       "  </tbody>\n",
       "</table>\n",
       "</div>"
      ],
      "text/plain": [
       "             name                          email\n",
       "0        mike lee            mike.lee@cobbis.org\n",
       "1     aikwah leow           aleow@cobbcounty.org\n",
       "2     dawn  smith      dawn.smith@cobbcounty.org\n",
       "3  kimberly white  kimberly.white@cobbcounty.org\n",
       "4  clark goldband      clark.goldband@turner.com"
      ]
     },
     "execution_count": 11,
     "metadata": {},
     "output_type": "execute_result"
    }
   ],
   "source": [
    "# make all values in the name and email columns all lower case and dropping NaNs in the name and email columns\n",
    "said_yes_mod['name'] = said_yes_mod['name'].str.lower()\n",
    "said_yes_mod = said_yes_mod.dropna(subset=['name'])\n",
    "said_yes_mod['email'] = said_yes_mod['email'].str.lower()\n",
    "said_yes_mod = said_yes_mod.dropna(subset=['email'])\n",
    "said_yes_mod.head()"
   ]
  },
  {
   "cell_type": "code",
   "execution_count": 12,
   "metadata": {},
   "outputs": [
    {
     "data": {
      "text/plain": [
       "5246"
      ]
     },
     "execution_count": 12,
     "metadata": {},
     "output_type": "execute_result"
    }
   ],
   "source": [
    "# print the total in the modified said yes data frame, should be the same as the unmodified\n",
    "len(said_yes_mod)"
   ]
  },
  {
   "cell_type": "code",
   "execution_count": 19,
   "metadata": {},
   "outputs": [
    {
     "data": {
      "text/plain": [
       "5150"
      ]
     },
     "execution_count": 19,
     "metadata": {},
     "output_type": "execute_result"
    }
   ],
   "source": [
    "said_yes_mod_check = said_yes_mod.drop_duplicates(['email'], keep='first')\n",
    "len(said_yes_mod_check)"
   ]
  },
  {
   "cell_type": "code",
   "execution_count": 20,
   "metadata": {},
   "outputs": [
    {
     "data": {
      "text/plain": [
       "96"
      ]
     },
     "execution_count": 20,
     "metadata": {},
     "output_type": "execute_result"
    }
   ],
   "source": [
    "len(said_yes_mod) - len(said_yes_mod_check)"
   ]
  },
  {
   "cell_type": "code",
   "execution_count": 13,
   "metadata": {},
   "outputs": [
    {
     "data": {
      "text/plain": [
       "True"
      ]
     },
     "execution_count": 13,
     "metadata": {},
     "output_type": "execute_result"
    }
   ],
   "source": [
    "# confirm the 2 data frames are the same thing (i.e. comparing apples to apples)\n",
    "type(total_customers) == type(said_yes_mod)"
   ]
  },
  {
   "cell_type": "code",
   "execution_count": 14,
   "metadata": {},
   "outputs": [
    {
     "data": {
      "text/html": [
       "<div>\n",
       "<style scoped>\n",
       "    .dataframe tbody tr th:only-of-type {\n",
       "        vertical-align: middle;\n",
       "    }\n",
       "\n",
       "    .dataframe tbody tr th {\n",
       "        vertical-align: top;\n",
       "    }\n",
       "\n",
       "    .dataframe thead th {\n",
       "        text-align: right;\n",
       "    }\n",
       "</style>\n",
       "<table border=\"1\" class=\"dataframe\">\n",
       "  <thead>\n",
       "    <tr style=\"text-align: right;\">\n",
       "      <th></th>\n",
       "      <th>name</th>\n",
       "      <th>email</th>\n",
       "    </tr>\n",
       "  </thead>\n",
       "  <tbody>\n",
       "    <tr>\n",
       "      <th>0</th>\n",
       "      <td>edward mcalpine</td>\n",
       "      <td>6mcalpine@bellsouth.net</td>\n",
       "    </tr>\n",
       "    <tr>\n",
       "      <th>1</th>\n",
       "      <td>richard hatcher</td>\n",
       "      <td>aaronhatcher@hotmail.com</td>\n",
       "    </tr>\n",
       "    <tr>\n",
       "      <th>2</th>\n",
       "      <td>richard hatcher</td>\n",
       "      <td>aaronhatcher@hotmail.com</td>\n",
       "    </tr>\n",
       "    <tr>\n",
       "      <th>3</th>\n",
       "      <td>alyssa martin</td>\n",
       "      <td>alyssa_martin14@att.net</td>\n",
       "    </tr>\n",
       "    <tr>\n",
       "      <th>4</th>\n",
       "      <td>allison gidden</td>\n",
       "      <td>amkgiddens@gmail.com</td>\n",
       "    </tr>\n",
       "  </tbody>\n",
       "</table>\n",
       "</div>"
      ],
      "text/plain": [
       "              name                      email\n",
       "0  edward mcalpine    6mcalpine@bellsouth.net\n",
       "1  richard hatcher   aaronhatcher@hotmail.com\n",
       "2  richard hatcher   aaronhatcher@hotmail.com\n",
       "3    alyssa martin    alyssa_martin14@att.net\n",
       "4   allison gidden       amkgiddens@gmail.com"
      ]
     },
     "execution_count": 14,
     "metadata": {},
     "output_type": "execute_result"
    }
   ],
   "source": [
    "still_available_rough = total_customers[~total_customers['email'].isin(said_yes_mod['email'])].dropna(how='all')\n",
    "still_available_rough = still_available_rough[['name', 'email']].copy()\n",
    "still_available_rough.head()"
   ]
  },
  {
   "cell_type": "code",
   "execution_count": 15,
   "metadata": {},
   "outputs": [
    {
     "data": {
      "text/plain": [
       "32753"
      ]
     },
     "execution_count": 15,
     "metadata": {},
     "output_type": "execute_result"
    }
   ],
   "source": [
    "len(still_available_rough)"
   ]
  },
  {
   "cell_type": "code",
   "execution_count": 16,
   "metadata": {},
   "outputs": [
    {
     "data": {
      "text/plain": [
       "32145"
      ]
     },
     "execution_count": 16,
     "metadata": {},
     "output_type": "execute_result"
    }
   ],
   "source": [
    "still_available = still_available_rough.drop_duplicates(['email'], keep='first')\n",
    "len(still_available)"
   ]
  },
  {
   "cell_type": "code",
   "execution_count": 17,
   "metadata": {},
   "outputs": [
    {
     "name": "stdout",
     "output_type": "stream",
     "text": [
      "There were some other duplications going on because the difference in what I showed as the inital total, 36229 versus the number I initially showed as still available 32753 was 3476.\n",
      "\n",
      "I found another 608 duplicates that were in the  initial total.\n",
      "After removing these duplicates we were left with 32145 customers that should be hit this round.\n",
      "\n",
      "So the total difference between what American Disposal showed as the initial total 36229 and the actual number still available 32145 is 4084.\n",
      "\n"
     ]
    }
   ],
   "source": [
    "# So you know what's going on\n",
    "print(\"There were some other duplications going on because the difference in what I showed as the inital total, \" \n",
    "      + str(len(total_customers)) + \" versus the number I initially showed as still available \"\n",
    "     + str(len(still_available_rough)) + \" was \" + str(len(total_customers) - len(still_available_rough)) + \".\\n\")\n",
    "print(\"I found another \" + str(len(still_available_rough) - len(still_available)) + \" duplicates that were in the \"\n",
    "     + \" initial total.\") \n",
    "print(\"After removing these duplicates we were left with \" + str(len(still_available))\n",
    "     + \" customers that should be hit this round\" + \".\\n\")\n",
    "print(\"So the total difference between what American Disposal showed as the initial total \" \n",
    "     + str(len(total_customers)) + \" and the actual number still available \"\n",
    "     + str(len(still_available)) + \" is \" + str(len(total_customers)-len(still_available)) + \".\\n\")"
   ]
  },
  {
   "cell_type": "code",
   "execution_count": 18,
   "metadata": {},
   "outputs": [],
   "source": [
    "# outputting to an excel spreadsheet\n",
    "writer = pd.ExcelWriter('still_available.xlsx')\n",
    "still_available.to_excel(writer, 'Sheet1')\n",
    "writer.save()"
   ]
  },
  {
   "cell_type": "code",
   "execution_count": null,
   "metadata": {},
   "outputs": [],
   "source": []
  }
 ],
 "metadata": {
  "kernelspec": {
   "display_name": "Python 3",
   "language": "python",
   "name": "python3"
  },
  "language_info": {
   "codemirror_mode": {
    "name": "ipython",
    "version": 3
   },
   "file_extension": ".py",
   "mimetype": "text/x-python",
   "name": "python",
   "nbconvert_exporter": "python",
   "pygments_lexer": "ipython3",
   "version": "3.6.6"
  }
 },
 "nbformat": 4,
 "nbformat_minor": 2
}
