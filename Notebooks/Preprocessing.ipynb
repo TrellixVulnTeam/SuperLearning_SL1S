{
 "cells": [
  {
   "cell_type": "code",
   "execution_count": 3,
   "metadata": {
    "collapsed": true
   },
   "outputs": [],
   "source": [
    "import numpy as np\n",
    "import pandas as pd\n",
    "import matplotlib.pyplot as plt\n",
    "%matplotlib inline  "
   ]
  },
  {
   "cell_type": "markdown",
   "metadata": {},
   "source": [
    "# Preprocessing:\n",
    "\n",
    "* The need to pre process depends a lot on the model itself\n",
    "    1. Trees are less sensitive to predictors\n",
    "    2. Linear Regression is more sensitive\n",
    "* An understanding of the data and problem is critical\n",
    "    1. For what might be important and feature encoding\n",
    "    2. Example supposed you have a date. This can be encoded as month, time since a date, season, etc\n",
    "* Usually deleting, adding, or transforming data\n",
    "\n",
    "## Transforming Predictors:\n",
    "\n",
    "* Centering: Subtract average from each predictor\n",
    "    1. Improves stability\n",
    "    2. Centers to mean zero\n",
    "    3. Loss of interprebility\n",
    "    4. Good for certain models\n",
    "* Scaling: Divide by Standard Deviation\n",
    "    1. Improves stability\n",
    "    2. Standard deviation of 1\n",
    "    3. Loss of interprebility\n",
    "    4. Good for certain models\n",
    "* Skew: Data that is not symetric\n",
    "    1. This is important for some models\n",
    "    2. Trees are less sensitive than other models\n",
    "    3. Log, inverse, and sqrt are used to help\n",
    "    4. Box Cox transformation is learned from the data"
   ]
  },
  {
   "cell_type": "code",
   "execution_count": 7,
   "metadata": {
    "collapsed": false
   },
   "outputs": [
    {
     "data": {
      "text/plain": [
       "(-20, 20)"
      ]
     },
     "execution_count": 7,
     "metadata": {},
     "output_type": "execute_result"
    },
    {
     "data": {
      "image/png": "[encoded data removed]",
      "text/plain": [
       "<matplotlib.figure.Figure at 0x10a30f590>"
      ]
     },
     "metadata": {},
     "output_type": "display_data"
    }
   ],
   "source": [
    "mu = 0\n",
    "sigma = 1\n",
    "data = np.random.lognormal(mu, sigma, 2000)\n",
    "plt.hist(data, bins = 300)\n",
    "plt.xlim(-20,20)"
   ]
  },
  {
   "cell_type": "code",
   "execution_count": 14,
   "metadata": {
    "collapsed": false
   },
   "outputs": [
    {
     "data": {
      "text/plain": [
       "(-5, 5)"
      ]
     },
     "execution_count": 14,
     "metadata": {},
     "output_type": "execute_result"
    },
    {
     "data": {
      "image/png": "[encoded data removed]",
      "text/plain": [
       "<matplotlib.figure.Figure at 0x10c338cd0>"
      ]
     },
     "metadata": {},
     "output_type": "display_data"
    }
   ],
   "source": [
    "import math\n",
    "plt.hist(map(math.log, data), bins = 300)\n",
    "plt.xlim(-5,5)"
   ]
  },
  {
   "cell_type": "code",
   "execution_count": 22,
   "metadata": {
    "collapsed": false,
    "scrolled": true
   },
   "outputs": [
    {
     "data": {
      "text/plain": [
       "(array([   2.,   12.,   62.,  243.,  410.,  553.,  416.,  215.,   76.,   11.]),\n",
       " array([-3.6709363 , -2.99253643, -2.31413656, -1.63573669, -0.95733681,\n",
       "        -0.27893694,  0.39946293,  1.0778628 ,  1.75626267,  2.43466254,\n",
       "         3.11306241]),\n",
       " <a list of 10 Patch objects>)"
      ]
     },
     "execution_count": 22,
     "metadata": {},
     "output_type": "execute_result"
    },
    {
     "data": {
      "image/png": "[encoded data removed]",
      "text/plain": [
       "<matplotlib.figure.Figure at 0x10aed3590>"
      ]
     },
     "metadata": {},
     "output_type": "display_data"
    }
   ],
   "source": [
    "from scipy import stats\n",
    "plt.hist(stats.boxcox(data)[0])"
   ]
  },
  {
   "cell_type": "markdown",
   "metadata": {},
   "source": [
    "## Outliers\n",
    "\n",
    "* Are they valid?\n",
    "* Do we have enough data? \n",
    "    1. If small then it could be an under represented skewed dataset\n",
    "    2. It could be a small, under represented popultion, cluster\n",
    "* Trees and SVMs are usually more resistant than others\n",
    "* Remove\n",
    "* Transform (Spatial Sign)"
   ]
  },
  {
   "cell_type": "markdown",
   "metadata": {},
   "source": [
    "# Missing Values\n",
    "\n",
    "* Why is it missing? \n",
    "    1. Randomly or non Random\n",
    "    2. Structurally: People rate products they're strongly opinionated on.\n",
    "    3. Censored: Something is known. Length a movie is rented but hasn't been returned yet\n",
    "\n",
    "* Some models can handle missing values (Trees)\n",
    "* Can impute: \n",
    "    1. Mean, Median, etc. Any issues with this?\n",
    "    2. Build a model to predict\n",
    "    3. Utilize strongly correlated predictors\n",
    "    4. KNNm\n",
    "    \n",
    "# Removing Predictors\n",
    "\n",
    "* Decrease dimension\n",
    "* Decrease computation\n",
    "* Decrease complexity\n",
    "* Remove highly correlated predictors"
   ]
  },
  {
   "cell_type": "code",
   "execution_count": null,
   "metadata": {
    "collapsed": true
   },
   "outputs": [],
   "source": []
  }
 ],
 "metadata": {
  "kernelspec": {
   "display_name": "Python 2",
   "language": "python",
   "name": "python2"
  },
  "language_info": {
   "codemirror_mode": {
    "name": "ipython",
    "version": 2
   },
   "file_extension": ".py",
   "mimetype": "text/x-python",
   "name": "python",
   "nbconvert_exporter": "python",
   "pygments_lexer": "ipython2",
   "version": "2.7.10"
  }
 },
 "nbformat": 4,
 "nbformat_minor": 0
}
